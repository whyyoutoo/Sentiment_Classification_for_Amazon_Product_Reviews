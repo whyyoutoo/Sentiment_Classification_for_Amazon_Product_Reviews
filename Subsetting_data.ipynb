{
 "cells": [
  {
   "cell_type": "markdown",
   "metadata": {},
   "source": [
    "# Captone Project Submission\n",
    "\n",
    "Please fill out:\n",
    "* Student name: Wesley Yu\n",
    "* Student pace: Flex\n",
    "* Scheduled project review date/time: May 03, 2023 / 3:30 PM\n",
    "* Instructor name: Abhineet Kulkarni\n",
    "* Blog post URL:https://github.com/whyyoutoo/Sentiment_Classification_for_Amazon_Product_Reviews\n",
    "\n",
    "\n",
    "# Merging and Subsetting Data\n",
    "\n",
    "Grabbing asins that contain heaphone or earphone in their title."
   ]
  },
  {
   "cell_type": "code",
   "execution_count": 20,
   "metadata": {},
   "outputs": [],
   "source": [
    "# importing nesseccary libraries\n",
    "import pandas as pd\n",
    "import json\n",
    "import gzip\n",
    "import numpy as np"
   ]
  },
  {
   "cell_type": "code",
   "execution_count": 2,
   "metadata": {},
   "outputs": [],
   "source": [
    "# read in data to pandas dataframe as per instructions\n",
    "def parse(path):\n",
    "  g = gzip.open(path, 'rb')\n",
    "  for l in g:\n",
    "    yield json.loads(l)\n",
    "\n",
    "def getDF(path):\n",
    "  i = 0\n",
    "  df = {}\n",
    "  for d in parse(path):\n",
    "    df[i] = d\n",
    "    i += 1\n",
    "  return pd.DataFrame.from_dict(df, orient='index')\n",
    "\n",
    "df = getDF('data/Electronics_5.json.gz')"
   ]
  },
  {
   "cell_type": "code",
   "execution_count": null,
   "metadata": {},
   "outputs": [],
   "source": [
    "# read in data to pandas dataframe\n",
    "def parse(path):\n",
    "  g = gzip.open(path, 'rb')\n",
    "  for l in g:\n",
    "    yield json.loads(l)\n",
    "\n",
    "def getDF(path):\n",
    "  i = 0\n",
    "  df = {}\n",
    "  for d in parse(path):\n",
    "    df[i] = d\n",
    "    i += 1\n",
    "  return pd.DataFrame.from_dict(df, orient='index')\n",
    "\n",
    "df2 = getDF('data/meta_Electronics.json.gz')"
   ]
  },
  {
   "cell_type": "code",
   "execution_count": null,
   "metadata": {},
   "outputs": [],
   "source": [
    "df2.info()"
   ]
  },
  {
   "cell_type": "code",
   "execution_count": null,
   "metadata": {},
   "outputs": [],
   "source": [
    "df2.head()"
   ]
  },
  {
   "cell_type": "code",
   "execution_count": null,
   "metadata": {},
   "outputs": [],
   "source": [
    "# convert listing names to lowercase\n",
    "df2.title = df2.title.apply(lambda x: x.lower())"
   ]
  },
  {
   "cell_type": "code",
   "execution_count": null,
   "metadata": {},
   "outputs": [],
   "source": [
    "# filter products with only heaphone or earpone in listing\n",
    "product_df = df2[df2.title.str.contains('headphone|headphone|earphone|earphones')]"
   ]
  },
  {
   "cell_type": "code",
   "execution_count": null,
   "metadata": {},
   "outputs": [],
   "source": [
    "# product_df.to_csv('data/meta_products.csv', index = False)"
   ]
  },
  {
   "cell_type": "code",
   "execution_count": 6,
   "metadata": {},
   "outputs": [],
   "source": [
    "product_df = pd.read_csv('data/meta_products.csv')"
   ]
  },
  {
   "cell_type": "code",
   "execution_count": null,
   "metadata": {},
   "outputs": [],
   "source": [
    "df.info()"
   ]
  },
  {
   "cell_type": "code",
   "execution_count": null,
   "metadata": {},
   "outputs": [],
   "source": [
    "df.head()"
   ]
  },
  {
   "cell_type": "code",
   "execution_count": 8,
   "metadata": {},
   "outputs": [],
   "source": [
    "merged = df.merge(product_df, on = 'asin')"
   ]
  },
  {
   "cell_type": "code",
   "execution_count": 9,
   "metadata": {},
   "outputs": [
    {
     "name": "stdout",
     "output_type": "stream",
     "text": [
      "<class 'pandas.core.frame.DataFrame'>\n",
      "Int64Index: 471228 entries, 0 to 471227\n",
      "Data columns (total 30 columns):\n",
      " #   Column           Non-Null Count   Dtype  \n",
      "---  ------           --------------   -----  \n",
      " 0   overall          471228 non-null  float64\n",
      " 1   vote             65135 non-null   object \n",
      " 2   verified         471228 non-null  bool   \n",
      " 3   reviewTime       471228 non-null  object \n",
      " 4   reviewerID       471228 non-null  object \n",
      " 5   asin             471228 non-null  object \n",
      " 6   style            294015 non-null  object \n",
      " 7   reviewerName     471157 non-null  object \n",
      " 8   reviewText       471168 non-null  object \n",
      " 9   summary          471148 non-null  object \n",
      " 10  unixReviewTime   471228 non-null  int64  \n",
      " 11  image            9026 non-null    object \n",
      " 12  category         471228 non-null  object \n",
      " 13  tech1            24660 non-null   object \n",
      " 14  description      471228 non-null  object \n",
      " 15  fit              22 non-null      object \n",
      " 16  title            471228 non-null  object \n",
      " 17  also_buy         471228 non-null  object \n",
      " 18  tech2            1748 non-null    object \n",
      " 19  brand            470872 non-null  object \n",
      " 20  feature          471228 non-null  object \n",
      " 21  rank             471228 non-null  object \n",
      " 22  also_view        471228 non-null  object \n",
      " 23  main_cat         471155 non-null  object \n",
      " 24  similar_item     359275 non-null  object \n",
      " 25  date             326078 non-null  object \n",
      " 26  price            281489 non-null  object \n",
      " 27  imageURL         471228 non-null  object \n",
      " 28  imageURLHighRes  471228 non-null  object \n",
      " 29  details          471179 non-null  object \n",
      "dtypes: bool(1), float64(1), int64(1), object(27)\n",
      "memory usage: 108.3+ MB\n"
     ]
    }
   ],
   "source": [
    "merged.info()"
   ]
  },
  {
   "cell_type": "code",
   "execution_count": 10,
   "metadata": {},
   "outputs": [
    {
     "data": {
      "text/plain": [
       "B000067RC4    3758\n",
       "B00004T8R2    3414\n",
       "B004WODP20    3119\n",
       "B00BN0N0LW    3106\n",
       "B0002H02ZY    3062\n",
       "              ... \n",
       "B00H3Q7MUA       3\n",
       "B00180GZBY       2\n",
       "B00172PW62       2\n",
       "B0015AM39K       2\n",
       "B0014AWALM       2\n",
       "Name: asin, Length: 9089, dtype: int64"
      ]
     },
     "execution_count": 10,
     "metadata": {},
     "output_type": "execute_result"
    }
   ],
   "source": [
    "merged.asin.value_counts()"
   ]
  },
  {
   "cell_type": "code",
   "execution_count": 11,
   "metadata": {},
   "outputs": [],
   "source": [
    "merged.to_csv('data/headphone_reviews.csv', index = False)"
   ]
  },
  {
   "cell_type": "code",
   "execution_count": 22,
   "metadata": {},
   "outputs": [],
   "source": [
    "df = pd.read_csv('data/headphone_reviews.csv', dtype={'vote': 'str', 'fit': 'str', 'tech2':'str'})"
   ]
  }
 ],
 "metadata": {
  "kernelspec": {
   "display_name": "Python (learn-env)",
   "language": "python",
   "name": "learn-env"
  },
  "language_info": {
   "codemirror_mode": {
    "name": "ipython",
    "version": 3
   },
   "file_extension": ".py",
   "mimetype": "text/x-python",
   "name": "python",
   "nbconvert_exporter": "python",
   "pygments_lexer": "ipython3",
   "version": "3.8.5"
  }
 },
 "nbformat": 4,
 "nbformat_minor": 4
}
