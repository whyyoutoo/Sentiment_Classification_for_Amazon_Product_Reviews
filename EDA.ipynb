{
 "cells": [
  {
   "cell_type": "markdown",
   "metadata": {},
   "source": [
    "# Buisness Problem\n"
   ]
  },
  {
   "cell_type": "markdown",
   "metadata": {},
   "source": [
    "# Data Understanding"
   ]
  },
  {
   "cell_type": "markdown",
   "metadata": {},
   "source": [
    "# Data Preperation"
   ]
  },
  {
   "cell_type": "code",
   "execution_count": 31,
   "metadata": {},
   "outputs": [],
   "source": [
    "import pandas as pd\n",
    "import numpy as np\n",
    "import json\n",
    "\n",
    "import matplotlib.pyplot as plt\n",
    "import seaborn as sns\n",
    "\n",
    "import gzip\n",
    "from nltk import word_tokenize\n",
    "\n",
    "from nltk.sentiment import SentimentIntensityAnalyzer\n",
    "\n",
    "import re\n",
    "import spacy\n",
    "nlp = spacy.load('en_core_web_sm', disable=['parser', 'ner'])\n",
    "\n",
    "\n",
    "from sklearn.feature_extraction.text import CountVectorizer\n",
    "\n",
    "import gensim\n",
    "import gensim.corpora as corpora\n",
    "\n",
    "from gensim.models import CoherenceModel\n",
    "from gensim.models.phrases import Phrases, Phraser\n",
    "\n",
    "import pyLDAvis\n",
    "import pyLDAvis.gensim_models\n",
    "\n",
    "import warnings\n",
    "warnings.filterwarnings(\"ignore\",category=DeprecationWarning)"
   ]
  },
  {
   "cell_type": "code",
   "execution_count": null,
   "metadata": {},
   "outputs": [],
   "source": [
    "from IPython.core.display import display, HTML\n",
    "display(HTML(\"<style>.container { max-width:100% !important; }</style>\"))\n",
    "display(HTML(\"<style>.output_result { max-width:100% !important; }</style>\"))\n",
    "display(HTML(\"<style>.output_area { max-width:100% !important; }</style>\"))\n",
    "display(HTML(\"<style>.input_area { max-width:100% !important; }</style>\"))"
   ]
  },
  {
   "cell_type": "markdown",
   "metadata": {},
   "source": [
    "## Subsetting data"
   ]
  },
  {
   "cell_type": "markdown",
   "metadata": {},
   "source": [
    "## Initial Pre-processing"
   ]
  },
  {
   "cell_type": "markdown",
   "metadata": {},
   "source": [
    "# Data Exploration"
   ]
  },
  {
   "cell_type": "markdown",
   "metadata": {},
   "source": [
    "## EDA"
   ]
  },
  {
   "cell_type": "code",
   "execution_count": 3,
   "metadata": {},
   "outputs": [],
   "source": [
    "df = pd.read_csv('data/reviews_subset.csv')"
   ]
  },
  {
   "cell_type": "code",
   "execution_count": 4,
   "metadata": {},
   "outputs": [
    {
     "data": {
      "text/html": [
       "<div>\n",
       "<style scoped>\n",
       "    .dataframe tbody tr th:only-of-type {\n",
       "        vertical-align: middle;\n",
       "    }\n",
       "\n",
       "    .dataframe tbody tr th {\n",
       "        vertical-align: top;\n",
       "    }\n",
       "\n",
       "    .dataframe thead th {\n",
       "        text-align: right;\n",
       "    }\n",
       "</style>\n",
       "<table border=\"1\" class=\"dataframe\">\n",
       "  <thead>\n",
       "    <tr style=\"text-align: right;\">\n",
       "      <th></th>\n",
       "      <th>overall</th>\n",
       "      <th>reviewText</th>\n",
       "      <th>verified</th>\n",
       "      <th>asin</th>\n",
       "      <th>brand</th>\n",
       "      <th>title</th>\n",
       "    </tr>\n",
       "  </thead>\n",
       "  <tbody>\n",
       "    <tr>\n",
       "      <th>0</th>\n",
       "      <td>4.0</td>\n",
       "      <td>I bought this lens for my Rebel 2000 camera an...</td>\n",
       "      <td>False</td>\n",
       "      <td>B00004THD0</td>\n",
       "      <td>Canon</td>\n",
       "      <td>Canon EF 75-300mm f/4-5.6 III Telephoto Zoom L...</td>\n",
       "    </tr>\n",
       "    <tr>\n",
       "      <th>1</th>\n",
       "      <td>4.0</td>\n",
       "      <td>Canon EF Lenses Have A Built In AF Motor..Comp...</td>\n",
       "      <td>False</td>\n",
       "      <td>B00004THD0</td>\n",
       "      <td>Canon</td>\n",
       "      <td>Canon EF 75-300mm f/4-5.6 III Telephoto Zoom L...</td>\n",
       "    </tr>\n",
       "    <tr>\n",
       "      <th>2</th>\n",
       "      <td>5.0</td>\n",
       "      <td>I bought this lens about six months after repl...</td>\n",
       "      <td>False</td>\n",
       "      <td>B00004THD0</td>\n",
       "      <td>Canon</td>\n",
       "      <td>Canon EF 75-300mm f/4-5.6 III Telephoto Zoom L...</td>\n",
       "    </tr>\n",
       "    <tr>\n",
       "      <th>3</th>\n",
       "      <td>5.0</td>\n",
       "      <td>Bought this as a replacement and it was worth ...</td>\n",
       "      <td>True</td>\n",
       "      <td>B00004THD0</td>\n",
       "      <td>Canon</td>\n",
       "      <td>Canon EF 75-300mm f/4-5.6 III Telephoto Zoom L...</td>\n",
       "    </tr>\n",
       "    <tr>\n",
       "      <th>4</th>\n",
       "      <td>5.0</td>\n",
       "      <td>good</td>\n",
       "      <td>True</td>\n",
       "      <td>B00004THD0</td>\n",
       "      <td>Canon</td>\n",
       "      <td>Canon EF 75-300mm f/4-5.6 III Telephoto Zoom L...</td>\n",
       "    </tr>\n",
       "  </tbody>\n",
       "</table>\n",
       "</div>"
      ],
      "text/plain": [
       "   overall                                         reviewText  verified  \\\n",
       "0      4.0  I bought this lens for my Rebel 2000 camera an...     False   \n",
       "1      4.0  Canon EF Lenses Have A Built In AF Motor..Comp...     False   \n",
       "2      5.0  I bought this lens about six months after repl...     False   \n",
       "3      5.0  Bought this as a replacement and it was worth ...      True   \n",
       "4      5.0                                               good      True   \n",
       "\n",
       "         asin  brand                                              title  \n",
       "0  B00004THD0  Canon  Canon EF 75-300mm f/4-5.6 III Telephoto Zoom L...  \n",
       "1  B00004THD0  Canon  Canon EF 75-300mm f/4-5.6 III Telephoto Zoom L...  \n",
       "2  B00004THD0  Canon  Canon EF 75-300mm f/4-5.6 III Telephoto Zoom L...  \n",
       "3  B00004THD0  Canon  Canon EF 75-300mm f/4-5.6 III Telephoto Zoom L...  \n",
       "4  B00004THD0  Canon  Canon EF 75-300mm f/4-5.6 III Telephoto Zoom L...  "
      ]
     },
     "execution_count": 4,
     "metadata": {},
     "output_type": "execute_result"
    }
   ],
   "source": [
    "df.head()"
   ]
  },
  {
   "cell_type": "code",
   "execution_count": 5,
   "metadata": {},
   "outputs": [
    {
     "name": "stdout",
     "output_type": "stream",
     "text": [
      "<class 'pandas.core.frame.DataFrame'>\n",
      "RangeIndex: 129592 entries, 0 to 129591\n",
      "Data columns (total 6 columns):\n",
      " #   Column      Non-Null Count   Dtype  \n",
      "---  ------      --------------   -----  \n",
      " 0   overall     129592 non-null  float64\n",
      " 1   reviewText  129550 non-null  object \n",
      " 2   verified    129592 non-null  bool   \n",
      " 3   asin        129592 non-null  object \n",
      " 4   brand       129592 non-null  object \n",
      " 5   title       129592 non-null  object \n",
      "dtypes: bool(1), float64(1), object(4)\n",
      "memory usage: 5.1+ MB\n"
     ]
    }
   ],
   "source": [
    "df.info()"
   ]
  },
  {
   "cell_type": "code",
   "execution_count": 5,
   "metadata": {},
   "outputs": [
    {
     "data": {
      "text/plain": [
       "overall        0\n",
       "reviewText    42\n",
       "verified       0\n",
       "asin           0\n",
       "brand          0\n",
       "title          0\n",
       "dtype: int64"
      ]
     },
     "execution_count": 5,
     "metadata": {},
     "output_type": "execute_result"
    }
   ],
   "source": [
    "df.isna().sum()"
   ]
  },
  {
   "cell_type": "code",
   "execution_count": 6,
   "metadata": {},
   "outputs": [],
   "source": [
    "df.dropna(inplace = True)"
   ]
  },
  {
   "cell_type": "code",
   "execution_count": 7,
   "metadata": {},
   "outputs": [
    {
     "data": {
      "text/plain": [
       "overall       0\n",
       "reviewText    0\n",
       "verified      0\n",
       "asin          0\n",
       "brand         0\n",
       "title         0\n",
       "dtype: int64"
      ]
     },
     "execution_count": 7,
     "metadata": {},
     "output_type": "execute_result"
    }
   ],
   "source": [
    "df.isna().sum()"
   ]
  },
  {
   "cell_type": "code",
   "execution_count": null,
   "metadata": {},
   "outputs": [],
   "source": []
  },
  {
   "cell_type": "code",
   "execution_count": 7,
   "metadata": {},
   "outputs": [
    {
     "data": {
      "text/plain": [
       "5.0    0.673987\n",
       "4.0    0.171764\n",
       "3.0    0.070853\n",
       "1.0    0.047781\n",
       "2.0    0.035616\n",
       "Name: overall, dtype: float64"
      ]
     },
     "execution_count": 7,
     "metadata": {},
     "output_type": "execute_result"
    }
   ],
   "source": [
    "df.overall.value_counts(normalize = True)"
   ]
  },
  {
   "cell_type": "code",
   "execution_count": null,
   "metadata": {},
   "outputs": [],
   "source": []
  },
  {
   "cell_type": "code",
   "execution_count": null,
   "metadata": {},
   "outputs": [],
   "source": [
    "ax = df.overall.value_counts().sort_index().plot(kind = 'bar',\n",
    "                                            title = 'Count by Review Star',\n",
    "                                            figsize = (10,5))\n",
    "ax.set_xlabel('Review Stars');\n"
   ]
  },
  {
   "cell_type": "code",
   "execution_count": null,
   "metadata": {},
   "outputs": [],
   "source": [
    "df.verified.value_counts()"
   ]
  },
  {
   "cell_type": "code",
   "execution_count": null,
   "metadata": {},
   "outputs": [],
   "source": [
    "sns.barplot(data = df, x = 'verified', y = 'overall')"
   ]
  },
  {
   "cell_type": "code",
   "execution_count": null,
   "metadata": {},
   "outputs": [],
   "source": [
    "df.brand.value_counts()"
   ]
  },
  {
   "cell_type": "code",
   "execution_count": null,
   "metadata": {},
   "outputs": [],
   "source": [
    "dfg = df.groupby('brand')['overall'].mean().sort_values(ascending = False)"
   ]
  },
  {
   "cell_type": "code",
   "execution_count": null,
   "metadata": {},
   "outputs": [],
   "source": [
    "fig, ax = plt.subplots(figsize = (10,30))\n",
    "ax = sns.barplot(x = dfg.values, y = dfg.index, orient = 'h')"
   ]
  },
  {
   "cell_type": "code",
   "execution_count": null,
   "metadata": {},
   "outputs": [],
   "source": []
  },
  {
   "cell_type": "code",
   "execution_count": null,
   "metadata": {},
   "outputs": [],
   "source": []
  },
  {
   "cell_type": "markdown",
   "metadata": {},
   "source": [
    "## Sentiment Validation of Star Ratings"
   ]
  },
  {
   "cell_type": "code",
   "execution_count": null,
   "metadata": {},
   "outputs": [],
   "source": [
    "sia = SentimentIntensityAnalyzer()"
   ]
  },
  {
   "cell_type": "code",
   "execution_count": null,
   "metadata": {},
   "outputs": [],
   "source": [
    "df.reviewText[0]"
   ]
  },
  {
   "cell_type": "code",
   "execution_count": null,
   "metadata": {},
   "outputs": [],
   "source": [
    "df.overall[0]"
   ]
  },
  {
   "cell_type": "code",
   "execution_count": null,
   "metadata": {},
   "outputs": [],
   "source": [
    "sia.polarity_scores(df.reviewText[0])"
   ]
  },
  {
   "cell_type": "code",
   "execution_count": null,
   "metadata": {},
   "outputs": [],
   "source": [
    "sent_val_df = df.copy()"
   ]
  },
  {
   "cell_type": "code",
   "execution_count": null,
   "metadata": {},
   "outputs": [],
   "source": [
    "sent_val_df['compound'] = [sia.polarity_scores(str(x))['compound'] for x in df['reviewText']]\n",
    "sent_val_df['neg'] = [sia.polarity_scores(str(x))['neg'] for x in df['reviewText']]\n",
    "sent_val_df['neu'] = [sia.polarity_scores(str(x))['neu'] for x in df['reviewText']]\n",
    "sent_val_df['pos'] = [sia.polarity_scores(str(x))['pos'] for x in df['reviewText']]"
   ]
  },
  {
   "cell_type": "code",
   "execution_count": null,
   "metadata": {},
   "outputs": [],
   "source": [
    "sent_val_df.head()"
   ]
  },
  {
   "cell_type": "code",
   "execution_count": null,
   "metadata": {},
   "outputs": [],
   "source": [
    "ax = sns.barplot(data = sent_val_df, x = 'overall', y = 'compound')"
   ]
  },
  {
   "cell_type": "code",
   "execution_count": null,
   "metadata": {},
   "outputs": [],
   "source": [
    "fig, axs = plt.subplots(1, 3, figsize=(15,5))\n",
    "sns.barplot(data = sent_val_df, x = 'overall', y = 'pos', ax = axs[0])\n",
    "sns.barplot(data = sent_val_df, x = 'overall', y = 'neu', ax = axs[1])\n",
    "sns.barplot(data = sent_val_df, x = 'overall', y = 'neg', ax = axs[2])\n",
    "axs[0].set_title('Positive')\n",
    "axs[1].set_title('Neutral')\n",
    "axs[2].set_title('Negative');"
   ]
  },
  {
   "cell_type": "code",
   "execution_count": 8,
   "metadata": {},
   "outputs": [],
   "source": [
    "def label_encode(x):\n",
    "    if x <= 3:\n",
    "        return 0\n",
    "    if x > 3:\n",
    "        return 1"
   ]
  },
  {
   "cell_type": "code",
   "execution_count": 9,
   "metadata": {},
   "outputs": [],
   "source": [
    "df[\"sentiment\"] = df[\"overall\"].apply(lambda x: label_encode(x))"
   ]
  },
  {
   "cell_type": "code",
   "execution_count": 10,
   "metadata": {},
   "outputs": [
    {
     "data": {
      "text/plain": [
       "1    0.845751\n",
       "0    0.154249\n",
       "Name: sentiment, dtype: float64"
      ]
     },
     "execution_count": 10,
     "metadata": {},
     "output_type": "execute_result"
    }
   ],
   "source": [
    "df['sentiment'].value_counts(normalize = True)"
   ]
  },
  {
   "cell_type": "markdown",
   "metadata": {},
   "source": [
    "## Text Exploration"
   ]
  },
  {
   "cell_type": "markdown",
   "metadata": {},
   "source": []
  },
  {
   "cell_type": "code",
   "execution_count": null,
   "metadata": {},
   "outputs": [],
   "source": []
  },
  {
   "cell_type": "code",
   "execution_count": 11,
   "metadata": {},
   "outputs": [],
   "source": [
    "def word_count(text):\n",
    "    return len(word_tokenize(text))\n",
    "\n",
    "def char_count(text):\n",
    "    text_without_spaces = text.replace(\" \", \"\")\n",
    "    return len(text_without_spaces)"
   ]
  },
  {
   "cell_type": "code",
   "execution_count": 12,
   "metadata": {},
   "outputs": [],
   "source": [
    "df['word_count'] = df.reviewText.apply(lambda x: word_count(x))\n",
    "df['review_len'] = df.reviewText.apply(lambda x: char_count(x))"
   ]
  },
  {
   "cell_type": "code",
   "execution_count": null,
   "metadata": {},
   "outputs": [],
   "source": []
  },
  {
   "cell_type": "code",
   "execution_count": 13,
   "metadata": {},
   "outputs": [
    {
     "data": {
      "text/html": [
       "<div>\n",
       "<style scoped>\n",
       "    .dataframe tbody tr th:only-of-type {\n",
       "        vertical-align: middle;\n",
       "    }\n",
       "\n",
       "    .dataframe tbody tr th {\n",
       "        vertical-align: top;\n",
       "    }\n",
       "\n",
       "    .dataframe thead th {\n",
       "        text-align: right;\n",
       "    }\n",
       "</style>\n",
       "<table border=\"1\" class=\"dataframe\">\n",
       "  <thead>\n",
       "    <tr style=\"text-align: right;\">\n",
       "      <th></th>\n",
       "      <th>overall</th>\n",
       "      <th>reviewText</th>\n",
       "      <th>verified</th>\n",
       "      <th>asin</th>\n",
       "      <th>brand</th>\n",
       "      <th>title</th>\n",
       "      <th>sentiment</th>\n",
       "      <th>word_count</th>\n",
       "      <th>review_len</th>\n",
       "    </tr>\n",
       "  </thead>\n",
       "  <tbody>\n",
       "    <tr>\n",
       "      <th>0</th>\n",
       "      <td>4.0</td>\n",
       "      <td>I bought this lens for my Rebel 2000 camera an...</td>\n",
       "      <td>False</td>\n",
       "      <td>B00004THD0</td>\n",
       "      <td>Canon</td>\n",
       "      <td>Canon EF 75-300mm f/4-5.6 III Telephoto Zoom L...</td>\n",
       "      <td>1</td>\n",
       "      <td>54</td>\n",
       "      <td>207</td>\n",
       "    </tr>\n",
       "    <tr>\n",
       "      <th>1</th>\n",
       "      <td>4.0</td>\n",
       "      <td>Canon EF Lenses Have A Built In AF Motor..Comp...</td>\n",
       "      <td>False</td>\n",
       "      <td>B00004THD0</td>\n",
       "      <td>Canon</td>\n",
       "      <td>Canon EF 75-300mm f/4-5.6 III Telephoto Zoom L...</td>\n",
       "      <td>1</td>\n",
       "      <td>211</td>\n",
       "      <td>952</td>\n",
       "    </tr>\n",
       "    <tr>\n",
       "      <th>2</th>\n",
       "      <td>5.0</td>\n",
       "      <td>I bought this lens about six months after repl...</td>\n",
       "      <td>False</td>\n",
       "      <td>B00004THD0</td>\n",
       "      <td>Canon</td>\n",
       "      <td>Canon EF 75-300mm f/4-5.6 III Telephoto Zoom L...</td>\n",
       "      <td>1</td>\n",
       "      <td>191</td>\n",
       "      <td>727</td>\n",
       "    </tr>\n",
       "    <tr>\n",
       "      <th>3</th>\n",
       "      <td>5.0</td>\n",
       "      <td>Bought this as a replacement and it was worth ...</td>\n",
       "      <td>True</td>\n",
       "      <td>B00004THD0</td>\n",
       "      <td>Canon</td>\n",
       "      <td>Canon EF 75-300mm f/4-5.6 III Telephoto Zoom L...</td>\n",
       "      <td>1</td>\n",
       "      <td>30</td>\n",
       "      <td>112</td>\n",
       "    </tr>\n",
       "    <tr>\n",
       "      <th>4</th>\n",
       "      <td>5.0</td>\n",
       "      <td>good</td>\n",
       "      <td>True</td>\n",
       "      <td>B00004THD0</td>\n",
       "      <td>Canon</td>\n",
       "      <td>Canon EF 75-300mm f/4-5.6 III Telephoto Zoom L...</td>\n",
       "      <td>1</td>\n",
       "      <td>1</td>\n",
       "      <td>4</td>\n",
       "    </tr>\n",
       "  </tbody>\n",
       "</table>\n",
       "</div>"
      ],
      "text/plain": [
       "   overall                                         reviewText  verified  \\\n",
       "0      4.0  I bought this lens for my Rebel 2000 camera an...     False   \n",
       "1      4.0  Canon EF Lenses Have A Built In AF Motor..Comp...     False   \n",
       "2      5.0  I bought this lens about six months after repl...     False   \n",
       "3      5.0  Bought this as a replacement and it was worth ...      True   \n",
       "4      5.0                                               good      True   \n",
       "\n",
       "         asin  brand                                              title  \\\n",
       "0  B00004THD0  Canon  Canon EF 75-300mm f/4-5.6 III Telephoto Zoom L...   \n",
       "1  B00004THD0  Canon  Canon EF 75-300mm f/4-5.6 III Telephoto Zoom L...   \n",
       "2  B00004THD0  Canon  Canon EF 75-300mm f/4-5.6 III Telephoto Zoom L...   \n",
       "3  B00004THD0  Canon  Canon EF 75-300mm f/4-5.6 III Telephoto Zoom L...   \n",
       "4  B00004THD0  Canon  Canon EF 75-300mm f/4-5.6 III Telephoto Zoom L...   \n",
       "\n",
       "   sentiment  word_count  review_len  \n",
       "0          1          54         207  \n",
       "1          1         211         952  \n",
       "2          1         191         727  \n",
       "3          1          30         112  \n",
       "4          1           1           4  "
      ]
     },
     "execution_count": 13,
     "metadata": {},
     "output_type": "execute_result"
    }
   ],
   "source": [
    "df.head()"
   ]
  },
  {
   "cell_type": "code",
   "execution_count": 14,
   "metadata": {},
   "outputs": [],
   "source": [
    "text_stats_df = df[['reviewText', 'sentiment', 'word_count', 'review_len']].copy()"
   ]
  },
  {
   "cell_type": "code",
   "execution_count": 15,
   "metadata": {},
   "outputs": [
    {
     "data": {
      "text/html": [
       "<div>\n",
       "<style scoped>\n",
       "    .dataframe tbody tr th:only-of-type {\n",
       "        vertical-align: middle;\n",
       "    }\n",
       "\n",
       "    .dataframe tbody tr th {\n",
       "        vertical-align: top;\n",
       "    }\n",
       "\n",
       "    .dataframe thead th {\n",
       "        text-align: right;\n",
       "    }\n",
       "</style>\n",
       "<table border=\"1\" class=\"dataframe\">\n",
       "  <thead>\n",
       "    <tr style=\"text-align: right;\">\n",
       "      <th></th>\n",
       "      <th>reviewText</th>\n",
       "      <th>sentiment</th>\n",
       "      <th>word_count</th>\n",
       "      <th>review_len</th>\n",
       "    </tr>\n",
       "  </thead>\n",
       "  <tbody>\n",
       "    <tr>\n",
       "      <th>0</th>\n",
       "      <td>I bought this lens for my Rebel 2000 camera an...</td>\n",
       "      <td>1</td>\n",
       "      <td>54</td>\n",
       "      <td>207</td>\n",
       "    </tr>\n",
       "    <tr>\n",
       "      <th>1</th>\n",
       "      <td>Canon EF Lenses Have A Built In AF Motor..Comp...</td>\n",
       "      <td>1</td>\n",
       "      <td>211</td>\n",
       "      <td>952</td>\n",
       "    </tr>\n",
       "    <tr>\n",
       "      <th>2</th>\n",
       "      <td>I bought this lens about six months after repl...</td>\n",
       "      <td>1</td>\n",
       "      <td>191</td>\n",
       "      <td>727</td>\n",
       "    </tr>\n",
       "    <tr>\n",
       "      <th>3</th>\n",
       "      <td>Bought this as a replacement and it was worth ...</td>\n",
       "      <td>1</td>\n",
       "      <td>30</td>\n",
       "      <td>112</td>\n",
       "    </tr>\n",
       "    <tr>\n",
       "      <th>4</th>\n",
       "      <td>good</td>\n",
       "      <td>1</td>\n",
       "      <td>1</td>\n",
       "      <td>4</td>\n",
       "    </tr>\n",
       "  </tbody>\n",
       "</table>\n",
       "</div>"
      ],
      "text/plain": [
       "                                          reviewText  sentiment  word_count  \\\n",
       "0  I bought this lens for my Rebel 2000 camera an...          1          54   \n",
       "1  Canon EF Lenses Have A Built In AF Motor..Comp...          1         211   \n",
       "2  I bought this lens about six months after repl...          1         191   \n",
       "3  Bought this as a replacement and it was worth ...          1          30   \n",
       "4                                               good          1           1   \n",
       "\n",
       "   review_len  \n",
       "0         207  \n",
       "1         952  \n",
       "2         727  \n",
       "3         112  \n",
       "4           4  "
      ]
     },
     "execution_count": 15,
     "metadata": {},
     "output_type": "execute_result"
    }
   ],
   "source": [
    "text_stats_df.head()"
   ]
  },
  {
   "cell_type": "code",
   "execution_count": null,
   "metadata": {},
   "outputs": [],
   "source": [
    "text_stats_df.groupby('sentiment')['word_count'].mean().plot(kind = 'bar', figsize = (15,15));"
   ]
  },
  {
   "cell_type": "code",
   "execution_count": null,
   "metadata": {},
   "outputs": [],
   "source": [
    "text_stats_df.groupby('sentiment')['review_len'].mean().plot(kind = 'bar', figsize = (15,15));"
   ]
  },
  {
   "cell_type": "code",
   "execution_count": null,
   "metadata": {},
   "outputs": [],
   "source": [
    "correlation = text_stats_df[['sentiment', 'word_count', 'review_len']].corr()\n",
    "mask = np.zeros_like(correlation, dtype=np.bool)\n",
    "mask[np.triu_indices_from(mask)] = True\n",
    "plt.figure(figsize=(50,30))\n",
    "plt.xticks(fontsize=40)\n",
    "plt.yticks(fontsize=40)\n",
    "sns.heatmap(correlation, cmap='coolwarm', annot=True, annot_kws={\"size\": 40}, linewidths=10, vmin=-1.5, mask=mask);"
   ]
  },
  {
   "cell_type": "code",
   "execution_count": null,
   "metadata": {},
   "outputs": [],
   "source": []
  },
  {
   "cell_type": "code",
   "execution_count": null,
   "metadata": {},
   "outputs": [],
   "source": []
  },
  {
   "cell_type": "code",
   "execution_count": 16,
   "metadata": {},
   "outputs": [
    {
     "data": {
      "text/html": [
       "<div>\n",
       "<style scoped>\n",
       "    .dataframe tbody tr th:only-of-type {\n",
       "        vertical-align: middle;\n",
       "    }\n",
       "\n",
       "    .dataframe tbody tr th {\n",
       "        vertical-align: top;\n",
       "    }\n",
       "\n",
       "    .dataframe thead th {\n",
       "        text-align: right;\n",
       "    }\n",
       "</style>\n",
       "<table border=\"1\" class=\"dataframe\">\n",
       "  <thead>\n",
       "    <tr style=\"text-align: right;\">\n",
       "      <th></th>\n",
       "      <th>sentiment</th>\n",
       "      <th>word_count</th>\n",
       "      <th>review_len</th>\n",
       "    </tr>\n",
       "  </thead>\n",
       "  <tbody>\n",
       "    <tr>\n",
       "      <th>count</th>\n",
       "      <td>129550.000000</td>\n",
       "      <td>129550.000000</td>\n",
       "      <td>129550.000000</td>\n",
       "    </tr>\n",
       "    <tr>\n",
       "      <th>mean</th>\n",
       "      <td>0.845751</td>\n",
       "      <td>65.513192</td>\n",
       "      <td>252.553292</td>\n",
       "    </tr>\n",
       "    <tr>\n",
       "      <th>std</th>\n",
       "      <td>0.361189</td>\n",
       "      <td>112.072947</td>\n",
       "      <td>439.580095</td>\n",
       "    </tr>\n",
       "    <tr>\n",
       "      <th>min</th>\n",
       "      <td>0.000000</td>\n",
       "      <td>1.000000</td>\n",
       "      <td>1.000000</td>\n",
       "    </tr>\n",
       "    <tr>\n",
       "      <th>25%</th>\n",
       "      <td>1.000000</td>\n",
       "      <td>12.000000</td>\n",
       "      <td>47.000000</td>\n",
       "    </tr>\n",
       "    <tr>\n",
       "      <th>50%</th>\n",
       "      <td>1.000000</td>\n",
       "      <td>32.000000</td>\n",
       "      <td>122.000000</td>\n",
       "    </tr>\n",
       "    <tr>\n",
       "      <th>75%</th>\n",
       "      <td>1.000000</td>\n",
       "      <td>73.000000</td>\n",
       "      <td>280.000000</td>\n",
       "    </tr>\n",
       "    <tr>\n",
       "      <th>max</th>\n",
       "      <td>1.000000</td>\n",
       "      <td>4349.000000</td>\n",
       "      <td>18237.000000</td>\n",
       "    </tr>\n",
       "  </tbody>\n",
       "</table>\n",
       "</div>"
      ],
      "text/plain": [
       "           sentiment     word_count     review_len\n",
       "count  129550.000000  129550.000000  129550.000000\n",
       "mean        0.845751      65.513192     252.553292\n",
       "std         0.361189     112.072947     439.580095\n",
       "min         0.000000       1.000000       1.000000\n",
       "25%         1.000000      12.000000      47.000000\n",
       "50%         1.000000      32.000000     122.000000\n",
       "75%         1.000000      73.000000     280.000000\n",
       "max         1.000000    4349.000000   18237.000000"
      ]
     },
     "execution_count": 16,
     "metadata": {},
     "output_type": "execute_result"
    }
   ],
   "source": [
    "text_stats_df.describe()"
   ]
  },
  {
   "cell_type": "code",
   "execution_count": null,
   "metadata": {},
   "outputs": [],
   "source": [
    "text_stats_df.word_count.hist();"
   ]
  },
  {
   "cell_type": "code",
   "execution_count": null,
   "metadata": {},
   "outputs": [],
   "source": [
    "text_stats_df.review_len.hist();"
   ]
  },
  {
   "cell_type": "code",
   "execution_count": null,
   "metadata": {},
   "outputs": [],
   "source": [
    "text_stats_df.sort_values(by = 'word_count', ascending = False).head(20)"
   ]
  },
  {
   "cell_type": "code",
   "execution_count": null,
   "metadata": {},
   "outputs": [],
   "source": [
    "text_stats_df.sort_values(by = 'word_count', ascending = False).tail(20)"
   ]
  },
  {
   "cell_type": "code",
   "execution_count": null,
   "metadata": {},
   "outputs": [],
   "source": [
    "text_stats_df.reviewText[44098]"
   ]
  },
  {
   "cell_type": "code",
   "execution_count": 17,
   "metadata": {},
   "outputs": [],
   "source": [
    "def clean_text(text):\n",
    "    \n",
    "    text = text.lower()\n",
    "    # Replace &nbsp; with regular space\n",
    "    text = text.replace(\"&nbsp;\", \" \")\n",
    "    # Remove HTML tags and attributes\n",
    "    text = re.sub(r\"<[^>]+>\", \"\", text)\n",
    "    # Remove URLs\n",
    "    text = re.sub(r\"http\\S+\", \"\", text)\n",
    "    # Remove line breaks and extra whitespace\n",
    "    text = re.sub(r\"\\s+\", \" \", text)\n",
    "    # Remove numbers and special characters\n",
    "    text = re.sub(r\"[^a-zA-Z\\s]\", \"\", text)\n",
    "    # Tokenize with spaCy\n",
    "    #doc = nlp(text)\n",
    "    # Lemmatize and lowercase tokens\n",
    "    #tokens = [token.lemma_.lower().strip() for token in doc if not token.is_stop and len(token) > 2]\n",
    "\n",
    "    return text"
   ]
  },
  {
   "cell_type": "code",
   "execution_count": null,
   "metadata": {},
   "outputs": [],
   "source": [
    "text_stats_df.reviewText[44098]"
   ]
  },
  {
   "cell_type": "code",
   "execution_count": null,
   "metadata": {},
   "outputs": [],
   "source": [
    "clean_text(text_stats_df.reviewText[44098])"
   ]
  },
  {
   "cell_type": "code",
   "execution_count": 18,
   "metadata": {},
   "outputs": [],
   "source": [
    "text_stats_df['cleaned_text'] = text_stats_df.reviewText.apply(lambda x: clean_text(x))"
   ]
  },
  {
   "cell_type": "code",
   "execution_count": null,
   "metadata": {},
   "outputs": [],
   "source": [
    "text_stats_df.head()"
   ]
  },
  {
   "cell_type": "code",
   "execution_count": null,
   "metadata": {},
   "outputs": [],
   "source": [
    "text_stats_df.cleaned_text[44098]"
   ]
  },
  {
   "cell_type": "code",
   "execution_count": 19,
   "metadata": {},
   "outputs": [],
   "source": [
    "text_stats_df['cleaned_word_count'] = text_stats_df.cleaned_text.apply(lambda x: word_count(x))\n",
    "text_stats_df['cleaned_review_len'] = text_stats_df.cleaned_text.apply(lambda x: char_count(x))"
   ]
  },
  {
   "cell_type": "code",
   "execution_count": 23,
   "metadata": {},
   "outputs": [
    {
     "data": {
      "text/html": [
       "<div>\n",
       "<style scoped>\n",
       "    .dataframe tbody tr th:only-of-type {\n",
       "        vertical-align: middle;\n",
       "    }\n",
       "\n",
       "    .dataframe tbody tr th {\n",
       "        vertical-align: top;\n",
       "    }\n",
       "\n",
       "    .dataframe thead th {\n",
       "        text-align: right;\n",
       "    }\n",
       "</style>\n",
       "<table border=\"1\" class=\"dataframe\">\n",
       "  <thead>\n",
       "    <tr style=\"text-align: right;\">\n",
       "      <th></th>\n",
       "      <th>sentiment</th>\n",
       "      <th>word_count</th>\n",
       "      <th>review_len</th>\n",
       "      <th>cleaned_word_count</th>\n",
       "      <th>cleaned_review_len</th>\n",
       "    </tr>\n",
       "  </thead>\n",
       "  <tbody>\n",
       "    <tr>\n",
       "      <th>count</th>\n",
       "      <td>129550.000000</td>\n",
       "      <td>129550.000000</td>\n",
       "      <td>129550.000000</td>\n",
       "      <td>129550.000000</td>\n",
       "      <td>129550.000000</td>\n",
       "    </tr>\n",
       "    <tr>\n",
       "      <th>mean</th>\n",
       "      <td>0.845751</td>\n",
       "      <td>65.513192</td>\n",
       "      <td>252.553292</td>\n",
       "      <td>56.496974</td>\n",
       "      <td>237.715029</td>\n",
       "    </tr>\n",
       "    <tr>\n",
       "      <th>std</th>\n",
       "      <td>0.361189</td>\n",
       "      <td>112.072947</td>\n",
       "      <td>439.580095</td>\n",
       "      <td>95.431282</td>\n",
       "      <td>405.602106</td>\n",
       "    </tr>\n",
       "    <tr>\n",
       "      <th>min</th>\n",
       "      <td>0.000000</td>\n",
       "      <td>1.000000</td>\n",
       "      <td>1.000000</td>\n",
       "      <td>0.000000</td>\n",
       "      <td>0.000000</td>\n",
       "    </tr>\n",
       "    <tr>\n",
       "      <th>25%</th>\n",
       "      <td>1.000000</td>\n",
       "      <td>12.000000</td>\n",
       "      <td>47.000000</td>\n",
       "      <td>10.000000</td>\n",
       "      <td>44.000000</td>\n",
       "    </tr>\n",
       "    <tr>\n",
       "      <th>50%</th>\n",
       "      <td>1.000000</td>\n",
       "      <td>32.000000</td>\n",
       "      <td>122.000000</td>\n",
       "      <td>28.000000</td>\n",
       "      <td>117.000000</td>\n",
       "    </tr>\n",
       "    <tr>\n",
       "      <th>75%</th>\n",
       "      <td>1.000000</td>\n",
       "      <td>73.000000</td>\n",
       "      <td>280.000000</td>\n",
       "      <td>64.000000</td>\n",
       "      <td>266.000000</td>\n",
       "    </tr>\n",
       "    <tr>\n",
       "      <th>max</th>\n",
       "      <td>1.000000</td>\n",
       "      <td>4349.000000</td>\n",
       "      <td>18237.000000</td>\n",
       "      <td>3399.000000</td>\n",
       "      <td>15112.000000</td>\n",
       "    </tr>\n",
       "  </tbody>\n",
       "</table>\n",
       "</div>"
      ],
      "text/plain": [
       "           sentiment     word_count     review_len  cleaned_word_count  \\\n",
       "count  129550.000000  129550.000000  129550.000000       129550.000000   \n",
       "mean        0.845751      65.513192     252.553292           56.496974   \n",
       "std         0.361189     112.072947     439.580095           95.431282   \n",
       "min         0.000000       1.000000       1.000000            0.000000   \n",
       "25%         1.000000      12.000000      47.000000           10.000000   \n",
       "50%         1.000000      32.000000     122.000000           28.000000   \n",
       "75%         1.000000      73.000000     280.000000           64.000000   \n",
       "max         1.000000    4349.000000   18237.000000         3399.000000   \n",
       "\n",
       "       cleaned_review_len  \n",
       "count       129550.000000  \n",
       "mean           237.715029  \n",
       "std            405.602106  \n",
       "min              0.000000  \n",
       "25%             44.000000  \n",
       "50%            117.000000  \n",
       "75%            266.000000  \n",
       "max          15112.000000  "
      ]
     },
     "execution_count": 23,
     "metadata": {},
     "output_type": "execute_result"
    }
   ],
   "source": [
    "text_stats_df.describe()"
   ]
  },
  {
   "cell_type": "code",
   "execution_count": 20,
   "metadata": {},
   "outputs": [
    {
     "data": {
      "text/html": [
       "<div>\n",
       "<style scoped>\n",
       "    .dataframe tbody tr th:only-of-type {\n",
       "        vertical-align: middle;\n",
       "    }\n",
       "\n",
       "    .dataframe tbody tr th {\n",
       "        vertical-align: top;\n",
       "    }\n",
       "\n",
       "    .dataframe thead th {\n",
       "        text-align: right;\n",
       "    }\n",
       "</style>\n",
       "<table border=\"1\" class=\"dataframe\">\n",
       "  <thead>\n",
       "    <tr style=\"text-align: right;\">\n",
       "      <th></th>\n",
       "      <th>reviewText</th>\n",
       "      <th>sentiment</th>\n",
       "      <th>word_count</th>\n",
       "      <th>review_len</th>\n",
       "      <th>cleaned_text</th>\n",
       "      <th>cleaned_word_count</th>\n",
       "      <th>cleaned_review_len</th>\n",
       "    </tr>\n",
       "  </thead>\n",
       "  <tbody>\n",
       "    <tr>\n",
       "      <th>2861</th>\n",
       "      <td>http://www.amazon.com/gp/product/B00004ZCJL?re...</td>\n",
       "      <td>1</td>\n",
       "      <td>7</td>\n",
       "      <td>87</td>\n",
       "      <td></td>\n",
       "      <td>0</td>\n",
       "      <td>0</td>\n",
       "    </tr>\n",
       "    <tr>\n",
       "      <th>3240</th>\n",
       "      <td>1</td>\n",
       "      <td>1</td>\n",
       "      <td>1</td>\n",
       "      <td>1</td>\n",
       "      <td></td>\n",
       "      <td>0</td>\n",
       "      <td>0</td>\n",
       "    </tr>\n",
       "    <tr>\n",
       "      <th>3741</th>\n",
       "      <td>:)</td>\n",
       "      <td>1</td>\n",
       "      <td>2</td>\n",
       "      <td>2</td>\n",
       "      <td></td>\n",
       "      <td>0</td>\n",
       "      <td>0</td>\n",
       "    </tr>\n",
       "    <tr>\n",
       "      <th>6846</th>\n",
       "      <td>:-)</td>\n",
       "      <td>1</td>\n",
       "      <td>3</td>\n",
       "      <td>3</td>\n",
       "      <td></td>\n",
       "      <td>0</td>\n",
       "      <td>0</td>\n",
       "    </tr>\n",
       "    <tr>\n",
       "      <th>7307</th>\n",
       "      <td>&lt;div id=\"video-block-R2PX631O5HPURN\" class=\"a-...</td>\n",
       "      <td>1</td>\n",
       "      <td>57</td>\n",
       "      <td>345</td>\n",
       "      <td></td>\n",
       "      <td>0</td>\n",
       "      <td>0</td>\n",
       "    </tr>\n",
       "    <tr>\n",
       "      <th>8645</th>\n",
       "      <td>:)</td>\n",
       "      <td>1</td>\n",
       "      <td>2</td>\n",
       "      <td>2</td>\n",
       "      <td></td>\n",
       "      <td>0</td>\n",
       "      <td>0</td>\n",
       "    </tr>\n",
       "    <tr>\n",
       "      <th>10734</th>\n",
       "      <td>5*</td>\n",
       "      <td>1</td>\n",
       "      <td>2</td>\n",
       "      <td>2</td>\n",
       "      <td></td>\n",
       "      <td>0</td>\n",
       "      <td>0</td>\n",
       "    </tr>\n",
       "    <tr>\n",
       "      <th>10939</th>\n",
       "      <td>1</td>\n",
       "      <td>1</td>\n",
       "      <td>1</td>\n",
       "      <td>1</td>\n",
       "      <td></td>\n",
       "      <td>0</td>\n",
       "      <td>0</td>\n",
       "    </tr>\n",
       "    <tr>\n",
       "      <th>21917</th>\n",
       "      <td>&lt;div id=\"video-block-R3DCQ06IJNU0M2\" class=\"a-...</td>\n",
       "      <td>0</td>\n",
       "      <td>57</td>\n",
       "      <td>345</td>\n",
       "      <td></td>\n",
       "      <td>0</td>\n",
       "      <td>0</td>\n",
       "    </tr>\n",
       "    <tr>\n",
       "      <th>27020</th>\n",
       "      <td>:)</td>\n",
       "      <td>1</td>\n",
       "      <td>2</td>\n",
       "      <td>2</td>\n",
       "      <td></td>\n",
       "      <td>0</td>\n",
       "      <td>0</td>\n",
       "    </tr>\n",
       "    <tr>\n",
       "      <th>29368</th>\n",
       "      <td>http://www.amazon.com/PanaVise-209-Vacuum-Base...</td>\n",
       "      <td>1</td>\n",
       "      <td>3</td>\n",
       "      <td>63</td>\n",
       "      <td></td>\n",
       "      <td>0</td>\n",
       "      <td>0</td>\n",
       "    </tr>\n",
       "    <tr>\n",
       "      <th>29583</th>\n",
       "      <td>+1</td>\n",
       "      <td>1</td>\n",
       "      <td>1</td>\n",
       "      <td>2</td>\n",
       "      <td></td>\n",
       "      <td>0</td>\n",
       "      <td>0</td>\n",
       "    </tr>\n",
       "    <tr>\n",
       "      <th>32995</th>\n",
       "      <td>:)</td>\n",
       "      <td>1</td>\n",
       "      <td>2</td>\n",
       "      <td>2</td>\n",
       "      <td></td>\n",
       "      <td>0</td>\n",
       "      <td>0</td>\n",
       "    </tr>\n",
       "    <tr>\n",
       "      <th>33217</th>\n",
       "      <td>&lt;3</td>\n",
       "      <td>1</td>\n",
       "      <td>2</td>\n",
       "      <td>2</td>\n",
       "      <td></td>\n",
       "      <td>0</td>\n",
       "      <td>0</td>\n",
       "    </tr>\n",
       "    <tr>\n",
       "      <th>36867</th>\n",
       "      <td>100%</td>\n",
       "      <td>1</td>\n",
       "      <td>2</td>\n",
       "      <td>4</td>\n",
       "      <td></td>\n",
       "      <td>0</td>\n",
       "      <td>0</td>\n",
       "    </tr>\n",
       "    <tr>\n",
       "      <th>37044</th>\n",
       "      <td>5*</td>\n",
       "      <td>1</td>\n",
       "      <td>2</td>\n",
       "      <td>2</td>\n",
       "      <td></td>\n",
       "      <td>0</td>\n",
       "      <td>0</td>\n",
       "    </tr>\n",
       "    <tr>\n",
       "      <th>39569</th>\n",
       "      <td>http://www.amazon.com/gp/product/B004C9PKTG?re...</td>\n",
       "      <td>1</td>\n",
       "      <td>7</td>\n",
       "      <td>87</td>\n",
       "      <td></td>\n",
       "      <td>0</td>\n",
       "      <td>0</td>\n",
       "    </tr>\n",
       "    <tr>\n",
       "      <th>45980</th>\n",
       "      <td>100%</td>\n",
       "      <td>1</td>\n",
       "      <td>2</td>\n",
       "      <td>4</td>\n",
       "      <td></td>\n",
       "      <td>0</td>\n",
       "      <td>0</td>\n",
       "    </tr>\n",
       "    <tr>\n",
       "      <th>56098</th>\n",
       "      <td>1</td>\n",
       "      <td>1</td>\n",
       "      <td>1</td>\n",
       "      <td>1</td>\n",
       "      <td></td>\n",
       "      <td>0</td>\n",
       "      <td>0</td>\n",
       "    </tr>\n",
       "    <tr>\n",
       "      <th>56348</th>\n",
       "      <td>(^_^)</td>\n",
       "      <td>1</td>\n",
       "      <td>3</td>\n",
       "      <td>5</td>\n",
       "      <td></td>\n",
       "      <td>0</td>\n",
       "      <td>0</td>\n",
       "    </tr>\n",
       "    <tr>\n",
       "      <th>59175</th>\n",
       "      <td>:)</td>\n",
       "      <td>1</td>\n",
       "      <td>2</td>\n",
       "      <td>2</td>\n",
       "      <td></td>\n",
       "      <td>0</td>\n",
       "      <td>0</td>\n",
       "    </tr>\n",
       "    <tr>\n",
       "      <th>59581</th>\n",
       "      <td>;-)</td>\n",
       "      <td>1</td>\n",
       "      <td>3</td>\n",
       "      <td>3</td>\n",
       "      <td></td>\n",
       "      <td>0</td>\n",
       "      <td>0</td>\n",
       "    </tr>\n",
       "    <tr>\n",
       "      <th>60498</th>\n",
       "      <td>:)</td>\n",
       "      <td>1</td>\n",
       "      <td>2</td>\n",
       "      <td>2</td>\n",
       "      <td></td>\n",
       "      <td>0</td>\n",
       "      <td>0</td>\n",
       "    </tr>\n",
       "    <tr>\n",
       "      <th>62877</th>\n",
       "      <td>.</td>\n",
       "      <td>1</td>\n",
       "      <td>1</td>\n",
       "      <td>1</td>\n",
       "      <td></td>\n",
       "      <td>0</td>\n",
       "      <td>0</td>\n",
       "    </tr>\n",
       "    <tr>\n",
       "      <th>63197</th>\n",
       "      <td>:)</td>\n",
       "      <td>1</td>\n",
       "      <td>2</td>\n",
       "      <td>2</td>\n",
       "      <td></td>\n",
       "      <td>0</td>\n",
       "      <td>0</td>\n",
       "    </tr>\n",
       "    <tr>\n",
       "      <th>67262</th>\n",
       "      <td>100%</td>\n",
       "      <td>1</td>\n",
       "      <td>2</td>\n",
       "      <td>4</td>\n",
       "      <td></td>\n",
       "      <td>0</td>\n",
       "      <td>0</td>\n",
       "    </tr>\n",
       "    <tr>\n",
       "      <th>69726</th>\n",
       "      <td>https://www.amazon.com/dp/B005FHZ2SI/ref=cm_cr...</td>\n",
       "      <td>1</td>\n",
       "      <td>3</td>\n",
       "      <td>65</td>\n",
       "      <td></td>\n",
       "      <td>0</td>\n",
       "      <td>0</td>\n",
       "    </tr>\n",
       "    <tr>\n",
       "      <th>70721</th>\n",
       "      <td>1</td>\n",
       "      <td>1</td>\n",
       "      <td>1</td>\n",
       "      <td>1</td>\n",
       "      <td></td>\n",
       "      <td>0</td>\n",
       "      <td>0</td>\n",
       "    </tr>\n",
       "    <tr>\n",
       "      <th>76311</th>\n",
       "      <td>1</td>\n",
       "      <td>1</td>\n",
       "      <td>1</td>\n",
       "      <td>1</td>\n",
       "      <td></td>\n",
       "      <td>0</td>\n",
       "      <td>0</td>\n",
       "    </tr>\n",
       "    <tr>\n",
       "      <th>79931</th>\n",
       "      <td>1</td>\n",
       "      <td>1</td>\n",
       "      <td>1</td>\n",
       "      <td>1</td>\n",
       "      <td></td>\n",
       "      <td>0</td>\n",
       "      <td>0</td>\n",
       "    </tr>\n",
       "    <tr>\n",
       "      <th>85532</th>\n",
       "      <td>:)</td>\n",
       "      <td>1</td>\n",
       "      <td>2</td>\n",
       "      <td>2</td>\n",
       "      <td></td>\n",
       "      <td>0</td>\n",
       "      <td>0</td>\n",
       "    </tr>\n",
       "    <tr>\n",
       "      <th>87313</th>\n",
       "      <td>1</td>\n",
       "      <td>1</td>\n",
       "      <td>1</td>\n",
       "      <td>1</td>\n",
       "      <td></td>\n",
       "      <td>0</td>\n",
       "      <td>0</td>\n",
       "    </tr>\n",
       "    <tr>\n",
       "      <th>91053</th>\n",
       "      <td>.</td>\n",
       "      <td>1</td>\n",
       "      <td>1</td>\n",
       "      <td>1</td>\n",
       "      <td></td>\n",
       "      <td>0</td>\n",
       "      <td>0</td>\n",
       "    </tr>\n",
       "    <tr>\n",
       "      <th>91254</th>\n",
       "      <td>;)</td>\n",
       "      <td>1</td>\n",
       "      <td>2</td>\n",
       "      <td>2</td>\n",
       "      <td></td>\n",
       "      <td>0</td>\n",
       "      <td>0</td>\n",
       "    </tr>\n",
       "    <tr>\n",
       "      <th>91313</th>\n",
       "      <td>:)</td>\n",
       "      <td>1</td>\n",
       "      <td>2</td>\n",
       "      <td>2</td>\n",
       "      <td></td>\n",
       "      <td>0</td>\n",
       "      <td>0</td>\n",
       "    </tr>\n",
       "    <tr>\n",
       "      <th>91547</th>\n",
       "      <td>:)</td>\n",
       "      <td>1</td>\n",
       "      <td>2</td>\n",
       "      <td>2</td>\n",
       "      <td></td>\n",
       "      <td>0</td>\n",
       "      <td>0</td>\n",
       "    </tr>\n",
       "    <tr>\n",
       "      <th>92176</th>\n",
       "      <td>:)</td>\n",
       "      <td>1</td>\n",
       "      <td>2</td>\n",
       "      <td>2</td>\n",
       "      <td></td>\n",
       "      <td>0</td>\n",
       "      <td>0</td>\n",
       "    </tr>\n",
       "    <tr>\n",
       "      <th>93363</th>\n",
       "      <td>:)</td>\n",
       "      <td>1</td>\n",
       "      <td>2</td>\n",
       "      <td>2</td>\n",
       "      <td></td>\n",
       "      <td>0</td>\n",
       "      <td>0</td>\n",
       "    </tr>\n",
       "    <tr>\n",
       "      <th>96575</th>\n",
       "      <td>100%</td>\n",
       "      <td>1</td>\n",
       "      <td>2</td>\n",
       "      <td>4</td>\n",
       "      <td></td>\n",
       "      <td>0</td>\n",
       "      <td>0</td>\n",
       "    </tr>\n",
       "    <tr>\n",
       "      <th>97716</th>\n",
       "      <td>:)</td>\n",
       "      <td>1</td>\n",
       "      <td>2</td>\n",
       "      <td>2</td>\n",
       "      <td></td>\n",
       "      <td>0</td>\n",
       "      <td>0</td>\n",
       "    </tr>\n",
       "    <tr>\n",
       "      <th>97859</th>\n",
       "      <td>https://www.amazon.com/dp/B00LLM3Z0S/ref=cm_cr...</td>\n",
       "      <td>0</td>\n",
       "      <td>3</td>\n",
       "      <td>65</td>\n",
       "      <td></td>\n",
       "      <td>0</td>\n",
       "      <td>0</td>\n",
       "    </tr>\n",
       "    <tr>\n",
       "      <th>101631</th>\n",
       "      <td>100%</td>\n",
       "      <td>1</td>\n",
       "      <td>2</td>\n",
       "      <td>4</td>\n",
       "      <td></td>\n",
       "      <td>0</td>\n",
       "      <td>0</td>\n",
       "    </tr>\n",
       "    <tr>\n",
       "      <th>103980</th>\n",
       "      <td>:)</td>\n",
       "      <td>1</td>\n",
       "      <td>2</td>\n",
       "      <td>2</td>\n",
       "      <td></td>\n",
       "      <td>0</td>\n",
       "      <td>0</td>\n",
       "    </tr>\n",
       "    <tr>\n",
       "      <th>105930</th>\n",
       "      <td>10/10</td>\n",
       "      <td>1</td>\n",
       "      <td>1</td>\n",
       "      <td>5</td>\n",
       "      <td></td>\n",
       "      <td>0</td>\n",
       "      <td>0</td>\n",
       "    </tr>\n",
       "    <tr>\n",
       "      <th>106964</th>\n",
       "      <td>https://www.amazon.com/dp/B0147RX0NU/ref=cm_sw...</td>\n",
       "      <td>1</td>\n",
       "      <td>5</td>\n",
       "      <td>131</td>\n",
       "      <td></td>\n",
       "      <td>0</td>\n",
       "      <td>0</td>\n",
       "    </tr>\n",
       "    <tr>\n",
       "      <th>110613</th>\n",
       "      <td>:)</td>\n",
       "      <td>1</td>\n",
       "      <td>2</td>\n",
       "      <td>2</td>\n",
       "      <td></td>\n",
       "      <td>0</td>\n",
       "      <td>0</td>\n",
       "    </tr>\n",
       "    <tr>\n",
       "      <th>113783</th>\n",
       "      <td>&lt;div id=\"video-block-R3PCRU0UBOMWJQ\" class=\"a-...</td>\n",
       "      <td>1</td>\n",
       "      <td>59</td>\n",
       "      <td>347</td>\n",
       "      <td></td>\n",
       "      <td>0</td>\n",
       "      <td>0</td>\n",
       "    </tr>\n",
       "    <tr>\n",
       "      <th>114959</th>\n",
       "      <td>:)</td>\n",
       "      <td>1</td>\n",
       "      <td>2</td>\n",
       "      <td>2</td>\n",
       "      <td></td>\n",
       "      <td>0</td>\n",
       "      <td>0</td>\n",
       "    </tr>\n",
       "    <tr>\n",
       "      <th>120565</th>\n",
       "      <td>5+++++</td>\n",
       "      <td>1</td>\n",
       "      <td>1</td>\n",
       "      <td>6</td>\n",
       "      <td></td>\n",
       "      <td>0</td>\n",
       "      <td>0</td>\n",
       "    </tr>\n",
       "    <tr>\n",
       "      <th>122800</th>\n",
       "      <td>5+++++</td>\n",
       "      <td>1</td>\n",
       "      <td>1</td>\n",
       "      <td>6</td>\n",
       "      <td></td>\n",
       "      <td>0</td>\n",
       "      <td>0</td>\n",
       "    </tr>\n",
       "    <tr>\n",
       "      <th>123848</th>\n",
       "      <td>5+++++</td>\n",
       "      <td>1</td>\n",
       "      <td>1</td>\n",
       "      <td>6</td>\n",
       "      <td></td>\n",
       "      <td>0</td>\n",
       "      <td>0</td>\n",
       "    </tr>\n",
       "    <tr>\n",
       "      <th>126394</th>\n",
       "      <td>1</td>\n",
       "      <td>1</td>\n",
       "      <td>1</td>\n",
       "      <td>1</td>\n",
       "      <td></td>\n",
       "      <td>0</td>\n",
       "      <td>0</td>\n",
       "    </tr>\n",
       "    <tr>\n",
       "      <th>127947</th>\n",
       "      <td>:]</td>\n",
       "      <td>1</td>\n",
       "      <td>2</td>\n",
       "      <td>2</td>\n",
       "      <td></td>\n",
       "      <td>0</td>\n",
       "      <td>0</td>\n",
       "    </tr>\n",
       "  </tbody>\n",
       "</table>\n",
       "</div>"
      ],
      "text/plain": [
       "                                               reviewText  sentiment  \\\n",
       "2861    http://www.amazon.com/gp/product/B00004ZCJL?re...          1   \n",
       "3240                                                    1          1   \n",
       "3741                                                   :)          1   \n",
       "6846                                                  :-)          1   \n",
       "7307    <div id=\"video-block-R2PX631O5HPURN\" class=\"a-...          1   \n",
       "8645                                                   :)          1   \n",
       "10734                                                  5*          1   \n",
       "10939                                                   1          1   \n",
       "21917   <div id=\"video-block-R3DCQ06IJNU0M2\" class=\"a-...          0   \n",
       "27020                                                  :)          1   \n",
       "29368   http://www.amazon.com/PanaVise-209-Vacuum-Base...          1   \n",
       "29583                                                  +1          1   \n",
       "32995                                                  :)          1   \n",
       "33217                                                  <3          1   \n",
       "36867                                                100%          1   \n",
       "37044                                                  5*          1   \n",
       "39569   http://www.amazon.com/gp/product/B004C9PKTG?re...          1   \n",
       "45980                                                100%          1   \n",
       "56098                                                   1          1   \n",
       "56348                                               (^_^)          1   \n",
       "59175                                                  :)          1   \n",
       "59581                                                 ;-)          1   \n",
       "60498                                                  :)          1   \n",
       "62877                                                   .          1   \n",
       "63197                                                  :)          1   \n",
       "67262                                                100%          1   \n",
       "69726   https://www.amazon.com/dp/B005FHZ2SI/ref=cm_cr...          1   \n",
       "70721                                                   1          1   \n",
       "76311                                                   1          1   \n",
       "79931                                                   1          1   \n",
       "85532                                                  :)          1   \n",
       "87313                                                   1          1   \n",
       "91053                                                   .          1   \n",
       "91254                                                  ;)          1   \n",
       "91313                                                  :)          1   \n",
       "91547                                                  :)          1   \n",
       "92176                                                  :)          1   \n",
       "93363                                                  :)          1   \n",
       "96575                                                100%          1   \n",
       "97716                                                  :)          1   \n",
       "97859   https://www.amazon.com/dp/B00LLM3Z0S/ref=cm_cr...          0   \n",
       "101631                                               100%          1   \n",
       "103980                                                 :)          1   \n",
       "105930                                              10/10          1   \n",
       "106964  https://www.amazon.com/dp/B0147RX0NU/ref=cm_sw...          1   \n",
       "110613                                                 :)          1   \n",
       "113783  <div id=\"video-block-R3PCRU0UBOMWJQ\" class=\"a-...          1   \n",
       "114959                                                 :)          1   \n",
       "120565                                             5+++++          1   \n",
       "122800                                             5+++++          1   \n",
       "123848                                             5+++++          1   \n",
       "126394                                                  1          1   \n",
       "127947                                                 :]          1   \n",
       "\n",
       "        word_count  review_len cleaned_text  cleaned_word_count  \\\n",
       "2861             7          87                                0   \n",
       "3240             1           1                                0   \n",
       "3741             2           2                                0   \n",
       "6846             3           3                                0   \n",
       "7307            57         345                                0   \n",
       "8645             2           2                                0   \n",
       "10734            2           2                                0   \n",
       "10939            1           1                                0   \n",
       "21917           57         345                                0   \n",
       "27020            2           2                                0   \n",
       "29368            3          63                                0   \n",
       "29583            1           2                                0   \n",
       "32995            2           2                                0   \n",
       "33217            2           2                                0   \n",
       "36867            2           4                                0   \n",
       "37044            2           2                                0   \n",
       "39569            7          87                                0   \n",
       "45980            2           4                                0   \n",
       "56098            1           1                                0   \n",
       "56348            3           5                                0   \n",
       "59175            2           2                                0   \n",
       "59581            3           3                                0   \n",
       "60498            2           2                                0   \n",
       "62877            1           1                                0   \n",
       "63197            2           2                                0   \n",
       "67262            2           4                                0   \n",
       "69726            3          65                                0   \n",
       "70721            1           1                                0   \n",
       "76311            1           1                                0   \n",
       "79931            1           1                                0   \n",
       "85532            2           2                                0   \n",
       "87313            1           1                                0   \n",
       "91053            1           1                                0   \n",
       "91254            2           2                                0   \n",
       "91313            2           2                                0   \n",
       "91547            2           2                                0   \n",
       "92176            2           2                                0   \n",
       "93363            2           2                                0   \n",
       "96575            2           4                                0   \n",
       "97716            2           2                                0   \n",
       "97859            3          65                                0   \n",
       "101631           2           4                                0   \n",
       "103980           2           2                                0   \n",
       "105930           1           5                                0   \n",
       "106964           5         131                                0   \n",
       "110613           2           2                                0   \n",
       "113783          59         347                                0   \n",
       "114959           2           2                                0   \n",
       "120565           1           6                                0   \n",
       "122800           1           6                                0   \n",
       "123848           1           6                                0   \n",
       "126394           1           1                                0   \n",
       "127947           2           2                                0   \n",
       "\n",
       "        cleaned_review_len  \n",
       "2861                     0  \n",
       "3240                     0  \n",
       "3741                     0  \n",
       "6846                     0  \n",
       "7307                     0  \n",
       "8645                     0  \n",
       "10734                    0  \n",
       "10939                    0  \n",
       "21917                    0  \n",
       "27020                    0  \n",
       "29368                    0  \n",
       "29583                    0  \n",
       "32995                    0  \n",
       "33217                    0  \n",
       "36867                    0  \n",
       "37044                    0  \n",
       "39569                    0  \n",
       "45980                    0  \n",
       "56098                    0  \n",
       "56348                    0  \n",
       "59175                    0  \n",
       "59581                    0  \n",
       "60498                    0  \n",
       "62877                    0  \n",
       "63197                    0  \n",
       "67262                    0  \n",
       "69726                    0  \n",
       "70721                    0  \n",
       "76311                    0  \n",
       "79931                    0  \n",
       "85532                    0  \n",
       "87313                    0  \n",
       "91053                    0  \n",
       "91254                    0  \n",
       "91313                    0  \n",
       "91547                    0  \n",
       "92176                    0  \n",
       "93363                    0  \n",
       "96575                    0  \n",
       "97716                    0  \n",
       "97859                    0  \n",
       "101631                   0  \n",
       "103980                   0  \n",
       "105930                   0  \n",
       "106964                   0  \n",
       "110613                   0  \n",
       "113783                   0  \n",
       "114959                   0  \n",
       "120565                   0  \n",
       "122800                   0  \n",
       "123848                   0  \n",
       "126394                   0  \n",
       "127947                   0  "
      ]
     },
     "execution_count": 20,
     "metadata": {},
     "output_type": "execute_result"
    }
   ],
   "source": [
    "text_stats_df[text_stats_df.cleaned_word_count == 0]"
   ]
  },
  {
   "cell_type": "code",
   "execution_count": 22,
   "metadata": {},
   "outputs": [],
   "source": [
    "data_df = text_stats_df[text_stats_df.cleaned_word_count >0].copy()"
   ]
  },
  {
   "cell_type": "code",
   "execution_count": null,
   "metadata": {},
   "outputs": [],
   "source": []
  },
  {
   "cell_type": "code",
   "execution_count": null,
   "metadata": {},
   "outputs": [],
   "source": [
    "data_df = text_stats_df.copy()"
   ]
  },
  {
   "cell_type": "code",
   "execution_count": null,
   "metadata": {},
   "outputs": [],
   "source": []
  },
  {
   "cell_type": "code",
   "execution_count": 23,
   "metadata": {},
   "outputs": [
    {
     "data": {
      "text/html": [
       "<div>\n",
       "<style scoped>\n",
       "    .dataframe tbody tr th:only-of-type {\n",
       "        vertical-align: middle;\n",
       "    }\n",
       "\n",
       "    .dataframe tbody tr th {\n",
       "        vertical-align: top;\n",
       "    }\n",
       "\n",
       "    .dataframe thead th {\n",
       "        text-align: right;\n",
       "    }\n",
       "</style>\n",
       "<table border=\"1\" class=\"dataframe\">\n",
       "  <thead>\n",
       "    <tr style=\"text-align: right;\">\n",
       "      <th></th>\n",
       "      <th>sentiment</th>\n",
       "      <th>word_count</th>\n",
       "      <th>review_len</th>\n",
       "      <th>cleaned_word_count</th>\n",
       "      <th>cleaned_review_len</th>\n",
       "    </tr>\n",
       "  </thead>\n",
       "  <tbody>\n",
       "    <tr>\n",
       "      <th>count</th>\n",
       "      <td>129497.000000</td>\n",
       "      <td>129497.000000</td>\n",
       "      <td>129497.000000</td>\n",
       "      <td>129497.000000</td>\n",
       "      <td>129497.000000</td>\n",
       "    </tr>\n",
       "    <tr>\n",
       "      <th>mean</th>\n",
       "      <td>0.845703</td>\n",
       "      <td>65.537866</td>\n",
       "      <td>252.643969</td>\n",
       "      <td>56.520097</td>\n",
       "      <td>237.812320</td>\n",
       "    </tr>\n",
       "    <tr>\n",
       "      <th>std</th>\n",
       "      <td>0.361235</td>\n",
       "      <td>112.088937</td>\n",
       "      <td>439.644089</td>\n",
       "      <td>95.443963</td>\n",
       "      <td>405.656583</td>\n",
       "    </tr>\n",
       "    <tr>\n",
       "      <th>min</th>\n",
       "      <td>0.000000</td>\n",
       "      <td>1.000000</td>\n",
       "      <td>1.000000</td>\n",
       "      <td>1.000000</td>\n",
       "      <td>1.000000</td>\n",
       "    </tr>\n",
       "    <tr>\n",
       "      <th>25%</th>\n",
       "      <td>1.000000</td>\n",
       "      <td>12.000000</td>\n",
       "      <td>47.000000</td>\n",
       "      <td>10.000000</td>\n",
       "      <td>44.000000</td>\n",
       "    </tr>\n",
       "    <tr>\n",
       "      <th>50%</th>\n",
       "      <td>1.000000</td>\n",
       "      <td>32.000000</td>\n",
       "      <td>123.000000</td>\n",
       "      <td>28.000000</td>\n",
       "      <td>117.000000</td>\n",
       "    </tr>\n",
       "    <tr>\n",
       "      <th>75%</th>\n",
       "      <td>1.000000</td>\n",
       "      <td>73.000000</td>\n",
       "      <td>280.000000</td>\n",
       "      <td>64.000000</td>\n",
       "      <td>266.000000</td>\n",
       "    </tr>\n",
       "    <tr>\n",
       "      <th>max</th>\n",
       "      <td>1.000000</td>\n",
       "      <td>4349.000000</td>\n",
       "      <td>18237.000000</td>\n",
       "      <td>3399.000000</td>\n",
       "      <td>15112.000000</td>\n",
       "    </tr>\n",
       "  </tbody>\n",
       "</table>\n",
       "</div>"
      ],
      "text/plain": [
       "           sentiment     word_count     review_len  cleaned_word_count  \\\n",
       "count  129497.000000  129497.000000  129497.000000       129497.000000   \n",
       "mean        0.845703      65.537866     252.643969           56.520097   \n",
       "std         0.361235     112.088937     439.644089           95.443963   \n",
       "min         0.000000       1.000000       1.000000            1.000000   \n",
       "25%         1.000000      12.000000      47.000000           10.000000   \n",
       "50%         1.000000      32.000000     123.000000           28.000000   \n",
       "75%         1.000000      73.000000     280.000000           64.000000   \n",
       "max         1.000000    4349.000000   18237.000000         3399.000000   \n",
       "\n",
       "       cleaned_review_len  \n",
       "count       129497.000000  \n",
       "mean           237.812320  \n",
       "std            405.656583  \n",
       "min              1.000000  \n",
       "25%             44.000000  \n",
       "50%            117.000000  \n",
       "75%            266.000000  \n",
       "max          15112.000000  "
      ]
     },
     "execution_count": 23,
     "metadata": {},
     "output_type": "execute_result"
    }
   ],
   "source": [
    "data_df.describe()"
   ]
  },
  {
   "cell_type": "code",
   "execution_count": 27,
   "metadata": {},
   "outputs": [],
   "source": [
    "stop_words = set(stopwords.words('english'))"
   ]
  },
  {
   "cell_type": "code",
   "execution_count": 24,
   "metadata": {},
   "outputs": [],
   "source": [
    "# edit stop words?\n",
    "stop_words = set(nlp.Defaults.stop_words)"
   ]
  },
  {
   "cell_type": "code",
   "execution_count": 25,
   "metadata": {},
   "outputs": [],
   "source": [
    "def count_stop_words(text):\n",
    "    # Tokenize the text into words\n",
    "    words = word_tokenize(text)\n",
    "\n",
    "    # Convert the stop words set to lower case\n",
    "    stop_words_lower = set([word.lower() for word in stop_words])\n",
    "\n",
    "    # Count the number of stop words in the text using set intersection\n",
    "    stop_word_count = len(set(words).intersection(stop_words_lower))\n",
    "\n",
    "    return stop_word_count"
   ]
  },
  {
   "cell_type": "code",
   "execution_count": 26,
   "metadata": {},
   "outputs": [],
   "source": [
    "data_df['cleaned_sw_count'] = data_df.cleaned_text.apply(lambda x: count_stop_words(x))"
   ]
  },
  {
   "cell_type": "code",
   "execution_count": 27,
   "metadata": {},
   "outputs": [
    {
     "data": {
      "text/html": [
       "<div>\n",
       "<style scoped>\n",
       "    .dataframe tbody tr th:only-of-type {\n",
       "        vertical-align: middle;\n",
       "    }\n",
       "\n",
       "    .dataframe tbody tr th {\n",
       "        vertical-align: top;\n",
       "    }\n",
       "\n",
       "    .dataframe thead th {\n",
       "        text-align: right;\n",
       "    }\n",
       "</style>\n",
       "<table border=\"1\" class=\"dataframe\">\n",
       "  <thead>\n",
       "    <tr style=\"text-align: right;\">\n",
       "      <th></th>\n",
       "      <th>sentiment</th>\n",
       "      <th>word_count</th>\n",
       "      <th>review_len</th>\n",
       "      <th>cleaned_word_count</th>\n",
       "      <th>cleaned_review_len</th>\n",
       "      <th>cleaned_sw_count</th>\n",
       "    </tr>\n",
       "  </thead>\n",
       "  <tbody>\n",
       "    <tr>\n",
       "      <th>count</th>\n",
       "      <td>129497.000000</td>\n",
       "      <td>129497.000000</td>\n",
       "      <td>129497.000000</td>\n",
       "      <td>129497.000000</td>\n",
       "      <td>129497.000000</td>\n",
       "      <td>129497.000000</td>\n",
       "    </tr>\n",
       "    <tr>\n",
       "      <th>mean</th>\n",
       "      <td>0.845703</td>\n",
       "      <td>65.537866</td>\n",
       "      <td>252.643969</td>\n",
       "      <td>56.520097</td>\n",
       "      <td>237.812320</td>\n",
       "      <td>17.074619</td>\n",
       "    </tr>\n",
       "    <tr>\n",
       "      <th>std</th>\n",
       "      <td>0.361235</td>\n",
       "      <td>112.088937</td>\n",
       "      <td>439.644089</td>\n",
       "      <td>95.443963</td>\n",
       "      <td>405.656583</td>\n",
       "      <td>17.096291</td>\n",
       "    </tr>\n",
       "    <tr>\n",
       "      <th>min</th>\n",
       "      <td>0.000000</td>\n",
       "      <td>1.000000</td>\n",
       "      <td>1.000000</td>\n",
       "      <td>1.000000</td>\n",
       "      <td>1.000000</td>\n",
       "      <td>0.000000</td>\n",
       "    </tr>\n",
       "    <tr>\n",
       "      <th>25%</th>\n",
       "      <td>1.000000</td>\n",
       "      <td>12.000000</td>\n",
       "      <td>47.000000</td>\n",
       "      <td>10.000000</td>\n",
       "      <td>44.000000</td>\n",
       "      <td>4.000000</td>\n",
       "    </tr>\n",
       "    <tr>\n",
       "      <th>50%</th>\n",
       "      <td>1.000000</td>\n",
       "      <td>32.000000</td>\n",
       "      <td>123.000000</td>\n",
       "      <td>28.000000</td>\n",
       "      <td>117.000000</td>\n",
       "      <td>12.000000</td>\n",
       "    </tr>\n",
       "    <tr>\n",
       "      <th>75%</th>\n",
       "      <td>1.000000</td>\n",
       "      <td>73.000000</td>\n",
       "      <td>280.000000</td>\n",
       "      <td>64.000000</td>\n",
       "      <td>266.000000</td>\n",
       "      <td>24.000000</td>\n",
       "    </tr>\n",
       "    <tr>\n",
       "      <th>max</th>\n",
       "      <td>1.000000</td>\n",
       "      <td>4349.000000</td>\n",
       "      <td>18237.000000</td>\n",
       "      <td>3399.000000</td>\n",
       "      <td>15112.000000</td>\n",
       "      <td>175.000000</td>\n",
       "    </tr>\n",
       "  </tbody>\n",
       "</table>\n",
       "</div>"
      ],
      "text/plain": [
       "           sentiment     word_count     review_len  cleaned_word_count  \\\n",
       "count  129497.000000  129497.000000  129497.000000       129497.000000   \n",
       "mean        0.845703      65.537866     252.643969           56.520097   \n",
       "std         0.361235     112.088937     439.644089           95.443963   \n",
       "min         0.000000       1.000000       1.000000            1.000000   \n",
       "25%         1.000000      12.000000      47.000000           10.000000   \n",
       "50%         1.000000      32.000000     123.000000           28.000000   \n",
       "75%         1.000000      73.000000     280.000000           64.000000   \n",
       "max         1.000000    4349.000000   18237.000000         3399.000000   \n",
       "\n",
       "       cleaned_review_len  cleaned_sw_count  \n",
       "count       129497.000000     129497.000000  \n",
       "mean           237.812320         17.074619  \n",
       "std            405.656583         17.096291  \n",
       "min              1.000000          0.000000  \n",
       "25%             44.000000          4.000000  \n",
       "50%            117.000000         12.000000  \n",
       "75%            266.000000         24.000000  \n",
       "max          15112.000000        175.000000  "
      ]
     },
     "execution_count": 27,
     "metadata": {},
     "output_type": "execute_result"
    }
   ],
   "source": [
    "data_df.describe()"
   ]
  },
  {
   "cell_type": "code",
   "execution_count": null,
   "metadata": {},
   "outputs": [],
   "source": []
  },
  {
   "cell_type": "code",
   "execution_count": null,
   "metadata": {},
   "outputs": [],
   "source": []
  },
  {
   "cell_type": "code",
   "execution_count": 28,
   "metadata": {},
   "outputs": [],
   "source": [
    "def top_words(text, n = None, ngram = (1,1), stop_words = None):\n",
    "    cv = CountVectorizer(ngram_range = ngram, stop_words = stop_words)\n",
    "    words = cv.fit_transform(text)\n",
    "    sum_words = words.sum(axis=0)\n",
    "    word_freq = [(word, sum_words[0, idx]) for word, idx in cv.vocabulary_.items()]\n",
    "    word_freq = sorted(word_freq, key=lambda x: x[1], reverse=True)\n",
    "    word_df = pd.DataFrame(word_freq, columns=['word', 'count'])\n",
    "    return word_df[:n]"
   ]
  },
  {
   "cell_type": "code",
   "execution_count": 29,
   "metadata": {},
   "outputs": [
    {
     "name": "stderr",
     "output_type": "stream",
     "text": [
      "C:\\Users\\PC\\anaconda3\\envs\\learn-env\\lib\\site-packages\\sklearn\\feature_extraction\\text.py:383: UserWarning: Your stop_words may be inconsistent with your preprocessing. Tokenizing the stop words generated tokens ['ll', 've'] not in stop_words.\n",
      "  warnings.warn('Your stop_words may be inconsistent with '\n"
     ]
    }
   ],
   "source": [
    "top30 = top_words(text = data_df.cleaned_text, n = 30)\n",
    "top30_sw = top_words(text = data_df.cleaned_text, n = 30, stop_words = stop_words)"
   ]
  },
  {
   "cell_type": "code",
   "execution_count": 32,
   "metadata": {},
   "outputs": [
    {
     "data": {
      "image/png": "[encoded data removed]",
      "text/plain": [
       "<Figure size 1080x720 with 2 Axes>"
      ]
     },
     "metadata": {
      "needs_background": "light"
     },
     "output_type": "display_data"
    }
   ],
   "source": [
    "fig, axs = plt.subplots(1, 2, figsize=(15,10))\n",
    "sns.barplot(data = top30, x = 'count', y = 'word', orient = 'h', ax = axs[0])\n",
    "sns.barplot(data = top30_sw, x = 'count', y = 'word', orient = 'h', ax = axs[1])\n",
    "axs[0].set_title('All words')\n",
    "axs[1].set_title('Stop Words Removed');"
   ]
  },
  {
   "cell_type": "code",
   "execution_count": 33,
   "metadata": {},
   "outputs": [
    {
     "name": "stderr",
     "output_type": "stream",
     "text": [
      "C:\\Users\\PC\\anaconda3\\envs\\learn-env\\lib\\site-packages\\sklearn\\feature_extraction\\text.py:383: UserWarning: Your stop_words may be inconsistent with your preprocessing. Tokenizing the stop words generated tokens ['ll', 've'] not in stop_words.\n",
      "  warnings.warn('Your stop_words may be inconsistent with '\n"
     ]
    }
   ],
   "source": [
    "top30_bigrams = top_words(text = data_df.cleaned_text, n = 30, ngram = (2,2))\n",
    "top30_bigrams_sw = top_words(text = data_df.cleaned_text, n = 30, ngram = (2,2), stop_words = stop_words)"
   ]
  },
  {
   "cell_type": "code",
   "execution_count": 34,
   "metadata": {},
   "outputs": [
    {
     "data": {
      "image/png": "[encoded data removed]",
      "text/plain": [
       "<Figure size 1080x720 with 2 Axes>"
      ]
     },
     "metadata": {
      "needs_background": "light"
     },
     "output_type": "display_data"
    }
   ],
   "source": [
    "fig, axs = plt.subplots(1, 2, figsize=(15,10))\n",
    "sns.barplot(data = top30_bigrams, x = 'count', y = 'word', orient = 'h', ax = axs[0])\n",
    "sns.barplot(data = top30_bigrams_sw, x = 'count', y = 'word', orient = 'h', ax = axs[1])\n",
    "axs[0].set_title('All words Bigrams')\n",
    "axs[1].set_title('Stop Words Removed Bigrams')\n",
    "fig.tight_layout();"
   ]
  },
  {
   "cell_type": "code",
   "execution_count": 35,
   "metadata": {},
   "outputs": [
    {
     "name": "stderr",
     "output_type": "stream",
     "text": [
      "C:\\Users\\PC\\anaconda3\\envs\\learn-env\\lib\\site-packages\\sklearn\\feature_extraction\\text.py:383: UserWarning: Your stop_words may be inconsistent with your preprocessing. Tokenizing the stop words generated tokens ['ll', 've'] not in stop_words.\n",
      "  warnings.warn('Your stop_words may be inconsistent with '\n"
     ]
    }
   ],
   "source": [
    "top30_trigrams = top_words(text = data_df.cleaned_text, n = 30, ngram = (3,3))\n",
    "top30_trigrams_sw = top_words(text = data_df.cleaned_text, n = 30, ngram = (3,3), stop_words = stop_words)"
   ]
  },
  {
   "cell_type": "code",
   "execution_count": 36,
   "metadata": {},
   "outputs": [
    {
     "data": {
      "image/png": "[encoded data removed]",
      "text/plain": [
       "<Figure size 1080x720 with 2 Axes>"
      ]
     },
     "metadata": {
      "needs_background": "light"
     },
     "output_type": "display_data"
    }
   ],
   "source": [
    "fig, axs = plt.subplots(1, 2, figsize=(15,10))\n",
    "sns.barplot(data = top30_trigrams, x = 'count', y = 'word', orient = 'h', ax = axs[0])\n",
    "sns.barplot(data = top30_trigrams_sw, x = 'count', y = 'word', orient = 'h', ax = axs[1])\n",
    "axs[0].set_title('All words Trigrams')\n",
    "axs[1].set_title('Stop Words Removed Trigrams')\n",
    "fig.tight_layout();"
   ]
  },
  {
   "cell_type": "code",
   "execution_count": 37,
   "metadata": {},
   "outputs": [
    {
     "data": {
      "text/html": [
       "<div>\n",
       "<style scoped>\n",
       "    .dataframe tbody tr th:only-of-type {\n",
       "        vertical-align: middle;\n",
       "    }\n",
       "\n",
       "    .dataframe tbody tr th {\n",
       "        vertical-align: top;\n",
       "    }\n",
       "\n",
       "    .dataframe thead th {\n",
       "        text-align: right;\n",
       "    }\n",
       "</style>\n",
       "<table border=\"1\" class=\"dataframe\">\n",
       "  <thead>\n",
       "    <tr style=\"text-align: right;\">\n",
       "      <th></th>\n",
       "      <th>sentiment</th>\n",
       "      <th>word_count</th>\n",
       "      <th>review_len</th>\n",
       "      <th>cleaned_word_count</th>\n",
       "      <th>cleaned_review_len</th>\n",
       "      <th>cleaned_sw_count</th>\n",
       "    </tr>\n",
       "  </thead>\n",
       "  <tbody>\n",
       "    <tr>\n",
       "      <th>count</th>\n",
       "      <td>129497.000000</td>\n",
       "      <td>129497.000000</td>\n",
       "      <td>129497.000000</td>\n",
       "      <td>129497.000000</td>\n",
       "      <td>129497.000000</td>\n",
       "      <td>129497.000000</td>\n",
       "    </tr>\n",
       "    <tr>\n",
       "      <th>mean</th>\n",
       "      <td>0.845703</td>\n",
       "      <td>65.537866</td>\n",
       "      <td>252.643969</td>\n",
       "      <td>56.520097</td>\n",
       "      <td>237.812320</td>\n",
       "      <td>17.074619</td>\n",
       "    </tr>\n",
       "    <tr>\n",
       "      <th>std</th>\n",
       "      <td>0.361235</td>\n",
       "      <td>112.088937</td>\n",
       "      <td>439.644089</td>\n",
       "      <td>95.443963</td>\n",
       "      <td>405.656583</td>\n",
       "      <td>17.096291</td>\n",
       "    </tr>\n",
       "    <tr>\n",
       "      <th>min</th>\n",
       "      <td>0.000000</td>\n",
       "      <td>1.000000</td>\n",
       "      <td>1.000000</td>\n",
       "      <td>1.000000</td>\n",
       "      <td>1.000000</td>\n",
       "      <td>0.000000</td>\n",
       "    </tr>\n",
       "    <tr>\n",
       "      <th>25%</th>\n",
       "      <td>1.000000</td>\n",
       "      <td>12.000000</td>\n",
       "      <td>47.000000</td>\n",
       "      <td>10.000000</td>\n",
       "      <td>44.000000</td>\n",
       "      <td>4.000000</td>\n",
       "    </tr>\n",
       "    <tr>\n",
       "      <th>50%</th>\n",
       "      <td>1.000000</td>\n",
       "      <td>32.000000</td>\n",
       "      <td>123.000000</td>\n",
       "      <td>28.000000</td>\n",
       "      <td>117.000000</td>\n",
       "      <td>12.000000</td>\n",
       "    </tr>\n",
       "    <tr>\n",
       "      <th>75%</th>\n",
       "      <td>1.000000</td>\n",
       "      <td>73.000000</td>\n",
       "      <td>280.000000</td>\n",
       "      <td>64.000000</td>\n",
       "      <td>266.000000</td>\n",
       "      <td>24.000000</td>\n",
       "    </tr>\n",
       "    <tr>\n",
       "      <th>max</th>\n",
       "      <td>1.000000</td>\n",
       "      <td>4349.000000</td>\n",
       "      <td>18237.000000</td>\n",
       "      <td>3399.000000</td>\n",
       "      <td>15112.000000</td>\n",
       "      <td>175.000000</td>\n",
       "    </tr>\n",
       "  </tbody>\n",
       "</table>\n",
       "</div>"
      ],
      "text/plain": [
       "           sentiment     word_count     review_len  cleaned_word_count  \\\n",
       "count  129497.000000  129497.000000  129497.000000       129497.000000   \n",
       "mean        0.845703      65.537866     252.643969           56.520097   \n",
       "std         0.361235     112.088937     439.644089           95.443963   \n",
       "min         0.000000       1.000000       1.000000            1.000000   \n",
       "25%         1.000000      12.000000      47.000000           10.000000   \n",
       "50%         1.000000      32.000000     123.000000           28.000000   \n",
       "75%         1.000000      73.000000     280.000000           64.000000   \n",
       "max         1.000000    4349.000000   18237.000000         3399.000000   \n",
       "\n",
       "       cleaned_review_len  cleaned_sw_count  \n",
       "count       129497.000000     129497.000000  \n",
       "mean           237.812320         17.074619  \n",
       "std            405.656583         17.096291  \n",
       "min              1.000000          0.000000  \n",
       "25%             44.000000          4.000000  \n",
       "50%            117.000000         12.000000  \n",
       "75%            266.000000         24.000000  \n",
       "max          15112.000000        175.000000  "
      ]
     },
     "execution_count": 37,
     "metadata": {},
     "output_type": "execute_result"
    }
   ],
   "source": [
    "data_df.describe()"
   ]
  },
  {
   "cell_type": "code",
   "execution_count": null,
   "metadata": {},
   "outputs": [],
   "source": [
    "data_df.cleaned_word_count.hist()"
   ]
  },
  {
   "cell_type": "code",
   "execution_count": null,
   "metadata": {},
   "outputs": [],
   "source": [
    "data_df[data_df.cleaned_word_count <= 1000]"
   ]
  },
  {
   "cell_type": "code",
   "execution_count": 38,
   "metadata": {},
   "outputs": [],
   "source": [
    "def preprocess(text):\n",
    "    doc = nlp(text)\n",
    "    # Lemmatize and and remove stop words\n",
    "    tokens = [token.lemma_.strip() for token in doc if not token.is_stop and len(token) > 2]\n",
    "    return tokens"
   ]
  },
  {
   "cell_type": "code",
   "execution_count": 39,
   "metadata": {},
   "outputs": [],
   "source": [
    "data_df['processed_text'] = data_df['cleaned_text'].apply(lambda x: preprocess(x))"
   ]
  },
  {
   "cell_type": "code",
   "execution_count": 40,
   "metadata": {},
   "outputs": [],
   "source": [
    "data_words = data_df.processed_text"
   ]
  },
  {
   "cell_type": "code",
   "execution_count": null,
   "metadata": {},
   "outputs": [],
   "source": [
    "data_words"
   ]
  },
  {
   "cell_type": "code",
   "execution_count": null,
   "metadata": {},
   "outputs": [],
   "source": []
  },
  {
   "cell_type": "code",
   "execution_count": 41,
   "metadata": {},
   "outputs": [],
   "source": [
    "# Build the bigram and trigram models\n",
    "bigram = gensim.models.Phrases(data_words, min_count=5, threshold=50) # higher threshold fewer phrases.\n",
    "trigram = gensim.models.Phrases(bigram[data_words], threshold=50)  \n",
    "\n",
    "# Faster way to get a sentence clubbed as a trigram/bigram\n",
    "bigram_mod = gensim.models.phrases.Phraser(bigram)\n",
    "trigram_mod = gensim.models.phrases.Phraser(trigram)"
   ]
  },
  {
   "cell_type": "code",
   "execution_count": 42,
   "metadata": {},
   "outputs": [
    {
     "data": {
      "text/html": [
       "<style>.container { max-width:100% !important; }</style>"
      ],
      "text/plain": [
       "<IPython.core.display.HTML object>"
      ]
     },
     "metadata": {},
     "output_type": "display_data"
    },
    {
     "data": {
      "text/html": [
       "<style>.output_result { max-width:100% !important; }</style>"
      ],
      "text/plain": [
       "<IPython.core.display.HTML object>"
      ]
     },
     "metadata": {},
     "output_type": "display_data"
    },
    {
     "data": {
      "text/html": [
       "<style>.output_area { max-width:100% !important; }</style>"
      ],
      "text/plain": [
       "<IPython.core.display.HTML object>"
      ]
     },
     "metadata": {},
     "output_type": "display_data"
    },
    {
     "data": {
      "text/html": [
       "<style>.input_area { max-width:100% !important; }</style>"
      ],
      "text/plain": [
       "<IPython.core.display.HTML object>"
      ]
     },
     "metadata": {},
     "output_type": "display_data"
    }
   ],
   "source": []
  },
  {
   "cell_type": "code",
   "execution_count": 43,
   "metadata": {},
   "outputs": [],
   "source": [
    "# Create bigrams\n",
    "bigram = Phrases(data_words, min_count=5, threshold=50)\n",
    "bigram_phraser = Phraser(bigram)\n",
    "bigram_docs = [bigram_phraser[doc] for doc in data_words]\n",
    "\n",
    "# Create trigrams\n",
    "trigram = Phrases(bigram_docs, min_count=5, threshold=50)\n",
    "trigram_phraser = Phraser(trigram)\n",
    "trigram_docs = [trigram_phraser[doc] for doc in bigram_docs]\n"
   ]
  },
  {
   "cell_type": "code",
   "execution_count": 44,
   "metadata": {},
   "outputs": [
    {
     "name": "stdout",
     "output_type": "stream",
     "text": [
      "[[(0, 1), (1, 1), (2, 1), (3, 1), (4, 1), (5, 1), (6, 1), (7, 1), (8, 1), (9, 1), (10, 1), (11, 1), (12, 1), (13, 1), (14, 1), (15, 1), (16, 1), (17, 1), (18, 1)]]\n"
     ]
    }
   ],
   "source": [
    "id2word = corpora.Dictionary(trigram_docs)\n",
    "\n",
    "# Create Corpus\n",
    "texts = trigram_docs\n",
    "\n",
    "# Term Document Frequency\n",
    "corpus = [id2word.doc2bow(text) for text in texts]\n",
    "\n",
    "# View\n",
    "print(corpus[:1])"
   ]
  },
  {
   "cell_type": "code",
   "execution_count": null,
   "metadata": {},
   "outputs": [],
   "source": []
  },
  {
   "cell_type": "code",
   "execution_count": null,
   "metadata": {},
   "outputs": [],
   "source": []
  },
  {
   "cell_type": "code",
   "execution_count": 91,
   "metadata": {},
   "outputs": [],
   "source": [
    "lda_model = gensim.models.ldamodel.LdaModel(corpus=corpus,\n",
    "                                           id2word=id2word,\n",
    "                                           num_topics=5, \n",
    "                                           random_state=100,\n",
    "                                           update_every=1,\n",
    "                                           chunksize=100,\n",
    "                                           passes=5,\n",
    "                                           alpha='auto')"
   ]
  },
  {
   "cell_type": "code",
   "execution_count": null,
   "metadata": {},
   "outputs": [],
   "source": []
  },
  {
   "cell_type": "code",
   "execution_count": 92,
   "metadata": {},
   "outputs": [
    {
     "data": {
      "text/html": [
       "\n",
       "<link rel=\"stylesheet\" type=\"text/css\" href=\"https://cdn.jsdelivr.net/gh/bmabey/pyLDAvis@3.3.1/pyLDAvis/js/ldavis.v1.0.0.css\">\n",
       "\n",
       "\n",
       "<div id=\"ldavis_el698017655107682241251953104\"></div>\n",
       "<script type=\"text/javascript\">\n",
       "\n",
       "var ldavis_el698017655107682241251953104_data = {\"mdsDat\": {\"x\": [-0.2802289187031734, -0.2379307887248693, 0.052227598384110105, 0.21414383006321513, 0.2517882789807172], \"y\": [-0.07396056550054593, -0.03308259119771734, 0.24220761339430324, 0.19164451992671377, -0.32680897662275354], \"topics\": [1, 2, 3, 4, 5], \"cluster\": [1, 1, 1, 1, 1], \"Freq\": [37.411306634708716, 31.38575316731381, 13.469582430499791, 9.237655746053342, 8.49570202142435]}, \"tinfo\": {\"Term\": [\"work\", \"great\", \"good\", \"phone\", \"camera\", \"home\", \"product\", \"quality\", \"buy\", \"app\", \"love\", \"set\", \"like\", \"connect\", \"wifi\", \"security\", \"video\", \"price\", \"go\", \"issue\", \"picture\", \"try\", \"install\", \"problem\", \"house\", \"time\", \"setup\", \"card\", \"device\", \"easy\", \"great\", \"good\", \"quality\", \"buy\", \"price\", \"look\", \"purchase\", \"feature\", \"nice\", \"little\", \"pretty\", \"return\", \"recommend\", \"excellent\", \"lens\", \"power\", \"expect\", \"happy\", \"small\", \"wish\", \"room\", \"cheap\", \"bit\", \"area\", \"big\", \"perfect\", \"option\", \"case\", \"hold\", \"overall\", \"like\", \"well\", \"fine\", \"work\", \"come\", \"need\", \"easy\", \"camera\", \"use\", \"far\", \"get\", \"lot\", \"want\", \"app\", \"set\", \"video\", \"picture\", \"setup\", \"view\", \"record\", \"alert\", \"image\", \"light\", \"take\", \"able\", \"software\", \"night_vision\", \"night\", \"update\", \"frame\", \"clear\", \"motion\", \"second\", \"run\", \"photo\", \"setting\", \"router\", \"monitor\", \"away\", \"network\", \"help\", \"motion_detection\", \"window\", \"system\", \"dlink\", \"time\", \"support\", \"camera\", \"day\", \"want\", \"use\", \"easy\", \"work\", \"connect\", \"turn\", \"send\", \"mount\", \"bad\", \"year\", \"month\", \"check\", \"old\", \"cloud\", \"version\", \"tell\", \"model\", \"money\", \"place\", \"week\", \"easily\", \"worth\", \"spend\", \"free\", \"contact\", \"fix\", \"replace\", \"finally\", \"account\", \"user\", \"real\", \"offer\", \"call\", \"tech_support\", \"customer_service\", \"problem\", \"issue\", \"go\", \"end\", \"couple\", \"try\", \"review\", \"new\", \"reason\", \"phone\", \"product\", \"wifi\", \"house\", \"device\", \"email\", \"unit\", \"instal\", \"screen\", \"computer\", \"amazon\", \"receive\", \"plug\", \"company\", \"base\", \"store\", \"cable\", \"display\", \"box\", \"item\", \"installation\", \"android\", \"thank\", \"useless\", \"battery\", \"cord\", \"advertise\", \"address\", \"reliable\", \"car\", \"instruction\", \"star\", \"wall\", \"long\", \"firmware\", \"home\", \"love\", \"security\", \"install\", \"card\", \"change\", \"hour\", \"access\", \"order\", \"resolution\", \"remote\", \"figure\", \"leave\", \"door\", \"wire\", \"reset\", \"amazing\", \"inside\", \"clip\", \"online\", \"walk\", \"telescope\", \"design\", \"fail\", \"adapter\", \"configure\", \"hook\", \"angle\", \"exactly\", \"location\", \"connection\", \"open\", \"outside\"], \"Freq\": [80839.0, 55386.0, 48346.0, 18794.0, 130134.0, 16355.0, 16251.0, 30883.0, 29730.0, 25101.0, 11768.0, 24281.0, 25861.0, 12487.0, 10489.0, 9812.0, 19150.0, 22564.0, 11132.0, 10086.0, 16570.0, 12950.0, 7447.0, 9447.0, 7648.0, 18566.0, 15202.0, 7073.0, 7192.0, 35413.0, 55385.42318573517, 48345.65923915207, 30883.282596178542, 29730.05317830013, 22563.84953679413, 15906.859538911323, 14153.033245175799, 12259.954081942165, 12013.208116196603, 11328.277179272021, 10523.75175674442, 8655.427422015802, 7967.887126263371, 7842.598879214055, 6909.405790776342, 6670.267289721109, 6245.614562688599, 6067.85817123241, 6048.66494522209, 6022.926208931736, 6111.2182745063765, 5733.560021916834, 5576.642599635969, 5522.6114414865515, 4813.6036410724455, 4584.660110480404, 7414.542799022429, 4434.960440075899, 4407.912601729539, 4360.937638942813, 25842.35723338074, 13732.781307169402, 7195.015853887305, 75239.6770533091, 9869.956220070802, 18870.49801300006, 27548.004825217227, 74851.76659606474, 23559.703658858572, 7850.461816523423, 12931.128000440352, 6526.909688060905, 6789.770720928342, 25100.36275746131, 24280.90564974078, 19149.53185236759, 16570.24771887276, 15201.582801201639, 10861.3079106966, 9074.238399388378, 8100.758450686968, 7842.709561035493, 7627.651504828421, 7188.32855849533, 7199.232536842349, 7091.369143349949, 6704.58303136082, 6542.483476554685, 6589.579670941992, 6670.6322856492725, 6229.118067446605, 5810.783751652333, 5779.216341480206, 5503.779578591135, 5341.878635079952, 5113.37481245882, 5176.905545867955, 5006.535467533358, 4776.474183153133, 4716.807858082915, 4477.343747538833, 4381.292706250143, 4321.621143079839, 12824.693616954435, 4883.710750668498, 17989.64538191634, 5837.539966894882, 54675.44933940145, 7107.091300759995, 6703.706086104648, 8448.015676880621, 7865.082359522206, 5599.14050019341, 12487.266866459942, 7897.92557072667, 7095.368072927963, 6683.03480787896, 5072.275471125999, 4802.320852225415, 4441.495150714431, 4492.634417713723, 4322.155082859796, 3855.8231009808233, 3721.1254795937652, 3636.7065177294453, 3654.651513679407, 3395.297690574051, 3384.2244411314855, 3353.58052057972, 3259.103653748874, 3028.337772297768, 2934.412413610365, 2939.4265667922245, 2544.2104734792315, 2407.7283186090085, 2239.8066402368836, 2257.7787994615733, 2047.3561501195172, 1970.299747036989, 1888.3378438715133, 1882.4597112203744, 1810.399290025577, 1798.5819541883936, 3135.144330527046, 9232.344483689889, 9689.27647384954, 10086.596128624056, 2954.189900273356, 2684.0835417001545, 9170.74641925567, 5673.944629012177, 4739.239110992261, 2928.9645846975036, 18793.610938665504, 16250.398071681897, 10488.735747277833, 7647.371876411879, 7191.878972395848, 6127.733926558836, 5144.492742426255, 4428.154646842618, 4173.8835685371205, 4041.441074205205, 3628.4259094822132, 3463.6118493461013, 3392.226512233485, 3365.4130720487024, 3249.8343280936588, 3244.5107995197136, 3148.5821918791735, 3104.9263283216524, 2829.0181049912394, 2743.691330971753, 2574.209483400836, 2313.190592377877, 2090.5730279121067, 1909.9286777680973, 1850.3290799577999, 1816.4251817542054, 1704.8390842296208, 1592.6914184214972, 1570.3494544527482, 1466.5605610297355, 3378.9302814396165, 3272.4170559524446, 1919.9277023325583, 2984.8969212509937, 1838.3628319759177, 16355.294134186071, 11767.836466230163, 9812.01948768111, 7446.604833616859, 7072.560583623282, 5946.827355136419, 5845.342825502598, 5200.792895525695, 4861.519399433082, 4813.161069190197, 4341.852383101948, 3974.7538711138973, 3244.922510036343, 3187.8926414118305, 3077.3386207969907, 3060.563878951513, 2889.3598971527344, 2820.2572242540546, 2581.6142193782794, 2483.9286719224942, 2234.3771813338344, 2213.1462683679765, 2159.6173900997474, 2169.7777060206645, 2047.5306375611242, 2031.613006213266, 1793.2119867660992, 1728.2295647858784, 1692.9932725115175, 1632.3161352296393, 4613.827462885164, 2459.6984629997046, 1908.7580202585157], \"Total\": [80839.0, 55386.0, 48346.0, 18794.0, 130134.0, 16355.0, 16251.0, 30883.0, 29730.0, 25101.0, 11768.0, 24281.0, 25861.0, 12487.0, 10489.0, 9812.0, 19150.0, 22564.0, 11132.0, 10086.0, 16570.0, 12950.0, 7447.0, 9447.0, 7648.0, 18566.0, 15202.0, 7073.0, 7192.0, 35413.0, 55386.045101747804, 48346.282374954244, 30883.90642333945, 29730.679376429092, 22564.471791615615, 15907.484048892129, 14153.660302668277, 12260.585863798218, 12013.830516744161, 11328.900114107559, 10524.37839117941, 8656.061636822244, 7968.510104689305, 7843.221519383247, 6910.019358415858, 6670.903211323287, 6246.237157999148, 6068.4799780288195, 6049.2872695770075, 6023.551610014197, 6111.854337698459, 5734.181834146838, 5577.266643294579, 5523.247802475663, 4814.22778071743, 4585.278544973801, 7415.578623260309, 4435.581656029235, 4408.530995465613, 4361.5639435702005, 25861.701935979552, 13743.865431709259, 7245.668292370012, 80839.31436828207, 10616.05396133437, 22370.984379294125, 35413.582985810855, 130134.9282501175, 32008.214486667694, 8530.062344895534, 17696.48944905017, 7085.0946041525885, 13493.97243556752, 25101.089707328185, 24281.62667890118, 19150.251043080996, 16570.96856141141, 15202.307176930126, 10862.026686542371, 9074.958909529843, 8101.489276228025, 7843.429329321801, 7628.3679048526565, 7189.044065036298, 7199.951265516304, 7092.091779856523, 6705.306939137428, 6543.202457059306, 6590.303955849676, 6671.372800635383, 6229.838712482834, 5811.505764956234, 5779.941284637759, 5504.495229412949, 5342.596897837897, 5114.0911773135285, 5177.633715400359, 5007.256387794314, 4777.195264623191, 4717.5327136500255, 4478.061694070356, 4382.015136680362, 4322.346379006499, 12863.366724329528, 4884.690280168899, 18566.71125230502, 6003.030340692697, 130134.9282501175, 10401.593495072006, 13493.97243556752, 32008.214486667694, 35413.582985810855, 80839.31436828207, 12487.965260186535, 7898.620072643367, 7096.062208340526, 6683.717504164649, 5072.962798713659, 4803.004558984067, 4442.178543386028, 4493.329156390673, 4322.840136492835, 3856.530809009279, 3721.8162033813605, 3637.3927307558274, 3655.3416805313077, 3395.979632310708, 3384.911836765238, 3354.265480013709, 3259.7926475159175, 3029.022583791536, 2935.0962091095053, 2940.1220853666778, 2544.896686026235, 2408.4131909462135, 2240.4872597012704, 2258.4680530299097, 2048.0566356218746, 1970.9884256997593, 1889.0213597001923, 1883.1521714821718, 1811.083537032715, 1799.2684467510992, 3146.9162381760457, 9447.849462476626, 10086.911093203538, 11132.0691117839, 3178.5414406027526, 2848.4960867328864, 12950.434811087267, 7996.919828772539, 6399.745903088822, 3358.370576394114, 18794.300714167806, 16251.081625300818, 10489.43591601426, 7648.065617834076, 7192.569533927027, 6128.425389946109, 5145.174730505264, 4428.838905809932, 4174.573240088419, 4042.130533273903, 3629.110388224949, 3464.2966852464233, 3392.915147722857, 3366.1019495944897, 3250.5260630319885, 3245.2075991422394, 3149.2645776764734, 3105.6205611305218, 2829.7020208717445, 2744.373028812637, 2574.8976261390585, 2313.883707721232, 2091.254597389933, 1910.618765774201, 1851.0025905146913, 1817.1208937505155, 1705.5207966442113, 1593.3880156051262, 1571.0427796909162, 1467.2470822484026, 3578.707774068281, 5031.830963859811, 2219.0009088956367, 6521.761899279811, 2471.722887209066, 16355.97689841606, 11768.50859238854, 9812.697879729749, 7447.280371452031, 7073.2688068595035, 5947.508815886834, 5846.027619613834, 5201.471799576401, 4862.197216550217, 4813.843703156043, 4342.524147507846, 3975.4289879749876, 3245.5985925057025, 3188.5704663930946, 3078.0077202352613, 3061.2528459634573, 2890.0337884713445, 2820.9337634791295, 2582.3060448318824, 2484.6086525556525, 2235.0551223219027, 2213.817953427874, 2160.2889030498595, 2170.4606949693934, 2048.1963566673385, 2032.2945469540225, 1793.883315578902, 1728.903128751815, 1693.6645182041837, 1632.9957808687725, 4727.2108115005185, 2768.5383393295724, 3647.9563571464532], \"Category\": [\"Default\", \"Default\", \"Default\", \"Default\", \"Default\", \"Default\", \"Default\", \"Default\", \"Default\", \"Default\", \"Default\", \"Default\", \"Default\", \"Default\", \"Default\", \"Default\", \"Default\", \"Default\", \"Default\", \"Default\", \"Default\", \"Default\", \"Default\", \"Default\", \"Default\", \"Default\", \"Default\", \"Default\", \"Default\", \"Default\", \"Topic1\", \"Topic1\", \"Topic1\", \"Topic1\", \"Topic1\", \"Topic1\", \"Topic1\", \"Topic1\", \"Topic1\", \"Topic1\", \"Topic1\", \"Topic1\", \"Topic1\", \"Topic1\", \"Topic1\", \"Topic1\", \"Topic1\", \"Topic1\", \"Topic1\", \"Topic1\", \"Topic1\", \"Topic1\", \"Topic1\", \"Topic1\", \"Topic1\", \"Topic1\", \"Topic1\", \"Topic1\", \"Topic1\", \"Topic1\", \"Topic1\", \"Topic1\", \"Topic1\", \"Topic1\", \"Topic1\", \"Topic1\", \"Topic1\", \"Topic1\", \"Topic1\", \"Topic1\", \"Topic1\", \"Topic1\", \"Topic1\", \"Topic2\", \"Topic2\", \"Topic2\", \"Topic2\", \"Topic2\", \"Topic2\", \"Topic2\", \"Topic2\", \"Topic2\", \"Topic2\", \"Topic2\", \"Topic2\", \"Topic2\", \"Topic2\", \"Topic2\", \"Topic2\", \"Topic2\", \"Topic2\", \"Topic2\", \"Topic2\", \"Topic2\", \"Topic2\", \"Topic2\", \"Topic2\", \"Topic2\", \"Topic2\", \"Topic2\", \"Topic2\", \"Topic2\", \"Topic2\", \"Topic2\", \"Topic2\", \"Topic2\", \"Topic2\", \"Topic2\", \"Topic2\", \"Topic2\", \"Topic2\", \"Topic2\", \"Topic2\", \"Topic3\", \"Topic3\", \"Topic3\", \"Topic3\", \"Topic3\", \"Topic3\", \"Topic3\", \"Topic3\", \"Topic3\", \"Topic3\", \"Topic3\", \"Topic3\", \"Topic3\", \"Topic3\", \"Topic3\", \"Topic3\", \"Topic3\", \"Topic3\", \"Topic3\", \"Topic3\", \"Topic3\", \"Topic3\", \"Topic3\", \"Topic3\", \"Topic3\", \"Topic3\", \"Topic3\", \"Topic3\", \"Topic3\", \"Topic3\", \"Topic3\", \"Topic3\", \"Topic3\", \"Topic3\", \"Topic3\", \"Topic3\", \"Topic3\", \"Topic3\", \"Topic3\", \"Topic3\", \"Topic4\", \"Topic4\", \"Topic4\", \"Topic4\", \"Topic4\", \"Topic4\", \"Topic4\", \"Topic4\", \"Topic4\", \"Topic4\", \"Topic4\", \"Topic4\", \"Topic4\", \"Topic4\", \"Topic4\", \"Topic4\", \"Topic4\", \"Topic4\", \"Topic4\", \"Topic4\", \"Topic4\", \"Topic4\", \"Topic4\", \"Topic4\", \"Topic4\", \"Topic4\", \"Topic4\", \"Topic4\", \"Topic4\", \"Topic4\", \"Topic4\", \"Topic4\", \"Topic4\", \"Topic4\", \"Topic4\", \"Topic5\", \"Topic5\", \"Topic5\", \"Topic5\", \"Topic5\", \"Topic5\", \"Topic5\", \"Topic5\", \"Topic5\", \"Topic5\", \"Topic5\", \"Topic5\", \"Topic5\", \"Topic5\", \"Topic5\", \"Topic5\", \"Topic5\", \"Topic5\", \"Topic5\", \"Topic5\", \"Topic5\", \"Topic5\", \"Topic5\", \"Topic5\", \"Topic5\", \"Topic5\", \"Topic5\", \"Topic5\", \"Topic5\", \"Topic5\", \"Topic5\", \"Topic5\", \"Topic5\"], \"logprob\": [30.0, 29.0, 28.0, 27.0, 26.0, 25.0, 24.0, 23.0, 22.0, 21.0, 20.0, 19.0, 18.0, 17.0, 16.0, 15.0, 14.0, 13.0, 12.0, 11.0, 10.0, 9.0, 8.0, 7.0, 6.0, 5.0, 4.0, 3.0, 2.0, 1.0, -3.0044, -3.1403, -3.5885, -3.6266, -3.9024, -4.252, -4.3688, -4.5124, -4.5327, -4.5914, -4.6651, -4.8605, -4.9433, -4.9592, -5.0858, -5.1211, -5.1868, -5.2157, -5.2189, -5.2231, -5.2086, -5.2724, -5.3001, -5.3099, -5.4473, -5.496, -5.0153, -5.5292, -5.5353, -5.546, -3.7667, -4.3989, -5.0453, -2.698, -4.7292, -4.0811, -3.7028, -2.7032, -3.8592, -4.9582, -4.4591, -5.1428, -5.1033, -3.6202, -3.6534, -3.8908, -4.0355, -4.1217, -4.4579, -4.6377, -4.7511, -4.7835, -4.8113, -4.8706, -4.8691, -4.8842, -4.9403, -4.9648, -4.9576, -4.9454, -5.0139, -5.0834, -5.0888, -5.1377, -5.1675, -5.2112, -5.1989, -5.2324, -5.2794, -5.292, -5.3441, -5.3658, -5.3795, -4.2917, -5.2572, -3.9533, -5.0788, -2.8417, -4.882, -4.9404, -4.7092, -4.7807, -5.1205, -3.4725, -3.9306, -4.0377, -4.0976, -4.3734, -4.4281, -4.5062, -4.4947, -4.5334, -4.6476, -4.6832, -4.7061, -4.7012, -4.7748, -4.7781, -4.7872, -4.8157, -4.8892, -4.9207, -4.919, -5.0634, -5.1185, -5.1908, -5.1828, -5.2806, -5.319, -5.3615, -5.3646, -5.4036, -5.4102, -4.8545, -3.7745, -3.7262, -3.686, -4.914, -5.0098, -3.7812, -4.2613, -4.4413, -4.9225, -2.6865, -2.8319, -3.2697, -3.5857, -3.6471, -3.8072, -3.9821, -4.1321, -4.1912, -4.2234, -4.3312, -4.3777, -4.3986, -4.4065, -4.4414, -4.4431, -4.4731, -4.487, -4.5801, -4.6107, -4.6745, -4.7814, -4.8826, -4.973, -5.0047, -5.0232, -5.0866, -5.1546, -5.1687, -5.2371, -4.4025, -4.4345, -4.9678, -4.5265, -5.0112, -2.7418, -3.0709, -3.2527, -3.5286, -3.5801, -3.7535, -3.7707, -3.8875, -3.955, -3.965, -4.068, -4.1563, -4.3592, -4.377, -4.4122, -4.4177, -4.4753, -4.4995, -4.5879, -4.6265, -4.7323, -4.7419, -4.7664, -4.7617, -4.8197, -4.8275, -4.9523, -4.9892, -5.0098, -5.0463, -4.0073, -4.6363, -4.8899], \"loglift\": [30.0, 29.0, 28.0, 27.0, 26.0, 25.0, 24.0, 23.0, 22.0, 21.0, 20.0, 19.0, 18.0, 17.0, 16.0, 15.0, 14.0, 13.0, 12.0, 11.0, 10.0, 9.0, 8.0, 7.0, 6.0, 5.0, 4.0, 3.0, 2.0, 1.0, 0.9832, 0.9832, 0.9832, 0.9832, 0.9832, 0.9832, 0.9832, 0.9831, 0.9831, 0.9831, 0.9831, 0.9831, 0.9831, 0.9831, 0.9831, 0.9831, 0.9831, 0.9831, 0.9831, 0.9831, 0.9831, 0.9831, 0.9831, 0.9831, 0.9831, 0.9831, 0.9831, 0.9831, 0.9831, 0.9831, 0.9824, 0.9824, 0.9762, 0.9114, 0.9103, 0.813, 0.732, 0.4301, 0.6767, 0.9002, 0.6695, 0.9011, 0.2964, 1.1588, 1.1588, 1.1588, 1.1588, 1.1588, 1.1587, 1.1587, 1.1587, 1.1587, 1.1587, 1.1587, 1.1587, 1.1587, 1.1587, 1.1587, 1.1587, 1.1587, 1.1587, 1.1587, 1.1587, 1.1587, 1.1587, 1.1587, 1.1587, 1.1587, 1.1587, 1.1587, 1.1587, 1.1587, 1.1586, 1.1558, 1.1586, 1.1272, 1.1309, 0.2917, 0.778, 0.4592, -0.1732, -0.3458, -1.511, 2.0047, 2.0046, 2.0046, 2.0046, 2.0046, 2.0046, 2.0046, 2.0046, 2.0046, 2.0046, 2.0046, 2.0045, 2.0045, 2.0045, 2.0045, 2.0045, 2.0045, 2.0045, 2.0045, 2.0045, 2.0045, 2.0045, 2.0044, 2.0044, 2.0044, 2.0044, 2.0044, 2.0044, 2.0044, 2.0044, 2.001, 1.9817, 1.9645, 1.9061, 1.9315, 1.9453, 1.6596, 1.6616, 1.7044, 1.8679, 2.3818, 2.3818, 2.3818, 2.3818, 2.3818, 2.3818, 2.3817, 2.3817, 2.3817, 2.3817, 2.3817, 2.3817, 2.3817, 2.3817, 2.3817, 2.3817, 2.3817, 2.3817, 2.3816, 2.3816, 2.3816, 2.3816, 2.3816, 2.3815, 2.3815, 2.3815, 2.3815, 2.3814, 2.3814, 2.3814, 2.3244, 1.9516, 2.2371, 1.6003, 2.0858, 2.4656, 2.4656, 2.4655, 2.4655, 2.4655, 2.4655, 2.4655, 2.4655, 2.4655, 2.4655, 2.4655, 2.4654, 2.4654, 2.4654, 2.4654, 2.4654, 2.4654, 2.4654, 2.4653, 2.4653, 2.4653, 2.4653, 2.4653, 2.4653, 2.4653, 2.4653, 2.4652, 2.4652, 2.4652, 2.4652, 2.4413, 2.3473, 1.8179]}, \"token.table\": {\"Topic\": [2, 5, 3, 5, 4, 4, 2, 5, 4, 4, 5, 2, 1, 2, 3, 4, 4, 1, 1, 4, 1, 4, 3, 1, 2, 5, 4, 5, 1, 5, 1, 3, 2, 5, 3, 1, 2, 3, 4, 4, 4, 5, 3, 4, 5, 3, 4, 1, 3, 3, 4, 2, 3, 4, 5, 4, 4, 2, 5, 3, 1, 2, 4, 1, 2, 3, 5, 1, 1, 5, 1, 2, 1, 5, 3, 1, 2, 3, 4, 3, 2, 3, 1, 2, 3, 2, 3, 1, 1, 1, 2, 1, 5, 5, 5, 4, 2, 5, 4, 5, 4, 4, 5, 2, 3, 4, 5, 1, 2, 1, 2, 1, 5, 1, 2, 4, 1, 1, 2, 5, 3, 3, 2, 3, 2, 2, 3, 1, 2, 2, 1, 3, 1, 2, 2, 3, 3, 5, 2, 3, 5, 1, 5, 5, 2, 5, 1, 1, 4, 2, 2, 3, 4, 1, 1, 1, 2, 3, 4, 1, 1, 3, 1, 3, 4, 1, 2, 4, 5, 3, 5, 5, 1, 2, 3, 1, 2, 2, 4, 2, 5, 3, 2, 2, 2, 1, 2, 3, 1, 2, 4, 4, 2, 4, 2, 5, 2, 3, 5, 3, 4, 2, 4, 2, 3, 3, 4, 2, 1, 2, 4, 3, 3, 2, 2, 5, 2, 4, 1, 2, 3, 1, 2, 4, 2, 5, 1, 1, 2, 3, 3], \"Freq\": [0.999867878895117, 0.999909294985231, 0.9994840789050964, 0.9999041319125975, 0.9997564839189663, 0.9996946406955365, 0.9999396066314054, 0.9996422919083271, 0.9996940329430177, 0.9996180846434576, 0.9994776290604164, 0.9999565872501597, 0.9999551346445923, 0.9997497978296925, 0.9998102097823577, 0.9998381606479113, 0.9994583527220172, 0.999952685928501, 0.999952191044174, 0.9997519099655842, 0.9999771489773076, 0.9999159874726471, 0.9994017189099459, 0.5751876226199281, 0.42014085484348535, 0.0046643895544580816, 0.9998316014723136, 0.9999619967985321, 0.9998688658953118, 0.9999144489058217, 0.9999682894348144, 0.9999267455422879, 0.9998653717180264, 0.9998814839037011, 0.9998623610090087, 0.9297239855739584, 0.022513073206907402, 0.003391090524889818, 0.04436676770064178, 0.9996726333275133, 0.9997203125271199, 0.9998550667990208, 0.9999227047668356, 0.023904159240178115, 0.9760512454352374, 0.9996476532697148, 0.9993831484991612, 0.05757424093501269, 0.9422516016437442, 0.9962133602313634, 0.003495485474496012, 0.6832606949470872, 0.2427512670242571, 0.07402711905294176, 0.9998662664750758, 0.9999208163474346, 0.9998001812783285, 0.9998586849668439, 0.9998210902349165, 0.9997568411240754, 0.7778936124886783, 0.2220899253021437, 0.9999305873990394, 0.058517406010200855, 0.011955168969825982, 0.9293570825491039, 0.9996076447271339, 0.9999717565820754, 0.9999620318612392, 0.9997877432332862, 0.9202746337132589, 0.0796008250052615, 0.9999522156767444, 0.9998920901426525, 0.9997927564088047, 0.9930070919167846, 0.006900674717976265, 0.2560966697665485, 0.7436108673474189, 0.9998284385138867, 0.9999441193519649, 0.9996183541587397, 0.7307098979845436, 0.2470546496008371, 0.022207794440331424, 0.09387293498688494, 0.9061208566628789, 0.9999941593243499, 0.9999811305944325, 0.9999209063833847, 0.9997629121385796, 0.9998795527430432, 0.9999402726952888, 0.9995075958557443, 0.9998242191654405, 0.9998606683196348, 0.999945262549865, 0.9996689878042447, 0.9998105810963611, 0.9999623525048008, 0.9996513934651435, 0.9441955625671964, 0.05560666379132054, 0.03935793587667236, 0.9605517398213566, 0.9998640750332696, 0.9998155679180153, 0.9998524811056257, 0.9999517714854285, 0.9992381809972011, 0.0007346770930634943, 0.9999205470876702, 0.9993902122219552, 0.452791752536396, 0.08939302124237009, 0.4576984020728554, 0.9999695709962279, 0.9212297597514805, 0.07875688768826813, 0.9999567836158212, 0.9999065256927615, 0.9997115317473086, 0.999948796751263, 0.9997346924770094, 0.999912971787917, 0.9997683402159283, 0.9998926489391268, 0.8435033380768651, 0.1564526594207222, 0.9998870779107722, 0.2593852982817341, 0.7404981497332156, 0.9999308699466832, 0.9998162280523647, 0.9999542244463655, 0.9993881686782301, 0.9998056517321233, 0.9997550308154057, 0.034314135603773194, 0.07693590403793359, 0.8885555114240217, 0.9999219719337216, 0.00013485124368627397, 0.9999594388007247, 0.47670526446766504, 0.5233066991769825, 0.9998707015241558, 0.9999392523330766, 0.9999839997149997, 0.9998882757113609, 0.9999415507061147, 0.9997306172777282, 0.9997302768613382, 0.9998646043429691, 0.9999640462205608, 0.9999790913955366, 0.022756501450822298, 0.97715358787903, 0.9999334428731725, 0.9999533475684624, 0.9999706506253767, 0.9994593180776132, 0.1277405188740719, 0.872149137021344, 0.9999143591691535, 0.9999359849353765, 0.9998943345595939, 0.9993362499707861, 0.9998792988846944, 0.999782520655201, 0.9999174044170214, 0.9998247339946891, 0.9998773533661397, 0.29036179550600894, 0.7095231816111519, 0.9998602162860477, 0.9998776052082492, 0.9999100318208466, 0.9998626829485433, 0.9998371463322195, 0.9999288799330925, 0.9998503101707201, 0.9999741912307002, 0.9997866331913735, 0.9999797940584576, 0.9999525118308644, 0.9998460567219922, 0.9996265168051041, 0.001788613342666084, 0.34778592774062744, 0.6502603174670474, 0.9999360290101952, 0.9725088278208412, 0.027486117949715453, 0.9970173652705585, 0.0029541255267275805, 0.9998547699768073, 0.9998508022793464, 0.9996305236270185, 0.9998920295978747, 0.9998782561481271, 0.9689384272492835, 0.031077124653854173, 0.2918048741316918, 0.708161550849893, 0.9999214960793577, 0.9997716830687403, 0.9999538783261421, 0.7360610511346515, 0.263932247877145, 0.9996761437785051, 0.9994985126818244, 0.9997806975581924, 0.9999868908725827, 0.9999054792837471, 0.9995279211186494, 0.13474532561088845, 0.8652542647923273, 0.5031876293227681, 0.4968144133990924, 0.9999208530108035, 0.9992094340734601, 0.0008003570796481513, 0.99995844237786, 0.9999198632001866, 0.9996726063327793, 0.9999084244562162, 0.9307352565761121, 0.06926085461947969, 0.9996624046987936, 0.9997908477970964], \"Term\": [\"able\", \"access\", \"account\", \"adapter\", \"address\", \"advertise\", \"alert\", \"amazing\", \"amazon\", \"android\", \"angle\", \"app\", \"area\", \"away\", \"bad\", \"base\", \"battery\", \"big\", \"bit\", \"box\", \"buy\", \"cable\", \"call\", \"camera\", \"camera\", \"camera\", \"car\", \"card\", \"case\", \"change\", \"cheap\", \"check\", \"clear\", \"clip\", \"cloud\", \"come\", \"come\", \"come\", \"come\", \"company\", \"computer\", \"configure\", \"connect\", \"connection\", \"connection\", \"contact\", \"cord\", \"couple\", \"couple\", \"customer_service\", \"customer_service\", \"day\", \"day\", \"day\", \"design\", \"device\", \"display\", \"dlink\", \"door\", \"easily\", \"easy\", \"easy\", \"email\", \"end\", \"end\", \"end\", \"exactly\", \"excellent\", \"expect\", \"fail\", \"far\", \"far\", \"feature\", \"figure\", \"finally\", \"fine\", \"fine\", \"firmware\", \"firmware\", \"fix\", \"frame\", \"free\", \"get\", \"get\", \"get\", \"go\", \"go\", \"good\", \"great\", \"happy\", \"help\", \"hold\", \"home\", \"hook\", \"hour\", \"house\", \"image\", \"inside\", \"instal\", \"install\", \"installation\", \"instruction\", \"instruction\", \"issue\", \"issue\", \"item\", \"leave\", \"lens\", \"light\", \"like\", \"like\", \"little\", \"location\", \"long\", \"long\", \"long\", \"look\", \"lot\", \"lot\", \"love\", \"model\", \"money\", \"monitor\", \"month\", \"motion\", \"motion_detection\", \"mount\", \"need\", \"need\", \"network\", \"new\", \"new\", \"nice\", \"night\", \"night_vision\", \"offer\", \"old\", \"online\", \"open\", \"open\", \"open\", \"option\", \"option\", \"order\", \"outside\", \"outside\", \"overall\", \"perfect\", \"phone\", \"photo\", \"picture\", \"place\", \"plug\", \"power\", \"pretty\", \"price\", \"problem\", \"problem\", \"product\", \"purchase\", \"quality\", \"real\", \"reason\", \"reason\", \"receive\", \"recommend\", \"record\", \"reliable\", \"remote\", \"replace\", \"reset\", \"resolution\", \"return\", \"review\", \"review\", \"room\", \"router\", \"run\", \"screen\", \"second\", \"security\", \"send\", \"set\", \"setting\", \"setup\", \"small\", \"software\", \"spend\", \"star\", \"star\", \"star\", \"store\", \"support\", \"support\", \"system\", \"system\", \"take\", \"tech_support\", \"telescope\", \"tell\", \"thank\", \"time\", \"time\", \"try\", \"try\", \"turn\", \"unit\", \"update\", \"use\", \"use\", \"useless\", \"user\", \"version\", \"video\", \"view\", \"walk\", \"wall\", \"wall\", \"want\", \"want\", \"week\", \"well\", \"well\", \"wifi\", \"window\", \"wire\", \"wish\", \"work\", \"work\", \"worth\", \"year\"]}, \"R\": 30, \"lambda.step\": 0.01, \"plot.opts\": {\"xlab\": \"PC1\", \"ylab\": \"PC2\"}, \"topic.order\": [2, 4, 3, 1, 5]};\n",
       "\n",
       "function LDAvis_load_lib(url, callback){\n",
       "  var s = document.createElement('script');\n",
       "  s.src = url;\n",
       "  s.async = true;\n",
       "  s.onreadystatechange = s.onload = callback;\n",
       "  s.onerror = function(){console.warn(\"failed to load library \" + url);};\n",
       "  document.getElementsByTagName(\"head\")[0].appendChild(s);\n",
       "}\n",
       "\n",
       "if(typeof(LDAvis) !== \"undefined\"){\n",
       "   // already loaded: just create the visualization\n",
       "   !function(LDAvis){\n",
       "       new LDAvis(\"#\" + \"ldavis_el698017655107682241251953104\", ldavis_el698017655107682241251953104_data);\n",
       "   }(LDAvis);\n",
       "}else if(typeof define === \"function\" && define.amd){\n",
       "   // require.js is available: use it to load d3/LDAvis\n",
       "   require.config({paths: {d3: \"https://d3js.org/d3.v5\"}});\n",
       "   require([\"d3\"], function(d3){\n",
       "      window.d3 = d3;\n",
       "      LDAvis_load_lib(\"https://cdn.jsdelivr.net/gh/bmabey/pyLDAvis@3.3.1/pyLDAvis/js/ldavis.v3.0.0.js\", function(){\n",
       "        new LDAvis(\"#\" + \"ldavis_el698017655107682241251953104\", ldavis_el698017655107682241251953104_data);\n",
       "      });\n",
       "    });\n",
       "}else{\n",
       "    // require.js not available: dynamically load d3 & LDAvis\n",
       "    LDAvis_load_lib(\"https://d3js.org/d3.v5.js\", function(){\n",
       "         LDAvis_load_lib(\"https://cdn.jsdelivr.net/gh/bmabey/pyLDAvis@3.3.1/pyLDAvis/js/ldavis.v3.0.0.js\", function(){\n",
       "                 new LDAvis(\"#\" + \"ldavis_el698017655107682241251953104\", ldavis_el698017655107682241251953104_data);\n",
       "            })\n",
       "         });\n",
       "}\n",
       "</script>"
      ],
      "text/plain": [
       "PreparedData(topic_coordinates=              x         y  topics  cluster       Freq\n",
       "topic                                                \n",
       "1     -0.280229 -0.073961       1        1  37.411307\n",
       "3     -0.237931 -0.033083       2        1  31.385753\n",
       "2      0.052228  0.242208       3        1  13.469582\n",
       "0      0.214144  0.191645       4        1   9.237656\n",
       "4      0.251788 -0.326809       5        1   8.495702, topic_info=            Term           Freq          Total Category  logprob  loglift\n",
       "151         work   80839.000000   80839.000000  Default  30.0000  30.0000\n",
       "46         great   55386.000000   55386.000000  Default  29.0000  29.0000\n",
       "9           good   48346.000000   48346.000000  Default  28.0000  28.0000\n",
       "2565       phone   18794.000000   18794.000000  Default  27.0000  27.0000\n",
       "4         camera  130134.000000  130134.000000  Default  26.0000  26.0000\n",
       "...          ...            ...            ...      ...      ...      ...\n",
       "375      exactly    1692.993273    1693.664518   Topic5  -5.0098   2.4652\n",
       "1920    location    1632.316135    1632.995781   Topic5  -5.0463   2.4652\n",
       "2896  connection    4613.827463    4727.210812   Topic5  -4.0073   2.4413\n",
       "174         open    2459.698463    2768.538339   Topic5  -4.6363   2.3473\n",
       "803      outside    1908.758020    3647.956357   Topic5  -4.8899   1.8179\n",
       "\n",
       "[221 rows x 6 columns], token_table=      Topic      Freq     Term\n",
       "term                          \n",
       "179       2  0.999868     able\n",
       "1844      5  0.999909   access\n",
       "1766      3  0.999484  account\n",
       "1947      5  0.999904  adapter\n",
       "4421      4  0.999756  address\n",
       "...     ...       ...      ...\n",
       "787       1  0.999908     wish\n",
       "151       1  0.930735     work\n",
       "151       2  0.069261     work\n",
       "152       3  0.999662    worth\n",
       "143       3  0.999791     year\n",
       "\n",
       "[231 rows x 3 columns], R=30, lambda_step=0.01, plot_opts={'xlab': 'PC1', 'ylab': 'PC2'}, topic_order=[2, 4, 3, 1, 5])"
      ]
     },
     "execution_count": 92,
     "metadata": {},
     "output_type": "execute_result"
    }
   ],
   "source": [
    "pyLDAvis.enable_notebook()\n",
    "vis = pyLDAvis.gensim_models.prepare(lda_model, corpus, id2word)\n",
    "vis"
   ]
  },
  {
   "cell_type": "code",
   "execution_count": null,
   "metadata": {},
   "outputs": [],
   "source": []
  },
  {
   "cell_type": "code",
   "execution_count": 95,
   "metadata": {},
   "outputs": [],
   "source": [
    "def compute_coherence_values(dictionary, corpus, texts, limit, start=2, step=3):\n",
    "    \"\"\"\n",
    "    Compute c_v coherence for various number of topics\n",
    "\n",
    "    Parameters:\n",
    "    ----------\n",
    "    dictionary : Gensim dictionary\n",
    "    corpus : Gensim corpus\n",
    "    texts : List of input texts\n",
    "    limit : Max num of topics\n",
    "\n",
    "    Returns:\n",
    "    -------\n",
    "    model_list : List of LDA topic models\n",
    "    coherence_values : Coherence values corresponding to the LDA model with respective number of topics\n",
    "    \"\"\"\n",
    "    coherence_values = []\n",
    "    model_list = []\n",
    "    for num_topics in range(start, limit, step):\n",
    "        model = gensim.models.ldamodel.LdaModel(corpus=corpus, \n",
    "                                                num_topics=num_topics, \n",
    "                                                id2word=id2word, \n",
    "                                                passes = 5,\n",
    "                                                update_every = 1,\n",
    "                                                random_state = 100,\n",
    "                                                alpha = 'auto')\n",
    "        model_list.append(model)\n",
    "        coherencemodel = CoherenceModel(model=model, texts=texts, dictionary=dictionary, coherence='c_v')\n",
    "        coherence_values.append(coherencemodel.get_coherence())\n",
    "\n",
    "    return model_list, coherence_values"
   ]
  },
  {
   "cell_type": "code",
   "execution_count": null,
   "metadata": {},
   "outputs": [],
   "source": []
  },
  {
   "cell_type": "code",
   "execution_count": 96,
   "metadata": {},
   "outputs": [],
   "source": [
    "model_list, coherence_values = compute_coherence_values(dictionary=id2word,\n",
    "                                                        corpus=corpus, \n",
    "                                                        texts=trigram_docs, \n",
    "                                                        start=2, limit=26, step=3)"
   ]
  },
  {
   "cell_type": "code",
   "execution_count": 97,
   "metadata": {},
   "outputs": [
    {
     "data": {
      "image/png": "[encoded data removed]",
      "text/plain": [
       "<Figure size 432x288 with 1 Axes>"
      ]
     },
     "metadata": {
      "needs_background": "light"
     },
     "output_type": "display_data"
    }
   ],
   "source": [
    "# Show graph\n",
    "limit=26; start=2; step=3;\n",
    "x = range(start, limit, step)\n",
    "plt.plot(x, coherence_values)\n",
    "plt.xlabel(\"Num Topics\")\n",
    "plt.ylabel(\"Coherence score\")\n",
    "plt.legend((\"coherence_values\"), loc='best')\n",
    "plt.show()"
   ]
  },
  {
   "cell_type": "code",
   "execution_count": 98,
   "metadata": {},
   "outputs": [
    {
     "name": "stdout",
     "output_type": "stream",
     "text": [
      "Num Topics = 2  has Coherence Value of 0.4071\n",
      "Num Topics = 5  has Coherence Value of 0.5435\n",
      "Num Topics = 8  has Coherence Value of 0.5004\n",
      "Num Topics = 11  has Coherence Value of 0.4268\n",
      "Num Topics = 14  has Coherence Value of 0.461\n",
      "Num Topics = 17  has Coherence Value of 0.4298\n",
      "Num Topics = 20  has Coherence Value of 0.4275\n",
      "Num Topics = 23  has Coherence Value of 0.421\n"
     ]
    }
   ],
   "source": [
    "# Print the coherence scores\n",
    "for m, cv in zip(x, coherence_values):\n",
    "    print(\"Num Topics =\", m, \" has Coherence Value of\", round(cv, 4))"
   ]
  },
  {
   "cell_type": "code",
   "execution_count": 64,
   "metadata": {},
   "outputs": [
    {
     "name": "stdout",
     "output_type": "stream",
     "text": [
      "[(0, '0.026*\"picture\" + 0.024*\"camera\" + 0.015*\"lens\" + 0.014*\"use\" + 0.013*\"love\" + 0.012*\"great\" + 0.012*\"image\" + 0.012*\"light\" + 0.011*\"photo\" + 0.011*\"quality\"'), (1, '0.023*\"work\" + 0.021*\"buy\" + 0.014*\"get\" + 0.013*\"time\" + 0.012*\"try\" + 0.012*\"review\" + 0.012*\"product\" + 0.011*\"go\" + 0.011*\"day\" + 0.011*\"send\"'), (2, '0.058*\"camera\" + 0.016*\"work\" + 0.014*\"app\" + 0.014*\"system\" + 0.014*\"set\" + 0.012*\"easy\" + 0.012*\"video\" + 0.011*\"use\" + 0.010*\"setup\" + 0.010*\"phone\"'), (3, '0.143*\"great\" + 0.094*\"work\" + 0.086*\"good\" + 0.063*\"price\" + 0.054*\"product\" + 0.048*\"quality\" + 0.022*\"excellent\" + 0.017*\"buy\" + 0.016*\"easy\" + 0.014*\"nice\"'), (4, '0.039*\"camera\" + 0.031*\"fit\" + 0.027*\"case\" + 0.020*\"bag\" + 0.019*\"lens\" + 0.017*\"small\" + 0.017*\"love\" + 0.017*\"hold\" + 0.016*\"battery\" + 0.014*\"canon\"')]\n"
     ]
    }
   ],
   "source": [
    "optimal_model = model_list[1]\n",
    "model_topics = optimal_model.show_topics(formatted=False)\n",
    "print(optimal_model.print_topics(num_words=10))"
   ]
  },
  {
   "cell_type": "code",
   "execution_count": 65,
   "metadata": {},
   "outputs": [],
   "source": [
    "lda_model = model_list[1]"
   ]
  },
  {
   "cell_type": "code",
   "execution_count": 50,
   "metadata": {},
   "outputs": [],
   "source": [
    "data_df = data_df.reset_index(drop = True)"
   ]
  },
  {
   "cell_type": "code",
   "execution_count": 51,
   "metadata": {},
   "outputs": [],
   "source": [
    "data = data_df.reviewText"
   ]
  },
  {
   "cell_type": "code",
   "execution_count": 69,
   "metadata": {},
   "outputs": [],
   "source": [
    "def format_topics_sentences(ldamodel=lda_model, corpus=corpus, texts=data):\n",
    "    # Init output\n",
    "    sent_topics_df = pd.DataFrame()\n",
    "\n",
    "    # Get main topic in each document\n",
    "    for i, row in enumerate(ldamodel[corpus]):\n",
    "        row = sorted(row, key=lambda x: (x[1]), reverse=True)\n",
    "        # Get the Dominant topic, Perc Contribution and Keywords for each document\n",
    "        for j, (topic_num, prop_topic) in enumerate(row):\n",
    "            if j == 0:  # => dominant topic\n",
    "                wp = ldamodel.show_topic(topic_num)\n",
    "                topic_keywords = \", \".join([word for word, prop in wp])\n",
    "                sent_topics_df = sent_topics_df.append(pd.Series([int(topic_num), round(prop_topic,4), topic_keywords]), ignore_index=True)\n",
    "            else:\n",
    "                break\n",
    "    sent_topics_df.columns = ['Dominant_Topic', 'Perc_Contribution', 'Topic_Keywords']\n",
    "\n",
    "    # Add original text to the end of the output\n",
    "    contents = pd.Series(texts)\n",
    "    sent_topics_df = pd.concat([sent_topics_df, contents], axis=1)\n",
    "    return(sent_topics_df)"
   ]
  },
  {
   "cell_type": "code",
   "execution_count": 77,
   "metadata": {},
   "outputs": [],
   "source": [
    "df_topic_sents_keywords = format_topics_sentences(ldamodel=lda_model, corpus=corpus, texts=data)"
   ]
  },
  {
   "cell_type": "code",
   "execution_count": 82,
   "metadata": {},
   "outputs": [],
   "source": [
    "df_dominant_topic = df_topic_sents_keywords.reset_index()\n",
    "df_dominant_topic.columns = ['Document_No', 'Dominant_Topic', 'Topic_Perc_Contrib', 'Keywords', 'Text']"
   ]
  },
  {
   "cell_type": "code",
   "execution_count": 83,
   "metadata": {},
   "outputs": [
    {
     "data": {
      "text/html": [
       "<div>\n",
       "<style scoped>\n",
       "    .dataframe tbody tr th:only-of-type {\n",
       "        vertical-align: middle;\n",
       "    }\n",
       "\n",
       "    .dataframe tbody tr th {\n",
       "        vertical-align: top;\n",
       "    }\n",
       "\n",
       "    .dataframe thead th {\n",
       "        text-align: right;\n",
       "    }\n",
       "</style>\n",
       "<table border=\"1\" class=\"dataframe\">\n",
       "  <thead>\n",
       "    <tr style=\"text-align: right;\">\n",
       "      <th></th>\n",
       "      <th>Document_No</th>\n",
       "      <th>Dominant_Topic</th>\n",
       "      <th>Topic_Perc_Contrib</th>\n",
       "      <th>Keywords</th>\n",
       "      <th>Text</th>\n",
       "    </tr>\n",
       "  </thead>\n",
       "  <tbody>\n",
       "    <tr>\n",
       "      <th>0</th>\n",
       "      <td>0</td>\n",
       "      <td>1.0</td>\n",
       "      <td>0.8579</td>\n",
       "      <td>feature, quality, good, great, frame, nice, re...</td>\n",
       "      <td>I bought this lens for my Rebel 2000 camera an...</td>\n",
       "    </tr>\n",
       "    <tr>\n",
       "      <th>1</th>\n",
       "      <td>1</td>\n",
       "      <td>1.0</td>\n",
       "      <td>0.4772</td>\n",
       "      <td>feature, quality, good, great, frame, nice, re...</td>\n",
       "      <td>Canon EF Lenses Have A Built In AF Motor..Comp...</td>\n",
       "    </tr>\n",
       "    <tr>\n",
       "      <th>2</th>\n",
       "      <td>2</td>\n",
       "      <td>1.0</td>\n",
       "      <td>0.4634</td>\n",
       "      <td>feature, quality, good, great, frame, nice, re...</td>\n",
       "      <td>I bought this lens about six months after repl...</td>\n",
       "    </tr>\n",
       "    <tr>\n",
       "      <th>3</th>\n",
       "      <td>3</td>\n",
       "      <td>2.0</td>\n",
       "      <td>0.6736</td>\n",
       "      <td>phone, connect, like, time, buy, try, go, get,...</td>\n",
       "      <td>Bought this as a replacement and it was worth ...</td>\n",
       "    </tr>\n",
       "    <tr>\n",
       "      <th>4</th>\n",
       "      <td>4</td>\n",
       "      <td>0.0</td>\n",
       "      <td>0.5982</td>\n",
       "      <td>work, great, good, product, quality, price, bu...</td>\n",
       "      <td>good</td>\n",
       "    </tr>\n",
       "    <tr>\n",
       "      <th>5</th>\n",
       "      <td>5</td>\n",
       "      <td>1.0</td>\n",
       "      <td>0.7298</td>\n",
       "      <td>feature, quality, good, great, frame, nice, re...</td>\n",
       "      <td>good for starters.</td>\n",
       "    </tr>\n",
       "    <tr>\n",
       "      <th>6</th>\n",
       "      <td>6</td>\n",
       "      <td>2.0</td>\n",
       "      <td>0.7318</td>\n",
       "      <td>phone, connect, like, time, buy, try, go, get,...</td>\n",
       "      <td>Just like new...</td>\n",
       "    </tr>\n",
       "    <tr>\n",
       "      <th>7</th>\n",
       "      <td>7</td>\n",
       "      <td>1.0</td>\n",
       "      <td>0.6950</td>\n",
       "      <td>feature, quality, good, great, frame, nice, re...</td>\n",
       "      <td>It fit my canon camera and works greats. The p...</td>\n",
       "    </tr>\n",
       "    <tr>\n",
       "      <th>8</th>\n",
       "      <td>8</td>\n",
       "      <td>1.0</td>\n",
       "      <td>0.3588</td>\n",
       "      <td>feature, quality, good, great, frame, nice, re...</td>\n",
       "      <td>Good for the price. The image quality is good,...</td>\n",
       "    </tr>\n",
       "    <tr>\n",
       "      <th>9</th>\n",
       "      <td>9</td>\n",
       "      <td>0.0</td>\n",
       "      <td>0.7995</td>\n",
       "      <td>work, great, good, product, quality, price, bu...</td>\n",
       "      <td>Great Product would purchase again.</td>\n",
       "    </tr>\n",
       "  </tbody>\n",
       "</table>\n",
       "</div>"
      ],
      "text/plain": [
       "   Document_No  Dominant_Topic  Topic_Perc_Contrib  \\\n",
       "0            0             1.0              0.8579   \n",
       "1            1             1.0              0.4772   \n",
       "2            2             1.0              0.4634   \n",
       "3            3             2.0              0.6736   \n",
       "4            4             0.0              0.5982   \n",
       "5            5             1.0              0.7298   \n",
       "6            6             2.0              0.7318   \n",
       "7            7             1.0              0.6950   \n",
       "8            8             1.0              0.3588   \n",
       "9            9             0.0              0.7995   \n",
       "\n",
       "                                            Keywords  \\\n",
       "0  feature, quality, good, great, frame, nice, re...   \n",
       "1  feature, quality, good, great, frame, nice, re...   \n",
       "2  feature, quality, good, great, frame, nice, re...   \n",
       "3  phone, connect, like, time, buy, try, go, get,...   \n",
       "4  work, great, good, product, quality, price, bu...   \n",
       "5  feature, quality, good, great, frame, nice, re...   \n",
       "6  phone, connect, like, time, buy, try, go, get,...   \n",
       "7  feature, quality, good, great, frame, nice, re...   \n",
       "8  feature, quality, good, great, frame, nice, re...   \n",
       "9  work, great, good, product, quality, price, bu...   \n",
       "\n",
       "                                                Text  \n",
       "0  I bought this lens for my Rebel 2000 camera an...  \n",
       "1  Canon EF Lenses Have A Built In AF Motor..Comp...  \n",
       "2  I bought this lens about six months after repl...  \n",
       "3  Bought this as a replacement and it was worth ...  \n",
       "4                                               good  \n",
       "5                                 good for starters.  \n",
       "6                                   Just like new...  \n",
       "7  It fit my canon camera and works greats. The p...  \n",
       "8  Good for the price. The image quality is good,...  \n",
       "9                Great Product would purchase again.  "
      ]
     },
     "execution_count": 83,
     "metadata": {},
     "output_type": "execute_result"
    }
   ],
   "source": [
    "df_dominant_topic.head(10)"
   ]
  },
  {
   "cell_type": "code",
   "execution_count": 84,
   "metadata": {},
   "outputs": [
    {
     "data": {
      "text/plain": [
       "Document_No           0\n",
       "Dominant_Topic        0\n",
       "Topic_Perc_Contrib    0\n",
       "Keywords              0\n",
       "Text                  0\n",
       "dtype: int64"
      ]
     },
     "execution_count": 84,
     "metadata": {},
     "output_type": "execute_result"
    }
   ],
   "source": [
    "df_dominant_topic.isna().sum()"
   ]
  },
  {
   "cell_type": "code",
   "execution_count": 78,
   "metadata": {},
   "outputs": [
    {
     "data": {
      "text/html": [
       "<div>\n",
       "<style scoped>\n",
       "    .dataframe tbody tr th:only-of-type {\n",
       "        vertical-align: middle;\n",
       "    }\n",
       "\n",
       "    .dataframe tbody tr th {\n",
       "        vertical-align: top;\n",
       "    }\n",
       "\n",
       "    .dataframe thead th {\n",
       "        text-align: right;\n",
       "    }\n",
       "</style>\n",
       "<table border=\"1\" class=\"dataframe\">\n",
       "  <thead>\n",
       "    <tr style=\"text-align: right;\">\n",
       "      <th></th>\n",
       "      <th>Dominant_Topic</th>\n",
       "      <th>Topic_Keywords</th>\n",
       "      <th>Num_Documents</th>\n",
       "      <th>Perc_Documents</th>\n",
       "    </tr>\n",
       "  </thead>\n",
       "  <tbody>\n",
       "    <tr>\n",
       "      <th>0.0</th>\n",
       "      <td>1.0</td>\n",
       "      <td>feature, quality, good, great, frame, nice, re...</td>\n",
       "      <td>22341.0</td>\n",
       "      <td>0.1725</td>\n",
       "    </tr>\n",
       "    <tr>\n",
       "      <th>1.0</th>\n",
       "      <td>1.0</td>\n",
       "      <td>feature, quality, good, great, frame, nice, re...</td>\n",
       "      <td>41072.0</td>\n",
       "      <td>0.3172</td>\n",
       "    </tr>\n",
       "    <tr>\n",
       "      <th>2.0</th>\n",
       "      <td>1.0</td>\n",
       "      <td>feature, quality, good, great, frame, nice, re...</td>\n",
       "      <td>24790.0</td>\n",
       "      <td>0.1914</td>\n",
       "    </tr>\n",
       "    <tr>\n",
       "      <th>3.0</th>\n",
       "      <td>2.0</td>\n",
       "      <td>phone, connect, like, time, buy, try, go, get,...</td>\n",
       "      <td>28707.0</td>\n",
       "      <td>0.2217</td>\n",
       "    </tr>\n",
       "    <tr>\n",
       "      <th>4.0</th>\n",
       "      <td>0.0</td>\n",
       "      <td>work, great, good, product, quality, price, bu...</td>\n",
       "      <td>12587.0</td>\n",
       "      <td>0.0972</td>\n",
       "    </tr>\n",
       "    <tr>\n",
       "      <th>...</th>\n",
       "      <td>...</td>\n",
       "      <td>...</td>\n",
       "      <td>...</td>\n",
       "      <td>...</td>\n",
       "    </tr>\n",
       "    <tr>\n",
       "      <th>129492.0</th>\n",
       "      <td>3.0</td>\n",
       "      <td>camera, app, set, easy, video, work, setup, us...</td>\n",
       "      <td>NaN</td>\n",
       "      <td>NaN</td>\n",
       "    </tr>\n",
       "    <tr>\n",
       "      <th>129493.0</th>\n",
       "      <td>0.0</td>\n",
       "      <td>work, great, good, product, quality, price, bu...</td>\n",
       "      <td>NaN</td>\n",
       "      <td>NaN</td>\n",
       "    </tr>\n",
       "    <tr>\n",
       "      <th>129494.0</th>\n",
       "      <td>3.0</td>\n",
       "      <td>camera, app, set, easy, video, work, setup, us...</td>\n",
       "      <td>NaN</td>\n",
       "      <td>NaN</td>\n",
       "    </tr>\n",
       "    <tr>\n",
       "      <th>129495.0</th>\n",
       "      <td>3.0</td>\n",
       "      <td>camera, app, set, easy, video, work, setup, us...</td>\n",
       "      <td>NaN</td>\n",
       "      <td>NaN</td>\n",
       "    </tr>\n",
       "    <tr>\n",
       "      <th>129496.0</th>\n",
       "      <td>3.0</td>\n",
       "      <td>camera, app, set, easy, video, work, setup, us...</td>\n",
       "      <td>NaN</td>\n",
       "      <td>NaN</td>\n",
       "    </tr>\n",
       "  </tbody>\n",
       "</table>\n",
       "<p>129497 rows × 4 columns</p>\n",
       "</div>"
      ],
      "text/plain": [
       "          Dominant_Topic                                     Topic_Keywords  \\\n",
       "0.0                  1.0  feature, quality, good, great, frame, nice, re...   \n",
       "1.0                  1.0  feature, quality, good, great, frame, nice, re...   \n",
       "2.0                  1.0  feature, quality, good, great, frame, nice, re...   \n",
       "3.0                  2.0  phone, connect, like, time, buy, try, go, get,...   \n",
       "4.0                  0.0  work, great, good, product, quality, price, bu...   \n",
       "...                  ...                                                ...   \n",
       "129492.0             3.0  camera, app, set, easy, video, work, setup, us...   \n",
       "129493.0             0.0  work, great, good, product, quality, price, bu...   \n",
       "129494.0             3.0  camera, app, set, easy, video, work, setup, us...   \n",
       "129495.0             3.0  camera, app, set, easy, video, work, setup, us...   \n",
       "129496.0             3.0  camera, app, set, easy, video, work, setup, us...   \n",
       "\n",
       "          Num_Documents  Perc_Documents  \n",
       "0.0             22341.0          0.1725  \n",
       "1.0             41072.0          0.3172  \n",
       "2.0             24790.0          0.1914  \n",
       "3.0             28707.0          0.2217  \n",
       "4.0             12587.0          0.0972  \n",
       "...                 ...             ...  \n",
       "129492.0            NaN             NaN  \n",
       "129493.0            NaN             NaN  \n",
       "129494.0            NaN             NaN  \n",
       "129495.0            NaN             NaN  \n",
       "129496.0            NaN             NaN  \n",
       "\n",
       "[129497 rows x 4 columns]"
      ]
     },
     "execution_count": 78,
     "metadata": {},
     "output_type": "execute_result"
    }
   ],
   "source": [
    "# Number of Documents for Each Topic\n",
    "topic_counts = df_topic_sents_keywords['Dominant_Topic'].value_counts()\n",
    "\n",
    "# Percentage of Documents for Each Topic\n",
    "topic_contribution = round(topic_counts/topic_counts.sum(), 4)\n",
    "\n",
    "# Topic Number and Keywords\n",
    "topic_num_keywords = df_topic_sents_keywords[['Dominant_Topic', 'Topic_Keywords']]\n",
    "\n",
    "# Concatenate Column wise\n",
    "df_dominant_topics = pd.concat([topic_num_keywords, topic_counts, topic_contribution], axis=1)\n",
    "\n",
    "# Change Column names\n",
    "df_dominant_topics.columns = ['Dominant_Topic', 'Topic_Keywords', 'Num_Documents', 'Perc_Documents']\n",
    "\n",
    "# Show\n",
    "df_dominant_topics"
   ]
  },
  {
   "cell_type": "code",
   "execution_count": 85,
   "metadata": {},
   "outputs": [
    {
     "data": {
      "text/plain": [
       "Dominant_Topic         0\n",
       "Topic_Keywords         0\n",
       "Num_Documents     129492\n",
       "Perc_Documents    129492\n",
       "dtype: int64"
      ]
     },
     "execution_count": 85,
     "metadata": {},
     "output_type": "execute_result"
    }
   ],
   "source": [
    "df_dominant_topics.isna().sum()"
   ]
  },
  {
   "cell_type": "code",
   "execution_count": 87,
   "metadata": {},
   "outputs": [
    {
     "data": {
      "text/plain": [
       "1.0    41072\n",
       "3.0    28707\n",
       "2.0    24790\n",
       "0.0    22341\n",
       "4.0    12587\n",
       "Name: Dominant_Topic, dtype: int64"
      ]
     },
     "execution_count": 87,
     "metadata": {},
     "output_type": "execute_result"
    }
   ],
   "source": [
    "df_topic_sents_keywords['Dominant_Topic'].value_counts()"
   ]
  },
  {
   "cell_type": "code",
   "execution_count": 88,
   "metadata": {},
   "outputs": [],
   "source": [
    "topic_counts = df_topic_sents_keywords['Dominant_Topic'].value_counts()"
   ]
  },
  {
   "cell_type": "code",
   "execution_count": 89,
   "metadata": {},
   "outputs": [
    {
     "data": {
      "text/plain": [
       "1.0    0.3172\n",
       "3.0    0.2217\n",
       "2.0    0.1914\n",
       "0.0    0.1725\n",
       "4.0    0.0972\n",
       "Name: Dominant_Topic, dtype: float64"
      ]
     },
     "execution_count": 89,
     "metadata": {},
     "output_type": "execute_result"
    }
   ],
   "source": [
    "round(topic_counts/topic_counts.sum(), 4)"
   ]
  },
  {
   "cell_type": "code",
   "execution_count": 90,
   "metadata": {},
   "outputs": [
    {
     "data": {
      "text/html": [
       "<div>\n",
       "<style scoped>\n",
       "    .dataframe tbody tr th:only-of-type {\n",
       "        vertical-align: middle;\n",
       "    }\n",
       "\n",
       "    .dataframe tbody tr th {\n",
       "        vertical-align: top;\n",
       "    }\n",
       "\n",
       "    .dataframe thead th {\n",
       "        text-align: right;\n",
       "    }\n",
       "</style>\n",
       "<table border=\"1\" class=\"dataframe\">\n",
       "  <thead>\n",
       "    <tr style=\"text-align: right;\">\n",
       "      <th></th>\n",
       "      <th>Dominant_Topic</th>\n",
       "      <th>Topic_Keywords</th>\n",
       "    </tr>\n",
       "  </thead>\n",
       "  <tbody>\n",
       "    <tr>\n",
       "      <th>0</th>\n",
       "      <td>1.0</td>\n",
       "      <td>feature, quality, good, great, frame, nice, re...</td>\n",
       "    </tr>\n",
       "    <tr>\n",
       "      <th>1</th>\n",
       "      <td>1.0</td>\n",
       "      <td>feature, quality, good, great, frame, nice, re...</td>\n",
       "    </tr>\n",
       "    <tr>\n",
       "      <th>2</th>\n",
       "      <td>1.0</td>\n",
       "      <td>feature, quality, good, great, frame, nice, re...</td>\n",
       "    </tr>\n",
       "    <tr>\n",
       "      <th>3</th>\n",
       "      <td>2.0</td>\n",
       "      <td>phone, connect, like, time, buy, try, go, get,...</td>\n",
       "    </tr>\n",
       "    <tr>\n",
       "      <th>4</th>\n",
       "      <td>0.0</td>\n",
       "      <td>work, great, good, product, quality, price, bu...</td>\n",
       "    </tr>\n",
       "    <tr>\n",
       "      <th>...</th>\n",
       "      <td>...</td>\n",
       "      <td>...</td>\n",
       "    </tr>\n",
       "    <tr>\n",
       "      <th>129492</th>\n",
       "      <td>3.0</td>\n",
       "      <td>camera, app, set, easy, video, work, setup, us...</td>\n",
       "    </tr>\n",
       "    <tr>\n",
       "      <th>129493</th>\n",
       "      <td>0.0</td>\n",
       "      <td>work, great, good, product, quality, price, bu...</td>\n",
       "    </tr>\n",
       "    <tr>\n",
       "      <th>129494</th>\n",
       "      <td>3.0</td>\n",
       "      <td>camera, app, set, easy, video, work, setup, us...</td>\n",
       "    </tr>\n",
       "    <tr>\n",
       "      <th>129495</th>\n",
       "      <td>3.0</td>\n",
       "      <td>camera, app, set, easy, video, work, setup, us...</td>\n",
       "    </tr>\n",
       "    <tr>\n",
       "      <th>129496</th>\n",
       "      <td>3.0</td>\n",
       "      <td>camera, app, set, easy, video, work, setup, us...</td>\n",
       "    </tr>\n",
       "  </tbody>\n",
       "</table>\n",
       "<p>129497 rows × 2 columns</p>\n",
       "</div>"
      ],
      "text/plain": [
       "        Dominant_Topic                                     Topic_Keywords\n",
       "0                  1.0  feature, quality, good, great, frame, nice, re...\n",
       "1                  1.0  feature, quality, good, great, frame, nice, re...\n",
       "2                  1.0  feature, quality, good, great, frame, nice, re...\n",
       "3                  2.0  phone, connect, like, time, buy, try, go, get,...\n",
       "4                  0.0  work, great, good, product, quality, price, bu...\n",
       "...                ...                                                ...\n",
       "129492             3.0  camera, app, set, easy, video, work, setup, us...\n",
       "129493             0.0  work, great, good, product, quality, price, bu...\n",
       "129494             3.0  camera, app, set, easy, video, work, setup, us...\n",
       "129495             3.0  camera, app, set, easy, video, work, setup, us...\n",
       "129496             3.0  camera, app, set, easy, video, work, setup, us...\n",
       "\n",
       "[129497 rows x 2 columns]"
      ]
     },
     "execution_count": 90,
     "metadata": {},
     "output_type": "execute_result"
    }
   ],
   "source": [
    "df_topic_sents_keywords[['Dominant_Topic', 'Topic_Keywords']]"
   ]
  },
  {
   "cell_type": "code",
   "execution_count": null,
   "metadata": {},
   "outputs": [],
   "source": []
  }
 ],
 "metadata": {
  "kernelspec": {
   "display_name": "Python (learn-env)",
   "language": "python",
   "name": "learn-env"
  },
  "language_info": {
   "codemirror_mode": {
    "name": "ipython",
    "version": 3
   },
   "file_extension": ".py",
   "mimetype": "text/x-python",
   "name": "python",
   "nbconvert_exporter": "python",
   "pygments_lexer": "ipython3",
   "version": "3.8.5"
  }
 },
 "nbformat": 4,
 "nbformat_minor": 4
}
