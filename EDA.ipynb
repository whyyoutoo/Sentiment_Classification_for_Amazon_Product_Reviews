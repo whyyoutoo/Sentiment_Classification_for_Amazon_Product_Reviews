{
 "cells": [
  {
   "cell_type": "markdown",
   "metadata": {},
   "source": [
    "# Buisness Problem\n"
   ]
  },
  {
   "cell_type": "markdown",
   "metadata": {},
   "source": [
    "# Data Understanding"
   ]
  },
  {
   "cell_type": "markdown",
   "metadata": {},
   "source": [
    "# Data Preperation"
   ]
  },
  {
   "cell_type": "code",
   "execution_count": 124,
   "metadata": {},
   "outputs": [],
   "source": [
    "import pandas as pd\n",
    "import numpy as np\n",
    "import json\n",
    "\n",
    "import matplotlib.pyplot as plt\n",
    "import seaborn as sns\n",
    "\n",
    "import gzip\n",
    "from nltk import word_tokenize\n",
    "\n",
    "from nltk.sentiment import SentimentIntensityAnalyzer\n",
    "\n",
    "import re\n",
    "import spacy\n",
    "nlp = spacy.load('en_core_web_sm', disable=['parser', 'ner'])\n",
    "\n",
    "\n",
    "from sklearn.feature_extraction.text import CountVectorizer\n",
    "\n",
    "import gensim\n",
    "import gensim.corpora as corpora\n",
    "\n",
    "from gensim.models import CoherenceModel\n",
    "from gensim.models.phrases import Phrases, Phraser\n",
    "\n",
    "from gensim.models.ldamulticore import LdaMulticore\n",
    "\n",
    "import pyLDAvis\n",
    "import pyLDAvis.gensim_models\n",
    "\n",
    "import warnings\n",
    "warnings.filterwarnings(\"ignore\",category=DeprecationWarning)"
   ]
  },
  {
   "cell_type": "code",
   "execution_count": 2,
   "metadata": {},
   "outputs": [
    {
     "data": {
      "text/html": [
       "<style>.container { max-width:100% !important; }</style>"
      ],
      "text/plain": [
       "<IPython.core.display.HTML object>"
      ]
     },
     "metadata": {},
     "output_type": "display_data"
    },
    {
     "data": {
      "text/html": [
       "<style>.output_result { max-width:100% !important; }</style>"
      ],
      "text/plain": [
       "<IPython.core.display.HTML object>"
      ]
     },
     "metadata": {},
     "output_type": "display_data"
    },
    {
     "data": {
      "text/html": [
       "<style>.output_area { max-width:100% !important; }</style>"
      ],
      "text/plain": [
       "<IPython.core.display.HTML object>"
      ]
     },
     "metadata": {},
     "output_type": "display_data"
    },
    {
     "data": {
      "text/html": [
       "<style>.input_area { max-width:100% !important; }</style>"
      ],
      "text/plain": [
       "<IPython.core.display.HTML object>"
      ]
     },
     "metadata": {},
     "output_type": "display_data"
    }
   ],
   "source": [
    "from IPython.core.display import display, HTML\n",
    "display(HTML(\"<style>.container { max-width:100% !important; }</style>\"))\n",
    "display(HTML(\"<style>.output_result { max-width:100% !important; }</style>\"))\n",
    "display(HTML(\"<style>.output_area { max-width:100% !important; }</style>\"))\n",
    "display(HTML(\"<style>.input_area { max-width:100% !important; }</style>\"))"
   ]
  },
  {
   "cell_type": "markdown",
   "metadata": {},
   "source": [
    "## Subsetting data"
   ]
  },
  {
   "cell_type": "markdown",
   "metadata": {},
   "source": [
    "## Initial Pre-processing"
   ]
  },
  {
   "cell_type": "markdown",
   "metadata": {},
   "source": [
    "# Data Exploration"
   ]
  },
  {
   "cell_type": "markdown",
   "metadata": {},
   "source": [
    "## EDA"
   ]
  },
  {
   "cell_type": "code",
   "execution_count": 3,
   "metadata": {},
   "outputs": [
    {
     "name": "stderr",
     "output_type": "stream",
     "text": [
      "C:\\Users\\PC\\anaconda3\\envs\\learn-env\\lib\\site-packages\\IPython\\core\\interactiveshell.py:3145: DtypeWarning: Columns (13,18) have mixed types.Specify dtype option on import or set low_memory=False.\n",
      "  has_raised = await self.run_ast_nodes(code_ast.body, cell_name,\n"
     ]
    }
   ],
   "source": [
    "df = pd.read_csv('data/product_reviews.csv')"
   ]
  },
  {
   "cell_type": "code",
   "execution_count": 4,
   "metadata": {},
   "outputs": [
    {
     "data": {
      "text/html": [
       "<div>\n",
       "<style scoped>\n",
       "    .dataframe tbody tr th:only-of-type {\n",
       "        vertical-align: middle;\n",
       "    }\n",
       "\n",
       "    .dataframe tbody tr th {\n",
       "        vertical-align: top;\n",
       "    }\n",
       "\n",
       "    .dataframe thead th {\n",
       "        text-align: right;\n",
       "    }\n",
       "</style>\n",
       "<table border=\"1\" class=\"dataframe\">\n",
       "  <thead>\n",
       "    <tr style=\"text-align: right;\">\n",
       "      <th></th>\n",
       "      <th>overall</th>\n",
       "      <th>vote</th>\n",
       "      <th>verified</th>\n",
       "      <th>reviewTime</th>\n",
       "      <th>reviewerID</th>\n",
       "      <th>asin</th>\n",
       "      <th>style</th>\n",
       "      <th>reviewerName</th>\n",
       "      <th>reviewText</th>\n",
       "      <th>summary</th>\n",
       "      <th>...</th>\n",
       "      <th>feature</th>\n",
       "      <th>rank</th>\n",
       "      <th>also_view</th>\n",
       "      <th>main_cat</th>\n",
       "      <th>similar_item</th>\n",
       "      <th>date</th>\n",
       "      <th>price</th>\n",
       "      <th>imageURL</th>\n",
       "      <th>imageURLHighRes</th>\n",
       "      <th>details</th>\n",
       "    </tr>\n",
       "  </thead>\n",
       "  <tbody>\n",
       "    <tr>\n",
       "      <th>0</th>\n",
       "      <td>4.0</td>\n",
       "      <td>NaN</td>\n",
       "      <td>False</td>\n",
       "      <td>07 12, 2000</td>\n",
       "      <td>A2L7WYA5OENV03</td>\n",
       "      <td>B00001P4ZH</td>\n",
       "      <td>{'Color:': ' Black/Silver'}</td>\n",
       "      <td>Reticuli</td>\n",
       "      <td>Get the SportaPros instead.  They look better,...</td>\n",
       "      <td>Get the SportaPros Instead.</td>\n",
       "      <td>...</td>\n",
       "      <td>['Designed for deep bass performance', 'Comfor...</td>\n",
       "      <td>['&gt;#10,447 in Cell Phones &amp;amp; Accessories (S...</td>\n",
       "      <td>[]</td>\n",
       "      <td>Home Audio &amp;amp; Theater</td>\n",
       "      <td>class=\"a-bordered a-horizontal-stripes  a-spa...</td>\n",
       "      <td>May 14, 2003</td>\n",
       "      <td>$2.00</td>\n",
       "      <td>['https://images-na.ssl-images-amazon.com/imag...</td>\n",
       "      <td>['https://images-na.ssl-images-amazon.com/imag...</td>\n",
       "      <td>{}</td>\n",
       "    </tr>\n",
       "    <tr>\n",
       "      <th>1</th>\n",
       "      <td>4.0</td>\n",
       "      <td>NaN</td>\n",
       "      <td>False</td>\n",
       "      <td>07 12, 2000</td>\n",
       "      <td>A2L7WYA5OENV03</td>\n",
       "      <td>B00001P4ZH</td>\n",
       "      <td>{'Color:': ' Black/Silver'}</td>\n",
       "      <td>Reticuli</td>\n",
       "      <td>Get the SportaPros instead.  They look better,...</td>\n",
       "      <td>Get the SportaPros Instead.</td>\n",
       "      <td>...</td>\n",
       "      <td>['Designed for deep bass performance', 'Comfor...</td>\n",
       "      <td>['&gt;#10,447 in Cell Phones &amp;amp; Accessories (S...</td>\n",
       "      <td>[]</td>\n",
       "      <td>Home Audio &amp;amp; Theater</td>\n",
       "      <td>class=\"a-bordered a-horizontal-stripes  a-spa...</td>\n",
       "      <td>May 14, 2003</td>\n",
       "      <td>$2.00</td>\n",
       "      <td>['https://images-na.ssl-images-amazon.com/imag...</td>\n",
       "      <td>['https://images-na.ssl-images-amazon.com/imag...</td>\n",
       "      <td>{}</td>\n",
       "    </tr>\n",
       "    <tr>\n",
       "      <th>2</th>\n",
       "      <td>5.0</td>\n",
       "      <td>NaN</td>\n",
       "      <td>False</td>\n",
       "      <td>04 26, 2018</td>\n",
       "      <td>A12XRTLO5VBCLP</td>\n",
       "      <td>B00001P4ZH</td>\n",
       "      <td>{'Color:': ' Black/Silver'}</td>\n",
       "      <td>AntonyB</td>\n",
       "      <td>I've been looking for a lighter alternative to...</td>\n",
       "      <td>Perfect</td>\n",
       "      <td>...</td>\n",
       "      <td>['Designed for deep bass performance', 'Comfor...</td>\n",
       "      <td>['&gt;#10,447 in Cell Phones &amp;amp; Accessories (S...</td>\n",
       "      <td>[]</td>\n",
       "      <td>Home Audio &amp;amp; Theater</td>\n",
       "      <td>class=\"a-bordered a-horizontal-stripes  a-spa...</td>\n",
       "      <td>May 14, 2003</td>\n",
       "      <td>$2.00</td>\n",
       "      <td>['https://images-na.ssl-images-amazon.com/imag...</td>\n",
       "      <td>['https://images-na.ssl-images-amazon.com/imag...</td>\n",
       "      <td>{}</td>\n",
       "    </tr>\n",
       "    <tr>\n",
       "      <th>3</th>\n",
       "      <td>5.0</td>\n",
       "      <td>NaN</td>\n",
       "      <td>False</td>\n",
       "      <td>04 26, 2018</td>\n",
       "      <td>A12XRTLO5VBCLP</td>\n",
       "      <td>B00001P4ZH</td>\n",
       "      <td>{'Color:': ' Black/Silver'}</td>\n",
       "      <td>AntonyB</td>\n",
       "      <td>I've been looking for a lighter alternative to...</td>\n",
       "      <td>Perfect</td>\n",
       "      <td>...</td>\n",
       "      <td>['Designed for deep bass performance', 'Comfor...</td>\n",
       "      <td>['&gt;#10,447 in Cell Phones &amp;amp; Accessories (S...</td>\n",
       "      <td>[]</td>\n",
       "      <td>Home Audio &amp;amp; Theater</td>\n",
       "      <td>class=\"a-bordered a-horizontal-stripes  a-spa...</td>\n",
       "      <td>May 14, 2003</td>\n",
       "      <td>$2.00</td>\n",
       "      <td>['https://images-na.ssl-images-amazon.com/imag...</td>\n",
       "      <td>['https://images-na.ssl-images-amazon.com/imag...</td>\n",
       "      <td>{}</td>\n",
       "    </tr>\n",
       "    <tr>\n",
       "      <th>4</th>\n",
       "      <td>5.0</td>\n",
       "      <td>NaN</td>\n",
       "      <td>False</td>\n",
       "      <td>04 22, 2018</td>\n",
       "      <td>A9C8UK5307EAG</td>\n",
       "      <td>B00001P4ZH</td>\n",
       "      <td>{'Color:': ' Black/Silver'}</td>\n",
       "      <td>Harry Mudd</td>\n",
       "      <td>The finest headphones available. You can spend...</td>\n",
       "      <td>You will just love portapro, we all do.</td>\n",
       "      <td>...</td>\n",
       "      <td>['Designed for deep bass performance', 'Comfor...</td>\n",
       "      <td>['&gt;#10,447 in Cell Phones &amp;amp; Accessories (S...</td>\n",
       "      <td>[]</td>\n",
       "      <td>Home Audio &amp;amp; Theater</td>\n",
       "      <td>class=\"a-bordered a-horizontal-stripes  a-spa...</td>\n",
       "      <td>May 14, 2003</td>\n",
       "      <td>$2.00</td>\n",
       "      <td>['https://images-na.ssl-images-amazon.com/imag...</td>\n",
       "      <td>['https://images-na.ssl-images-amazon.com/imag...</td>\n",
       "      <td>{}</td>\n",
       "    </tr>\n",
       "  </tbody>\n",
       "</table>\n",
       "<p>5 rows × 30 columns</p>\n",
       "</div>"
      ],
      "text/plain": [
       "   overall vote  verified   reviewTime      reviewerID        asin  \\\n",
       "0      4.0  NaN     False  07 12, 2000  A2L7WYA5OENV03  B00001P4ZH   \n",
       "1      4.0  NaN     False  07 12, 2000  A2L7WYA5OENV03  B00001P4ZH   \n",
       "2      5.0  NaN     False  04 26, 2018  A12XRTLO5VBCLP  B00001P4ZH   \n",
       "3      5.0  NaN     False  04 26, 2018  A12XRTLO5VBCLP  B00001P4ZH   \n",
       "4      5.0  NaN     False  04 22, 2018   A9C8UK5307EAG  B00001P4ZH   \n",
       "\n",
       "                         style reviewerName  \\\n",
       "0  {'Color:': ' Black/Silver'}     Reticuli   \n",
       "1  {'Color:': ' Black/Silver'}     Reticuli   \n",
       "2  {'Color:': ' Black/Silver'}      AntonyB   \n",
       "3  {'Color:': ' Black/Silver'}      AntonyB   \n",
       "4  {'Color:': ' Black/Silver'}   Harry Mudd   \n",
       "\n",
       "                                          reviewText  \\\n",
       "0  Get the SportaPros instead.  They look better,...   \n",
       "1  Get the SportaPros instead.  They look better,...   \n",
       "2  I've been looking for a lighter alternative to...   \n",
       "3  I've been looking for a lighter alternative to...   \n",
       "4  The finest headphones available. You can spend...   \n",
       "\n",
       "                                   summary  ...  \\\n",
       "0              Get the SportaPros Instead.  ...   \n",
       "1              Get the SportaPros Instead.  ...   \n",
       "2                                  Perfect  ...   \n",
       "3                                  Perfect  ...   \n",
       "4  You will just love portapro, we all do.  ...   \n",
       "\n",
       "                                             feature  \\\n",
       "0  ['Designed for deep bass performance', 'Comfor...   \n",
       "1  ['Designed for deep bass performance', 'Comfor...   \n",
       "2  ['Designed for deep bass performance', 'Comfor...   \n",
       "3  ['Designed for deep bass performance', 'Comfor...   \n",
       "4  ['Designed for deep bass performance', 'Comfor...   \n",
       "\n",
       "                                                rank also_view  \\\n",
       "0  ['>#10,447 in Cell Phones &amp; Accessories (S...        []   \n",
       "1  ['>#10,447 in Cell Phones &amp; Accessories (S...        []   \n",
       "2  ['>#10,447 in Cell Phones &amp; Accessories (S...        []   \n",
       "3  ['>#10,447 in Cell Phones &amp; Accessories (S...        []   \n",
       "4  ['>#10,447 in Cell Phones &amp; Accessories (S...        []   \n",
       "\n",
       "                   main_cat  \\\n",
       "0  Home Audio &amp; Theater   \n",
       "1  Home Audio &amp; Theater   \n",
       "2  Home Audio &amp; Theater   \n",
       "3  Home Audio &amp; Theater   \n",
       "4  Home Audio &amp; Theater   \n",
       "\n",
       "                                        similar_item          date  price  \\\n",
       "0   class=\"a-bordered a-horizontal-stripes  a-spa...  May 14, 2003  $2.00   \n",
       "1   class=\"a-bordered a-horizontal-stripes  a-spa...  May 14, 2003  $2.00   \n",
       "2   class=\"a-bordered a-horizontal-stripes  a-spa...  May 14, 2003  $2.00   \n",
       "3   class=\"a-bordered a-horizontal-stripes  a-spa...  May 14, 2003  $2.00   \n",
       "4   class=\"a-bordered a-horizontal-stripes  a-spa...  May 14, 2003  $2.00   \n",
       "\n",
       "                                            imageURL  \\\n",
       "0  ['https://images-na.ssl-images-amazon.com/imag...   \n",
       "1  ['https://images-na.ssl-images-amazon.com/imag...   \n",
       "2  ['https://images-na.ssl-images-amazon.com/imag...   \n",
       "3  ['https://images-na.ssl-images-amazon.com/imag...   \n",
       "4  ['https://images-na.ssl-images-amazon.com/imag...   \n",
       "\n",
       "                                     imageURLHighRes details  \n",
       "0  ['https://images-na.ssl-images-amazon.com/imag...      {}  \n",
       "1  ['https://images-na.ssl-images-amazon.com/imag...      {}  \n",
       "2  ['https://images-na.ssl-images-amazon.com/imag...      {}  \n",
       "3  ['https://images-na.ssl-images-amazon.com/imag...      {}  \n",
       "4  ['https://images-na.ssl-images-amazon.com/imag...      {}  \n",
       "\n",
       "[5 rows x 30 columns]"
      ]
     },
     "execution_count": 4,
     "metadata": {},
     "output_type": "execute_result"
    }
   ],
   "source": [
    "df.head()"
   ]
  },
  {
   "cell_type": "code",
   "execution_count": 5,
   "metadata": {},
   "outputs": [
    {
     "name": "stdout",
     "output_type": "stream",
     "text": [
      "<class 'pandas.core.frame.DataFrame'>\n",
      "RangeIndex: 132549 entries, 0 to 132548\n",
      "Data columns (total 30 columns):\n",
      " #   Column           Non-Null Count   Dtype  \n",
      "---  ------           --------------   -----  \n",
      " 0   overall          132549 non-null  float64\n",
      " 1   vote             12074 non-null   object \n",
      " 2   verified         132549 non-null  bool   \n",
      " 3   reviewTime       132549 non-null  object \n",
      " 4   reviewerID       132549 non-null  object \n",
      " 5   asin             132549 non-null  object \n",
      " 6   style            103530 non-null  object \n",
      " 7   reviewerName     132529 non-null  object \n",
      " 8   reviewText       132540 non-null  object \n",
      " 9   summary          132528 non-null  object \n",
      " 10  unixReviewTime   132549 non-null  int64  \n",
      " 11  image            1281 non-null    object \n",
      " 12  category         132549 non-null  object \n",
      " 13  tech1            6615 non-null    object \n",
      " 14  description      132549 non-null  object \n",
      " 15  fit              0 non-null       float64\n",
      " 16  title            132549 non-null  object \n",
      " 17  also_buy         132549 non-null  object \n",
      " 18  tech2            661 non-null     object \n",
      " 19  brand            132549 non-null  object \n",
      " 20  feature          132549 non-null  object \n",
      " 21  rank             132549 non-null  object \n",
      " 22  also_view        132549 non-null  object \n",
      " 23  main_cat         132549 non-null  object \n",
      " 24  similar_item     118237 non-null  object \n",
      " 25  date             98656 non-null   object \n",
      " 26  price            95036 non-null   object \n",
      " 27  imageURL         132549 non-null  object \n",
      " 28  imageURLHighRes  132549 non-null  object \n",
      " 29  details          132549 non-null  object \n",
      "dtypes: bool(1), float64(2), int64(1), object(26)\n",
      "memory usage: 29.5+ MB\n"
     ]
    }
   ],
   "source": [
    "df.info()"
   ]
  },
  {
   "cell_type": "code",
   "execution_count": 172,
   "metadata": {},
   "outputs": [
    {
     "data": {
      "text/plain": [
       "0"
      ]
     },
     "execution_count": 172,
     "metadata": {},
     "output_type": "execute_result"
    }
   ],
   "source": [
    "df.astype(str).duplicated().sum()"
   ]
  },
  {
   "cell_type": "code",
   "execution_count": null,
   "metadata": {},
   "outputs": [],
   "source": []
  },
  {
   "cell_type": "code",
   "execution_count": 9,
   "metadata": {},
   "outputs": [],
   "source": [
    "df = df.loc[df.astype(str).drop_duplicates().index]"
   ]
  },
  {
   "cell_type": "code",
   "execution_count": 26,
   "metadata": {},
   "outputs": [
    {
     "name": "stdout",
     "output_type": "stream",
     "text": [
      "<class 'pandas.core.frame.DataFrame'>\n",
      "RangeIndex: 108851 entries, 0 to 108850\n",
      "Data columns (total 30 columns):\n",
      " #   Column           Non-Null Count   Dtype  \n",
      "---  ------           --------------   -----  \n",
      " 0   overall          108851 non-null  float64\n",
      " 1   vote             9083 non-null    object \n",
      " 2   verified         108851 non-null  bool   \n",
      " 3   reviewTime       108851 non-null  object \n",
      " 4   reviewerID       108851 non-null  object \n",
      " 5   asin             108851 non-null  object \n",
      " 6   style            87170 non-null   object \n",
      " 7   reviewerName     108836 non-null  object \n",
      " 8   reviewText       108851 non-null  object \n",
      " 9   summary          108831 non-null  object \n",
      " 10  unixReviewTime   108851 non-null  int64  \n",
      " 11  image            1115 non-null    object \n",
      " 12  category         108851 non-null  object \n",
      " 13  tech1            6612 non-null    object \n",
      " 14  description      108851 non-null  object \n",
      " 15  fit              0 non-null       float64\n",
      " 16  title            108851 non-null  object \n",
      " 17  also_buy         108851 non-null  object \n",
      " 18  tech2            661 non-null     object \n",
      " 19  brand            108851 non-null  object \n",
      " 20  feature          108851 non-null  object \n",
      " 21  rank             108851 non-null  object \n",
      " 22  also_view        108851 non-null  object \n",
      " 23  main_cat         108851 non-null  object \n",
      " 24  similar_item     96946 non-null   object \n",
      " 25  date             77227 non-null   object \n",
      " 26  price            77399 non-null   object \n",
      " 27  imageURL         108851 non-null  object \n",
      " 28  imageURLHighRes  108851 non-null  object \n",
      " 29  details          108851 non-null  object \n",
      "dtypes: bool(1), float64(2), int64(1), object(26)\n",
      "memory usage: 24.2+ MB\n"
     ]
    }
   ],
   "source": [
    "df.info()"
   ]
  },
  {
   "cell_type": "code",
   "execution_count": null,
   "metadata": {},
   "outputs": [],
   "source": []
  },
  {
   "cell_type": "code",
   "execution_count": 20,
   "metadata": {},
   "outputs": [
    {
     "data": {
      "text/plain": [
       "overall                 0\n",
       "vote                99776\n",
       "verified                0\n",
       "reviewTime              0\n",
       "reviewerID              0\n",
       "asin                    0\n",
       "style               21682\n",
       "reviewerName           15\n",
       "reviewText              8\n",
       "summary                20\n",
       "unixReviewTime          0\n",
       "image              107743\n",
       "category                0\n",
       "tech1              102247\n",
       "description             0\n",
       "fit                108859\n",
       "title                   0\n",
       "also_buy                0\n",
       "tech2              108198\n",
       "brand                   0\n",
       "feature                 0\n",
       "rank                    0\n",
       "also_view               0\n",
       "main_cat                0\n",
       "similar_item        11906\n",
       "date                31627\n",
       "price               31454\n",
       "imageURL                0\n",
       "imageURLHighRes         0\n",
       "details                 0\n",
       "dtype: int64"
      ]
     },
     "execution_count": 20,
     "metadata": {},
     "output_type": "execute_result"
    }
   ],
   "source": [
    "df.isna().sum()"
   ]
  },
  {
   "cell_type": "code",
   "execution_count": 23,
   "metadata": {},
   "outputs": [],
   "source": [
    "df.dropna(subset = ['reviewText'], inplace = True)"
   ]
  },
  {
   "cell_type": "code",
   "execution_count": 24,
   "metadata": {},
   "outputs": [
    {
     "data": {
      "text/plain": [
       "overall                 0\n",
       "vote                99768\n",
       "verified                0\n",
       "reviewTime              0\n",
       "reviewerID              0\n",
       "asin                    0\n",
       "style               21681\n",
       "reviewerName           15\n",
       "reviewText              0\n",
       "summary                20\n",
       "unixReviewTime          0\n",
       "image              107736\n",
       "category                0\n",
       "tech1              102239\n",
       "description             0\n",
       "fit                108851\n",
       "title                   0\n",
       "also_buy                0\n",
       "tech2              108190\n",
       "brand                   0\n",
       "feature                 0\n",
       "rank                    0\n",
       "also_view               0\n",
       "main_cat                0\n",
       "similar_item        11905\n",
       "date                31624\n",
       "price               31452\n",
       "imageURL                0\n",
       "imageURLHighRes         0\n",
       "details                 0\n",
       "dtype: int64"
      ]
     },
     "execution_count": 24,
     "metadata": {},
     "output_type": "execute_result"
    }
   ],
   "source": [
    "df.isna().sum()"
   ]
  },
  {
   "cell_type": "code",
   "execution_count": null,
   "metadata": {},
   "outputs": [],
   "source": []
  },
  {
   "cell_type": "code",
   "execution_count": 25,
   "metadata": {},
   "outputs": [],
   "source": [
    "df = df.reset_index(drop = True)"
   ]
  },
  {
   "cell_type": "code",
   "execution_count": 27,
   "metadata": {},
   "outputs": [
    {
     "data": {
      "text/plain": [
       "5.0    0.599820\n",
       "4.0    0.194045\n",
       "3.0    0.090996\n",
       "1.0    0.059246\n",
       "2.0    0.055893\n",
       "Name: overall, dtype: float64"
      ]
     },
     "execution_count": 27,
     "metadata": {},
     "output_type": "execute_result"
    }
   ],
   "source": [
    "df.overall.value_counts(normalize = True)"
   ]
  },
  {
   "cell_type": "code",
   "execution_count": null,
   "metadata": {},
   "outputs": [],
   "source": []
  },
  {
   "cell_type": "code",
   "execution_count": 28,
   "metadata": {},
   "outputs": [
    {
     "data": {
      "text/plain": [
       "sony mdrzx100 headphones (black)                                                                                                                                                                   3119\n",
       "sony mdrzx100 zx series stereo headphones (blue)                                                                                                                                                   3106\n",
       "toysdone wireless headphones stereo earbuds wireless sport earphones for running with mic (6 hours play time, ipx4 sweatproof, secure ear hooks design)-black/green                                2559\n",
       "xbrn dual ports adapter splitter, 2 in 1 headphone jack aux audio &amp; charger adapter cable connector compactible for ip7/ 7 plus/ 8/plus/x (support calling + sync + music control + charge)    2497\n",
       "inassen compatible earphone adapter headphone                                                                                                                                                      2243\n",
       "                                                                                                                                                                                                   ... \n",
       "sony mdr-if240rk wireless headphone system                                                                                                                                                          310\n",
       "sennheiser hd 650 open back professional headphone                                                                                                                                                  302\n",
       "beyerdynamic dt 990 pro over-ear studio headphones in black. open construction, wired                                                                                                               280\n",
       "shure e2 sound isolating earphones                                                                                                                                                                  280\n",
       "iwfyan compatible double dongle headphone earphone adapter accessories cable splitter replacement for phone x 10 8/8plus/ 7/ 7plus, support for 12 or later                                         253\n",
       "Name: title, Length: 127, dtype: int64"
      ]
     },
     "execution_count": 28,
     "metadata": {},
     "output_type": "execute_result"
    }
   ],
   "source": [
    "df.title.value_counts()"
   ]
  },
  {
   "cell_type": "code",
   "execution_count": null,
   "metadata": {},
   "outputs": [],
   "source": []
  },
  {
   "cell_type": "code",
   "execution_count": null,
   "metadata": {},
   "outputs": [],
   "source": []
  },
  {
   "cell_type": "code",
   "execution_count": 29,
   "metadata": {},
   "outputs": [
    {
     "data": {
      "text/plain": [
       "129"
      ]
     },
     "execution_count": 29,
     "metadata": {},
     "output_type": "execute_result"
    }
   ],
   "source": [
    "df.asin.value_counts().count()"
   ]
  },
  {
   "cell_type": "code",
   "execution_count": 30,
   "metadata": {},
   "outputs": [
    {
     "data": {
      "text/plain": [
       "69"
      ]
     },
     "execution_count": 30,
     "metadata": {},
     "output_type": "execute_result"
    }
   ],
   "source": [
    "df.brand.value_counts().count()"
   ]
  },
  {
   "cell_type": "code",
   "execution_count": 31,
   "metadata": {},
   "outputs": [
    {
     "data": {
      "text/plain": [
       "True     0.889996\n",
       "False    0.110004\n",
       "Name: verified, dtype: float64"
      ]
     },
     "execution_count": 31,
     "metadata": {},
     "output_type": "execute_result"
    }
   ],
   "source": [
    "df.verified.value_counts(normalize = True)"
   ]
  },
  {
   "cell_type": "code",
   "execution_count": null,
   "metadata": {},
   "outputs": [],
   "source": []
  },
  {
   "cell_type": "code",
   "execution_count": null,
   "metadata": {},
   "outputs": [],
   "source": [
    "ax = df.overall.value_counts().sort_index().plot(kind = 'bar',\n",
    "                                            title = 'Count by Review Star',\n",
    "                                            figsize = (10,5))\n",
    "ax.set_xlabel('Review Stars');\n"
   ]
  },
  {
   "cell_type": "code",
   "execution_count": null,
   "metadata": {},
   "outputs": [],
   "source": [
    "df.verified.value_counts()"
   ]
  },
  {
   "cell_type": "code",
   "execution_count": null,
   "metadata": {},
   "outputs": [],
   "source": [
    "sns.barplot(data = df, x = 'verified', y = 'overall')"
   ]
  },
  {
   "cell_type": "code",
   "execution_count": null,
   "metadata": {},
   "outputs": [],
   "source": [
    "df.brand.value_counts()"
   ]
  },
  {
   "cell_type": "code",
   "execution_count": null,
   "metadata": {},
   "outputs": [],
   "source": [
    "dfg = df.groupby('brand')['overall'].mean().sort_values(ascending = False)"
   ]
  },
  {
   "cell_type": "code",
   "execution_count": null,
   "metadata": {},
   "outputs": [],
   "source": [
    "fig, ax = plt.subplots(figsize = (10,30))\n",
    "ax = sns.barplot(x = dfg.values, y = dfg.index, orient = 'h')"
   ]
  },
  {
   "cell_type": "code",
   "execution_count": null,
   "metadata": {},
   "outputs": [],
   "source": []
  },
  {
   "cell_type": "code",
   "execution_count": null,
   "metadata": {},
   "outputs": [],
   "source": []
  },
  {
   "cell_type": "markdown",
   "metadata": {},
   "source": [
    "## Sentiment Validation of Star Ratings"
   ]
  },
  {
   "cell_type": "code",
   "execution_count": null,
   "metadata": {},
   "outputs": [],
   "source": [
    "sia = SentimentIntensityAnalyzer()"
   ]
  },
  {
   "cell_type": "code",
   "execution_count": null,
   "metadata": {},
   "outputs": [],
   "source": [
    "df.reviewText[0]"
   ]
  },
  {
   "cell_type": "code",
   "execution_count": null,
   "metadata": {},
   "outputs": [],
   "source": [
    "df.overall[0]"
   ]
  },
  {
   "cell_type": "code",
   "execution_count": null,
   "metadata": {},
   "outputs": [],
   "source": [
    "sia.polarity_scores(df.reviewText[0])"
   ]
  },
  {
   "cell_type": "code",
   "execution_count": null,
   "metadata": {},
   "outputs": [],
   "source": [
    "sent_val_df = df.copy()"
   ]
  },
  {
   "cell_type": "code",
   "execution_count": null,
   "metadata": {},
   "outputs": [],
   "source": [
    "sent_val_df['compound'] = [sia.polarity_scores(str(x))['compound'] for x in df['reviewText']]\n",
    "sent_val_df['neg'] = [sia.polarity_scores(str(x))['neg'] for x in df['reviewText']]\n",
    "sent_val_df['neu'] = [sia.polarity_scores(str(x))['neu'] for x in df['reviewText']]\n",
    "sent_val_df['pos'] = [sia.polarity_scores(str(x))['pos'] for x in df['reviewText']]"
   ]
  },
  {
   "cell_type": "code",
   "execution_count": null,
   "metadata": {},
   "outputs": [],
   "source": [
    "sent_val_df.head()"
   ]
  },
  {
   "cell_type": "code",
   "execution_count": null,
   "metadata": {},
   "outputs": [],
   "source": [
    "ax = sns.barplot(data = sent_val_df, x = 'overall', y = 'compound')"
   ]
  },
  {
   "cell_type": "code",
   "execution_count": null,
   "metadata": {},
   "outputs": [],
   "source": [
    "fig, axs = plt.subplots(1, 3, figsize=(15,5))\n",
    "sns.barplot(data = sent_val_df, x = 'overall', y = 'pos', ax = axs[0])\n",
    "sns.barplot(data = sent_val_df, x = 'overall', y = 'neu', ax = axs[1])\n",
    "sns.barplot(data = sent_val_df, x = 'overall', y = 'neg', ax = axs[2])\n",
    "axs[0].set_title('Positive')\n",
    "axs[1].set_title('Neutral')\n",
    "axs[2].set_title('Negative');"
   ]
  },
  {
   "cell_type": "code",
   "execution_count": 33,
   "metadata": {},
   "outputs": [],
   "source": [
    "def label_encode(x):\n",
    "    if x <= 3:\n",
    "        return 0\n",
    "    if x > 3:\n",
    "        return 1"
   ]
  },
  {
   "cell_type": "code",
   "execution_count": 34,
   "metadata": {},
   "outputs": [],
   "source": [
    "df[\"sentiment\"] = df[\"overall\"].apply(lambda x: label_encode(x))"
   ]
  },
  {
   "cell_type": "code",
   "execution_count": 35,
   "metadata": {},
   "outputs": [
    {
     "data": {
      "text/plain": [
       "1    0.793865\n",
       "0    0.206135\n",
       "Name: sentiment, dtype: float64"
      ]
     },
     "execution_count": 35,
     "metadata": {},
     "output_type": "execute_result"
    }
   ],
   "source": [
    "df['sentiment'].value_counts(normalize = True)"
   ]
  },
  {
   "cell_type": "markdown",
   "metadata": {},
   "source": [
    "## Text Exploration"
   ]
  },
  {
   "cell_type": "markdown",
   "metadata": {},
   "source": []
  },
  {
   "cell_type": "code",
   "execution_count": 176,
   "metadata": {},
   "outputs": [
    {
     "data": {
      "text/plain": [
       "\"Many years ago, I had some Koss pro grade headphones (back in the days of vinyl LPs) that sounded great, but were very heavy (they built them solidly in those days) and become uncomfortable after a while.  I pretty much quit listening to music with headphones in later years.  However, there are still times when I have an urge to really LISTEN to the music, and a good pair of headphones is essential.\\n\\nI picked up a similarly priced pair of JVC  HA-G101 headphones at a local discount store a while back, based upon my experience with JVC products over the years.  And, it was the only 'name' brand at that particular store.  I quickly determined that while they sounded okay, and were comfortable to wear for long periods, they were not impressive, with a somewhat 'muddy' sound, weak bass and less than impressive high ends.  I was disappointed, but for less than $20, not a big deal.\\n\\nDeciding that I wanted to try another pair, and recalling the quality sound from my old Koss headphones, as well as reading the many positive reviews of these cans, I bought a pair.  I just got them delivered this morning, and am listening through them as I write this.  What a difference!  Very comfortable to wear, but the real value is in just how good the sound really is; deep bass, nice pronounced mid-range and clear treble notes.  I am playing a JJ Cale CD (with lots of subtle guitar sounds and his almost whispering vocals), doing an 'A/B' comparison between the phones, and it really is not even close.\\n\\nI have no idea how durable these headphones will end up being, but I am pretty easy on my gear.  To my ear, it would be very hard to beat the quality sound of these headphones without spending lots more cash.  Oh, and one other feature I prefer with the Koss is that the cord (a nice 8 footer) is attached to only one side of the phones, unlike the JVC which attaches to both speaker cups.\\n\\nI am quite pleased with these headphones and thank the other reviewers for their input.\""
      ]
     },
     "execution_count": 176,
     "metadata": {},
     "output_type": "execute_result"
    }
   ],
   "source": [
    "df.reviewText[5687]"
   ]
  },
  {
   "cell_type": "code",
   "execution_count": 177,
   "metadata": {},
   "outputs": [
    {
     "data": {
      "text/plain": [
       "'Unbeatable sound and comfort for the price.'"
      ]
     },
     "execution_count": 177,
     "metadata": {},
     "output_type": "execute_result"
    }
   ],
   "source": [
    "df.summary[5687]"
   ]
  },
  {
   "cell_type": "code",
   "execution_count": 179,
   "metadata": {},
   "outputs": [
    {
     "data": {
      "text/plain": [
       "\"Many years ago, I had some Koss pro grade headphones (back in the days of vinyl LPs) that sounded great, but were very heavy (they built them solidly in those days) and become uncomfortable after a while.  I pretty much quit listening to music with headphones in later years.  However, there are still times when I have an urge to really LISTEN to the music, and a good pair of headphones is essential.\\n\\nI picked up a similarly priced pair of JVC  HA-G101 headphones at a local discount store a while back, based upon my experience with JVC products over the years.  And, it was the only 'name' brand at that particular store.  I quickly determined that while they sounded okay, and were comfortable to wear for long periods, they were not impressive, with a somewhat 'muddy' sound, weak bass and less than impressive high ends.  I was disappointed, but for less than $20, not a big deal.\\n\\nDeciding that I wanted to try another pair, and recalling the quality sound from my old Koss headphones, as well as reading the many positive reviews of these cans, I bought a pair.  I just got them delivered this morning, and am listening through them as I write this.  What a difference!  Very comfortable to wear, but the real value is in just how good the sound really is; deep bass, nice pronounced mid-range and clear treble notes.  I am playing a JJ Cale CD (with lots of subtle guitar sounds and his almost whispering vocals), doing an 'A/B' comparison between the phones, and it really is not even close.\\n\\nI have no idea how durable these headphones will end up being, but I am pretty easy on my gear.  To my ear, it would be very hard to beat the quality sound of these headphones without spending lots more cash.  Oh, and one other feature I prefer with the Koss is that the cord (a nice 8 footer) is attached to only one side of the phones, unlike the JVC which attaches to both speaker cups.\\n\\nI am quite pleased with these headphones and thank the other reviewers for their input. Unbeatable sound and comfort for the price.\""
      ]
     },
     "execution_count": 179,
     "metadata": {},
     "output_type": "execute_result"
    }
   ],
   "source": [
    "df.reviewText[5687] + \" \" + df.summary[5687]"
   ]
  },
  {
   "cell_type": "code",
   "execution_count": 188,
   "metadata": {},
   "outputs": [],
   "source": [
    "df['reviews'] = df.reviewText + ' ' + df.summary.astype(str)"
   ]
  },
  {
   "cell_type": "code",
   "execution_count": null,
   "metadata": {},
   "outputs": [],
   "source": []
  },
  {
   "cell_type": "code",
   "execution_count": 191,
   "metadata": {},
   "outputs": [],
   "source": [
    "text_stats_df = df[['reviews', 'sentiment']].copy()"
   ]
  },
  {
   "cell_type": "code",
   "execution_count": 192,
   "metadata": {},
   "outputs": [
    {
     "data": {
      "text/html": [
       "<div>\n",
       "<style scoped>\n",
       "    .dataframe tbody tr th:only-of-type {\n",
       "        vertical-align: middle;\n",
       "    }\n",
       "\n",
       "    .dataframe tbody tr th {\n",
       "        vertical-align: top;\n",
       "    }\n",
       "\n",
       "    .dataframe thead th {\n",
       "        text-align: right;\n",
       "    }\n",
       "</style>\n",
       "<table border=\"1\" class=\"dataframe\">\n",
       "  <thead>\n",
       "    <tr style=\"text-align: right;\">\n",
       "      <th></th>\n",
       "      <th>reviews</th>\n",
       "      <th>sentiment</th>\n",
       "    </tr>\n",
       "  </thead>\n",
       "  <tbody>\n",
       "    <tr>\n",
       "      <th>0</th>\n",
       "      <td>Get the SportaPros instead.  They look better,...</td>\n",
       "      <td>1</td>\n",
       "    </tr>\n",
       "    <tr>\n",
       "      <th>1</th>\n",
       "      <td>I've been looking for a lighter alternative to...</td>\n",
       "      <td>1</td>\n",
       "    </tr>\n",
       "    <tr>\n",
       "      <th>2</th>\n",
       "      <td>The finest headphones available. You can spend...</td>\n",
       "      <td>1</td>\n",
       "    </tr>\n",
       "    <tr>\n",
       "      <th>3</th>\n",
       "      <td>3rd pair of these I've purchased.  My wife has...</td>\n",
       "      <td>1</td>\n",
       "    </tr>\n",
       "    <tr>\n",
       "      <th>4</th>\n",
       "      <td>My old Koss Porta Pros finally got beat to dea...</td>\n",
       "      <td>1</td>\n",
       "    </tr>\n",
       "  </tbody>\n",
       "</table>\n",
       "</div>"
      ],
      "text/plain": [
       "                                             reviews  sentiment\n",
       "0  Get the SportaPros instead.  They look better,...          1\n",
       "1  I've been looking for a lighter alternative to...          1\n",
       "2  The finest headphones available. You can spend...          1\n",
       "3  3rd pair of these I've purchased.  My wife has...          1\n",
       "4  My old Koss Porta Pros finally got beat to dea...          1"
      ]
     },
     "execution_count": 192,
     "metadata": {},
     "output_type": "execute_result"
    }
   ],
   "source": [
    "text_stats_df.head()"
   ]
  },
  {
   "cell_type": "code",
   "execution_count": null,
   "metadata": {},
   "outputs": [],
   "source": []
  },
  {
   "cell_type": "code",
   "execution_count": null,
   "metadata": {},
   "outputs": [],
   "source": []
  },
  {
   "cell_type": "code",
   "execution_count": 38,
   "metadata": {},
   "outputs": [],
   "source": [
    "def word_count(text):\n",
    "    return len(word_tokenize(text))\n",
    "\n",
    "def char_count(text):\n",
    "    text_without_spaces = text.replace(\" \", \"\")\n",
    "    return len(text_without_spaces)"
   ]
  },
  {
   "cell_type": "code",
   "execution_count": 193,
   "metadata": {},
   "outputs": [],
   "source": [
    "text_stats_df['word_count'] = df.reviewText.apply(lambda x: word_count(x))\n",
    "text_stats_df['review_len'] = df.reviewText.apply(lambda x: char_count(x))"
   ]
  },
  {
   "cell_type": "code",
   "execution_count": null,
   "metadata": {},
   "outputs": [],
   "source": []
  },
  {
   "cell_type": "code",
   "execution_count": 40,
   "metadata": {},
   "outputs": [
    {
     "data": {
      "text/html": [
       "<div>\n",
       "<style scoped>\n",
       "    .dataframe tbody tr th:only-of-type {\n",
       "        vertical-align: middle;\n",
       "    }\n",
       "\n",
       "    .dataframe tbody tr th {\n",
       "        vertical-align: top;\n",
       "    }\n",
       "\n",
       "    .dataframe thead th {\n",
       "        text-align: right;\n",
       "    }\n",
       "</style>\n",
       "<table border=\"1\" class=\"dataframe\">\n",
       "  <thead>\n",
       "    <tr style=\"text-align: right;\">\n",
       "      <th></th>\n",
       "      <th>reviewText</th>\n",
       "      <th>sentiment</th>\n",
       "      <th>word_count</th>\n",
       "      <th>review_len</th>\n",
       "    </tr>\n",
       "  </thead>\n",
       "  <tbody>\n",
       "    <tr>\n",
       "      <th>0</th>\n",
       "      <td>Get the SportaPros instead.  They look better,...</td>\n",
       "      <td>1</td>\n",
       "      <td>26</td>\n",
       "      <td>103</td>\n",
       "    </tr>\n",
       "    <tr>\n",
       "      <th>1</th>\n",
       "      <td>I've been looking for a lighter alternative to...</td>\n",
       "      <td>1</td>\n",
       "      <td>262</td>\n",
       "      <td>1090</td>\n",
       "    </tr>\n",
       "    <tr>\n",
       "      <th>2</th>\n",
       "      <td>The finest headphones available. You can spend...</td>\n",
       "      <td>1</td>\n",
       "      <td>109</td>\n",
       "      <td>480</td>\n",
       "    </tr>\n",
       "    <tr>\n",
       "      <th>3</th>\n",
       "      <td>3rd pair of these I've purchased.  My wife has...</td>\n",
       "      <td>1</td>\n",
       "      <td>104</td>\n",
       "      <td>392</td>\n",
       "    </tr>\n",
       "    <tr>\n",
       "      <th>4</th>\n",
       "      <td>My old Koss Porta Pros finally got beat to dea...</td>\n",
       "      <td>1</td>\n",
       "      <td>163</td>\n",
       "      <td>683</td>\n",
       "    </tr>\n",
       "  </tbody>\n",
       "</table>\n",
       "</div>"
      ],
      "text/plain": [
       "                                          reviewText  sentiment  word_count  \\\n",
       "0  Get the SportaPros instead.  They look better,...          1          26   \n",
       "1  I've been looking for a lighter alternative to...          1         262   \n",
       "2  The finest headphones available. You can spend...          1         109   \n",
       "3  3rd pair of these I've purchased.  My wife has...          1         104   \n",
       "4  My old Koss Porta Pros finally got beat to dea...          1         163   \n",
       "\n",
       "   review_len  \n",
       "0         103  \n",
       "1        1090  \n",
       "2         480  \n",
       "3         392  \n",
       "4         683  "
      ]
     },
     "execution_count": 40,
     "metadata": {},
     "output_type": "execute_result"
    }
   ],
   "source": [
    "text_stats_df.head()"
   ]
  },
  {
   "cell_type": "code",
   "execution_count": null,
   "metadata": {},
   "outputs": [],
   "source": []
  },
  {
   "cell_type": "code",
   "execution_count": null,
   "metadata": {},
   "outputs": [],
   "source": [
    "text_stats_df.groupby('sentiment')['word_count'].mean().plot(kind = 'bar', figsize = (15,15));"
   ]
  },
  {
   "cell_type": "code",
   "execution_count": null,
   "metadata": {},
   "outputs": [],
   "source": [
    "text_stats_df.groupby('sentiment')['review_len'].mean().plot(kind = 'bar', figsize = (15,15));"
   ]
  },
  {
   "cell_type": "code",
   "execution_count": null,
   "metadata": {},
   "outputs": [],
   "source": [
    "correlation = text_stats_df[['sentiment', 'word_count', 'review_len']].corr()\n",
    "mask = np.zeros_like(correlation, dtype=np.bool)\n",
    "mask[np.triu_indices_from(mask)] = True\n",
    "plt.figure(figsize=(50,30))\n",
    "plt.xticks(fontsize=40)\n",
    "plt.yticks(fontsize=40)\n",
    "sns.heatmap(correlation, cmap='coolwarm', annot=True, annot_kws={\"size\": 40}, linewidths=10, vmin=-1.5, mask=mask);"
   ]
  },
  {
   "cell_type": "code",
   "execution_count": null,
   "metadata": {},
   "outputs": [],
   "source": []
  },
  {
   "cell_type": "code",
   "execution_count": null,
   "metadata": {},
   "outputs": [],
   "source": []
  },
  {
   "cell_type": "code",
   "execution_count": 194,
   "metadata": {},
   "outputs": [
    {
     "data": {
      "text/html": [
       "<div>\n",
       "<style scoped>\n",
       "    .dataframe tbody tr th:only-of-type {\n",
       "        vertical-align: middle;\n",
       "    }\n",
       "\n",
       "    .dataframe tbody tr th {\n",
       "        vertical-align: top;\n",
       "    }\n",
       "\n",
       "    .dataframe thead th {\n",
       "        text-align: right;\n",
       "    }\n",
       "</style>\n",
       "<table border=\"1\" class=\"dataframe\">\n",
       "  <thead>\n",
       "    <tr style=\"text-align: right;\">\n",
       "      <th></th>\n",
       "      <th>sentiment</th>\n",
       "      <th>word_count</th>\n",
       "      <th>review_len</th>\n",
       "    </tr>\n",
       "  </thead>\n",
       "  <tbody>\n",
       "    <tr>\n",
       "      <th>count</th>\n",
       "      <td>108851.000000</td>\n",
       "      <td>108851.000000</td>\n",
       "      <td>108851.000000</td>\n",
       "    </tr>\n",
       "    <tr>\n",
       "      <th>mean</th>\n",
       "      <td>0.793865</td>\n",
       "      <td>83.697724</td>\n",
       "      <td>325.504019</td>\n",
       "    </tr>\n",
       "    <tr>\n",
       "      <th>std</th>\n",
       "      <td>0.404530</td>\n",
       "      <td>125.798946</td>\n",
       "      <td>497.517006</td>\n",
       "    </tr>\n",
       "    <tr>\n",
       "      <th>min</th>\n",
       "      <td>0.000000</td>\n",
       "      <td>1.000000</td>\n",
       "      <td>1.000000</td>\n",
       "    </tr>\n",
       "    <tr>\n",
       "      <th>25%</th>\n",
       "      <td>1.000000</td>\n",
       "      <td>19.000000</td>\n",
       "      <td>72.000000</td>\n",
       "    </tr>\n",
       "    <tr>\n",
       "      <th>50%</th>\n",
       "      <td>1.000000</td>\n",
       "      <td>44.000000</td>\n",
       "      <td>169.000000</td>\n",
       "    </tr>\n",
       "    <tr>\n",
       "      <th>75%</th>\n",
       "      <td>1.000000</td>\n",
       "      <td>99.000000</td>\n",
       "      <td>383.000000</td>\n",
       "    </tr>\n",
       "    <tr>\n",
       "      <th>max</th>\n",
       "      <td>1.000000</td>\n",
       "      <td>3864.000000</td>\n",
       "      <td>15592.000000</td>\n",
       "    </tr>\n",
       "  </tbody>\n",
       "</table>\n",
       "</div>"
      ],
      "text/plain": [
       "           sentiment     word_count     review_len\n",
       "count  108851.000000  108851.000000  108851.000000\n",
       "mean        0.793865      83.697724     325.504019\n",
       "std         0.404530     125.798946     497.517006\n",
       "min         0.000000       1.000000       1.000000\n",
       "25%         1.000000      19.000000      72.000000\n",
       "50%         1.000000      44.000000     169.000000\n",
       "75%         1.000000      99.000000     383.000000\n",
       "max         1.000000    3864.000000   15592.000000"
      ]
     },
     "execution_count": 194,
     "metadata": {},
     "output_type": "execute_result"
    }
   ],
   "source": [
    "text_stats_df.describe()"
   ]
  },
  {
   "cell_type": "code",
   "execution_count": 196,
   "metadata": {},
   "outputs": [
    {
     "data": {
      "image/png": "[encoded data removed]",
      "text/plain": [
       "<Figure size 432x288 with 1 Axes>"
      ]
     },
     "metadata": {
      "needs_background": "light"
     },
     "output_type": "display_data"
    }
   ],
   "source": [
    "text_stats_df.word_count.hist();"
   ]
  },
  {
   "cell_type": "code",
   "execution_count": 195,
   "metadata": {},
   "outputs": [
    {
     "data": {
      "image/png": "[encoded data removed]",
      "text/plain": [
       "<Figure size 432x288 with 1 Axes>"
      ]
     },
     "metadata": {
      "needs_background": "light"
     },
     "output_type": "display_data"
    }
   ],
   "source": [
    "text_stats_df.review_len.hist();"
   ]
  },
  {
   "cell_type": "code",
   "execution_count": 46,
   "metadata": {},
   "outputs": [
    {
     "data": {
      "text/html": [
       "<div>\n",
       "<style scoped>\n",
       "    .dataframe tbody tr th:only-of-type {\n",
       "        vertical-align: middle;\n",
       "    }\n",
       "\n",
       "    .dataframe tbody tr th {\n",
       "        vertical-align: top;\n",
       "    }\n",
       "\n",
       "    .dataframe thead th {\n",
       "        text-align: right;\n",
       "    }\n",
       "</style>\n",
       "<table border=\"1\" class=\"dataframe\">\n",
       "  <thead>\n",
       "    <tr style=\"text-align: right;\">\n",
       "      <th></th>\n",
       "      <th>reviewText</th>\n",
       "      <th>sentiment</th>\n",
       "      <th>word_count</th>\n",
       "      <th>review_len</th>\n",
       "    </tr>\n",
       "  </thead>\n",
       "  <tbody>\n",
       "    <tr>\n",
       "      <th>101837</th>\n",
       "      <td>&lt;div id=\"video-block-R21WD3K0GDQSEG\" class=\"a-...</td>\n",
       "      <td>1</td>\n",
       "      <td>3864</td>\n",
       "      <td>14970</td>\n",
       "    </tr>\n",
       "    <tr>\n",
       "      <th>62219</th>\n",
       "      <td>Taking the Bose MIE2i, the most comfortable an...</td>\n",
       "      <td>1</td>\n",
       "      <td>3711</td>\n",
       "      <td>15592</td>\n",
       "    </tr>\n",
       "    <tr>\n",
       "      <th>99927</th>\n",
       "      <td>Item arrived on time, well-packaged. Contained...</td>\n",
       "      <td>1</td>\n",
       "      <td>3243</td>\n",
       "      <td>12535</td>\n",
       "    </tr>\n",
       "    <tr>\n",
       "      <th>96857</th>\n",
       "      <td>I bought these headphones and they were my fir...</td>\n",
       "      <td>1</td>\n",
       "      <td>2973</td>\n",
       "      <td>13101</td>\n",
       "    </tr>\n",
       "    <tr>\n",
       "      <th>108741</th>\n",
       "      <td>Recently I went on  search for noise cancellin...</td>\n",
       "      <td>1</td>\n",
       "      <td>2788</td>\n",
       "      <td>11176</td>\n",
       "    </tr>\n",
       "    <tr>\n",
       "      <th>69271</th>\n",
       "      <td>Compared the Audio Technica ANC7B's vs. Bose Q...</td>\n",
       "      <td>0</td>\n",
       "      <td>2771</td>\n",
       "      <td>10619</td>\n",
       "    </tr>\n",
       "    <tr>\n",
       "      <th>96841</th>\n",
       "      <td>The V-Moda Crossfade LP over-the-ear headphone...</td>\n",
       "      <td>1</td>\n",
       "      <td>2739</td>\n",
       "      <td>11080</td>\n",
       "    </tr>\n",
       "    <tr>\n",
       "      <th>13007</th>\n",
       "      <td>Oh, one of the most beloved and well known hea...</td>\n",
       "      <td>1</td>\n",
       "      <td>2377</td>\n",
       "      <td>9216</td>\n",
       "    </tr>\n",
       "    <tr>\n",
       "      <th>27101</th>\n",
       "      <td>*UPDATE*\\nAs promised, I wanted to come back a...</td>\n",
       "      <td>1</td>\n",
       "      <td>2260</td>\n",
       "      <td>8963</td>\n",
       "    </tr>\n",
       "    <tr>\n",
       "      <th>102878</th>\n",
       "      <td>Having now had experience with an extremely di...</td>\n",
       "      <td>1</td>\n",
       "      <td>2260</td>\n",
       "      <td>10162</td>\n",
       "    </tr>\n",
       "    <tr>\n",
       "      <th>26907</th>\n",
       "      <td>Wunderbaar und h&amp;ouml;chste !!!!\\n\\n(Wonderful...</td>\n",
       "      <td>1</td>\n",
       "      <td>2241</td>\n",
       "      <td>9489</td>\n",
       "    </tr>\n",
       "    <tr>\n",
       "      <th>12890</th>\n",
       "      <td>Sennheiser electronic GmbH &amp; Co. KG (branded S...</td>\n",
       "      <td>1</td>\n",
       "      <td>2229</td>\n",
       "      <td>10591</td>\n",
       "    </tr>\n",
       "    <tr>\n",
       "      <th>98461</th>\n",
       "      <td>First off: this keyboard has a great tactile f...</td>\n",
       "      <td>0</td>\n",
       "      <td>2228</td>\n",
       "      <td>9092</td>\n",
       "    </tr>\n",
       "    <tr>\n",
       "      <th>24110</th>\n",
       "      <td>I've probably been using portable music player...</td>\n",
       "      <td>1</td>\n",
       "      <td>2133</td>\n",
       "      <td>7960</td>\n",
       "    </tr>\n",
       "    <tr>\n",
       "      <th>82994</th>\n",
       "      <td>I was initially pleased with this Christmas gi...</td>\n",
       "      <td>1</td>\n",
       "      <td>2110</td>\n",
       "      <td>8807</td>\n",
       "    </tr>\n",
       "    <tr>\n",
       "      <th>12823</th>\n",
       "      <td>(If you're wondering how these compare to the&amp;...</td>\n",
       "      <td>1</td>\n",
       "      <td>2095</td>\n",
       "      <td>8629</td>\n",
       "    </tr>\n",
       "    <tr>\n",
       "      <th>17973</th>\n",
       "      <td>I typically don't write product reviews. Most ...</td>\n",
       "      <td>1</td>\n",
       "      <td>2083</td>\n",
       "      <td>8293</td>\n",
       "    </tr>\n",
       "    <tr>\n",
       "      <th>53772</th>\n",
       "      <td>First off: BUY THESE\\n\\nNow, here's why. I've ...</td>\n",
       "      <td>1</td>\n",
       "      <td>2002</td>\n",
       "      <td>7407</td>\n",
       "    </tr>\n",
       "    <tr>\n",
       "      <th>103234</th>\n",
       "      <td>The janitor recently stole the pair of Skullca...</td>\n",
       "      <td>1</td>\n",
       "      <td>1942</td>\n",
       "      <td>7258</td>\n",
       "    </tr>\n",
       "    <tr>\n",
       "      <th>32636</th>\n",
       "      <td>The janitor recently stole the pair of Skullca...</td>\n",
       "      <td>1</td>\n",
       "      <td>1942</td>\n",
       "      <td>7258</td>\n",
       "    </tr>\n",
       "  </tbody>\n",
       "</table>\n",
       "</div>"
      ],
      "text/plain": [
       "                                               reviewText  sentiment  \\\n",
       "101837  <div id=\"video-block-R21WD3K0GDQSEG\" class=\"a-...          1   \n",
       "62219   Taking the Bose MIE2i, the most comfortable an...          1   \n",
       "99927   Item arrived on time, well-packaged. Contained...          1   \n",
       "96857   I bought these headphones and they were my fir...          1   \n",
       "108741  Recently I went on  search for noise cancellin...          1   \n",
       "69271   Compared the Audio Technica ANC7B's vs. Bose Q...          0   \n",
       "96841   The V-Moda Crossfade LP over-the-ear headphone...          1   \n",
       "13007   Oh, one of the most beloved and well known hea...          1   \n",
       "27101   *UPDATE*\\nAs promised, I wanted to come back a...          1   \n",
       "102878  Having now had experience with an extremely di...          1   \n",
       "26907   Wunderbaar und h&ouml;chste !!!!\\n\\n(Wonderful...          1   \n",
       "12890   Sennheiser electronic GmbH & Co. KG (branded S...          1   \n",
       "98461   First off: this keyboard has a great tactile f...          0   \n",
       "24110   I've probably been using portable music player...          1   \n",
       "82994   I was initially pleased with this Christmas gi...          1   \n",
       "12823   (If you're wondering how these compare to the&...          1   \n",
       "17973   I typically don't write product reviews. Most ...          1   \n",
       "53772   First off: BUY THESE\\n\\nNow, here's why. I've ...          1   \n",
       "103234  The janitor recently stole the pair of Skullca...          1   \n",
       "32636   The janitor recently stole the pair of Skullca...          1   \n",
       "\n",
       "        word_count  review_len  \n",
       "101837        3864       14970  \n",
       "62219         3711       15592  \n",
       "99927         3243       12535  \n",
       "96857         2973       13101  \n",
       "108741        2788       11176  \n",
       "69271         2771       10619  \n",
       "96841         2739       11080  \n",
       "13007         2377        9216  \n",
       "27101         2260        8963  \n",
       "102878        2260       10162  \n",
       "26907         2241        9489  \n",
       "12890         2229       10591  \n",
       "98461         2228        9092  \n",
       "24110         2133        7960  \n",
       "82994         2110        8807  \n",
       "12823         2095        8629  \n",
       "17973         2083        8293  \n",
       "53772         2002        7407  \n",
       "103234        1942        7258  \n",
       "32636         1942        7258  "
      ]
     },
     "execution_count": 46,
     "metadata": {},
     "output_type": "execute_result"
    }
   ],
   "source": [
    "text_stats_df.sort_values(by = 'word_count', ascending = False).head(20)"
   ]
  },
  {
   "cell_type": "code",
   "execution_count": null,
   "metadata": {},
   "outputs": [],
   "source": [
    "text_stats_df.sort_values(by = 'word_count', ascending = False).tail(20)"
   ]
  },
  {
   "cell_type": "code",
   "execution_count": null,
   "metadata": {},
   "outputs": [],
   "source": []
  },
  {
   "cell_type": "code",
   "execution_count": 51,
   "metadata": {},
   "outputs": [],
   "source": [
    "def clean_text(text):\n",
    "    # Replace &nbsp; with regular space\n",
    "    text = text.replace(\"&nbsp;\", \" \")\n",
    "    # Remove HTML tags and attributes\n",
    "    text = re.sub(r\"<[^>]+>\", \"\", text)\n",
    "    # Remove URLs\n",
    "    text = re.sub(r\"http\\S+\", \"\", text)\n",
    "    # Remove line breaks and extra whitespace\n",
    "    text = re.sub(r\"\\s+\", \" \", text)\n",
    "    # Remove numbers and special characters\n",
    "    text = re.sub(r'[^a-zA-Z\\s]', '', text)\n",
    "    text = re.sub(r'\\d+', '', text)\n",
    "    # Convert to lowercase and remove leading/trailing white space\n",
    "    # Tokenize and lemmatize\n",
    "    doc = nlp(text)\n",
    "    lemmas = [token.lemma_.lower().strip() for token in doc if not token.is_punct and len(token) > 2]\n",
    "\n",
    "    return lemmas"
   ]
  },
  {
   "cell_type": "code",
   "execution_count": null,
   "metadata": {},
   "outputs": [],
   "source": []
  },
  {
   "cell_type": "code",
   "execution_count": 224,
   "metadata": {},
   "outputs": [
    {
     "data": {
      "text/plain": [
       "'<div id=\"video-block-R21WD3K0GDQSEG\" class=\"a-section a-spacing-small a-spacing-top-mini video-block\"></div><input type=\"hidden\" name=\"\" value=\"https://images-na.ssl-images-amazon.com/images/I/C1oPr87IlBS.mp4\" class=\"video-url\"><input type=\"hidden\" name=\"\" value=\"https://images-na.ssl-images-amazon.com/images/I/81j8xFjPmAS.png\" class=\"video-slate-img-url\">&nbsp;&nbsp;&nbsp;NOTE on the Video:\\n\\nI apologize for quality but I am only trying to illustrate a couple of things:\\n\\n- Voice search is super efficient: rather than push something cute your way, Roku figures out what you just said and the recognition rate was close to 100% and then immediately shows you what\\'s available and for how much if not free.\\n- Search results are neutral: Fire TV claims that they can\\'t \\'see\\' inside Netflix yet Roku has no problem whatsoever finding the \\'free\\' movie there while showing many other sources.\\n- Jumping from the search result to a service (Netflix here) is super-quick, no time wasted.\\n- The Roku Media Player required zero setup before it \\'saw\\' my NAS and my router-attached HDD.\\n- Discovering over 1000 albums was done in no time and this is done over Wi-Fi.\\n- Led Zeppelin rocks.\\n\\nUPDATE: I\\'ve been using this Roku 4 since \\'day one\\' and my experience appears to be slightly at odds with what some have experienced so, these are my impressions:\\n\\n* Performance is flawless: once setup completed, no further action was required as far as Wi-Fi authentication. The unit never disconnected and, except for some Twitch broadcasts that were probably coming from low bandwidth streamers, there were no frames dropped that I could notice.\\n* The \\'fan noise\\' is so low, I never hear it unless I turn off sound and I go very, very close to the unit, like 2 feet.\\n* Yes, the Roku 4 runs hot which is not surprising because it\\'s a powerful streamer. However, it\\'s easy to set it to turn itself off if not used for 30 minutes which is a good practice anyway because there\\'s no reason to burn electricity 24x7. It will take some 15 seconds for the Roku to wake up but, seriously, it\\'s worth the power savings and it probably extends the Roku\\'s life.\\n* Voice search is amazing. For the past 10 days or so, only once did Roku said \"sorry, I wasn\\'t paying attention\". On every other instance, Roku displayed the right content. Search is intelligent enough to show not only, let\\'s say all the Tarantino movies if you say \\'Tarantino\\', and that includes the movies that are NOT carried by any service under Roku so you can add it to \\'My feed\\' and be notified. Voice search goes deeper, actually. For example, if I say \\'Stephen King\\', Roku gives me a list of movies and shows that are inspired by his works. And that\\'s great.\\n\\nI understand that not everyone\\'s expectations are met by this new Roku model but this is the best you can get today as far as streamers in my view.\\n\\n___________________________________________________________\\n\\nFor anyone new to the Roku world, I would recommend the Roku 4 over any other previous models. I do confess to some bias here as we ordered 2 (large family) already. I love the Roku for so far for all its new features, some of them (4K UltraHD support) not relevant to everyone at this time but it never hurts to have \\'extra\\' capabilities that you may need in the future. Also, it\\'s so much faster to operate. If \\'cost\\' is an issue and 720p only is not a bother then the LT if still available should be a great pick for fraction of the price. For something in-between, I\\'d go for the Roku Stick (1080p resolution, not so expensive, decent performance).\\n\\nTrue for all Roku models: there\\'s an enormous amount of channels to choose from, including most popular ones. And if there\\'s something that you can\\'t find in the official store you can always check the private channel listings (I included the URL of my favorite site) which is where I found things such CNN International and BBC World.\\n\\nThe streaming is exceptionally smooth. Quite impressive considering that I tested this Roku on the second floor, some 60-70 ft. and two floors away from our Wi-Fi 802.11ac router located in the basement.\\n\\nThis model especially, due to the more powerful processor is easy to operate through Roku\\'s very basic remote control.\\n\\nThis Roku 4 and all Rokus are stable. I didn\\'t have the Roku 4 for too long (will update) but my experience with all other models was that it almost never crashed and I only had to manually reconnect to my Wi-Fi router once over a 6-months period.\\n\\nThe \\'universal search\\' feature is quite amazing. You simply type in the name of a movie or show even an actor and you will see all your options on all channels and you will know in advance whether it\\'s going to be free or exactly how much it was going to cost. On the Roku 4 all information appears almost instantly. And then there is of course, the Roku Feed. You can \\'follow\\' shows, movies, even actors and get notified whenever the content you seek becomes available on what services. It\\'s still work in progress but it\\'s getting better as the feature matures.\\n\\nOff the four \\'major\\' streamers I will be discussing, and I know that they aren\\'t the only ones, I prefer Rokus because, like the Chromecasts, they are near-universal, equal opportunity streamers and, unlike the Chromecasts and that gives them some edge, they come with a physical remote - not absolutely or always required because you can use your phone for control - and an excellent and consistent user interface. In addition, the Roku 4 has some useful physical ports such as Ethernet and optical audio plus a MicroSD expansion slot. I\\'ve relegated Amazon\\'s and Apple\\'s entries to the third position not because they are bad streamers because they are quite good but because they gently or not so gently try to steer their users toward their own content which may be a great thing for Amazon and Apple but does not always benefit the user. If the above can be considered \\'bias\\', I accept it. I did try to make the SETTING UP... and the FAQ sections as factual as possible so, hopefully, my review could help a few make an informed decision.\\n\\nCOMPARISONS\\n\\n[Roku 4 vs. Chromecast]\\nWe are comparing the much larger and significantly more expensive Roku 4 to Google\\'s very capable dongle so I\\'ll try to be as fair as possible. As I stated already, Roku\\'s main advantage is the unified user interface and the physical remote. And since Amazon doesn\\'t yet view Roku as a competitor, Amazon Prime is on the Rokus but not on Chromecasts. Roku 4 has the built-in Ethernet port for wired connectivity vs. Chromecast\\'s only available as a add-on and Roku\\'s optical audio port and top it off with 4K support and I would say \\'advantage Roku\\' so far.\\nChromecast\\'s main advantages include the much lower price of course, its built-in flexibility where basically any App developer can easily add Chromecast compatibility and I don\\'t believe they even need Google\\'s Okay for that. Chromecasts also allow casting from phones and anything else that supports a Chrome browser. You can cast to the Roku 4 but the Google way feels more natural and is available for a lot more sources.\\nFor full disclosure, we have both a Roku and a Chromecast hanging at the back of our big TV and I tend to go Chromecast whenever I need to get to something quick while Roku is for my more \\'regular\\' viewing sessions. I happen to prefer the Roku most of the time but some in our household prefer the Chromecast because they are more attached to their phones so... it\\'s a close call at this time.\\n\\n[Roku 4 vs. Fire TV]\\nRoku\\'s major advantage is of course its neutrality. Yes, they do carry ads and they do have \\'paid\\' buttons on the remote but Roku\\'s searches return content from many providers and provide information on what it costs to access that content. Amazon\\'s interface is kind of pushy and cluttered, trying to steer everyone into Amazon\\'s own content. Their claim that they can\\'t search inside Netflix, for example, is interesting because, somehow, Roku can. Roku\\'s optical audio port gives it an advantage if one needs to send audio to, let\\'s say a sound bar (because the HDMI is already taken by the TV). Also, Roku\\'s Hotel and Dorm Connect feature (not tested by me yet) makes it more portable because it allows you to use a Web browser interface to log into a hotel Wi-Fi where you need a laptop for the initial authentication.\\nFire TV\\'s advantages are lower price (which may be higher if you buy the game controller), better games support, Amazon\\'s excellent customer support and the Alexa-based voice search which does more than just show you what\\'s available.\\n\\n[Roku 4 vs. Apple TV]\\nI will update this once I can get my hands on Apple\\'s latest and greatest. All I can say at this time is that, like in the case of Amazon\\'s Fire TV, it\\'s great if you don\\'t mind being steered toward Apple-approved content. And, of course, there\\'s no Amazon Prime on Apple TV.\\n\\n[Roku 4 vs. older Rokus]\\nThis is an easy one. While the TV interface is more or less the same, Roku 4 adds 4K Ultra HD support. I can\\'t use it at this time because we lack the bandwidth and the 4K TV but I see that, at the time I\\'m posting this review they are listing Amazon, Netflix, YouTube, VUDU and MGo as 4K providers and I\\'m sure the list will grow. Roku 4 also adds 802.11ac support which is almost a must if you are going to go Ultra HD, optical audio port, better phone apps integration and, of course, the nice remote finder feature.\\n\\nSETTING UP AND USING ROKU 4\\n\\nAs I expected, initially setting up our new Roku was a matter of minutes. We already have a Roku account so all our channels appeared but we did have to re-authenticate on Netflix, Amazon Prime and register YouTube, Twitch and so forth. By the way, Roku does NOT have our credit card at this time. Whatever we gave them, long time ago, it expired and we pay our providers independently.\\n\\nOnce on, there was very much the same familiar interface the 4K Ultra HD listing as an added option in the channel store. Setting it up on the 5GHz band and connecting to an 802.11ac router does seem to make a difference. Everything is fast and smooth, probably slightly faster than what we got out of Roku 3. We absolutely love the remote finder feature. No, we didn\\'t lose the remote yet but it was fun to test it so, at least one of our remotes is going to be easier to find. Was also able to cast some photos my phone, using the Android app, all quick and easy.\\n\\nAbsent a 4K capability in our house, Roku 4 is still great to have but I would not recommend an upgrade unless you have the TV and the bandwidth or you are someone who must have \\'the latest and greatest\\' or it\\'s the your first Roku. If shopping for your first, I would say definitely go Roku 4 because 4K TV is going to be a big thing fast because the 4K TVs get cheaper almost by the day and high bandwidth is becoming available in more areas so a Roku 4 is worth the extra dollars in my view.\\n\\n_______________________________________________________________\\n\\nTHE FAQ\\n\\nI will try to keep this section as objective (factual) as possible. Some of the topics concern Roku in general, not specifically the Roku 4. Will also update it and correct it if needed.\\n\\nQ: Why would I want a Roku?\\nA: Roku has thousands of \\'channels\\', but do keep in mind that there are \\'tens of thousands\\' of apps that currently support Chromecast. If you like exploring content beyond the popular services (Netflix, Amazon, etc.) you should consider a Roku or a Chromecast but you may want a Roku if you prefer a more stable, easy to navigate interface and you are an Amazon Prime subscriber.\\n\\nQ: Why would I want a Roku 4?\\nA: Roku 4  has a faster processor, adds support for 4K Ultra HD, 802.11ac (faster bandwidth but you will need an 802.11ac router to take advantage of it), an optical audio output which is super important if you don\\'t use a receiver, has the remote find feature, allows for easy setup while on the road, such as in hotels.\\n\\nQ: When I shouldn\\'t pick a Roku 4 over other Roku models?\\nA: Always if it\\'s going to be your first streamer. If you already own a Roku 3 and do not have a 4K TV, you probably don\\'t need one yet.\\n\\nQ: Is the Roku 4 expandable?\\nA: Yes. There a MicroSD slot for additional game and channel storage memory\\n\\nQ: Can I use a Roku 4 with a TV lacking an HDMI port?\\nA: Not out of the box. There are some HDMI-to-... interfaces but I haven\\'t tested one with a Roku myself.\\n\\nQ: Are HDMI or Ethernet cables included?\\nA: No, you will have to provide your own.\\n\\nQ: What type of HDMI cable should I use?\\nA: A \\'normal\\' HDMI 1.4 cable is good enough if your TV is not Ultra HD capable but you may want an HDMI 2.0 if it is.\\n\\nQ: What is HDCP and does it matter to me?\\nA: According to Wikipedia, High-bandwidth Digital Content Protection (HDCP), is a form of digital copy protection [...] to prevent copying of digital audio and video content as it travels across connections. Ultra HD TVs require that certain content such as stream from Netflix or Amazon Video are played only through an HDMI port that is HDCP 2.2 compliant. Earlier Ultra HD TVs models had HDCP 2.0 ports but that standard has been surpassed by HDCP 2.2, available on newer models. If you are about to purchase a new Ultra HD TV, make sure that it is HDCP 2.2 compliant - be very careful if the TV is \\'on sale\\' at a price that\\'s too good to be true. You may also require an HDMI 2.0 cable (not HDMI 1.4) for best results. Also, be aware that not all streams require an HDCP 2.2 enabled port. Videos from YouTube, for example, and certain content acquired through TV\\'s own services may be able to play through a regular port.\\n\\nQ: What is HDR and does Roku 4 support it?\\nA: According to Wikipedia, HDR (High Dynamic Range) is a technique used in imaging and photography to reproduce a greater dynamic range of luminosity than is possible with standard digital imaging. It is not supported by Roku 4, at least at this time - Roku claims that there is no settled industry standard yet. A number of TV manufacturers (Samsung, LG) have announced HDR compatible TV models and HDR content is set to become available though several services. It is not clear if HDR support could be enable in the future through a firmware upgrade or a new streaming device (Roku 5?) will be required.\\n\\nQ: What are the best screen resolution and audio supported?\\nA: 4K Ultra HD at 60 fps, Dolby Digital Plus 7.1 surround.\\n\\nQ: What media formats are supported for USB playback?\\nA: Video: MP4, MKV, HEVC MP3; Audio: AAC, Apple Lossless, WMA; photos: JPG, PNG\\n\\nQ: Do I require a special setup to play Ultra HD content?\\nA: You can play YouTube Ultra HD content through a regular HDMI cable. However, some providers such as Netflix will work only if your TV has an HDCP 2.2 compatible HDMI port. Most 4K TVs do have such a port.\\n\\nQ: How do I connect a Roku 4 to the Internet?\\nA: You can do it either via Wi-Fi or through the wired Ethernet port.\\n\\nQ: What\\'s in the box?\\nA: You get the remote (batteries included), earbuds, the AC wall adapter, the Get Started pamphlet.\\n\\nQ: Do I need \\'line of sight\\' to control the Roku?\\nA: No, it comes with an RF remote.\\n\\nQ: Is there an on/off switch?\\nA: No, but the Roku can be set to turn itself off after 30 minutes of inactivity (that doesn\\'t count actually watching something).\\n\\nQ: What are the remote\\'s other feature?\\nA: It has dedicated buttons for 4 services, earphone jack, speaker for the remote finder function, motion control for gaming and an IR receiver for compatibility with other universal remotes.\\n\\nQ: Does this Roku have a fan? Is it loud?\\nA: There seems to be a small fan inside. On my unit, the noise was barely audible from anywhere farther than 1-2 ft. but some user are complaining of \\'loud\\' fan noise.\\n\\nQ: Can I play games on the Roku 3?\\nA: Yes.\\n\\nQ: Can I cast off a PC?\\nA: Yes through a supported service such as Plex (I know there are others but Plex is the only one I\\'ve tried so far). Can also cast YouTube off a Chrome browser.\\n\\nQ: Will I be able to cast personal content?\\nA: Yes, directly from a phone, through the USB port, off a DLNA server.\\n\\nQ: Is screen mirroring supported?\\nA: Yes, for Windows and Android devices.\\n\\nQ: Are all Roku channels free?\\nA: Many of them are but Roku also carries \\'premium\\' channels (Netflix, ShowTime, HBO, Amazon Prime) for which you will require a separate subscription.\\n\\nQ: What are private channels.\\nA: These are channels that, for whatever reason, are not listed by Roku\\'s official channel store. You can easily make them \\'appear\\' on your TV by picking them from one of the sites that lists such channels. See the first comment to this review for the URLs of such sites.\\n\\nQ: How much it costs to use a Roku?\\nA: Once purchased, it could cost you nothing. Or you may subscribe to one or more premium services.\\n\\nQ: Can I have more than one Roku tied to one account?\\nA: Yes.\\n\\nQ: Will the new Roku 4 get the channels I set on my other Roku devices if I am using the same account?\\nA: Yes, we have several Rokus tied to one account.\\n\\nQ: Can I search for a specific movie or show across all of Roku\\'s channels?\\nA: Yes. You can also search for other related information such as movies featuring one specific actor. Only keep in mind that the not all services may show up in searches but all major or popular ones usually do.\\n\\nQ: Can I watch YouTube on the Roku?\\nA: Yes. Even better, if your computer had a Chrome browser, you can even cast YouTube from it.\\n\\nQ: Are there shortcuts to my favorite channels?\\nA: The remote has dedicated buttons to MGo, Amazon, rdio and sling.\\n\\nQ: If I also have Chromecast, will I be able to control which device gets the Youtube stream?\\nA: Yes, tested on a Chromebook.\\n\\nQ: Can I cast from a phone or tablet?\\nA: Yes. You can cast content directly to the Roku.\\n\\nQ: Can I get live news channels on the Roku?\\nA: Yes. You may be able to find such channels at the store or as private channels listings but many US \\'mainstream\\' news channels only offer a selection of recent on-demand videos (VOD) rather than streaming live.\\n\\nQ: Are non-video streams supported?\\nA: Yes, radio stations and music streaming channels such as Pandora are supported. Enormous channels selection, excellent interface, 4K HD support (hands-on plus FAQ)'"
      ]
     },
     "execution_count": 224,
     "metadata": {},
     "output_type": "execute_result"
    }
   ],
   "source": [
    "text_stats_df.reviews[101837]"
   ]
  },
  {
   "cell_type": "code",
   "execution_count": 226,
   "metadata": {},
   "outputs": [
    {
     "data": {
      "text/plain": [
       "['note',\n",
       " 'the',\n",
       " 'video',\n",
       " 'apologize',\n",
       " 'for',\n",
       " 'quality',\n",
       " 'but',\n",
       " 'only',\n",
       " 'try',\n",
       " 'illustrate',\n",
       " 'couple',\n",
       " 'thing',\n",
       " 'voice',\n",
       " 'search',\n",
       " 'super',\n",
       " 'efficient',\n",
       " 'rather',\n",
       " 'than',\n",
       " 'push',\n",
       " 'something',\n",
       " 'cute',\n",
       " 'your',\n",
       " 'way',\n",
       " 'roku',\n",
       " 'figure',\n",
       " 'out',\n",
       " 'what',\n",
       " 'you',\n",
       " 'just',\n",
       " 'say',\n",
       " 'and',\n",
       " 'the',\n",
       " 'recognition',\n",
       " 'rate',\n",
       " 'be',\n",
       " 'close',\n",
       " 'and',\n",
       " 'then',\n",
       " 'immediately',\n",
       " 'show',\n",
       " 'you',\n",
       " 'what',\n",
       " 'available',\n",
       " 'and',\n",
       " 'for',\n",
       " 'how',\n",
       " 'much',\n",
       " 'not',\n",
       " 'free',\n",
       " 'search',\n",
       " 'result',\n",
       " 'be',\n",
       " 'neutral',\n",
       " 'fire',\n",
       " 'claim',\n",
       " 'that',\n",
       " 'they',\n",
       " 'see',\n",
       " 'inside',\n",
       " 'netflix',\n",
       " 'yet',\n",
       " 'roku',\n",
       " 'have',\n",
       " 'problem',\n",
       " 'whatsoever',\n",
       " 'find',\n",
       " 'the',\n",
       " 'free',\n",
       " 'movie',\n",
       " 'there',\n",
       " 'while',\n",
       " 'show',\n",
       " 'many',\n",
       " 'other',\n",
       " 'source',\n",
       " 'jump',\n",
       " 'from',\n",
       " 'the',\n",
       " 'search',\n",
       " 'result',\n",
       " 'service',\n",
       " 'netflix',\n",
       " 'here',\n",
       " 'superquick',\n",
       " 'time',\n",
       " 'waste',\n",
       " 'the',\n",
       " 'roku',\n",
       " 'media',\n",
       " 'player',\n",
       " 'require',\n",
       " 'zero',\n",
       " 'setup',\n",
       " 'before',\n",
       " 'see',\n",
       " 'nas',\n",
       " 'and',\n",
       " 'routerattached',\n",
       " 'hdd',\n",
       " 'discover',\n",
       " 'over',\n",
       " 'album',\n",
       " 'be',\n",
       " 'do',\n",
       " 'time',\n",
       " 'and',\n",
       " 'this',\n",
       " 'do',\n",
       " 'over',\n",
       " 'wifi',\n",
       " 'led',\n",
       " 'zeppelin',\n",
       " 'rock',\n",
       " 'update',\n",
       " 'be',\n",
       " 'use',\n",
       " 'this',\n",
       " 'roku',\n",
       " 'since',\n",
       " 'day',\n",
       " 'one',\n",
       " 'and',\n",
       " 'experience',\n",
       " 'appear',\n",
       " 'slightly',\n",
       " 'odd',\n",
       " 'with',\n",
       " 'what',\n",
       " 'some',\n",
       " 'have',\n",
       " 'experience',\n",
       " 'these',\n",
       " 'be',\n",
       " 'impression',\n",
       " 'performance',\n",
       " 'flawless',\n",
       " 'once',\n",
       " 'setup',\n",
       " 'complete',\n",
       " 'further',\n",
       " 'action',\n",
       " 'be',\n",
       " 'require',\n",
       " 'far',\n",
       " 'wifi',\n",
       " 'authentication',\n",
       " 'the',\n",
       " 'unit',\n",
       " 'never',\n",
       " 'disconnect',\n",
       " 'and',\n",
       " 'except',\n",
       " 'for',\n",
       " 'some',\n",
       " 'twitch',\n",
       " 'broadcast',\n",
       " 'that',\n",
       " 'be',\n",
       " 'probably',\n",
       " 'come',\n",
       " 'from',\n",
       " 'low',\n",
       " 'bandwidth',\n",
       " 'streamer',\n",
       " 'there',\n",
       " 'be',\n",
       " 'frame',\n",
       " 'drop',\n",
       " 'that',\n",
       " 'could',\n",
       " 'notice',\n",
       " 'the',\n",
       " 'fan',\n",
       " 'noise',\n",
       " 'low',\n",
       " 'never',\n",
       " 'hear',\n",
       " 'unless',\n",
       " 'turn',\n",
       " 'off',\n",
       " 'sound',\n",
       " 'and',\n",
       " 'very',\n",
       " 'very',\n",
       " 'close',\n",
       " 'the',\n",
       " 'unit',\n",
       " 'like',\n",
       " 'foot',\n",
       " 'yes',\n",
       " 'the',\n",
       " 'roku',\n",
       " 'run',\n",
       " 'hot',\n",
       " 'which',\n",
       " 'not',\n",
       " 'surprising',\n",
       " 'because',\n",
       " 'its',\n",
       " 'powerful',\n",
       " 'streamer',\n",
       " 'however',\n",
       " 'its',\n",
       " 'easy',\n",
       " 'set',\n",
       " 'turn',\n",
       " 'itself',\n",
       " 'off',\n",
       " 'not',\n",
       " 'use',\n",
       " 'for',\n",
       " 'minute',\n",
       " 'which',\n",
       " 'good',\n",
       " 'practice',\n",
       " 'anyway',\n",
       " 'because',\n",
       " 'there',\n",
       " 'reason',\n",
       " 'burn',\n",
       " 'electricity',\n",
       " 'will',\n",
       " 'take',\n",
       " 'some',\n",
       " 'second',\n",
       " 'for',\n",
       " 'the',\n",
       " 'roku',\n",
       " 'wake',\n",
       " 'but',\n",
       " 'seriously',\n",
       " 'its',\n",
       " 'worth',\n",
       " 'the',\n",
       " 'power',\n",
       " 'saving',\n",
       " 'and',\n",
       " 'probably',\n",
       " 'extend',\n",
       " 'the',\n",
       " 'rokus',\n",
       " 'life',\n",
       " 'voice',\n",
       " 'search',\n",
       " 'amazing',\n",
       " 'for',\n",
       " 'the',\n",
       " 'past',\n",
       " 'day',\n",
       " 'only',\n",
       " 'once',\n",
       " 'do',\n",
       " 'roku',\n",
       " 'say',\n",
       " 'sorry',\n",
       " 'be',\n",
       " 'pay',\n",
       " 'attention',\n",
       " 'every',\n",
       " 'other',\n",
       " 'instance',\n",
       " 'roku',\n",
       " 'display',\n",
       " 'the',\n",
       " 'right',\n",
       " 'content',\n",
       " 'search',\n",
       " 'intelligent',\n",
       " 'enough',\n",
       " 'show',\n",
       " 'not',\n",
       " 'only',\n",
       " 'let',\n",
       " 'you',\n",
       " 'all',\n",
       " 'the',\n",
       " 'tarantino',\n",
       " 'movie',\n",
       " 'you',\n",
       " 'say',\n",
       " 'tarantino',\n",
       " 'and',\n",
       " 'that',\n",
       " 'include',\n",
       " 'the',\n",
       " 'movie',\n",
       " 'that',\n",
       " 'be',\n",
       " 'not',\n",
       " 'carry',\n",
       " 'any',\n",
       " 'service',\n",
       " 'under',\n",
       " 'roku',\n",
       " 'you',\n",
       " 'can',\n",
       " 'add',\n",
       " 'feed',\n",
       " 'and',\n",
       " 'notify',\n",
       " 'voice',\n",
       " 'search',\n",
       " 'go',\n",
       " 'deeply',\n",
       " 'actually',\n",
       " 'for',\n",
       " 'example',\n",
       " 'say',\n",
       " 'stephen',\n",
       " 'king',\n",
       " 'roku',\n",
       " 'give',\n",
       " 'list',\n",
       " 'movie',\n",
       " 'and',\n",
       " 'show',\n",
       " 'that',\n",
       " 'be',\n",
       " 'inspire',\n",
       " 'his',\n",
       " 'work',\n",
       " 'and',\n",
       " 'that',\n",
       " 'great',\n",
       " 'understand',\n",
       " 'that',\n",
       " 'not',\n",
       " 'everyone',\n",
       " 'expectation',\n",
       " 'be',\n",
       " 'meet',\n",
       " 'this',\n",
       " 'new',\n",
       " 'roku',\n",
       " 'model',\n",
       " 'but',\n",
       " 'this',\n",
       " 'the',\n",
       " 'good',\n",
       " 'you',\n",
       " 'can',\n",
       " 'get',\n",
       " 'today',\n",
       " 'far',\n",
       " 'streamer',\n",
       " 'view',\n",
       " 'for',\n",
       " 'anyone',\n",
       " 'new',\n",
       " 'the',\n",
       " 'roku',\n",
       " 'world',\n",
       " 'would',\n",
       " 'recommend',\n",
       " 'the',\n",
       " 'roku',\n",
       " 'over',\n",
       " 'any',\n",
       " 'other',\n",
       " 'previous',\n",
       " 'model',\n",
       " 'confess',\n",
       " 'some',\n",
       " 'bias',\n",
       " 'here',\n",
       " 'order',\n",
       " 'large',\n",
       " 'family',\n",
       " 'already',\n",
       " 'love',\n",
       " 'the',\n",
       " 'roku',\n",
       " 'for',\n",
       " 'far',\n",
       " 'for',\n",
       " 'all',\n",
       " 'its',\n",
       " 'new',\n",
       " 'feature',\n",
       " 'some',\n",
       " 'they',\n",
       " 'ultrahd',\n",
       " 'support',\n",
       " 'not',\n",
       " 'relevant',\n",
       " 'everyone',\n",
       " 'this',\n",
       " 'time',\n",
       " 'but',\n",
       " 'never',\n",
       " 'hurt',\n",
       " 'have',\n",
       " 'extra',\n",
       " 'capability',\n",
       " 'that',\n",
       " 'you',\n",
       " 'may',\n",
       " 'need',\n",
       " 'the',\n",
       " 'future',\n",
       " 'also',\n",
       " 'its',\n",
       " 'much',\n",
       " 'fast',\n",
       " 'operate',\n",
       " 'cost',\n",
       " 'issue',\n",
       " 'and',\n",
       " 'only',\n",
       " 'not',\n",
       " 'bother',\n",
       " 'then',\n",
       " 'the',\n",
       " 'still',\n",
       " 'available',\n",
       " 'should',\n",
       " 'great',\n",
       " 'pick',\n",
       " 'for',\n",
       " 'fraction',\n",
       " 'the',\n",
       " 'price',\n",
       " 'for',\n",
       " 'something',\n",
       " 'inbetween',\n",
       " 'for',\n",
       " 'the',\n",
       " 'roku',\n",
       " 'stick',\n",
       " 'resolution',\n",
       " 'not',\n",
       " 'expensive',\n",
       " 'decent',\n",
       " 'performance',\n",
       " 'true',\n",
       " 'for',\n",
       " 'all',\n",
       " 'roku',\n",
       " 'model',\n",
       " 'there',\n",
       " 'enormous',\n",
       " 'amount',\n",
       " 'channel',\n",
       " 'choose',\n",
       " 'from',\n",
       " 'include',\n",
       " 'most',\n",
       " 'popular',\n",
       " 'one',\n",
       " 'and',\n",
       " 'there',\n",
       " 'something',\n",
       " 'that',\n",
       " 'you',\n",
       " 'find',\n",
       " 'the',\n",
       " 'official',\n",
       " 'store',\n",
       " 'you',\n",
       " 'can',\n",
       " 'always',\n",
       " 'check',\n",
       " 'the',\n",
       " 'private',\n",
       " 'channel',\n",
       " 'listing',\n",
       " 'include',\n",
       " 'the',\n",
       " 'url',\n",
       " 'favorite',\n",
       " 'site',\n",
       " 'which',\n",
       " 'where',\n",
       " 'find',\n",
       " 'thing',\n",
       " 'such',\n",
       " 'cnn',\n",
       " 'international',\n",
       " 'and',\n",
       " 'bbc',\n",
       " 'world',\n",
       " 'the',\n",
       " 'streaming',\n",
       " 'exceptionally',\n",
       " 'smooth',\n",
       " 'quite',\n",
       " 'impressive',\n",
       " 'considering',\n",
       " 'that',\n",
       " 'test',\n",
       " 'this',\n",
       " 'roku',\n",
       " 'the',\n",
       " 'second',\n",
       " 'floor',\n",
       " 'some',\n",
       " 'and',\n",
       " 'two',\n",
       " 'floor',\n",
       " 'away',\n",
       " 'from',\n",
       " 'our',\n",
       " 'wifi',\n",
       " 'router',\n",
       " 'locate',\n",
       " 'the',\n",
       " 'basement',\n",
       " 'this',\n",
       " 'model',\n",
       " 'especially',\n",
       " 'due',\n",
       " 'the',\n",
       " 'more',\n",
       " 'powerful',\n",
       " 'processor',\n",
       " 'easy',\n",
       " 'operate',\n",
       " 'through',\n",
       " 'rokus',\n",
       " 'very',\n",
       " 'basic',\n",
       " 'remote',\n",
       " 'control',\n",
       " 'this',\n",
       " 'roku',\n",
       " 'and',\n",
       " 'all',\n",
       " 'rokus',\n",
       " 'be',\n",
       " 'stable',\n",
       " 'do',\n",
       " 'have',\n",
       " 'the',\n",
       " 'roku',\n",
       " 'for',\n",
       " 'too',\n",
       " 'long',\n",
       " 'will',\n",
       " 'update',\n",
       " 'but',\n",
       " 'experience',\n",
       " 'with',\n",
       " 'all',\n",
       " 'other',\n",
       " 'model',\n",
       " 'be',\n",
       " 'that',\n",
       " 'almost',\n",
       " 'never',\n",
       " 'crash',\n",
       " 'and',\n",
       " 'only',\n",
       " 'have',\n",
       " 'manually',\n",
       " 'reconnect',\n",
       " 'wifi',\n",
       " 'router',\n",
       " 'once',\n",
       " 'over',\n",
       " 'month',\n",
       " 'period',\n",
       " 'the',\n",
       " 'universal',\n",
       " 'search',\n",
       " 'feature',\n",
       " 'quite',\n",
       " 'amazing',\n",
       " 'you',\n",
       " 'simply',\n",
       " 'type',\n",
       " 'the',\n",
       " 'name',\n",
       " 'movie',\n",
       " 'show',\n",
       " 'even',\n",
       " 'actor',\n",
       " 'and',\n",
       " 'you',\n",
       " 'will',\n",
       " 'see',\n",
       " 'all',\n",
       " 'your',\n",
       " 'option',\n",
       " 'all',\n",
       " 'channel',\n",
       " 'and',\n",
       " 'you',\n",
       " 'will',\n",
       " 'know',\n",
       " 'advance',\n",
       " 'whether',\n",
       " 'its',\n",
       " 'go',\n",
       " 'free',\n",
       " 'exactly',\n",
       " 'how',\n",
       " 'much',\n",
       " 'be',\n",
       " 'go',\n",
       " 'cost',\n",
       " 'the',\n",
       " 'roku',\n",
       " 'all',\n",
       " 'information',\n",
       " 'appear',\n",
       " 'almost',\n",
       " 'instantly',\n",
       " 'and',\n",
       " 'then',\n",
       " 'there',\n",
       " 'course',\n",
       " 'the',\n",
       " 'roku',\n",
       " 'feed',\n",
       " 'you',\n",
       " 'can',\n",
       " 'follow',\n",
       " 'show',\n",
       " 'movie',\n",
       " 'even',\n",
       " 'actor',\n",
       " 'and',\n",
       " 'get',\n",
       " 'notify',\n",
       " 'whenever',\n",
       " 'the',\n",
       " 'content',\n",
       " 'you',\n",
       " 'seek',\n",
       " 'become',\n",
       " 'available',\n",
       " 'what',\n",
       " 'service',\n",
       " 'its',\n",
       " 'still',\n",
       " 'work',\n",
       " 'progress',\n",
       " 'but',\n",
       " 'its',\n",
       " 'get',\n",
       " 'well',\n",
       " 'the',\n",
       " 'feature',\n",
       " 'mature',\n",
       " 'off',\n",
       " 'the',\n",
       " 'four',\n",
       " 'major',\n",
       " 'streamer',\n",
       " 'will',\n",
       " 'discuss',\n",
       " 'and',\n",
       " 'know',\n",
       " 'that',\n",
       " 'they',\n",
       " 'be',\n",
       " 'the',\n",
       " 'only',\n",
       " 'one',\n",
       " 'prefer',\n",
       " 'rokus',\n",
       " 'because',\n",
       " 'like',\n",
       " 'the',\n",
       " 'chromecasts',\n",
       " 'they',\n",
       " 'be',\n",
       " 'nearuniversal',\n",
       " 'equal',\n",
       " 'opportunity',\n",
       " 'streamer',\n",
       " 'and',\n",
       " 'unlike',\n",
       " 'the',\n",
       " 'chromecasts',\n",
       " 'and',\n",
       " 'that',\n",
       " 'give',\n",
       " 'they',\n",
       " 'some',\n",
       " 'edge',\n",
       " 'they',\n",
       " 'come',\n",
       " 'with',\n",
       " 'physical',\n",
       " 'remote',\n",
       " 'not',\n",
       " 'absolutely',\n",
       " 'always',\n",
       " 'require',\n",
       " 'because',\n",
       " 'you',\n",
       " 'can',\n",
       " 'use',\n",
       " 'your',\n",
       " 'phone',\n",
       " 'for',\n",
       " 'control',\n",
       " 'and',\n",
       " 'excellent',\n",
       " 'and',\n",
       " 'consistent',\n",
       " 'user',\n",
       " 'interface',\n",
       " 'addition',\n",
       " 'the',\n",
       " 'roku',\n",
       " 'have',\n",
       " 'some',\n",
       " 'useful',\n",
       " 'physical',\n",
       " 'port',\n",
       " 'such',\n",
       " 'ethernet',\n",
       " 'and',\n",
       " 'optical',\n",
       " 'audio',\n",
       " 'plus',\n",
       " 'microsd',\n",
       " 'expansion',\n",
       " 'slot',\n",
       " 'relegate',\n",
       " 'amazons',\n",
       " 'and',\n",
       " 'apples',\n",
       " 'entry',\n",
       " 'the',\n",
       " 'third',\n",
       " 'position',\n",
       " 'not',\n",
       " 'because',\n",
       " 'they',\n",
       " 'be',\n",
       " 'bad',\n",
       " 'streamer',\n",
       " 'because',\n",
       " 'they',\n",
       " 'be',\n",
       " 'quite',\n",
       " 'good',\n",
       " 'but',\n",
       " 'because',\n",
       " 'they',\n",
       " 'gently',\n",
       " 'not',\n",
       " 'gently',\n",
       " 'try',\n",
       " 'steer',\n",
       " 'their',\n",
       " 'user',\n",
       " 'toward',\n",
       " 'their',\n",
       " 'own',\n",
       " 'content',\n",
       " 'which',\n",
       " 'may',\n",
       " 'great',\n",
       " 'thing',\n",
       " 'for',\n",
       " 'amazon',\n",
       " 'and',\n",
       " 'apple',\n",
       " 'but',\n",
       " 'do',\n",
       " 'not',\n",
       " 'always',\n",
       " 'benefit',\n",
       " 'the',\n",
       " 'user',\n",
       " 'the',\n",
       " 'above',\n",
       " 'can',\n",
       " 'consider',\n",
       " 'bias',\n",
       " 'accept',\n",
       " 'do',\n",
       " 'try',\n",
       " 'make',\n",
       " 'the',\n",
       " 'setting',\n",
       " 'and',\n",
       " 'the',\n",
       " 'faq',\n",
       " 'section',\n",
       " 'factual',\n",
       " 'possible',\n",
       " 'hopefully',\n",
       " 'review',\n",
       " 'could',\n",
       " 'help',\n",
       " 'few',\n",
       " 'make',\n",
       " 'inform',\n",
       " 'decision',\n",
       " 'comparison',\n",
       " 'roku',\n",
       " 'chromecast',\n",
       " 'be',\n",
       " 'compare',\n",
       " 'the',\n",
       " 'much',\n",
       " 'large',\n",
       " 'and',\n",
       " 'significantly',\n",
       " 'more',\n",
       " 'expensive',\n",
       " 'roku',\n",
       " 'google',\n",
       " 'very',\n",
       " 'capable',\n",
       " 'dongle',\n",
       " 'ill',\n",
       " 'try',\n",
       " 'fair',\n",
       " 'possible',\n",
       " 'state',\n",
       " 'already',\n",
       " 'rokus',\n",
       " 'main',\n",
       " 'advantage',\n",
       " 'the',\n",
       " 'unified',\n",
       " 'user',\n",
       " 'interface',\n",
       " 'and',\n",
       " 'the',\n",
       " 'physical',\n",
       " 'remote',\n",
       " 'and',\n",
       " 'since',\n",
       " 'amazon',\n",
       " 'do',\n",
       " 'yet',\n",
       " 'view',\n",
       " 'roku',\n",
       " 'competitor',\n",
       " 'amazon',\n",
       " 'prime',\n",
       " 'the',\n",
       " 'rokus',\n",
       " 'but',\n",
       " 'not',\n",
       " 'chromecasts',\n",
       " 'roku',\n",
       " 'have',\n",
       " 'the',\n",
       " 'builtin',\n",
       " 'ethernet',\n",
       " 'port',\n",
       " 'for',\n",
       " 'wire',\n",
       " 'connectivity',\n",
       " 'chromecasts',\n",
       " 'only',\n",
       " 'available',\n",
       " 'addon',\n",
       " 'and',\n",
       " 'rokus',\n",
       " 'optical',\n",
       " 'audio',\n",
       " 'port',\n",
       " 'and',\n",
       " 'top',\n",
       " 'off',\n",
       " 'with',\n",
       " 'support',\n",
       " 'and',\n",
       " 'would',\n",
       " 'say',\n",
       " 'advantage',\n",
       " 'roku',\n",
       " 'far',\n",
       " 'chromecasts',\n",
       " 'main',\n",
       " 'advantage',\n",
       " 'include',\n",
       " 'the',\n",
       " 'much',\n",
       " 'low',\n",
       " 'price',\n",
       " 'course',\n",
       " 'its',\n",
       " 'builtin',\n",
       " 'flexibility',\n",
       " 'where',\n",
       " 'basically',\n",
       " 'any',\n",
       " 'app',\n",
       " 'developer',\n",
       " 'can',\n",
       " 'easily',\n",
       " 'add',\n",
       " 'chromecast',\n",
       " 'compatibility',\n",
       " 'and',\n",
       " 'believe',\n",
       " 'they',\n",
       " 'even',\n",
       " 'need',\n",
       " 'googles',\n",
       " 'okay',\n",
       " 'for',\n",
       " 'that',\n",
       " 'chromecasts',\n",
       " 'also',\n",
       " 'allow',\n",
       " 'cast',\n",
       " 'from',\n",
       " 'phone',\n",
       " 'and',\n",
       " 'anything',\n",
       " 'else',\n",
       " 'that',\n",
       " 'support',\n",
       " 'chrome',\n",
       " 'browser',\n",
       " 'you',\n",
       " 'can',\n",
       " 'cast',\n",
       " 'the',\n",
       " 'roku',\n",
       " 'but',\n",
       " 'the',\n",
       " 'google',\n",
       " 'way',\n",
       " 'feel',\n",
       " 'more',\n",
       " 'natural',\n",
       " 'and',\n",
       " 'available',\n",
       " 'for',\n",
       " 'lot',\n",
       " 'more',\n",
       " 'source',\n",
       " 'for',\n",
       " 'full',\n",
       " 'disclosure',\n",
       " 'have',\n",
       " 'both',\n",
       " 'roku',\n",
       " 'and',\n",
       " 'chromecast',\n",
       " 'hang',\n",
       " 'the',\n",
       " 'back',\n",
       " 'our',\n",
       " 'big',\n",
       " 'and',\n",
       " 'tend',\n",
       " 'chromecast',\n",
       " 'whenever',\n",
       " 'need',\n",
       " 'get',\n",
       " 'something',\n",
       " 'quick',\n",
       " 'while',\n",
       " 'roku',\n",
       " 'for',\n",
       " 'more',\n",
       " 'regular',\n",
       " 'view',\n",
       " 'session',\n",
       " 'happen',\n",
       " 'prefer',\n",
       " 'the',\n",
       " 'roku',\n",
       " 'most',\n",
       " 'the',\n",
       " 'time',\n",
       " 'but',\n",
       " 'some',\n",
       " 'our',\n",
       " 'household',\n",
       " 'prefer',\n",
       " 'the',\n",
       " 'chromecast',\n",
       " 'because',\n",
       " 'they',\n",
       " 'be',\n",
       " 'more',\n",
       " 'attached',\n",
       " 'their',\n",
       " 'phone',\n",
       " 'its',\n",
       " 'close',\n",
       " 'call',\n",
       " 'this',\n",
       " 'time',\n",
       " 'roku',\n",
       " 'fire',\n",
       " 'rokus',\n",
       " 'major',\n",
       " 'advantage',\n",
       " 'course',\n",
       " 'its',\n",
       " 'neutrality',\n",
       " 'yes',\n",
       " 'they',\n",
       " 'carry',\n",
       " 'ad',\n",
       " ...]"
      ]
     },
     "execution_count": 226,
     "metadata": {},
     "output_type": "execute_result"
    }
   ],
   "source": [
    "clean_text(text_stats_df.reviews[101837])"
   ]
  },
  {
   "cell_type": "code",
   "execution_count": 197,
   "metadata": {},
   "outputs": [],
   "source": [
    "text_stats_df['cleaned_text'] = text_stats_df.reviews.apply(lambda x: clean_text(x))"
   ]
  },
  {
   "cell_type": "code",
   "execution_count": null,
   "metadata": {},
   "outputs": [],
   "source": [
    "text_stats_df.head()"
   ]
  },
  {
   "cell_type": "code",
   "execution_count": null,
   "metadata": {},
   "outputs": [],
   "source": []
  },
  {
   "cell_type": "code",
   "execution_count": null,
   "metadata": {},
   "outputs": [],
   "source": []
  },
  {
   "cell_type": "code",
   "execution_count": 54,
   "metadata": {},
   "outputs": [],
   "source": [
    "def word_count_tokened(text):\n",
    "    return len(text)\n",
    "\n",
    "def char_count_tokened(text):\n",
    "    chars = sum(len(token) for token in text)\n",
    "    return chars"
   ]
  },
  {
   "cell_type": "code",
   "execution_count": null,
   "metadata": {},
   "outputs": [],
   "source": []
  },
  {
   "cell_type": "code",
   "execution_count": 198,
   "metadata": {},
   "outputs": [],
   "source": [
    "text_stats_df['cleaned_word_count'] = text_stats_df.cleaned_text.apply(lambda x: word_count_tokened(x))\n",
    "text_stats_df['cleaned_review_len'] = text_stats_df.cleaned_text.apply(lambda x: char_count_tokened(x))"
   ]
  },
  {
   "cell_type": "code",
   "execution_count": null,
   "metadata": {},
   "outputs": [],
   "source": []
  },
  {
   "cell_type": "code",
   "execution_count": 57,
   "metadata": {},
   "outputs": [
    {
     "data": {
      "text/html": [
       "<div>\n",
       "<style scoped>\n",
       "    .dataframe tbody tr th:only-of-type {\n",
       "        vertical-align: middle;\n",
       "    }\n",
       "\n",
       "    .dataframe tbody tr th {\n",
       "        vertical-align: top;\n",
       "    }\n",
       "\n",
       "    .dataframe thead th {\n",
       "        text-align: right;\n",
       "    }\n",
       "</style>\n",
       "<table border=\"1\" class=\"dataframe\">\n",
       "  <thead>\n",
       "    <tr style=\"text-align: right;\">\n",
       "      <th></th>\n",
       "      <th>sentiment</th>\n",
       "      <th>word_count</th>\n",
       "      <th>review_len</th>\n",
       "      <th>cleaned_word_count</th>\n",
       "      <th>cleaned_review_len</th>\n",
       "    </tr>\n",
       "  </thead>\n",
       "  <tbody>\n",
       "    <tr>\n",
       "      <th>count</th>\n",
       "      <td>108851.000000</td>\n",
       "      <td>108851.000000</td>\n",
       "      <td>108851.000000</td>\n",
       "      <td>108851.000000</td>\n",
       "      <td>108851.000000</td>\n",
       "    </tr>\n",
       "    <tr>\n",
       "      <th>mean</th>\n",
       "      <td>0.793865</td>\n",
       "      <td>83.697724</td>\n",
       "      <td>325.504019</td>\n",
       "      <td>56.230903</td>\n",
       "      <td>265.370451</td>\n",
       "    </tr>\n",
       "    <tr>\n",
       "      <th>std</th>\n",
       "      <td>0.404530</td>\n",
       "      <td>125.798946</td>\n",
       "      <td>497.517006</td>\n",
       "      <td>83.635482</td>\n",
       "      <td>401.289318</td>\n",
       "    </tr>\n",
       "    <tr>\n",
       "      <th>min</th>\n",
       "      <td>0.000000</td>\n",
       "      <td>1.000000</td>\n",
       "      <td>1.000000</td>\n",
       "      <td>0.000000</td>\n",
       "      <td>0.000000</td>\n",
       "    </tr>\n",
       "    <tr>\n",
       "      <th>25%</th>\n",
       "      <td>1.000000</td>\n",
       "      <td>19.000000</td>\n",
       "      <td>72.000000</td>\n",
       "      <td>13.000000</td>\n",
       "      <td>60.000000</td>\n",
       "    </tr>\n",
       "    <tr>\n",
       "      <th>50%</th>\n",
       "      <td>1.000000</td>\n",
       "      <td>44.000000</td>\n",
       "      <td>169.000000</td>\n",
       "      <td>30.000000</td>\n",
       "      <td>139.000000</td>\n",
       "    </tr>\n",
       "    <tr>\n",
       "      <th>75%</th>\n",
       "      <td>1.000000</td>\n",
       "      <td>99.000000</td>\n",
       "      <td>383.000000</td>\n",
       "      <td>67.000000</td>\n",
       "      <td>313.000000</td>\n",
       "    </tr>\n",
       "    <tr>\n",
       "      <th>max</th>\n",
       "      <td>1.000000</td>\n",
       "      <td>3864.000000</td>\n",
       "      <td>15592.000000</td>\n",
       "      <td>2625.000000</td>\n",
       "      <td>12800.000000</td>\n",
       "    </tr>\n",
       "  </tbody>\n",
       "</table>\n",
       "</div>"
      ],
      "text/plain": [
       "           sentiment     word_count     review_len  cleaned_word_count  \\\n",
       "count  108851.000000  108851.000000  108851.000000       108851.000000   \n",
       "mean        0.793865      83.697724     325.504019           56.230903   \n",
       "std         0.404530     125.798946     497.517006           83.635482   \n",
       "min         0.000000       1.000000       1.000000            0.000000   \n",
       "25%         1.000000      19.000000      72.000000           13.000000   \n",
       "50%         1.000000      44.000000     169.000000           30.000000   \n",
       "75%         1.000000      99.000000     383.000000           67.000000   \n",
       "max         1.000000    3864.000000   15592.000000         2625.000000   \n",
       "\n",
       "       cleaned_review_len  \n",
       "count       108851.000000  \n",
       "mean           265.370451  \n",
       "std            401.289318  \n",
       "min              0.000000  \n",
       "25%             60.000000  \n",
       "50%            139.000000  \n",
       "75%            313.000000  \n",
       "max          12800.000000  "
      ]
     },
     "execution_count": 57,
     "metadata": {},
     "output_type": "execute_result"
    }
   ],
   "source": [
    "text_stats_df.describe()"
   ]
  },
  {
   "cell_type": "code",
   "execution_count": null,
   "metadata": {},
   "outputs": [],
   "source": []
  },
  {
   "cell_type": "code",
   "execution_count": 58,
   "metadata": {},
   "outputs": [
    {
     "data": {
      "image/png": "[encoded data removed]",
      "text/plain": [
       "<Figure size 432x288 with 1 Axes>"
      ]
     },
     "metadata": {
      "needs_background": "light"
     },
     "output_type": "display_data"
    }
   ],
   "source": [
    "text_stats_df.cleaned_word_count.hist();"
   ]
  },
  {
   "cell_type": "code",
   "execution_count": 135,
   "metadata": {},
   "outputs": [
    {
     "data": {
      "text/html": [
       "<div>\n",
       "<style scoped>\n",
       "    .dataframe tbody tr th:only-of-type {\n",
       "        vertical-align: middle;\n",
       "    }\n",
       "\n",
       "    .dataframe tbody tr th {\n",
       "        vertical-align: top;\n",
       "    }\n",
       "\n",
       "    .dataframe thead th {\n",
       "        text-align: right;\n",
       "    }\n",
       "</style>\n",
       "<table border=\"1\" class=\"dataframe\">\n",
       "  <thead>\n",
       "    <tr style=\"text-align: right;\">\n",
       "      <th></th>\n",
       "      <th>reviewText</th>\n",
       "      <th>sentiment</th>\n",
       "      <th>word_count</th>\n",
       "      <th>review_len</th>\n",
       "      <th>cleaned_text</th>\n",
       "      <th>cleaned_word_count</th>\n",
       "      <th>cleaned_review_len</th>\n",
       "    </tr>\n",
       "  </thead>\n",
       "  <tbody>\n",
       "    <tr>\n",
       "      <th>0</th>\n",
       "      <td>Get the SportaPros instead.  They look better,...</td>\n",
       "      <td>1</td>\n",
       "      <td>26</td>\n",
       "      <td>103</td>\n",
       "      <td>[get, the, sportapros, instead, they, look, we...</td>\n",
       "      <td>18</td>\n",
       "      <td>91</td>\n",
       "    </tr>\n",
       "    <tr>\n",
       "      <th>1</th>\n",
       "      <td>I've been looking for a lighter alternative to...</td>\n",
       "      <td>1</td>\n",
       "      <td>262</td>\n",
       "      <td>1090</td>\n",
       "      <td>[be, look, for, light, alternative, absolutely...</td>\n",
       "      <td>180</td>\n",
       "      <td>895</td>\n",
       "    </tr>\n",
       "    <tr>\n",
       "      <th>2</th>\n",
       "      <td>The finest headphones available. You can spend...</td>\n",
       "      <td>1</td>\n",
       "      <td>109</td>\n",
       "      <td>480</td>\n",
       "      <td>[the, fine, headphone, available, you, can, sp...</td>\n",
       "      <td>80</td>\n",
       "      <td>412</td>\n",
       "    </tr>\n",
       "    <tr>\n",
       "      <th>3</th>\n",
       "      <td>3rd pair of these I've purchased.  My wife has...</td>\n",
       "      <td>1</td>\n",
       "      <td>104</td>\n",
       "      <td>392</td>\n",
       "      <td>[pair, these, purchase, wife, have, pair, and,...</td>\n",
       "      <td>69</td>\n",
       "      <td>314</td>\n",
       "    </tr>\n",
       "    <tr>\n",
       "      <th>4</th>\n",
       "      <td>My old Koss Porta Pros finally got beat to dea...</td>\n",
       "      <td>1</td>\n",
       "      <td>163</td>\n",
       "      <td>683</td>\n",
       "      <td>[old, koss, porta, pros, finally, get, beat, d...</td>\n",
       "      <td>120</td>\n",
       "      <td>573</td>\n",
       "    </tr>\n",
       "    <tr>\n",
       "      <th>...</th>\n",
       "      <td>...</td>\n",
       "      <td>...</td>\n",
       "      <td>...</td>\n",
       "      <td>...</td>\n",
       "      <td>...</td>\n",
       "      <td>...</td>\n",
       "      <td>...</td>\n",
       "    </tr>\n",
       "    <tr>\n",
       "      <th>108846</th>\n",
       "      <td>Having owned Bose noise cancelling products fr...</td>\n",
       "      <td>1</td>\n",
       "      <td>86</td>\n",
       "      <td>362</td>\n",
       "      <td>[have, own, bose, noise, cancel, product, from...</td>\n",
       "      <td>57</td>\n",
       "      <td>291</td>\n",
       "    </tr>\n",
       "    <tr>\n",
       "      <th>108847</th>\n",
       "      <td>These headphones are great - lightweight, easy...</td>\n",
       "      <td>0</td>\n",
       "      <td>109</td>\n",
       "      <td>436</td>\n",
       "      <td>[these, headphone, be, great, lightweight, eas...</td>\n",
       "      <td>74</td>\n",
       "      <td>361</td>\n",
       "    </tr>\n",
       "    <tr>\n",
       "      <th>108848</th>\n",
       "      <td>Love these ... really nice upgrade on the QC15...</td>\n",
       "      <td>1</td>\n",
       "      <td>47</td>\n",
       "      <td>195</td>\n",
       "      <td>[love, these, really, nice, upgrade, the, love...</td>\n",
       "      <td>34</td>\n",
       "      <td>165</td>\n",
       "    </tr>\n",
       "    <tr>\n",
       "      <th>108849</th>\n",
       "      <td>These headphones are terrific but Bose custome...</td>\n",
       "      <td>0</td>\n",
       "      <td>74</td>\n",
       "      <td>280</td>\n",
       "      <td>[these, headphone, be, terrific, but, bose, cu...</td>\n",
       "      <td>56</td>\n",
       "      <td>244</td>\n",
       "    </tr>\n",
       "    <tr>\n",
       "      <th>108850</th>\n",
       "      <td>had for a couple days music kept skipping. cut...</td>\n",
       "      <td>0</td>\n",
       "      <td>22</td>\n",
       "      <td>89</td>\n",
       "      <td>[have, for, couple, day, music, keep, skip, cu...</td>\n",
       "      <td>16</td>\n",
       "      <td>68</td>\n",
       "    </tr>\n",
       "  </tbody>\n",
       "</table>\n",
       "<p>100081 rows × 7 columns</p>\n",
       "</div>"
      ],
      "text/plain": [
       "                                               reviewText  sentiment  \\\n",
       "0       Get the SportaPros instead.  They look better,...          1   \n",
       "1       I've been looking for a lighter alternative to...          1   \n",
       "2       The finest headphones available. You can spend...          1   \n",
       "3       3rd pair of these I've purchased.  My wife has...          1   \n",
       "4       My old Koss Porta Pros finally got beat to dea...          1   \n",
       "...                                                   ...        ...   \n",
       "108846  Having owned Bose noise cancelling products fr...          1   \n",
       "108847  These headphones are great - lightweight, easy...          0   \n",
       "108848  Love these ... really nice upgrade on the QC15...          1   \n",
       "108849  These headphones are terrific but Bose custome...          0   \n",
       "108850  had for a couple days music kept skipping. cut...          0   \n",
       "\n",
       "        word_count  review_len  \\\n",
       "0               26         103   \n",
       "1              262        1090   \n",
       "2              109         480   \n",
       "3              104         392   \n",
       "4              163         683   \n",
       "...            ...         ...   \n",
       "108846          86         362   \n",
       "108847         109         436   \n",
       "108848          47         195   \n",
       "108849          74         280   \n",
       "108850          22          89   \n",
       "\n",
       "                                             cleaned_text  cleaned_word_count  \\\n",
       "0       [get, the, sportapros, instead, they, look, we...                  18   \n",
       "1       [be, look, for, light, alternative, absolutely...                 180   \n",
       "2       [the, fine, headphone, available, you, can, sp...                  80   \n",
       "3       [pair, these, purchase, wife, have, pair, and,...                  69   \n",
       "4       [old, koss, porta, pros, finally, get, beat, d...                 120   \n",
       "...                                                   ...                 ...   \n",
       "108846  [have, own, bose, noise, cancel, product, from...                  57   \n",
       "108847  [these, headphone, be, great, lightweight, eas...                  74   \n",
       "108848  [love, these, really, nice, upgrade, the, love...                  34   \n",
       "108849  [these, headphone, be, terrific, but, bose, cu...                  56   \n",
       "108850  [have, for, couple, day, music, keep, skip, cu...                  16   \n",
       "\n",
       "        cleaned_review_len  \n",
       "0                       91  \n",
       "1                      895  \n",
       "2                      412  \n",
       "3                      314  \n",
       "4                      573  \n",
       "...                    ...  \n",
       "108846                 291  \n",
       "108847                 361  \n",
       "108848                 165  \n",
       "108849                 244  \n",
       "108850                  68  \n",
       "\n",
       "[100081 rows x 7 columns]"
      ]
     },
     "execution_count": 135,
     "metadata": {},
     "output_type": "execute_result"
    }
   ],
   "source": [
    "text_stats_df[text_stats_df.cleaned_word_count > 3]"
   ]
  },
  {
   "cell_type": "code",
   "execution_count": null,
   "metadata": {},
   "outputs": [],
   "source": []
  },
  {
   "cell_type": "code",
   "execution_count": 239,
   "metadata": {},
   "outputs": [],
   "source": [
    "data_df = text_stats_df[(text_stats_df.cleaned_word_count > 3)].copy()"
   ]
  },
  {
   "cell_type": "code",
   "execution_count": 242,
   "metadata": {},
   "outputs": [],
   "source": [
    "data_df = data_df.reset_index(drop = True)"
   ]
  },
  {
   "cell_type": "code",
   "execution_count": 243,
   "metadata": {},
   "outputs": [
    {
     "name": "stdout",
     "output_type": "stream",
     "text": [
      "<class 'pandas.core.frame.DataFrame'>\n",
      "RangeIndex: 105829 entries, 0 to 105828\n",
      "Data columns (total 7 columns):\n",
      " #   Column              Non-Null Count   Dtype \n",
      "---  ------              --------------   ----- \n",
      " 0   reviews             105829 non-null  object\n",
      " 1   sentiment           105829 non-null  int64 \n",
      " 2   word_count          105829 non-null  int64 \n",
      " 3   review_len          105829 non-null  int64 \n",
      " 4   cleaned_text        105829 non-null  object\n",
      " 5   cleaned_word_count  105829 non-null  int64 \n",
      " 6   cleaned_review_len  105829 non-null  int64 \n",
      "dtypes: int64(5), object(2)\n",
      "memory usage: 5.7+ MB\n"
     ]
    }
   ],
   "source": [
    "data_df.info()"
   ]
  },
  {
   "cell_type": "code",
   "execution_count": 240,
   "metadata": {},
   "outputs": [
    {
     "data": {
      "text/html": [
       "<div>\n",
       "<style scoped>\n",
       "    .dataframe tbody tr th:only-of-type {\n",
       "        vertical-align: middle;\n",
       "    }\n",
       "\n",
       "    .dataframe tbody tr th {\n",
       "        vertical-align: top;\n",
       "    }\n",
       "\n",
       "    .dataframe thead th {\n",
       "        text-align: right;\n",
       "    }\n",
       "</style>\n",
       "<table border=\"1\" class=\"dataframe\">\n",
       "  <thead>\n",
       "    <tr style=\"text-align: right;\">\n",
       "      <th></th>\n",
       "      <th>sentiment</th>\n",
       "      <th>word_count</th>\n",
       "      <th>review_len</th>\n",
       "      <th>cleaned_word_count</th>\n",
       "      <th>cleaned_review_len</th>\n",
       "    </tr>\n",
       "  </thead>\n",
       "  <tbody>\n",
       "    <tr>\n",
       "      <th>count</th>\n",
       "      <td>105829.000000</td>\n",
       "      <td>105829.000000</td>\n",
       "      <td>105829.000000</td>\n",
       "      <td>105829.000000</td>\n",
       "      <td>105829.000000</td>\n",
       "    </tr>\n",
       "    <tr>\n",
       "      <th>mean</th>\n",
       "      <td>0.790454</td>\n",
       "      <td>86.039290</td>\n",
       "      <td>334.608916</td>\n",
       "      <td>62.094653</td>\n",
       "      <td>293.863185</td>\n",
       "    </tr>\n",
       "    <tr>\n",
       "      <th>std</th>\n",
       "      <td>0.406986</td>\n",
       "      <td>126.805936</td>\n",
       "      <td>501.602482</td>\n",
       "      <td>85.012100</td>\n",
       "      <td>408.739788</td>\n",
       "    </tr>\n",
       "    <tr>\n",
       "      <th>min</th>\n",
       "      <td>0.000000</td>\n",
       "      <td>1.000000</td>\n",
       "      <td>1.000000</td>\n",
       "      <td>4.000000</td>\n",
       "      <td>12.000000</td>\n",
       "    </tr>\n",
       "    <tr>\n",
       "      <th>25%</th>\n",
       "      <td>1.000000</td>\n",
       "      <td>21.000000</td>\n",
       "      <td>80.000000</td>\n",
       "      <td>17.000000</td>\n",
       "      <td>82.000000</td>\n",
       "    </tr>\n",
       "    <tr>\n",
       "      <th>50%</th>\n",
       "      <td>1.000000</td>\n",
       "      <td>46.000000</td>\n",
       "      <td>176.000000</td>\n",
       "      <td>36.000000</td>\n",
       "      <td>168.000000</td>\n",
       "    </tr>\n",
       "    <tr>\n",
       "      <th>75%</th>\n",
       "      <td>1.000000</td>\n",
       "      <td>102.000000</td>\n",
       "      <td>393.000000</td>\n",
       "      <td>74.000000</td>\n",
       "      <td>347.000000</td>\n",
       "    </tr>\n",
       "    <tr>\n",
       "      <th>max</th>\n",
       "      <td>1.000000</td>\n",
       "      <td>3864.000000</td>\n",
       "      <td>15592.000000</td>\n",
       "      <td>2629.000000</td>\n",
       "      <td>12818.000000</td>\n",
       "    </tr>\n",
       "  </tbody>\n",
       "</table>\n",
       "</div>"
      ],
      "text/plain": [
       "           sentiment     word_count     review_len  cleaned_word_count  \\\n",
       "count  105829.000000  105829.000000  105829.000000       105829.000000   \n",
       "mean        0.790454      86.039290     334.608916           62.094653   \n",
       "std         0.406986     126.805936     501.602482           85.012100   \n",
       "min         0.000000       1.000000       1.000000            4.000000   \n",
       "25%         1.000000      21.000000      80.000000           17.000000   \n",
       "50%         1.000000      46.000000     176.000000           36.000000   \n",
       "75%         1.000000     102.000000     393.000000           74.000000   \n",
       "max         1.000000    3864.000000   15592.000000         2629.000000   \n",
       "\n",
       "       cleaned_review_len  \n",
       "count       105829.000000  \n",
       "mean           293.863185  \n",
       "std            408.739788  \n",
       "min             12.000000  \n",
       "25%             82.000000  \n",
       "50%            168.000000  \n",
       "75%            347.000000  \n",
       "max          12818.000000  "
      ]
     },
     "execution_count": 240,
     "metadata": {},
     "output_type": "execute_result"
    }
   ],
   "source": [
    "data_df.describe()"
   ]
  },
  {
   "cell_type": "code",
   "execution_count": 145,
   "metadata": {},
   "outputs": [],
   "source": [
    "stop_words = nlp.Defaults.stop_words"
   ]
  },
  {
   "cell_type": "code",
   "execution_count": 147,
   "metadata": {},
   "outputs": [
    {
     "data": {
      "text/plain": [
       "335"
      ]
     },
     "execution_count": 147,
     "metadata": {},
     "output_type": "execute_result"
    }
   ],
   "source": [
    "len(stop_words)"
   ]
  },
  {
   "cell_type": "code",
   "execution_count": 69,
   "metadata": {},
   "outputs": [],
   "source": [
    "def count_stop_words(text):\n",
    "\n",
    "    # Count the number of stop words in the text using set intersection\n",
    "    stop_word_count = len(set(text).intersection(stop_words))\n",
    "\n",
    "    return stop_word_count"
   ]
  },
  {
   "cell_type": "code",
   "execution_count": 200,
   "metadata": {},
   "outputs": [],
   "source": [
    "data_df['cleaned_sw_count'] = data_df.cleaned_text.apply(lambda x: count_stop_words(x))"
   ]
  },
  {
   "cell_type": "code",
   "execution_count": 201,
   "metadata": {},
   "outputs": [
    {
     "data": {
      "text/html": [
       "<div>\n",
       "<style scoped>\n",
       "    .dataframe tbody tr th:only-of-type {\n",
       "        vertical-align: middle;\n",
       "    }\n",
       "\n",
       "    .dataframe tbody tr th {\n",
       "        vertical-align: top;\n",
       "    }\n",
       "\n",
       "    .dataframe thead th {\n",
       "        text-align: right;\n",
       "    }\n",
       "</style>\n",
       "<table border=\"1\" class=\"dataframe\">\n",
       "  <thead>\n",
       "    <tr style=\"text-align: right;\">\n",
       "      <th></th>\n",
       "      <th>sentiment</th>\n",
       "      <th>word_count</th>\n",
       "      <th>review_len</th>\n",
       "      <th>cleaned_word_count</th>\n",
       "      <th>cleaned_review_len</th>\n",
       "      <th>cleaned_sw_count</th>\n",
       "    </tr>\n",
       "  </thead>\n",
       "  <tbody>\n",
       "    <tr>\n",
       "      <th>count</th>\n",
       "      <td>105829.000000</td>\n",
       "      <td>105829.000000</td>\n",
       "      <td>105829.000000</td>\n",
       "      <td>105829.000000</td>\n",
       "      <td>105829.000000</td>\n",
       "      <td>105829.000000</td>\n",
       "    </tr>\n",
       "    <tr>\n",
       "      <th>mean</th>\n",
       "      <td>0.790454</td>\n",
       "      <td>86.039290</td>\n",
       "      <td>334.608916</td>\n",
       "      <td>62.094653</td>\n",
       "      <td>293.863185</td>\n",
       "      <td>18.446409</td>\n",
       "    </tr>\n",
       "    <tr>\n",
       "      <th>std</th>\n",
       "      <td>0.406986</td>\n",
       "      <td>126.805936</td>\n",
       "      <td>501.602482</td>\n",
       "      <td>85.012100</td>\n",
       "      <td>408.739788</td>\n",
       "      <td>15.218886</td>\n",
       "    </tr>\n",
       "    <tr>\n",
       "      <th>min</th>\n",
       "      <td>0.000000</td>\n",
       "      <td>1.000000</td>\n",
       "      <td>1.000000</td>\n",
       "      <td>4.000000</td>\n",
       "      <td>12.000000</td>\n",
       "      <td>0.000000</td>\n",
       "    </tr>\n",
       "    <tr>\n",
       "      <th>25%</th>\n",
       "      <td>1.000000</td>\n",
       "      <td>21.000000</td>\n",
       "      <td>80.000000</td>\n",
       "      <td>17.000000</td>\n",
       "      <td>82.000000</td>\n",
       "      <td>7.000000</td>\n",
       "    </tr>\n",
       "    <tr>\n",
       "      <th>50%</th>\n",
       "      <td>1.000000</td>\n",
       "      <td>46.000000</td>\n",
       "      <td>176.000000</td>\n",
       "      <td>36.000000</td>\n",
       "      <td>168.000000</td>\n",
       "      <td>14.000000</td>\n",
       "    </tr>\n",
       "    <tr>\n",
       "      <th>75%</th>\n",
       "      <td>1.000000</td>\n",
       "      <td>102.000000</td>\n",
       "      <td>393.000000</td>\n",
       "      <td>74.000000</td>\n",
       "      <td>347.000000</td>\n",
       "      <td>25.000000</td>\n",
       "    </tr>\n",
       "    <tr>\n",
       "      <th>max</th>\n",
       "      <td>1.000000</td>\n",
       "      <td>3864.000000</td>\n",
       "      <td>15592.000000</td>\n",
       "      <td>2629.000000</td>\n",
       "      <td>12818.000000</td>\n",
       "      <td>142.000000</td>\n",
       "    </tr>\n",
       "  </tbody>\n",
       "</table>\n",
       "</div>"
      ],
      "text/plain": [
       "           sentiment     word_count     review_len  cleaned_word_count  \\\n",
       "count  105829.000000  105829.000000  105829.000000       105829.000000   \n",
       "mean        0.790454      86.039290     334.608916           62.094653   \n",
       "std         0.406986     126.805936     501.602482           85.012100   \n",
       "min         0.000000       1.000000       1.000000            4.000000   \n",
       "25%         1.000000      21.000000      80.000000           17.000000   \n",
       "50%         1.000000      46.000000     176.000000           36.000000   \n",
       "75%         1.000000     102.000000     393.000000           74.000000   \n",
       "max         1.000000    3864.000000   15592.000000         2629.000000   \n",
       "\n",
       "       cleaned_review_len  cleaned_sw_count  \n",
       "count       105829.000000     105829.000000  \n",
       "mean           293.863185         18.446409  \n",
       "std            408.739788         15.218886  \n",
       "min             12.000000          0.000000  \n",
       "25%             82.000000          7.000000  \n",
       "50%            168.000000         14.000000  \n",
       "75%            347.000000         25.000000  \n",
       "max          12818.000000        142.000000  "
      ]
     },
     "execution_count": 201,
     "metadata": {},
     "output_type": "execute_result"
    }
   ],
   "source": [
    "data_df.describe()"
   ]
  },
  {
   "cell_type": "code",
   "execution_count": 72,
   "metadata": {},
   "outputs": [],
   "source": [
    "def preprocess(tokens):\n",
    "    # remove stop words\n",
    "    filtered_tokens = [token for token in tokens if not token in stop_words]\n",
    "    return filtered_tokens"
   ]
  },
  {
   "cell_type": "code",
   "execution_count": 202,
   "metadata": {},
   "outputs": [],
   "source": [
    "data_df['processed_text'] = data_df['cleaned_text'].apply(lambda x: preprocess(x))"
   ]
  },
  {
   "cell_type": "code",
   "execution_count": 74,
   "metadata": {},
   "outputs": [],
   "source": [
    "def dummy(doc):\n",
    "    return doc"
   ]
  },
  {
   "cell_type": "code",
   "execution_count": 203,
   "metadata": {},
   "outputs": [],
   "source": [
    "def top_words(text, n = None, ngram = (1,1)):\n",
    "    cv = CountVectorizer(ngram_range = ngram, stop_words = None, tokenizer = dummy, preprocessor = dummy)\n",
    "    words = cv.fit_transform(text)\n",
    "    sum_words = words.sum(axis=0)\n",
    "    word_freq = [(word, sum_words[0, idx]) for word, idx in cv.vocabulary_.items()]\n",
    "    word_freq = sorted(word_freq, key=lambda x: x[1], reverse=True)\n",
    "    word_df = pd.DataFrame(word_freq, columns=['word', 'count'])\n",
    "    return word_df[:n]"
   ]
  },
  {
   "cell_type": "code",
   "execution_count": 204,
   "metadata": {},
   "outputs": [],
   "source": [
    "top30 = top_words(text = data_df.cleaned_text, n = 30)\n",
    "top30_sw = top_words(text = data_df.processed_text, n = 30)"
   ]
  },
  {
   "cell_type": "code",
   "execution_count": 205,
   "metadata": {},
   "outputs": [
    {
     "data": {
      "image/png": "[encoded data removed]",
      "text/plain": [
       "<Figure size 1080x720 with 2 Axes>"
      ]
     },
     "metadata": {
      "needs_background": "light"
     },
     "output_type": "display_data"
    }
   ],
   "source": [
    "fig, axs = plt.subplots(1, 2, figsize=(15,10))\n",
    "sns.barplot(data = top30, x = 'count', y = 'word', orient = 'h', ax = axs[0])\n",
    "sns.barplot(data = top30_sw, x = 'count', y = 'word', orient = 'h', ax = axs[1])\n",
    "axs[0].set_title('All words')\n",
    "axs[1].set_title('Stop Words Removed');"
   ]
  },
  {
   "cell_type": "code",
   "execution_count": 206,
   "metadata": {},
   "outputs": [],
   "source": [
    "top30_pos = top_words(text = data_df[data_df.sentiment == 1].processed_text, n = 30)\n",
    "top30_neg = top_words(text = data_df[data_df.sentiment == 0].processed_text, n = 30)"
   ]
  },
  {
   "cell_type": "code",
   "execution_count": 207,
   "metadata": {},
   "outputs": [
    {
     "data": {
      "image/png": "[encoded data removed]",
      "text/plain": [
       "<Figure size 1080x720 with 2 Axes>"
      ]
     },
     "metadata": {
      "needs_background": "light"
     },
     "output_type": "display_data"
    }
   ],
   "source": [
    "fig, axs = plt.subplots(1, 2, figsize=(15,10))\n",
    "sns.barplot(data = top30_pos, x = 'count', y = 'word', orient = 'h', ax = axs[0])\n",
    "sns.barplot(data = top30_neg, x = 'count', y = 'word', orient = 'h', ax = axs[1])\n",
    "axs[0].set_title('Top 30 Frequent Positive Words')\n",
    "axs[1].set_title('Top 30 Frequent Negative Words')\n",
    "fig.tight_layout();"
   ]
  },
  {
   "cell_type": "code",
   "execution_count": null,
   "metadata": {},
   "outputs": [],
   "source": [
    "['sound', 'headphone', 'use', 'work', 'ear', 'good', 'great', 'work', 'like', 'quality']"
   ]
  },
  {
   "cell_type": "code",
   "execution_count": 208,
   "metadata": {},
   "outputs": [],
   "source": [
    "top30_bigrams = top_words(text = data_df.cleaned_text, n = 30, ngram = (2,2))\n",
    "top30_bigrams_sw = top_words(text = data_df.processed_text, n = 30, ngram = (2,2))"
   ]
  },
  {
   "cell_type": "code",
   "execution_count": 209,
   "metadata": {},
   "outputs": [
    {
     "data": {
      "image/png": "[encoded data removed]",
      "text/plain": [
       "<Figure size 1080x720 with 2 Axes>"
      ]
     },
     "metadata": {
      "needs_background": "light"
     },
     "output_type": "display_data"
    }
   ],
   "source": [
    "fig, axs = plt.subplots(1, 2, figsize=(15,10))\n",
    "sns.barplot(data = top30_bigrams, x = 'count', y = 'word', orient = 'h', ax = axs[0])\n",
    "sns.barplot(data = top30_bigrams_sw, x = 'count', y = 'word', orient = 'h', ax = axs[1])\n",
    "axs[0].set_title('All words Bigrams')\n",
    "axs[1].set_title('Stop Words Removed Bigrams')\n",
    "fig.tight_layout();"
   ]
  },
  {
   "cell_type": "code",
   "execution_count": null,
   "metadata": {},
   "outputs": [],
   "source": []
  },
  {
   "cell_type": "code",
   "execution_count": 210,
   "metadata": {},
   "outputs": [],
   "source": [
    "top30_pos_bigrams = top_words(text = data_df[data_df.sentiment == 1].processed_text, \n",
    "                              n = 30, \n",
    "                              ngram = (2,2))\n",
    "top30_neg_bigrams = top_words(text = data_df[data_df.sentiment == 0].processed_text, \n",
    "                              n = 30, \n",
    "                              ngram = (2,2))"
   ]
  },
  {
   "cell_type": "code",
   "execution_count": 211,
   "metadata": {},
   "outputs": [
    {
     "data": {
      "image/png": "[encoded data removed]",
      "text/plain": [
       "<Figure size 1080x720 with 2 Axes>"
      ]
     },
     "metadata": {
      "needs_background": "light"
     },
     "output_type": "display_data"
    }
   ],
   "source": [
    "fig, axs = plt.subplots(1, 2, figsize=(15,10))\n",
    "sns.barplot(data = top30_pos_bigrams, x = 'count', y = 'word', orient = 'h', ax = axs[0])\n",
    "sns.barplot(data = top30_neg_bigrams, x = 'count', y = 'word', orient = 'h', ax = axs[1])\n",
    "axs[0].set_title('Top 30 Frequent Positive Words')\n",
    "axs[1].set_title('Top 30 Frequent Negative Words')\n",
    "fig.tight_layout();"
   ]
  },
  {
   "cell_type": "code",
   "execution_count": null,
   "metadata": {},
   "outputs": [],
   "source": []
  },
  {
   "cell_type": "code",
   "execution_count": 212,
   "metadata": {},
   "outputs": [],
   "source": [
    "top30_trigrams = top_words(text = data_df.cleaned_text, n = 30, ngram = (3,3))\n",
    "top30_trigrams_sw = top_words(text = data_df.processed_text, n = 30, ngram = (3,3))"
   ]
  },
  {
   "cell_type": "code",
   "execution_count": 213,
   "metadata": {},
   "outputs": [
    {
     "data": {
      "image/png": "[encoded data removed]",
      "text/plain": [
       "<Figure size 1080x720 with 2 Axes>"
      ]
     },
     "metadata": {
      "needs_background": "light"
     },
     "output_type": "display_data"
    }
   ],
   "source": [
    "fig, axs = plt.subplots(1, 2, figsize=(15,10))\n",
    "sns.barplot(data = top30_trigrams, x = 'count', y = 'word', orient = 'h', ax = axs[0])\n",
    "sns.barplot(data = top30_trigrams_sw, x = 'count', y = 'word', orient = 'h', ax = axs[1])\n",
    "axs[0].set_title('All words Trigrams')\n",
    "axs[1].set_title('Stop Words Removed Trigrams')\n",
    "fig.tight_layout();"
   ]
  },
  {
   "cell_type": "code",
   "execution_count": null,
   "metadata": {},
   "outputs": [],
   "source": []
  },
  {
   "cell_type": "code",
   "execution_count": 214,
   "metadata": {},
   "outputs": [],
   "source": [
    "top30_pos_trigrams = top_words(text = data_df[data_df.sentiment == 1].processed_text, \n",
    "                              n = 30, \n",
    "                              ngram = (3,3))\n",
    "top30_neg_trigrams = top_words(text = data_df[data_df.sentiment == 0].processed_text, \n",
    "                              n = 30, \n",
    "                              ngram = (3,3))"
   ]
  },
  {
   "cell_type": "code",
   "execution_count": 215,
   "metadata": {},
   "outputs": [
    {
     "data": {
      "image/png": "[encoded data removed]",
      "text/plain": [
       "<Figure size 1080x720 with 2 Axes>"
      ]
     },
     "metadata": {
      "needs_background": "light"
     },
     "output_type": "display_data"
    }
   ],
   "source": [
    "fig, axs = plt.subplots(1, 2, figsize=(15,10))\n",
    "sns.barplot(data = top30_pos_trigrams, x = 'count', y = 'word', orient = 'h', ax = axs[0])\n",
    "sns.barplot(data = top30_neg_trigrams, x = 'count', y = 'word', orient = 'h', ax = axs[1])\n",
    "axs[0].set_title('Top 30 Frequent Positive Words')\n",
    "axs[1].set_title('Top 30 Frequent Negative Words')\n",
    "fig.tight_layout();"
   ]
  },
  {
   "cell_type": "code",
   "execution_count": 42,
   "metadata": {},
   "outputs": [],
   "source": [
    "{'sound', 'headphone', 'use', 'work', 'ear', 'good', 'great', 'work', 'like', 'quality'}"
   ]
  },
  {
   "cell_type": "code",
   "execution_count": 107,
   "metadata": {},
   "outputs": [
    {
     "data": {
      "text/plain": [
       "326"
      ]
     },
     "execution_count": 107,
     "metadata": {},
     "output_type": "execute_result"
    }
   ],
   "source": [
    "len(stop_words)"
   ]
  },
  {
   "cell_type": "code",
   "execution_count": 155,
   "metadata": {},
   "outputs": [],
   "source": [
    "stop_words |= {'sound', 'headphone', 'use', 'work', 'ear', 'good', 'great', 'work', 'like', 'quality'}"
   ]
  },
  {
   "cell_type": "code",
   "execution_count": 149,
   "metadata": {},
   "outputs": [
    {
     "data": {
      "text/plain": [
       "326"
      ]
     },
     "execution_count": 149,
     "metadata": {},
     "output_type": "execute_result"
    }
   ],
   "source": [
    "len(stop_words)"
   ]
  },
  {
   "cell_type": "code",
   "execution_count": 156,
   "metadata": {},
   "outputs": [],
   "source": [
    "data_df.processed_text = data_df.processed_text.apply(lambda x: preprocess(x))"
   ]
  },
  {
   "cell_type": "code",
   "execution_count": null,
   "metadata": {},
   "outputs": [],
   "source": []
  },
  {
   "cell_type": "code",
   "execution_count": 234,
   "metadata": {},
   "outputs": [],
   "source": [
    "processed_df = data_df[['reviews', 'cleaned_text', 'sentiment']].copy()"
   ]
  },
  {
   "cell_type": "code",
   "execution_count": 235,
   "metadata": {},
   "outputs": [
    {
     "name": "stdout",
     "output_type": "stream",
     "text": [
      "<class 'pandas.core.frame.DataFrame'>\n",
      "Int64Index: 105829 entries, 0 to 108850\n",
      "Data columns (total 3 columns):\n",
      " #   Column        Non-Null Count   Dtype \n",
      "---  ------        --------------   ----- \n",
      " 0   reviews       105829 non-null  object\n",
      " 1   cleaned_text  105829 non-null  object\n",
      " 2   sentiment     105829 non-null  int64 \n",
      "dtypes: int64(1), object(2)\n",
      "memory usage: 3.2+ MB\n"
     ]
    }
   ],
   "source": [
    "processed_df.info()"
   ]
  },
  {
   "cell_type": "code",
   "execution_count": 245,
   "metadata": {},
   "outputs": [],
   "source": [
    "processed_df.to_csv('data/processed_reviews.csv', index = False)"
   ]
  },
  {
   "cell_type": "code",
   "execution_count": null,
   "metadata": {},
   "outputs": [],
   "source": []
  },
  {
   "cell_type": "code",
   "execution_count": 216,
   "metadata": {},
   "outputs": [],
   "source": [
    "data_words = data_df.processed_text"
   ]
  },
  {
   "cell_type": "code",
   "execution_count": 114,
   "metadata": {},
   "outputs": [
    {
     "data": {
      "text/plain": [
       "0         [sportapros, instead, look, wear, street, conf...\n",
       "1         [look, light, alternative, absolutely, perfect...\n",
       "2         [fine, available, spend, vast, money, status, ...\n",
       "3         [pair, purchase, wife, pair, pair, glove, box,...\n",
       "4         [old, koss, porta, pros, finally, beat, death,...\n",
       "                                ...                        \n",
       "108846    [bose, noise, cancel, product, sennheiser, hea...\n",
       "108847    [lightweight, easy, connect, superb, long, bat...\n",
       "108848    [love, nice, upgrade, love, bluetooth, fantast...\n",
       "108849    [terrific, bose, customer, service, bad, tragi...\n",
       "108850    [couple, day, music, skip, cut, bluetooth, dro...\n",
       "Name: processed_text, Length: 108528, dtype: object"
      ]
     },
     "execution_count": 114,
     "metadata": {},
     "output_type": "execute_result"
    }
   ],
   "source": [
    "data_words"
   ]
  },
  {
   "cell_type": "code",
   "execution_count": null,
   "metadata": {},
   "outputs": [],
   "source": []
  },
  {
   "cell_type": "code",
   "execution_count": 42,
   "metadata": {},
   "outputs": [
    {
     "data": {
      "text/html": [
       "<style>.container { max-width:100% !important; }</style>"
      ],
      "text/plain": [
       "<IPython.core.display.HTML object>"
      ]
     },
     "metadata": {},
     "output_type": "display_data"
    },
    {
     "data": {
      "text/html": [
       "<style>.output_result { max-width:100% !important; }</style>"
      ],
      "text/plain": [
       "<IPython.core.display.HTML object>"
      ]
     },
     "metadata": {},
     "output_type": "display_data"
    },
    {
     "data": {
      "text/html": [
       "<style>.output_area { max-width:100% !important; }</style>"
      ],
      "text/plain": [
       "<IPython.core.display.HTML object>"
      ]
     },
     "metadata": {},
     "output_type": "display_data"
    },
    {
     "data": {
      "text/html": [
       "<style>.input_area { max-width:100% !important; }</style>"
      ],
      "text/plain": [
       "<IPython.core.display.HTML object>"
      ]
     },
     "metadata": {},
     "output_type": "display_data"
    }
   ],
   "source": []
  },
  {
   "cell_type": "code",
   "execution_count": 217,
   "metadata": {},
   "outputs": [],
   "source": [
    "# Create bigrams\n",
    "bigram = Phrases(data_words, min_count=5, threshold=10)\n",
    "bigram_phraser = Phraser(bigram)\n",
    "bigram_docs = [bigram_phraser[doc] for doc in data_words]\n",
    "\n",
    "# Create trigrams\n",
    "trigram = Phrases(bigram_docs, min_count=5, threshold=10)\n",
    "trigram_phraser = Phraser(trigram)\n",
    "trigram_docs = [trigram_phraser[doc] for doc in bigram_docs]\n"
   ]
  },
  {
   "cell_type": "code",
   "execution_count": 218,
   "metadata": {},
   "outputs": [
    {
     "name": "stdout",
     "output_type": "stream",
     "text": [
      "[[(0, 1), (1, 1), (2, 1), (3, 2), (4, 1), (5, 2), (6, 1), (7, 1)]]\n"
     ]
    }
   ],
   "source": [
    "id2word = corpora.Dictionary(trigram_docs)\n",
    "\n",
    "# Create Corpus\n",
    "texts = trigram_docs\n",
    "\n",
    "# Term Document Frequency\n",
    "corpus = [id2word.doc2bow(text) for text in texts]\n",
    "\n",
    "# View\n",
    "print(corpus[:1])"
   ]
  },
  {
   "cell_type": "code",
   "execution_count": null,
   "metadata": {},
   "outputs": [],
   "source": []
  },
  {
   "cell_type": "code",
   "execution_count": null,
   "metadata": {},
   "outputs": [],
   "source": []
  },
  {
   "cell_type": "code",
   "execution_count": 219,
   "metadata": {},
   "outputs": [],
   "source": [
    "lda_model = LdaMulticore(corpus=corpus,\n",
    "                         id2word=id2word,\n",
    "                         num_topics=5, \n",
    "                         random_state=100,\n",
    "                         workers = 4,\n",
    "                         chunksize=100,\n",
    "                         passes=10,\n",
    "                         alpha='symmetric')"
   ]
  },
  {
   "cell_type": "code",
   "execution_count": null,
   "metadata": {},
   "outputs": [],
   "source": []
  },
  {
   "cell_type": "code",
   "execution_count": 220,
   "metadata": {},
   "outputs": [
    {
     "data": {
      "text/html": [
       "\n",
       "<link rel=\"stylesheet\" type=\"text/css\" href=\"https://cdn.jsdelivr.net/gh/bmabey/pyLDAvis@3.3.1/pyLDAvis/js/ldavis.v1.0.0.css\">\n",
       "\n",
       "\n",
       "<div id=\"ldavis_el259617530275596006661997179\"></div>\n",
       "<script type=\"text/javascript\">\n",
       "\n",
       "var ldavis_el259617530275596006661997179_data = {\"mdsDat\": {\"x\": [-0.01960909603040581, -0.01966836279644483, -0.06853457739423209, -0.1903614042052474, 0.2981734404263303], \"y\": [0.02654299241541805, -0.15938274767430416, -0.14238689875777785, 0.19330866347267192, 0.08191799054399206], \"topics\": [1, 2, 3, 4, 5], \"cluster\": [1, 1, 1, 1, 1], \"Freq\": [27.322786948537974, 24.610094270941154, 20.82742740170857, 15.298442560433411, 11.941248818378886]}, \"tinfo\": {\"Term\": [\"star\", \"love\", \"price\", \"buy\", \"roku\", \"product\", \"bluetooth\", \"fit\", \"headset\", \"earbud\", \"bass\", \"charge\", \"device\", \"head\", \"bose\", \"nice\", \"music\", \"awesome\", \"pair\", \"kid\", \"bud\", \"comfortable\", \"hear\", \"cord\", \"excellent\", \"wireless\", \"battery_life\", \"battery\", \"listen\", \"cable\", \"bud\", \"uncomfortable\", \"hurt\", \"neck\", \"head\", \"headband\", \"rubber\", \"stay_place\", \"canal\", \"slip\", \"wrap\", \"distance\", \"foam\", \"earbud\", \"blue_tooth\", \"loop\", \"fitting\", \"tangle\", \"wear_hour\", \"mute\", \"snug\", \"kinda\", \"stretch\", \"big_head\", \"padding\", \"wing\", \"stiff\", \"mediocre\", \"comfortably\", \"bounce\", \"cord\", \"fall\", \"tip\", \"adjustable\", \"vibration\", \"clip\", \"pad\", \"plastic\", \"cup\", \"wear\", \"fit\", \"cushion\", \"tight\", \"adjust\", \"piece\", \"size\", \"stay\", \"pretty\", \"small\", \"little\", \"big\", \"feel\", \"material\", \"earpiece\", \"bit\", \"heavy\", \"decent\", \"comfortable\", \"large\", \"cover\", \"design\", \"wire\", \"nice\", \"long\", \"run\", \"come\", \"look\", \"earphone\", \"find\", \"price\", \"phone\", \"way\", \"pair\", \"time\", \"cable\", \"try\", \"thing\", \"noise_cancellation\", \"sennheiser\", \"clarity\", \"anc\", \"card\", \"noise_cancelling\", \"balanced\", \"regular\", \"treble\", \"vmoda\", \"mid\", \"qc\", \"muddy\", \"detail\", \"comparison\", \"wired\", \"background_noise\", \"gaming\", \"cancel\", \"noise_reduction\", \"blow_away\", \"midrange\", \"rich\", \"distortion\", \"sonys\", \"vocal\", \"bass_heavy\", \"low_volume\", \"background\", \"iem\", \"oontz\", \"bose\", \"high_end\", \"noise_cancel\", \"listen\", \"bass\", \"music\", \"surround\", \"hear\", \"song\", \"loud\", \"flight\", \"noise\", \"high\", \"quiet\", \"game\", \"compare\", \"beats\", \"audio\", \"play\", \"movie\", \"volume\", \"audiophile\", \"speaker\", \"clear\", \"level\", \"want\", \"review\", \"low\", \"people\", \"comfort\", \"amazing\", \"know\", \"player\", \"build\", \"think\", \"try\", \"set\", \"lot\", \"find\", \"come\", \"look\", \"pair\", \"buy\", \"thing\", \"bluetooth\", \"wireless\", \"battery_life\", \"remote\", \"customer_service\", \"battery\", \"fail\", \"soundpeats\", \"die\", \"warranty\", \"skip\", \"jaybird\", \"sync\", \"stars\", \"samsung\", \"disconnect\", \"bluetooth_connection\", \"recharge\", \"static\", \"volume_button\", \"mpow\", \"dead\", \"transmitter\", \"defective\", \"answer\", \"helpful\", \"connectivity\", \"reception\", \"pause\", \"email\", \"connect\", \"headset\", \"stop\", \"update\", \"button\", \"send\", \"connection\", \"control\", \"week\", \"turn\", \"issue\", \"day\", \"month\", \"charge\", \"problem\", \"return\", \"time\", \"second\", \"hour\", \"pair\", \"range\", \"phone\", \"run\", \"try\", \"long\", \"device\", \"set\", \"buy\", \"easy\", \"product\", \"purchase\", \"roku\", \"keyboard\", \"port\", \"screen\", \"usb\", \"output\", \"wall\", \"mount\", \"lamp\", \"usb_port\", \"interface\", \"instal\", \"smart\", \"works\", \"roku_roku\", \"wifi\", \"outlet\", \"speed\", \"display\", \"digital\", \"tv\", \"anker\", \"input\", \"rokus\", \"control_volume\", \"freeze\", \"wall_charger\", \"access\", \"projector\", \"led\", \"charger\", \"operate\", \"channel\", \"fast\", \"plug\", \"device\", \"app\", \"adapter\", \"tablet\", \"unit\", \"apple\", \"cable\", \"picture\", \"charge\", \"ipad\", \"power\", \"case\", \"light\", \"need\", \"support\", \"product\", \"phone\", \"easy\", \"nice\", \"feature\", \"small\", \"time\", \"thing\", \"come\", \"little\", \"look\", \"perfect\", \"star\", \"kid\", \"year_old\", \"son\", \"daughter\", \"gift\", \"son_love\", \"waste_money\", \"cute\", \"logitech\", \"daughter_love\", \"school\", \"brother\", \"christmas_gift\", \"noise_cancelation\", \"grandson\", \"kidz_gear\", \"girl\", \"amazon_fire\", \"damn\", \"delivery\", \"year_old_son\", \"dad\", \"fabulous\", \"year_old_daughter\", \"birthday\", \"super_fast\", \"fast_shipping\", \"month_later\", \"weekend\", \"sentey\", \"arrive_time\", \"christmas\", \"love\", \"husband\", \"awesome\", \"price\", \"product\", \"thank\", \"absolutely_love\", \"buy\", \"excellent\", \"beat\", \"value\", \"highly_recommend\", \"child\", \"happy\", \"amazing\", \"perfect\", \"purchase\", \"wife\", \"nice\", \"money\", \"cheap\", \"pair\", \"item\", \"comfortable\", \"year\", \"durable\", \"pay\", \"expect\", \"look\", \"recommend\", \"set\", \"easy\", \"break\", \"fit\", \"time\"], \"Freq\": [20922.0, 18257.0, 23623.0, 25580.0, 13213.0, 18852.0, 13986.0, 18028.0, 11584.0, 11855.0, 14246.0, 12907.0, 11449.0, 9952.0, 10393.0, 15304.0, 11644.0, 6267.0, 22985.0, 4949.0, 8092.0, 14088.0, 11920.0, 8007.0, 9280.0, 5892.0, 5680.0, 5650.0, 7735.0, 8289.0, 8091.521644531337, 2557.3025601859, 1875.212601136878, 1446.1867409160716, 9946.55400971626, 1097.950936655575, 1008.1345260354636, 925.1894352683871, 874.4587233266819, 836.3405093540011, 782.6312259553578, 759.3277016288924, 743.8355591158862, 11842.376384385701, 655.6306832850734, 608.9556757726809, 577.9773707845848, 568.935767028097, 573.8763462107787, 608.71194651304, 522.019892131352, 516.1683823158091, 510.25344138379825, 471.3480835631213, 451.57688220463297, 450.003149797876, 442.6777314942199, 451.0851095151399, 438.1224803261231, 413.1458695343791, 7895.575279855763, 4218.808084036137, 2336.4168745264456, 817.0161022569648, 545.3059462041907, 1130.0634839781453, 1850.2160426472278, 2316.6369593984223, 2132.0506164648846, 7257.092440724462, 15900.12940383026, 1019.6314052166671, 1940.2714839257603, 2356.813929567419, 3452.93437661685, 4374.442842260487, 5278.660797131494, 7297.122472818946, 6943.657125400747, 9955.103071921236, 3908.9245695181835, 7818.823714358479, 1615.0961581649929, 1563.5015870317384, 5642.547471197115, 2681.549978828686, 3552.952731921972, 8053.684065195152, 2658.666936596842, 2366.7847030724124, 3657.3570178930495, 3814.3627425242407, 7334.988072904225, 5479.677550527087, 4713.730715786996, 6264.743079059897, 6160.498374672069, 3818.7889957315742, 4902.834550220646, 6730.190958213016, 5663.780364680545, 4239.125519143712, 5745.881501239422, 4939.764188942929, 4003.643586080209, 4225.1301801211275, 4023.737196911493, 3052.942031281499, 2252.010433980802, 1345.883221119509, 1266.8515051644752, 1051.8745913188973, 1052.5766597672114, 1011.5238151368171, 1060.2293905276942, 962.8091599479457, 976.2797327996321, 929.4726046639951, 911.4896799988447, 841.8071550278779, 809.8760447470465, 800.1518888847861, 712.0856200304238, 673.8552075223625, 667.8367634534346, 661.0901657538186, 655.0769541108535, 646.8111061434256, 619.0432371379167, 614.0805889018822, 607.8791638191345, 605.7594541983611, 595.4700424372278, 593.1969380935572, 592.7881548152067, 578.9767817489669, 577.2862849520315, 679.3551027888803, 10044.541613024574, 999.1698265961222, 4178.042885002168, 7173.669537865743, 12507.801549879363, 10286.743223892248, 1301.2260044750929, 9882.464448716328, 1639.9350953817554, 5020.236316182012, 1253.7332746434365, 3435.993469905517, 5323.114985253884, 1189.2627076161475, 1019.959255263395, 3016.7234865561672, 1655.4575486852993, 4732.648026932742, 3292.584985853323, 1434.4586511885245, 4092.259415868996, 1745.951586239, 2667.2568356595743, 2854.1760194907874, 1661.6530488151186, 4610.8146818641, 3432.1365563913455, 2674.2784435120043, 2455.9840946585164, 2201.250208030205, 2985.1405634441894, 2714.6056737772515, 1750.0091786783366, 2515.94092481841, 3167.5518584134957, 3363.2978370543347, 3390.516609123503, 2599.4073526193115, 2940.904710984667, 2993.656182803905, 2931.047128260353, 2997.625131791635, 3035.164094598189, 2668.546474764544, 13985.879833903522, 5891.570350759646, 5679.7573905602285, 2447.1778942596984, 2133.0752365769927, 5647.955230701472, 1227.3971834893791, 1172.4451403133378, 1030.7080921907664, 882.2736144363789, 888.7851255523525, 792.8300072734643, 723.2734297548815, 712.9973128943042, 724.1209056095827, 681.0398410704738, 680.5892735709597, 658.5214295038455, 653.2994309800644, 595.5024763498712, 597.0905656128648, 571.3210220310254, 541.8572352111908, 540.5503029331883, 535.7942077444663, 535.4098024908701, 493.8877184313637, 487.53083551709506, 463.81121451325924, 522.4584126117869, 5964.202951750848, 10728.504082335612, 2738.299590737237, 3470.2746582367463, 4593.163885635604, 1645.6946987602703, 2099.853323484472, 3488.4968868802, 3166.1815148213227, 5343.607857553702, 5562.146965446402, 5044.378941619664, 4170.520761118061, 7184.282174071647, 5007.52344486796, 3135.0571272613, 8311.533160556712, 2381.7955293034597, 4108.9768483501975, 8359.365338580003, 2594.303193085016, 5933.377075741306, 3774.87443774788, 4759.716139038905, 4167.330125880861, 4305.275022363136, 4314.440316791755, 4816.582849886679, 3441.031206022289, 3802.9457241882005, 2881.920113897884, 13213.032782060998, 3941.305616398223, 1826.760071863809, 1233.5621673070996, 1209.1405225835774, 940.1738175347924, 835.5520196161535, 780.7913985617415, 790.7650689262465, 696.0221840895261, 677.5708699986644, 616.1935024020147, 612.8519808235601, 616.5400528877989, 564.3714572680526, 547.1286931528734, 511.57151315115465, 516.3384119450517, 504.32045246233554, 501.7177602563337, 477.02829825608194, 473.91431852177834, 466.4297368568933, 459.8829222415317, 470.670089377842, 442.7875796028448, 415.7907945131842, 419.52129449749066, 457.60802996362895, 414.36871777855885, 4354.531554652162, 422.150773214471, 1441.0605262880188, 2189.050502831063, 4402.723549217987, 7143.383123994462, 2186.249207779378, 1132.492069411986, 1211.2216431543839, 2851.736156512042, 1585.8424791216962, 4285.374140607924, 1477.2150454845575, 5722.95529045206, 1503.7124534766908, 2024.1410699820458, 3000.9724191231085, 2261.051113683446, 3729.156449448665, 1364.288663833705, 3398.2546433782145, 3150.9321088628153, 2421.615009122869, 2623.648824198068, 1561.4618751596374, 1943.8483119918321, 2409.2312224330753, 2023.7601275294874, 2068.9642781278844, 1928.2191481647744, 1897.4764608469948, 1473.624409354003, 20922.16654910764, 4948.704951808893, 2542.713648934563, 1686.6413178737616, 1353.5997631161383, 1249.3488249002269, 535.6000982014908, 527.5872544323685, 403.5057291815953, 416.8357024202664, 351.2634349598135, 318.25961224711216, 312.0166185485247, 241.40601136762513, 231.45496839462095, 214.73225047925203, 228.74030595018732, 198.98182441485952, 305.8384965774134, 188.75688274098317, 176.2086558216771, 162.11487632985816, 160.52580836259793, 156.3984637112088, 156.47519903086086, 147.61786538092093, 149.0515212240835, 147.73389709951903, 147.7990021785329, 153.39512674653682, 236.635689889301, 161.84719411394988, 494.44342079705666, 16600.39272446762, 992.2380683652264, 5424.626794356882, 14957.086541945373, 11651.322176137604, 1377.1159230053072, 497.7058993113577, 14494.193555811828, 5341.944034729798, 2077.4105334473243, 2091.4789802962123, 1922.485722032837, 768.6386087989597, 2636.5291810577296, 3309.695424479719, 3755.4005950811056, 3858.8724751873656, 1410.2603540205553, 5185.677209288027, 1642.380094275731, 2647.686446131208, 5882.54002134, 1429.128898003976, 4098.958575585357, 2431.931779890685, 1310.8611116311895, 1749.1188959095698, 2405.9048321285263, 3273.732554924198, 1992.745965880996, 2953.4744827721124, 2305.013633347823, 1944.7915901707145, 2127.790421044664, 1734.3606245790415], \"Total\": [20922.0, 18257.0, 23623.0, 25580.0, 13213.0, 18852.0, 13986.0, 18028.0, 11584.0, 11855.0, 14246.0, 12907.0, 11449.0, 9952.0, 10393.0, 15304.0, 11644.0, 6267.0, 22985.0, 4949.0, 8092.0, 14088.0, 11920.0, 8007.0, 9280.0, 5892.0, 5680.0, 5650.0, 7735.0, 8289.0, 8092.287240141112, 2558.0651628221663, 1875.9767314004496, 1446.9513930563305, 9952.00047943948, 1098.7145719929165, 1008.8964470460925, 925.9531118806569, 875.2176494171784, 837.1060388290784, 783.3929421917748, 760.1095165276082, 744.6021401087778, 11855.461779306666, 656.4235506514287, 609.7185706964553, 578.7403650848729, 569.6990479546502, 574.6522573915202, 609.5443624227962, 522.7819679235282, 516.9391587935255, 511.01872448986427, 472.10636889115506, 452.3416921472478, 450.76815510594486, 443.43636338347903, 451.8737831323814, 438.88917374968486, 413.90862171551726, 8007.367716253619, 4253.789879461208, 2348.609784561919, 821.2730093315924, 546.7033779240484, 1149.1032804442068, 1904.4384683282274, 2400.973297929137, 2216.24168137301, 7888.8235225765575, 18028.492151883398, 1043.8010381960169, 2055.044582155521, 2583.523416932172, 3909.015778400308, 5122.556301434723, 6380.708245517205, 9263.265101698767, 8888.061675234178, 13890.453212040578, 5011.592009428955, 11278.051527148858, 1801.71708907738, 1756.2590237741197, 8467.326395168906, 3411.0725216069595, 4891.443034770237, 14088.43104342166, 3478.932059460535, 3031.5184378250187, 5517.924544011707, 5856.221668310393, 15304.18035376084, 10594.64349826985, 8489.21646187709, 13455.566370699838, 14442.59406888069, 6546.385717291126, 11644.035174187746, 23623.758289387715, 16536.361171627905, 9257.114871486006, 22985.62258075646, 18846.609005372316, 8289.575316095745, 12602.934530078068, 11111.891914511574, 3053.713271527287, 2252.7774264008212, 1346.6496579009422, 1267.6275480317659, 1052.6440506724432, 1053.3472711388292, 1012.2888964973276, 1061.0420658355488, 963.57204011366, 977.0544434777474, 930.2405191829532, 912.2609428965566, 842.570887645168, 810.6441949662101, 800.9181769632271, 712.8791458879836, 674.6252462785152, 668.6053833613514, 661.8600597816356, 655.848226528597, 647.5818880709704, 619.8059822718643, 614.8480852737057, 608.6444817270537, 606.5248223676864, 596.2316005789291, 593.9619795296327, 593.5538979213313, 579.7442555696214, 578.0572333301884, 680.6988507153194, 10393.21224954336, 1006.9215854704191, 4371.057675754702, 7735.096398943296, 14246.975984905665, 11644.02485857262, 1348.6921403544245, 11920.705046952118, 1848.3702920445307, 6668.211082885543, 1371.6290347045858, 4379.8830009470985, 7255.917136674666, 1296.9387589489806, 1086.4451959586631, 3969.8393732262593, 1935.0899284666118, 7418.849715767366, 4790.191585076619, 1657.7427147873668, 6601.244049488859, 2224.0934922091155, 4253.114256942222, 4718.821516602511, 2197.195727076552, 11094.296206814235, 7073.964147368903, 4878.662523238349, 4505.83662106359, 3777.0030418419333, 6903.1748280570355, 6386.290927258143, 2523.8565732547204, 5583.448097925184, 10103.70454987574, 12602.934530078068, 13400.87757982338, 7200.92336379302, 11644.035174187746, 13455.566370699838, 14442.59406888069, 22985.62258075646, 25580.57950068909, 11111.891914511574, 13986.696862715165, 5892.393290602033, 5680.589624771348, 2448.024794381182, 2133.888154462376, 5650.768780525872, 1228.212689298314, 1173.2979462257329, 1031.5207657112235, 883.0860575943966, 889.6062205139615, 793.6618823095636, 724.0878280505611, 713.8092497212328, 724.9535783203617, 681.8513736494218, 681.4064117861316, 659.3312606215911, 654.1086071416556, 596.318650562996, 597.9157079144986, 572.1316410730503, 542.6684692309575, 541.3621305482674, 536.6121056789601, 536.2454136484766, 494.70243085130704, 488.3425773139569, 464.6279166772319, 523.3882930710299, 6299.311966290131, 11584.005297008864, 2892.8694228102286, 3772.025606464009, 5085.062639064279, 1743.4219939282543, 2339.274903695173, 4424.169025966926, 3997.05124667178, 7709.112593518946, 8690.388807429139, 8275.128367153507, 6533.455152700535, 12907.835083415597, 8369.907639564337, 4634.473653345921, 18846.609005372316, 3559.4005229084746, 7487.615651016324, 22985.62258075646, 4587.8810766431025, 16536.361171627905, 8489.21646187709, 12602.934530078068, 10594.64349826985, 11449.259671600099, 13400.87757982338, 25580.57950068909, 10053.619705787867, 18852.934263757023, 8882.238466427767, 13213.818052082006, 3942.0955898671764, 1827.5090492701065, 1234.317781192962, 1209.8969284580135, 940.9342951091509, 836.319160248334, 781.5387526579972, 791.5535582727563, 696.7731006925937, 678.3459648812113, 616.9529947921156, 613.6086402344126, 617.3016880655202, 565.1505684158393, 547.8959733374955, 512.3201872983567, 517.1015814585666, 505.09266427177465, 502.5044974768198, 477.7894046101446, 474.68316378690224, 467.18892242783005, 460.66613427685587, 471.47858622960086, 443.5608040553848, 416.53858712211155, 420.28165284692227, 458.4410017487496, 415.123049137715, 4416.678381822284, 422.93212828158414, 1702.3393476946678, 2787.550943732053, 6281.697967673168, 11449.259671600099, 2875.136210929338, 1326.8821578701736, 1520.7113768473382, 4596.658205021246, 2197.776933617142, 8289.575316095745, 2047.095720002595, 12907.835083415597, 2241.7865083562515, 3714.8500651089626, 7062.3729051620785, 5043.4869105446305, 12142.999662993343, 2305.5486517988206, 18852.934263757023, 16536.361171627905, 10053.619705787867, 15304.18035376084, 4567.2029581895, 8888.061675234178, 18846.609005372316, 11111.891914511574, 13455.566370699838, 13890.453212040578, 14442.59406888069, 8282.187716688999, 20922.943492247196, 4949.488215016648, 2543.5113551202116, 1687.4177832108164, 1354.378960835954, 1250.12446612622, 536.369306745066, 528.368566507244, 404.29147450452007, 417.6664520747431, 352.03237833062354, 319.04231502016626, 312.7985550950936, 242.18795666884978, 232.28087987780472, 215.50415623553798, 229.61245426293436, 199.76566408490297, 307.09847316259396, 189.56607354487312, 176.98870985147047, 162.89537009009769, 161.3070554231138, 157.18090837430486, 157.2750332143751, 148.40766388045708, 149.85149091811232, 148.52761459857018, 148.5961390724111, 154.2239005533882, 238.49486073796808, 162.83336299526223, 504.2984431399995, 18257.862606211267, 1037.937227316011, 6267.21327622068, 23623.758289387715, 18852.934263757023, 1766.1405960547745, 570.8280532287592, 25580.57950068909, 9280.942625990654, 3295.593109562707, 3340.4556023310256, 3046.86072294545, 1060.9762625487142, 5113.193485774129, 6903.1748280570355, 8282.187716688999, 8882.238466427767, 2450.4319111371387, 15304.18035376084, 3233.0909699954, 6818.2693023066895, 22985.62258075646, 2747.4283684567354, 14088.43104342166, 6325.199167098523, 2419.1041369767413, 4027.0845018260775, 7130.989931522901, 14442.59406888069, 5290.487436622394, 13400.87757982338, 10053.619705787867, 6108.7165514951785, 18028.492151883398, 18846.609005372316], \"Category\": [\"Default\", \"Default\", \"Default\", \"Default\", \"Default\", \"Default\", \"Default\", \"Default\", \"Default\", \"Default\", \"Default\", \"Default\", \"Default\", \"Default\", \"Default\", \"Default\", \"Default\", \"Default\", \"Default\", \"Default\", \"Default\", \"Default\", \"Default\", \"Default\", \"Default\", \"Default\", \"Default\", \"Default\", \"Default\", \"Default\", \"Topic1\", \"Topic1\", \"Topic1\", \"Topic1\", \"Topic1\", \"Topic1\", \"Topic1\", \"Topic1\", \"Topic1\", \"Topic1\", \"Topic1\", \"Topic1\", \"Topic1\", \"Topic1\", \"Topic1\", \"Topic1\", \"Topic1\", \"Topic1\", \"Topic1\", \"Topic1\", \"Topic1\", \"Topic1\", \"Topic1\", \"Topic1\", \"Topic1\", \"Topic1\", \"Topic1\", \"Topic1\", \"Topic1\", \"Topic1\", \"Topic1\", \"Topic1\", \"Topic1\", \"Topic1\", \"Topic1\", \"Topic1\", \"Topic1\", \"Topic1\", \"Topic1\", \"Topic1\", \"Topic1\", \"Topic1\", \"Topic1\", \"Topic1\", \"Topic1\", \"Topic1\", \"Topic1\", \"Topic1\", \"Topic1\", \"Topic1\", \"Topic1\", \"Topic1\", \"Topic1\", \"Topic1\", \"Topic1\", \"Topic1\", \"Topic1\", \"Topic1\", \"Topic1\", \"Topic1\", \"Topic1\", \"Topic1\", \"Topic1\", \"Topic1\", \"Topic1\", \"Topic1\", \"Topic1\", \"Topic1\", \"Topic1\", \"Topic1\", \"Topic1\", \"Topic1\", \"Topic1\", \"Topic1\", \"Topic1\", \"Topic1\", \"Topic1\", \"Topic2\", \"Topic2\", \"Topic2\", \"Topic2\", \"Topic2\", \"Topic2\", \"Topic2\", \"Topic2\", \"Topic2\", \"Topic2\", \"Topic2\", \"Topic2\", \"Topic2\", \"Topic2\", \"Topic2\", \"Topic2\", \"Topic2\", \"Topic2\", \"Topic2\", \"Topic2\", \"Topic2\", \"Topic2\", \"Topic2\", \"Topic2\", \"Topic2\", \"Topic2\", \"Topic2\", \"Topic2\", \"Topic2\", \"Topic2\", \"Topic2\", \"Topic2\", \"Topic2\", \"Topic2\", \"Topic2\", \"Topic2\", \"Topic2\", \"Topic2\", \"Topic2\", \"Topic2\", \"Topic2\", \"Topic2\", \"Topic2\", \"Topic2\", \"Topic2\", \"Topic2\", \"Topic2\", \"Topic2\", \"Topic2\", \"Topic2\", \"Topic2\", \"Topic2\", \"Topic2\", \"Topic2\", \"Topic2\", \"Topic2\", \"Topic2\", \"Topic2\", \"Topic2\", \"Topic2\", \"Topic2\", \"Topic2\", \"Topic2\", \"Topic2\", \"Topic2\", \"Topic2\", \"Topic2\", \"Topic2\", \"Topic2\", \"Topic2\", \"Topic2\", \"Topic2\", \"Topic2\", \"Topic2\", \"Topic2\", \"Topic3\", \"Topic3\", \"Topic3\", \"Topic3\", \"Topic3\", \"Topic3\", \"Topic3\", \"Topic3\", \"Topic3\", \"Topic3\", \"Topic3\", \"Topic3\", \"Topic3\", \"Topic3\", \"Topic3\", \"Topic3\", \"Topic3\", \"Topic3\", \"Topic3\", \"Topic3\", \"Topic3\", \"Topic3\", \"Topic3\", \"Topic3\", \"Topic3\", \"Topic3\", \"Topic3\", \"Topic3\", \"Topic3\", \"Topic3\", \"Topic3\", \"Topic3\", \"Topic3\", \"Topic3\", \"Topic3\", \"Topic3\", \"Topic3\", \"Topic3\", \"Topic3\", \"Topic3\", \"Topic3\", \"Topic3\", \"Topic3\", \"Topic3\", \"Topic3\", \"Topic3\", \"Topic3\", \"Topic3\", \"Topic3\", \"Topic3\", \"Topic3\", \"Topic3\", \"Topic3\", \"Topic3\", \"Topic3\", \"Topic3\", \"Topic3\", \"Topic3\", \"Topic3\", \"Topic3\", \"Topic3\", \"Topic4\", \"Topic4\", \"Topic4\", \"Topic4\", \"Topic4\", \"Topic4\", \"Topic4\", \"Topic4\", \"Topic4\", \"Topic4\", \"Topic4\", \"Topic4\", \"Topic4\", \"Topic4\", \"Topic4\", \"Topic4\", \"Topic4\", \"Topic4\", \"Topic4\", \"Topic4\", \"Topic4\", \"Topic4\", \"Topic4\", \"Topic4\", \"Topic4\", \"Topic4\", \"Topic4\", \"Topic4\", \"Topic4\", \"Topic4\", \"Topic4\", \"Topic4\", \"Topic4\", \"Topic4\", \"Topic4\", \"Topic4\", \"Topic4\", \"Topic4\", \"Topic4\", \"Topic4\", \"Topic4\", \"Topic4\", \"Topic4\", \"Topic4\", \"Topic4\", \"Topic4\", \"Topic4\", \"Topic4\", \"Topic4\", \"Topic4\", \"Topic4\", \"Topic4\", \"Topic4\", \"Topic4\", \"Topic4\", \"Topic4\", \"Topic4\", \"Topic4\", \"Topic4\", \"Topic4\", \"Topic4\", \"Topic4\", \"Topic5\", \"Topic5\", \"Topic5\", \"Topic5\", \"Topic5\", \"Topic5\", \"Topic5\", \"Topic5\", \"Topic5\", \"Topic5\", \"Topic5\", \"Topic5\", \"Topic5\", \"Topic5\", \"Topic5\", \"Topic5\", \"Topic5\", \"Topic5\", \"Topic5\", \"Topic5\", \"Topic5\", \"Topic5\", \"Topic5\", \"Topic5\", \"Topic5\", \"Topic5\", \"Topic5\", \"Topic5\", \"Topic5\", \"Topic5\", \"Topic5\", \"Topic5\", \"Topic5\", \"Topic5\", \"Topic5\", \"Topic5\", \"Topic5\", \"Topic5\", \"Topic5\", \"Topic5\", \"Topic5\", \"Topic5\", \"Topic5\", \"Topic5\", \"Topic5\", \"Topic5\", \"Topic5\", \"Topic5\", \"Topic5\", \"Topic5\", \"Topic5\", \"Topic5\", \"Topic5\", \"Topic5\", \"Topic5\", \"Topic5\", \"Topic5\", \"Topic5\", \"Topic5\", \"Topic5\", \"Topic5\", \"Topic5\", \"Topic5\", \"Topic5\", \"Topic5\", \"Topic5\", \"Topic5\", \"Topic5\"], \"logprob\": [30.0, 29.0, 28.0, 27.0, 26.0, 25.0, 24.0, 23.0, 22.0, 21.0, 20.0, 19.0, 18.0, 17.0, 16.0, 15.0, 14.0, 13.0, 12.0, 11.0, 10.0, 9.0, 8.0, 7.0, 6.0, 5.0, 4.0, 3.0, 2.0, 1.0, -4.5075, -5.6593, -5.9696, -6.2293, -4.3011, -6.5048, -6.5902, -6.676, -6.7324, -6.777, -6.8434, -6.8736, -6.8942, -4.1266, -7.0204, -7.0943, -7.1465, -7.1623, -7.1536, -7.0947, -7.2483, -7.2596, -7.2711, -7.3504, -7.3933, -7.3968, -7.4132, -7.3944, -7.4235, -7.4822, -4.532, -5.1587, -5.7497, -6.8004, -7.2047, -6.476, -5.983, -5.7582, -5.8412, -4.6163, -3.832, -6.5788, -5.9355, -5.741, -5.3591, -5.1225, -4.9346, -4.6108, -4.6604, -4.3002, -5.235, -4.5417, -6.1189, -6.1514, -4.8679, -5.6119, -5.3305, -4.5121, -5.6205, -5.7367, -5.3015, -5.2595, -4.6056, -4.8972, -5.0478, -4.7633, -4.7801, -5.2583, -5.0085, -4.6917, -4.8642, -5.1539, -4.8498, -5.001, -5.2111, -5.1572, -5.2061, -5.3776, -5.6819, -6.1967, -6.2572, -6.4431, -6.4425, -6.4823, -6.4352, -6.5316, -6.5177, -6.5669, -6.5864, -6.6659, -6.7046, -6.7167, -6.8333, -6.8885, -6.8974, -6.9076, -6.9167, -6.9294, -6.9733, -6.9813, -6.9915, -6.995, -7.0121, -7.0159, -7.0166, -7.0402, -7.0431, -6.8803, -4.1867, -6.4945, -5.0639, -4.5233, -3.9674, -4.1629, -6.2304, -4.203, -5.9991, -4.8802, -6.2676, -5.2594, -4.8217, -6.3204, -6.474, -5.3895, -5.9896, -4.9392, -5.302, -6.1329, -5.0846, -5.9364, -5.5127, -5.4449, -5.9859, -4.9653, -5.2605, -5.51, -5.5952, -5.7047, -5.4001, -5.4951, -5.9341, -5.5711, -5.3408, -5.2808, -5.2727, -5.5384, -5.415, -5.3972, -5.4184, -5.3959, -5.3834, -5.5122, -3.6888, -4.5533, -4.5899, -5.4319, -5.5693, -4.5955, -6.1219, -6.1677, -6.2966, -6.4521, -6.4447, -6.559, -6.6508, -6.6651, -6.6496, -6.711, -6.7116, -6.7446, -6.7525, -6.8452, -6.8425, -6.8866, -6.9396, -6.942, -6.9508, -6.9516, -7.0323, -7.0452, -7.0951, -6.976, -4.5411, -3.9539, -5.3195, -5.0826, -4.8023, -5.8287, -5.585, -5.0774, -5.1743, -4.6509, -4.6108, -4.7086, -4.8988, -4.3549, -4.7159, -5.1842, -4.2092, -5.459, -4.9137, -4.2034, -5.3735, -4.5462, -4.9985, -4.7666, -4.8996, -4.867, -4.8649, -4.7548, -5.0911, -4.9911, -5.2684, -3.4371, -4.6468, -5.4158, -5.8084, -5.8284, -6.08, -6.198, -6.2658, -6.2531, -6.3807, -6.4075, -6.5025, -6.5079, -6.5019, -6.5904, -6.6214, -6.6886, -6.6793, -6.7029, -6.708, -6.7585, -6.765, -6.781, -6.7951, -6.7719, -6.833, -6.8959, -6.8869, -6.8001, -6.8993, -4.5471, -6.8807, -5.6529, -5.2348, -4.5361, -4.0521, -5.2361, -5.8939, -5.8267, -4.9704, -5.5572, -4.5631, -5.6281, -4.2738, -5.6104, -5.3132, -4.9194, -5.2025, -4.7021, -5.7077, -4.795, -4.8706, -5.1339, -5.0537, -5.5727, -5.3536, -5.139, -5.3134, -5.2913, -5.3617, -5.3778, -5.6306, -2.7297, -4.1714, -4.8373, -5.2478, -5.4678, -5.5479, -6.3949, -6.41, -6.6781, -6.6456, -6.8168, -6.9154, -6.9353, -7.1918, -7.2339, -7.3089, -7.2457, -7.3851, -6.9553, -7.4379, -7.5066, -7.59, -7.5999, -7.6259, -7.6254, -7.6837, -7.674, -7.6829, -7.6825, -7.6453, -7.2118, -7.5917, -6.4749, -2.9611, -5.7783, -4.0796, -3.0654, -3.3151, -5.4506, -6.4683, -3.0968, -4.095, -5.0394, -5.0327, -5.1169, -6.0337, -4.8011, -4.5737, -4.4474, -4.4202, -5.4268, -4.1247, -5.2744, -4.7969, -3.9986, -5.4135, -4.3598, -4.8819, -5.4999, -5.2114, -4.8926, -4.5846, -5.081, -4.6876, -4.9355, -5.1054, -5.0155, -5.2199], \"loglift\": [30.0, 29.0, 28.0, 27.0, 26.0, 25.0, 24.0, 23.0, 22.0, 21.0, 20.0, 19.0, 18.0, 17.0, 16.0, 15.0, 14.0, 13.0, 12.0, 11.0, 10.0, 9.0, 8.0, 7.0, 6.0, 5.0, 4.0, 3.0, 2.0, 1.0, 1.2974, 1.2972, 1.297, 1.2969, 1.2969, 1.2968, 1.2967, 1.2966, 1.2966, 1.2965, 1.2965, 1.2964, 1.2964, 1.2963, 1.2962, 1.2962, 1.2961, 1.2961, 1.2961, 1.2961, 1.296, 1.296, 1.296, 1.2958, 1.2958, 1.2958, 1.2957, 1.2957, 1.2957, 1.2956, 1.2834, 1.2892, 1.2922, 1.2923, 1.2949, 1.2807, 1.2686, 1.2617, 1.2587, 1.214, 1.1718, 1.274, 1.24, 1.2056, 1.1734, 1.1396, 1.1078, 1.0589, 1.0506, 0.9643, 1.049, 0.9311, 1.1881, 1.1812, 0.8916, 1.0568, 0.9777, 0.7382, 1.0285, 1.0499, 0.8862, 0.8687, 0.562, 0.6381, 0.7091, 0.533, 0.4454, 0.7585, 0.4325, 0.0418, 0.226, 0.5164, -0.0889, -0.0416, 0.5697, 0.2046, 0.2816, 1.4018, 1.4017, 1.4014, 1.4014, 1.4013, 1.4013, 1.4013, 1.4012, 1.4012, 1.4012, 1.4012, 1.4012, 1.4011, 1.4011, 1.4011, 1.4009, 1.4009, 1.4009, 1.4008, 1.4008, 1.4008, 1.4008, 1.4008, 1.4008, 1.4008, 1.4007, 1.4007, 1.4007, 1.4007, 1.4007, 1.4, 1.3679, 1.3943, 1.3569, 1.3267, 1.2718, 1.2781, 1.3662, 1.2145, 1.2824, 1.1181, 1.3121, 1.1593, 1.0923, 1.3153, 1.3389, 1.1275, 1.2459, 0.9525, 1.0271, 1.2573, 0.9239, 1.16, 0.9354, 0.8992, 1.1226, 0.524, 0.6788, 0.8008, 0.7952, 0.8621, 0.5637, 0.5465, 1.0358, 0.6049, 0.2421, 0.081, 0.0277, 0.3831, 0.0259, -0.1009, -0.1928, -0.635, -0.7296, -0.0245, 1.5688, 1.5688, 1.5688, 1.5686, 1.5685, 1.5684, 1.5682, 1.5682, 1.5681, 1.568, 1.568, 1.5679, 1.5678, 1.5678, 1.5678, 1.5677, 1.5677, 1.5677, 1.5677, 1.5675, 1.5675, 1.5675, 1.5674, 1.5674, 1.5674, 1.5673, 1.5673, 1.5672, 1.5671, 1.5671, 1.5142, 1.4922, 1.514, 1.4855, 1.4672, 1.5112, 1.4609, 1.3313, 1.3359, 1.2024, 1.1227, 1.0739, 1.12, 0.983, 1.0552, 1.178, 0.7502, 1.1672, 0.9688, 0.5574, 0.9988, 0.5439, 0.7585, 0.5952, 0.6358, 0.5908, 0.4355, -0.1009, 0.4967, -0.032, 0.4433, 1.8774, 1.8772, 1.877, 1.8768, 1.8768, 1.8766, 1.8765, 1.8765, 1.8764, 1.8763, 1.8763, 1.8762, 1.8762, 1.8762, 1.876, 1.876, 1.876, 1.8759, 1.8759, 1.8759, 1.8758, 1.8758, 1.8758, 1.8757, 1.8757, 1.8757, 1.8756, 1.8756, 1.8756, 1.8756, 1.8632, 1.8756, 1.7108, 1.6357, 1.522, 1.4057, 1.6035, 1.719, 1.6499, 1.4, 1.5511, 1.2176, 1.5512, 1.0641, 1.4781, 1.2702, 1.0216, 1.0752, 0.6968, 1.3527, 0.164, 0.2196, 0.4539, 0.1139, 0.8041, 0.3574, -0.1796, 0.1744, 0.0051, -0.0972, -0.1522, 0.151, 2.1251, 2.125, 2.1249, 2.1247, 2.1246, 2.1246, 2.1237, 2.1237, 2.1232, 2.1232, 2.123, 2.1227, 2.1227, 2.1219, 2.1216, 2.1216, 2.1214, 2.1212, 2.1211, 2.1209, 2.1208, 2.1204, 2.1203, 2.1202, 2.1201, 2.1198, 2.1198, 2.1198, 2.1198, 2.1198, 2.1173, 2.1191, 2.1054, 2.03, 2.0801, 1.9808, 1.6681, 1.6439, 1.8764, 1.9881, 1.5571, 1.5728, 1.6637, 1.6569, 1.6647, 1.8028, 1.4628, 1.39, 1.3343, 1.2915, 1.5727, 1.0429, 1.4479, 1.1793, 0.7623, 1.4716, 0.8906, 1.1693, 1.5125, 1.2912, 1.0386, 0.6409, 1.1488, 0.6128, 0.6523, 0.9806, -0.0117, -0.2605]}, \"token.table\": {\"Topic\": [3, 5, 4, 1, 4, 1, 3, 4, 1, 4, 1, 2, 5, 4, 5, 2, 4, 3, 2, 4, 1, 2, 3, 4, 5, 5, 1, 2, 3, 4, 1, 2, 1, 2, 4, 5, 2, 2, 2, 1, 2, 2, 3, 4, 3, 1, 2, 5, 2, 5, 1, 2, 3, 4, 1, 5, 1, 2, 4, 2, 1, 3, 3, 2, 5, 1, 1, 3, 5, 5, 1, 1, 2, 4, 5, 3, 4, 1, 2, 3, 4, 5, 1, 4, 1, 2, 2, 1, 2, 4, 5, 3, 4, 3, 4, 3, 4, 1, 2, 3, 5, 1, 5, 3, 5, 5, 2, 1, 2, 3, 4, 5, 1, 4, 1, 2, 3, 4, 5, 1, 2, 1, 2, 3, 5, 1, 1, 2, 4, 2, 3, 4, 3, 4, 3, 1, 2, 3, 4, 4, 1, 3, 4, 1, 4, 1, 2, 1, 5, 3, 5, 5, 5, 5, 5, 1, 2, 3, 5, 3, 1, 2, 3, 5, 3, 5, 1, 2, 3, 4, 2, 3, 4, 3, 4, 3, 4, 1, 2, 1, 5, 1, 3, 1, 2, 3, 5, 1, 3, 1, 3, 4, 5, 3, 1, 2, 3, 4, 5, 1, 2, 3, 4, 5, 5, 3, 1, 3, 3, 4, 5, 5, 1, 2, 3, 4, 5, 1, 2, 4, 5, 1, 2, 3, 4, 5, 1, 5, 1, 1, 2, 3, 1, 4, 2, 4, 2, 5, 5, 5, 1, 2, 3, 4, 5, 1, 2, 3, 1, 1, 2, 3, 1, 2, 3, 1, 2, 4, 3, 1, 2, 4, 5, 1, 2, 1, 2, 3, 4, 5, 1, 2, 3, 1, 3, 5, 2, 4, 4, 4, 3, 4, 5, 1, 2, 3, 4, 3, 4, 5, 3, 4, 5, 5, 1, 1, 2, 3, 4, 5, 4, 1, 2, 4, 4, 1, 2, 4, 1, 2, 3, 4, 5, 1, 2, 3, 1, 2, 3, 4, 5, 5, 1, 3, 5, 1, 2, 3, 4, 5, 1, 1, 2, 3, 4, 5, 1, 2, 3, 5, 1, 2, 3, 5, 1, 2, 3, 4, 5, 2, 1, 2, 4, 1, 2, 2, 1, 2, 5, 1, 3, 5, 5, 4, 2, 3, 3, 2, 1, 2, 3, 1, 1, 1, 2, 3, 4, 5, 1, 2, 3, 4, 5, 1, 2, 3, 1, 2, 5, 5, 2, 2, 2, 2, 4, 4, 4, 1, 2, 5, 1, 1, 2, 3, 5, 3, 1, 2, 3, 5, 1, 2, 3, 4, 1, 2, 4, 5, 1, 2, 3, 4, 5, 1, 4, 1, 3, 1, 4, 2, 3, 4, 1, 2, 3, 4, 1, 2, 3, 4, 4, 2, 3, 4, 1, 2, 3, 4, 1, 2, 5, 1, 2, 3, 4, 5, 3, 4, 5, 4, 1, 2, 3, 4, 5, 2, 2, 3, 1, 2, 3, 3, 3, 1, 2, 3, 4, 5, 2, 3, 1, 2, 3, 1, 2, 3, 4, 5, 2, 4, 4, 4, 1, 1, 3, 3, 5, 4, 1, 2, 3, 4, 5, 2, 3, 2, 1, 2, 5, 1, 2, 3, 5, 1, 4, 3, 1, 1, 4, 4, 1, 5, 5, 1, 2, 3, 2, 3, 1, 2, 3, 4, 4, 5, 3, 3, 1, 3, 1, 1, 3, 5, 1, 5, 3, 4, 2, 4, 3, 3, 4, 5, 1, 2, 3, 4, 5, 1, 2, 3, 4, 5, 1, 2, 3, 4, 5, 1, 2, 1, 2, 3, 4, 5, 1, 3, 3, 2, 1, 2, 3, 4, 1, 2, 3, 4, 4, 1, 3, 4, 2, 3, 4, 4, 1, 2, 5, 1, 4, 2, 2, 1, 2, 3, 3, 4, 4, 1, 2, 3, 4, 5, 3, 5, 1, 2, 3, 4, 5, 1, 2, 3, 1, 1, 3, 5, 5, 2, 3, 4, 5, 4, 1, 1, 3, 2, 3, 4, 1, 1, 2, 3, 5, 5, 5, 5], \"Freq\": [0.12613255356450748, 0.8724168288211767, 0.9993298473892106, 0.14620740722853368, 0.8531277576427841, 0.91231996758862, 0.015869800030179643, 0.0716076342825179, 0.9947970902695681, 0.004870487590059085, 0.08807541676749442, 0.432409735281202, 0.479489522204616, 0.0032562845060794157, 0.9964230588603012, 0.9995049428889896, 0.9985608004685649, 0.9988593144424395, 0.23929301067013303, 0.7603118042513238, 0.0627907217921689, 0.10829124482997245, 0.10601621867808227, 0.7216382953795643, 0.0013650156911341063, 0.9948821115038539, 0.0025610439256666816, 0.6379695210621265, 0.35908531673558103, 0.0004043753566842129, 0.21491902281734526, 0.7850389410859515, 0.036698926598313725, 0.08281192567184704, 0.01483913118975294, 0.8656159860689214, 0.9987162346802555, 0.9990731946633122, 0.9997146106231855, 0.12206099047562301, 0.8779406951518646, 0.9983804021759196, 0.9995100170200887, 0.0003539341420042807, 0.9998962035967575, 0.00910306551890464, 0.36048139454862377, 0.630235569425498, 0.8552574098256207, 0.14417934582558803, 0.7799916658509898, 0.09238581255794533, 0.0005986121764013736, 0.12710531878922499, 0.9976565262320998, 0.9972530806711879, 0.6664441332059261, 0.25084659559266115, 0.08267072359456817, 0.99910144480306, 0.9993547601224722, 0.99995017674852, 0.9994035691782438, 0.9664961860507891, 0.03348339201052012, 0.9978047770260225, 0.48029728917146597, 0.2011879237872296, 0.3183974871978532, 0.9974470627114923, 0.9999645044555898, 0.28584487076956544, 0.450617603293375, 0.13504200035103528, 0.12859437168706012, 0.9032337113639124, 0.09655731597641651, 0.11700282239186076, 0.11864469293661792, 0.18830691462131416, 0.009460301710267393, 0.5666017065645272, 0.4830163002711964, 0.516914297368151, 0.9986087467294686, 0.9987005413471854, 0.9993881591103547, 0.5287174792583834, 0.011469232945883517, 0.4249280008715609, 0.03497408071152134, 0.153318432281701, 0.8464822257391998, 0.5565611857894152, 0.443374118356462, 0.014037698614228579, 0.9860351204026688, 0.5121534285568071, 0.09841207060756517, 0.0011733182784806576, 0.3883683501770977, 0.27521822146948643, 0.7248041517466954, 0.017846575024030937, 0.9795786735412536, 0.9950948978421991, 0.9995175746734641, 0.15279238629036143, 0.6048120256209313, 0.12015711931572112, 0.005509850268445766, 0.1167664422274468, 0.9833754887229788, 0.015664388315941254, 0.4656065621765538, 0.22251014320137302, 0.11593714876223844, 0.15376535948017395, 0.042213013139071436, 0.41699728132385055, 0.5827371531389175, 0.5716747290863641, 0.13656595216813566, 0.0007807824708157444, 0.2909479407157942, 0.9979740358093409, 0.21260306038883567, 0.7599803710818924, 0.027457030310880436, 0.9988535945498097, 0.9467700650349585, 0.05318041109770475, 0.8977140722891487, 0.10216841108433644, 0.9985800941990557, 0.03639101468660832, 0.17472207672514428, 0.7883966411608062, 0.0002260311471217908, 0.9989849247800879, 0.9860918443863192, 0.0006244249267897159, 0.013362693433299919, 0.780796834505885, 0.21903214960367876, 0.9619889463856575, 0.03790200351613285, 0.9771977251170857, 0.022992887649813783, 0.9995837858415781, 0.9992790486000792, 0.9980964538574684, 0.9970138457040989, 0.999720195863261, 0.9970673767693778, 0.18404548333597442, 0.09268738392560234, 0.6095373722565036, 0.11371424807560862, 0.9980220617217955, 0.72637051576476, 0.1071258514665731, 0.01921723289667533, 0.1474002650904565, 0.9993310752122602, 0.994413712307976, 0.662749186008485, 0.11073003900770696, 0.016491707937318058, 0.20986151419136606, 0.9992053295758975, 0.37600684441445215, 0.6238831334848854, 0.999495147622293, 0.9989960339074516, 0.9987513794320526, 0.9978367053234677, 0.9985403201729709, 0.9989411195757086, 0.45802079499757103, 0.5419361572579563, 0.9988645082277466, 0.0010121916989303294, 0.5833753409782719, 0.19445844699275733, 0.08447409362686159, 0.1376331977537112, 0.890529232208035, 0.10932328170328819, 0.18759412581661808, 0.34226478628578094, 0.24090825701370572, 0.22927065748001307, 0.9973474892552832, 0.061200680026763044, 0.24157028982394851, 0.08619814088276485, 0.035448985438037046, 0.5755880857446624, 0.3135609531736469, 0.1841259085496415, 0.13350180117232194, 0.03141218851113457, 0.33740056052584727, 0.9924869477691738, 0.9990126390087968, 0.9918214391290961, 0.007992872465131374, 0.13058057317964794, 0.7852771282699157, 0.08394465418691653, 0.9964477003148796, 0.08473457464947254, 0.29865105897126754, 0.27412839137245376, 0.3417846796584667, 0.0004379047785502457, 0.6932935162760937, 0.1987045363824947, 0.0545306960621304, 0.053466682480430294, 0.4210739598991309, 0.2525756712346204, 0.21616217765982304, 0.0931807559638093, 0.017004414452381787, 0.8819373171116233, 0.11803538432789525, 0.9987207301761917, 0.08530003159724513, 0.9142413642986785, 0.0007290600991217532, 0.9991913263790917, 0.9987356771602507, 0.9388416496240909, 0.060748577328617645, 0.9990945580511065, 0.9991005166631891, 0.9961671887488255, 0.9976605730286382, 0.08702975962831724, 0.13064242568924925, 0.20417768326283867, 0.06238762544142292, 0.5157246654828597, 0.9994975402734544, 0.0001004823102717859, 0.0003014469308153577, 0.9993496290928222, 0.00034530370950649087, 0.07346336419750593, 0.9261908748237851, 0.07356947399887484, 0.8289778130637186, 0.09730968054583218, 0.7862629665629353, 0.16680970468840797, 0.04719923102782721, 0.9976775304426323, 0.1223828750071647, 0.7336081572783082, 0.07924566793819786, 0.06477471987991826, 0.006951881954869109, 0.9921328675591772, 0.00328206666116751, 0.1923291063444161, 0.0026256533289340084, 0.17066746638071054, 0.6308132122763955, 0.2655050810106901, 0.18563987052558312, 0.5487728258918136, 0.9994793478063448, 0.04335522304789562, 0.9557418058558323, 0.9981710576925097, 0.9974551570665425, 0.9984553202591443, 0.9994899875592657, 0.008029310522168397, 0.6708935014078482, 0.3207263480799487, 0.21863233534220586, 0.009550780964948992, 0.6400173943017626, 0.13175474945622406, 0.11283278703791315, 0.3668885462394079, 0.5201227505715416, 0.999166039941798, 0.9997220793250188, 0.9999013605052809, 0.9973326609617045, 0.9981832314740532, 0.17803761415675964, 0.42512939528197224, 0.2616542244995122, 0.09864880995493279, 0.03664098655468932, 0.9993006685814613, 0.7643150123524749, 0.0005748890653271718, 0.23512962771881327, 0.9972946596435738, 0.0009102511785152031, 0.7564187293461337, 0.24258193907430162, 0.36760281782902304, 0.038267175750270464, 0.08902570938793491, 0.4483009552920286, 0.056905074820350385, 0.004783392228318529, 0.927460968809652, 0.06774317642267322, 0.7166792795047728, 0.13044930732924645, 0.006335286448660975, 0.13880036673884502, 0.00770313238644005, 0.9984043437737636, 0.517242510415278, 0.39331196001833274, 0.0893847914896475, 0.42651617643072093, 0.20294138199974726, 0.012463135025573014, 0.13134759524173337, 0.22669057818736693, 0.9988214715263887, 0.3434281792852424, 0.36092593528602707, 0.10623637571904991, 0.11429089832258572, 0.07499038286050581, 0.13106963608923325, 0.7528255985903328, 0.11502335341011657, 0.0010497568107833326, 0.0038887355837504234, 0.013583189081269084, 0.0732834959303953, 0.909197333665592, 0.15516547750417464, 0.5481010394268996, 0.16930869804286428, 0.029106337920201848, 0.09838762113871047, 0.9990668110793794, 0.8963671432050446, 0.014985704561322727, 0.08824914908334495, 0.9980663115122007, 0.9986664532909802, 0.9986996216640084, 0.17970419186838613, 0.3120852488729804, 0.5078731205643546, 0.14326263487293, 0.6384064637339648, 0.21841429483298197, 0.9959881927206696, 0.9993106513833576, 0.8650317007630068, 0.1345202714575666, 0.9984684999869086, 0.9993224455609148, 0.014342119845016515, 0.8834574062615862, 0.10219833901538715, 0.9991069355138771, 0.9993424844394247, 0.24063246982580452, 0.20563288061431687, 0.14428065952594438, 0.30709051334032345, 0.10228115247215921, 0.4792808128530387, 0.010389318233624151, 6.534162411084372e-05, 0.1714564216668539, 0.33886166263883555, 0.1805984314715611, 0.7844958413859469, 0.03470412336748077, 0.010752546291186842, 0.9558327320123111, 0.033172749196214726, 0.9944856422169636, 0.9997664248526744, 0.9996703165723743, 0.9987066725283581, 0.997504255055618, 0.9977960334076026, 0.9993750250208856, 0.9990070559506575, 0.9714149502682462, 0.026779547277665166, 0.0015752674869214803, 0.9992446149599304, 0.249982352220929, 0.1304293581549504, 0.36366210967886275, 0.2559425997416856, 0.9986485601603055, 0.16860833183215007, 0.30518356380222744, 0.09187788332532477, 0.434309237664846, 0.3002771990611209, 0.5450708062779844, 0.105418824504089, 0.04904749519032351, 0.27891181400600723, 0.08971059645301445, 0.17797230036573797, 0.4533826240660421, 0.3425179180119718, 0.0802474006359263, 0.35878510020569004, 0.19054978101266296, 0.027877959075480047, 0.2779547602196534, 0.7215099839093638, 0.8833425587790991, 0.11639758593816683, 0.9650253095269469, 0.03498581182575034, 0.6874464082520257, 0.31209607662823524, 0.0004175198349541608, 0.06854589196283142, 0.693383300202052, 0.1834494102820286, 0.0542820069301035, 0.1413630525647396, 0.04521070600043474, 0.11254918712080056, 0.7009251356335006, 0.9997214518470867, 0.09960025129281962, 0.3555998161022019, 0.5448402935585592, 0.7877352013451305, 0.1118396147174942, 0.09953293896672748, 0.0008636263684748587, 0.28488269806854805, 0.08195139724527624, 0.6331338060937999, 0.258664741981871, 0.006451684095621724, 0.5983339620532148, 0.12903368191243447, 0.007646440409625747, 0.20171926273094298, 0.18023719557184967, 0.6179939863471514, 0.9990380403431033, 0.052464252312223104, 0.12282939758076268, 0.3244677578622897, 0.06586177597135304, 0.4344625529460708, 0.998617782657062, 0.9167742052551097, 0.08250196800866, 0.134266775818592, 0.30013855568539155, 0.5654026241451748, 0.9992984897695361, 0.9994975808954079, 0.28485087963125644, 0.1056613415486877, 0.1402517270646266, 0.09280808354276504, 0.37671387067358597, 0.9990178845221106, 0.9995813790842585, 0.20239623097712472, 0.12104934496606286, 0.6764522218691749, 0.11252530878263853, 0.4851593715351952, 0.3281045749805327, 0.04975993554207131, 0.02445587741130209, 0.9986206588358681, 0.9999380911649622, 0.9979641382666138, 0.9985539760201788, 0.9991114578223393, 0.5552927082457344, 0.44468179330242835, 0.99868463533545, 0.9967329881614595, 0.999742545074045, 0.027251780005004576, 0.04214192784279058, 0.6692138141435144, 0.18486259013704134, 0.07669830867387886, 0.05563770580950453, 0.9441202449736541, 0.9996549031467954, 0.004192962468481407, 0.004192962468481407, 0.9937321050300935, 0.20461346532471933, 0.25304312943695234, 0.321919215685937, 0.22035870280959016, 0.8538705565373547, 0.14602084505942875, 0.9993185518491414, 0.9986787350971383, 0.7812727064382171, 0.2187203544521737, 0.9990080970271538, 0.9985042178737836, 0.9997524127012449, 0.9993114692798007, 0.07898850172413537, 0.8872681015587808, 0.033543062376002686, 0.9991347058713316, 0.9988937624668073, 0.029860472192276985, 0.6270699160378167, 0.3073042295693387, 0.035503396071132474, 0.9978697000781561, 0.9999549063329667, 0.9988662941513452, 0.9983051635010582, 0.8273376241123053, 0.17255137794045236, 0.9989706693908926, 0.9990159503831632, 0.9464651181318156, 0.05323434192560248, 0.9980064830483829, 0.9943177681256596, 0.40814580046524673, 0.5916162293672651, 0.9646382306773943, 0.03484857558942162, 0.9984976573166685, 0.12231117806562727, 0.7963378313842722, 0.08088319839823739, 0.998772952215455, 0.08436474442229454, 0.09342404583676912, 0.0424654753803496, 0.7796661279832187, 0.3621345519699357, 0.24019312107548668, 0.17404776926189255, 0.18214720009621022, 0.04157707828283059, 0.37877196241323846, 0.31354836083750703, 0.18478370886478082, 0.06700512635321726, 0.05592008329330539, 0.9440184494514219, 0.05547324909147531, 0.2621161185331446, 0.07704303726925626, 0.44103424640637606, 0.12782140274217516, 0.09200594120171512, 0.9946309580055374, 0.005109405606192829, 0.9987681811845365, 0.9994063338392503, 0.3352393833290689, 0.26684261446997837, 0.37768981411748354, 0.02015403629954639, 0.001556599395122132, 0.26617849656588455, 0.6932055972943894, 0.03904470149431347, 0.9983477979994373, 0.9995836060638146, 0.3794060646264516, 0.6204507432996789, 0.07979797366279412, 0.9199301282720784, 0.9992586736630892, 0.9988904555990676, 0.22122730788109068, 0.15267378487057678, 0.6259625179693649, 0.9968842740088484, 0.0018291454568969694, 0.9989207935291771, 0.9979343587664034, 0.07422843275093598, 0.6198831567690408, 0.3058514402533464, 0.9994656371007428, 0.9996183750612155, 0.9987069934484757, 0.21362328495829422, 0.41561897339354203, 0.16801426293766264, 0.10582014200043773, 0.09689663769205328, 0.9987701565605563, 0.99930244429626, 0.4579180510179335, 0.22987723816139713, 0.17726905442803229, 0.1343831223086363, 0.0004321000717319495, 0.9199090306978754, 0.030042502449413873, 0.04994407580197918, 0.9988649528769261, 0.1611187748809172, 0.7920839150201613, 0.046534304546351865, 0.9920641317655915, 0.10610374392298268, 0.21383985313708814, 0.10447137863185986, 0.5754087651207906, 0.9983647017297138, 0.99829589757563, 0.6512731614376195, 0.34851822823654466, 0.998766767280184, 0.9999332545227998, 0.9995112793770812, 0.9994984098392878, 0.13801936934113335, 0.16378930886301735, 0.31366601233998687, 0.38449382157804846, 0.9997989570130354, 0.991892971259862, 0.9945034036903415], \"Term\": [\"absolutely_love\", \"absolutely_love\", \"access\", \"adapter\", \"adapter\", \"adjust\", \"adjust\", \"adjust\", \"adjustable\", \"adjustable\", \"amazing\", \"amazing\", \"amazing\", \"amazon_fire\", \"amazon_fire\", \"anc\", \"anker\", \"answer\", \"app\", \"app\", \"apple\", \"apple\", \"apple\", \"apple\", \"apple\", \"arrive_time\", \"audio\", \"audio\", \"audio\", \"audio\", \"audiophile\", \"audiophile\", \"awesome\", \"awesome\", \"awesome\", \"awesome\", \"background\", \"background_noise\", \"balanced\", \"bass\", \"bass\", \"bass_heavy\", \"battery\", \"battery\", \"battery_life\", \"beat\", \"beat\", \"beat\", \"beats\", \"beats\", \"big\", \"big\", \"big\", \"big\", \"big_head\", \"birthday\", \"bit\", \"bit\", \"bit\", \"blow_away\", \"blue_tooth\", \"bluetooth\", \"bluetooth_connection\", \"bose\", \"bose\", \"bounce\", \"break\", \"break\", \"break\", \"brother\", \"bud\", \"build\", \"build\", \"build\", \"build\", \"button\", \"button\", \"buy\", \"buy\", \"buy\", \"buy\", \"buy\", \"cable\", \"cable\", \"canal\", \"cancel\", \"card\", \"case\", \"case\", \"case\", \"case\", \"channel\", \"channel\", \"charge\", \"charge\", \"charger\", \"charger\", \"cheap\", \"cheap\", \"cheap\", \"cheap\", \"child\", \"child\", \"christmas\", \"christmas\", \"christmas_gift\", \"clarity\", \"clear\", \"clear\", \"clear\", \"clear\", \"clear\", \"clip\", \"clip\", \"come\", \"come\", \"come\", \"come\", \"come\", \"comfort\", \"comfort\", \"comfortable\", \"comfortable\", \"comfortable\", \"comfortable\", \"comfortably\", \"compare\", \"compare\", \"compare\", \"comparison\", \"connect\", \"connect\", \"connection\", \"connection\", \"connectivity\", \"control\", \"control\", \"control\", \"control\", \"control_volume\", \"cord\", \"cord\", \"cord\", \"cover\", \"cover\", \"cup\", \"cup\", \"cushion\", \"cushion\", \"customer_service\", \"cute\", \"dad\", \"damn\", \"daughter\", \"daughter_love\", \"day\", \"day\", \"day\", \"day\", \"dead\", \"decent\", \"decent\", \"decent\", \"decent\", \"defective\", \"delivery\", \"design\", \"design\", \"design\", \"design\", \"detail\", \"device\", \"device\", \"die\", \"digital\", \"disconnect\", \"display\", \"distance\", \"distortion\", \"durable\", \"durable\", \"earbud\", \"earbud\", \"earphone\", \"earphone\", \"earphone\", \"earphone\", \"earpiece\", \"earpiece\", \"easy\", \"easy\", \"easy\", \"easy\", \"email\", \"excellent\", \"excellent\", \"excellent\", \"excellent\", \"excellent\", \"expect\", \"expect\", \"expect\", \"expect\", \"expect\", \"fabulous\", \"fail\", \"fall\", \"fall\", \"fast\", \"fast\", \"fast\", \"fast_shipping\", \"feature\", \"feature\", \"feature\", \"feature\", \"feature\", \"feel\", \"feel\", \"feel\", \"feel\", \"find\", \"find\", \"find\", \"find\", \"find\", \"fit\", \"fit\", \"fitting\", \"flight\", \"flight\", \"flight\", \"foam\", \"freeze\", \"game\", \"game\", \"gaming\", \"gift\", \"girl\", \"grandson\", \"happy\", \"happy\", \"happy\", \"happy\", \"happy\", \"head\", \"head\", \"head\", \"headband\", \"headset\", \"headset\", \"headset\", \"hear\", \"hear\", \"hear\", \"heavy\", \"heavy\", \"heavy\", \"helpful\", \"high\", \"high\", \"high\", \"high\", \"high_end\", \"high_end\", \"highly_recommend\", \"highly_recommend\", \"highly_recommend\", \"highly_recommend\", \"highly_recommend\", \"hour\", \"hour\", \"hour\", \"hurt\", \"husband\", \"husband\", \"iem\", \"input\", \"instal\", \"interface\", \"ipad\", \"ipad\", \"ipad\", \"issue\", \"issue\", \"issue\", \"issue\", \"item\", \"item\", \"item\", \"jaybird\", \"keyboard\", \"kid\", \"kidz_gear\", \"kinda\", \"know\", \"know\", \"know\", \"know\", \"know\", \"lamp\", \"large\", \"large\", \"large\", \"led\", \"level\", \"level\", \"level\", \"light\", \"light\", \"light\", \"light\", \"light\", \"listen\", \"listen\", \"listen\", \"little\", \"little\", \"little\", \"little\", \"little\", \"logitech\", \"long\", \"long\", \"long\", \"look\", \"look\", \"look\", \"look\", \"look\", \"loop\", \"lot\", \"lot\", \"lot\", \"lot\", \"lot\", \"loud\", \"loud\", \"loud\", \"loud\", \"love\", \"love\", \"love\", \"love\", \"low\", \"low\", \"low\", \"low\", \"low\", \"low_volume\", \"material\", \"material\", \"material\", \"mediocre\", \"mid\", \"midrange\", \"money\", \"money\", \"money\", \"month\", \"month\", \"month\", \"month_later\", \"mount\", \"movie\", \"movie\", \"mpow\", \"muddy\", \"music\", \"music\", \"music\", \"mute\", \"neck\", \"need\", \"need\", \"need\", \"need\", \"need\", \"nice\", \"nice\", \"nice\", \"nice\", \"nice\", \"noise\", \"noise\", \"noise\", \"noise_cancel\", \"noise_cancel\", \"noise_cancel\", \"noise_cancelation\", \"noise_cancellation\", \"noise_cancelling\", \"noise_reduction\", \"oontz\", \"operate\", \"outlet\", \"output\", \"pad\", \"pad\", \"pad\", \"padding\", \"pair\", \"pair\", \"pair\", \"pair\", \"pause\", \"pay\", \"pay\", \"pay\", \"pay\", \"people\", \"people\", \"people\", \"people\", \"perfect\", \"perfect\", \"perfect\", \"perfect\", \"phone\", \"phone\", \"phone\", \"phone\", \"phone\", \"picture\", \"picture\", \"piece\", \"piece\", \"plastic\", \"plastic\", \"play\", \"play\", \"play\", \"player\", \"player\", \"player\", \"player\", \"plug\", \"plug\", \"plug\", \"plug\", \"port\", \"power\", \"power\", \"power\", \"pretty\", \"pretty\", \"pretty\", \"pretty\", \"price\", \"price\", \"price\", \"problem\", \"problem\", \"problem\", \"problem\", \"problem\", \"product\", \"product\", \"product\", \"projector\", \"purchase\", \"purchase\", \"purchase\", \"purchase\", \"purchase\", \"qc\", \"quiet\", \"quiet\", \"range\", \"range\", \"range\", \"reception\", \"recharge\", \"recommend\", \"recommend\", \"recommend\", \"recommend\", \"recommend\", \"regular\", \"remote\", \"return\", \"return\", \"return\", \"review\", \"review\", \"review\", \"review\", \"review\", \"rich\", \"roku\", \"roku_roku\", \"rokus\", \"rubber\", \"run\", \"run\", \"samsung\", \"school\", \"screen\", \"second\", \"second\", \"second\", \"second\", \"second\", \"send\", \"send\", \"sennheiser\", \"sentey\", \"sentey\", \"sentey\", \"set\", \"set\", \"set\", \"set\", \"size\", \"size\", \"skip\", \"slip\", \"small\", \"small\", \"smart\", \"snug\", \"son\", \"son_love\", \"song\", \"song\", \"song\", \"sonys\", \"soundpeats\", \"speaker\", \"speaker\", \"speaker\", \"speaker\", \"speed\", \"star\", \"stars\", \"static\", \"stay\", \"stay\", \"stay_place\", \"stiff\", \"stop\", \"stop\", \"stretch\", \"super_fast\", \"support\", \"support\", \"surround\", \"surround\", \"sync\", \"tablet\", \"tablet\", \"tablet\", \"tangle\", \"thank\", \"thank\", \"thank\", \"thank\", \"thing\", \"thing\", \"thing\", \"thing\", \"thing\", \"think\", \"think\", \"think\", \"think\", \"think\", \"tight\", \"tight\", \"time\", \"time\", \"time\", \"time\", \"time\", \"tip\", \"tip\", \"transmitter\", \"treble\", \"try\", \"try\", \"try\", \"try\", \"turn\", \"turn\", \"turn\", \"turn\", \"tv\", \"uncomfortable\", \"unit\", \"unit\", \"update\", \"update\", \"usb\", \"usb_port\", \"value\", \"value\", \"value\", \"vibration\", \"vibration\", \"vmoda\", \"vocal\", \"volume\", \"volume\", \"volume\", \"volume_button\", \"wall\", \"wall_charger\", \"want\", \"want\", \"want\", \"want\", \"want\", \"warranty\", \"waste_money\", \"way\", \"way\", \"way\", \"way\", \"way\", \"wear\", \"wear\", \"wear\", \"wear_hour\", \"week\", \"week\", \"week\", \"weekend\", \"wife\", \"wife\", \"wife\", \"wife\", \"wifi\", \"wing\", \"wire\", \"wire\", \"wired\", \"wireless\", \"works\", \"wrap\", \"year\", \"year\", \"year\", \"year\", \"year_old\", \"year_old_daughter\", \"year_old_son\"]}, \"R\": 30, \"lambda.step\": 0.01, \"plot.opts\": {\"xlab\": \"PC1\", \"ylab\": \"PC2\"}, \"topic.order\": [1, 4, 3, 2, 5]};\n",
       "\n",
       "function LDAvis_load_lib(url, callback){\n",
       "  var s = document.createElement('script');\n",
       "  s.src = url;\n",
       "  s.async = true;\n",
       "  s.onreadystatechange = s.onload = callback;\n",
       "  s.onerror = function(){console.warn(\"failed to load library \" + url);};\n",
       "  document.getElementsByTagName(\"head\")[0].appendChild(s);\n",
       "}\n",
       "\n",
       "if(typeof(LDAvis) !== \"undefined\"){\n",
       "   // already loaded: just create the visualization\n",
       "   !function(LDAvis){\n",
       "       new LDAvis(\"#\" + \"ldavis_el259617530275596006661997179\", ldavis_el259617530275596006661997179_data);\n",
       "   }(LDAvis);\n",
       "}else if(typeof define === \"function\" && define.amd){\n",
       "   // require.js is available: use it to load d3/LDAvis\n",
       "   require.config({paths: {d3: \"https://d3js.org/d3.v5\"}});\n",
       "   require([\"d3\"], function(d3){\n",
       "      window.d3 = d3;\n",
       "      LDAvis_load_lib(\"https://cdn.jsdelivr.net/gh/bmabey/pyLDAvis@3.3.1/pyLDAvis/js/ldavis.v3.0.0.js\", function(){\n",
       "        new LDAvis(\"#\" + \"ldavis_el259617530275596006661997179\", ldavis_el259617530275596006661997179_data);\n",
       "      });\n",
       "    });\n",
       "}else{\n",
       "    // require.js not available: dynamically load d3 & LDAvis\n",
       "    LDAvis_load_lib(\"https://d3js.org/d3.v5.js\", function(){\n",
       "         LDAvis_load_lib(\"https://cdn.jsdelivr.net/gh/bmabey/pyLDAvis@3.3.1/pyLDAvis/js/ldavis.v3.0.0.js\", function(){\n",
       "                 new LDAvis(\"#\" + \"ldavis_el259617530275596006661997179\", ldavis_el259617530275596006661997179_data);\n",
       "            })\n",
       "         });\n",
       "}\n",
       "</script>"
      ],
      "text/plain": [
       "PreparedData(topic_coordinates=              x         y  topics  cluster       Freq\n",
       "topic                                                \n",
       "0     -0.019609  0.026543       1        1  27.322787\n",
       "3     -0.019668 -0.159383       2        1  24.610094\n",
       "2     -0.068535 -0.142387       3        1  20.827427\n",
       "1     -0.190361  0.193309       4        1  15.298443\n",
       "4      0.298173  0.081918       5        1  11.941249, topic_info=        Term          Freq         Total Category  logprob  loglift\n",
       "198     star  20922.000000  20922.000000  Default  30.0000  30.0000\n",
       "94      love  18257.000000  18257.000000  Default  29.0000  29.0000\n",
       "162    price  23623.000000  23623.000000  Default  28.0000  28.0000\n",
       "16       buy  25580.000000  25580.000000  Default  27.0000  27.0000\n",
       "11202   roku  13213.000000  13213.000000  Default  26.0000  26.0000\n",
       "...      ...           ...           ...      ...      ...      ...\n",
       "399      set   2953.474483  13400.877580   Topic5  -4.6876   0.6128\n",
       "26      easy   2305.013633  10053.619706   Topic5  -4.9355   0.6523\n",
       "264    break   1944.791590   6108.716551   Topic5  -5.1054   0.9806\n",
       "145      fit   2127.790421  18028.492152   Topic5  -5.0155  -0.0117\n",
       "170     time   1734.360625  18846.609005   Topic5  -5.2199  -0.2605\n",
       "\n",
       "[373 rows x 6 columns], token_table=      Topic      Freq               Term\n",
       "term                                    \n",
       "1586      3  0.126133    absolutely_love\n",
       "1586      5  0.872417    absolutely_love\n",
       "3905      4  0.999330             access\n",
       "1945      1  0.146207            adapter\n",
       "1945      4  0.853128            adapter\n",
       "...     ...       ...                ...\n",
       "75        3  0.313666               year\n",
       "75        5  0.384494               year\n",
       "1761      5  0.999799           year_old\n",
       "9343      5  0.991893  year_old_daughter\n",
       "5639      5  0.994503       year_old_son\n",
       "\n",
       "[646 rows x 3 columns], R=30, lambda_step=0.01, plot_opts={'xlab': 'PC1', 'ylab': 'PC2'}, topic_order=[1, 4, 3, 2, 5])"
      ]
     },
     "execution_count": 220,
     "metadata": {},
     "output_type": "execute_result"
    }
   ],
   "source": [
    "pyLDAvis.enable_notebook()\n",
    "vis = pyLDAvis.gensim_models.prepare(lda_model, corpus, id2word)\n",
    "vis"
   ]
  },
  {
   "cell_type": "code",
   "execution_count": null,
   "metadata": {},
   "outputs": [],
   "source": []
  },
  {
   "cell_type": "code",
   "execution_count": 221,
   "metadata": {},
   "outputs": [],
   "source": [
    "def compute_coherence_values(dictionary, corpus, texts, limit, start=2, step=3):\n",
    "    \"\"\"\n",
    "    Compute c_v coherence for various number of topics\n",
    "\n",
    "    Parameters:\n",
    "    ----------\n",
    "    dictionary : Gensim dictionary\n",
    "    corpus : Gensim corpus\n",
    "    texts : List of input texts\n",
    "    limit : Max num of topics\n",
    "\n",
    "    Returns:\n",
    "    -------\n",
    "    model_list : List of LDA topic models\n",
    "    coherence_values : Coherence values corresponding to the LDA model with respective number of topics\n",
    "    \"\"\"\n",
    "    coherence_values = []\n",
    "    model_list = []\n",
    "    for num_topics in range(start, limit, step):\n",
    "        model = LdaMulticore(corpus=corpus, \n",
    "                             num_topics=num_topics, \n",
    "                             id2word=id2word, \n",
    "                             passes = 10,\n",
    "                             random_state = 100,\n",
    "                             workers = 4,\n",
    "                             chunksize = 100,\n",
    "                             alpha = 'symmetric')\n",
    "        model_list.append(model)\n",
    "        coherencemodel = CoherenceModel(model=model, texts=texts, dictionary=dictionary, coherence='c_v')\n",
    "        coherence_values.append(coherencemodel.get_coherence())\n",
    "\n",
    "    return model_list, coherence_values"
   ]
  },
  {
   "cell_type": "code",
   "execution_count": null,
   "metadata": {},
   "outputs": [],
   "source": []
  },
  {
   "cell_type": "code",
   "execution_count": 222,
   "metadata": {},
   "outputs": [],
   "source": [
    "model_list, coherence_values = compute_coherence_values(dictionary=id2word,\n",
    "                                                        corpus=corpus, \n",
    "                                                        texts=trigram_docs, \n",
    "                                                        start=2, limit=26, step=3)"
   ]
  },
  {
   "cell_type": "code",
   "execution_count": 223,
   "metadata": {},
   "outputs": [
    {
     "data": {
      "image/png": "[encoded data removed]",
      "text/plain": [
       "<Figure size 432x288 with 1 Axes>"
      ]
     },
     "metadata": {
      "needs_background": "light"
     },
     "output_type": "display_data"
    }
   ],
   "source": [
    "# Show graph\n",
    "limit=26; start=2; step=3;\n",
    "x = range(start, limit, step)\n",
    "plt.plot(x, coherence_values)\n",
    "plt.xlabel(\"Num Topics\")\n",
    "plt.ylabel(\"Coherence score\")\n",
    "plt.legend((\"coherence_values\"), loc='best')\n",
    "plt.show()"
   ]
  },
  {
   "cell_type": "code",
   "execution_count": 161,
   "metadata": {},
   "outputs": [
    {
     "name": "stdout",
     "output_type": "stream",
     "text": [
      "Num Topics = 2  has Coherence Value of 0.4687\n",
      "Num Topics = 5  has Coherence Value of 0.5212\n",
      "Num Topics = 8  has Coherence Value of 0.4554\n",
      "Num Topics = 11  has Coherence Value of 0.5136\n",
      "Num Topics = 14  has Coherence Value of 0.4653\n",
      "Num Topics = 17  has Coherence Value of 0.4515\n",
      "Num Topics = 20  has Coherence Value of 0.4137\n",
      "Num Topics = 23  has Coherence Value of 0.4333\n"
     ]
    }
   ],
   "source": [
    "# Print the coherence scores\n",
    "for m, cv in zip(x, coherence_values):\n",
    "    print(\"Num Topics =\", m, \" has Coherence Value of\", round(cv, 4))"
   ]
  },
  {
   "cell_type": "code",
   "execution_count": 64,
   "metadata": {},
   "outputs": [
    {
     "name": "stdout",
     "output_type": "stream",
     "text": [
      "[(0, '0.026*\"picture\" + 0.024*\"camera\" + 0.015*\"lens\" + 0.014*\"use\" + 0.013*\"love\" + 0.012*\"great\" + 0.012*\"image\" + 0.012*\"light\" + 0.011*\"photo\" + 0.011*\"quality\"'), (1, '0.023*\"work\" + 0.021*\"buy\" + 0.014*\"get\" + 0.013*\"time\" + 0.012*\"try\" + 0.012*\"review\" + 0.012*\"product\" + 0.011*\"go\" + 0.011*\"day\" + 0.011*\"send\"'), (2, '0.058*\"camera\" + 0.016*\"work\" + 0.014*\"app\" + 0.014*\"system\" + 0.014*\"set\" + 0.012*\"easy\" + 0.012*\"video\" + 0.011*\"use\" + 0.010*\"setup\" + 0.010*\"phone\"'), (3, '0.143*\"great\" + 0.094*\"work\" + 0.086*\"good\" + 0.063*\"price\" + 0.054*\"product\" + 0.048*\"quality\" + 0.022*\"excellent\" + 0.017*\"buy\" + 0.016*\"easy\" + 0.014*\"nice\"'), (4, '0.039*\"camera\" + 0.031*\"fit\" + 0.027*\"case\" + 0.020*\"bag\" + 0.019*\"lens\" + 0.017*\"small\" + 0.017*\"love\" + 0.017*\"hold\" + 0.016*\"battery\" + 0.014*\"canon\"')]\n"
     ]
    }
   ],
   "source": [
    "optimal_model = model_list[1]\n",
    "model_topics = optimal_model.show_topics(formatted=False)\n",
    "print(optimal_model.print_topics(num_words=10))"
   ]
  },
  {
   "cell_type": "code",
   "execution_count": 65,
   "metadata": {},
   "outputs": [],
   "source": [
    "lda_model = model_list[1]"
   ]
  },
  {
   "cell_type": "code",
   "execution_count": 53,
   "metadata": {},
   "outputs": [],
   "source": [
    "data_df = data_df.reset_index(drop = True)"
   ]
  },
  {
   "cell_type": "code",
   "execution_count": 165,
   "metadata": {},
   "outputs": [],
   "source": [
    "data = data_df.reviews"
   ]
  },
  {
   "cell_type": "code",
   "execution_count": 166,
   "metadata": {},
   "outputs": [],
   "source": [
    "def format_topics_sentences(ldamodel=lda_model, corpus=corpus, texts=data):\n",
    "    # Init output\n",
    "    sent_topics_df = pd.DataFrame()\n",
    "\n",
    "    # Get main topic in each document\n",
    "    for i, row in enumerate(ldamodel[corpus]):\n",
    "        row = sorted(row, key=lambda x: (x[1]), reverse=True)\n",
    "        # Get the Dominant topic, Perc Contribution and Keywords for each document\n",
    "        for j, (topic_num, prop_topic) in enumerate(row):\n",
    "            if j == 0:  # => dominant topic\n",
    "                wp = ldamodel.show_topic(topic_num)\n",
    "                topic_keywords = \", \".join([word for word, prop in wp])\n",
    "                sent_topics_df = sent_topics_df.append(pd.Series([int(topic_num), round(prop_topic,4), topic_keywords]), ignore_index=True)\n",
    "            else:\n",
    "                break\n",
    "    sent_topics_df.columns = ['Dominant_Topic', 'Perc_Contribution', 'Topic_Keywords']\n",
    "\n",
    "    # Add original text to the end of the output\n",
    "    contents = pd.Series(texts)\n",
    "    sent_topics_df = pd.concat([sent_topics_df, contents], axis=1)\n",
    "    return(sent_topics_df)"
   ]
  },
  {
   "cell_type": "code",
   "execution_count": 227,
   "metadata": {},
   "outputs": [],
   "source": [
    "df_topic_sents_keywords = format_topics_sentences(ldamodel=lda_model, corpus=corpus, texts=data)"
   ]
  },
  {
   "cell_type": "code",
   "execution_count": 228,
   "metadata": {},
   "outputs": [],
   "source": [
    "df_dominant_topic = df_topic_sents_keywords.reset_index()\n",
    "df_dominant_topic.columns = ['Document_No', 'Dominant_Topic', 'Topic_Perc_Contrib', 'Keywords', 'Text']"
   ]
  },
  {
   "cell_type": "code",
   "execution_count": 229,
   "metadata": {},
   "outputs": [
    {
     "data": {
      "text/html": [
       "<div>\n",
       "<style scoped>\n",
       "    .dataframe tbody tr th:only-of-type {\n",
       "        vertical-align: middle;\n",
       "    }\n",
       "\n",
       "    .dataframe tbody tr th {\n",
       "        vertical-align: top;\n",
       "    }\n",
       "\n",
       "    .dataframe thead th {\n",
       "        text-align: right;\n",
       "    }\n",
       "</style>\n",
       "<table border=\"1\" class=\"dataframe\">\n",
       "  <thead>\n",
       "    <tr style=\"text-align: right;\">\n",
       "      <th></th>\n",
       "      <th>Document_No</th>\n",
       "      <th>Dominant_Topic</th>\n",
       "      <th>Topic_Perc_Contrib</th>\n",
       "      <th>Keywords</th>\n",
       "      <th>Text</th>\n",
       "    </tr>\n",
       "  </thead>\n",
       "  <tbody>\n",
       "    <tr>\n",
       "      <th>0</th>\n",
       "      <td>0</td>\n",
       "      <td>0.0</td>\n",
       "      <td>0.7530</td>\n",
       "      <td>fit, earbud, little, head, bud, comfortable, c...</td>\n",
       "      <td>Get the SportaPros instead.  They look better,...</td>\n",
       "    </tr>\n",
       "    <tr>\n",
       "      <th>1</th>\n",
       "      <td>1</td>\n",
       "      <td>0.0</td>\n",
       "      <td>0.5995</td>\n",
       "      <td>fit, earbud, little, head, bud, comfortable, c...</td>\n",
       "      <td>I've been looking for a lighter alternative to...</td>\n",
       "    </tr>\n",
       "    <tr>\n",
       "      <th>2</th>\n",
       "      <td>2</td>\n",
       "      <td>3.0</td>\n",
       "      <td>0.6554</td>\n",
       "      <td>bass, music, bose, hear, listen, high, loud, a...</td>\n",
       "      <td>The finest headphones available. You can spend...</td>\n",
       "    </tr>\n",
       "    <tr>\n",
       "      <th>3</th>\n",
       "      <td>3</td>\n",
       "      <td>2.0</td>\n",
       "      <td>0.3708</td>\n",
       "      <td>bluetooth, headset, pair, time, charge, connec...</td>\n",
       "      <td>3rd pair of these I've purchased.  My wife has...</td>\n",
       "    </tr>\n",
       "    <tr>\n",
       "      <th>4</th>\n",
       "      <td>4</td>\n",
       "      <td>0.0</td>\n",
       "      <td>0.5470</td>\n",
       "      <td>fit, earbud, little, head, bud, comfortable, c...</td>\n",
       "      <td>My old Koss Porta Pros finally got beat to dea...</td>\n",
       "    </tr>\n",
       "    <tr>\n",
       "      <th>5</th>\n",
       "      <td>5</td>\n",
       "      <td>0.0</td>\n",
       "      <td>0.6517</td>\n",
       "      <td>fit, earbud, little, head, bud, comfortable, c...</td>\n",
       "      <td>I'm not sure what it would take for these to e...</td>\n",
       "    </tr>\n",
       "    <tr>\n",
       "      <th>6</th>\n",
       "      <td>6</td>\n",
       "      <td>3.0</td>\n",
       "      <td>0.7169</td>\n",
       "      <td>bass, music, bose, hear, listen, high, loud, a...</td>\n",
       "      <td>Excellent phones! Fidelity is superb, with an ...</td>\n",
       "    </tr>\n",
       "    <tr>\n",
       "      <th>7</th>\n",
       "      <td>7</td>\n",
       "      <td>4.0</td>\n",
       "      <td>0.5386</td>\n",
       "      <td>star, love, price, buy, product, pair, awesome...</td>\n",
       "      <td>I bought a pair of these about 7 years ago and...</td>\n",
       "    </tr>\n",
       "    <tr>\n",
       "      <th>8</th>\n",
       "      <td>8</td>\n",
       "      <td>3.0</td>\n",
       "      <td>0.7172</td>\n",
       "      <td>bass, music, bose, hear, listen, high, loud, a...</td>\n",
       "      <td>Best Headphones for the Cost AND better then t...</td>\n",
       "    </tr>\n",
       "    <tr>\n",
       "      <th>9</th>\n",
       "      <td>9</td>\n",
       "      <td>3.0</td>\n",
       "      <td>0.7252</td>\n",
       "      <td>bass, music, bose, hear, listen, high, loud, a...</td>\n",
       "      <td>I have a dozen headphones, quite of a few of t...</td>\n",
       "    </tr>\n",
       "  </tbody>\n",
       "</table>\n",
       "</div>"
      ],
      "text/plain": [
       "   Document_No  Dominant_Topic  Topic_Perc_Contrib  \\\n",
       "0            0             0.0              0.7530   \n",
       "1            1             0.0              0.5995   \n",
       "2            2             3.0              0.6554   \n",
       "3            3             2.0              0.3708   \n",
       "4            4             0.0              0.5470   \n",
       "5            5             0.0              0.6517   \n",
       "6            6             3.0              0.7169   \n",
       "7            7             4.0              0.5386   \n",
       "8            8             3.0              0.7172   \n",
       "9            9             3.0              0.7252   \n",
       "\n",
       "                                            Keywords  \\\n",
       "0  fit, earbud, little, head, bud, comfortable, c...   \n",
       "1  fit, earbud, little, head, bud, comfortable, c...   \n",
       "2  bass, music, bose, hear, listen, high, loud, a...   \n",
       "3  bluetooth, headset, pair, time, charge, connec...   \n",
       "4  fit, earbud, little, head, bud, comfortable, c...   \n",
       "5  fit, earbud, little, head, bud, comfortable, c...   \n",
       "6  bass, music, bose, hear, listen, high, loud, a...   \n",
       "7  star, love, price, buy, product, pair, awesome...   \n",
       "8  bass, music, bose, hear, listen, high, loud, a...   \n",
       "9  bass, music, bose, hear, listen, high, loud, a...   \n",
       "\n",
       "                                                Text  \n",
       "0  Get the SportaPros instead.  They look better,...  \n",
       "1  I've been looking for a lighter alternative to...  \n",
       "2  The finest headphones available. You can spend...  \n",
       "3  3rd pair of these I've purchased.  My wife has...  \n",
       "4  My old Koss Porta Pros finally got beat to dea...  \n",
       "5  I'm not sure what it would take for these to e...  \n",
       "6  Excellent phones! Fidelity is superb, with an ...  \n",
       "7  I bought a pair of these about 7 years ago and...  \n",
       "8  Best Headphones for the Cost AND better then t...  \n",
       "9  I have a dozen headphones, quite of a few of t...  "
      ]
     },
     "execution_count": 229,
     "metadata": {},
     "output_type": "execute_result"
    }
   ],
   "source": [
    "df_dominant_topic.head(10)"
   ]
  },
  {
   "cell_type": "code",
   "execution_count": null,
   "metadata": {},
   "outputs": [],
   "source": []
  },
  {
   "cell_type": "code",
   "execution_count": 230,
   "metadata": {},
   "outputs": [
    {
     "data": {
      "text/plain": [
       "4.0    27342\n",
       "0.0    27297\n",
       "2.0    18740\n",
       "3.0    18543\n",
       "1.0    13907\n",
       "Name: Dominant_Topic, dtype: int64"
      ]
     },
     "execution_count": 230,
     "metadata": {},
     "output_type": "execute_result"
    }
   ],
   "source": [
    "df_dominant_topic.Dominant_Topic.value_counts()"
   ]
  },
  {
   "cell_type": "code",
   "execution_count": 171,
   "metadata": {},
   "outputs": [
    {
     "data": {
      "text/plain": [
       "buy, love, price, pair, product, comfortable, set, purchase, look, nice           30499\n",
       "fit, earbud, head, run, phone, little, stay, small, bud, cord                     26555\n",
       "bass, music, hear, bose, listen, high, loud, comfortable, price, noise_cancel     21174\n",
       "charge, bluetooth, headset, device, phone, connect, time, roku, turn, wireless    17977\n",
       "pair, product, try, review, return, battery, issue, update, time, buy             12323\n",
       "Name: Keywords, dtype: int64"
      ]
     },
     "execution_count": 171,
     "metadata": {},
     "output_type": "execute_result"
    }
   ],
   "source": [
    "df_dominant_topic.Keywords.value_counts()"
   ]
  },
  {
   "cell_type": "code",
   "execution_count": null,
   "metadata": {},
   "outputs": [],
   "source": []
  },
  {
   "cell_type": "code",
   "execution_count": null,
   "metadata": {},
   "outputs": [],
   "source": []
  },
  {
   "cell_type": "code",
   "execution_count": null,
   "metadata": {},
   "outputs": [],
   "source": []
  },
  {
   "cell_type": "code",
   "execution_count": 78,
   "metadata": {},
   "outputs": [
    {
     "data": {
      "text/html": [
       "<div>\n",
       "<style scoped>\n",
       "    .dataframe tbody tr th:only-of-type {\n",
       "        vertical-align: middle;\n",
       "    }\n",
       "\n",
       "    .dataframe tbody tr th {\n",
       "        vertical-align: top;\n",
       "    }\n",
       "\n",
       "    .dataframe thead th {\n",
       "        text-align: right;\n",
       "    }\n",
       "</style>\n",
       "<table border=\"1\" class=\"dataframe\">\n",
       "  <thead>\n",
       "    <tr style=\"text-align: right;\">\n",
       "      <th></th>\n",
       "      <th>Dominant_Topic</th>\n",
       "      <th>Topic_Keywords</th>\n",
       "      <th>Num_Documents</th>\n",
       "      <th>Perc_Documents</th>\n",
       "    </tr>\n",
       "  </thead>\n",
       "  <tbody>\n",
       "    <tr>\n",
       "      <th>0.0</th>\n",
       "      <td>1.0</td>\n",
       "      <td>feature, quality, good, great, frame, nice, re...</td>\n",
       "      <td>22341.0</td>\n",
       "      <td>0.1725</td>\n",
       "    </tr>\n",
       "    <tr>\n",
       "      <th>1.0</th>\n",
       "      <td>1.0</td>\n",
       "      <td>feature, quality, good, great, frame, nice, re...</td>\n",
       "      <td>41072.0</td>\n",
       "      <td>0.3172</td>\n",
       "    </tr>\n",
       "    <tr>\n",
       "      <th>2.0</th>\n",
       "      <td>1.0</td>\n",
       "      <td>feature, quality, good, great, frame, nice, re...</td>\n",
       "      <td>24790.0</td>\n",
       "      <td>0.1914</td>\n",
       "    </tr>\n",
       "    <tr>\n",
       "      <th>3.0</th>\n",
       "      <td>2.0</td>\n",
       "      <td>phone, connect, like, time, buy, try, go, get,...</td>\n",
       "      <td>28707.0</td>\n",
       "      <td>0.2217</td>\n",
       "    </tr>\n",
       "    <tr>\n",
       "      <th>4.0</th>\n",
       "      <td>0.0</td>\n",
       "      <td>work, great, good, product, quality, price, bu...</td>\n",
       "      <td>12587.0</td>\n",
       "      <td>0.0972</td>\n",
       "    </tr>\n",
       "    <tr>\n",
       "      <th>...</th>\n",
       "      <td>...</td>\n",
       "      <td>...</td>\n",
       "      <td>...</td>\n",
       "      <td>...</td>\n",
       "    </tr>\n",
       "    <tr>\n",
       "      <th>129492.0</th>\n",
       "      <td>3.0</td>\n",
       "      <td>camera, app, set, easy, video, work, setup, us...</td>\n",
       "      <td>NaN</td>\n",
       "      <td>NaN</td>\n",
       "    </tr>\n",
       "    <tr>\n",
       "      <th>129493.0</th>\n",
       "      <td>0.0</td>\n",
       "      <td>work, great, good, product, quality, price, bu...</td>\n",
       "      <td>NaN</td>\n",
       "      <td>NaN</td>\n",
       "    </tr>\n",
       "    <tr>\n",
       "      <th>129494.0</th>\n",
       "      <td>3.0</td>\n",
       "      <td>camera, app, set, easy, video, work, setup, us...</td>\n",
       "      <td>NaN</td>\n",
       "      <td>NaN</td>\n",
       "    </tr>\n",
       "    <tr>\n",
       "      <th>129495.0</th>\n",
       "      <td>3.0</td>\n",
       "      <td>camera, app, set, easy, video, work, setup, us...</td>\n",
       "      <td>NaN</td>\n",
       "      <td>NaN</td>\n",
       "    </tr>\n",
       "    <tr>\n",
       "      <th>129496.0</th>\n",
       "      <td>3.0</td>\n",
       "      <td>camera, app, set, easy, video, work, setup, us...</td>\n",
       "      <td>NaN</td>\n",
       "      <td>NaN</td>\n",
       "    </tr>\n",
       "  </tbody>\n",
       "</table>\n",
       "<p>129497 rows × 4 columns</p>\n",
       "</div>"
      ],
      "text/plain": [
       "          Dominant_Topic                                     Topic_Keywords  \\\n",
       "0.0                  1.0  feature, quality, good, great, frame, nice, re...   \n",
       "1.0                  1.0  feature, quality, good, great, frame, nice, re...   \n",
       "2.0                  1.0  feature, quality, good, great, frame, nice, re...   \n",
       "3.0                  2.0  phone, connect, like, time, buy, try, go, get,...   \n",
       "4.0                  0.0  work, great, good, product, quality, price, bu...   \n",
       "...                  ...                                                ...   \n",
       "129492.0             3.0  camera, app, set, easy, video, work, setup, us...   \n",
       "129493.0             0.0  work, great, good, product, quality, price, bu...   \n",
       "129494.0             3.0  camera, app, set, easy, video, work, setup, us...   \n",
       "129495.0             3.0  camera, app, set, easy, video, work, setup, us...   \n",
       "129496.0             3.0  camera, app, set, easy, video, work, setup, us...   \n",
       "\n",
       "          Num_Documents  Perc_Documents  \n",
       "0.0             22341.0          0.1725  \n",
       "1.0             41072.0          0.3172  \n",
       "2.0             24790.0          0.1914  \n",
       "3.0             28707.0          0.2217  \n",
       "4.0             12587.0          0.0972  \n",
       "...                 ...             ...  \n",
       "129492.0            NaN             NaN  \n",
       "129493.0            NaN             NaN  \n",
       "129494.0            NaN             NaN  \n",
       "129495.0            NaN             NaN  \n",
       "129496.0            NaN             NaN  \n",
       "\n",
       "[129497 rows x 4 columns]"
      ]
     },
     "execution_count": 78,
     "metadata": {},
     "output_type": "execute_result"
    }
   ],
   "source": [
    "# Number of Documents for Each Topic\n",
    "topic_counts = df_topic_sents_keywords['Dominant_Topic'].value_counts()\n",
    "\n",
    "# Percentage of Documents for Each Topic\n",
    "topic_contribution = round(topic_counts/topic_counts.sum(), 4)\n",
    "\n",
    "# Topic Number and Keywords\n",
    "topic_num_keywords = df_topic_sents_keywords[['Dominant_Topic', 'Topic_Keywords']]\n",
    "\n",
    "# Concatenate Column wise\n",
    "df_dominant_topics = pd.concat([topic_num_keywords, topic_counts, topic_contribution], axis=1)\n",
    "\n",
    "# Change Column names\n",
    "df_dominant_topics.columns = ['Dominant_Topic', 'Topic_Keywords', 'Num_Documents', 'Perc_Documents']\n",
    "\n",
    "# Show\n",
    "df_dominant_topics"
   ]
  },
  {
   "cell_type": "code",
   "execution_count": null,
   "metadata": {},
   "outputs": [],
   "source": []
  }
 ],
 "metadata": {
  "kernelspec": {
   "display_name": "Python (learn-env)",
   "language": "python",
   "name": "learn-env"
  },
  "language_info": {
   "codemirror_mode": {
    "name": "ipython",
    "version": 3
   },
   "file_extension": ".py",
   "mimetype": "text/x-python",
   "name": "python",
   "nbconvert_exporter": "python",
   "pygments_lexer": "ipython3",
   "version": "3.8.5"
  }
 },
 "nbformat": 4,
 "nbformat_minor": 4
}
