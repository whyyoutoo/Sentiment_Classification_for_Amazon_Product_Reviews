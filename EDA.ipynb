{
 "cells": [
  {
   "cell_type": "markdown",
   "metadata": {},
   "source": [
    "# Overview\n",
    "\n",
    "The growth of e-commerce has been one of the most significant trends in business over the past decade. Advances in mobile technology, logistics, and delivery has contributed to this explosion in growth. Product reviews are an essential component of e-commerce, and they play a significant role in shaping consumer behavior. There are now many platforms ranging from social media to online marketplaces that allow customers to easily provide feedback for products. Companies can use sentiment classification to analyze customer feedback and identify areas where customers are dissatisfied or delighted with their products or services. This can help businesses improve their products and customer service, and ultimately increase customer satisfaction and loyalty."
   ]
  },
  {
   "cell_type": "markdown",
   "metadata": {},
   "source": [
    "# Buisness Problem\n",
    "\n",
    "Product reviews can provide businesses with a better understanding of customer feedback and preferences. By analyzing product reviews, businesses can gain insights into what customers like and dislike about their products, identify areas for improvement, and develop strategies to enhance customer satisfaction and loyalty.\n"
   ]
  },
  {
   "cell_type": "markdown",
   "metadata": {},
   "source": [
    "# Methodology\n",
    "\n",
    "Due to the massive amounts of reviews avaliable, it is too time consuming to examine each and every data. Topic modeling and sentiment analysis are two powerful techniques used in natural language processing and machine learning to analyze text data and gain insights into customer feedback and preferences.\n",
    "\n",
    "Topic modeling will be used to automatically identify the key topics and themes in product reviews. This helps businesses gain a better understanding of their customers' needs and preferences by uncovering hidden patterns and insights.\n",
    "\n",
    "Sentiment analysis will be used to determine the overall sentiment of product reviews, identifing whether the sentiment is positive or negative. This can provide businesses with valuable insights into customer satisfaction and loyalty.\n",
    "\n",
    "Together, these techniques can help businesses to analyze large volumes of customer feedback, identify key themes and topics, and determine the overall sentiment of that feedback."
   ]
  },
  {
   "cell_type": "markdown",
   "metadata": {},
   "source": [
    "# Data Understanding\n",
    "\n",
    "Data for this project was obtained from https://cseweb.ucsd.edu/~jmcauley/datasets/amazon_v2/ which includes a large-scale collection of customer reviews of products sold on Amazon.Each review includes the review text, as well as additional metadata such as the product ID, reviewer ID, rating, and helpfulness votes.\n",
    "\n",
    "Original dataset contained around 6.7 million reviews of products from the electronics category. For the purpose of this project i have subsetted dataset to include only headphone and earphone products with 500 or more reviews. Resulting in a collection of 108,859 reviews from June, 2000 to September 2018. "
   ]
  },
  {
   "cell_type": "markdown",
   "metadata": {},
   "source": [
    "# Data Preperation"
   ]
  },
  {
   "cell_type": "code",
   "execution_count": 1,
   "metadata": {},
   "outputs": [
    {
     "name": "stderr",
     "output_type": "stream",
     "text": [
      "C:\\Users\\PC\\anaconda3\\envs\\learn-env\\lib\\site-packages\\sklearn\\decomposition\\_lda.py:28: DeprecationWarning: `np.float` is a deprecated alias for the builtin `float`. To silence this warning, use `float` by itself. Doing this will not modify any behavior and is safe. If you specifically wanted the numpy scalar type, use `np.float64` here.\n",
      "Deprecated in NumPy 1.20; for more details and guidance: https://numpy.org/devdocs/release/1.20.0-notes.html#deprecations\n",
      "  EPS = np.finfo(np.float).eps\n"
     ]
    }
   ],
   "source": [
    "# Importing neccesary libraries\n",
    "import pandas as pd\n",
    "import numpy as np\n",
    "import json\n",
    "\n",
    "import matplotlib.pyplot as plt\n",
    "import seaborn as sns\n",
    "\n",
    "import gzip\n",
    "from nltk import word_tokenize\n",
    "\n",
    "from nltk.sentiment import SentimentIntensityAnalyzer\n",
    "\n",
    "import re\n",
    "import spacy\n",
    "nlp = spacy.load('en_core_web_sm', disable=['parser', 'ner'])\n",
    "\n",
    "\n",
    "from sklearn.feature_extraction.text import CountVectorizer\n",
    "\n",
    "import gensim\n",
    "import gensim.corpora as corpora\n",
    "\n",
    "from gensim.models import CoherenceModel\n",
    "from gensim.models.phrases import Phrases, Phraser\n",
    "\n",
    "from gensim.models.ldamulticore import LdaMulticore\n",
    "from gensim.models.ldamodel import LdaModel\n",
    "\n",
    "import pyLDAvis\n",
    "import pyLDAvis.gensim_models\n",
    "\n",
    "import warnings\n",
    "warnings.filterwarnings(\"ignore\",category=DeprecationWarning)"
   ]
  },
  {
   "cell_type": "code",
   "execution_count": 2,
   "metadata": {},
   "outputs": [
    {
     "data": {
      "text/html": [
       "<style>.container { max-width:100% !important; }</style>"
      ],
      "text/plain": [
       "<IPython.core.display.HTML object>"
      ]
     },
     "metadata": {},
     "output_type": "display_data"
    },
    {
     "data": {
      "text/html": [
       "<style>.output_result { max-width:100% !important; }</style>"
      ],
      "text/plain": [
       "<IPython.core.display.HTML object>"
      ]
     },
     "metadata": {},
     "output_type": "display_data"
    },
    {
     "data": {
      "text/html": [
       "<style>.output_area { max-width:100% !important; }</style>"
      ],
      "text/plain": [
       "<IPython.core.display.HTML object>"
      ]
     },
     "metadata": {},
     "output_type": "display_data"
    },
    {
     "data": {
      "text/html": [
       "<style>.input_area { max-width:100% !important; }</style>"
      ],
      "text/plain": [
       "<IPython.core.display.HTML object>"
      ]
     },
     "metadata": {},
     "output_type": "display_data"
    }
   ],
   "source": [
    "from IPython.core.display import display, HTML\n",
    "display(HTML(\"<style>.container { max-width:100% !important; }</style>\"))\n",
    "display(HTML(\"<style>.output_result { max-width:100% !important; }</style>\"))\n",
    "display(HTML(\"<style>.output_area { max-width:100% !important; }</style>\"))\n",
    "display(HTML(\"<style>.input_area { max-width:100% !important; }</style>\"))"
   ]
  },
  {
   "cell_type": "markdown",
   "metadata": {},
   "source": [
    "# Data Exploration"
   ]
  },
  {
   "cell_type": "markdown",
   "metadata": {},
   "source": [
    "## EDA"
   ]
  },
  {
   "cell_type": "code",
   "execution_count": 3,
   "metadata": {},
   "outputs": [
    {
     "name": "stderr",
     "output_type": "stream",
     "text": [
      "C:\\Users\\PC\\anaconda3\\envs\\learn-env\\lib\\site-packages\\IPython\\core\\interactiveshell.py:3145: DtypeWarning: Columns (1,15,18) have mixed types.Specify dtype option on import or set low_memory=False.\n",
      "  has_raised = await self.run_ast_nodes(code_ast.body, cell_name,\n"
     ]
    }
   ],
   "source": [
    "df = pd.read_csv('data/headphone_reviews.csv')"
   ]
  },
  {
   "cell_type": "code",
   "execution_count": 4,
   "metadata": {},
   "outputs": [
    {
     "data": {
      "text/html": [
       "<div>\n",
       "<style scoped>\n",
       "    .dataframe tbody tr th:only-of-type {\n",
       "        vertical-align: middle;\n",
       "    }\n",
       "\n",
       "    .dataframe tbody tr th {\n",
       "        vertical-align: top;\n",
       "    }\n",
       "\n",
       "    .dataframe thead th {\n",
       "        text-align: right;\n",
       "    }\n",
       "</style>\n",
       "<table border=\"1\" class=\"dataframe\">\n",
       "  <thead>\n",
       "    <tr style=\"text-align: right;\">\n",
       "      <th></th>\n",
       "      <th>overall</th>\n",
       "      <th>vote</th>\n",
       "      <th>verified</th>\n",
       "      <th>reviewTime</th>\n",
       "      <th>reviewerID</th>\n",
       "      <th>asin</th>\n",
       "      <th>style</th>\n",
       "      <th>reviewerName</th>\n",
       "      <th>reviewText</th>\n",
       "      <th>summary</th>\n",
       "      <th>...</th>\n",
       "      <th>feature</th>\n",
       "      <th>rank</th>\n",
       "      <th>also_view</th>\n",
       "      <th>main_cat</th>\n",
       "      <th>similar_item</th>\n",
       "      <th>date</th>\n",
       "      <th>price</th>\n",
       "      <th>imageURL</th>\n",
       "      <th>imageURLHighRes</th>\n",
       "      <th>details</th>\n",
       "    </tr>\n",
       "  </thead>\n",
       "  <tbody>\n",
       "    <tr>\n",
       "      <th>0</th>\n",
       "      <td>5.0</td>\n",
       "      <td>NaN</td>\n",
       "      <td>True</td>\n",
       "      <td>02 22, 2015</td>\n",
       "      <td>A38RQFVQ1AKJQQ</td>\n",
       "      <td>4126895493</td>\n",
       "      <td>{'Color:': ' Blue W/Mic'}</td>\n",
       "      <td>George Walker</td>\n",
       "      <td>Great headphones. It's just the cord is too sh...</td>\n",
       "      <td>Five Stars</td>\n",
       "      <td>...</td>\n",
       "      <td>['Adjustable headband allows you to create a c...</td>\n",
       "      <td>['&gt;#316,475 in Cell Phones &amp; Accessories (See ...</td>\n",
       "      <td>['B019PO1ZRI', 'B00W87LKXE', 'B019PO1ZNC', 'B0...</td>\n",
       "      <td>Musical Instruments</td>\n",
       "      <td>class=\"a-bordered a-horizontal-stripes  a-spa...</td>\n",
       "      <td>NaN</td>\n",
       "      <td>$7.99</td>\n",
       "      <td>['https://images-na.ssl-images-amazon.com/imag...</td>\n",
       "      <td>['https://images-na.ssl-images-amazon.com/imag...</td>\n",
       "      <td>NaN</td>\n",
       "    </tr>\n",
       "    <tr>\n",
       "      <th>1</th>\n",
       "      <td>5.0</td>\n",
       "      <td>NaN</td>\n",
       "      <td>True</td>\n",
       "      <td>05 8, 2017</td>\n",
       "      <td>A299MRB9O6GWDE</td>\n",
       "      <td>4126895493</td>\n",
       "      <td>{'Color:': ' Blue Zebra W/Mic'}</td>\n",
       "      <td>Carolyn B</td>\n",
       "      <td>Really like these headphone.  Wanted something...</td>\n",
       "      <td>Officewear</td>\n",
       "      <td>...</td>\n",
       "      <td>['Adjustable headband allows you to create a c...</td>\n",
       "      <td>['&gt;#316,475 in Cell Phones &amp; Accessories (See ...</td>\n",
       "      <td>['B019PO1ZRI', 'B00W87LKXE', 'B019PO1ZNC', 'B0...</td>\n",
       "      <td>Musical Instruments</td>\n",
       "      <td>class=\"a-bordered a-horizontal-stripes  a-spa...</td>\n",
       "      <td>NaN</td>\n",
       "      <td>$7.99</td>\n",
       "      <td>['https://images-na.ssl-images-amazon.com/imag...</td>\n",
       "      <td>['https://images-na.ssl-images-amazon.com/imag...</td>\n",
       "      <td>NaN</td>\n",
       "    </tr>\n",
       "    <tr>\n",
       "      <th>2</th>\n",
       "      <td>1.0</td>\n",
       "      <td>NaN</td>\n",
       "      <td>True</td>\n",
       "      <td>11 5, 2016</td>\n",
       "      <td>A3ACFC6DQQLIQT</td>\n",
       "      <td>4126895493</td>\n",
       "      <td>{'Color:': ' Blue W/Mic'}</td>\n",
       "      <td>MK</td>\n",
       "      <td>Wire to headphone broke off in less than a mon...</td>\n",
       "      <td>For the money they are fine. Just hope they ho...</td>\n",
       "      <td>...</td>\n",
       "      <td>['Adjustable headband allows you to create a c...</td>\n",
       "      <td>['&gt;#316,475 in Cell Phones &amp; Accessories (See ...</td>\n",
       "      <td>['B019PO1ZRI', 'B00W87LKXE', 'B019PO1ZNC', 'B0...</td>\n",
       "      <td>Musical Instruments</td>\n",
       "      <td>class=\"a-bordered a-horizontal-stripes  a-spa...</td>\n",
       "      <td>NaN</td>\n",
       "      <td>$7.99</td>\n",
       "      <td>['https://images-na.ssl-images-amazon.com/imag...</td>\n",
       "      <td>['https://images-na.ssl-images-amazon.com/imag...</td>\n",
       "      <td>NaN</td>\n",
       "    </tr>\n",
       "    <tr>\n",
       "      <th>3</th>\n",
       "      <td>3.0</td>\n",
       "      <td>NaN</td>\n",
       "      <td>True</td>\n",
       "      <td>09 24, 2016</td>\n",
       "      <td>A36BC0YFDBNB5X</td>\n",
       "      <td>4126895493</td>\n",
       "      <td>{'Color:': ' Green'}</td>\n",
       "      <td>bigboy</td>\n",
       "      <td>Very good</td>\n",
       "      <td>Three Stars</td>\n",
       "      <td>...</td>\n",
       "      <td>['Adjustable headband allows you to create a c...</td>\n",
       "      <td>['&gt;#316,475 in Cell Phones &amp; Accessories (See ...</td>\n",
       "      <td>['B019PO1ZRI', 'B00W87LKXE', 'B019PO1ZNC', 'B0...</td>\n",
       "      <td>Musical Instruments</td>\n",
       "      <td>class=\"a-bordered a-horizontal-stripes  a-spa...</td>\n",
       "      <td>NaN</td>\n",
       "      <td>$7.99</td>\n",
       "      <td>['https://images-na.ssl-images-amazon.com/imag...</td>\n",
       "      <td>['https://images-na.ssl-images-amazon.com/imag...</td>\n",
       "      <td>NaN</td>\n",
       "    </tr>\n",
       "    <tr>\n",
       "      <th>4</th>\n",
       "      <td>1.0</td>\n",
       "      <td>NaN</td>\n",
       "      <td>True</td>\n",
       "      <td>07 17, 2016</td>\n",
       "      <td>A212PQ0HQPNNWM</td>\n",
       "      <td>4126895493</td>\n",
       "      <td>{'Color:': ' Violet Purple'}</td>\n",
       "      <td>Kelly Hales</td>\n",
       "      <td>Currently returning this product because the s...</td>\n",
       "      <td>Currently returning this product because the s...</td>\n",
       "      <td>...</td>\n",
       "      <td>['Adjustable headband allows you to create a c...</td>\n",
       "      <td>['&gt;#316,475 in Cell Phones &amp; Accessories (See ...</td>\n",
       "      <td>['B019PO1ZRI', 'B00W87LKXE', 'B019PO1ZNC', 'B0...</td>\n",
       "      <td>Musical Instruments</td>\n",
       "      <td>class=\"a-bordered a-horizontal-stripes  a-spa...</td>\n",
       "      <td>NaN</td>\n",
       "      <td>$7.99</td>\n",
       "      <td>['https://images-na.ssl-images-amazon.com/imag...</td>\n",
       "      <td>['https://images-na.ssl-images-amazon.com/imag...</td>\n",
       "      <td>NaN</td>\n",
       "    </tr>\n",
       "  </tbody>\n",
       "</table>\n",
       "<p>5 rows × 30 columns</p>\n",
       "</div>"
      ],
      "text/plain": [
       "   overall vote  verified   reviewTime      reviewerID        asin  \\\n",
       "0      5.0  NaN      True  02 22, 2015  A38RQFVQ1AKJQQ  4126895493   \n",
       "1      5.0  NaN      True   05 8, 2017  A299MRB9O6GWDE  4126895493   \n",
       "2      1.0  NaN      True   11 5, 2016  A3ACFC6DQQLIQT  4126895493   \n",
       "3      3.0  NaN      True  09 24, 2016  A36BC0YFDBNB5X  4126895493   \n",
       "4      1.0  NaN      True  07 17, 2016  A212PQ0HQPNNWM  4126895493   \n",
       "\n",
       "                             style   reviewerName  \\\n",
       "0        {'Color:': ' Blue W/Mic'}  George Walker   \n",
       "1  {'Color:': ' Blue Zebra W/Mic'}      Carolyn B   \n",
       "2        {'Color:': ' Blue W/Mic'}             MK   \n",
       "3             {'Color:': ' Green'}         bigboy   \n",
       "4     {'Color:': ' Violet Purple'}    Kelly Hales   \n",
       "\n",
       "                                          reviewText  \\\n",
       "0  Great headphones. It's just the cord is too sh...   \n",
       "1  Really like these headphone.  Wanted something...   \n",
       "2  Wire to headphone broke off in less than a mon...   \n",
       "3                                          Very good   \n",
       "4  Currently returning this product because the s...   \n",
       "\n",
       "                                             summary  ...  \\\n",
       "0                                         Five Stars  ...   \n",
       "1                                         Officewear  ...   \n",
       "2  For the money they are fine. Just hope they ho...  ...   \n",
       "3                                        Three Stars  ...   \n",
       "4  Currently returning this product because the s...  ...   \n",
       "\n",
       "                                             feature  \\\n",
       "0  ['Adjustable headband allows you to create a c...   \n",
       "1  ['Adjustable headband allows you to create a c...   \n",
       "2  ['Adjustable headband allows you to create a c...   \n",
       "3  ['Adjustable headband allows you to create a c...   \n",
       "4  ['Adjustable headband allows you to create a c...   \n",
       "\n",
       "                                                rank  \\\n",
       "0  ['>#316,475 in Cell Phones & Accessories (See ...   \n",
       "1  ['>#316,475 in Cell Phones & Accessories (See ...   \n",
       "2  ['>#316,475 in Cell Phones & Accessories (See ...   \n",
       "3  ['>#316,475 in Cell Phones & Accessories (See ...   \n",
       "4  ['>#316,475 in Cell Phones & Accessories (See ...   \n",
       "\n",
       "                                           also_view             main_cat  \\\n",
       "0  ['B019PO1ZRI', 'B00W87LKXE', 'B019PO1ZNC', 'B0...  Musical Instruments   \n",
       "1  ['B019PO1ZRI', 'B00W87LKXE', 'B019PO1ZNC', 'B0...  Musical Instruments   \n",
       "2  ['B019PO1ZRI', 'B00W87LKXE', 'B019PO1ZNC', 'B0...  Musical Instruments   \n",
       "3  ['B019PO1ZRI', 'B00W87LKXE', 'B019PO1ZNC', 'B0...  Musical Instruments   \n",
       "4  ['B019PO1ZRI', 'B00W87LKXE', 'B019PO1ZNC', 'B0...  Musical Instruments   \n",
       "\n",
       "                                        similar_item date  price  \\\n",
       "0   class=\"a-bordered a-horizontal-stripes  a-spa...  NaN  $7.99   \n",
       "1   class=\"a-bordered a-horizontal-stripes  a-spa...  NaN  $7.99   \n",
       "2   class=\"a-bordered a-horizontal-stripes  a-spa...  NaN  $7.99   \n",
       "3   class=\"a-bordered a-horizontal-stripes  a-spa...  NaN  $7.99   \n",
       "4   class=\"a-bordered a-horizontal-stripes  a-spa...  NaN  $7.99   \n",
       "\n",
       "                                            imageURL  \\\n",
       "0  ['https://images-na.ssl-images-amazon.com/imag...   \n",
       "1  ['https://images-na.ssl-images-amazon.com/imag...   \n",
       "2  ['https://images-na.ssl-images-amazon.com/imag...   \n",
       "3  ['https://images-na.ssl-images-amazon.com/imag...   \n",
       "4  ['https://images-na.ssl-images-amazon.com/imag...   \n",
       "\n",
       "                                     imageURLHighRes details  \n",
       "0  ['https://images-na.ssl-images-amazon.com/imag...     NaN  \n",
       "1  ['https://images-na.ssl-images-amazon.com/imag...     NaN  \n",
       "2  ['https://images-na.ssl-images-amazon.com/imag...     NaN  \n",
       "3  ['https://images-na.ssl-images-amazon.com/imag...     NaN  \n",
       "4  ['https://images-na.ssl-images-amazon.com/imag...     NaN  \n",
       "\n",
       "[5 rows x 30 columns]"
      ]
     },
     "execution_count": 4,
     "metadata": {},
     "output_type": "execute_result"
    }
   ],
   "source": [
    "df.head()"
   ]
  },
  {
   "cell_type": "code",
   "execution_count": 5,
   "metadata": {},
   "outputs": [
    {
     "name": "stdout",
     "output_type": "stream",
     "text": [
      "<class 'pandas.core.frame.DataFrame'>\n",
      "RangeIndex: 471228 entries, 0 to 471227\n",
      "Data columns (total 30 columns):\n",
      " #   Column           Non-Null Count   Dtype  \n",
      "---  ------           --------------   -----  \n",
      " 0   overall          471228 non-null  float64\n",
      " 1   vote             65135 non-null   object \n",
      " 2   verified         471228 non-null  bool   \n",
      " 3   reviewTime       471228 non-null  object \n",
      " 4   reviewerID       471228 non-null  object \n",
      " 5   asin             471228 non-null  object \n",
      " 6   style            294015 non-null  object \n",
      " 7   reviewerName     471143 non-null  object \n",
      " 8   reviewText       471167 non-null  object \n",
      " 9   summary          471147 non-null  object \n",
      " 10  unixReviewTime   471228 non-null  int64  \n",
      " 11  image            9026 non-null    object \n",
      " 12  category         471228 non-null  object \n",
      " 13  tech1            24660 non-null   object \n",
      " 14  description      471228 non-null  object \n",
      " 15  fit              22 non-null      object \n",
      " 16  title            471228 non-null  object \n",
      " 17  also_buy         471228 non-null  object \n",
      " 18  tech2            1748 non-null    object \n",
      " 19  brand            470872 non-null  object \n",
      " 20  feature          471228 non-null  object \n",
      " 21  rank             471228 non-null  object \n",
      " 22  also_view        471228 non-null  object \n",
      " 23  main_cat         471155 non-null  object \n",
      " 24  similar_item     359275 non-null  object \n",
      " 25  date             326078 non-null  object \n",
      " 26  price            281489 non-null  object \n",
      " 27  imageURL         471228 non-null  object \n",
      " 28  imageURLHighRes  471228 non-null  object \n",
      " 29  details          471179 non-null  object \n",
      "dtypes: bool(1), float64(1), int64(1), object(27)\n",
      "memory usage: 104.7+ MB\n"
     ]
    }
   ],
   "source": [
    "df.info()"
   ]
  },
  {
   "cell_type": "code",
   "execution_count": 6,
   "metadata": {},
   "outputs": [
    {
     "data": {
      "text/plain": [
       "36841"
      ]
     },
     "execution_count": 6,
     "metadata": {},
     "output_type": "execute_result"
    }
   ],
   "source": [
    "# Checking for duplicate rows\n",
    "df.astype(str).duplicated().sum()"
   ]
  },
  {
   "cell_type": "code",
   "execution_count": 7,
   "metadata": {},
   "outputs": [],
   "source": [
    "# Dropping duplicates\n",
    "df = df.loc[df.astype(str).drop_duplicates().index]"
   ]
  },
  {
   "cell_type": "code",
   "execution_count": 8,
   "metadata": {},
   "outputs": [
    {
     "name": "stdout",
     "output_type": "stream",
     "text": [
      "<class 'pandas.core.frame.DataFrame'>\n",
      "Int64Index: 434387 entries, 0 to 471227\n",
      "Data columns (total 30 columns):\n",
      " #   Column           Non-Null Count   Dtype  \n",
      "---  ------           --------------   -----  \n",
      " 0   overall          434387 non-null  float64\n",
      " 1   vote             58949 non-null   object \n",
      " 2   verified         434387 non-null  bool   \n",
      " 3   reviewTime       434387 non-null  object \n",
      " 4   reviewerID       434387 non-null  object \n",
      " 5   asin             434387 non-null  object \n",
      " 6   style            268880 non-null  object \n",
      " 7   reviewerName     434312 non-null  object \n",
      " 8   reviewText       434328 non-null  object \n",
      " 9   summary          434307 non-null  object \n",
      " 10  unixReviewTime   434387 non-null  int64  \n",
      " 11  image            8803 non-null    object \n",
      " 12  category         434387 non-null  object \n",
      " 13  tech1            24192 non-null   object \n",
      " 14  description      434387 non-null  object \n",
      " 15  fit              22 non-null      object \n",
      " 16  title            434387 non-null  object \n",
      " 17  also_buy         434387 non-null  object \n",
      " 18  tech2            1742 non-null    object \n",
      " 19  brand            434031 non-null  object \n",
      " 20  feature          434387 non-null  object \n",
      " 21  rank             434387 non-null  object \n",
      " 22  also_view        434387 non-null  object \n",
      " 23  main_cat         434314 non-null  object \n",
      " 24  similar_item     327401 non-null  object \n",
      " 25  date             292551 non-null  object \n",
      " 26  price            256954 non-null  object \n",
      " 27  imageURL         434387 non-null  object \n",
      " 28  imageURLHighRes  434387 non-null  object \n",
      " 29  details          434338 non-null  object \n",
      "dtypes: bool(1), float64(1), int64(1), object(27)\n",
      "memory usage: 99.8+ MB\n"
     ]
    }
   ],
   "source": [
    "df.info()"
   ]
  },
  {
   "cell_type": "code",
   "execution_count": 9,
   "metadata": {},
   "outputs": [
    {
     "data": {
      "text/plain": [
       "overall                 0\n",
       "vote               375438\n",
       "verified                0\n",
       "reviewTime              0\n",
       "reviewerID              0\n",
       "asin                    0\n",
       "style              165507\n",
       "reviewerName           75\n",
       "reviewText             59\n",
       "summary                80\n",
       "unixReviewTime          0\n",
       "image              425584\n",
       "category                0\n",
       "tech1              410195\n",
       "description             0\n",
       "fit                434365\n",
       "title                   0\n",
       "also_buy                0\n",
       "tech2              432645\n",
       "brand                 356\n",
       "feature                 0\n",
       "rank                    0\n",
       "also_view               0\n",
       "main_cat               73\n",
       "similar_item       106986\n",
       "date               141836\n",
       "price              177433\n",
       "imageURL                0\n",
       "imageURLHighRes         0\n",
       "details                49\n",
       "dtype: int64"
      ]
     },
     "execution_count": 9,
     "metadata": {},
     "output_type": "execute_result"
    }
   ],
   "source": [
    "# Checking for null values, focusing on reviewText\n",
    "df.isna().sum()"
   ]
  },
  {
   "cell_type": "code",
   "execution_count": 10,
   "metadata": {},
   "outputs": [],
   "source": [
    "# Dropping rows with null values in reviewText\n",
    "df.dropna(subset = ['reviewText'], inplace = True)"
   ]
  },
  {
   "cell_type": "code",
   "execution_count": 11,
   "metadata": {},
   "outputs": [
    {
     "data": {
      "text/plain": [
       "overall                 0\n",
       "vote               375385\n",
       "verified                0\n",
       "reviewTime              0\n",
       "reviewerID              0\n",
       "asin                    0\n",
       "style              165480\n",
       "reviewerName           75\n",
       "reviewText              0\n",
       "summary                79\n",
       "unixReviewTime          0\n",
       "image              425538\n",
       "category                0\n",
       "tech1              410141\n",
       "description             0\n",
       "fit                434306\n",
       "title                   0\n",
       "also_buy                0\n",
       "tech2              432586\n",
       "brand                 356\n",
       "feature                 0\n",
       "rank                    0\n",
       "also_view               0\n",
       "main_cat               73\n",
       "similar_item       106970\n",
       "date               141815\n",
       "price              177403\n",
       "imageURL                0\n",
       "imageURLHighRes         0\n",
       "details                49\n",
       "dtype: int64"
      ]
     },
     "execution_count": 11,
     "metadata": {},
     "output_type": "execute_result"
    }
   ],
   "source": [
    "df.isna().sum()"
   ]
  },
  {
   "cell_type": "code",
   "execution_count": 12,
   "metadata": {},
   "outputs": [],
   "source": [
    "# Resetting index\n",
    "df = df.reset_index(drop = True)"
   ]
  },
  {
   "cell_type": "code",
   "execution_count": 13,
   "metadata": {},
   "outputs": [],
   "source": [
    "# Dropping other features with many null values. Also drop features that may not be needed.\n",
    "to_drop = ['vote', 'style', 'image', 'tech1', 'fit', 'tech2', 'similar_item', 'date', \n",
    "           'price', 'reviewerID', 'reviewerName', 'unixReviewTime', 'category', 'rank', \n",
    "           'main_cat', 'imageURL', 'imageURLHighRes', 'details']\n",
    "df = df.drop(columns = to_drop)"
   ]
  },
  {
   "cell_type": "code",
   "execution_count": 14,
   "metadata": {},
   "outputs": [
    {
     "name": "stdout",
     "output_type": "stream",
     "text": [
      "<class 'pandas.core.frame.DataFrame'>\n",
      "RangeIndex: 434328 entries, 0 to 434327\n",
      "Data columns (total 12 columns):\n",
      " #   Column       Non-Null Count   Dtype  \n",
      "---  ------       --------------   -----  \n",
      " 0   overall      434328 non-null  float64\n",
      " 1   verified     434328 non-null  bool   \n",
      " 2   reviewTime   434328 non-null  object \n",
      " 3   asin         434328 non-null  object \n",
      " 4   reviewText   434328 non-null  object \n",
      " 5   summary      434249 non-null  object \n",
      " 6   description  434328 non-null  object \n",
      " 7   title        434328 non-null  object \n",
      " 8   also_buy     434328 non-null  object \n",
      " 9   brand        433972 non-null  object \n",
      " 10  feature      434328 non-null  object \n",
      " 11  also_view    434328 non-null  object \n",
      "dtypes: bool(1), float64(1), object(10)\n",
      "memory usage: 36.9+ MB\n"
     ]
    }
   ],
   "source": [
    "df.info()"
   ]
  },
  {
   "cell_type": "code",
   "execution_count": 15,
   "metadata": {},
   "outputs": [],
   "source": [
    "counts = df['asin'].value_counts()"
   ]
  },
  {
   "cell_type": "code",
   "execution_count": 16,
   "metadata": {},
   "outputs": [],
   "source": [
    "df = df[df['asin'].isin(counts[counts > 200].index)]"
   ]
  },
  {
   "cell_type": "code",
   "execution_count": 17,
   "metadata": {},
   "outputs": [
    {
     "name": "stdout",
     "output_type": "stream",
     "text": [
      "<class 'pandas.core.frame.DataFrame'>\n",
      "Int64Index: 189482 entries, 451 to 430674\n",
      "Data columns (total 12 columns):\n",
      " #   Column       Non-Null Count   Dtype  \n",
      "---  ------       --------------   -----  \n",
      " 0   overall      189482 non-null  float64\n",
      " 1   verified     189482 non-null  bool   \n",
      " 2   reviewTime   189482 non-null  object \n",
      " 3   asin         189482 non-null  object \n",
      " 4   reviewText   189482 non-null  object \n",
      " 5   summary      189446 non-null  object \n",
      " 6   description  189482 non-null  object \n",
      " 7   title        189482 non-null  object \n",
      " 8   also_buy     189482 non-null  object \n",
      " 9   brand        189482 non-null  object \n",
      " 10  feature      189482 non-null  object \n",
      " 11  also_view    189482 non-null  object \n",
      "dtypes: bool(1), float64(1), object(10)\n",
      "memory usage: 17.5+ MB\n"
     ]
    }
   ],
   "source": [
    "df.info()"
   ]
  },
  {
   "cell_type": "code",
   "execution_count": 18,
   "metadata": {},
   "outputs": [],
   "source": [
    "df = df.reset_index(drop = True)"
   ]
  },
  {
   "cell_type": "code",
   "execution_count": 19,
   "metadata": {},
   "outputs": [
    {
     "data": {
      "text/plain": [
       "5.0    0.595386\n",
       "4.0    0.190778\n",
       "3.0    0.093159\n",
       "1.0    0.062961\n",
       "2.0    0.057715\n",
       "Name: overall, dtype: float64"
      ]
     },
     "execution_count": 19,
     "metadata": {},
     "output_type": "execute_result"
    }
   ],
   "source": [
    "# Distribution of star ratings\n",
    "df.overall.value_counts(normalize = True)"
   ]
  },
  {
   "cell_type": "code",
   "execution_count": 20,
   "metadata": {},
   "outputs": [
    {
     "data": {
      "image/png": "[encoded data removed]",
      "text/plain": [
       "<Figure size 720x360 with 1 Axes>"
      ]
     },
     "metadata": {
      "needs_background": "light"
     },
     "output_type": "display_data"
    }
   ],
   "source": [
    "ax = df.overall.value_counts().sort_index().plot(kind = 'bar',\n",
    "                                            title = 'Count by Review Star',\n",
    "                                            figsize = (10,5))\n",
    "ax.set_xlabel('Review Stars');\n"
   ]
  },
  {
   "cell_type": "markdown",
   "metadata": {},
   "source": [
    "Majority of product reviews are 5 star, around 60%. This will be an imbalanced dataset for classification."
   ]
  },
  {
   "cell_type": "code",
   "execution_count": 21,
   "metadata": {},
   "outputs": [
    {
     "name": "stdout",
     "output_type": "stream",
     "text": [
      "2000-06-29 00:00:00\n",
      "2018-10-01 00:00:00\n"
     ]
    }
   ],
   "source": [
    "# Examining date range of reviews\n",
    "df.reviewTime = pd.to_datetime(df.reviewTime)\n",
    "print(df.reviewTime.min())\n",
    "print(df.reviewTime.max())"
   ]
  },
  {
   "cell_type": "code",
   "execution_count": 22,
   "metadata": {},
   "outputs": [
    {
     "data": {
      "text/plain": [
       "395"
      ]
     },
     "execution_count": 22,
     "metadata": {},
     "output_type": "execute_result"
    }
   ],
   "source": [
    "df.asin.value_counts().count()"
   ]
  },
  {
   "cell_type": "code",
   "execution_count": 23,
   "metadata": {},
   "outputs": [
    {
     "data": {
      "text/plain": [
       "169"
      ]
     },
     "execution_count": 23,
     "metadata": {},
     "output_type": "execute_result"
    }
   ],
   "source": [
    "df.brand.value_counts().count()"
   ]
  },
  {
   "cell_type": "markdown",
   "metadata": {},
   "source": [
    "Dataset contains a total of 395 unique products and 169 unique brands"
   ]
  },
  {
   "cell_type": "code",
   "execution_count": 24,
   "metadata": {},
   "outputs": [
    {
     "data": {
      "text/plain": [
       "True     0.891399\n",
       "False    0.108601\n",
       "Name: verified, dtype: float64"
      ]
     },
     "execution_count": 24,
     "metadata": {},
     "output_type": "execute_result"
    }
   ],
   "source": [
    "df.verified.value_counts(normalize = True)"
   ]
  },
  {
   "cell_type": "code",
   "execution_count": 25,
   "metadata": {},
   "outputs": [
    {
     "data": {
      "image/png": "[encoded data removed]",
      "text/plain": [
       "<Figure size 432x288 with 1 Axes>"
      ]
     },
     "metadata": {
      "needs_background": "light"
     },
     "output_type": "display_data"
    }
   ],
   "source": [
    "sns.barplot(data = df, x = 'verified', y = 'overall');"
   ]
  },
  {
   "cell_type": "markdown",
   "metadata": {},
   "source": [
    "Majority or reviews have been verified purchases. No major difference between average star rating of verified vs non verified purchase reviews."
   ]
  },
  {
   "cell_type": "code",
   "execution_count": 26,
   "metadata": {},
   "outputs": [
    {
     "data": {
      "image/png": "[encoded data removed]",
      "text/plain": [
       "<Figure size 720x1440 with 1 Axes>"
      ]
     },
     "metadata": {
      "needs_background": "light"
     },
     "output_type": "display_data"
    }
   ],
   "source": [
    "# Top 20 brands by overall star rating\n",
    "dfg = df.groupby('brand')['overall'].mean().sort_values(ascending = False).head(20)\n",
    "fig, ax = plt.subplots(figsize = (10,20))\n",
    "ax = sns.barplot(x = dfg.values, y = dfg.index, orient = 'h')"
   ]
  },
  {
   "cell_type": "code",
   "execution_count": null,
   "metadata": {},
   "outputs": [],
   "source": []
  },
  {
   "cell_type": "markdown",
   "metadata": {},
   "source": [
    "## Sentiment Validation of Star Ratings\n",
    "\n",
    "In order to reduce this problem to a binary classification. I will ultilize NLTK's VADER library, which is designed to provide a sentiment intensity score for a given text, to validate positive sentiment with high ratings and negative sentiment with low ratings. Vader uses a lexicon-based approach, where it matches words and phrases in the text to a pre-defined set of positive and negative words, along with intensifiers and negators."
   ]
  },
  {
   "cell_type": "code",
   "execution_count": 27,
   "metadata": {},
   "outputs": [],
   "source": [
    "# initialize SIA\n",
    "sia = SentimentIntensityAnalyzer()"
   ]
  },
  {
   "cell_type": "code",
   "execution_count": 28,
   "metadata": {},
   "outputs": [
    {
     "data": {
      "text/plain": [
       "'Get the SportaPros instead.  They look better, can be worn in a street configuration, cost less, and sound exactly the same.'"
      ]
     },
     "execution_count": 28,
     "metadata": {},
     "output_type": "execute_result"
    }
   ],
   "source": [
    "# Example text\n",
    "df.reviewText[0]"
   ]
  },
  {
   "cell_type": "code",
   "execution_count": 29,
   "metadata": {},
   "outputs": [
    {
     "data": {
      "text/plain": [
       "4.0"
      ]
     },
     "execution_count": 29,
     "metadata": {},
     "output_type": "execute_result"
    }
   ],
   "source": [
    "# Example rating\n",
    "df.overall[0]"
   ]
  },
  {
   "cell_type": "code",
   "execution_count": 30,
   "metadata": {},
   "outputs": [
    {
     "data": {
      "text/plain": [
       "{'neg': 0.095, 'neu': 0.779, 'pos': 0.126, 'compound': 0.1779}"
      ]
     },
     "execution_count": 30,
     "metadata": {},
     "output_type": "execute_result"
    }
   ],
   "source": [
    "# Obtain polarity score of text\n",
    "sia.polarity_scores(df.reviewText[0])"
   ]
  },
  {
   "cell_type": "markdown",
   "metadata": {},
   "source": [
    "Vader provides measures of sentiment polarity (positive, negative, or neutral on a scale of 0 to 1) and intensity (how strongly positive or negative the sentiment is on the scale of -1 to 1). "
   ]
  },
  {
   "cell_type": "code",
   "execution_count": 31,
   "metadata": {},
   "outputs": [],
   "source": [
    "sent_val_df = df.copy()"
   ]
  },
  {
   "cell_type": "code",
   "execution_count": 32,
   "metadata": {},
   "outputs": [],
   "source": [
    "# Adding in values from VADER to dataframe\n",
    "sent_val_df['compound'] = [sia.polarity_scores(str(x))['compound'] for x in df['reviewText']]\n",
    "sent_val_df['neg'] = [sia.polarity_scores(str(x))['neg'] for x in df['reviewText']]\n",
    "sent_val_df['neu'] = [sia.polarity_scores(str(x))['neu'] for x in df['reviewText']]\n",
    "sent_val_df['pos'] = [sia.polarity_scores(str(x))['pos'] for x in df['reviewText']]"
   ]
  },
  {
   "cell_type": "code",
   "execution_count": 33,
   "metadata": {},
   "outputs": [
    {
     "data": {
      "text/html": [
       "<div>\n",
       "<style scoped>\n",
       "    .dataframe tbody tr th:only-of-type {\n",
       "        vertical-align: middle;\n",
       "    }\n",
       "\n",
       "    .dataframe tbody tr th {\n",
       "        vertical-align: top;\n",
       "    }\n",
       "\n",
       "    .dataframe thead th {\n",
       "        text-align: right;\n",
       "    }\n",
       "</style>\n",
       "<table border=\"1\" class=\"dataframe\">\n",
       "  <thead>\n",
       "    <tr style=\"text-align: right;\">\n",
       "      <th></th>\n",
       "      <th>overall</th>\n",
       "      <th>verified</th>\n",
       "      <th>reviewTime</th>\n",
       "      <th>asin</th>\n",
       "      <th>reviewText</th>\n",
       "      <th>summary</th>\n",
       "      <th>description</th>\n",
       "      <th>title</th>\n",
       "      <th>also_buy</th>\n",
       "      <th>brand</th>\n",
       "      <th>feature</th>\n",
       "      <th>also_view</th>\n",
       "      <th>compound</th>\n",
       "      <th>neg</th>\n",
       "      <th>neu</th>\n",
       "      <th>pos</th>\n",
       "    </tr>\n",
       "  </thead>\n",
       "  <tbody>\n",
       "    <tr>\n",
       "      <th>0</th>\n",
       "      <td>4.0</td>\n",
       "      <td>False</td>\n",
       "      <td>2000-07-12</td>\n",
       "      <td>B00001P4ZH</td>\n",
       "      <td>Get the SportaPros instead.  They look better,...</td>\n",
       "      <td>Get the SportaPros Instead.</td>\n",
       "      <td>['Dynamic element design for deep bass perform...</td>\n",
       "      <td>koss porta pro on ear headphones with case, bl...</td>\n",
       "      <td>['B000O2KIMO', 'B071XYY2Q5', 'B0006B486K', 'B0...</td>\n",
       "      <td>Koss</td>\n",
       "      <td>['Designed for deep bass performance', 'Comfor...</td>\n",
       "      <td>[]</td>\n",
       "      <td>0.1779</td>\n",
       "      <td>0.095</td>\n",
       "      <td>0.779</td>\n",
       "      <td>0.126</td>\n",
       "    </tr>\n",
       "    <tr>\n",
       "      <th>1</th>\n",
       "      <td>5.0</td>\n",
       "      <td>False</td>\n",
       "      <td>2018-04-26</td>\n",
       "      <td>B00001P4ZH</td>\n",
       "      <td>I've been looking for a lighter alternative to...</td>\n",
       "      <td>Perfect</td>\n",
       "      <td>['Dynamic element design for deep bass perform...</td>\n",
       "      <td>koss porta pro on ear headphones with case, bl...</td>\n",
       "      <td>['B000O2KIMO', 'B071XYY2Q5', 'B0006B486K', 'B0...</td>\n",
       "      <td>Koss</td>\n",
       "      <td>['Designed for deep bass performance', 'Comfor...</td>\n",
       "      <td>[]</td>\n",
       "      <td>0.9905</td>\n",
       "      <td>0.037</td>\n",
       "      <td>0.778</td>\n",
       "      <td>0.185</td>\n",
       "    </tr>\n",
       "    <tr>\n",
       "      <th>2</th>\n",
       "      <td>5.0</td>\n",
       "      <td>False</td>\n",
       "      <td>2018-04-22</td>\n",
       "      <td>B00001P4ZH</td>\n",
       "      <td>The finest headphones available. You can spend...</td>\n",
       "      <td>You will just love portapro, we all do.</td>\n",
       "      <td>['Dynamic element design for deep bass perform...</td>\n",
       "      <td>koss porta pro on ear headphones with case, bl...</td>\n",
       "      <td>['B000O2KIMO', 'B071XYY2Q5', 'B0006B486K', 'B0...</td>\n",
       "      <td>Koss</td>\n",
       "      <td>['Designed for deep bass performance', 'Comfor...</td>\n",
       "      <td>[]</td>\n",
       "      <td>0.9822</td>\n",
       "      <td>0.030</td>\n",
       "      <td>0.715</td>\n",
       "      <td>0.256</td>\n",
       "    </tr>\n",
       "    <tr>\n",
       "      <th>3</th>\n",
       "      <td>5.0</td>\n",
       "      <td>True</td>\n",
       "      <td>2018-04-13</td>\n",
       "      <td>B00001P4ZH</td>\n",
       "      <td>3rd pair of these I've purchased.  My wife has...</td>\n",
       "      <td>Great sounding Koss Headphones</td>\n",
       "      <td>['Dynamic element design for deep bass perform...</td>\n",
       "      <td>koss porta pro on ear headphones with case, bl...</td>\n",
       "      <td>['B000O2KIMO', 'B071XYY2Q5', 'B0006B486K', 'B0...</td>\n",
       "      <td>Koss</td>\n",
       "      <td>['Designed for deep bass performance', 'Comfor...</td>\n",
       "      <td>[]</td>\n",
       "      <td>0.9077</td>\n",
       "      <td>0.031</td>\n",
       "      <td>0.823</td>\n",
       "      <td>0.147</td>\n",
       "    </tr>\n",
       "    <tr>\n",
       "      <th>4</th>\n",
       "      <td>5.0</td>\n",
       "      <td>True</td>\n",
       "      <td>2018-04-09</td>\n",
       "      <td>B00001P4ZH</td>\n",
       "      <td>My old Koss Porta Pros finally got beat to dea...</td>\n",
       "      <td>Sound much better than they should!</td>\n",
       "      <td>['Dynamic element design for deep bass perform...</td>\n",
       "      <td>koss porta pro on ear headphones with case, bl...</td>\n",
       "      <td>['B000O2KIMO', 'B071XYY2Q5', 'B0006B486K', 'B0...</td>\n",
       "      <td>Koss</td>\n",
       "      <td>['Designed for deep bass performance', 'Comfor...</td>\n",
       "      <td>[]</td>\n",
       "      <td>0.9729</td>\n",
       "      <td>0.050</td>\n",
       "      <td>0.758</td>\n",
       "      <td>0.192</td>\n",
       "    </tr>\n",
       "  </tbody>\n",
       "</table>\n",
       "</div>"
      ],
      "text/plain": [
       "   overall  verified reviewTime        asin  \\\n",
       "0      4.0     False 2000-07-12  B00001P4ZH   \n",
       "1      5.0     False 2018-04-26  B00001P4ZH   \n",
       "2      5.0     False 2018-04-22  B00001P4ZH   \n",
       "3      5.0      True 2018-04-13  B00001P4ZH   \n",
       "4      5.0      True 2018-04-09  B00001P4ZH   \n",
       "\n",
       "                                          reviewText  \\\n",
       "0  Get the SportaPros instead.  They look better,...   \n",
       "1  I've been looking for a lighter alternative to...   \n",
       "2  The finest headphones available. You can spend...   \n",
       "3  3rd pair of these I've purchased.  My wife has...   \n",
       "4  My old Koss Porta Pros finally got beat to dea...   \n",
       "\n",
       "                                   summary  \\\n",
       "0              Get the SportaPros Instead.   \n",
       "1                                  Perfect   \n",
       "2  You will just love portapro, we all do.   \n",
       "3           Great sounding Koss Headphones   \n",
       "4      Sound much better than they should!   \n",
       "\n",
       "                                         description  \\\n",
       "0  ['Dynamic element design for deep bass perform...   \n",
       "1  ['Dynamic element design for deep bass perform...   \n",
       "2  ['Dynamic element design for deep bass perform...   \n",
       "3  ['Dynamic element design for deep bass perform...   \n",
       "4  ['Dynamic element design for deep bass perform...   \n",
       "\n",
       "                                               title  \\\n",
       "0  koss porta pro on ear headphones with case, bl...   \n",
       "1  koss porta pro on ear headphones with case, bl...   \n",
       "2  koss porta pro on ear headphones with case, bl...   \n",
       "3  koss porta pro on ear headphones with case, bl...   \n",
       "4  koss porta pro on ear headphones with case, bl...   \n",
       "\n",
       "                                            also_buy brand  \\\n",
       "0  ['B000O2KIMO', 'B071XYY2Q5', 'B0006B486K', 'B0...  Koss   \n",
       "1  ['B000O2KIMO', 'B071XYY2Q5', 'B0006B486K', 'B0...  Koss   \n",
       "2  ['B000O2KIMO', 'B071XYY2Q5', 'B0006B486K', 'B0...  Koss   \n",
       "3  ['B000O2KIMO', 'B071XYY2Q5', 'B0006B486K', 'B0...  Koss   \n",
       "4  ['B000O2KIMO', 'B071XYY2Q5', 'B0006B486K', 'B0...  Koss   \n",
       "\n",
       "                                             feature also_view  compound  \\\n",
       "0  ['Designed for deep bass performance', 'Comfor...        []    0.1779   \n",
       "1  ['Designed for deep bass performance', 'Comfor...        []    0.9905   \n",
       "2  ['Designed for deep bass performance', 'Comfor...        []    0.9822   \n",
       "3  ['Designed for deep bass performance', 'Comfor...        []    0.9077   \n",
       "4  ['Designed for deep bass performance', 'Comfor...        []    0.9729   \n",
       "\n",
       "     neg    neu    pos  \n",
       "0  0.095  0.779  0.126  \n",
       "1  0.037  0.778  0.185  \n",
       "2  0.030  0.715  0.256  \n",
       "3  0.031  0.823  0.147  \n",
       "4  0.050  0.758  0.192  "
      ]
     },
     "execution_count": 33,
     "metadata": {},
     "output_type": "execute_result"
    }
   ],
   "source": [
    "sent_val_df.head()"
   ]
  },
  {
   "cell_type": "code",
   "execution_count": 34,
   "metadata": {},
   "outputs": [
    {
     "data": {
      "image/png": "[encoded data removed]",
      "text/plain": [
       "<Figure size 432x288 with 1 Axes>"
      ]
     },
     "metadata": {
      "needs_background": "light"
     },
     "output_type": "display_data"
    }
   ],
   "source": [
    "# Examining compund score vs star rating\n",
    "ax = sns.barplot(data = sent_val_df, x = 'overall', y = 'compound')"
   ]
  },
  {
   "cell_type": "markdown",
   "metadata": {},
   "source": [
    "Above graph shows as star ratings increase positive sentiment also increases."
   ]
  },
  {
   "cell_type": "code",
   "execution_count": 35,
   "metadata": {},
   "outputs": [
    {
     "data": {
      "image/png": "[encoded data removed]",
      "text/plain": [
       "<Figure size 1080x360 with 3 Axes>"
      ]
     },
     "metadata": {
      "needs_background": "light"
     },
     "output_type": "display_data"
    }
   ],
   "source": [
    "# Examine the positive, neutral, and negative scores vs star rating\n",
    "fig, axs = plt.subplots(1, 3, figsize=(15,5))\n",
    "sns.barplot(data = sent_val_df, x = 'overall', y = 'pos', ax = axs[0])\n",
    "sns.barplot(data = sent_val_df, x = 'overall', y = 'neu', ax = axs[1])\n",
    "sns.barplot(data = sent_val_df, x = 'overall', y = 'neg', ax = axs[2])\n",
    "axs[0].set_title('Positive')\n",
    "axs[1].set_title('Neutral')\n",
    "axs[2].set_title('Negative')\n",
    "fig.tight_layout();"
   ]
  },
  {
   "cell_type": "markdown",
   "metadata": {},
   "source": [
    "Positive sentiment score increases as star rating inscreases. Neutral score is relatively flat across star ratings. Negative score decreases as star rating increases. This confirms the connection between sentiment and star rating of reviews."
   ]
  },
  {
   "cell_type": "code",
   "execution_count": 36,
   "metadata": {},
   "outputs": [],
   "source": [
    "# Function to label star ratings above 3 to positive and ratings 3 or less to negative\n",
    "def label_encode(x):\n",
    "    if x <= 3:\n",
    "        return 0\n",
    "    if x > 3:\n",
    "        return 1"
   ]
  },
  {
   "cell_type": "code",
   "execution_count": 37,
   "metadata": {},
   "outputs": [],
   "source": [
    "df[\"sentiment\"] = df[\"overall\"].apply(lambda x: label_encode(x))"
   ]
  },
  {
   "cell_type": "code",
   "execution_count": 38,
   "metadata": {},
   "outputs": [
    {
     "data": {
      "text/plain": [
       "1    0.786164\n",
       "0    0.213836\n",
       "Name: sentiment, dtype: float64"
      ]
     },
     "execution_count": 38,
     "metadata": {},
     "output_type": "execute_result"
    }
   ],
   "source": [
    "df['sentiment'].value_counts(normalize = True)"
   ]
  },
  {
   "cell_type": "markdown",
   "metadata": {},
   "source": [
    "Around 79% of reviews is positive and 21% negative. "
   ]
  },
  {
   "cell_type": "markdown",
   "metadata": {},
   "source": [
    "## Text Analysis"
   ]
  },
  {
   "cell_type": "markdown",
   "metadata": {},
   "source": [
    "The main feature I will be working with will be reviewText. Upon some exploration of this feature, there is a high number of short text reviews. In order to get more information to work with I will combine the reviewText and summary features together."
   ]
  },
  {
   "cell_type": "code",
   "execution_count": 39,
   "metadata": {},
   "outputs": [
    {
     "data": {
      "text/plain": [
       "'Very good headphones.'"
      ]
     },
     "execution_count": 39,
     "metadata": {},
     "output_type": "execute_result"
    }
   ],
   "source": [
    "df.reviewText[100]"
   ]
  },
  {
   "cell_type": "code",
   "execution_count": 40,
   "metadata": {},
   "outputs": [
    {
     "data": {
      "text/plain": [
       "'Five Stars'"
      ]
     },
     "execution_count": 40,
     "metadata": {},
     "output_type": "execute_result"
    }
   ],
   "source": [
    "df.summary[100]"
   ]
  },
  {
   "cell_type": "code",
   "execution_count": 41,
   "metadata": {},
   "outputs": [
    {
     "data": {
      "text/plain": [
       "'Very good headphones. Five Stars'"
      ]
     },
     "execution_count": 41,
     "metadata": {},
     "output_type": "execute_result"
    }
   ],
   "source": [
    "df.reviewText[100] + \" \" + df.summary[100]"
   ]
  },
  {
   "cell_type": "code",
   "execution_count": 42,
   "metadata": {},
   "outputs": [],
   "source": [
    "# declare summary as text so it will not clear reviewText when combining with the 20 null values found in summary.\n",
    "df['reviews'] = df.reviewText + ' ' + df.summary.astype(str)"
   ]
  },
  {
   "cell_type": "markdown",
   "metadata": {},
   "source": [
    "I will now create some features to help examine some statistics of the text data, such as amounts of words and characters in reviews."
   ]
  },
  {
   "cell_type": "code",
   "execution_count": 43,
   "metadata": {},
   "outputs": [],
   "source": [
    "text_stats_df = df[['reviews', 'sentiment']].copy()"
   ]
  },
  {
   "cell_type": "code",
   "execution_count": 44,
   "metadata": {},
   "outputs": [
    {
     "data": {
      "text/html": [
       "<div>\n",
       "<style scoped>\n",
       "    .dataframe tbody tr th:only-of-type {\n",
       "        vertical-align: middle;\n",
       "    }\n",
       "\n",
       "    .dataframe tbody tr th {\n",
       "        vertical-align: top;\n",
       "    }\n",
       "\n",
       "    .dataframe thead th {\n",
       "        text-align: right;\n",
       "    }\n",
       "</style>\n",
       "<table border=\"1\" class=\"dataframe\">\n",
       "  <thead>\n",
       "    <tr style=\"text-align: right;\">\n",
       "      <th></th>\n",
       "      <th>reviews</th>\n",
       "      <th>sentiment</th>\n",
       "    </tr>\n",
       "  </thead>\n",
       "  <tbody>\n",
       "    <tr>\n",
       "      <th>0</th>\n",
       "      <td>Get the SportaPros instead.  They look better,...</td>\n",
       "      <td>1</td>\n",
       "    </tr>\n",
       "    <tr>\n",
       "      <th>1</th>\n",
       "      <td>I've been looking for a lighter alternative to...</td>\n",
       "      <td>1</td>\n",
       "    </tr>\n",
       "    <tr>\n",
       "      <th>2</th>\n",
       "      <td>The finest headphones available. You can spend...</td>\n",
       "      <td>1</td>\n",
       "    </tr>\n",
       "    <tr>\n",
       "      <th>3</th>\n",
       "      <td>3rd pair of these I've purchased.  My wife has...</td>\n",
       "      <td>1</td>\n",
       "    </tr>\n",
       "    <tr>\n",
       "      <th>4</th>\n",
       "      <td>My old Koss Porta Pros finally got beat to dea...</td>\n",
       "      <td>1</td>\n",
       "    </tr>\n",
       "  </tbody>\n",
       "</table>\n",
       "</div>"
      ],
      "text/plain": [
       "                                             reviews  sentiment\n",
       "0  Get the SportaPros instead.  They look better,...          1\n",
       "1  I've been looking for a lighter alternative to...          1\n",
       "2  The finest headphones available. You can spend...          1\n",
       "3  3rd pair of these I've purchased.  My wife has...          1\n",
       "4  My old Koss Porta Pros finally got beat to dea...          1"
      ]
     },
     "execution_count": 44,
     "metadata": {},
     "output_type": "execute_result"
    }
   ],
   "source": [
    "text_stats_df.head()"
   ]
  },
  {
   "cell_type": "code",
   "execution_count": 45,
   "metadata": {},
   "outputs": [],
   "source": [
    "# Create functions to count the amount of words and characters in a review\n",
    "def word_count(text):\n",
    "    return len(word_tokenize(text))\n",
    "\n",
    "def char_count(text):\n",
    "    text_without_spaces = text.replace(\" \", \"\")\n",
    "    return len(text_without_spaces)"
   ]
  },
  {
   "cell_type": "code",
   "execution_count": 46,
   "metadata": {},
   "outputs": [],
   "source": [
    "text_stats_df['word_count'] = df.reviews.apply(lambda x: word_count(x))\n",
    "text_stats_df['review_len'] = df.reviews.apply(lambda x: char_count(x))"
   ]
  },
  {
   "cell_type": "code",
   "execution_count": null,
   "metadata": {},
   "outputs": [],
   "source": []
  },
  {
   "cell_type": "code",
   "execution_count": 47,
   "metadata": {},
   "outputs": [
    {
     "data": {
      "text/html": [
       "<div>\n",
       "<style scoped>\n",
       "    .dataframe tbody tr th:only-of-type {\n",
       "        vertical-align: middle;\n",
       "    }\n",
       "\n",
       "    .dataframe tbody tr th {\n",
       "        vertical-align: top;\n",
       "    }\n",
       "\n",
       "    .dataframe thead th {\n",
       "        text-align: right;\n",
       "    }\n",
       "</style>\n",
       "<table border=\"1\" class=\"dataframe\">\n",
       "  <thead>\n",
       "    <tr style=\"text-align: right;\">\n",
       "      <th></th>\n",
       "      <th>reviews</th>\n",
       "      <th>sentiment</th>\n",
       "      <th>word_count</th>\n",
       "      <th>review_len</th>\n",
       "    </tr>\n",
       "  </thead>\n",
       "  <tbody>\n",
       "    <tr>\n",
       "      <th>0</th>\n",
       "      <td>Get the SportaPros instead.  They look better,...</td>\n",
       "      <td>1</td>\n",
       "      <td>31</td>\n",
       "      <td>127</td>\n",
       "    </tr>\n",
       "    <tr>\n",
       "      <th>1</th>\n",
       "      <td>I've been looking for a lighter alternative to...</td>\n",
       "      <td>1</td>\n",
       "      <td>263</td>\n",
       "      <td>1097</td>\n",
       "    </tr>\n",
       "    <tr>\n",
       "      <th>2</th>\n",
       "      <td>The finest headphones available. You can spend...</td>\n",
       "      <td>1</td>\n",
       "      <td>119</td>\n",
       "      <td>512</td>\n",
       "    </tr>\n",
       "    <tr>\n",
       "      <th>3</th>\n",
       "      <td>3rd pair of these I've purchased.  My wife has...</td>\n",
       "      <td>1</td>\n",
       "      <td>108</td>\n",
       "      <td>419</td>\n",
       "    </tr>\n",
       "    <tr>\n",
       "      <th>4</th>\n",
       "      <td>My old Koss Porta Pros finally got beat to dea...</td>\n",
       "      <td>1</td>\n",
       "      <td>170</td>\n",
       "      <td>713</td>\n",
       "    </tr>\n",
       "  </tbody>\n",
       "</table>\n",
       "</div>"
      ],
      "text/plain": [
       "                                             reviews  sentiment  word_count  \\\n",
       "0  Get the SportaPros instead.  They look better,...          1          31   \n",
       "1  I've been looking for a lighter alternative to...          1         263   \n",
       "2  The finest headphones available. You can spend...          1         119   \n",
       "3  3rd pair of these I've purchased.  My wife has...          1         108   \n",
       "4  My old Koss Porta Pros finally got beat to dea...          1         170   \n",
       "\n",
       "   review_len  \n",
       "0         127  \n",
       "1        1097  \n",
       "2         512  \n",
       "3         419  \n",
       "4         713  "
      ]
     },
     "execution_count": 47,
     "metadata": {},
     "output_type": "execute_result"
    }
   ],
   "source": [
    "text_stats_df.head()"
   ]
  },
  {
   "cell_type": "code",
   "execution_count": 48,
   "metadata": {},
   "outputs": [
    {
     "data": {
      "image/png": "[encoded data removed]",
      "text/plain": [
       "<Figure size 720x720 with 1 Axes>"
      ]
     },
     "metadata": {
      "needs_background": "light"
     },
     "output_type": "display_data"
    }
   ],
   "source": [
    "# Average word count of positive and negative reviews\n",
    "text_stats_df.groupby('sentiment')['word_count'].mean().plot(kind = 'bar', figsize = (10,10));"
   ]
  },
  {
   "cell_type": "code",
   "execution_count": 49,
   "metadata": {},
   "outputs": [
    {
     "data": {
      "image/png": "[encoded data removed]",
      "text/plain": [
       "<Figure size 720x720 with 1 Axes>"
      ]
     },
     "metadata": {
      "needs_background": "light"
     },
     "output_type": "display_data"
    }
   ],
   "source": [
    "# Average review length of positive and negative reviews\n",
    "text_stats_df.groupby('sentiment')['review_len'].mean().plot(kind = 'bar', figsize = (10,10));"
   ]
  },
  {
   "cell_type": "markdown",
   "metadata": {},
   "source": [
    "Negative reviews tend to be slightly longer than positive reviews. This may explain that people are more descriptive when they feel negativley towards a product. The below correlation matrix confirms this, even though the correlation between word count, review length, and sentiment is small it is still negative."
   ]
  },
  {
   "cell_type": "code",
   "execution_count": 50,
   "metadata": {},
   "outputs": [
    {
     "data": {
      "image/png": "[encoded data removed]",
      "text/plain": [
       "<Figure size 720x720 with 2 Axes>"
      ]
     },
     "metadata": {
      "needs_background": "light"
     },
     "output_type": "display_data"
    }
   ],
   "source": [
    "correlation = text_stats_df[['sentiment', 'word_count', 'review_len']].corr()\n",
    "mask = np.zeros_like(correlation, dtype=np.bool)\n",
    "mask[np.triu_indices_from(mask)] = True\n",
    "plt.figure(figsize=(10,10))\n",
    "plt.xticks(fontsize=10)\n",
    "plt.yticks(fontsize=10)\n",
    "sns.heatmap(correlation, cmap='coolwarm', annot=True, annot_kws={\"size\": 10}, linewidths=10, vmin=-1.5, mask=mask);"
   ]
  },
  {
   "cell_type": "code",
   "execution_count": 51,
   "metadata": {},
   "outputs": [
    {
     "data": {
      "text/html": [
       "<div>\n",
       "<style scoped>\n",
       "    .dataframe tbody tr th:only-of-type {\n",
       "        vertical-align: middle;\n",
       "    }\n",
       "\n",
       "    .dataframe tbody tr th {\n",
       "        vertical-align: top;\n",
       "    }\n",
       "\n",
       "    .dataframe thead th {\n",
       "        text-align: right;\n",
       "    }\n",
       "</style>\n",
       "<table border=\"1\" class=\"dataframe\">\n",
       "  <thead>\n",
       "    <tr style=\"text-align: right;\">\n",
       "      <th></th>\n",
       "      <th>sentiment</th>\n",
       "      <th>word_count</th>\n",
       "      <th>review_len</th>\n",
       "    </tr>\n",
       "  </thead>\n",
       "  <tbody>\n",
       "    <tr>\n",
       "      <th>count</th>\n",
       "      <td>189482.000000</td>\n",
       "      <td>189482.000000</td>\n",
       "      <td>189482.000000</td>\n",
       "    </tr>\n",
       "    <tr>\n",
       "      <th>mean</th>\n",
       "      <td>0.786164</td>\n",
       "      <td>89.689163</td>\n",
       "      <td>351.412810</td>\n",
       "    </tr>\n",
       "    <tr>\n",
       "      <th>std</th>\n",
       "      <td>0.410013</td>\n",
       "      <td>131.407122</td>\n",
       "      <td>521.631066</td>\n",
       "    </tr>\n",
       "    <tr>\n",
       "      <th>min</th>\n",
       "      <td>0.000000</td>\n",
       "      <td>2.000000</td>\n",
       "      <td>4.000000</td>\n",
       "    </tr>\n",
       "    <tr>\n",
       "      <th>25%</th>\n",
       "      <td>1.000000</td>\n",
       "      <td>22.000000</td>\n",
       "      <td>86.000000</td>\n",
       "    </tr>\n",
       "    <tr>\n",
       "      <th>50%</th>\n",
       "      <td>1.000000</td>\n",
       "      <td>49.000000</td>\n",
       "      <td>192.000000</td>\n",
       "    </tr>\n",
       "    <tr>\n",
       "      <th>75%</th>\n",
       "      <td>1.000000</td>\n",
       "      <td>105.000000</td>\n",
       "      <td>410.000000</td>\n",
       "    </tr>\n",
       "    <tr>\n",
       "      <th>max</th>\n",
       "      <td>1.000000</td>\n",
       "      <td>4744.000000</td>\n",
       "      <td>19244.000000</td>\n",
       "    </tr>\n",
       "  </tbody>\n",
       "</table>\n",
       "</div>"
      ],
      "text/plain": [
       "           sentiment     word_count     review_len\n",
       "count  189482.000000  189482.000000  189482.000000\n",
       "mean        0.786164      89.689163     351.412810\n",
       "std         0.410013     131.407122     521.631066\n",
       "min         0.000000       2.000000       4.000000\n",
       "25%         1.000000      22.000000      86.000000\n",
       "50%         1.000000      49.000000     192.000000\n",
       "75%         1.000000     105.000000     410.000000\n",
       "max         1.000000    4744.000000   19244.000000"
      ]
     },
     "execution_count": 51,
     "metadata": {},
     "output_type": "execute_result"
    }
   ],
   "source": [
    "text_stats_df.describe()"
   ]
  },
  {
   "cell_type": "code",
   "execution_count": 52,
   "metadata": {},
   "outputs": [
    {
     "data": {
      "image/png": "[encoded data removed]",
      "text/plain": [
       "<Figure size 432x288 with 1 Axes>"
      ]
     },
     "metadata": {
      "needs_background": "light"
     },
     "output_type": "display_data"
    }
   ],
   "source": [
    "text_stats_df.word_count.hist();"
   ]
  },
  {
   "cell_type": "code",
   "execution_count": 53,
   "metadata": {},
   "outputs": [
    {
     "data": {
      "image/png": "[encoded data removed]",
      "text/plain": [
       "<Figure size 432x288 with 1 Axes>"
      ]
     },
     "metadata": {
      "needs_background": "light"
     },
     "output_type": "display_data"
    }
   ],
   "source": [
    "text_stats_df.review_len.hist();"
   ]
  },
  {
   "cell_type": "markdown",
   "metadata": {},
   "source": [
    "Examining other statistics of word count and review length, I see most reviews are under 100 words and under around 400 characters."
   ]
  },
  {
   "cell_type": "code",
   "execution_count": 54,
   "metadata": {},
   "outputs": [
    {
     "data": {
      "text/html": [
       "<div>\n",
       "<style scoped>\n",
       "    .dataframe tbody tr th:only-of-type {\n",
       "        vertical-align: middle;\n",
       "    }\n",
       "\n",
       "    .dataframe tbody tr th {\n",
       "        vertical-align: top;\n",
       "    }\n",
       "\n",
       "    .dataframe thead th {\n",
       "        text-align: right;\n",
       "    }\n",
       "</style>\n",
       "<table border=\"1\" class=\"dataframe\">\n",
       "  <thead>\n",
       "    <tr style=\"text-align: right;\">\n",
       "      <th></th>\n",
       "      <th>reviews</th>\n",
       "      <th>sentiment</th>\n",
       "      <th>word_count</th>\n",
       "      <th>review_len</th>\n",
       "    </tr>\n",
       "  </thead>\n",
       "  <tbody>\n",
       "    <tr>\n",
       "      <th>111300</th>\n",
       "      <td>UPDATE 12/12/15: Recently my Beats Studio Wire...</td>\n",
       "      <td>1</td>\n",
       "      <td>4744</td>\n",
       "      <td>19244</td>\n",
       "    </tr>\n",
       "    <tr>\n",
       "      <th>2772</th>\n",
       "      <td>If this is your first foray into high-end audi...</td>\n",
       "      <td>1</td>\n",
       "      <td>4014</td>\n",
       "      <td>16470</td>\n",
       "    </tr>\n",
       "    <tr>\n",
       "      <th>174311</th>\n",
       "      <td>&lt;div id=\"video-block-R21WD3K0GDQSEG\" class=\"a-...</td>\n",
       "      <td>1</td>\n",
       "      <td>3879</td>\n",
       "      <td>15043</td>\n",
       "    </tr>\n",
       "    <tr>\n",
       "      <th>97913</th>\n",
       "      <td>Taking the Bose MIE2i, the most comfortable an...</td>\n",
       "      <td>1</td>\n",
       "      <td>3719</td>\n",
       "      <td>15626</td>\n",
       "    </tr>\n",
       "    <tr>\n",
       "      <th>169790</th>\n",
       "      <td>Item arrived on time, well-packaged. Contained...</td>\n",
       "      <td>1</td>\n",
       "      <td>3256</td>\n",
       "      <td>12579</td>\n",
       "    </tr>\n",
       "    <tr>\n",
       "      <th>2854</th>\n",
       "      <td>I bought the HD600 refurbished from amazon.com...</td>\n",
       "      <td>1</td>\n",
       "      <td>3124</td>\n",
       "      <td>12914</td>\n",
       "    </tr>\n",
       "    <tr>\n",
       "      <th>134290</th>\n",
       "      <td>I've spent a long time in the following compar...</td>\n",
       "      <td>1</td>\n",
       "      <td>3043</td>\n",
       "      <td>11828</td>\n",
       "    </tr>\n",
       "    <tr>\n",
       "      <th>162588</th>\n",
       "      <td>I bought these headphones and they were my fir...</td>\n",
       "      <td>1</td>\n",
       "      <td>2991</td>\n",
       "      <td>13184</td>\n",
       "    </tr>\n",
       "    <tr>\n",
       "      <th>186975</th>\n",
       "      <td>Recently I went on  search for noise cancellin...</td>\n",
       "      <td>1</td>\n",
       "      <td>2800</td>\n",
       "      <td>11228</td>\n",
       "    </tr>\n",
       "    <tr>\n",
       "      <th>111948</th>\n",
       "      <td>Compared the Audio Technica ANC7B's vs. Bose Q...</td>\n",
       "      <td>0</td>\n",
       "      <td>2786</td>\n",
       "      <td>10671</td>\n",
       "    </tr>\n",
       "    <tr>\n",
       "      <th>162572</th>\n",
       "      <td>The V-Moda Crossfade LP over-the-ear headphone...</td>\n",
       "      <td>1</td>\n",
       "      <td>2745</td>\n",
       "      <td>11106</td>\n",
       "    </tr>\n",
       "    <tr>\n",
       "      <th>118958</th>\n",
       "      <td>7/4/2014 update:\\nWell, I got the streaming up...</td>\n",
       "      <td>1</td>\n",
       "      <td>2669</td>\n",
       "      <td>10175</td>\n",
       "    </tr>\n",
       "    <tr>\n",
       "      <th>36568</th>\n",
       "      <td>Sometimes I think I am too self-indulgent, too...</td>\n",
       "      <td>1</td>\n",
       "      <td>2608</td>\n",
       "      <td>10208</td>\n",
       "    </tr>\n",
       "    <tr>\n",
       "      <th>172250</th>\n",
       "      <td>-I purchased the G933- Stating this since all ...</td>\n",
       "      <td>0</td>\n",
       "      <td>2564</td>\n",
       "      <td>9337</td>\n",
       "    </tr>\n",
       "    <tr>\n",
       "      <th>136101</th>\n",
       "      <td>&lt;a data-hook=\"product-link-linked\" class=\"a-li...</td>\n",
       "      <td>1</td>\n",
       "      <td>2491</td>\n",
       "      <td>11090</td>\n",
       "    </tr>\n",
       "    <tr>\n",
       "      <th>136188</th>\n",
       "      <td>CURRENT QUICKNOTES:\\nLong story short I'm taki...</td>\n",
       "      <td>0</td>\n",
       "      <td>2471</td>\n",
       "      <td>9341</td>\n",
       "    </tr>\n",
       "    <tr>\n",
       "      <th>136305</th>\n",
       "      <td>When I decided to give them a try I had no rea...</td>\n",
       "      <td>1</td>\n",
       "      <td>2437</td>\n",
       "      <td>9419</td>\n",
       "    </tr>\n",
       "    <tr>\n",
       "      <th>27592</th>\n",
       "      <td>HOW/WHY I FOUND THE AUDIO-TECHNICA ATH-ANC7:\\n...</td>\n",
       "      <td>1</td>\n",
       "      <td>2405</td>\n",
       "      <td>9600</td>\n",
       "    </tr>\n",
       "    <tr>\n",
       "      <th>14780</th>\n",
       "      <td>I have owned a pair of Sennheiser HD-280 PRO h...</td>\n",
       "      <td>0</td>\n",
       "      <td>2393</td>\n",
       "      <td>9454</td>\n",
       "    </tr>\n",
       "    <tr>\n",
       "      <th>13709</th>\n",
       "      <td>Oh, one of the most beloved and well known hea...</td>\n",
       "      <td>1</td>\n",
       "      <td>2384</td>\n",
       "      <td>9237</td>\n",
       "    </tr>\n",
       "  </tbody>\n",
       "</table>\n",
       "</div>"
      ],
      "text/plain": [
       "                                                  reviews  sentiment  \\\n",
       "111300  UPDATE 12/12/15: Recently my Beats Studio Wire...          1   \n",
       "2772    If this is your first foray into high-end audi...          1   \n",
       "174311  <div id=\"video-block-R21WD3K0GDQSEG\" class=\"a-...          1   \n",
       "97913   Taking the Bose MIE2i, the most comfortable an...          1   \n",
       "169790  Item arrived on time, well-packaged. Contained...          1   \n",
       "2854    I bought the HD600 refurbished from amazon.com...          1   \n",
       "134290  I've spent a long time in the following compar...          1   \n",
       "162588  I bought these headphones and they were my fir...          1   \n",
       "186975  Recently I went on  search for noise cancellin...          1   \n",
       "111948  Compared the Audio Technica ANC7B's vs. Bose Q...          0   \n",
       "162572  The V-Moda Crossfade LP over-the-ear headphone...          1   \n",
       "118958  7/4/2014 update:\\nWell, I got the streaming up...          1   \n",
       "36568   Sometimes I think I am too self-indulgent, too...          1   \n",
       "172250  -I purchased the G933- Stating this since all ...          0   \n",
       "136101  <a data-hook=\"product-link-linked\" class=\"a-li...          1   \n",
       "136188  CURRENT QUICKNOTES:\\nLong story short I'm taki...          0   \n",
       "136305  When I decided to give them a try I had no rea...          1   \n",
       "27592   HOW/WHY I FOUND THE AUDIO-TECHNICA ATH-ANC7:\\n...          1   \n",
       "14780   I have owned a pair of Sennheiser HD-280 PRO h...          0   \n",
       "13709   Oh, one of the most beloved and well known hea...          1   \n",
       "\n",
       "        word_count  review_len  \n",
       "111300        4744       19244  \n",
       "2772          4014       16470  \n",
       "174311        3879       15043  \n",
       "97913         3719       15626  \n",
       "169790        3256       12579  \n",
       "2854          3124       12914  \n",
       "134290        3043       11828  \n",
       "162588        2991       13184  \n",
       "186975        2800       11228  \n",
       "111948        2786       10671  \n",
       "162572        2745       11106  \n",
       "118958        2669       10175  \n",
       "36568         2608       10208  \n",
       "172250        2564        9337  \n",
       "136101        2491       11090  \n",
       "136188        2471        9341  \n",
       "136305        2437        9419  \n",
       "27592         2405        9600  \n",
       "14780         2393        9454  \n",
       "13709         2384        9237  "
      ]
     },
     "execution_count": 54,
     "metadata": {},
     "output_type": "execute_result"
    }
   ],
   "source": [
    "text_stats_df.sort_values(by = 'word_count', ascending = False).head(20)"
   ]
  },
  {
   "cell_type": "code",
   "execution_count": 55,
   "metadata": {},
   "outputs": [
    {
     "data": {
      "text/html": [
       "<div>\n",
       "<style scoped>\n",
       "    .dataframe tbody tr th:only-of-type {\n",
       "        vertical-align: middle;\n",
       "    }\n",
       "\n",
       "    .dataframe tbody tr th {\n",
       "        vertical-align: top;\n",
       "    }\n",
       "\n",
       "    .dataframe thead th {\n",
       "        text-align: right;\n",
       "    }\n",
       "</style>\n",
       "<table border=\"1\" class=\"dataframe\">\n",
       "  <thead>\n",
       "    <tr style=\"text-align: right;\">\n",
       "      <th></th>\n",
       "      <th>reviews</th>\n",
       "      <th>sentiment</th>\n",
       "      <th>word_count</th>\n",
       "      <th>review_len</th>\n",
       "    </tr>\n",
       "  </thead>\n",
       "  <tbody>\n",
       "    <tr>\n",
       "      <th>90444</th>\n",
       "      <td>Great Great</td>\n",
       "      <td>1</td>\n",
       "      <td>2</td>\n",
       "      <td>10</td>\n",
       "    </tr>\n",
       "    <tr>\n",
       "      <th>20214</th>\n",
       "      <td>Uncomfortable Uncomfortable</td>\n",
       "      <td>0</td>\n",
       "      <td>2</td>\n",
       "      <td>26</td>\n",
       "    </tr>\n",
       "    <tr>\n",
       "      <th>9199</th>\n",
       "      <td>works works</td>\n",
       "      <td>1</td>\n",
       "      <td>2</td>\n",
       "      <td>10</td>\n",
       "    </tr>\n",
       "    <tr>\n",
       "      <th>43149</th>\n",
       "      <td>Good Good</td>\n",
       "      <td>1</td>\n",
       "      <td>2</td>\n",
       "      <td>8</td>\n",
       "    </tr>\n",
       "    <tr>\n",
       "      <th>185135</th>\n",
       "      <td>great great</td>\n",
       "      <td>1</td>\n",
       "      <td>2</td>\n",
       "      <td>10</td>\n",
       "    </tr>\n",
       "    <tr>\n",
       "      <th>9282</th>\n",
       "      <td>A+ A+</td>\n",
       "      <td>1</td>\n",
       "      <td>2</td>\n",
       "      <td>4</td>\n",
       "    </tr>\n",
       "    <tr>\n",
       "      <th>90088</th>\n",
       "      <td>Thanks Thanks</td>\n",
       "      <td>1</td>\n",
       "      <td>2</td>\n",
       "      <td>12</td>\n",
       "    </tr>\n",
       "    <tr>\n",
       "      <th>90041</th>\n",
       "      <td>A1 A1</td>\n",
       "      <td>1</td>\n",
       "      <td>2</td>\n",
       "      <td>4</td>\n",
       "    </tr>\n",
       "    <tr>\n",
       "      <th>146848</th>\n",
       "      <td>Excellent Excellent</td>\n",
       "      <td>1</td>\n",
       "      <td>2</td>\n",
       "      <td>18</td>\n",
       "    </tr>\n",
       "    <tr>\n",
       "      <th>89995</th>\n",
       "      <td>Ok ok</td>\n",
       "      <td>1</td>\n",
       "      <td>2</td>\n",
       "      <td>4</td>\n",
       "    </tr>\n",
       "    <tr>\n",
       "      <th>128644</th>\n",
       "      <td>Good Good</td>\n",
       "      <td>1</td>\n",
       "      <td>2</td>\n",
       "      <td>8</td>\n",
       "    </tr>\n",
       "    <tr>\n",
       "      <th>188877</th>\n",
       "      <td>Sturdy Recommended</td>\n",
       "      <td>1</td>\n",
       "      <td>2</td>\n",
       "      <td>17</td>\n",
       "    </tr>\n",
       "    <tr>\n",
       "      <th>146987</th>\n",
       "      <td>Great Great</td>\n",
       "      <td>1</td>\n",
       "      <td>2</td>\n",
       "      <td>10</td>\n",
       "    </tr>\n",
       "    <tr>\n",
       "      <th>44118</th>\n",
       "      <td>Good CMU</td>\n",
       "      <td>1</td>\n",
       "      <td>2</td>\n",
       "      <td>7</td>\n",
       "    </tr>\n",
       "    <tr>\n",
       "      <th>44151</th>\n",
       "      <td>none none</td>\n",
       "      <td>1</td>\n",
       "      <td>2</td>\n",
       "      <td>8</td>\n",
       "    </tr>\n",
       "    <tr>\n",
       "      <th>180481</th>\n",
       "      <td>great great</td>\n",
       "      <td>1</td>\n",
       "      <td>2</td>\n",
       "      <td>10</td>\n",
       "    </tr>\n",
       "    <tr>\n",
       "      <th>44323</th>\n",
       "      <td>Comfortable Comfortable</td>\n",
       "      <td>1</td>\n",
       "      <td>2</td>\n",
       "      <td>22</td>\n",
       "    </tr>\n",
       "    <tr>\n",
       "      <th>44406</th>\n",
       "      <td>EXCELLENT EXCELLENT</td>\n",
       "      <td>1</td>\n",
       "      <td>2</td>\n",
       "      <td>18</td>\n",
       "    </tr>\n",
       "    <tr>\n",
       "      <th>89598</th>\n",
       "      <td>quality quality</td>\n",
       "      <td>1</td>\n",
       "      <td>2</td>\n",
       "      <td>14</td>\n",
       "    </tr>\n",
       "    <tr>\n",
       "      <th>132147</th>\n",
       "      <td>Excelente Excelente</td>\n",
       "      <td>1</td>\n",
       "      <td>2</td>\n",
       "      <td>18</td>\n",
       "    </tr>\n",
       "  </tbody>\n",
       "</table>\n",
       "</div>"
      ],
      "text/plain": [
       "                            reviews  sentiment  word_count  review_len\n",
       "90444                   Great Great          1           2          10\n",
       "20214   Uncomfortable Uncomfortable          0           2          26\n",
       "9199                    works works          1           2          10\n",
       "43149                     Good Good          1           2           8\n",
       "185135                  great great          1           2          10\n",
       "9282                          A+ A+          1           2           4\n",
       "90088                 Thanks Thanks          1           2          12\n",
       "90041                         A1 A1          1           2           4\n",
       "146848          Excellent Excellent          1           2          18\n",
       "89995                         Ok ok          1           2           4\n",
       "128644                    Good Good          1           2           8\n",
       "188877           Sturdy Recommended          1           2          17\n",
       "146987                  Great Great          1           2          10\n",
       "44118                      Good CMU          1           2           7\n",
       "44151                     none none          1           2           8\n",
       "180481                  great great          1           2          10\n",
       "44323       Comfortable Comfortable          1           2          22\n",
       "44406           EXCELLENT EXCELLENT          1           2          18\n",
       "89598               quality quality          1           2          14\n",
       "132147          Excelente Excelente          1           2          18"
      ]
     },
     "execution_count": 55,
     "metadata": {},
     "output_type": "execute_result"
    }
   ],
   "source": [
    "text_stats_df.sort_values(by = 'word_count', ascending = False).tail(20)"
   ]
  },
  {
   "cell_type": "markdown",
   "metadata": {},
   "source": [
    "### Text preprocessing\n",
    "\n",
    "Examining some of the longest reviews, I can see that text the below steps are needed to clean text:\n",
    "\n",
    "* Convert text to lowercase: This makes sure that the model does not treat the same word with different cases as different words.\n",
    "\n",
    "* Remove punctuation: This step removes any special characters or punctuation marks that might not add much meaning to the text.\n",
    "\n",
    "* Tokenize the text: Tokenization is the process of splitting the text into individual words or phrases. This is an important step as it allows us to analyze and manipulate individual words or phrases.\n",
    "\n",
    "* Remove stop words: Stop words are commonly used words such as \"the\", \"a\", \"an\", \"in\", \"and\" that do not carry much meaning and can be removed.\n",
    "\n",
    "* Remove numbers: If the numbers in the text do not add much value to the analysis, they can be removed.\n",
    "\n",
    "* Stemming or Lemmatization: Stemming and Lemmatization are techniques used to reduce words to their root form so that variations of the same word can be treated as the same word.\n",
    "\n",
    "* Remove HTML tags, URLs, line breaks, and extra spaces.\n",
    "\n",
    "* Filter POS tags to include only nouns, verbs, adjectives, and adverbs.\n"
   ]
  },
  {
   "cell_type": "code",
   "execution_count": 56,
   "metadata": {},
   "outputs": [
    {
     "data": {
      "text/plain": [
       "326"
      ]
     },
     "execution_count": 56,
     "metadata": {},
     "output_type": "execute_result"
    }
   ],
   "source": [
    "# grab default stop words from spacy library\n",
    "stop_words = nlp.Defaults.stop_words\n",
    "len(stop_words)"
   ]
  },
  {
   "cell_type": "code",
   "execution_count": 57,
   "metadata": {},
   "outputs": [],
   "source": [
    "def clean_text(text):\n",
    "    # Replace &nbsp; with regular space\n",
    "    text = text.replace(\"&nbsp;\", \" \")\n",
    "    # Remove HTML tags and attributes\n",
    "    text = re.sub(r\"<[^>]+>\", \"\", text)\n",
    "    # Remove URLs\n",
    "    text = re.sub(r\"http\\S+\", \"\", text)\n",
    "    # Remove line breaks and extra whitespace\n",
    "    text = re.sub(r\"\\s+\", \" \", text)\n",
    "    # Remove numbers and special characters\n",
    "    text = re.sub(r'[^a-zA-Z\\s]', '', text)\n",
    "    text = re.sub(r'\\d+', '', text)\n",
    "    # Convert to lowercase and remove leading/trailing white space tokenize and lemmatize\n",
    "    doc = nlp(text)\n",
    "    lemmas = [token.lemma_.lower().strip() for token in doc if not token.is_punct and not token.is_stop and len(token) > 2\\\n",
    "             and token.pos_ in ['NOUN', 'VERB', 'ADJ', 'ADV']]\n",
    "\n",
    "    return lemmas"
   ]
  },
  {
   "cell_type": "code",
   "execution_count": 58,
   "metadata": {},
   "outputs": [
    {
     "data": {
      "text/plain": [
       "\"It does what it says it does.  Transmission is a little weak, as obstacles (like people walking in front of it) tend to make it break up, but overall it's decent.  Probably not good for a party type situation.  I've only used as transmitter. Probably not good for a party type situation\""
      ]
     },
     "execution_count": 58,
     "metadata": {},
     "output_type": "execute_result"
    }
   ],
   "source": [
    "text_stats_df.reviews[101837]"
   ]
  },
  {
   "cell_type": "code",
   "execution_count": 59,
   "metadata": {},
   "outputs": [
    {
     "data": {
      "text/plain": [
       "['say',\n",
       " 'little',\n",
       " 'weak',\n",
       " 'obstacle',\n",
       " 'people',\n",
       " 'walk',\n",
       " 'tend',\n",
       " 'break',\n",
       " 'overall',\n",
       " 'decent',\n",
       " 'probably',\n",
       " 'good',\n",
       " 'party',\n",
       " 'type',\n",
       " 'situation',\n",
       " 'transmitter',\n",
       " 'probably',\n",
       " 'good',\n",
       " 'party',\n",
       " 'type',\n",
       " 'situation']"
      ]
     },
     "execution_count": 59,
     "metadata": {},
     "output_type": "execute_result"
    }
   ],
   "source": [
    "clean_text(text_stats_df.reviews[101837])"
   ]
  },
  {
   "cell_type": "code",
   "execution_count": 60,
   "metadata": {},
   "outputs": [],
   "source": [
    "text_stats_df['cleaned_text'] = text_stats_df.reviews.apply(lambda x: clean_text(x))"
   ]
  },
  {
   "cell_type": "code",
   "execution_count": 61,
   "metadata": {},
   "outputs": [
    {
     "data": {
      "text/html": [
       "<div>\n",
       "<style scoped>\n",
       "    .dataframe tbody tr th:only-of-type {\n",
       "        vertical-align: middle;\n",
       "    }\n",
       "\n",
       "    .dataframe tbody tr th {\n",
       "        vertical-align: top;\n",
       "    }\n",
       "\n",
       "    .dataframe thead th {\n",
       "        text-align: right;\n",
       "    }\n",
       "</style>\n",
       "<table border=\"1\" class=\"dataframe\">\n",
       "  <thead>\n",
       "    <tr style=\"text-align: right;\">\n",
       "      <th></th>\n",
       "      <th>reviews</th>\n",
       "      <th>sentiment</th>\n",
       "      <th>word_count</th>\n",
       "      <th>review_len</th>\n",
       "      <th>cleaned_text</th>\n",
       "    </tr>\n",
       "  </thead>\n",
       "  <tbody>\n",
       "    <tr>\n",
       "      <th>0</th>\n",
       "      <td>Get the SportaPros instead.  They look better,...</td>\n",
       "      <td>1</td>\n",
       "      <td>31</td>\n",
       "      <td>127</td>\n",
       "      <td>[instead, look, well, wear, street, configurat...</td>\n",
       "    </tr>\n",
       "    <tr>\n",
       "      <th>1</th>\n",
       "      <td>I've been looking for a lighter alternative to...</td>\n",
       "      <td>1</td>\n",
       "      <td>263</td>\n",
       "      <td>1097</td>\n",
       "      <td>[look, light, alternative, absolutely, perfect...</td>\n",
       "    </tr>\n",
       "    <tr>\n",
       "      <th>2</th>\n",
       "      <td>The finest headphones available. You can spend...</td>\n",
       "      <td>1</td>\n",
       "      <td>119</td>\n",
       "      <td>512</td>\n",
       "      <td>[fine, headphone, available, spend, vast, amou...</td>\n",
       "    </tr>\n",
       "    <tr>\n",
       "      <th>3</th>\n",
       "      <td>3rd pair of these I've purchased.  My wife has...</td>\n",
       "      <td>1</td>\n",
       "      <td>108</td>\n",
       "      <td>419</td>\n",
       "      <td>[pair, purchase, wife, pair, pair, glove, box,...</td>\n",
       "    </tr>\n",
       "    <tr>\n",
       "      <th>4</th>\n",
       "      <td>My old Koss Porta Pros finally got beat to dea...</td>\n",
       "      <td>1</td>\n",
       "      <td>170</td>\n",
       "      <td>713</td>\n",
       "      <td>[old, finally, get, beat, death, year, ago, la...</td>\n",
       "    </tr>\n",
       "  </tbody>\n",
       "</table>\n",
       "</div>"
      ],
      "text/plain": [
       "                                             reviews  sentiment  word_count  \\\n",
       "0  Get the SportaPros instead.  They look better,...          1          31   \n",
       "1  I've been looking for a lighter alternative to...          1         263   \n",
       "2  The finest headphones available. You can spend...          1         119   \n",
       "3  3rd pair of these I've purchased.  My wife has...          1         108   \n",
       "4  My old Koss Porta Pros finally got beat to dea...          1         170   \n",
       "\n",
       "   review_len                                       cleaned_text  \n",
       "0         127  [instead, look, well, wear, street, configurat...  \n",
       "1        1097  [look, light, alternative, absolutely, perfect...  \n",
       "2         512  [fine, headphone, available, spend, vast, amou...  \n",
       "3         419  [pair, purchase, wife, pair, pair, glove, box,...  \n",
       "4         713  [old, finally, get, beat, death, year, ago, la...  "
      ]
     },
     "execution_count": 61,
     "metadata": {},
     "output_type": "execute_result"
    }
   ],
   "source": [
    "text_stats_df.head()"
   ]
  },
  {
   "cell_type": "code",
   "execution_count": 62,
   "metadata": {},
   "outputs": [],
   "source": [
    "# New function to count tokens \n",
    "def word_count_tokened(text):\n",
    "    return len(text)\n",
    "\n",
    "def char_count_tokened(text):\n",
    "    chars = sum(len(token) for token in text)\n",
    "    return chars"
   ]
  },
  {
   "cell_type": "code",
   "execution_count": 63,
   "metadata": {},
   "outputs": [],
   "source": [
    "text_stats_df['cleaned_word_count'] = text_stats_df.cleaned_text.apply(lambda x: word_count_tokened(x))\n",
    "text_stats_df['cleaned_review_len'] = text_stats_df.cleaned_text.apply(lambda x: char_count_tokened(x))"
   ]
  },
  {
   "cell_type": "code",
   "execution_count": null,
   "metadata": {},
   "outputs": [],
   "source": []
  },
  {
   "cell_type": "code",
   "execution_count": 64,
   "metadata": {},
   "outputs": [
    {
     "data": {
      "text/html": [
       "<div>\n",
       "<style scoped>\n",
       "    .dataframe tbody tr th:only-of-type {\n",
       "        vertical-align: middle;\n",
       "    }\n",
       "\n",
       "    .dataframe tbody tr th {\n",
       "        vertical-align: top;\n",
       "    }\n",
       "\n",
       "    .dataframe thead th {\n",
       "        text-align: right;\n",
       "    }\n",
       "</style>\n",
       "<table border=\"1\" class=\"dataframe\">\n",
       "  <thead>\n",
       "    <tr style=\"text-align: right;\">\n",
       "      <th></th>\n",
       "      <th>sentiment</th>\n",
       "      <th>word_count</th>\n",
       "      <th>review_len</th>\n",
       "      <th>cleaned_word_count</th>\n",
       "      <th>cleaned_review_len</th>\n",
       "    </tr>\n",
       "  </thead>\n",
       "  <tbody>\n",
       "    <tr>\n",
       "      <th>count</th>\n",
       "      <td>189482.000000</td>\n",
       "      <td>189482.000000</td>\n",
       "      <td>189482.000000</td>\n",
       "      <td>189482.000000</td>\n",
       "      <td>189482.000000</td>\n",
       "    </tr>\n",
       "    <tr>\n",
       "      <th>mean</th>\n",
       "      <td>0.786164</td>\n",
       "      <td>89.689163</td>\n",
       "      <td>351.412810</td>\n",
       "      <td>30.438216</td>\n",
       "      <td>169.731252</td>\n",
       "    </tr>\n",
       "    <tr>\n",
       "      <th>std</th>\n",
       "      <td>0.410013</td>\n",
       "      <td>131.407122</td>\n",
       "      <td>521.631066</td>\n",
       "      <td>42.661517</td>\n",
       "      <td>245.995345</td>\n",
       "    </tr>\n",
       "    <tr>\n",
       "      <th>min</th>\n",
       "      <td>0.000000</td>\n",
       "      <td>2.000000</td>\n",
       "      <td>4.000000</td>\n",
       "      <td>0.000000</td>\n",
       "      <td>0.000000</td>\n",
       "    </tr>\n",
       "    <tr>\n",
       "      <th>25%</th>\n",
       "      <td>1.000000</td>\n",
       "      <td>22.000000</td>\n",
       "      <td>86.000000</td>\n",
       "      <td>8.000000</td>\n",
       "      <td>44.000000</td>\n",
       "    </tr>\n",
       "    <tr>\n",
       "      <th>50%</th>\n",
       "      <td>1.000000</td>\n",
       "      <td>49.000000</td>\n",
       "      <td>192.000000</td>\n",
       "      <td>18.000000</td>\n",
       "      <td>96.000000</td>\n",
       "    </tr>\n",
       "    <tr>\n",
       "      <th>75%</th>\n",
       "      <td>1.000000</td>\n",
       "      <td>105.000000</td>\n",
       "      <td>410.000000</td>\n",
       "      <td>36.000000</td>\n",
       "      <td>198.000000</td>\n",
       "    </tr>\n",
       "    <tr>\n",
       "      <th>max</th>\n",
       "      <td>1.000000</td>\n",
       "      <td>4744.000000</td>\n",
       "      <td>19244.000000</td>\n",
       "      <td>1642.000000</td>\n",
       "      <td>9301.000000</td>\n",
       "    </tr>\n",
       "  </tbody>\n",
       "</table>\n",
       "</div>"
      ],
      "text/plain": [
       "           sentiment     word_count     review_len  cleaned_word_count  \\\n",
       "count  189482.000000  189482.000000  189482.000000       189482.000000   \n",
       "mean        0.786164      89.689163     351.412810           30.438216   \n",
       "std         0.410013     131.407122     521.631066           42.661517   \n",
       "min         0.000000       2.000000       4.000000            0.000000   \n",
       "25%         1.000000      22.000000      86.000000            8.000000   \n",
       "50%         1.000000      49.000000     192.000000           18.000000   \n",
       "75%         1.000000     105.000000     410.000000           36.000000   \n",
       "max         1.000000    4744.000000   19244.000000         1642.000000   \n",
       "\n",
       "       cleaned_review_len  \n",
       "count       189482.000000  \n",
       "mean           169.731252  \n",
       "std            245.995345  \n",
       "min              0.000000  \n",
       "25%             44.000000  \n",
       "50%             96.000000  \n",
       "75%            198.000000  \n",
       "max           9301.000000  "
      ]
     },
     "execution_count": 64,
     "metadata": {},
     "output_type": "execute_result"
    }
   ],
   "source": [
    "text_stats_df.describe()"
   ]
  },
  {
   "cell_type": "code",
   "execution_count": 65,
   "metadata": {},
   "outputs": [
    {
     "data": {
      "image/png": "[encoded data removed]",
      "text/plain": [
       "<Figure size 432x288 with 1 Axes>"
      ]
     },
     "metadata": {
      "needs_background": "light"
     },
     "output_type": "display_data"
    }
   ],
   "source": [
    "text_stats_df.cleaned_word_count.hist();"
   ]
  },
  {
   "cell_type": "markdown",
   "metadata": {},
   "source": [
    "After cleaning text, some reviews now have 0 words."
   ]
  },
  {
   "cell_type": "code",
   "execution_count": 66,
   "metadata": {},
   "outputs": [
    {
     "data": {
      "text/html": [
       "<div>\n",
       "<style scoped>\n",
       "    .dataframe tbody tr th:only-of-type {\n",
       "        vertical-align: middle;\n",
       "    }\n",
       "\n",
       "    .dataframe tbody tr th {\n",
       "        vertical-align: top;\n",
       "    }\n",
       "\n",
       "    .dataframe thead th {\n",
       "        text-align: right;\n",
       "    }\n",
       "</style>\n",
       "<table border=\"1\" class=\"dataframe\">\n",
       "  <thead>\n",
       "    <tr style=\"text-align: right;\">\n",
       "      <th></th>\n",
       "      <th>reviews</th>\n",
       "      <th>sentiment</th>\n",
       "      <th>word_count</th>\n",
       "      <th>review_len</th>\n",
       "      <th>cleaned_text</th>\n",
       "      <th>cleaned_word_count</th>\n",
       "      <th>cleaned_review_len</th>\n",
       "    </tr>\n",
       "  </thead>\n",
       "  <tbody>\n",
       "    <tr>\n",
       "      <th>0</th>\n",
       "      <td>Get the SportaPros instead.  They look better,...</td>\n",
       "      <td>1</td>\n",
       "      <td>31</td>\n",
       "      <td>127</td>\n",
       "      <td>[instead, look, well, wear, street, configurat...</td>\n",
       "      <td>10</td>\n",
       "      <td>61</td>\n",
       "    </tr>\n",
       "    <tr>\n",
       "      <th>1</th>\n",
       "      <td>I've been looking for a lighter alternative to...</td>\n",
       "      <td>1</td>\n",
       "      <td>263</td>\n",
       "      <td>1097</td>\n",
       "      <td>[look, light, alternative, absolutely, perfect...</td>\n",
       "      <td>92</td>\n",
       "      <td>563</td>\n",
       "    </tr>\n",
       "    <tr>\n",
       "      <th>2</th>\n",
       "      <td>The finest headphones available. You can spend...</td>\n",
       "      <td>1</td>\n",
       "      <td>119</td>\n",
       "      <td>512</td>\n",
       "      <td>[fine, headphone, available, spend, vast, amou...</td>\n",
       "      <td>48</td>\n",
       "      <td>287</td>\n",
       "    </tr>\n",
       "    <tr>\n",
       "      <th>3</th>\n",
       "      <td>3rd pair of these I've purchased.  My wife has...</td>\n",
       "      <td>1</td>\n",
       "      <td>108</td>\n",
       "      <td>419</td>\n",
       "      <td>[pair, purchase, wife, pair, pair, glove, box,...</td>\n",
       "      <td>36</td>\n",
       "      <td>195</td>\n",
       "    </tr>\n",
       "    <tr>\n",
       "      <th>4</th>\n",
       "      <td>My old Koss Porta Pros finally got beat to dea...</td>\n",
       "      <td>1</td>\n",
       "      <td>170</td>\n",
       "      <td>713</td>\n",
       "      <td>[old, finally, get, beat, death, year, ago, la...</td>\n",
       "      <td>65</td>\n",
       "      <td>367</td>\n",
       "    </tr>\n",
       "    <tr>\n",
       "      <th>...</th>\n",
       "      <td>...</td>\n",
       "      <td>...</td>\n",
       "      <td>...</td>\n",
       "      <td>...</td>\n",
       "      <td>...</td>\n",
       "      <td>...</td>\n",
       "      <td>...</td>\n",
       "    </tr>\n",
       "    <tr>\n",
       "      <th>189476</th>\n",
       "      <td>Are these 5 star earbuds? I say yes! but you n...</td>\n",
       "      <td>1</td>\n",
       "      <td>246</td>\n",
       "      <td>903</td>\n",
       "      <td>[star, earbud, need, know, criterion, small, e...</td>\n",
       "      <td>77</td>\n",
       "      <td>395</td>\n",
       "    </tr>\n",
       "    <tr>\n",
       "      <th>189478</th>\n",
       "      <td>Best sports headphones I've ever had. Great va...</td>\n",
       "      <td>1</td>\n",
       "      <td>48</td>\n",
       "      <td>194</td>\n",
       "      <td>[good, sport, headphone, great, value, price, ...</td>\n",
       "      <td>17</td>\n",
       "      <td>103</td>\n",
       "    </tr>\n",
       "    <tr>\n",
       "      <th>189479</th>\n",
       "      <td>If this earphones were wireless, they would be...</td>\n",
       "      <td>1</td>\n",
       "      <td>46</td>\n",
       "      <td>194</td>\n",
       "      <td>[earphone, wireless, good, sound, quality, abi...</td>\n",
       "      <td>17</td>\n",
       "      <td>103</td>\n",
       "    </tr>\n",
       "    <tr>\n",
       "      <th>189480</th>\n",
       "      <td>Amazing for the price. They passed my \"On My L...</td>\n",
       "      <td>1</td>\n",
       "      <td>137</td>\n",
       "      <td>535</td>\n",
       "      <td>[amazing, price, pass, test, song, subpar, spe...</td>\n",
       "      <td>40</td>\n",
       "      <td>250</td>\n",
       "    </tr>\n",
       "    <tr>\n",
       "      <th>189481</th>\n",
       "      <td>I ordered these for my wife. The different siz...</td>\n",
       "      <td>1</td>\n",
       "      <td>41</td>\n",
       "      <td>140</td>\n",
       "      <td>[order, wife, different, size, bud, nice, good...</td>\n",
       "      <td>17</td>\n",
       "      <td>76</td>\n",
       "    </tr>\n",
       "  </tbody>\n",
       "</table>\n",
       "<p>126195 rows × 7 columns</p>\n",
       "</div>"
      ],
      "text/plain": [
       "                                                  reviews  sentiment  \\\n",
       "0       Get the SportaPros instead.  They look better,...          1   \n",
       "1       I've been looking for a lighter alternative to...          1   \n",
       "2       The finest headphones available. You can spend...          1   \n",
       "3       3rd pair of these I've purchased.  My wife has...          1   \n",
       "4       My old Koss Porta Pros finally got beat to dea...          1   \n",
       "...                                                   ...        ...   \n",
       "189476  Are these 5 star earbuds? I say yes! but you n...          1   \n",
       "189478  Best sports headphones I've ever had. Great va...          1   \n",
       "189479  If this earphones were wireless, they would be...          1   \n",
       "189480  Amazing for the price. They passed my \"On My L...          1   \n",
       "189481  I ordered these for my wife. The different siz...          1   \n",
       "\n",
       "        word_count  review_len  \\\n",
       "0               31         127   \n",
       "1              263        1097   \n",
       "2              119         512   \n",
       "3              108         419   \n",
       "4              170         713   \n",
       "...            ...         ...   \n",
       "189476         246         903   \n",
       "189478          48         194   \n",
       "189479          46         194   \n",
       "189480         137         535   \n",
       "189481          41         140   \n",
       "\n",
       "                                             cleaned_text  cleaned_word_count  \\\n",
       "0       [instead, look, well, wear, street, configurat...                  10   \n",
       "1       [look, light, alternative, absolutely, perfect...                  92   \n",
       "2       [fine, headphone, available, spend, vast, amou...                  48   \n",
       "3       [pair, purchase, wife, pair, pair, glove, box,...                  36   \n",
       "4       [old, finally, get, beat, death, year, ago, la...                  65   \n",
       "...                                                   ...                 ...   \n",
       "189476  [star, earbud, need, know, criterion, small, e...                  77   \n",
       "189478  [good, sport, headphone, great, value, price, ...                  17   \n",
       "189479  [earphone, wireless, good, sound, quality, abi...                  17   \n",
       "189480  [amazing, price, pass, test, song, subpar, spe...                  40   \n",
       "189481  [order, wife, different, size, bud, nice, good...                  17   \n",
       "\n",
       "        cleaned_review_len  \n",
       "0                       61  \n",
       "1                      563  \n",
       "2                      287  \n",
       "3                      195  \n",
       "4                      367  \n",
       "...                    ...  \n",
       "189476                 395  \n",
       "189478                 103  \n",
       "189479                 103  \n",
       "189480                 250  \n",
       "189481                  76  \n",
       "\n",
       "[126195 rows x 7 columns]"
      ]
     },
     "execution_count": 66,
     "metadata": {},
     "output_type": "execute_result"
    }
   ],
   "source": [
    "text_stats_df[(text_stats_df.cleaned_word_count >= 10) & (text_stats_df.cleaned_word_count <= 100)]"
   ]
  },
  {
   "cell_type": "markdown",
   "metadata": {},
   "source": [
    "Outliers in text length can significantly affect the accuracy and reliability of sentiment analysis models. This is because longer texts may contain more nuanced and complex sentiments that are harder to detect automatically, while shorter texts may lack sufficient context and information for accurate sentiment analysis. Thus, including outliers in the analysis may lead to biased or noisy results that do not accurately reflect the overall sentiment of the dataset. I will choose to drop reviews with lower than 10 tokens and more than 200 tokens."
   ]
  },
  {
   "cell_type": "code",
   "execution_count": 67,
   "metadata": {},
   "outputs": [],
   "source": [
    "data_df = text_stats_df[(text_stats_df.cleaned_word_count >= 10) & (text_stats_df.cleaned_word_count <= 200)].copy()"
   ]
  },
  {
   "cell_type": "code",
   "execution_count": 68,
   "metadata": {},
   "outputs": [],
   "source": [
    "data_df = data_df.reset_index(drop = True)"
   ]
  },
  {
   "cell_type": "code",
   "execution_count": 69,
   "metadata": {},
   "outputs": [
    {
     "name": "stdout",
     "output_type": "stream",
     "text": [
      "<class 'pandas.core.frame.DataFrame'>\n",
      "RangeIndex: 133546 entries, 0 to 133545\n",
      "Data columns (total 7 columns):\n",
      " #   Column              Non-Null Count   Dtype \n",
      "---  ------              --------------   ----- \n",
      " 0   reviews             133546 non-null  object\n",
      " 1   sentiment           133546 non-null  int64 \n",
      " 2   word_count          133546 non-null  int64 \n",
      " 3   review_len          133546 non-null  int64 \n",
      " 4   cleaned_text        133546 non-null  object\n",
      " 5   cleaned_word_count  133546 non-null  int64 \n",
      " 6   cleaned_review_len  133546 non-null  int64 \n",
      "dtypes: int64(5), object(2)\n",
      "memory usage: 7.1+ MB\n"
     ]
    }
   ],
   "source": [
    "data_df.info()"
   ]
  },
  {
   "cell_type": "code",
   "execution_count": 70,
   "metadata": {},
   "outputs": [
    {
     "data": {
      "text/html": [
       "<div>\n",
       "<style scoped>\n",
       "    .dataframe tbody tr th:only-of-type {\n",
       "        vertical-align: middle;\n",
       "    }\n",
       "\n",
       "    .dataframe tbody tr th {\n",
       "        vertical-align: top;\n",
       "    }\n",
       "\n",
       "    .dataframe thead th {\n",
       "        text-align: right;\n",
       "    }\n",
       "</style>\n",
       "<table border=\"1\" class=\"dataframe\">\n",
       "  <thead>\n",
       "    <tr style=\"text-align: right;\">\n",
       "      <th></th>\n",
       "      <th>sentiment</th>\n",
       "      <th>word_count</th>\n",
       "      <th>review_len</th>\n",
       "      <th>cleaned_word_count</th>\n",
       "      <th>cleaned_review_len</th>\n",
       "    </tr>\n",
       "  </thead>\n",
       "  <tbody>\n",
       "    <tr>\n",
       "      <th>count</th>\n",
       "      <td>133546.000000</td>\n",
       "      <td>133546.000000</td>\n",
       "      <td>133546.000000</td>\n",
       "      <td>133546.000000</td>\n",
       "      <td>133546.000000</td>\n",
       "    </tr>\n",
       "    <tr>\n",
       "      <th>mean</th>\n",
       "      <td>0.766582</td>\n",
       "      <td>108.017238</td>\n",
       "      <td>421.973560</td>\n",
       "      <td>36.619127</td>\n",
       "      <td>203.925666</td>\n",
       "    </tr>\n",
       "    <tr>\n",
       "      <th>std</th>\n",
       "      <td>0.423007</td>\n",
       "      <td>97.712794</td>\n",
       "      <td>384.634014</td>\n",
       "      <td>31.455234</td>\n",
       "      <td>180.082586</td>\n",
       "    </tr>\n",
       "    <tr>\n",
       "      <th>min</th>\n",
       "      <td>0.000000</td>\n",
       "      <td>10.000000</td>\n",
       "      <td>46.000000</td>\n",
       "      <td>10.000000</td>\n",
       "      <td>34.000000</td>\n",
       "    </tr>\n",
       "    <tr>\n",
       "      <th>25%</th>\n",
       "      <td>1.000000</td>\n",
       "      <td>44.000000</td>\n",
       "      <td>172.000000</td>\n",
       "      <td>16.000000</td>\n",
       "      <td>87.000000</td>\n",
       "    </tr>\n",
       "    <tr>\n",
       "      <th>50%</th>\n",
       "      <td>1.000000</td>\n",
       "      <td>73.000000</td>\n",
       "      <td>283.000000</td>\n",
       "      <td>25.000000</td>\n",
       "      <td>139.000000</td>\n",
       "    </tr>\n",
       "    <tr>\n",
       "      <th>75%</th>\n",
       "      <td>1.000000</td>\n",
       "      <td>134.000000</td>\n",
       "      <td>520.000000</td>\n",
       "      <td>45.000000</td>\n",
       "      <td>250.000000</td>\n",
       "    </tr>\n",
       "    <tr>\n",
       "      <th>max</th>\n",
       "      <td>1.000000</td>\n",
       "      <td>841.000000</td>\n",
       "      <td>3646.000000</td>\n",
       "      <td>200.000000</td>\n",
       "      <td>1294.000000</td>\n",
       "    </tr>\n",
       "  </tbody>\n",
       "</table>\n",
       "</div>"
      ],
      "text/plain": [
       "           sentiment     word_count     review_len  cleaned_word_count  \\\n",
       "count  133546.000000  133546.000000  133546.000000       133546.000000   \n",
       "mean        0.766582     108.017238     421.973560           36.619127   \n",
       "std         0.423007      97.712794     384.634014           31.455234   \n",
       "min         0.000000      10.000000      46.000000           10.000000   \n",
       "25%         1.000000      44.000000     172.000000           16.000000   \n",
       "50%         1.000000      73.000000     283.000000           25.000000   \n",
       "75%         1.000000     134.000000     520.000000           45.000000   \n",
       "max         1.000000     841.000000    3646.000000          200.000000   \n",
       "\n",
       "       cleaned_review_len  \n",
       "count       133546.000000  \n",
       "mean           203.925666  \n",
       "std            180.082586  \n",
       "min             34.000000  \n",
       "25%             87.000000  \n",
       "50%            139.000000  \n",
       "75%            250.000000  \n",
       "max           1294.000000  "
      ]
     },
     "execution_count": 70,
     "metadata": {},
     "output_type": "execute_result"
    }
   ],
   "source": [
    "data_df.describe()"
   ]
  },
  {
   "cell_type": "code",
   "execution_count": 71,
   "metadata": {},
   "outputs": [
    {
     "data": {
      "text/plain": [
       "<AxesSubplot:>"
      ]
     },
     "execution_count": 71,
     "metadata": {},
     "output_type": "execute_result"
    },
    {
     "data": {
      "image/png": "[encoded data removed]",
      "text/plain": [
       "<Figure size 432x288 with 1 Axes>"
      ]
     },
     "metadata": {
      "needs_background": "light"
     },
     "output_type": "display_data"
    }
   ],
   "source": [
    "data_df.cleaned_word_count.hist()"
   ]
  },
  {
   "cell_type": "code",
   "execution_count": 72,
   "metadata": {},
   "outputs": [
    {
     "data": {
      "text/plain": [
       "1    0.766582\n",
       "0    0.233418\n",
       "Name: sentiment, dtype: float64"
      ]
     },
     "execution_count": 72,
     "metadata": {},
     "output_type": "execute_result"
    }
   ],
   "source": [
    "data_df.sentiment.value_counts(normalize = True)"
   ]
  },
  {
   "cell_type": "markdown",
   "metadata": {},
   "source": [
    "### Word Frequency\n",
    "\n",
    "Examining the most common unigrams, bigrams, and trigrams to find any words or phrases that may repeat across many documents."
   ]
  },
  {
   "cell_type": "code",
   "execution_count": 73,
   "metadata": {},
   "outputs": [],
   "source": [
    "# Create a dummy function to pass cleaned and tokenized text into count vectorizer\n",
    "def dummy(doc):\n",
    "    return doc"
   ]
  },
  {
   "cell_type": "code",
   "execution_count": 74,
   "metadata": {},
   "outputs": [],
   "source": [
    "def top_words(text, n = None, ngram = (1,1)):\n",
    "    # Function using count vectorizer to return top n frequent words\n",
    "    cv = CountVectorizer(ngram_range = ngram, stop_words = None, tokenizer = dummy, preprocessor = dummy)\n",
    "    words = cv.fit_transform(text)\n",
    "    sum_words = words.sum(axis=0)\n",
    "    word_freq = [(word, sum_words[0, idx]) for word, idx in cv.vocabulary_.items()]\n",
    "    word_freq = sorted(word_freq, key=lambda x: x[1], reverse=True)\n",
    "    word_df = pd.DataFrame(word_freq, columns=['word', 'count'])\n",
    "    return word_df[:n]"
   ]
  },
  {
   "cell_type": "markdown",
   "metadata": {},
   "source": [
    "#### Unigrams \n",
    "\n",
    "Common words that my not add additional information: headphone, good, great, work, ear, use, like, love, well. I can try to filter them out during topic modeling stage."
   ]
  },
  {
   "cell_type": "code",
   "execution_count": 75,
   "metadata": {},
   "outputs": [],
   "source": [
    "top30 = top_words(text = data_df.cleaned_text, n = 30)"
   ]
  },
  {
   "cell_type": "code",
   "execution_count": 76,
   "metadata": {},
   "outputs": [
    {
     "data": {
      "image/png": "[encoded data removed]",
      "text/plain": [
       "<Figure size 1080x720 with 1 Axes>"
      ]
     },
     "metadata": {
      "needs_background": "light"
     },
     "output_type": "display_data"
    }
   ],
   "source": [
    "fig, axs = plt.subplots(figsize=(15,10))\n",
    "sns.barplot(data = top30, x = 'count', y = 'word', orient = 'h', ax = axs)\n",
    "axs.set_title('All words');"
   ]
  },
  {
   "cell_type": "markdown",
   "metadata": {},
   "source": [
    "#### Bigrams\n",
    "\n",
    "Common bigrams that may not add additional information: ear bud"
   ]
  },
  {
   "cell_type": "code",
   "execution_count": 77,
   "metadata": {},
   "outputs": [],
   "source": [
    "top30_bigrams = top_words(text = data_df.cleaned_text, n = 30, ngram = (2,2))"
   ]
  },
  {
   "cell_type": "code",
   "execution_count": 78,
   "metadata": {},
   "outputs": [
    {
     "data": {
      "image/png": "[encoded data removed]",
      "text/plain": [
       "<Figure size 1080x720 with 1 Axes>"
      ]
     },
     "metadata": {
      "needs_background": "light"
     },
     "output_type": "display_data"
    }
   ],
   "source": [
    "fig, axs = plt.subplots(figsize=(15,10))\n",
    "sns.barplot(data = top30_bigrams, x = 'count', y = 'word', orient = 'h', ax = axs)\n",
    "axs.set_title('Top Bigrams');"
   ]
  },
  {
   "cell_type": "markdown",
   "metadata": {},
   "source": [
    "#### Trigrams\n",
    "\n",
    "Trigrams do not seem to add any more information that is already given by unigrams and bigrams."
   ]
  },
  {
   "cell_type": "code",
   "execution_count": 79,
   "metadata": {},
   "outputs": [],
   "source": [
    "top30_trigrams = top_words(text = data_df.cleaned_text, n = 30, ngram = (3,3))"
   ]
  },
  {
   "cell_type": "code",
   "execution_count": 80,
   "metadata": {},
   "outputs": [
    {
     "data": {
      "image/png": "[encoded data removed]",
      "text/plain": [
       "<Figure size 1080x720 with 1 Axes>"
      ]
     },
     "metadata": {
      "needs_background": "light"
     },
     "output_type": "display_data"
    }
   ],
   "source": [
    "fig, axs = plt.subplots(figsize=(15,10))\n",
    "sns.barplot(data = top30_trigrams, x = 'count', y = 'word', orient = 'h', ax = axs)\n",
    "axs.set_title('Top Trigrams');"
   ]
  },
  {
   "cell_type": "markdown",
   "metadata": {},
   "source": [
    "### Topic Modeling\n",
    "\n",
    "Latent Dirichlet Allocation (LDA) is a popular topic modeling technique used to identify the underlying themes and topics in a large corpus of text data. LDA assumes that each document is a mixture of multiple topics and that each word in the document is associated with a particular topic. The model then attempts to identify the most likely topic distribution for each document and the most likely word distribution for each topic. I will be using Gensim's library to conduct LDA topic modeling."
   ]
  },
  {
   "cell_type": "code",
   "execution_count": 495,
   "metadata": {},
   "outputs": [],
   "source": [
    "#data_df.to_csv('data/processed_reviews.csv', index = False)"
   ]
  },
  {
   "cell_type": "code",
   "execution_count": 47,
   "metadata": {},
   "outputs": [],
   "source": [
    "#data_df = pd.read_csv('data/processed_reviews.csv')"
   ]
  },
  {
   "cell_type": "code",
   "execution_count": 234,
   "metadata": {},
   "outputs": [],
   "source": [
    "#processed_df = data_df[['reviews', 'cleaned_text', 'sentiment']].copy()"
   ]
  },
  {
   "cell_type": "code",
   "execution_count": 245,
   "metadata": {},
   "outputs": [],
   "source": [
    "#processed_df.to_csv('data/processed_reviews.csv', index = False)"
   ]
  },
  {
   "cell_type": "code",
   "execution_count": 82,
   "metadata": {},
   "outputs": [],
   "source": [
    "data_words = data_df.cleaned_text"
   ]
  },
  {
   "cell_type": "code",
   "execution_count": 83,
   "metadata": {},
   "outputs": [],
   "source": [
    "# Create bigrams\n",
    "bigram = Phrases(data_words, min_count=10, threshold=0.7)\n",
    "bigram_phraser = Phraser(bigram)\n",
    "bigram_docs = [bigram_phraser[doc] for doc in data_words]\n"
   ]
  },
  {
   "cell_type": "code",
   "execution_count": 95,
   "metadata": {},
   "outputs": [
    {
     "name": "stdout",
     "output_type": "stream",
     "text": [
      "[[(0, 1), (1, 1), (2, 1), (3, 2), (4, 1), (5, 1), (6, 1), (7, 1), (8, 1)]]\n"
     ]
    }
   ],
   "source": [
    "# create unique id for each token\n",
    "id2word = corpora.Dictionary(bigram_docs)\n",
    "\n",
    "# filter out rare and frequent tokens\n",
    "id2word.filter_extremes(no_below = 10, no_above = 0.7)\n",
    "\n",
    "# Create Corpus\n",
    "texts = bigram_docs\n",
    "\n",
    "# Create bag of words for LDA input\n",
    "corpus = [id2word.doc2bow(text) for text in texts]\n",
    "\n",
    "# View, each tuple represents words unique id and how many times they appear in the review\n",
    "print(corpus[:1])"
   ]
  },
  {
   "cell_type": "code",
   "execution_count": 148,
   "metadata": {},
   "outputs": [],
   "source": [
    "# run LdaMulticore for faster computation time\n",
    "lda_model = LdaMulticore(corpus=corpus,\n",
    "                         id2word=id2word,\n",
    "                         # start with a random number of topics\n",
    "                         num_topics=6, \n",
    "                         random_state=100,\n",
    "                         workers = 4,\n",
    "                         chunksize=100,\n",
    "                         passes=10,\n",
    "                         alpha='symmetric')"
   ]
  },
  {
   "cell_type": "code",
   "execution_count": 132,
   "metadata": {},
   "outputs": [
    {
     "data": {
      "text/plain": [
       "[(0,\n",
       "  '0.016*\"case\" + 0.010*\"phone\" + 0.008*\"cable\" + 0.008*\"look\" + 0.007*\"fit\" + 0.007*\"feel\" + 0.007*\"hold\" + 0.006*\"nice\" + 0.006*\"keyboard\" + 0.006*\"like\"'),\n",
       " (1,\n",
       "  '0.019*\"work\" + 0.016*\"use\" + 0.015*\"device\" + 0.013*\"headset\" + 0.012*\"charge\" + 0.010*\"phone\" + 0.008*\"great\" + 0.008*\"time\" + 0.008*\"need\" + 0.007*\"battery\"'),\n",
       " (2,\n",
       "  '0.054*\"headphone\" + 0.032*\"sound\" + 0.020*\"good\" + 0.013*\"bass\" + 0.013*\"great\" + 0.012*\"price\" + 0.012*\"quality\" + 0.009*\"music\" + 0.009*\"well\" + 0.008*\"sound_quality\"'),\n",
       " (3,\n",
       "  '0.024*\"product\" + 0.021*\"great\" + 0.020*\"buy\" + 0.020*\"work\" + 0.019*\"love\" + 0.012*\"work_great\" + 0.010*\"purchase\" + 0.010*\"month\" + 0.010*\"good\" + 0.010*\"time\"'),\n",
       " (4,\n",
       "  '0.034*\"headphone\" + 0.022*\"ear\" + 0.018*\"good\" + 0.013*\"great\" + 0.013*\"work\" + 0.012*\"earbud\" + 0.011*\"sound_quality\" + 0.011*\"sound\" + 0.011*\"pair\" + 0.009*\"fit\"')]"
      ]
     },
     "execution_count": 132,
     "metadata": {},
     "output_type": "execute_result"
    }
   ],
   "source": [
    "lda_model.print_topics()"
   ]
  },
  {
   "cell_type": "markdown",
   "metadata": {},
   "source": [
    "Above results show a list of topics, where each topic is represented as a tuple of (topic number, list of key terms and their weights)."
   ]
  },
  {
   "cell_type": "code",
   "execution_count": 133,
   "metadata": {},
   "outputs": [
    {
     "data": {
      "text/plain": [
       "'Get the SportaPros instead.  They look better, can be worn in a street configuration, cost less, and sound exactly the same. Get the SportaPros Instead.'"
      ]
     },
     "execution_count": 133,
     "metadata": {},
     "output_type": "execute_result"
    }
   ],
   "source": [
    "# inspect first review\n",
    "data_df.reviews[0]"
   ]
  },
  {
   "cell_type": "code",
   "execution_count": 134,
   "metadata": {},
   "outputs": [
    {
     "data": {
      "text/plain": [
       "[(0, 0.01879576),\n",
       " (1, 0.018961908),\n",
       " (2, 0.41578618),\n",
       " (3, 0.018534387),\n",
       " (4, 0.5279218)]"
      ]
     },
     "execution_count": 134,
     "metadata": {},
     "output_type": "execute_result"
    }
   ],
   "source": [
    "# LDA output for first review\n",
    "lda_model[corpus][0]"
   ]
  },
  {
   "cell_type": "markdown",
   "metadata": {},
   "source": [
    "According to our LDA model, the above text belongs to Topic 2 and 4. The article is 41% belonging to topic 2 and 52% belonging to topic 4. In order to evaulate our LDA model we can compute it's coherence score for reference."
   ]
  },
  {
   "cell_type": "code",
   "execution_count": 149,
   "metadata": {},
   "outputs": [
    {
     "name": "stdout",
     "output_type": "stream",
     "text": [
      "\n",
      "Coherence Score:  0.5193202496505367\n"
     ]
    }
   ],
   "source": [
    "# Compute Coherence Score\n",
    "coherence_model_lda = CoherenceModel(model=lda_model, texts=texts, dictionary=id2word, coherence='c_v')\n",
    "coherence_lda = coherence_model_lda.get_coherence()\n",
    "print('\\nCoherence Score: ', coherence_lda)"
   ]
  },
  {
   "cell_type": "markdown",
   "metadata": {},
   "source": [
    "Coherence metric is measure from 0 to 1, the higher the better. One way to determine optimal topic numbers would be to iterate over various topic numbers and compare their coherence score."
   ]
  },
  {
   "cell_type": "code",
   "execution_count": 140,
   "metadata": {},
   "outputs": [],
   "source": [
    "def compute_coherence_values(dictionary, corpus, texts, limit, start=2, step=3):\n",
    "    \"\"\"\n",
    "    Compute c_v coherence for various number of topics\n",
    "\n",
    "    Parameters:\n",
    "    ----------\n",
    "    dictionary : Gensim dictionary\n",
    "    corpus : Gensim corpus\n",
    "    texts : List of input texts\n",
    "    limit : Max num of topics\n",
    "\n",
    "    Returns:\n",
    "    -------\n",
    "    model_list : List of LDA topic models\n",
    "    coherence_values : Coherence values corresponding to the LDA model with respective number of topics\n",
    "    \"\"\"\n",
    "    coherence_values = []\n",
    "    model_list = []\n",
    "    for num_topics in range(start, limit, step):\n",
    "        model = LdaMulticore(corpus=corpus, \n",
    "                             num_topics=num_topics, \n",
    "                             id2word=id2word, \n",
    "                             random_state=100,\n",
    "                             workers = 4,\n",
    "                             chunksize=100,\n",
    "                             passes=10,\n",
    "                             alpha='symmetric')\n",
    "        model_list.append(model)\n",
    "        coherencemodel = CoherenceModel(model=model, texts=texts, dictionary=dictionary, coherence='c_v')\n",
    "        coherence_values.append(coherencemodel.get_coherence())\n",
    "\n",
    "    return model_list, coherence_values"
   ]
  },
  {
   "cell_type": "code",
   "execution_count": 141,
   "metadata": {},
   "outputs": [],
   "source": [
    "model_list, coherence_values = compute_coherence_values(dictionary=id2word,\n",
    "                                                        corpus=corpus, \n",
    "                                                        texts=texts, \n",
    "                                                        start=2, limit=26, step=3)"
   ]
  },
  {
   "cell_type": "code",
   "execution_count": 147,
   "metadata": {},
   "outputs": [
    {
     "data": {
      "image/png": "[encoded data removed]",
      "text/plain": [
       "<Figure size 432x288 with 1 Axes>"
      ]
     },
     "metadata": {
      "needs_background": "light"
     },
     "output_type": "display_data"
    }
   ],
   "source": [
    "# plot of lda models by topic number and coherence score\n",
    "limit=26; start=2; step=3;\n",
    "x = range(start, limit, step)\n",
    "plt.plot(x, coherence_values)\n",
    "plt.xlabel(\"Num Topics\")\n",
    "plt.ylabel(\"Coherence score\");"
   ]
  },
  {
   "cell_type": "code",
   "execution_count": 143,
   "metadata": {},
   "outputs": [
    {
     "name": "stdout",
     "output_type": "stream",
     "text": [
      "Num Topics = 2  has Coherence Value of 0.4604\n",
      "Num Topics = 5  has Coherence Value of 0.5234\n",
      "Num Topics = 8  has Coherence Value of 0.5216\n",
      "Num Topics = 11  has Coherence Value of 0.4914\n",
      "Num Topics = 14  has Coherence Value of 0.4796\n",
      "Num Topics = 17  has Coherence Value of 0.4747\n",
      "Num Topics = 20  has Coherence Value of 0.4418\n",
      "Num Topics = 23  has Coherence Value of 0.4566\n"
     ]
    }
   ],
   "source": [
    "# Print the coherence scores\n",
    "for m, cv in zip(x, coherence_values):\n",
    "    print(\"Num Topics =\", m, \" has Coherence Value of\", round(cv, 4))"
   ]
  },
  {
   "cell_type": "markdown",
   "metadata": {},
   "source": [
    "LDA model with 5 topics is shown to havethe highest coherence score."
   ]
  },
  {
   "cell_type": "code",
   "execution_count": 144,
   "metadata": {},
   "outputs": [],
   "source": [
    "optimal_model = model_list[1]"
   ]
  },
  {
   "cell_type": "markdown",
   "metadata": {},
   "source": [
    "pyLDAvis is an interactive visualization tool for exploring the topics learned by an LDA model. The visualizations generated by pyLDAvis can be used to gain insights into the topics and their relationships, as well as to evaluate the quality of the topics learned by the model."
   ]
  },
  {
   "cell_type": "code",
   "execution_count": 151,
   "metadata": {},
   "outputs": [
    {
     "data": {
      "text/html": [
       "\n",
       "<link rel=\"stylesheet\" type=\"text/css\" href=\"https://cdn.jsdelivr.net/gh/bmabey/pyLDAvis@3.3.1/pyLDAvis/js/ldavis.v1.0.0.css\">\n",
       "\n",
       "\n",
       "<div id=\"ldavis_el1211620378312690561405963832\"></div>\n",
       "<script type=\"text/javascript\">\n",
       "\n",
       "var ldavis_el1211620378312690561405963832_data = {\"mdsDat\": {\"x\": [-0.21685076220636393, -0.011809186206438433, -0.039548229853630455, -0.05348182163803639, 0.003826709981608688, 0.31786328992285995], \"y\": [-0.2214189854589005, -0.1161642612407964, 0.20323615585872584, 0.160002871813285, 0.0784519273394731, -0.10410770831178709], \"topics\": [1, 2, 3, 4, 5, 6], \"cluster\": [1, 1, 1, 1, 1, 1], \"Freq\": [12.031277369622465, 14.236236556171244, 22.828075194615614, 13.277646615421965, 25.62153988181762, 12.005224382351093]}, \"tinfo\": {\"Term\": [\"headphone\", \"headset\", \"sound\", \"work\", \"ear\", \"great\", \"love\", \"device\", \"price\", \"earbud\", \"product\", \"bass\", \"case\", \"sound_quality\", \"good\", \"buy\", \"phone\", \"charge\", \"work_great\", \"pair\", \"quality\", \"month\", \"fit\", \"comfortable\", \"use\", \"battery\", \"connect\", \"music\", \"cable\", \"time\", \"case\", \"bluetooth\", \"headset\", \"mic\", \"microphone\", \"wireless_headphone\", \"stay_place\", \"clip\", \"secure\", \"arm\", \"mount\", \"ear_hook\", \"solution\", \"noise_cancelling\", \"recharge\", \"fly\", \"control_volume\", \"fully\", \"surface\", \"edge\", \"running\", \"bluetooth_connection\", \"talk_phone\", \"hole\", \"stable\", \"outlet\", \"loop\", \"runner\", \"make_easy\", \"pair_bluetooth\", \"cover\", \"slide\", \"protect\", \"screw\", \"hang\", \"hold\", \"stand\", \"phone\", \"volume_control\", \"position\", \"place\", \"fit\", \"attach\", \"desk\", \"button\", \"fall\", \"easy\", \"nice\", \"easily\", \"weight\", \"great\", \"design\", \"good\", \"like\", \"look\", \"feel\", \"stay\", \"control\", \"run\", \"use\", \"perfect\", \"need\", \"work\", \"well\", \"battery\", \"connect\", \"charger\", \"roku\", \"lamp\", \"tablet\", \"remote\", \"port\", \"work_perfectly\", \"adapter\", \"usb\", \"key\", \"volume_button\", \"connectivity\", \"cell_phone\", \"speed\", \"usb_port\", \"helpful\", \"sync\", \"charge_cable\", \"fully_charge\", \"card\", \"manual\", \"connect_phone\", \"interference\", \"led\", \"link\", \"need_charge\", \"table\", \"excellent_product\", \"device\", \"charge\", \"power\", \"plug\", \"cable\", \"laptop\", \"unit\", \"light\", \"fast\", \"use\", \"work\", \"connection\", \"turn\", \"need\", \"computer\", \"button\", \"time\", \"phone\", \"work_great\", \"issue\", \"great\", \"problem\", \"thing\", \"small\", \"nice\", \"good\", \"buy\", \"little\", \"like\", \"bass\", \"beat\", \"bluetooth_headphone\", \"audiophile\", \"excellent_sound\", \"price_range\", \"price_point\", \"easy_pair\", \"sound_amazing\", \"clarity\", \"can\", \"good_bass\", \"high_end\", \"sound_clear\", \"update_review\", \"treble\", \"mid\", \"amazing_sound\", \"clear_sound\", \"blow_away\", \"mid_high\", \"deep_bass\", \"high_volume\", \"headphone_own\", \"low_end\", \"bass_heavy\", \"super_comfortable\", \"vocal\", \"complete\", \"midrange\", \"price\", \"headphone\", \"sound_well\", \"quality\", \"build_quality\", \"great_sound\", \"sound\", \"amazing\", \"music\", \"comfortable_wear\", \"pair_headphone\", \"sound_quality\", \"comfortable\", \"good\", \"listen\", \"good_sound\", \"range\", \"money\", \"great\", \"excellent\", \"noise_cancel\", \"sound_good\", \"well\", \"nice\", \"high\", \"sound_great\", \"buy\", \"hear\", \"pair\", \"look\", \"love\", \"like\", \"want\", \"use\", \"great_product\", \"service\", \"easy_use\", \"stop_work\", \"battery_last\", \"hold_charge\", \"warranty\", \"screen\", \"modem\", \"holder\", \"magnet\", \"transmitter\", \"easy_set\", \"great_customer\", \"last_month\", \"send_replacement\", \"buy_year\", \"couple_month\", \"defective\", \"use_day\", \"customer_service\", \"ipad\", \"wood\", \"send_new\", \"wing\", \"min\", \"buy_second\", \"hanger\", \"screen_protector\", \"use_run\", \"last_long\", \"month\", \"son\", \"love\", \"work_great\", \"year_old\", \"week\", \"good_product\", \"product\", \"day\", \"replacement\", \"year\", \"work\", \"buy\", \"battery_life\", \"update\", \"purchase\", \"great\", \"kid\", \"pair\", \"thank\", \"break\", \"time\", \"get\", \"happy\", \"use\", \"good\", \"long\", \"issue\", \"go\", \"problem\", \"price\", \"set\", \"earbud\", \"bud\", \"fit_ear\", \"uncomfortable\", \"pad\", \"flight\", \"small_ear\", \"headband\", \"disconnect\", \"hurt\", \"cup\", \"slip\", \"cushion\", \"canal\", \"ear_tip\", \"seal\", \"fit_comfortably\", \"ear_canal\", \"book\", \"waste_money\", \"surround_sound\", \"left_ear\", \"foam\", \"water\", \"pressure\", \"cancellation\", \"active_noise\", \"come_different\", \"pair_earbud\", \"weird\", \"ear_pad\", \"ear\", \"decent_sound\", \"earphone\", \"wear\", \"head\", \"ear_bud\", \"stay_ear\", \"ear_piece\", \"earpiece\", \"noise\", \"cord\", \"right_ear\", \"bad\", \"try\", \"tip\", \"neck\", \"wire\", \"headphone\", \"think\", \"go\", \"hear\", \"fit\", \"sound\", \"sound_quality\", \"find\", \"thing\", \"run\", \"work\", \"pair\", \"time\", \"come\", \"comfortable\", \"well\", \"like\", \"good\", \"use\", \"get\", \"keyboard\", \"voice\", \"setup\", \"blue_tooth\", \"software\", \"distance\", \"bright\", \"functionality\", \"stream\", \"qc\", \"usage\", \"finish\", \"class\", \"good_job\", \"website\", \"input\", \"increase\", \"situation\", \"work_perfect\", \"respond\", \"lose_connection\", \"business\", \"customer_support\", \"green\", \"corner\", \"operate\", \"attachment\", \"mouse\", \"router\", \"information\", \"noise_canceling\", \"channel\", \"driver\", \"app\", \"setting\", \"number\", \"upgrade\", \"support\", \"model\", \"accessory\", \"product\", \"video\", \"system\", \"speaker\", \"offer\", \"experience\", \"review\", \"box\", \"audio\", \"new\", \"level\", \"change\", \"set\", \"receive\", \"find\", \"feature\", \"test\", \"update\", \"know\", \"point\", \"base\", \"try\", \"unit\", \"want\", \"need\", \"provide\", \"come\", \"give\"], \"Freq\": [88806.0, 19749.0, 41384.0, 38697.0, 25169.0, 45950.0, 17105.0, 10976.0, 18725.0, 13754.0, 16016.0, 11312.0, 7824.0, 20586.0, 50865.0, 23858.0, 18384.0, 9364.0, 9542.0, 19355.0, 18983.0, 6883.0, 14687.0, 14301.0, 29485.0, 5539.0, 5532.0, 11431.0, 7916.0, 19887.0, 7823.934019569538, 4457.06690597538, 19745.19806466939, 3369.378265354977, 3061.5585648634296, 2331.8589489077467, 1343.7709112631678, 1166.924947652964, 933.8914551724198, 932.0772630438964, 865.458557410987, 855.3746835293562, 829.1054361543206, 810.9216801720925, 754.6447577228785, 723.4259093239251, 668.0286924468224, 654.3939515408127, 633.3352103268385, 619.0441140532641, 609.3745213654078, 606.8709661863965, 599.58065501883, 588.408865027101, 588.1486553516722, 552.1267878594496, 546.4967577932255, 542.4433929314081, 538.2377754511141, 537.6803361382098, 2489.4952970094023, 945.9043258625637, 623.0385251604922, 822.4402915712649, 1320.812971100305, 3745.9703559188674, 2208.3708409417063, 9106.055566637002, 2445.0116398396344, 999.099978436024, 2704.6195803938817, 6115.050201812131, 1070.8322535663688, 1613.799757145428, 2395.2165810631104, 2058.9826687770556, 2485.1836483661355, 3900.8678687937045, 2029.018112329192, 1344.4893767115655, 6460.579976359943, 2363.656314459267, 6625.809696445634, 3785.0600120289882, 3076.166684684823, 2570.530068036322, 1803.1486244694038, 1855.0234347553776, 2405.712061285767, 3654.2742637988495, 1782.3385910640372, 1978.2143130839422, 1931.8152473576265, 1813.95781142247, 5538.564302736596, 5532.068566031237, 2809.9257029780774, 2319.9490473252154, 2268.0545576642203, 2059.906000179297, 1934.3643801532983, 1916.159150037973, 1771.7211751855993, 1692.3636253130107, 1090.9549790162887, 1071.4751118628885, 1048.3657955033373, 981.1857263084196, 952.941083681793, 901.0591909998689, 865.2895941667884, 816.4518659247243, 785.6191454622966, 755.085714030263, 751.676363800144, 749.3883979129679, 748.933514035554, 750.1095907901425, 727.1152930786931, 705.2749799324059, 711.323365627232, 702.2151167447587, 705.146034975783, 648.0788079189132, 10944.62408439236, 7593.313644076219, 2873.314714486599, 4375.197963332324, 5545.2965334812, 1572.9674320316678, 3764.2890425682667, 3641.6618191072744, 1710.762431116776, 10317.011442777139, 12228.136485490422, 2373.873739562946, 3433.2495479800873, 5363.84078474386, 1701.6106941708763, 2564.147373650098, 5581.737884796205, 4502.91740480538, 3095.564165760134, 3233.172045899844, 5427.987387435917, 3095.567963844276, 2918.3756911592022, 2437.2202125290764, 2752.8215079022248, 3346.032622592337, 2297.0876192573355, 2139.9922757959416, 2149.3348031685778, 11311.289922454813, 3313.3229195112867, 2435.8032732818683, 2330.686523714767, 1682.8737046007739, 1608.13060031064, 1578.0345712051258, 1535.2107288072136, 1463.1261419381162, 1321.935023356876, 1266.317795437403, 1252.9160904586138, 1190.4449405117018, 1083.9740127569005, 1076.937990761788, 1036.3555817452407, 958.1914544838112, 941.2690486250001, 874.5620950822018, 775.812195806262, 772.6387942793032, 756.0261816765344, 752.1822381281419, 729.3729991170369, 720.2876419506051, 659.7972097958889, 646.4720903386213, 608.7594813979115, 621.0647293807082, 605.2171092006664, 15623.988833118765, 64242.2116004061, 2290.151923552609, 14930.501809738274, 2746.840777598269, 7459.893877057575, 28987.092678961028, 4565.197467178206, 8695.169921316545, 2080.9897081747204, 2999.931514274958, 13112.109593408792, 9482.523895257858, 27335.140239105225, 5283.672585119467, 5866.508603393559, 4480.2682347632035, 3663.134318282339, 20514.48830208114, 4709.3414676767225, 4129.395905745705, 5159.812125501822, 8466.550618757226, 6768.786536866683, 3009.7531379494835, 4494.820397397295, 8231.903543354916, 4467.353956788187, 6593.72167764319, 5184.673947844205, 5797.984202848979, 4611.070012212171, 3931.6759428516375, 3893.2656393023412, 3210.1145057243893, 2788.7212767353003, 2326.1889405419397, 2211.6078730364734, 1220.2096580933853, 1147.0700957231963, 1131.1920199011222, 1077.851551742278, 1169.435498654763, 717.1340956636658, 720.2707804892079, 706.5571346844353, 691.1644777980762, 688.7980752462234, 655.0141689479678, 654.1063847646116, 646.0127236241123, 626.3986577446249, 623.4030762098099, 598.025974087207, 2741.720774257641, 587.2742575679964, 545.3839967369794, 511.45892810896277, 513.5315524287408, 503.36627063203775, 498.1622749997575, 509.1748259701953, 487.07934950105744, 486.5512748634384, 597.4448528777393, 6204.470154042052, 1542.7794557701768, 11307.183143097083, 6446.584508439135, 2629.000380940693, 3098.4879876252626, 1397.6236076864416, 8134.3999630544795, 4461.597730399829, 1852.4322213249498, 3529.6323395891086, 14803.744885994032, 9648.361049501256, 3774.3918788555393, 2720.4046130343604, 4748.2572719378495, 13547.420696705007, 2372.3907629706628, 6464.917781519863, 1405.1163695411576, 2820.1177625856785, 5919.362158311693, 4992.105012366627, 2794.8554323447383, 5918.082192059406, 6851.65745924316, 2800.269547898231, 3134.638296475371, 2910.956873048032, 2868.5963663129805, 3090.621154452535, 2857.7539658378882, 13753.435507716164, 5152.128532881267, 2865.9051131694396, 2117.0415145267852, 1674.060587731892, 1594.2242284502702, 1510.6370790317155, 1221.1552135537522, 1105.9585744704393, 968.9243460110805, 943.4431709909746, 941.4136908251537, 907.6548707007358, 880.4767089393038, 842.6518650628847, 820.5904108319023, 787.9673773086492, 782.9865836570491, 772.6721101512197, 762.3974538295126, 763.687724269504, 744.1808357597633, 735.2994960669993, 715.732910262609, 662.3599971355777, 664.4717889338116, 605.1294311571451, 603.0268673758322, 596.9260658927408, 585.2226619141593, 1008.1898997885309, 22747.80450877463, 987.6045864865112, 5362.867729971956, 7462.194641942109, 5664.707732925355, 5609.950731186302, 3021.6580891378007, 2669.2105021280427, 2090.9777212531703, 4683.712571150874, 4676.004328868431, 1032.3295945710404, 5203.836871252332, 8801.88487210803, 1674.1740581621802, 1756.465867427744, 3695.9296902633573, 24555.84143358097, 5800.24383271173, 5408.182989361027, 4534.331711755696, 6287.232944350816, 12331.846057745295, 7474.078960622797, 5358.6096267566345, 5022.421349857218, 4228.860655033068, 9691.120279255956, 6296.370731773077, 6321.858286656733, 5049.531212900822, 4818.355490040199, 5335.276187230301, 5117.313617486997, 6701.75592014869, 5476.864043298723, 4613.5295150516085, 2198.0819447587555, 2104.9767863239194, 1116.1753800612196, 1120.0021722735426, 1099.8867442772134, 900.7923384614653, 886.1018293549021, 816.9612578558828, 789.9608814836915, 789.77346005392, 750.3608312545225, 679.8674731211335, 675.3448568310341, 660.7951139763386, 650.1807940971634, 611.2234536414064, 598.2691684036331, 592.0371256123727, 584.9908592186329, 564.058004747199, 542.9566791756913, 532.834373912923, 527.4260565795965, 507.8833555898237, 502.8016778830345, 500.43763759853863, 500.71351169397, 486.61660164723594, 466.388485915718, 462.6517478053672, 463.54871228399213, 1310.7094290711038, 1313.8797391577273, 1751.911645669418, 1446.638595938201, 787.7455612514156, 1296.7840862346477, 2026.7043445401955, 2003.8855852859645, 794.0840995574563, 6778.25727232647, 1231.7452735628058, 1352.7038934934956, 3615.3372804729925, 1252.0263968362672, 2138.804459364723, 3021.6803554117478, 1790.8575091649354, 2580.437675855938, 2143.410403724282, 1482.6335461219057, 1541.1508830796104, 3141.243804026997, 1522.029733508495, 2774.7711182770777, 1823.5042830689097, 1570.9999477456668, 1661.0585337396244, 1899.508663984466, 1448.7087192781446, 1460.7542961710014, 1852.427504021506, 1517.3333613784905, 1737.2486812674294, 1562.0545380289466, 1386.1441257090976, 1457.5160851847284, 1401.3547813299572], \"Total\": [88806.0, 19749.0, 41384.0, 38697.0, 25169.0, 45950.0, 17105.0, 10976.0, 18725.0, 13754.0, 16016.0, 11312.0, 7824.0, 20586.0, 50865.0, 23858.0, 18384.0, 9364.0, 9542.0, 19355.0, 18983.0, 6883.0, 14687.0, 14301.0, 29485.0, 5539.0, 5532.0, 11431.0, 7916.0, 19887.0, 7824.781900525548, 4457.921027730451, 19749.121636680728, 3370.2284023957936, 3062.408874870463, 2332.713932504689, 1344.6213243058544, 1167.7741746500612, 934.7395784774155, 932.9254896764943, 866.3051638056739, 856.2271234684664, 829.9580025396907, 811.7833672863545, 755.498401982598, 724.2840667832199, 668.885569067717, 655.2459118926491, 634.1830968143977, 619.893459872973, 610.2240814417721, 607.7246231048991, 600.4302969032175, 589.2576110393393, 589.0003757729742, 552.9802915972236, 547.3457135608036, 543.2936718844913, 539.0875252733987, 538.534993171267, 2500.789360852073, 947.6187492407474, 627.480500074809, 845.4293254966681, 1408.5451831058294, 5714.086093121242, 3000.398420241793, 18384.291513415406, 3577.8173989703823, 1144.7224341548979, 4281.183421342056, 14687.634034870962, 1393.1362229235688, 2638.0181446998145, 4970.044826450596, 4096.273113411341, 5683.416632279927, 13711.262314272844, 4538.994154561889, 2104.3550492136674, 45950.81944973049, 6453.2107187228385, 50865.45200268685, 17745.428847261184, 13162.304549050543, 9851.45290502474, 4323.328652894986, 4627.844829915322, 9356.536120839664, 29485.157359940717, 6726.812082877836, 14409.314361296016, 38697.716792131265, 18445.367637010546, 5539.402081829276, 5532.9079555302515, 2810.758073884713, 2320.8113691589474, 2268.8978433433067, 2060.7429854852867, 1935.2027436044868, 1916.992545212834, 1772.5600121791056, 1693.201305840535, 1091.7888619230916, 1072.3137474410864, 1049.2094878427567, 982.0299136312827, 953.7785286241071, 901.8992781491933, 866.1223139132721, 817.2942842498949, 786.4573439108625, 755.924708390001, 752.5129143664194, 750.2232100770722, 749.7732912343158, 750.9524492962443, 727.9592081301826, 706.1090508346125, 712.1649220762223, 703.0531203630165, 705.9890410859465, 648.9184020076427, 10976.387305461318, 9364.949094512742, 3328.843025668146, 5500.674972717522, 7916.5252619074045, 1803.7326110793274, 5282.2791523232345, 5903.753043530519, 2298.1244696093618, 29485.157359940717, 38697.716792131265, 3806.1941887380326, 7240.482136829245, 14409.314361296016, 2521.542598845842, 4970.044826450596, 19887.754371137653, 18384.291513415406, 9542.833347066486, 11844.970497125973, 45950.81944973049, 11470.100755383059, 11384.341729594727, 6943.628018415353, 13711.262314272844, 50865.45200268685, 23858.644262844013, 10053.677367039076, 17745.428847261184, 11312.127399558442, 3314.160230898231, 2436.6453204975014, 2331.808115111164, 1683.7112183603947, 1608.9683070254239, 1578.8741411133965, 1536.0520485785053, 1463.9647656561551, 1322.7730300884728, 1267.1539840403825, 1253.7539996747541, 1191.2834340623124, 1084.8244686866371, 1077.8012423502573, 1037.1921696236452, 959.0307216869232, 942.1048003883778, 875.400833491666, 776.6492205548419, 773.4754748389481, 756.8636495176813, 753.0217961294895, 730.2093324517415, 721.1253227570415, 660.6346229902456, 647.3116791338068, 609.5950964113571, 621.9185578193076, 606.0540722620997, 18725.46147464759, 88806.66404624465, 2514.8548429376187, 18983.927784982967, 3087.226327089549, 9309.137272410975, 41384.892244342984, 5567.159902200697, 11431.872876224576, 2382.523618199543, 3617.3170212690143, 20586.874250714627, 14301.557117713348, 50865.45200268685, 7200.471600630291, 8182.933676898646, 6128.369624490311, 5013.924942585344, 45950.81944973049, 7319.764918197347, 6136.102108229509, 8584.922457793455, 18445.367637010546, 13711.262314272844, 4180.858782397729, 8248.509713445763, 23858.644262844013, 9057.768032537031, 19355.536406054784, 13162.304549050543, 17105.870226613504, 17745.428847261184, 11824.451076528752, 29485.157359940717, 3210.976199080647, 2789.584735265804, 2327.0543953582633, 2212.4683322350943, 1221.075262517612, 1147.9327362164195, 1132.05542269639, 1078.7156709116493, 1170.849203731437, 718.0018204699127, 721.147957149833, 707.422248647082, 692.0287625901625, 689.6594784158216, 655.8748091980385, 654.9699203148406, 646.8767636825484, 627.262393494246, 624.2680311552061, 598.8888112736332, 2745.6844195308713, 588.1370378948224, 546.2701890673483, 512.3199026343267, 514.4071628480509, 504.2333675601774, 499.02660210245614, 510.0612021737277, 487.9386509197149, 487.4174220699641, 599.9662301566583, 6883.526005072188, 1665.47367513384, 17105.870226613504, 9542.833347066486, 3422.5343962251736, 4282.138484233362, 1690.5993733725275, 16016.70406117104, 7643.250251889548, 2517.8022278953717, 5919.214563898447, 38697.716792131265, 23858.644262844013, 7065.796790787612, 4581.672616671081, 10181.1813311196, 45950.81944973049, 4122.727043458923, 19355.536406054784, 1984.044143080458, 5721.6294520289375, 19887.754371137653, 15463.900619824219, 5963.169742864543, 29485.157359940717, 50865.45200268685, 8278.680667121107, 11844.970497125973, 11261.442819981225, 11470.100755383059, 18725.46147464759, 12416.606938845067, 13754.290468259722, 5152.982537784514, 2866.758888547154, 2117.8937132077913, 1674.9139036268227, 1595.0817466779658, 1511.4895712631449, 1222.0094386354012, 1106.818933593856, 969.7764099109023, 944.295724251926, 942.2712634290974, 908.5073398335194, 881.3283524681394, 843.5084935721035, 821.4438243002595, 788.8227507320895, 783.8388462062734, 773.5314567304358, 763.2509887468073, 764.5492498586187, 745.0350417604079, 736.15240423938, 716.588446365349, 663.2128214653859, 665.3274975248349, 605.9870961943275, 603.8818556535589, 597.7803879676202, 586.0762883349099, 1018.9624114695637, 25169.984250319467, 1017.5079436197115, 6407.090424049841, 9204.725763516914, 7113.756860406299, 7058.556499578277, 3619.550599948814, 3145.4399284411224, 2389.6185322118654, 5988.828612344742, 6545.152909430489, 1089.0296017086218, 7719.364517233568, 15690.449426158617, 2008.1285561152135, 2222.259446792726, 6238.05568894966, 88806.66404624465, 12419.067329859785, 11261.442819981225, 9057.768032537031, 14687.634034870962, 41384.892244342984, 20586.874250714627, 12347.168477599587, 11384.341729594727, 9356.536120839664, 38697.716792131265, 19355.536406054784, 19887.754371137653, 14298.772540980943, 14301.557117713348, 18445.367637010546, 17745.428847261184, 50865.45200268685, 29485.157359940717, 15463.900619824219, 2198.9157483093195, 2105.8141447285984, 1117.0084992417835, 1120.8411349193013, 1100.7193190417725, 901.6303004715769, 886.9350876360971, 817.7956421387233, 790.7961063724687, 790.6126642943792, 751.1971993801718, 680.702904262008, 676.1822258399205, 661.6336672228097, 651.0138855875603, 612.0555454231112, 599.1027839464361, 592.8732470325638, 585.826986422609, 564.8943113167245, 543.7967236328059, 533.66933168573, 528.2610929903014, 508.724620517072, 503.63787595743844, 501.2725493364158, 501.55452167764184, 487.4471820274841, 467.22651336291983, 463.4849539813118, 464.392450609593, 1492.670235489052, 1511.8405222679858, 2260.6218208159617, 1859.0852296510757, 879.0100623249998, 1669.263944093656, 2970.0098575178245, 3043.9622076938895, 905.0072411758396, 16016.70406117104, 1643.1147780249476, 1888.4348584258655, 7936.49533331945, 1740.3573562699553, 3967.7310623086123, 7450.619746107844, 3309.007728374201, 6049.907066883103, 4571.930799860403, 2690.4151144254074, 2989.1428690798048, 12416.606938845067, 3272.0628394139085, 12347.168477599587, 5135.750109679652, 3909.256909030707, 4581.672616671081, 7823.443609021307, 3868.833777358944, 4039.474295826148, 15690.449426158617, 5282.2791523232345, 11824.451076528752, 14409.314361296016, 3390.564155570376, 14298.772540980943, 4857.300644422721], \"Category\": [\"Default\", \"Default\", \"Default\", \"Default\", \"Default\", \"Default\", \"Default\", \"Default\", \"Default\", \"Default\", \"Default\", \"Default\", \"Default\", \"Default\", \"Default\", \"Default\", \"Default\", \"Default\", \"Default\", \"Default\", \"Default\", \"Default\", \"Default\", \"Default\", \"Default\", \"Default\", \"Default\", \"Default\", \"Default\", \"Default\", \"Topic1\", \"Topic1\", \"Topic1\", \"Topic1\", \"Topic1\", \"Topic1\", \"Topic1\", \"Topic1\", \"Topic1\", \"Topic1\", \"Topic1\", \"Topic1\", \"Topic1\", \"Topic1\", \"Topic1\", \"Topic1\", \"Topic1\", \"Topic1\", \"Topic1\", \"Topic1\", \"Topic1\", \"Topic1\", \"Topic1\", \"Topic1\", \"Topic1\", \"Topic1\", \"Topic1\", \"Topic1\", \"Topic1\", \"Topic1\", \"Topic1\", \"Topic1\", \"Topic1\", \"Topic1\", \"Topic1\", \"Topic1\", \"Topic1\", \"Topic1\", \"Topic1\", \"Topic1\", \"Topic1\", \"Topic1\", \"Topic1\", \"Topic1\", \"Topic1\", \"Topic1\", \"Topic1\", \"Topic1\", \"Topic1\", \"Topic1\", \"Topic1\", \"Topic1\", \"Topic1\", \"Topic1\", \"Topic1\", \"Topic1\", \"Topic1\", \"Topic1\", \"Topic1\", \"Topic1\", \"Topic1\", \"Topic1\", \"Topic1\", \"Topic1\", \"Topic2\", \"Topic2\", \"Topic2\", \"Topic2\", \"Topic2\", \"Topic2\", \"Topic2\", \"Topic2\", \"Topic2\", \"Topic2\", \"Topic2\", \"Topic2\", \"Topic2\", \"Topic2\", \"Topic2\", \"Topic2\", \"Topic2\", \"Topic2\", \"Topic2\", \"Topic2\", \"Topic2\", \"Topic2\", \"Topic2\", \"Topic2\", \"Topic2\", \"Topic2\", \"Topic2\", \"Topic2\", \"Topic2\", \"Topic2\", \"Topic2\", \"Topic2\", \"Topic2\", \"Topic2\", \"Topic2\", \"Topic2\", \"Topic2\", \"Topic2\", \"Topic2\", \"Topic2\", \"Topic2\", \"Topic2\", \"Topic2\", \"Topic2\", \"Topic2\", \"Topic2\", \"Topic2\", \"Topic2\", \"Topic2\", \"Topic2\", \"Topic2\", \"Topic2\", \"Topic2\", \"Topic2\", \"Topic2\", \"Topic2\", \"Topic2\", \"Topic2\", \"Topic2\", \"Topic3\", \"Topic3\", \"Topic3\", \"Topic3\", \"Topic3\", \"Topic3\", \"Topic3\", \"Topic3\", \"Topic3\", \"Topic3\", \"Topic3\", \"Topic3\", \"Topic3\", \"Topic3\", \"Topic3\", \"Topic3\", \"Topic3\", \"Topic3\", \"Topic3\", \"Topic3\", \"Topic3\", \"Topic3\", \"Topic3\", \"Topic3\", \"Topic3\", \"Topic3\", \"Topic3\", \"Topic3\", \"Topic3\", \"Topic3\", \"Topic3\", \"Topic3\", \"Topic3\", \"Topic3\", \"Topic3\", \"Topic3\", \"Topic3\", \"Topic3\", \"Topic3\", \"Topic3\", \"Topic3\", \"Topic3\", \"Topic3\", \"Topic3\", \"Topic3\", \"Topic3\", \"Topic3\", \"Topic3\", \"Topic3\", \"Topic3\", \"Topic3\", \"Topic3\", \"Topic3\", \"Topic3\", \"Topic3\", \"Topic3\", \"Topic3\", \"Topic3\", \"Topic3\", \"Topic3\", \"Topic3\", \"Topic3\", \"Topic3\", \"Topic3\", \"Topic4\", \"Topic4\", \"Topic4\", \"Topic4\", \"Topic4\", \"Topic4\", \"Topic4\", \"Topic4\", \"Topic4\", \"Topic4\", \"Topic4\", \"Topic4\", \"Topic4\", \"Topic4\", \"Topic4\", \"Topic4\", \"Topic4\", \"Topic4\", \"Topic4\", \"Topic4\", \"Topic4\", \"Topic4\", \"Topic4\", \"Topic4\", \"Topic4\", \"Topic4\", \"Topic4\", \"Topic4\", \"Topic4\", \"Topic4\", \"Topic4\", \"Topic4\", \"Topic4\", \"Topic4\", \"Topic4\", \"Topic4\", \"Topic4\", \"Topic4\", \"Topic4\", \"Topic4\", \"Topic4\", \"Topic4\", \"Topic4\", \"Topic4\", \"Topic4\", \"Topic4\", \"Topic4\", \"Topic4\", \"Topic4\", \"Topic4\", \"Topic4\", \"Topic4\", \"Topic4\", \"Topic4\", \"Topic4\", \"Topic4\", \"Topic4\", \"Topic4\", \"Topic4\", \"Topic4\", \"Topic4\", \"Topic4\", \"Topic4\", \"Topic5\", \"Topic5\", \"Topic5\", \"Topic5\", \"Topic5\", \"Topic5\", \"Topic5\", \"Topic5\", \"Topic5\", \"Topic5\", \"Topic5\", \"Topic5\", \"Topic5\", \"Topic5\", \"Topic5\", \"Topic5\", \"Topic5\", \"Topic5\", \"Topic5\", \"Topic5\", \"Topic5\", \"Topic5\", \"Topic5\", \"Topic5\", \"Topic5\", \"Topic5\", \"Topic5\", \"Topic5\", \"Topic5\", \"Topic5\", \"Topic5\", \"Topic5\", \"Topic5\", \"Topic5\", \"Topic5\", \"Topic5\", \"Topic5\", \"Topic5\", \"Topic5\", \"Topic5\", \"Topic5\", \"Topic5\", \"Topic5\", \"Topic5\", \"Topic5\", \"Topic5\", \"Topic5\", \"Topic5\", \"Topic5\", \"Topic5\", \"Topic5\", \"Topic5\", \"Topic5\", \"Topic5\", \"Topic5\", \"Topic5\", \"Topic5\", \"Topic5\", \"Topic5\", \"Topic5\", \"Topic5\", \"Topic5\", \"Topic5\", \"Topic5\", \"Topic5\", \"Topic5\", \"Topic5\", \"Topic5\", \"Topic6\", \"Topic6\", \"Topic6\", \"Topic6\", \"Topic6\", \"Topic6\", \"Topic6\", \"Topic6\", \"Topic6\", \"Topic6\", \"Topic6\", \"Topic6\", \"Topic6\", \"Topic6\", \"Topic6\", \"Topic6\", \"Topic6\", \"Topic6\", \"Topic6\", \"Topic6\", \"Topic6\", \"Topic6\", \"Topic6\", \"Topic6\", \"Topic6\", \"Topic6\", \"Topic6\", \"Topic6\", \"Topic6\", \"Topic6\", \"Topic6\", \"Topic6\", \"Topic6\", \"Topic6\", \"Topic6\", \"Topic6\", \"Topic6\", \"Topic6\", \"Topic6\", \"Topic6\", \"Topic6\", \"Topic6\", \"Topic6\", \"Topic6\", \"Topic6\", \"Topic6\", \"Topic6\", \"Topic6\", \"Topic6\", \"Topic6\", \"Topic6\", \"Topic6\", \"Topic6\", \"Topic6\", \"Topic6\", \"Topic6\", \"Topic6\", \"Topic6\", \"Topic6\", \"Topic6\", \"Topic6\", \"Topic6\", \"Topic6\", \"Topic6\", \"Topic6\", \"Topic6\", \"Topic6\", \"Topic6\"], \"logprob\": [30.0, 29.0, 28.0, 27.0, 26.0, 25.0, 24.0, 23.0, 22.0, 21.0, 20.0, 19.0, 18.0, 17.0, 16.0, 15.0, 14.0, 13.0, 12.0, 11.0, 10.0, 9.0, 8.0, 7.0, 6.0, 5.0, 4.0, 3.0, 2.0, 1.0, -4.073, -4.6357, -3.1473, -4.9155, -5.0113, -5.2836, -5.8347, -5.9758, -6.1986, -6.2006, -6.2747, -6.2864, -6.3176, -6.3398, -6.4117, -6.454, -6.5336, -6.5543, -6.587, -6.6098, -6.6255, -6.6297, -6.6417, -6.6606, -6.661, -6.7242, -6.7344, -6.7419, -6.7497, -6.7507, -5.2181, -6.1858, -6.6034, -6.3257, -5.852, -4.8095, -5.338, -3.9213, -5.2362, -6.1311, -5.1353, -4.3195, -6.0618, -5.6516, -5.2567, -5.408, -5.2199, -4.769, -5.4227, -5.8342, -4.2645, -5.27, -4.2392, -4.7992, -5.0065, -5.1861, -5.5407, -5.5123, -5.2524, -4.8343, -5.5523, -5.448, -5.4718, -5.5347, -4.5868, -4.5879, -5.2653, -5.457, -5.4796, -5.5758, -5.6387, -5.6482, -5.7265, -5.7724, -6.2114, -6.2295, -6.2513, -6.3175, -6.3467, -6.4027, -6.4432, -6.5013, -6.5398, -6.5794, -6.5839, -6.587, -6.5876, -6.586, -6.6172, -6.6477, -6.6391, -6.652, -6.6478, -6.7322, -3.9057, -4.2712, -5.243, -4.8225, -4.5855, -5.8455, -4.9729, -5.0061, -5.7616, -3.9647, -3.7948, -5.434, -5.065, -4.6188, -5.7669, -5.3569, -4.579, -4.7938, -5.1685, -5.125, -4.6069, -5.1685, -5.2275, -5.4076, -5.2859, -5.0907, -5.4669, -5.5377, -5.5333, -4.3449, -5.5727, -5.8804, -5.9245, -6.2502, -6.2956, -6.3145, -6.342, -6.3901, -6.4916, -6.5346, -6.5452, -6.5964, -6.6901, -6.6966, -6.735, -6.8134, -6.8312, -6.9047, -7.0245, -7.0286, -7.0504, -7.0555, -7.0863, -7.0988, -7.1865, -7.2069, -7.267, -7.247, -7.2729, -4.0219, -2.608, -5.9421, -4.0673, -5.7602, -4.7612, -3.4038, -5.2522, -4.6079, -6.0379, -5.6721, -4.1972, -4.5212, -3.4625, -5.1061, -5.0014, -5.271, -5.4724, -3.7496, -5.2212, -5.3526, -5.1298, -4.6346, -4.8584, -5.6688, -5.2678, -4.6627, -5.2739, -4.8846, -5.125, -5.0132, -5.2422, -5.4016, -5.4115, -5.0625, -5.2032, -5.3846, -5.4351, -6.0298, -6.0916, -6.1055, -6.1538, -6.0723, -6.5613, -6.5569, -6.5761, -6.5982, -6.6016, -6.6519, -6.6533, -6.6657, -6.6966, -6.7014, -6.7429, -5.2202, -6.7611, -6.8351, -6.8993, -6.8952, -6.9152, -6.9256, -6.9038, -6.9481, -6.9492, -6.7439, -4.4035, -5.7952, -3.8034, -4.3652, -5.2622, -5.0979, -5.894, -4.1327, -4.7333, -5.6123, -4.9676, -3.5339, -3.962, -4.9006, -5.228, -4.671, -3.6226, -5.3649, -4.3624, -5.8887, -5.192, -4.4506, -4.6209, -5.201, -4.4508, -4.3043, -5.1991, -5.0863, -5.1603, -5.175, -5.1004, -5.1788, -4.2649, -5.2467, -5.8333, -6.1361, -6.3709, -6.4198, -6.4736, -6.6863, -6.7854, -6.9177, -6.9444, -6.9465, -6.983, -7.0134, -7.0573, -7.0839, -7.1244, -7.1308, -7.144, -7.1574, -7.1557, -7.1816, -7.1936, -7.2206, -7.2981, -7.2949, -7.3885, -7.3919, -7.4021, -7.4219, -6.878, -3.7617, -6.8986, -5.2066, -4.8763, -5.1519, -5.1616, -5.7803, -5.9044, -6.1485, -5.3421, -5.3437, -6.8543, -5.2367, -4.7112, -6.3708, -6.3228, -5.5789, -3.6852, -5.1282, -5.1982, -5.3745, -5.0476, -4.374, -4.8747, -5.2074, -5.2722, -5.4442, -4.6149, -5.0462, -5.0421, -5.2668, -5.3137, -5.2118, -5.2535, -4.9838, -5.1856, -5.3571, -5.3405, -5.3837, -6.0181, -6.0147, -6.0328, -6.2325, -6.249, -6.3302, -6.3638, -6.3641, -6.4153, -6.5139, -6.5206, -6.5424, -6.5586, -6.6203, -6.6418, -6.6522, -6.6642, -6.7006, -6.7388, -6.7576, -6.7678, -6.8056, -6.8156, -6.8203, -6.8198, -6.8483, -6.8908, -6.8988, -6.8969, -5.8575, -5.8551, -5.5673, -5.7588, -6.3666, -5.8682, -5.4216, -5.433, -6.3586, -4.2143, -5.9196, -5.8259, -4.8429, -5.9033, -5.3678, -5.0222, -5.5454, -5.1801, -5.3657, -5.7342, -5.6955, -4.9834, -5.708, -5.1075, -5.5273, -5.6763, -5.6206, -5.4865, -5.7574, -5.7491, -5.5116, -5.7111, -5.5757, -5.682, -5.8015, -5.7513, -5.7906], \"loglift\": [30.0, 29.0, 28.0, 27.0, 26.0, 25.0, 24.0, 23.0, 22.0, 21.0, 20.0, 19.0, 18.0, 17.0, 16.0, 15.0, 14.0, 13.0, 12.0, 11.0, 10.0, 9.0, 8.0, 7.0, 6.0, 5.0, 4.0, 3.0, 2.0, 1.0, 2.1176, 2.1175, 2.1175, 2.1174, 2.1174, 2.1173, 2.117, 2.1169, 2.1168, 2.1168, 2.1167, 2.1167, 2.1166, 2.1166, 2.1165, 2.1165, 2.1164, 2.1164, 2.1163, 2.1163, 2.1163, 2.1163, 2.1162, 2.1162, 2.1162, 2.1161, 2.1161, 2.1161, 2.1161, 2.1161, 2.1131, 2.1158, 2.1106, 2.0901, 2.0534, 1.6954, 1.8112, 1.4151, 1.737, 1.9816, 1.6584, 1.2414, 1.8545, 1.6262, 1.3877, 1.4298, 1.2905, 0.8606, 1.3125, 1.6697, 0.1558, 1.1133, 0.0794, 0.5726, 0.664, 0.7742, 1.2432, 1.2035, 0.7594, 0.0297, 0.7895, 0.132, -0.8797, -0.2016, 1.9492, 1.9492, 1.9491, 1.949, 1.949, 1.949, 1.9489, 1.9489, 1.9489, 1.9489, 1.9486, 1.9486, 1.9486, 1.9485, 1.9485, 1.9484, 1.9484, 1.9483, 1.9483, 1.9483, 1.9483, 1.9483, 1.9483, 1.9483, 1.9482, 1.9482, 1.9482, 1.9482, 1.9482, 1.9481, 1.9465, 1.7397, 1.8022, 1.7205, 1.5934, 1.8125, 1.6106, 1.4662, 1.6542, 0.8993, 0.7973, 1.4773, 1.2032, 0.9612, 1.5561, 1.2876, 0.6788, 0.5426, 0.8236, 0.6509, -0.1866, 0.6396, 0.5882, 0.9024, 0.3438, -0.772, -0.3911, 0.4022, -0.1616, 1.4771, 1.4769, 1.4768, 1.4767, 1.4767, 1.4767, 1.4766, 1.4766, 1.4766, 1.4765, 1.4765, 1.4765, 1.4765, 1.4764, 1.4764, 1.4764, 1.4763, 1.4763, 1.4762, 1.4761, 1.4761, 1.4761, 1.4761, 1.476, 1.476, 1.4759, 1.4759, 1.4758, 1.4758, 1.4758, 1.2961, 1.1534, 1.3836, 1.237, 1.3604, 1.2557, 1.1211, 1.2788, 1.2035, 1.3419, 1.29, 1.0261, 1.0663, 0.8562, 1.1677, 1.1444, 1.1639, 1.1633, 0.6707, 1.0361, 1.0811, 0.9681, 0.6985, 0.7713, 1.1485, 0.8701, 0.413, 0.7704, 0.4003, 0.5455, 0.3953, 0.1295, 0.3761, -0.5475, 2.0188, 2.0188, 2.0187, 2.0187, 2.0184, 2.0183, 2.0183, 2.0183, 2.0179, 2.0179, 2.0179, 2.0179, 2.0178, 2.0178, 2.0178, 2.0178, 2.0178, 2.0177, 2.0177, 2.0176, 2.0176, 2.0176, 2.0175, 2.0174, 2.0174, 2.0174, 2.0174, 2.0173, 2.0173, 2.0173, 2.0149, 1.9152, 1.9426, 1.6051, 1.6268, 1.7553, 1.6955, 1.8288, 1.3416, 1.4808, 1.7122, 1.5021, 1.0582, 1.1137, 1.3921, 1.4978, 1.2563, 0.7977, 1.4665, 0.9225, 1.6741, 1.3116, 0.8072, 0.8884, 1.2613, 0.4132, 0.0144, 0.9351, 0.6897, 0.6662, 0.6332, 0.2176, 0.5501, 1.3617, 1.3616, 1.3614, 1.3613, 1.3612, 1.3612, 1.3612, 1.361, 1.361, 1.3609, 1.3608, 1.3608, 1.3608, 1.3608, 1.3607, 1.3607, 1.3607, 1.3606, 1.3606, 1.3606, 1.3606, 1.3606, 1.3606, 1.3605, 1.3605, 1.3604, 1.3603, 1.3603, 1.3603, 1.3603, 1.3511, 1.2606, 1.3319, 1.1838, 1.1519, 1.134, 1.132, 1.1812, 1.1976, 1.2282, 1.1159, 1.0255, 1.3083, 0.9674, 0.7837, 1.1799, 1.1265, 0.8383, 0.0762, 0.6004, 0.6283, 0.6698, 0.5133, 0.151, 0.3485, 0.527, 0.5434, 0.5676, -0.0228, 0.2387, 0.2156, 0.3209, 0.2738, 0.1213, 0.1182, -0.6651, -0.3216, 0.1522, 2.1194, 2.1194, 2.1191, 2.1191, 2.1191, 2.1189, 2.1189, 2.1188, 2.1188, 2.1188, 2.1187, 2.1186, 2.1186, 2.1186, 2.1185, 2.1185, 2.1184, 2.1184, 2.1184, 2.1183, 2.1183, 2.1183, 2.1182, 2.1182, 2.1182, 2.1182, 2.1182, 2.1181, 2.118, 2.118, 2.118, 1.9898, 1.9795, 1.8649, 1.869, 2.0102, 1.8673, 1.7377, 1.7018, 1.9891, 1.2599, 1.8317, 1.7862, 1.3335, 1.7905, 1.5019, 1.2173, 1.5059, 1.2677, 1.3623, 1.524, 1.4574, 0.7454, 1.3545, 0.627, 1.0844, 1.2082, 1.1052, 0.7043, 1.1375, 1.1027, -0.0167, 0.8724, 0.202, -0.102, 1.2254, -0.1636, 0.8768]}, \"token.table\": {\"Topic\": [5, 6, 5, 2, 2, 3, 4, 3, 2, 6, 1, 1, 4, 6, 6, 2, 3, 6, 3, 1, 2, 3, 4, 5, 6, 1, 2, 3, 5, 6, 3, 3, 2, 4, 1, 2, 4, 3, 3, 6, 1, 1, 3, 5, 2, 4, 5, 6, 3, 4, 5, 6, 5, 2, 3, 5, 6, 6, 1, 2, 6, 1, 2, 3, 4, 5, 4, 4, 1, 2, 3, 5, 3, 5, 5, 2, 1, 2, 1, 2, 4, 5, 6, 2, 6, 2, 4, 2, 2, 3, 6, 3, 1, 1, 2, 3, 4, 5, 6, 5, 3, 5, 3, 5, 3, 2, 3, 6, 2, 2, 2, 4, 5, 6, 2, 1, 2, 3, 4, 5, 6, 1, 1, 2, 3, 4, 5, 6, 4, 1, 5, 5, 5, 4, 6, 6, 2, 3, 4, 5, 6, 1, 5, 3, 4, 1, 2, 3, 5, 6, 1, 2, 4, 5, 6, 2, 6, 5, 6, 3, 6, 3, 5, 1, 3, 4, 5, 5, 1, 3, 5, 1, 4, 5, 5, 5, 3, 5, 1, 5, 1, 2, 3, 4, 5, 6, 1, 2, 3, 4, 5, 6, 3, 4, 4, 1, 1, 2, 3, 4, 6, 2, 3, 3, 5, 6, 1, 4, 5, 2, 4, 1, 2, 3, 5, 6, 1, 2, 3, 5, 6, 1, 2, 3, 4, 5, 6, 6, 1, 3, 4, 5, 5, 5, 5, 1, 5, 1, 2, 6, 1, 2, 3, 4, 5, 6, 1, 2, 3, 4, 5, 6, 1, 2, 3, 4, 5, 6, 1, 2, 3, 4, 5, 6, 3, 6, 1, 2, 3, 4, 1, 3, 4, 5, 1, 2, 3, 4, 4, 4, 3, 4, 6, 1, 2, 4, 4, 1, 2, 3, 4, 5, 1, 3, 5, 5, 3, 4, 5, 3, 1, 2, 3, 5, 6, 2, 1, 2, 3, 5, 6, 3, 3, 1, 4, 5, 4, 4, 1, 5, 6, 6, 6, 2, 4, 1, 2, 4, 5, 6, 2, 6, 3, 4, 5, 2, 3, 4, 5, 6, 2, 2, 3, 6, 4, 5, 4, 2, 5, 1, 3, 6, 1, 2, 3, 4, 6, 1, 2, 3, 4, 5, 2, 3, 5, 6, 1, 2, 3, 4, 5, 6, 1, 2, 3, 4, 5, 1, 2, 3, 4, 5, 6, 1, 6, 3, 4, 3, 4, 1, 2, 1, 1, 3, 3, 3, 4, 3, 5, 6, 4, 3, 4, 5, 4, 5, 1, 6, 3, 5, 1, 5, 1, 2, 3, 4, 5, 6, 2, 2, 3, 4, 5, 6, 1, 2, 3, 4, 5, 3, 5, 3, 5, 6, 1, 5, 6, 3, 5, 6, 6, 1, 5, 3, 4, 5, 1, 5, 3, 5, 1, 2, 3, 4, 5, 1, 2, 3, 4, 5, 6, 1, 2, 5, 6, 2, 5, 1, 2, 3, 4, 5, 6, 2, 1, 5, 2, 3, 6, 5, 1, 3, 4, 3, 3, 1, 2, 4, 5, 6, 2, 3, 4, 5, 6, 1, 4, 1, 2, 3, 5, 6, 1, 2, 3, 4, 5, 6, 6, 1, 2, 3, 4, 5, 6, 2, 3, 5, 6, 1, 2, 3, 4, 5, 6, 1, 2, 4, 5, 6, 3, 4, 5, 6, 4, 5, 2, 6, 1, 2, 3, 4, 5, 6, 1, 1, 4, 4, 1, 5, 5, 1, 4, 4, 4, 1, 2, 3, 4, 5, 6, 2, 3, 6, 6, 6, 1, 5, 5, 1, 2, 5, 6, 5, 6, 1, 3, 4, 3, 5, 6, 3, 3, 3, 5, 3, 4, 5, 3, 5, 3, 5, 2, 3, 5, 6, 2, 1, 1, 2, 3, 4, 5, 6, 1, 4, 5, 1, 5, 1, 4, 6, 3, 1, 2, 4, 6, 1, 5, 2, 2, 6, 2, 2, 1, 2, 3, 4, 5, 6, 3, 4, 6, 1, 2, 3, 4, 5, 6, 1, 2, 3, 4, 5, 6, 1, 2, 3, 4, 5, 6, 1, 5, 4, 3, 1, 2, 3, 4, 5, 6, 1, 2, 3, 4, 5, 6, 5, 2, 6, 2, 4, 5, 6, 3, 3, 5, 6, 6, 2, 2, 1, 2, 3, 4, 5, 6, 4, 4, 2, 6, 3, 6, 2, 1, 2, 4, 1, 2, 3, 4, 5, 6, 4, 5, 5, 1, 3, 4, 5, 6, 4, 5, 1, 2, 3, 5, 5, 1, 2, 3, 4, 5, 6, 4, 1, 2, 3, 4, 5, 1, 4, 1, 2, 3, 4, 5, 6, 2, 4, 6, 2, 3, 4, 5, 6, 4, 5], \"Freq\": [0.12154598880013537, 0.8773410464300679, 0.9983710937072314, 0.9992905120989505, 0.0025147472402338943, 0.8199872251191235, 0.17728968043648957, 0.9988273062742888, 0.22471693200618562, 0.7750080017221205, 0.9990079704255747, 0.7687690423786777, 0.06890926990509155, 0.16222390623490304, 0.9988943940216369, 0.19008556450313827, 0.3833116731154588, 0.42645283166791015, 0.9996534384171977, 0.0019431651357456085, 0.03458833941627183, 0.16011680718543814, 0.06736305803918109, 0.6741487577613431, 0.06192219565909339, 0.060651456614824906, 0.12056024233232542, 0.4186188291251792, 0.038371329695093305, 0.36168072699697623, 0.9999003370879216, 0.9990393737049792, 0.9999274142184778, 0.9991194133968492, 0.16700168925583656, 0.2987631915415856, 0.5341223519080739, 0.9996499170778124, 0.9991640749289903, 0.9992495502769339, 0.999793395234074, 0.9988076456385838, 0.9997351602664233, 0.9993129474880282, 0.20942834132952853, 0.05862784735631823, 0.1906916066074062, 0.5412498691503399, 0.014855907869017679, 0.49286659047799825, 0.492167488931221, 0.9989457090500395, 0.999809326389657, 0.019758836423731566, 0.8897954697703379, 0.031419789067245275, 0.05895259391998598, 0.9987457932356433, 0.4818870017537471, 0.5158907192052641, 0.002012054287072013, 0.0002933947093926611, 0.09627537821070607, 0.3450321782457694, 0.4043817366029135, 0.15399030890123383, 0.9979427908289239, 0.9986446202247904, 0.0017684526401204011, 0.7004335635334018, 0.0003789541371686574, 0.2972263615859503, 0.9990893103325115, 0.9984927836890537, 0.9980047457383416, 0.9983695384778265, 0.9999000738249976, 0.9991837427654927, 0.0023418084402753625, 0.10370865949790892, 0.04282164005074949, 0.3355476950851698, 0.5155324009234763, 0.1212592009250442, 0.8782917812858174, 0.8107892443803042, 0.18910941021961264, 0.9987767189248642, 0.9997302955769276, 0.999415598843574, 0.9982516165099548, 0.999542114336278, 0.9993370510610126, 0.10140730582602339, 0.14819453865196108, 0.18819797239850272, 0.10721199988365093, 0.3531771685664952, 0.1019667944098911, 0.998539688441865, 0.6630746513786759, 0.3368863935824592, 0.8734435974123093, 0.1263366279774652, 0.9985230255509203, 0.6749836392924862, 0.052348907395186946, 0.27245226803404116, 0.9998358990358146, 0.9987316782878372, 0.6237201472863145, 0.14371310891559141, 0.21465010966003326, 0.01786561500230387, 0.9989512400620523, 0.4008345284199906, 0.27248104600410145, 0.12856956571961964, 0.00021608330373045317, 0.013181081527557644, 0.18475122468953745, 0.9986760529623157, 0.08632342251102001, 0.07242000401809466, 0.000611139274414301, 0.12635304498515673, 0.7144218117903178, 0.9987334630934462, 0.9979874554774221, 0.9952857441587739, 0.0043986111634176425, 0.9986278406026328, 0.9994415677108207, 0.9986581052415701, 0.0010926237475290701, 0.9976127467893521, 0.08177149503190594, 0.06489385845732056, 0.5837830573317829, 0.2637621343749158, 0.005756713250246178, 0.028501005993952815, 0.9709997904146683, 0.9988589100319037, 0.9979687712778441, 0.3663292743782992, 0.06709838232055988, 0.13419676464111976, 0.3353369499808119, 0.09700597536413506, 0.6118229335316647, 0.3138719882058354, 0.023881564320009218, 0.021986202072389438, 0.028430433714296686, 0.9971404703034029, 0.0028242443654093643, 0.9992601015676549, 0.9993009324650611, 0.13030474914409007, 0.869139291245352, 0.09622572568631063, 0.903774900046323, 0.02578430873378627, 0.10342057898716471, 0.07593620594126066, 0.7947800659150602, 0.9989298231258461, 0.9985668248122116, 0.009813904700937733, 0.9892415938545235, 0.07089628321419529, 0.080433899790096, 0.8485299547026334, 0.9993971684031893, 0.9999061770388884, 0.16294447727492828, 0.8370414096029123, 0.12470609680289302, 0.8750350617947963, 0.4470153366381328, 0.1663364116125137, 0.21105997658912332, 0.011235969526143308, 0.15443950270247958, 0.00969377763039815, 0.43723699330540394, 0.2549522749696299, 0.10275509218927803, 0.1784138073286437, 0.0070380200129642485, 0.019354555035651682, 0.9993150957485595, 0.9985134106473956, 0.9995468969868662, 0.9985586880152661, 0.11544086585339408, 0.14317399694006747, 0.6433266713652458, 0.09617795214294608, 0.0017760133208214474, 0.9985847188108684, 0.9995775888687805, 0.19330947283350483, 0.26765927007716056, 0.5390990383192528, 0.5026520310031971, 0.09349962499962335, 0.40378167036390866, 0.7445201609514379, 0.2554256776613057, 0.08703694503311457, 0.3023901020949148, 0.24417075854927442, 0.011293384366712853, 0.3551574669807628, 0.26097673356268697, 0.009135708292742835, 0.356698654896648, 0.3408634271892271, 0.03227950263435801, 0.08447280863561761, 0.11281938871468393, 0.1388172521586276, 0.005264364871826601, 0.43402663612490394, 0.2247478849125972, 0.9989673846584067, 0.4163366261361048, 0.08381200110769338, 0.07176104725224113, 0.42804715756626177, 0.9989569890937782, 0.9997352799531952, 0.9993218236744175, 0.9982271226965921, 0.9984345575281104, 0.9980985583121756, 0.9993183979216473, 0.9990270892901281, 0.020952022905827688, 0.1291394745152404, 0.1747941910939884, 0.3228163529194192, 0.29837232619595355, 0.05393205896129719, 0.018734685509839415, 0.08502664962157888, 0.15070098673848847, 0.18899386041794045, 0.2678442400912206, 0.2884318065855496, 0.00310794989234411, 0.11428375746991057, 0.05043758682432727, 0.2584926324746773, 0.48022265765134137, 0.09341609390702868, 0.13026523384968636, 0.06578138733188207, 0.5373981538305428, 0.13470832815243752, 0.13175937175680622, 9.829854652104314e-05, 0.9993986063654037, 0.999042268774699, 0.07038923702107518, 0.011238617675633852, 0.09168345998543405, 0.8269256584492697, 0.00012220556092530898, 0.7169800259487877, 0.0008554389264771628, 0.2820504346156131, 0.14060685048431482, 0.1181262938289523, 0.446433823066899, 0.2948151994290377, 0.999043762267523, 0.9996959805927785, 0.8013631963628712, 0.19862205765079743, 0.9985756134304341, 0.9378470892124361, 0.0078094761403003764, 0.05466633298210263, 0.9979194610975993, 0.0065401458757176805, 0.06506606666098615, 0.395594977456872, 0.4687104544264337, 0.0640598903724142, 0.005201189853132928, 0.1984886506114512, 0.7963443383242713, 0.999173951850545, 0.7233916586096174, 9.008332973563929e-05, 0.27651078062354484, 0.9983438551138739, 0.9997913002534213, 0.00015190549003597185, 0.4931678515009197, 0.5005648172610633, 0.006182538545791695, 0.9984163791735278, 0.005262076799298868, 0.0014351118543542366, 0.7199477802677087, 0.08873774966090363, 0.18465105859357844, 0.998922645924878, 0.9986430723058196, 0.6555729015895521, 0.2938352647540998, 0.05057676683379086, 0.9991874643983987, 0.9986047104041366, 0.9978657703934938, 0.9991993928672964, 0.9981592742080552, 0.9989536791277774, 0.9982754091013398, 0.998682332582005, 0.9980667126510306, 0.07581276797758914, 0.2729428495228794, 0.26466929577922266, 0.29126286138383356, 0.09539914010542953, 0.9987748478985544, 0.9995835455223677, 0.19841235943520213, 0.5753473307827622, 0.226063959649888, 0.1072417776530707, 0.16667851973731132, 0.13037736973317296, 0.3529136449345986, 0.24285980636571436, 0.9996042821646022, 0.8720804793004988, 0.06541989609501517, 0.062093460700353376, 0.9950560048089977, 0.0033335209541339957, 0.9986661948503432, 0.998429349073912, 0.998610747545562, 0.031965327409471916, 0.41703601573752896, 0.5512160528865914, 0.22070706386132805, 0.6168957226269813, 0.1266990665911538, 0.009824259174180373, 0.025915718166372365, 0.21329436626064824, 0.12110160980029935, 0.25984156481581216, 0.11732598957851245, 0.28835595037139683, 0.9983642523801564, 0.7338408222507907, 0.26081624984613644, 0.005416311897763217, 0.1754581866515096, 0.2128574373209924, 0.24210046842957733, 0.07052145937410449, 0.29670735305071044, 0.002387186212945709, 0.022708932444591632, 0.14325954191109402, 0.05121589019418538, 0.33821814279179024, 0.44463606557734997, 0.23369767722187265, 0.07301153049747063, 0.39392797672152463, 0.0449769261753409, 0.19905328814086684, 0.05523348873221763, 0.9975413828454983, 0.998534887030059, 0.33894797067847543, 0.6610011563403797, 0.9984394907216139, 0.9984081530864067, 0.9979826554642548, 0.9989686332610718, 0.9996355136064605, 0.9998664858654838, 0.9989252464351609, 0.9993852748349298, 0.9982607620172151, 0.9975539747277233, 0.16754478709063106, 0.173786651707733, 0.6583524575090679, 0.9984206303206735, 0.7305653837951624, 0.2658595841110979, 0.0035900018859713143, 0.9012822782144684, 0.0984960323387185, 0.9984934133372352, 0.9990826041385159, 0.7605927824900341, 0.23933086289738165, 0.20924649490009406, 0.7901867635366993, 0.13727231916828644, 0.3722592113340184, 0.17814865687815534, 0.06842796092008616, 0.1355373303011443, 0.10840210441904115, 0.9985020756860125, 0.11242514869553455, 0.01859170746910591, 0.3051227284635617, 0.09492707107755252, 0.46872975419169366, 0.284510638815452, 0.2007838473875774, 0.49368175189484614, 0.014951212754977612, 0.00612635059228351, 0.21773874064655505, 0.7821228996844047, 0.6729027527854109, 0.3269176367371117, 0.999154916043364, 0.9990350045123821, 0.10352554982055964, 0.8964630028417692, 0.1499691997506718, 0.13043298215863025, 0.7193924830951766, 0.9974613624103287, 0.9982272576218003, 0.9994543578479802, 0.34067771937011626, 0.3340129596190175, 0.32528160769703546, 0.9990065767720745, 0.9986945239701266, 0.8293439536431758, 0.17056840646594648, 0.2649100313855702, 0.17586339345068996, 0.3603489989217857, 0.1986081941252086, 0.0001486588279380304, 0.49531416499543424, 0.244937369314127, 0.13348352305060351, 0.08333201194520154, 0.03067836471089665, 0.012293103589827381, 0.6318346433173944, 0.11772445849610601, 0.23591607754179975, 0.014481977037219389, 0.7953569374121009, 0.20452035533454024, 0.021453493423710716, 0.03101709892584682, 0.12148363745956671, 0.0012923791219102841, 0.45000641024916094, 0.37453146952960037, 0.9994822383554319, 0.8727006392056265, 0.12666826094576158, 0.8630626250161941, 0.09642989997570425, 0.04025422615808215, 0.9981712936991988, 0.0005340322327190176, 0.8343719604001931, 0.16506936313344833, 0.9994463516181347, 0.9993981814177471, 0.0659104933882294, 0.2699191633994156, 0.2501285787444843, 0.34393769367270494, 0.07018246981154055, 0.0486367230751621, 0.0036836542508787724, 0.5078448080787785, 0.016607661537860228, 0.4231831951263783, 0.9928595389430033, 0.00637470008952169, 0.14776302025635007, 0.16133008399246207, 0.13154153100665097, 0.1504174457699372, 0.4087815290924176, 0.0026519515881199686, 0.09222898300906113, 0.24584573426164005, 0.466350597792356, 0.12473994507082815, 0.06816497785760216, 0.9992250765487978, 0.015960869817450787, 0.007532687735628589, 0.7865074166480452, 0.08122660481356143, 0.10266579298419665, 0.006110432009321093, 0.17117113755801633, 0.7310264025356655, 0.06265940593162848, 0.035082740300260734, 0.0021393232170485573, 0.048287581184810295, 0.003056176024355082, 0.39760850076859616, 0.08373922306732924, 0.4651499909068435, 0.9993403004145475, 0.9993784921975427, 0.7355621420464327, 0.2641192356700204, 0.9984168519689286, 0.17595851683141633, 0.057444885739013116, 0.3610437912101525, 0.4056038427647141, 0.05142192637568288, 0.947632643209013, 0.9996503941812206, 0.9973749063294978, 0.2571464448944043, 0.10815968505117919, 0.00224442034197111, 0.17153784042207768, 0.4519835060093249, 0.00897768136788444, 0.9976188349847623, 0.9979940459922854, 0.9993365527812862, 0.9980762931611471, 0.9722870678954696, 0.026022281622506485, 0.999459702188841, 0.9992087866027667, 0.9974236748805975, 0.9985191376202829, 0.9997903862684608, 0.005154387210227094, 0.026979995553532445, 0.2712496269382008, 0.23017560385670366, 0.2135043827236254, 0.2529676598019266, 0.16621077671516704, 0.05540359223838902, 0.7783397861063001, 0.9990971427321564, 0.9985270932076383, 0.9982917716201327, 0.0010552767141861867, 0.9986508519590516, 0.23805998760533273, 0.35096926182347, 0.4105922714233537, 0.00028803386280137054, 0.9996761001382658, 0.9993465009386783, 0.9988457216669286, 0.07325243371991208, 0.926463157621511, 0.7004246822453021, 0.2979831366284564, 0.001570621462929749, 0.999340991204988, 0.9992399980730198, 0.6010537690198605, 0.39883878006279117, 0.5449469244938602, 0.20646153780045468, 0.24852974309508638, 0.6369106762064594, 0.36304685738003944, 0.9105893353769221, 0.08907074721590853, 0.1776602821248388, 0.2988724746100125, 0.06791410784772206, 0.4554907233200654, 0.9990029062324579, 0.9983015702296262, 0.735902267213587, 0.012998273741544336, 0.0696574156918658, 0.0819891112928181, 0.06799097034038576, 0.03132917260782481, 0.4170397729982142, 0.18064784398868847, 0.4020050612706025, 0.1649376030296254, 0.8349102786524757, 0.9995379187473654, 0.9997883213837365, 0.9989932849111757, 0.9979736513706009, 0.004040390630228062, 0.19326535181257565, 0.12020162124928485, 0.6824893172893568, 0.9981344554587774, 0.9992816030377111, 0.9994184758850515, 0.28330339149000755, 0.7164663339924864, 0.998599070200261, 0.9996394574721255, 0.9992833524466757, 0.19773578917627696, 0.17778314809510024, 0.0030696370894118027, 0.21973485498372822, 0.40186665562216184, 0.11340473486172614, 0.708149566581001, 0.17842344951578246, 0.10127946150831559, 0.25631697196987413, 0.10057674191415554, 0.07940731414008437, 0.4411322252339643, 0.02125726772334117, 0.029551333465887855, 0.09477362258678476, 0.21338156317330467, 0.10749599503258934, 0.46702379864345933, 0.08768774426253917, 0.004827090993205406, 0.280675228375756, 0.09674294865549167, 0.2976203290498208, 0.31788405478171433, 0.0022124167052191444, 0.16582603687694117, 0.8336119691651637, 0.9994031165292163, 0.9988505798071367, 0.026704142667924896, 0.10566937599861449, 0.11663145843031636, 0.0719545992173919, 0.5609781951386036, 0.1180335852529759, 0.018230830144386697, 0.47413969610363277, 0.0046958198856753616, 0.01519235845365558, 0.3311934142896916, 0.15648129207265246, 0.9995780179136385, 0.7125712010779532, 0.2871866397543186, 0.006984348878085123, 0.5936696546372355, 0.036667831609946896, 0.36253135895310595, 0.9992565954474963, 0.21566391658658016, 0.007188797219552671, 0.7769891661466513, 0.9984062781634974, 0.9992774592683588, 0.9987042085220027, 0.12392675933160924, 0.3499048648123187, 0.1320325325883839, 0.20071115537067966, 0.18575447752031302, 0.007664873456196959, 0.9985158993507609, 0.9991436045347099, 0.25013468657011845, 0.7497954594997225, 0.9990237841234938, 0.999613382438979, 0.9988472389386761, 0.6833775252766163, 0.15791750584101766, 0.15847650586169384, 0.11129480696251752, 0.13827280348306697, 0.3325312925354247, 0.0701089627446254, 0.20093956029098908, 0.14689899672788218, 0.9990676934404182, 0.9983609733033412, 0.9991788224212466, 0.00032591954144799737, 0.17882118840780123, 0.010103505784887919, 0.8106705394283188, 0.9984426052807688, 0.723470296770339, 0.27626383508047486, 0.6386754937111071, 0.035165168552546075, 0.1853299423715266, 0.14018546922974448, 0.9981635695619631, 0.09834447519279677, 0.04602781666961657, 0.459031241156235, 0.044184535436675505, 0.28923251111001697, 0.06321370345909649, 0.9992084813792316, 0.23725341256919696, 0.007534398912670445, 0.08993186787251317, 0.07277908736919961, 0.5924923059836162, 0.9996939476826794, 0.9976747970276085, 0.049925426101439914, 0.31598763476625635, 0.0006460329464472039, 0.38255486956817625, 0.25042821136079413, 0.0004651437214419868, 0.32443194671860487, 0.6755855169556995, 0.9985883435864588, 0.9996840658847893, 0.15322978922437336, 0.5963629062425997, 0.2253677385064102, 0.025003317315553754, 0.7681442158476511, 0.23169964365431242], \"Term\": [\"accessory\", \"accessory\", \"active_noise\", \"adapter\", \"amazing\", \"amazing\", \"amazing\", \"amazing_sound\", \"app\", \"app\", \"arm\", \"attach\", \"attach\", \"attach\", \"attachment\", \"audio\", \"audio\", \"audio\", \"audiophile\", \"bad\", \"bad\", \"bad\", \"bad\", \"bad\", \"bad\", \"base\", \"base\", \"base\", \"base\", \"base\", \"bass\", \"bass_heavy\", \"battery\", \"battery_last\", \"battery_life\", \"battery_life\", \"battery_life\", \"beat\", \"blow_away\", \"blue_tooth\", \"bluetooth\", \"bluetooth_connection\", \"bluetooth_headphone\", \"book\", \"box\", \"box\", \"box\", \"box\", \"break\", \"break\", \"break\", \"bright\", \"bud\", \"build_quality\", \"build_quality\", \"build_quality\", \"build_quality\", \"business\", \"button\", \"button\", \"button\", \"buy\", \"buy\", \"buy\", \"buy\", \"buy\", \"buy_second\", \"buy_year\", \"cable\", \"cable\", \"cable\", \"cable\", \"can\", \"canal\", \"cancellation\", \"card\", \"case\", \"cell_phone\", \"change\", \"change\", \"change\", \"change\", \"change\", \"channel\", \"channel\", \"charge\", \"charge\", \"charge_cable\", \"charger\", \"clarity\", \"class\", \"clear_sound\", \"clip\", \"come\", \"come\", \"come\", \"come\", \"come\", \"come\", \"come_different\", \"comfortable\", \"comfortable\", \"comfortable_wear\", \"comfortable_wear\", \"complete\", \"computer\", \"computer\", \"computer\", \"connect\", \"connect_phone\", \"connection\", \"connection\", \"connection\", \"connection\", \"connectivity\", \"control\", \"control\", \"control\", \"control\", \"control\", \"control\", \"control_volume\", \"cord\", \"cord\", \"cord\", \"cord\", \"cord\", \"corner\", \"couple_month\", \"cover\", \"cover\", \"cup\", \"cushion\", \"customer_service\", \"customer_service\", \"customer_support\", \"day\", \"day\", \"day\", \"day\", \"day\", \"decent_sound\", \"decent_sound\", \"deep_bass\", \"defective\", \"design\", \"design\", \"design\", \"design\", \"design\", \"desk\", \"desk\", \"desk\", \"desk\", \"desk\", \"device\", \"device\", \"disconnect\", \"distance\", \"driver\", \"driver\", \"ear\", \"ear\", \"ear_bud\", \"ear_bud\", \"ear_bud\", \"ear_bud\", \"ear_canal\", \"ear_hook\", \"ear_pad\", \"ear_pad\", \"ear_piece\", \"ear_piece\", \"ear_piece\", \"ear_tip\", \"earbud\", \"earphone\", \"earphone\", \"earpiece\", \"earpiece\", \"easily\", \"easily\", \"easily\", \"easily\", \"easily\", \"easily\", \"easy\", \"easy\", \"easy\", \"easy\", \"easy\", \"easy\", \"easy_pair\", \"easy_set\", \"easy_use\", \"edge\", \"excellent\", \"excellent\", \"excellent\", \"excellent\", \"excellent\", \"excellent_product\", \"excellent_sound\", \"experience\", \"experience\", \"experience\", \"fall\", \"fall\", \"fall\", \"fast\", \"fast\", \"feature\", \"feature\", \"feature\", \"feature\", \"feature\", \"feel\", \"feel\", \"feel\", \"feel\", \"feel\", \"find\", \"find\", \"find\", \"find\", \"find\", \"find\", \"finish\", \"fit\", \"fit\", \"fit\", \"fit\", \"fit_comfortably\", \"fit_ear\", \"flight\", \"fly\", \"foam\", \"fully\", \"fully_charge\", \"functionality\", \"get\", \"get\", \"get\", \"get\", \"get\", \"get\", \"give\", \"give\", \"give\", \"give\", \"give\", \"give\", \"go\", \"go\", \"go\", \"go\", \"go\", \"go\", \"good\", \"good\", \"good\", \"good\", \"good\", \"good\", \"good_bass\", \"good_job\", \"good_product\", \"good_product\", \"good_product\", \"good_product\", \"good_sound\", \"good_sound\", \"good_sound\", \"good_sound\", \"great\", \"great\", \"great\", \"great\", \"great_customer\", \"great_product\", \"great_sound\", \"great_sound\", \"green\", \"hang\", \"hang\", \"hang\", \"hanger\", \"happy\", \"happy\", \"happy\", \"happy\", \"happy\", \"head\", \"head\", \"head\", \"headband\", \"headphone\", \"headphone\", \"headphone\", \"headphone_own\", \"headset\", \"headset\", \"hear\", \"hear\", \"hear\", \"helpful\", \"high\", \"high\", \"high\", \"high\", \"high\", \"high_end\", \"high_volume\", \"hold\", \"hold\", \"hold\", \"hold_charge\", \"holder\", \"hole\", \"hurt\", \"increase\", \"information\", \"input\", \"interference\", \"ipad\", \"issue\", \"issue\", \"issue\", \"issue\", \"issue\", \"key\", \"keyboard\", \"kid\", \"kid\", \"kid\", \"know\", \"know\", \"know\", \"know\", \"know\", \"lamp\", \"laptop\", \"laptop\", \"laptop\", \"last_long\", \"last_long\", \"last_month\", \"led\", \"left_ear\", \"level\", \"level\", \"level\", \"light\", \"light\", \"light\", \"light\", \"light\", \"like\", \"like\", \"like\", \"like\", \"like\", \"link\", \"listen\", \"listen\", \"listen\", \"little\", \"little\", \"little\", \"little\", \"little\", \"little\", \"long\", \"long\", \"long\", \"long\", \"long\", \"look\", \"look\", \"look\", \"look\", \"look\", \"look\", \"loop\", \"lose_connection\", \"love\", \"love\", \"low_end\", \"magnet\", \"make_easy\", \"manual\", \"mic\", \"microphone\", \"mid\", \"mid_high\", \"midrange\", \"min\", \"model\", \"model\", \"model\", \"modem\", \"money\", \"money\", \"money\", \"month\", \"month\", \"mount\", \"mouse\", \"music\", \"music\", \"neck\", \"neck\", \"need\", \"need\", \"need\", \"need\", \"need\", \"need\", \"need_charge\", \"new\", \"new\", \"new\", \"new\", \"new\", \"nice\", \"nice\", \"nice\", \"nice\", \"nice\", \"noise\", \"noise\", \"noise_cancel\", \"noise_cancel\", \"noise_canceling\", \"noise_cancelling\", \"number\", \"number\", \"offer\", \"offer\", \"offer\", \"operate\", \"outlet\", \"pad\", \"pair\", \"pair\", \"pair\", \"pair_bluetooth\", \"pair_earbud\", \"pair_headphone\", \"pair_headphone\", \"perfect\", \"perfect\", \"perfect\", \"perfect\", \"perfect\", \"phone\", \"phone\", \"phone\", \"phone\", \"phone\", \"phone\", \"place\", \"place\", \"place\", \"place\", \"plug\", \"plug\", \"point\", \"point\", \"point\", \"point\", \"point\", \"point\", \"port\", \"position\", \"position\", \"power\", \"power\", \"power\", \"pressure\", \"price\", \"price\", \"price\", \"price_point\", \"price_range\", \"problem\", \"problem\", \"problem\", \"problem\", \"problem\", \"product\", \"product\", \"product\", \"product\", \"product\", \"protect\", \"protect\", \"provide\", \"provide\", \"provide\", \"provide\", \"provide\", \"purchase\", \"purchase\", \"purchase\", \"purchase\", \"purchase\", \"purchase\", \"qc\", \"quality\", \"quality\", \"quality\", \"quality\", \"quality\", \"quality\", \"range\", \"range\", \"range\", \"range\", \"receive\", \"receive\", \"receive\", \"receive\", \"receive\", \"receive\", \"recharge\", \"remote\", \"replacement\", \"replacement\", \"respond\", \"review\", \"review\", \"review\", \"review\", \"right_ear\", \"right_ear\", \"roku\", \"router\", \"run\", \"run\", \"run\", \"run\", \"run\", \"run\", \"runner\", \"running\", \"screen\", \"screen_protector\", \"screw\", \"screw\", \"seal\", \"secure\", \"send_new\", \"send_replacement\", \"service\", \"set\", \"set\", \"set\", \"set\", \"set\", \"set\", \"setting\", \"setting\", \"setting\", \"setup\", \"situation\", \"slide\", \"slide\", \"slip\", \"small\", \"small\", \"small\", \"small\", \"small_ear\", \"software\", \"solution\", \"son\", \"son\", \"sound\", \"sound\", \"sound\", \"sound_amazing\", \"sound_clear\", \"sound_good\", \"sound_good\", \"sound_great\", \"sound_great\", \"sound_great\", \"sound_quality\", \"sound_quality\", \"sound_well\", \"sound_well\", \"speaker\", \"speaker\", \"speaker\", \"speaker\", \"speed\", \"stable\", \"stand\", \"stand\", \"stand\", \"stand\", \"stand\", \"stand\", \"stay\", \"stay\", \"stay\", \"stay_ear\", \"stay_ear\", \"stay_place\", \"stop_work\", \"stream\", \"super_comfortable\", \"support\", \"support\", \"support\", \"support\", \"surface\", \"surround_sound\", \"sync\", \"system\", \"system\", \"table\", \"tablet\", \"talk_phone\", \"test\", \"test\", \"test\", \"test\", \"test\", \"thank\", \"thank\", \"thank\", \"thing\", \"thing\", \"thing\", \"thing\", \"thing\", \"thing\", \"think\", \"think\", \"think\", \"think\", \"think\", \"think\", \"time\", \"time\", \"time\", \"time\", \"time\", \"time\", \"tip\", \"tip\", \"transmitter\", \"treble\", \"try\", \"try\", \"try\", \"try\", \"try\", \"try\", \"turn\", \"turn\", \"turn\", \"turn\", \"turn\", \"turn\", \"uncomfortable\", \"unit\", \"unit\", \"update\", \"update\", \"update\", \"update\", \"update_review\", \"upgrade\", \"upgrade\", \"upgrade\", \"usage\", \"usb\", \"usb_port\", \"use\", \"use\", \"use\", \"use\", \"use\", \"use\", \"use_day\", \"use_run\", \"video\", \"video\", \"vocal\", \"voice\", \"volume_button\", \"volume_control\", \"volume_control\", \"volume_control\", \"want\", \"want\", \"want\", \"want\", \"want\", \"want\", \"warranty\", \"waste_money\", \"water\", \"wear\", \"wear\", \"wear\", \"wear\", \"website\", \"week\", \"week\", \"weight\", \"weight\", \"weight\", \"weight\", \"weird\", \"well\", \"well\", \"well\", \"well\", \"well\", \"well\", \"wing\", \"wire\", \"wire\", \"wire\", \"wire\", \"wire\", \"wireless_headphone\", \"wood\", \"work\", \"work\", \"work\", \"work\", \"work\", \"work\", \"work_great\", \"work_great\", \"work_perfect\", \"work_perfectly\", \"year\", \"year\", \"year\", \"year\", \"year_old\", \"year_old\"]}, \"R\": 30, \"lambda.step\": 0.01, \"plot.opts\": {\"xlab\": \"PC1\", \"ylab\": \"PC2\"}, \"topic.order\": [1, 2, 3, 4, 5, 6]};\n",
       "\n",
       "function LDAvis_load_lib(url, callback){\n",
       "  var s = document.createElement('script');\n",
       "  s.src = url;\n",
       "  s.async = true;\n",
       "  s.onreadystatechange = s.onload = callback;\n",
       "  s.onerror = function(){console.warn(\"failed to load library \" + url);};\n",
       "  document.getElementsByTagName(\"head\")[0].appendChild(s);\n",
       "}\n",
       "\n",
       "if(typeof(LDAvis) !== \"undefined\"){\n",
       "   // already loaded: just create the visualization\n",
       "   !function(LDAvis){\n",
       "       new LDAvis(\"#\" + \"ldavis_el1211620378312690561405963832\", ldavis_el1211620378312690561405963832_data);\n",
       "   }(LDAvis);\n",
       "}else if(typeof define === \"function\" && define.amd){\n",
       "   // require.js is available: use it to load d3/LDAvis\n",
       "   require.config({paths: {d3: \"https://d3js.org/d3.v5\"}});\n",
       "   require([\"d3\"], function(d3){\n",
       "      window.d3 = d3;\n",
       "      LDAvis_load_lib(\"https://cdn.jsdelivr.net/gh/bmabey/pyLDAvis@3.3.1/pyLDAvis/js/ldavis.v3.0.0.js\", function(){\n",
       "        new LDAvis(\"#\" + \"ldavis_el1211620378312690561405963832\", ldavis_el1211620378312690561405963832_data);\n",
       "      });\n",
       "    });\n",
       "}else{\n",
       "    // require.js not available: dynamically load d3 & LDAvis\n",
       "    LDAvis_load_lib(\"https://d3js.org/d3.v5.js\", function(){\n",
       "         LDAvis_load_lib(\"https://cdn.jsdelivr.net/gh/bmabey/pyLDAvis@3.3.1/pyLDAvis/js/ldavis.v3.0.0.js\", function(){\n",
       "                 new LDAvis(\"#\" + \"ldavis_el1211620378312690561405963832\", ldavis_el1211620378312690561405963832_data);\n",
       "            })\n",
       "         });\n",
       "}\n",
       "</script>"
      ],
      "text/plain": [
       "PreparedData(topic_coordinates=              x         y  topics  cluster       Freq\n",
       "topic                                                \n",
       "0     -0.216851 -0.221419       1        1  12.031277\n",
       "1     -0.011809 -0.116164       2        1  14.236237\n",
       "2     -0.039548  0.203236       3        1  22.828075\n",
       "3     -0.053482  0.160003       4        1  13.277647\n",
       "4      0.003827  0.078452       5        1  25.621540\n",
       "5      0.317863 -0.104108       6        1  12.005224, topic_info=          Term          Freq         Total Category  logprob  loglift\n",
       "33   headphone  88806.000000  88806.000000  Default  30.0000  30.0000\n",
       "139    headset  19749.000000  19749.000000  Default  29.0000  29.0000\n",
       "5        sound  41384.000000  41384.000000  Default  28.0000  28.0000\n",
       "254       work  38697.000000  38697.000000  Default  27.0000  27.0000\n",
       "25         ear  25169.000000  25169.000000  Default  26.0000  26.0000\n",
       "..         ...           ...           ...      ...      ...      ...\n",
       "238       want   1737.248681  11824.451077   Topic6  -5.5757   0.2020\n",
       "268       need   1562.054538  14409.314361   Topic6  -5.6820  -0.1020\n",
       "210    provide   1386.144126   3390.564156   Topic6  -5.8015   1.2254\n",
       "223       come   1457.516085  14298.772541   Topic6  -5.7513  -0.1636\n",
       "914       give   1401.354781   4857.300644   Topic6  -5.7906   0.8768\n",
       "\n",
       "[416 rows x 6 columns], token_table=      Topic      Freq          Term\n",
       "term                               \n",
       "6946      5  0.121546     accessory\n",
       "6946      6  0.877341     accessory\n",
       "3522      5  0.998371  active_noise\n",
       "2045      2  0.999291       adapter\n",
       "12        2  0.002515       amazing\n",
       "...     ...       ...           ...\n",
       "68        4  0.596363          year\n",
       "68        5  0.225368          year\n",
       "68        6  0.025003          year\n",
       "2164      4  0.768144      year_old\n",
       "2164      5  0.231700      year_old\n",
       "\n",
       "[748 rows x 3 columns], R=30, lambda_step=0.01, plot_opts={'xlab': 'PC1', 'ylab': 'PC2'}, topic_order=[1, 2, 3, 4, 5, 6])"
      ]
     },
     "execution_count": 151,
     "metadata": {},
     "output_type": "execute_result"
    }
   ],
   "source": [
    "pyLDAvis.enable_notebook()\n",
    "vis = pyLDAvis.gensim_models.prepare(lda_model, corpus, id2word, sort_topics = False)\n",
    "vis"
   ]
  },
  {
   "cell_type": "code",
   "execution_count": 145,
   "metadata": {},
   "outputs": [
    {
     "data": {
      "text/html": [
       "\n",
       "<link rel=\"stylesheet\" type=\"text/css\" href=\"https://cdn.jsdelivr.net/gh/bmabey/pyLDAvis@3.3.1/pyLDAvis/js/ldavis.v1.0.0.css\">\n",
       "\n",
       "\n",
       "<div id=\"ldavis_el1211620398787251843254642043\"></div>\n",
       "<script type=\"text/javascript\">\n",
       "\n",
       "var ldavis_el1211620398787251843254642043_data = {\"mdsDat\": {\"x\": [0.27851907465698483, 0.04244386925016993, -0.04983024479701268, -0.23390584599854125, -0.03722685311160085], \"y\": [0.01777624705963581, 0.19731700610511912, -0.19504717731381713, 0.12096575060886859, -0.14101182645980634], \"topics\": [1, 2, 3, 4, 5], \"cluster\": [1, 1, 1, 1, 1], \"Freq\": [15.825743213225554, 18.357450061178422, 23.567505528787066, 14.03288432597211, 28.21641687083686]}, \"tinfo\": {\"Term\": [\"headphone\", \"sound\", \"ear\", \"product\", \"work\", \"bass\", \"device\", \"earbud\", \"case\", \"charge\", \"headset\", \"sound_quality\", \"buy\", \"fit\", \"work_great\", \"month\", \"wear\", \"music\", \"comfortable\", \"phone\", \"bluetooth\", \"quality\", \"battery\", \"connect\", \"ear_bud\", \"price\", \"love\", \"unit\", \"pair\", \"earphone\", \"case\", \"bluetooth\", \"cover\", \"keyboard\", \"attach\", \"position\", \"slide\", \"thin\", \"arm\", \"screw\", \"mount\", \"solution\", \"clamp\", \"angle\", \"face\", \"prevent\", \"fly\", \"thick\", \"edge\", \"bend\", \"protect\", \"fully\", \"surface\", \"hole\", \"talk_phone\", \"loop\", \"install\", \"outlet\", \"make_easy\", \"pair_bluetooth\", \"hang\", \"screen\", \"black\", \"remove\", \"plastic\", \"stand\", \"desk\", \"hold\", \"cable\", \"place\", \"metal\", \"pull\", \"bag\", \"design\", \"sturdy\", \"small\", \"size\", \"phone\", \"large\", \"feel\", \"look\", \"fit\", \"easily\", \"stick\", \"nice\", \"like\", \"easy\", \"way\", \"thing\", \"little\", \"come\", \"need\", \"use\", \"bit\", \"light\", \"great\", \"good\", \"device\", \"battery\", \"connect\", \"unit\", \"charger\", \"lamp\", \"work_perfectly\", \"remote\", \"roku\", \"seller\", \"channel\", \"signal\", \"usb\", \"bluetooth_headset\", \"volume_button\", \"connectivity\", \"usb_port\", \"card\", \"helpful\", \"charge_cable\", \"recharge\", \"fully_charge\", \"sync\", \"receiver\", \"manual\", \"defective\", \"surround_sound\", \"led\", \"need_charge\", \"connect_phone\", \"app\", \"port\", \"charge\", \"setup\", \"pair_device\", \"easy_pair\", \"power\", \"computer\", \"laptop\", \"button\", \"plug\", \"headset\", \"turn\", \"mode\", \"use\", \"work\", \"connection\", \"phone\", \"light\", \"switch\", \"need\", \"work_great\", \"issue\", \"time\", \"problem\", \"great\", \"feature\", \"control\", \"speaker\", \"audio\", \"good\", \"cable\", \"thing\", \"find\", \"set\", \"bass\", \"voice\", \"price_point\", \"clarity\", \"can\", \"high_end\", \"treble\", \"mid\", \"amazing_sound\", \"mid_high\", \"deep_bass\", \"distortion\", \"low_volume\", \"tone\", \"blow_away\", \"low_end\", \"balance\", \"high_volume\", \"midrange\", \"vocal\", \"good_job\", \"bass_heavy\", \"frequency\", \"balanced\", \"overall_sound\", \"life_good\", \"fitting\", \"equalizer\", \"complete\", \"crisp\", \"comparison\", \"high\", \"sound\", \"build_quality\", \"compare\", \"listen\", \"audiophile\", \"music\", \"sound_well\", \"headphone\", \"beat\", \"amazing\", \"quality\", \"price_range\", \"speaker\", \"price\", \"hear\", \"well\", \"song\", \"good\", \"audio\", \"level\", \"look\", \"clear\", \"review\", \"sound_quality\", \"mic\", \"want\", \"expect\", \"feel\", \"great\", \"buy\", \"range\", \"think\", \"comfortable\", \"come\", \"excellent\", \"pair\", \"try\", \"set\", \"great_product\", \"service\", \"customer_service\", \"stop_work\", \"tablet\", \"good_product\", \"warranty\", \"instruction\", \"great_customer\", \"speed\", \"functionality\", \"last_month\", \"email\", \"ship\", \"modem\", \"send_replacement\", \"easy_set\", \"holder\", \"transmitter\", \"qc\", \"perfect_fit\", \"refund\", \"send_new\", \"work_flawlessly\", \"work_perfect\", \"wing\", \"work_advertise\", \"customer_support\", \"easy_connect\", \"adhesive\", \"fail\", \"arrive\", \"hanger\", \"company\", \"thank\", \"product\", \"contact\", \"replacement\", \"update\", \"month\", \"update_review\", \"send\", \"item\", \"order\", \"work_great\", \"receive\", \"day\", \"year\", \"buy\", \"new\", \"purchase\", \"week\", \"break\", \"love\", \"work\", \"review\", \"get\", \"time\", \"go\", \"return\", \"great\", \"pair\", \"star\", \"issue\", \"good\", \"try\", \"problem\", \"ear\", \"earbud\", \"ear_bud\", \"earphone\", \"bud\", \"stay_ear\", \"gym\", \"ear_piece\", \"fit_ear\", \"workout\", \"uncomfortable\", \"wireless_headphone\", \"small_ear\", \"sweat\", \"exercise\", \"earpiece\", \"flight\", \"hurt_ear\", \"right_ear\", \"child\", \"canal\", \"ear_cup\", \"fall_ear\", \"cushion\", \"blue_tooth\", \"slip\", \"ear_canal\", \"ear_tip\", \"ear_hook\", \"fit_comfortably\", \"wear\", \"comfortable_ear\", \"plane\", \"run\", \"head\", \"good_sound\", \"comfortable\", \"sound_quality\", \"fit\", \"great_sound\", \"kid\", \"headphone\", \"sound_great\", \"wire\", \"pair\", \"battery_life\", \"sound_good\", \"great\", \"good\", \"cord\", \"noise\", \"work\", \"like\", \"headset\", \"sound\", \"use\", \"price\", \"love\", \"try\", \"quality\", \"time\", \"buy\", \"well\"], \"Freq\": [84079.0, 42460.0, 23952.0, 15878.0, 38412.0, 12349.0, 10316.0, 13293.0, 9070.0, 9668.0, 18206.0, 19249.0, 23621.0, 14444.0, 9897.0, 7051.0, 8227.0, 11626.0, 13306.0, 19292.0, 4905.0, 18590.0, 5235.0, 5186.0, 6764.0, 18453.0, 16879.0, 4865.0, 18473.0, 6123.0, 9070.1189803603, 4905.142343886405, 2857.0482100179815, 2708.0871528929715, 1515.3072705140714, 1333.632162633997, 1101.8956033291572, 1116.4844632976858, 1013.1158541829868, 976.5676704046814, 923.5558520000419, 900.18661207872, 831.0328163918209, 813.9551406400454, 809.5606581460404, 755.3497495766609, 769.9510648831684, 744.4619545855089, 736.6966494934185, 722.3833550815284, 716.4972579031339, 720.662759211924, 702.2255516536477, 701.7138272593995, 691.3680153931787, 637.9954847711416, 624.2868020197823, 645.8334811860124, 608.845631013969, 596.2367475692248, 1569.68037995374, 1269.9283865579516, 1355.340479717387, 1602.2873288760152, 2279.8095824309266, 2347.967021448662, 2186.0894269939167, 3869.830444102903, 5153.211580845948, 2972.5003265697987, 1519.566714626261, 1289.5979688847192, 1143.2812433448385, 3691.305058979505, 1753.132167908894, 3628.079511586533, 2511.8186110501956, 6035.970501064946, 1863.3529017713274, 3748.057489818832, 4420.121912788225, 4404.491519161931, 2266.5566806066226, 1531.2695250099025, 3605.758420022242, 3763.2940977314, 2297.7224695186937, 2917.8173114326237, 3055.2972209685304, 2770.8232125402906, 2997.4870011998382, 2876.575365203116, 3263.5476572086427, 2154.8411654484494, 2127.635611060512, 3239.9086923693953, 3271.2699667555066, 10315.91927467104, 5234.951589921434, 5186.09788010226, 4864.5869487128675, 3009.2720930048304, 2223.5712509947557, 1719.7158214309604, 1634.5811485345366, 1655.5728392279607, 1348.9879428694355, 1208.1474344023472, 1104.8557914402647, 1051.7030655158585, 1038.875562868636, 986.7976930035024, 919.6548600232908, 852.8887327473276, 779.5182157572284, 795.5626953297236, 781.2583267438301, 773.5188407082903, 730.5318630844466, 725.4226236161866, 714.9424505327931, 719.9981431013811, 721.9298311817794, 707.7801445697864, 676.3513795170952, 684.5918065942326, 683.9260619086746, 1818.887128414917, 1844.131879566447, 9102.917438332104, 1067.9133282487717, 862.3734722308707, 1437.0956114668636, 2867.7463311494075, 2232.9708541728746, 1627.5936046328075, 3775.5811212019294, 4015.4810268977144, 9161.923509726921, 4239.307394032767, 1187.426416756656, 11818.077634294417, 14160.362688367806, 2411.8206008799552, 7910.729673702314, 3327.1764447980127, 2005.8820442236506, 5566.091168087239, 4282.840370455249, 4309.75878872702, 5627.245645578658, 3976.8906905193594, 7922.432283324564, 2497.9328312008815, 2369.5025513701557, 3031.291949473057, 2576.092367404037, 4409.655101142208, 2613.7293077638387, 2566.2720619074566, 2488.0103294872442, 2389.234910404827, 12348.967545251287, 2190.220329787057, 1748.4034059688738, 1464.635200270674, 1341.9144655892676, 1339.4991994176967, 1131.9116409405076, 1069.5626052252953, 1008.3596891785345, 828.2314791755945, 829.4361780608938, 828.9343249848936, 832.1862574665053, 827.1830264661808, 811.9785235115039, 806.053901162102, 784.4290007687442, 776.7532894863784, 722.1912550862552, 715.4178104533698, 709.6663583290859, 688.003784897344, 680.444446102115, 679.1118999099206, 674.1719114093593, 664.886110006675, 668.2010230058637, 624.9036462541233, 655.033274360049, 614.6317962987926, 1036.2842656191444, 3995.4857117692327, 30143.77598232668, 2799.6829031723105, 3349.467401627712, 5648.161560428717, 2057.579168054969, 7942.868140769092, 2209.3718563599314, 42216.066026940214, 2699.7348128422677, 3982.1313270139262, 9917.84243922445, 1469.1817439239096, 5291.554342691695, 9158.565247833374, 5167.6992251437805, 8314.348820770234, 1390.0022390132146, 15931.306930116541, 3454.4438732479603, 1943.1386423525053, 5794.128812839996, 2529.653881664596, 3597.19230772597, 6276.9489878012755, 2261.5343959160964, 4230.35588553782, 3278.6959530028553, 3883.8343532145705, 7686.63614911859, 5625.541808881255, 2845.799522626835, 3765.5139761264663, 3673.375469975969, 3713.5123984255397, 2970.658765498247, 3380.2285115953996, 3188.4372214352125, 3064.1161947672535, 3327.45582546122, 2903.184087511662, 2874.203584554378, 2308.3336377845826, 1825.5107412308998, 1764.2913536871656, 1196.8932995619846, 1031.0057962491433, 768.4068805415028, 778.2139103966855, 750.5628421194283, 723.6119327901005, 708.7169106942927, 696.8411641686126, 1276.4175288278964, 686.9736714295032, 688.499282897008, 674.0801018257888, 667.0661577014823, 618.3661437708438, 594.4327004929299, 577.5560058164886, 555.2158749648626, 528.5263474939143, 508.92791828140616, 530.0879621441084, 483.22726158906795, 465.0966328410119, 459.7438580947688, 464.64025974189815, 1494.3227674349223, 822.0935536647818, 499.57772950431496, 2541.5801008434137, 1925.6728434161269, 13540.557154573506, 1271.5763798987416, 2426.958945778062, 3785.8381143194883, 5681.786929778463, 959.0748690820075, 2105.44915162539, 2128.9424450754195, 2843.3848601724435, 5614.458856645005, 2331.479503641521, 4273.908989526994, 3458.1133097533457, 9531.840745043304, 2805.582391909568, 4941.264483031127, 2650.5662898389314, 2943.9646491946223, 6070.386689360706, 10009.460838513818, 3407.715842474568, 4873.7811656714475, 5348.360269347265, 3640.2459857114372, 2538.373883270969, 5083.077338209165, 3386.335567704931, 2732.843233849238, 2978.133603879758, 3910.2246803096004, 2782.6656485601416, 2587.2857980827384, 23951.523010897927, 13292.38737163207, 6763.834989956795, 6122.895844504308, 5008.931379452686, 3456.8705913871927, 3308.3239291948144, 2908.901710662348, 2788.1102501042915, 2187.1593216995143, 1964.7043039174753, 1918.6315725471088, 1574.573089573719, 1542.8665168144023, 1490.235016252119, 2225.780229338442, 1420.9960636966532, 1027.7813771850733, 1033.6093171141752, 949.8767342685145, 916.5795257334092, 923.5747223228714, 881.093593337393, 871.1428353841314, 878.268891187519, 848.0907866675574, 794.9746177031706, 794.3309860948889, 778.4343518164661, 759.0427226265233, 8217.848727837041, 841.3376733506449, 1033.4899378792277, 6833.537407455924, 5135.905216449279, 5820.473802445684, 9632.8561318989, 12971.450820963133, 10039.448632383275, 6401.753190916253, 2821.571565879871, 41862.49437273424, 5683.371487384108, 4590.652636761333, 11487.457651204584, 4748.027967377019, 5701.148266197795, 20505.062188426746, 22052.734989773322, 4583.547345291508, 4027.2772478550937, 14219.011126185831, 8067.35134746814, 8193.369648728149, 12316.431073535161, 9776.273815505205, 7450.726672027068, 6841.686059638122, 6423.817334119452, 6868.894738994535, 6280.058387750082, 6492.071392303572, 6046.128785952717], \"Total\": [84079.0, 42460.0, 23952.0, 15878.0, 38412.0, 12349.0, 10316.0, 13293.0, 9070.0, 9668.0, 18206.0, 19249.0, 23621.0, 14444.0, 9897.0, 7051.0, 8227.0, 11626.0, 13306.0, 19292.0, 4905.0, 18590.0, 5235.0, 5186.0, 6764.0, 18453.0, 16879.0, 4865.0, 18473.0, 6123.0, 9070.927247927511, 4905.977678088513, 2857.8580962603573, 2708.901279569221, 1516.1201933930772, 1334.4428689060596, 1102.7056540436524, 1117.3129336949182, 1013.9243892629011, 977.3763844670699, 924.3573904490263, 901.0099708689743, 831.8415814599903, 814.7650117530975, 810.3757134948743, 756.1613337210691, 770.7790211325046, 745.2692117902382, 737.5046751974772, 723.1911253193371, 717.3052557470157, 721.4840127464223, 703.0306281588485, 702.5255352417914, 692.2011777663323, 638.8159496242339, 625.0964343637046, 646.6955522433053, 609.6612207460123, 597.0807094433619, 1573.0448432488995, 1275.2624910060372, 1489.7428329601332, 1803.1304216046804, 2834.920687093272, 3092.83073357808, 2897.224380389222, 5987.85676793506, 8779.063769940842, 4529.0494617576205, 1937.327406840804, 1589.085042084499, 1347.4090334191385, 6890.373842946793, 2515.219799010474, 7254.432987625266, 4278.658176064304, 19292.849367133054, 3054.539403688404, 10336.864709668065, 13839.692733142643, 14444.572079118734, 4697.794535753206, 2217.7387070815275, 13753.085536347244, 17446.64649028432, 5694.750973805209, 9926.122998237952, 11495.176224574874, 10055.096935750224, 14493.704920506154, 14149.593296112382, 28787.615448451754, 6032.356990272343, 6027.040748292776, 44437.116651448465, 49575.19166809718, 10316.746087588694, 5235.780445945484, 5186.930880189132, 4865.416298636907, 3010.087950479032, 2224.4187825746167, 1720.5521601525145, 1635.4085366312256, 1656.4492969784365, 1349.8550353018043, 1208.978068103689, 1105.683202979339, 1052.5214088785233, 1039.7154285001864, 987.6404708874059, 920.4997239367323, 853.7051561719502, 780.3394456565038, 796.4035733391476, 782.0922509764325, 774.3460991042909, 731.3555101192235, 726.2508141789716, 715.7627043153366, 720.8274358865414, 722.7836462701491, 708.6214752547929, 677.1693058164086, 685.4210605064793, 684.7628667361626, 1824.302372573941, 1881.013430079802, 9668.824173204546, 1080.8232093505144, 872.9841806314669, 1507.0135939729475, 3259.9408474609763, 2492.9768350967247, 1790.1986760853536, 4967.656037444319, 5588.4563874649975, 18206.582424791908, 6942.768179589091, 1332.5587497724687, 28787.615448451754, 38412.50491475774, 3566.2176469029005, 19292.849367133054, 6027.040748292776, 2821.8442671498215, 14149.593296112382, 9897.933044296184, 11597.95226461129, 19265.241078701878, 11132.570973337486, 44437.116651448465, 4958.661833938313, 4355.355466675265, 8834.734636278901, 6031.140845729557, 49575.19166809718, 8779.063769940842, 11495.176224574874, 12155.631217916987, 12070.9338113871, 12349.777057838268, 2191.0387762643577, 1749.2803772576106, 1465.4465431221456, 1342.7197728024655, 1340.310604406253, 1132.7178158019785, 1070.3719486058778, 1009.1684204343784, 829.0371524991782, 830.246420593173, 829.7495029933632, 833.004996809623, 828.0003923987573, 812.787446505703, 806.8632937269246, 785.2430253103048, 777.5658554956249, 722.9975201501974, 716.221162067775, 710.4902477923771, 688.8111508840875, 681.2538438514315, 679.9218880533537, 674.9803718348792, 665.7183960712902, 669.0458333061331, 625.7108495782841, 655.8835057737973, 615.4432412876631, 1071.135251058551, 4548.203977499585, 42460.84163518239, 3271.5615909462285, 4016.9353318683548, 7317.626968719486, 2360.3559551086305, 11626.314804944976, 2653.4931043450833, 84079.19617437755, 3367.05585679179, 5694.008333882182, 18590.48525725396, 1714.0631237353819, 8834.734636278901, 18453.878244462485, 9055.122152437016, 18432.166190146476, 1674.8285801649886, 49575.19166809718, 6031.140845729557, 2726.6536144896954, 13839.692733142643, 4053.680478298475, 7669.460924600734, 19249.03261300086, 3645.51518039405, 11822.803652447656, 7356.512974806744, 10336.864709668065, 44437.116651448465, 23621.055308078958, 5873.312793896461, 12532.527793113075, 13306.86456992807, 14493.704920506154, 7250.762591341885, 18473.683305417937, 15313.826122204813, 12070.9338113871, 3328.296932740798, 2904.0215971666503, 2875.0413204050765, 2309.1693375273685, 1826.3625577022165, 1765.1379736986949, 1197.7316631304027, 1031.8513712547322, 769.2421266265119, 779.0652897969975, 751.4165577900685, 724.4489071684485, 709.5525170763623, 697.6824011781794, 1277.959238551766, 687.8113178508821, 689.349121172482, 674.9319169590295, 667.9122316324107, 619.2371385452387, 595.2878612367788, 578.3943194451969, 556.0505590620628, 529.3739451557474, 509.77415720771603, 530.9722498260292, 484.0676640670835, 465.934215213953, 460.6018788330386, 465.51121888810735, 1503.6475752478898, 826.7318684439397, 500.5244307344394, 2644.586031582178, 2019.284675942186, 15878.504369940847, 1340.330751032399, 2677.333379098168, 4435.366010861289, 7051.459275169172, 1007.9007822131541, 2429.227315516467, 2701.101979635976, 4104.675109004571, 9897.933044296184, 3312.5716201083305, 7677.860903215829, 5923.495660401375, 23621.055308078958, 4565.183133097801, 9945.283319041664, 4274.935043978506, 5584.689752560754, 16879.54488363901, 38412.50491475774, 7669.460924600734, 15448.211601153582, 19265.241078701878, 11220.926125129627, 4981.689547921646, 44437.116651448465, 18473.683305417937, 7867.475520622711, 11597.95226461129, 49575.19166809718, 15313.826122204813, 11132.570973337486, 23952.463334452586, 13293.249255149358, 6764.693101156147, 6123.7580389263685, 5009.790990765403, 3457.7233450710914, 3309.179372935255, 2909.7600987796573, 2788.9643071178098, 2188.014848293666, 1965.5593179065868, 1919.4977244755835, 1575.427353585929, 1543.7223052565835, 1491.090465180671, 2227.1167426669717, 1421.8601805224318, 1028.6334189042718, 1034.470040198316, 950.7564427653383, 917.4344461824637, 924.4395467621463, 881.945980353595, 872.0008238810971, 879.1426962141277, 848.9717061745923, 795.830981092648, 795.1962270674986, 779.2908380279787, 759.899245559886, 8227.33710242274, 842.287646437367, 1039.4315539009538, 8846.546540621914, 6440.304683786504, 7474.489467298665, 13306.86456992807, 19249.03261300086, 14444.572079118734, 8629.78769689904, 3407.107313611681, 84079.19617437755, 7861.444760990384, 6111.883762818472, 18473.683305417937, 6500.637484721187, 8257.834954256894, 44437.116651448465, 49575.19166809718, 6755.171154337289, 5630.249123275893, 38412.50491475774, 17446.64649028432, 18206.582424791908, 42460.84163518239, 28787.615448451754, 18453.878244462485, 16879.54488363901, 15313.826122204813, 18590.48525725396, 19265.241078701878, 23621.055308078958, 18432.166190146476], \"Category\": [\"Default\", \"Default\", \"Default\", \"Default\", \"Default\", \"Default\", \"Default\", \"Default\", \"Default\", \"Default\", \"Default\", \"Default\", \"Default\", \"Default\", \"Default\", \"Default\", \"Default\", \"Default\", \"Default\", \"Default\", \"Default\", \"Default\", \"Default\", \"Default\", \"Default\", \"Default\", \"Default\", \"Default\", \"Default\", \"Default\", \"Topic1\", \"Topic1\", \"Topic1\", \"Topic1\", \"Topic1\", \"Topic1\", \"Topic1\", \"Topic1\", \"Topic1\", \"Topic1\", \"Topic1\", \"Topic1\", \"Topic1\", \"Topic1\", \"Topic1\", \"Topic1\", \"Topic1\", \"Topic1\", \"Topic1\", \"Topic1\", \"Topic1\", \"Topic1\", \"Topic1\", \"Topic1\", \"Topic1\", \"Topic1\", \"Topic1\", \"Topic1\", \"Topic1\", \"Topic1\", \"Topic1\", \"Topic1\", \"Topic1\", \"Topic1\", \"Topic1\", \"Topic1\", \"Topic1\", \"Topic1\", \"Topic1\", \"Topic1\", \"Topic1\", \"Topic1\", \"Topic1\", \"Topic1\", \"Topic1\", \"Topic1\", \"Topic1\", \"Topic1\", \"Topic1\", \"Topic1\", \"Topic1\", \"Topic1\", \"Topic1\", \"Topic1\", \"Topic1\", \"Topic1\", \"Topic1\", \"Topic1\", \"Topic1\", \"Topic1\", \"Topic1\", \"Topic1\", \"Topic1\", \"Topic1\", \"Topic1\", \"Topic1\", \"Topic1\", \"Topic2\", \"Topic2\", \"Topic2\", \"Topic2\", \"Topic2\", \"Topic2\", \"Topic2\", \"Topic2\", \"Topic2\", \"Topic2\", \"Topic2\", \"Topic2\", \"Topic2\", \"Topic2\", \"Topic2\", \"Topic2\", \"Topic2\", \"Topic2\", \"Topic2\", \"Topic2\", \"Topic2\", \"Topic2\", \"Topic2\", \"Topic2\", \"Topic2\", \"Topic2\", \"Topic2\", \"Topic2\", \"Topic2\", \"Topic2\", \"Topic2\", \"Topic2\", \"Topic2\", \"Topic2\", \"Topic2\", \"Topic2\", \"Topic2\", \"Topic2\", \"Topic2\", \"Topic2\", \"Topic2\", \"Topic2\", \"Topic2\", \"Topic2\", \"Topic2\", \"Topic2\", \"Topic2\", \"Topic2\", \"Topic2\", \"Topic2\", \"Topic2\", \"Topic2\", \"Topic2\", \"Topic2\", \"Topic2\", \"Topic2\", \"Topic2\", \"Topic2\", \"Topic2\", \"Topic2\", \"Topic2\", \"Topic2\", \"Topic2\", \"Topic2\", \"Topic2\", \"Topic3\", \"Topic3\", \"Topic3\", \"Topic3\", \"Topic3\", \"Topic3\", \"Topic3\", \"Topic3\", \"Topic3\", \"Topic3\", \"Topic3\", \"Topic3\", \"Topic3\", \"Topic3\", \"Topic3\", \"Topic3\", \"Topic3\", \"Topic3\", \"Topic3\", \"Topic3\", \"Topic3\", \"Topic3\", \"Topic3\", \"Topic3\", \"Topic3\", \"Topic3\", \"Topic3\", \"Topic3\", \"Topic3\", \"Topic3\", \"Topic3\", \"Topic3\", \"Topic3\", \"Topic3\", \"Topic3\", \"Topic3\", \"Topic3\", \"Topic3\", \"Topic3\", \"Topic3\", \"Topic3\", \"Topic3\", \"Topic3\", \"Topic3\", \"Topic3\", \"Topic3\", \"Topic3\", \"Topic3\", \"Topic3\", \"Topic3\", \"Topic3\", \"Topic3\", \"Topic3\", \"Topic3\", \"Topic3\", \"Topic3\", \"Topic3\", \"Topic3\", \"Topic3\", \"Topic3\", \"Topic3\", \"Topic3\", \"Topic3\", \"Topic3\", \"Topic3\", \"Topic3\", \"Topic3\", \"Topic3\", \"Topic3\", \"Topic3\", \"Topic4\", \"Topic4\", \"Topic4\", \"Topic4\", \"Topic4\", \"Topic4\", \"Topic4\", \"Topic4\", \"Topic4\", \"Topic4\", \"Topic4\", \"Topic4\", \"Topic4\", \"Topic4\", \"Topic4\", \"Topic4\", \"Topic4\", \"Topic4\", \"Topic4\", \"Topic4\", \"Topic4\", \"Topic4\", \"Topic4\", \"Topic4\", \"Topic4\", \"Topic4\", \"Topic4\", \"Topic4\", \"Topic4\", \"Topic4\", \"Topic4\", \"Topic4\", \"Topic4\", \"Topic4\", \"Topic4\", \"Topic4\", \"Topic4\", \"Topic4\", \"Topic4\", \"Topic4\", \"Topic4\", \"Topic4\", \"Topic4\", \"Topic4\", \"Topic4\", \"Topic4\", \"Topic4\", \"Topic4\", \"Topic4\", \"Topic4\", \"Topic4\", \"Topic4\", \"Topic4\", \"Topic4\", \"Topic4\", \"Topic4\", \"Topic4\", \"Topic4\", \"Topic4\", \"Topic4\", \"Topic4\", \"Topic4\", \"Topic4\", \"Topic4\", \"Topic4\", \"Topic4\", \"Topic4\", \"Topic5\", \"Topic5\", \"Topic5\", \"Topic5\", \"Topic5\", \"Topic5\", \"Topic5\", \"Topic5\", \"Topic5\", \"Topic5\", \"Topic5\", \"Topic5\", \"Topic5\", \"Topic5\", \"Topic5\", \"Topic5\", \"Topic5\", \"Topic5\", \"Topic5\", \"Topic5\", \"Topic5\", \"Topic5\", \"Topic5\", \"Topic5\", \"Topic5\", \"Topic5\", \"Topic5\", \"Topic5\", \"Topic5\", \"Topic5\", \"Topic5\", \"Topic5\", \"Topic5\", \"Topic5\", \"Topic5\", \"Topic5\", \"Topic5\", \"Topic5\", \"Topic5\", \"Topic5\", \"Topic5\", \"Topic5\", \"Topic5\", \"Topic5\", \"Topic5\", \"Topic5\", \"Topic5\", \"Topic5\", \"Topic5\", \"Topic5\", \"Topic5\", \"Topic5\", \"Topic5\", \"Topic5\", \"Topic5\", \"Topic5\", \"Topic5\", \"Topic5\", \"Topic5\", \"Topic5\", \"Topic5\", \"Topic5\", \"Topic5\"], \"logprob\": [30.0, 29.0, 28.0, 27.0, 26.0, 25.0, 24.0, 23.0, 22.0, 21.0, 20.0, 19.0, 18.0, 17.0, 16.0, 15.0, 14.0, 13.0, 12.0, 11.0, 10.0, 9.0, 8.0, 7.0, 6.0, 5.0, 4.0, 3.0, 2.0, 1.0, -4.1994, -4.8141, -5.3546, -5.4081, -5.9887, -6.1164, -6.3073, -6.2942, -6.3913, -6.4281, -6.4839, -6.5095, -6.5894, -6.6102, -6.6156, -6.6849, -6.6658, -6.6994, -6.7099, -6.7295, -6.7377, -6.7319, -6.7578, -6.7586, -6.7734, -6.8538, -6.8755, -6.8416, -6.9005, -6.9215, -5.9535, -6.1654, -6.1003, -5.9329, -5.5803, -5.5508, -5.6222, -5.0511, -4.7647, -5.3149, -5.9859, -6.15, -6.2704, -5.0984, -5.8429, -5.1156, -5.4833, -4.6066, -5.782, -5.0831, -4.9182, -4.9217, -5.5861, -5.9782, -5.1218, -5.0791, -5.5724, -5.3335, -5.2875, -5.3852, -5.3066, -5.3477, -5.2215, -5.6366, -5.6493, -5.2288, -5.2192, -4.2191, -4.8974, -4.9068, -4.9708, -5.451, -5.7536, -6.0106, -6.0614, -6.0486, -6.2534, -6.3637, -6.453, -6.5023, -6.5146, -6.566, -6.6365, -6.7119, -6.8018, -6.7814, -6.7996, -6.8095, -6.8667, -6.8737, -6.8883, -6.8813, -6.8786, -6.8984, -6.9438, -6.9317, -6.9326, -5.9545, -5.9407, -4.3441, -6.487, -6.7008, -6.1901, -5.4992, -5.7494, -6.0656, -5.2242, -5.1626, -4.3377, -5.1083, -6.381, -4.0831, -3.9023, -5.6724, -4.4845, -5.3506, -5.8567, -4.8361, -5.0981, -5.0919, -4.8251, -5.1722, -4.483, -5.6373, -5.6901, -5.4438, -5.6065, -5.0689, -5.592, -5.6103, -5.6413, -5.6818, -4.289, -6.0186, -6.2439, -6.421, -6.5085, -6.5103, -6.6787, -6.7353, -6.7943, -6.991, -6.9896, -6.9902, -6.9863, -6.9923, -7.0109, -7.0182, -7.0454, -7.0552, -7.128, -7.1375, -7.1455, -7.1765, -7.1876, -7.1895, -7.1968, -7.2107, -7.2057, -7.2727, -7.2256, -7.2893, -6.7669, -5.4174, -3.3966, -5.7731, -5.5938, -5.0712, -6.081, -4.7303, -6.0099, -3.0598, -5.8094, -5.4208, -4.5082, -6.4179, -5.1365, -4.5879, -5.1601, -4.6846, -6.4733, -4.0343, -5.5629, -6.1383, -5.0457, -5.8745, -5.5224, -4.9657, -5.9865, -5.3603, -5.6151, -5.4458, -4.7631, -5.0753, -5.7567, -5.4767, -5.5015, -5.4906, -5.7138, -5.5846, -5.643, -5.6828, -5.0819, -5.2183, -5.2283, -5.4476, -5.6823, -5.7164, -6.1044, -6.2536, -6.5475, -6.5349, -6.571, -6.6076, -6.6284, -6.6453, -6.0401, -6.6596, -6.6574, -6.6785, -6.689, -6.7648, -6.8043, -6.8331, -6.8725, -6.9218, -6.9596, -6.9188, -7.0114, -7.0496, -7.0612, -7.0506, -5.8824, -6.48, -6.9781, -5.3513, -5.6288, -3.6784, -6.0439, -5.3975, -4.9528, -4.5468, -6.3259, -5.5396, -5.5285, -5.2391, -4.5588, -5.4376, -4.8316, -5.0434, -4.0295, -5.2525, -4.6865, -5.3093, -5.2044, -4.4807, -3.9806, -5.0581, -4.7002, -4.6073, -4.9921, -5.3526, -4.6582, -5.0644, -5.2788, -5.1928, -4.9205, -5.2607, -5.3335, -3.8066, -4.3954, -5.071, -5.1706, -5.3714, -5.7422, -5.7862, -5.9148, -5.9572, -6.2, -6.3073, -6.331, -6.5286, -6.549, -6.5837, -6.1825, -6.6313, -6.9552, -6.9496, -7.034, -7.0697, -7.0621, -7.1092, -7.1206, -7.1124, -7.1474, -7.2121, -7.2129, -7.2331, -7.2583, -4.8763, -7.1554, -6.9497, -5.0608, -5.3464, -5.2212, -4.7174, -4.4199, -4.6761, -5.126, -5.9453, -3.2482, -5.2451, -5.4586, -4.5414, -5.4249, -5.2419, -3.9619, -3.8892, -5.4601, -5.5895, -4.328, -4.8948, -4.8793, -4.4717, -4.7027, -4.9743, -5.0596, -5.1226, -5.0556, -5.1452, -5.112, -5.1832], \"loglift\": [30.0, 29.0, 28.0, 27.0, 26.0, 25.0, 24.0, 23.0, 22.0, 21.0, 20.0, 19.0, 18.0, 17.0, 16.0, 15.0, 14.0, 13.0, 12.0, 11.0, 10.0, 9.0, 8.0, 7.0, 6.0, 5.0, 4.0, 3.0, 2.0, 1.0, 1.8434, 1.8434, 1.8432, 1.8432, 1.843, 1.8429, 1.8428, 1.8428, 1.8427, 1.8427, 1.8427, 1.8426, 1.8426, 1.8425, 1.8425, 1.8425, 1.8425, 1.8424, 1.8424, 1.8424, 1.8424, 1.8424, 1.8424, 1.8424, 1.8423, 1.8422, 1.8422, 1.8422, 1.8422, 1.8421, 1.8414, 1.8393, 1.749, 1.7254, 1.6256, 1.568, 1.5619, 1.407, 1.3108, 1.4224, 1.6006, 1.6347, 1.6793, 1.2194, 1.4826, 1.1506, 1.3109, 0.6815, 1.3493, 0.8291, 0.7022, 0.6558, 1.1147, 1.4731, 0.5048, 0.3097, 0.9359, 0.6192, 0.5185, 0.5546, 0.2676, 0.2504, -0.3336, 0.8141, 0.8023, -0.775, -0.8748, 1.6951, 1.695, 1.695, 1.695, 1.6949, 1.6948, 1.6946, 1.6946, 1.6946, 1.6945, 1.6944, 1.6944, 1.6944, 1.6943, 1.6943, 1.6942, 1.6942, 1.6941, 1.6941, 1.6941, 1.6941, 1.694, 1.694, 1.694, 1.694, 1.694, 1.6939, 1.6939, 1.6939, 1.6939, 1.6922, 1.6753, 1.6348, 1.6831, 1.6829, 1.6476, 1.567, 1.585, 1.5999, 1.4207, 1.3646, 1.0084, 1.2018, 1.5798, 0.8048, 0.6972, 1.304, 0.8036, 1.101, 1.3538, 0.7621, 0.8574, 0.7052, 0.4645, 0.6658, -0.0292, 1.0095, 1.0864, 0.6254, 0.8445, -0.7246, 0.4835, 0.1957, 0.1088, 0.0753, 1.4452, 1.4449, 1.4448, 1.4447, 1.4447, 1.4447, 1.4446, 1.4445, 1.4445, 1.4443, 1.4443, 1.4443, 1.4443, 1.4443, 1.4443, 1.4443, 1.4443, 1.4443, 1.4442, 1.4442, 1.4441, 1.4441, 1.4441, 1.4441, 1.4441, 1.4441, 1.444, 1.444, 1.444, 1.444, 1.4122, 1.3157, 1.1027, 1.2895, 1.2636, 1.1863, 1.308, 1.0643, 1.2621, 0.7563, 1.2244, 1.0877, 0.817, 1.2911, 0.9327, 0.7447, 0.8844, 0.6492, 1.2589, 0.3101, 0.888, 1.1065, 0.5746, 0.9738, 0.6882, 0.3247, 0.9678, 0.4176, 0.6372, 0.4664, -0.3093, 0.0105, 0.7207, 0.2429, 0.1581, 0.0836, 0.553, -0.2531, -0.1239, 0.0743, 1.9635, 1.9635, 1.9635, 1.9634, 1.9633, 1.9633, 1.9631, 1.9629, 1.9627, 1.9627, 1.9626, 1.9626, 1.9626, 1.9626, 1.9626, 1.9625, 1.9625, 1.9625, 1.9625, 1.9624, 1.9623, 1.9623, 1.9623, 1.9622, 1.9621, 1.9621, 1.962, 1.962, 1.9619, 1.9619, 1.9575, 1.9581, 1.9619, 1.924, 1.9163, 1.8045, 1.9111, 1.8656, 1.8054, 1.7478, 1.9141, 1.8207, 1.7257, 1.5966, 1.3968, 1.6125, 1.378, 1.4256, 1.0563, 1.4769, 1.2643, 1.4858, 1.3235, 0.9411, 0.6189, 1.1526, 0.8101, 0.6823, 0.838, 1.2895, -0.2044, 0.2672, 0.9064, 0.6042, -0.5761, 0.2584, 0.5045, 1.2652, 1.2652, 1.2651, 1.2651, 1.2651, 1.265, 1.265, 1.265, 1.265, 1.2649, 1.2648, 1.2648, 1.2647, 1.2647, 1.2647, 1.2647, 1.2647, 1.2644, 1.2644, 1.2643, 1.2643, 1.2643, 1.2643, 1.2643, 1.2643, 1.2642, 1.2642, 1.2642, 1.2642, 1.2641, 1.2641, 1.2641, 1.2595, 1.0071, 1.0389, 1.0152, 0.9422, 0.8706, 0.9015, 0.9666, 1.0767, 0.5679, 0.9408, 0.9791, 0.7902, 0.9511, 0.8948, 0.4919, 0.4552, 0.8774, 0.9302, 0.2715, 0.4939, 0.4668, 0.0276, 0.1853, 0.3583, 0.3622, 0.3965, 0.2696, 0.1443, -0.0263, 0.1506]}, \"token.table\": {\"Topic\": [4, 1, 3, 4, 5, 3, 1, 1, 2, 1, 1, 4, 1, 2, 3, 3, 5, 1, 5, 3, 3, 3, 3, 2, 2, 5, 3, 5, 1, 1, 2, 3, 5, 1, 4, 3, 5, 1, 2, 1, 3, 4, 5, 5, 1, 3, 4, 5, 1, 2, 2, 3, 4, 5, 1, 2, 3, 4, 3, 5, 2, 1, 2, 2, 4, 2, 2, 5, 1, 3, 1, 2, 3, 4, 5, 1, 2, 3, 4, 5, 3, 5, 5, 3, 4, 1, 2, 3, 5, 1, 3, 3, 2, 3, 2, 2, 2, 4, 5, 2, 1, 4, 2, 3, 5, 1, 2, 4, 5, 1, 3, 5, 4, 4, 2, 3, 4, 5, 3, 2, 1, 2, 3, 5, 1, 2, 2, 3, 5, 5, 5, 5, 5, 5, 5, 5, 5, 1, 5, 1, 2, 3, 5, 1, 2, 3, 4, 5, 4, 2, 3, 4, 1, 4, 3, 1, 2, 3, 4, 5, 5, 1, 2, 3, 4, 5, 1, 2, 4, 5, 1, 2, 3, 5, 1, 3, 4, 5, 1, 2, 3, 4, 5, 1, 5, 5, 5, 3, 5, 1, 3, 1, 2, 4, 1, 2, 3, 4, 5, 1, 2, 3, 4, 5, 1, 2, 3, 4, 5, 3, 4, 3, 5, 1, 2, 3, 4, 5, 4, 4, 3, 5, 5, 1, 2, 4, 1, 3, 5, 3, 5, 2, 3, 5, 2, 3, 5, 2, 1, 2, 3, 3, 3, 1, 4, 5, 4, 1, 5, 1, 4, 1, 2, 4, 5, 2, 4, 1, 2, 4, 5, 2, 2, 3, 1, 2, 3, 5, 4, 2, 1, 2, 3, 3, 1, 2, 3, 4, 5, 1, 2, 3, 4, 5, 2, 3, 5, 1, 2, 3, 4, 5, 1, 2, 3, 4, 5, 1, 2, 3, 4, 5, 3, 3, 1, 2, 1, 3, 1, 2, 3, 3, 3, 3, 2, 3, 2, 4, 4, 5, 1, 3, 5, 1, 2, 3, 4, 5, 2, 1, 2, 3, 4, 5, 1, 2, 3, 5, 3, 5, 1, 2, 3, 4, 5, 1, 3, 2, 3, 4, 5, 1, 2, 5, 4, 1, 2, 3, 4, 5, 1, 2, 4, 5, 3, 5, 1, 3, 5, 1, 2, 3, 4, 5, 1, 2, 1, 2, 3, 1, 3, 4, 5, 3, 3, 5, 1, 2, 4, 5, 2, 3, 4, 1, 1, 5, 2, 3, 4, 5, 4, 2, 3, 4, 5, 2, 3, 5, 1, 2, 3, 4, 2, 2, 4, 2, 1, 2, 4, 5, 2, 3, 4, 5, 1, 2, 3, 4, 5, 5, 2, 2, 5, 1, 4, 1, 2, 2, 4, 5, 4, 4, 4, 1, 2, 3, 4, 5, 2, 3, 4, 2, 1, 2, 5, 1, 5, 1, 2, 3, 5, 5, 1, 3, 5, 3, 5, 3, 5, 3, 5, 3, 5, 3, 5, 1, 2, 3, 4, 5, 4, 1, 2, 3, 4, 5, 1, 2, 3, 4, 5, 5, 1, 2, 4, 5, 4, 1, 3, 4, 5, 1, 2, 5, 1, 2, 3, 5, 2, 4, 1, 3, 4, 1, 1, 1, 2, 3, 4, 5, 1, 2, 3, 4, 5, 1, 2, 3, 4, 5, 3, 4, 3, 1, 2, 3, 4, 5, 1, 2, 3, 4, 5, 5, 2, 2, 4, 5, 3, 4, 2, 2, 1, 2, 3, 4, 5, 3, 3, 2, 1, 2, 3, 4, 5, 4, 1, 2, 3, 4, 5, 3, 5, 2, 4, 5, 1, 2, 3, 4, 5, 4, 1, 2, 4, 5, 5, 1, 2, 4, 5, 4, 4, 2, 4, 4, 2, 5, 3, 4, 5], \"Freq\": [0.9989018118847309, 0.0119423780248733, 0.6993316072800805, 0.13487862239856901, 0.15367030546711966, 0.9988421948103812, 0.9990610645498247, 0.002740773719953787, 0.9970934793191877, 0.9990883055258459, 0.0048383280634006895, 0.9942764170288416, 0.9992611447311639, 0.4271165382954001, 0.5726943025125434, 0.8719023906312829, 0.12794680367864306, 0.8482947432076826, 0.15065952132209937, 0.9984170183366944, 0.9986441265246027, 0.9999370792011363, 0.9988223900222196, 0.999850939902171, 0.2695120292614107, 0.7303899057837775, 0.801887499001167, 0.1980959117902883, 0.9983529591588792, 0.357240130760681, 0.055533848633330926, 0.3754751258343121, 0.21169171553660773, 0.909552957746138, 0.0899484105815369, 0.9990311778201197, 0.998700215313113, 0.9998007169716895, 0.9993118996981526, 0.003044036598846869, 0.027754451342427336, 0.5271555145297167, 0.4419224897620043, 0.999842111024819, 0.11065052267449421, 0.8558603963773033, 0.03331742257325931, 0.0003056644272776083, 0.23975089881881734, 0.7601170394121363, 0.083442503914119, 0.2381773348659734, 0.40353827869578, 0.274839541050462, 0.5869646394008052, 0.2977538457973423, 0.0324635983367416, 0.08281065259933736, 0.9994639441400619, 0.9995264553404644, 0.9995650025660073, 0.9998977780438353, 0.9991909959911653, 0.9414795260448908, 0.05843523368289172, 0.9986034243721648, 0.9996385652190466, 0.9992043779759849, 0.998988291185789, 0.9996952852874494, 0.22300721648871852, 0.12827848736076727, 0.624124178889887, 0.0012334469938535316, 0.0234354928832171, 0.20677942709870886, 0.1417166977847007, 0.2562491799281297, 0.14337258909279846, 0.25190246524437304, 0.27602294895978297, 0.7239120793165231, 0.9984712509523161, 0.0385693635154597, 0.9612090397676328, 0.08040955935672642, 0.0054768120924086105, 0.8337201680671107, 0.08040955935672642, 0.03174202320986024, 0.9671981189828003, 0.9986529532058365, 0.8957163053275471, 0.10389185986557757, 0.9998205335273143, 0.99888594026747, 0.6763468298393716, 0.09618033276737331, 0.22741180721381854, 0.9994571166902744, 0.05073374609037548, 0.9490194856905532, 0.5441576509963215, 0.05189013887137918, 0.4041001965204751, 0.3092445701629213, 0.003552833740502686, 0.008586014872881492, 0.678591244436013, 0.9996997414737001, 0.9992798015187627, 0.9988522672758007, 0.9996378068037889, 0.9979949632728217, 0.11826210600138501, 0.07515114004713562, 0.556665463711365, 0.25006965145667315, 0.9984987341562009, 0.9989157941325969, 0.535674853662436, 0.05181141228867235, 0.1803965979686827, 0.23206288025094424, 0.7545152577054891, 0.24540729562150174, 0.9999276818890026, 0.9990967117296734, 0.9999806560834217, 0.9998975413746369, 0.9989558321900122, 0.999524526223823, 0.9983435734580877, 0.9997387761348517, 0.9984956831700397, 0.9999060233412178, 0.9998762134425381, 0.0004490110378329338, 0.9994985702161107, 0.48256686893108824, 0.15390200539796065, 0.11047737316949043, 0.2533103546660763, 0.40352949770242297, 0.30168132160694633, 0.01123841943122501, 0.07585933116076882, 0.20773515917404978, 0.9986932775121034, 0.9535414980641479, 0.045785917443581216, 0.998042905791789, 0.9993156989854443, 0.9992213161632646, 0.9988639327913793, 0.05254619706552674, 0.16922357952598768, 0.4097500038889237, 0.08371533233274207, 0.28479762976460027, 0.9992686793952916, 0.05845160628039212, 0.08332752244158226, 0.4457274813800134, 0.15007110077570443, 0.2624884923893888, 0.9995363712305074, 0.005985445092422185, 0.9935838853420828, 0.9989273942229253, 0.11515203478727551, 0.5037649437804101, 0.30633264595774345, 0.0748185725150249, 0.3625857651493201, 0.3757425591888899, 0.0008706701937950589, 0.2608140936079421, 0.15844508322703485, 0.2046787991011748, 0.2338833705163344, 0.04541105189061435, 0.357612033638588, 0.30488961361247113, 0.6950015511025427, 0.9988166252761266, 0.9996542418576858, 0.9984368286086395, 0.9993950315690564, 0.9989893067777585, 0.9981595056486684, 0.9993291427975238, 0.9995139024533151, 0.9994456366635124, 0.0787146131471423, 0.13658538958920252, 0.18248066978765967, 0.31550577670984503, 0.28669985331307013, 0.06853266757347236, 0.1399171496623558, 0.14490782506432517, 0.3243939011280096, 0.3221659210378447, 0.06598058201971545, 0.08895578315712173, 0.32135024523267713, 0.07887009345676778, 0.44483942992381076, 0.9993099865988303, 0.999355306091846, 0.22115222815310306, 0.7786484983974953, 0.0729120213944932, 0.17827439305159723, 0.1729860211294658, 0.11438635949018792, 0.4614385798438527, 0.9983852592265595, 0.9996103314196398, 0.258059650853315, 0.7418490726371454, 0.9996436056186919, 0.9980643633511358, 0.0019071293567219155, 0.9989522374888476, 0.06117722985868926, 0.14129766287159196, 0.7974777983609849, 0.5020980447106722, 0.49788772853131896, 0.5032245913172646, 0.0467413367399031, 0.4500020821504419, 0.025510423394766762, 0.5707267017495871, 0.40374938498384105, 0.9994932552381006, 0.12048712034706673, 0.000879468031730414, 0.878368696690751, 0.9990221636671794, 0.9992722732208139, 0.6463080447621641, 0.10220685359029572, 0.2515090220702375, 0.998619243014572, 0.9992519343206356, 0.9993842131777649, 0.9982459756552272, 0.9991749090242552, 0.08268701044116096, 0.3716173253403584, 0.2567694651655655, 0.2888440927819491, 0.21176542178429253, 0.7881968233894384, 0.9996672896218041, 0.0008805123302147681, 0.17081939206166502, 0.8282685986220252, 0.9998117339334224, 0.9093962707870865, 0.0904927493043661, 0.6099119224817982, 0.08642874263832245, 0.08708350584012793, 0.21639923819670887, 0.999380346682828, 0.9982732445101025, 0.11185872616132872, 0.17530646263972172, 0.71259509813594, 0.9989208709335212, 0.35307542936436576, 0.5520121961913744, 0.08528231705511466, 0.000995513428658926, 0.008627783048377358, 0.2156861493178954, 0.13630126576613213, 0.145472082638538, 0.040122323816775655, 0.46238112318561314, 0.0005466252949349181, 0.7718349164481044, 0.22753277901665966, 0.27558162966563704, 0.19174355178467997, 0.19064957923819062, 0.009945204968085061, 0.3320703938843602, 0.3193712523266642, 0.0262289060168731, 0.4186509131178037, 0.11351408086090259, 0.1221847935937532, 0.9987227156355225, 0.09858085697635606, 0.13649657119803146, 0.35960685207120274, 0.40534268235109866, 0.9989300619650983, 0.9987935284740522, 0.9989154292195209, 0.9988521026734731, 0.7845860202218793, 0.21524498054771293, 0.07296636739591017, 0.3064038811324499, 0.6204884325171008, 0.9996525052750473, 0.9987489674062837, 0.9986202993476517, 0.8907674803851444, 0.10881321369489969, 0.0007824975709970528, 0.9984669005922393, 0.80579065669548, 0.19414421137207183, 0.9996133633454776, 0.6831915472150843, 0.31678137585209065, 0.20332739887233786, 0.3933681967756109, 0.1661531855227203, 0.05448919865504779, 0.18269076332464143, 0.9993856907370658, 0.010076266090290605, 0.18947761235002988, 0.18531567635621418, 0.614652231507727, 0.0006571477884972134, 0.2621957080445627, 0.1737064743534277, 0.20519031838651025, 0.3588285688297052, 0.2845344788345521, 0.715243661839414, 0.049212177489240366, 0.08599949828565272, 0.04628868179681025, 0.6926248544649029, 0.1257103147744952, 0.9989244517905025, 0.9985475550463577, 0.011854701435515676, 0.18296297192713692, 0.18328775826783597, 0.6218034492683496, 0.9981900111219982, 0.987417663601279, 0.011454961294678411, 0.9978365739995049, 0.3128620290936817, 0.4100482955865003, 0.0810144717484136, 0.00502776951989515, 0.19105524175601568, 0.6564291304617915, 0.11923031633009333, 0.0035327501134842466, 0.2210176789748582, 0.004810321546652262, 0.9938124315383573, 0.8042553043477739, 0.0007054871090769947, 0.19506718565978903, 0.16748811033033448, 0.7184452595900566, 0.011452178484125435, 0.0017894028881445991, 0.10074338260254094, 0.01913861933376664, 0.9803226125407134, 0.9996681244912173, 0.8797705646204464, 0.12024758065941947, 0.9984641720367343, 0.4963184366271827, 0.09992479497112403, 0.40376336623093556, 0.9992680548674434, 0.8570279470213871, 0.1423518169320752, 0.05659070142097907, 0.3572400310337044, 0.2323811818667823, 0.3537367971362152, 0.07828193204097286, 0.0689611549355312, 0.8527881269242265, 0.9981803343324783, 0.811787894188362, 0.18815858942815522, 0.08597040150309046, 0.16470119024802593, 0.49681842552838595, 0.25248149494065514, 0.9980021570603063, 0.00016137287211636435, 0.5334987152167006, 0.09682372326981861, 0.36949008618910223, 0.23564214074180606, 0.4845646911496966, 0.2797399112997018, 0.0006037605308997347, 0.13584611945244032, 0.15969466042297983, 0.7036828987636408, 0.9989344173554472, 0.9995530433940439, 0.999318251525058, 0.9997501929199495, 0.8884548676042601, 0.11091821068717354, 0.9064989884888784, 0.09337649242777898, 0.07126096409361869, 0.13027708646974234, 0.509465709491843, 0.2888578234668093, 0.010430980845523342, 0.009779044542678134, 0.4690029762668433, 0.4443597840192944, 0.06636711562964227, 0.9995456222219584, 0.9997287589911409, 0.22743338214084116, 0.7725048377487617, 0.9958734056375439, 0.003920761439517889, 0.9996149032521641, 0.9993665724989401, 0.13131747612189962, 0.8665306809924724, 0.001646614120650779, 0.9981106770869274, 0.9988204354452656, 0.9996482129583172, 0.0006627490569497788, 0.1979134371316277, 0.2538328888117653, 0.15682299560074142, 0.39069056907189464, 0.9881357013435896, 0.011102648329703256, 0.9990219028356929, 0.9993820987987354, 0.587099949711488, 0.06263645960297723, 0.350343481137548, 0.9993600703496307, 0.9988554316150643, 0.5001080037804062, 0.21490308100707092, 0.017644383815846747, 0.26728484546036596, 0.9997287379929285, 0.9988790680440526, 0.8299356820523508, 0.1695695925919911, 0.7099246938860286, 0.2900554846702604, 0.30952422931175055, 0.6903746601354812, 0.27692110880211057, 0.7228951131476318, 0.32609430957899116, 0.6738520454913325, 0.8324875600327629, 0.1669497460817175, 0.015393784374861743, 0.343077650295632, 0.5989993155277085, 0.029542483248815553, 0.013016802964037504, 0.9986326052373928, 0.7591750736658035, 0.020693017340124117, 0.06919227673104002, 0.08244874096455702, 0.06854561993916114, 0.037369039055710956, 0.13244400917024088, 0.16676251442548565, 0.3473795365280886, 0.31611156507331006, 0.9997908030808415, 0.6903428231248877, 0.006312736462278528, 0.17856025993302124, 0.12445109025634814, 0.9994936111837426, 0.6969569819264531, 0.03260152453962872, 0.06162483297124942, 0.20872927296713512, 0.9985340209692606, 0.9991229799314656, 0.9995321015611914, 0.03047652239393903, 0.7108826037469964, 0.06733185180056298, 0.19136421038054738, 0.9982777104623481, 0.9998014864569538, 0.998264698464963, 0.04605591331821838, 0.9538031080740709, 0.9982969754148446, 0.9988249185565441, 0.2657636507971832, 0.2232240680672904, 0.19277651396614012, 0.08551413051837352, 0.2327063063445058, 0.13038072023250746, 0.08465969655244211, 0.30049803696182564, 0.16524998262027107, 0.31924924213602346, 0.022527618430884622, 0.29208043527785205, 0.08175345398304903, 0.27759839485799764, 0.3259756768339987, 0.9987917971924396, 0.9986342043322352, 0.9993662889450801, 0.048387646175867265, 0.14222441750477585, 0.2081778893504249, 0.18173120014499136, 0.41949020112519747, 0.07590632243048487, 0.6105633790945453, 0.10975449277424947, 0.050844272899357036, 0.15282088823291165, 0.9997154408409397, 0.9999144372009803, 0.1397855325765109, 0.8535935908623714, 0.0065383555559980905, 0.047623735239694265, 0.9514825436430583, 0.9995046097170803, 0.9991740050216961, 0.11338208980332698, 0.4105237552989333, 0.05474576394915543, 0.08177127432507099, 0.3395904748521215, 0.9982949930378356, 0.9995258978181442, 0.9993515141326373, 0.17559286790407022, 0.16967210646221814, 0.35778315570048985, 0.0924484607992046, 0.20452001666283323, 0.9993891260013196, 0.29397177533645236, 0.19121262151767873, 0.21277189496593124, 0.0371746350579681, 0.26485668175446647, 0.0010939140924892613, 0.9988651124529722, 0.04982531846887893, 0.620126381507033, 0.33006349464595386, 0.09673306878890674, 0.05718264414105872, 0.45105930112785786, 0.06700243407420069, 0.32801353555677515, 0.9981689253509054, 0.1537987364416961, 0.08917054400077061, 0.00589016437436283, 0.7511595734083264, 0.9997407006691194, 0.0005987633467549159, 0.3686299560891135, 0.2605661885943458, 0.37016591423948475, 0.9977943908541357, 0.9992936086878296, 0.43271660667255535, 0.5671891267475427, 0.9984813721983153, 0.9996790796784297, 0.9995361785161295, 0.14585981817727128, 0.5837769111770881, 0.2702795936363557], \"Term\": [\"adhesive\", \"amazing\", \"amazing\", \"amazing\", \"amazing\", \"amazing_sound\", \"angle\", \"app\", \"app\", \"arm\", \"arrive\", \"arrive\", \"attach\", \"audio\", \"audio\", \"audiophile\", \"audiophile\", \"bag\", \"bag\", \"balance\", \"balanced\", \"bass\", \"bass_heavy\", \"battery\", \"battery_life\", \"battery_life\", \"beat\", \"beat\", \"bend\", \"bit\", \"bit\", \"bit\", \"bit\", \"black\", \"black\", \"blow_away\", \"blue_tooth\", \"bluetooth\", \"bluetooth_headset\", \"break\", \"break\", \"break\", \"break\", \"bud\", \"build_quality\", \"build_quality\", \"build_quality\", \"build_quality\", \"button\", \"button\", \"buy\", \"buy\", \"buy\", \"buy\", \"cable\", \"cable\", \"cable\", \"cable\", \"can\", \"canal\", \"card\", \"case\", \"channel\", \"charge\", \"charge\", \"charge_cable\", \"charger\", \"child\", \"clamp\", \"clarity\", \"clear\", \"clear\", \"clear\", \"clear\", \"clear\", \"come\", \"come\", \"come\", \"come\", \"come\", \"comfortable\", \"comfortable\", \"comfortable_ear\", \"company\", \"company\", \"compare\", \"compare\", \"compare\", \"compare\", \"comparison\", \"comparison\", \"complete\", \"computer\", \"computer\", \"connect\", \"connect_phone\", \"connection\", \"connection\", \"connection\", \"connectivity\", \"contact\", \"contact\", \"control\", \"control\", \"control\", \"cord\", \"cord\", \"cord\", \"cord\", \"cover\", \"crisp\", \"cushion\", \"customer_service\", \"customer_support\", \"day\", \"day\", \"day\", \"day\", \"deep_bass\", \"defective\", \"design\", \"design\", \"design\", \"design\", \"desk\", \"desk\", \"device\", \"distortion\", \"ear\", \"ear_bud\", \"ear_canal\", \"ear_cup\", \"ear_hook\", \"ear_piece\", \"ear_tip\", \"earbud\", \"earphone\", \"earpiece\", \"earpiece\", \"easily\", \"easily\", \"easily\", \"easily\", \"easy\", \"easy\", \"easy\", \"easy\", \"easy\", \"easy_connect\", \"easy_pair\", \"easy_pair\", \"easy_set\", \"edge\", \"email\", \"equalizer\", \"excellent\", \"excellent\", \"excellent\", \"excellent\", \"excellent\", \"exercise\", \"expect\", \"expect\", \"expect\", \"expect\", \"expect\", \"face\", \"fail\", \"fail\", \"fall_ear\", \"feature\", \"feature\", \"feature\", \"feature\", \"feel\", \"feel\", \"feel\", \"feel\", \"find\", \"find\", \"find\", \"find\", \"find\", \"fit\", \"fit\", \"fit_comfortably\", \"fit_ear\", \"fitting\", \"flight\", \"fly\", \"frequency\", \"fully\", \"fully_charge\", \"functionality\", \"get\", \"get\", \"get\", \"get\", \"get\", \"go\", \"go\", \"go\", \"go\", \"go\", \"good\", \"good\", \"good\", \"good\", \"good\", \"good_job\", \"good_product\", \"good_sound\", \"good_sound\", \"great\", \"great\", \"great\", \"great\", \"great\", \"great_customer\", \"great_product\", \"great_sound\", \"great_sound\", \"gym\", \"hang\", \"hang\", \"hanger\", \"head\", \"head\", \"head\", \"headphone\", \"headphone\", \"headset\", \"headset\", \"headset\", \"hear\", \"hear\", \"hear\", \"helpful\", \"high\", \"high\", \"high\", \"high_end\", \"high_volume\", \"hold\", \"hold\", \"hold\", \"holder\", \"hole\", \"hurt_ear\", \"install\", \"instruction\", \"issue\", \"issue\", \"issue\", \"issue\", \"item\", \"item\", \"keyboard\", \"kid\", \"kid\", \"kid\", \"lamp\", \"laptop\", \"laptop\", \"large\", \"large\", \"large\", \"large\", \"last_month\", \"led\", \"level\", \"level\", \"level\", \"life_good\", \"light\", \"light\", \"light\", \"light\", \"light\", \"like\", \"like\", \"like\", \"like\", \"like\", \"listen\", \"listen\", \"listen\", \"little\", \"little\", \"little\", \"little\", \"little\", \"look\", \"look\", \"look\", \"look\", \"look\", \"loop\", \"love\", \"love\", \"love\", \"love\", \"low_end\", \"low_volume\", \"make_easy\", \"manual\", \"metal\", \"metal\", \"mic\", \"mic\", \"mic\", \"mid\", \"mid_high\", \"midrange\", \"mode\", \"mode\", \"modem\", \"modem\", \"month\", \"month\", \"mount\", \"music\", \"music\", \"need\", \"need\", \"need\", \"need\", \"need\", \"need_charge\", \"new\", \"new\", \"new\", \"new\", \"new\", \"nice\", \"nice\", \"nice\", \"nice\", \"noise\", \"noise\", \"order\", \"order\", \"order\", \"order\", \"order\", \"outlet\", \"overall_sound\", \"pair\", \"pair\", \"pair\", \"pair\", \"pair_bluetooth\", \"pair_device\", \"pair_device\", \"perfect_fit\", \"phone\", \"phone\", \"phone\", \"phone\", \"phone\", \"place\", \"place\", \"place\", \"place\", \"plane\", \"plane\", \"plastic\", \"plastic\", \"plastic\", \"plug\", \"plug\", \"plug\", \"plug\", \"plug\", \"port\", \"port\", \"position\", \"power\", \"power\", \"prevent\", \"price\", \"price\", \"price\", \"price_point\", \"price_range\", \"price_range\", \"problem\", \"problem\", \"problem\", \"problem\", \"product\", \"product\", \"product\", \"protect\", \"pull\", \"pull\", \"purchase\", \"purchase\", \"purchase\", \"purchase\", \"qc\", \"quality\", \"quality\", \"quality\", \"quality\", \"range\", \"range\", \"range\", \"receive\", \"receive\", \"receive\", \"receive\", \"receiver\", \"recharge\", \"refund\", \"remote\", \"remove\", \"remove\", \"replacement\", \"replacement\", \"return\", \"return\", \"return\", \"return\", \"review\", \"review\", \"review\", \"review\", \"review\", \"right_ear\", \"roku\", \"run\", \"run\", \"screen\", \"screen\", \"screw\", \"seller\", \"send\", \"send\", \"send\", \"send_new\", \"send_replacement\", \"service\", \"set\", \"set\", \"set\", \"set\", \"set\", \"setup\", \"setup\", \"ship\", \"signal\", \"size\", \"size\", \"size\", \"slide\", \"slip\", \"small\", \"small\", \"small\", \"small\", \"small_ear\", \"solution\", \"song\", \"song\", \"sound\", \"sound\", \"sound_good\", \"sound_good\", \"sound_great\", \"sound_great\", \"sound_quality\", \"sound_quality\", \"sound_well\", \"sound_well\", \"speaker\", \"speaker\", \"speaker\", \"speaker\", \"speaker\", \"speed\", \"stand\", \"stand\", \"stand\", \"stand\", \"stand\", \"star\", \"star\", \"star\", \"star\", \"star\", \"stay_ear\", \"stick\", \"stick\", \"stick\", \"stick\", \"stop_work\", \"sturdy\", \"sturdy\", \"sturdy\", \"sturdy\", \"surface\", \"surround_sound\", \"sweat\", \"switch\", \"switch\", \"switch\", \"switch\", \"sync\", \"tablet\", \"talk_phone\", \"thank\", \"thank\", \"thick\", \"thin\", \"thing\", \"thing\", \"thing\", \"thing\", \"thing\", \"think\", \"think\", \"think\", \"think\", \"think\", \"time\", \"time\", \"time\", \"time\", \"time\", \"tone\", \"transmitter\", \"treble\", \"try\", \"try\", \"try\", \"try\", \"try\", \"turn\", \"turn\", \"turn\", \"turn\", \"turn\", \"uncomfortable\", \"unit\", \"update\", \"update\", \"update\", \"update_review\", \"update_review\", \"usb\", \"usb_port\", \"use\", \"use\", \"use\", \"use\", \"use\", \"vocal\", \"voice\", \"volume_button\", \"want\", \"want\", \"want\", \"want\", \"want\", \"warranty\", \"way\", \"way\", \"way\", \"way\", \"way\", \"wear\", \"wear\", \"week\", \"week\", \"week\", \"well\", \"well\", \"well\", \"well\", \"well\", \"wing\", \"wire\", \"wire\", \"wire\", \"wire\", \"wireless_headphone\", \"work\", \"work\", \"work\", \"work\", \"work_advertise\", \"work_flawlessly\", \"work_great\", \"work_great\", \"work_perfect\", \"work_perfectly\", \"workout\", \"year\", \"year\", \"year\"]}, \"R\": 30, \"lambda.step\": 0.01, \"plot.opts\": {\"xlab\": \"PC1\", \"ylab\": \"PC2\"}, \"topic.order\": [1, 2, 3, 4, 5]};\n",
       "\n",
       "function LDAvis_load_lib(url, callback){\n",
       "  var s = document.createElement('script');\n",
       "  s.src = url;\n",
       "  s.async = true;\n",
       "  s.onreadystatechange = s.onload = callback;\n",
       "  s.onerror = function(){console.warn(\"failed to load library \" + url);};\n",
       "  document.getElementsByTagName(\"head\")[0].appendChild(s);\n",
       "}\n",
       "\n",
       "if(typeof(LDAvis) !== \"undefined\"){\n",
       "   // already loaded: just create the visualization\n",
       "   !function(LDAvis){\n",
       "       new LDAvis(\"#\" + \"ldavis_el1211620398787251843254642043\", ldavis_el1211620398787251843254642043_data);\n",
       "   }(LDAvis);\n",
       "}else if(typeof define === \"function\" && define.amd){\n",
       "   // require.js is available: use it to load d3/LDAvis\n",
       "   require.config({paths: {d3: \"https://d3js.org/d3.v5\"}});\n",
       "   require([\"d3\"], function(d3){\n",
       "      window.d3 = d3;\n",
       "      LDAvis_load_lib(\"https://cdn.jsdelivr.net/gh/bmabey/pyLDAvis@3.3.1/pyLDAvis/js/ldavis.v3.0.0.js\", function(){\n",
       "        new LDAvis(\"#\" + \"ldavis_el1211620398787251843254642043\", ldavis_el1211620398787251843254642043_data);\n",
       "      });\n",
       "    });\n",
       "}else{\n",
       "    // require.js not available: dynamically load d3 & LDAvis\n",
       "    LDAvis_load_lib(\"https://d3js.org/d3.v5.js\", function(){\n",
       "         LDAvis_load_lib(\"https://cdn.jsdelivr.net/gh/bmabey/pyLDAvis@3.3.1/pyLDAvis/js/ldavis.v3.0.0.js\", function(){\n",
       "                 new LDAvis(\"#\" + \"ldavis_el1211620398787251843254642043\", ldavis_el1211620398787251843254642043_data);\n",
       "            })\n",
       "         });\n",
       "}\n",
       "</script>"
      ],
      "text/plain": [
       "PreparedData(topic_coordinates=              x         y  topics  cluster       Freq\n",
       "topic                                                \n",
       "0      0.278519  0.017776       1        1  15.825743\n",
       "1      0.042444  0.197317       2        1  18.357450\n",
       "2     -0.049830 -0.195047       3        1  23.567506\n",
       "3     -0.233906  0.120966       4        1  14.032884\n",
       "4     -0.037227 -0.141012       5        1  28.216417, topic_info=          Term          Freq         Total Category  logprob  loglift\n",
       "33   headphone  84079.000000  84079.000000  Default  30.0000  30.0000\n",
       "5        sound  42460.000000  42460.000000  Default  29.0000  29.0000\n",
       "25         ear  23952.000000  23952.000000  Default  28.0000  28.0000\n",
       "629    product  15878.000000  15878.000000  Default  27.0000  27.0000\n",
       "254       work  38412.000000  38412.000000  Default  26.0000  26.0000\n",
       "..         ...           ...           ...      ...      ...      ...\n",
       "159        try   6423.817334  15313.826122   Topic5  -5.1226   0.3965\n",
       "55     quality   6868.894739  18590.485257   Topic5  -5.0556   0.2696\n",
       "187       time   6280.058388  19265.241079   Topic5  -5.1452   0.1443\n",
       "16         buy   6492.071392  23621.055308   Topic5  -5.1120  -0.0263\n",
       "8         well   6046.128786  18432.166190   Topic5  -5.1832   0.1506\n",
       "\n",
       "[362 rows x 6 columns], token_table=      Topic      Freq            Term\n",
       "term                                 \n",
       "6719      4  0.998902        adhesive\n",
       "12        1  0.011942         amazing\n",
       "12        3  0.699332         amazing\n",
       "12        4  0.134879         amazing\n",
       "12        5  0.153670         amazing\n",
       "...     ...       ...             ...\n",
       "2084      2  0.999679  work_perfectly\n",
       "2574      5  0.999536         workout\n",
       "68        3  0.145860            year\n",
       "68        4  0.583777            year\n",
       "68        5  0.270280            year\n",
       "\n",
       "[601 rows x 3 columns], R=30, lambda_step=0.01, plot_opts={'xlab': 'PC1', 'ylab': 'PC2'}, topic_order=[1, 2, 3, 4, 5])"
      ]
     },
     "execution_count": 145,
     "metadata": {},
     "output_type": "execute_result"
    }
   ],
   "source": [
    "# sort_topics set to False in order to keep topic numbering similar to LDA output.\n",
    "# Visualization will start index at 1, where as LDA output will start topic index at 0.\n",
    "pyLDAvis.enable_notebook()\n",
    "vis = pyLDAvis.gensim_models.prepare(optimal_model, corpus, id2word, sort_topics = False)\n",
    "vis"
   ]
  },
  {
   "cell_type": "markdown",
   "metadata": {},
   "source": [
    "Topic 1: Design\n",
    "Topic 2: Battery / Connectivity\n",
    "Topic 3: Sound Quality\n",
    "Topic 4: Customer Service\n",
    "Topic 5: Comfort"
   ]
  },
  {
   "cell_type": "code",
   "execution_count": null,
   "metadata": {},
   "outputs": [],
   "source": []
  },
  {
   "cell_type": "code",
   "execution_count": null,
   "metadata": {},
   "outputs": [],
   "source": []
  },
  {
   "cell_type": "code",
   "execution_count": 117,
   "metadata": {},
   "outputs": [],
   "source": [
    "dominant_topics = []\n",
    "for i in range(len(corpus)):\n",
    "    topic_weights = lda_model[corpus[i]]\n",
    "    dominant_topic = max(topic_weights, key=lambda x: x[1])\n",
    "    dominant_topics.append(dominant_topic[0])    "
   ]
  },
  {
   "cell_type": "code",
   "execution_count": 118,
   "metadata": {},
   "outputs": [],
   "source": [
    "data_df['dominant_topic'] = dominant_topics"
   ]
  },
  {
   "cell_type": "code",
   "execution_count": 119,
   "metadata": {},
   "outputs": [
    {
     "data": {
      "text/html": [
       "<div>\n",
       "<style scoped>\n",
       "    .dataframe tbody tr th:only-of-type {\n",
       "        vertical-align: middle;\n",
       "    }\n",
       "\n",
       "    .dataframe tbody tr th {\n",
       "        vertical-align: top;\n",
       "    }\n",
       "\n",
       "    .dataframe thead th {\n",
       "        text-align: right;\n",
       "    }\n",
       "</style>\n",
       "<table border=\"1\" class=\"dataframe\">\n",
       "  <thead>\n",
       "    <tr style=\"text-align: right;\">\n",
       "      <th></th>\n",
       "      <th>reviews</th>\n",
       "      <th>sentiment</th>\n",
       "      <th>word_count</th>\n",
       "      <th>review_len</th>\n",
       "      <th>cleaned_text</th>\n",
       "      <th>cleaned_word_count</th>\n",
       "      <th>cleaned_review_len</th>\n",
       "      <th>dominant_topic</th>\n",
       "    </tr>\n",
       "  </thead>\n",
       "  <tbody>\n",
       "    <tr>\n",
       "      <th>0</th>\n",
       "      <td>Get the SportaPros instead.  They look better,...</td>\n",
       "      <td>1</td>\n",
       "      <td>31</td>\n",
       "      <td>127</td>\n",
       "      <td>[instead, look, well, wear, street, configurat...</td>\n",
       "      <td>10</td>\n",
       "      <td>61</td>\n",
       "      <td>4</td>\n",
       "    </tr>\n",
       "    <tr>\n",
       "      <th>1</th>\n",
       "      <td>I've been looking for a lighter alternative to...</td>\n",
       "      <td>1</td>\n",
       "      <td>263</td>\n",
       "      <td>1097</td>\n",
       "      <td>[look, light, alternative, absolutely, perfect...</td>\n",
       "      <td>92</td>\n",
       "      <td>563</td>\n",
       "      <td>2</td>\n",
       "    </tr>\n",
       "    <tr>\n",
       "      <th>2</th>\n",
       "      <td>The finest headphones available. You can spend...</td>\n",
       "      <td>1</td>\n",
       "      <td>119</td>\n",
       "      <td>512</td>\n",
       "      <td>[fine, headphone, available, spend, vast, amou...</td>\n",
       "      <td>48</td>\n",
       "      <td>287</td>\n",
       "      <td>2</td>\n",
       "    </tr>\n",
       "    <tr>\n",
       "      <th>3</th>\n",
       "      <td>3rd pair of these I've purchased.  My wife has...</td>\n",
       "      <td>1</td>\n",
       "      <td>108</td>\n",
       "      <td>419</td>\n",
       "      <td>[pair, purchase, wife, pair, pair, glove, box,...</td>\n",
       "      <td>36</td>\n",
       "      <td>195</td>\n",
       "      <td>3</td>\n",
       "    </tr>\n",
       "    <tr>\n",
       "      <th>4</th>\n",
       "      <td>My old Koss Porta Pros finally got beat to dea...</td>\n",
       "      <td>1</td>\n",
       "      <td>170</td>\n",
       "      <td>713</td>\n",
       "      <td>[old, finally, get, beat, death, year, ago, la...</td>\n",
       "      <td>65</td>\n",
       "      <td>367</td>\n",
       "      <td>4</td>\n",
       "    </tr>\n",
       "  </tbody>\n",
       "</table>\n",
       "</div>"
      ],
      "text/plain": [
       "                                             reviews  sentiment  word_count  \\\n",
       "0  Get the SportaPros instead.  They look better,...          1          31   \n",
       "1  I've been looking for a lighter alternative to...          1         263   \n",
       "2  The finest headphones available. You can spend...          1         119   \n",
       "3  3rd pair of these I've purchased.  My wife has...          1         108   \n",
       "4  My old Koss Porta Pros finally got beat to dea...          1         170   \n",
       "\n",
       "   review_len                                       cleaned_text  \\\n",
       "0         127  [instead, look, well, wear, street, configurat...   \n",
       "1        1097  [look, light, alternative, absolutely, perfect...   \n",
       "2         512  [fine, headphone, available, spend, vast, amou...   \n",
       "3         419  [pair, purchase, wife, pair, pair, glove, box,...   \n",
       "4         713  [old, finally, get, beat, death, year, ago, la...   \n",
       "\n",
       "   cleaned_word_count  cleaned_review_len  dominant_topic  \n",
       "0                  10                  61               4  \n",
       "1                  92                 563               2  \n",
       "2                  48                 287               2  \n",
       "3                  36                 195               3  \n",
       "4                  65                 367               4  "
      ]
     },
     "execution_count": 119,
     "metadata": {},
     "output_type": "execute_result"
    }
   ],
   "source": [
    "data_df.head()"
   ]
  },
  {
   "cell_type": "code",
   "execution_count": 121,
   "metadata": {},
   "outputs": [
    {
     "data": {
      "text/plain": [
       "4    0.340235\n",
       "2    0.258810\n",
       "1    0.177250\n",
       "3    0.117944\n",
       "0    0.105761\n",
       "Name: dominant_topic, dtype: float64"
      ]
     },
     "execution_count": 121,
     "metadata": {},
     "output_type": "execute_result"
    }
   ],
   "source": [
    "data_df.dominant_topic.value_counts(normalize = True)"
   ]
  },
  {
   "cell_type": "code",
   "execution_count": 124,
   "metadata": {},
   "outputs": [],
   "source": [
    "data_df.drop(columns = ['word_count', 'review_len', 'cleaned_word_count', 'cleaned_review_len'], inplace = True)"
   ]
  },
  {
   "cell_type": "code",
   "execution_count": 125,
   "metadata": {},
   "outputs": [
    {
     "data": {
      "text/html": [
       "<div>\n",
       "<style scoped>\n",
       "    .dataframe tbody tr th:only-of-type {\n",
       "        vertical-align: middle;\n",
       "    }\n",
       "\n",
       "    .dataframe tbody tr th {\n",
       "        vertical-align: top;\n",
       "    }\n",
       "\n",
       "    .dataframe thead th {\n",
       "        text-align: right;\n",
       "    }\n",
       "</style>\n",
       "<table border=\"1\" class=\"dataframe\">\n",
       "  <thead>\n",
       "    <tr style=\"text-align: right;\">\n",
       "      <th></th>\n",
       "      <th>reviews</th>\n",
       "      <th>sentiment</th>\n",
       "      <th>cleaned_text</th>\n",
       "      <th>dominant_topic</th>\n",
       "    </tr>\n",
       "  </thead>\n",
       "  <tbody>\n",
       "    <tr>\n",
       "      <th>0</th>\n",
       "      <td>Get the SportaPros instead.  They look better,...</td>\n",
       "      <td>1</td>\n",
       "      <td>[instead, look, well, wear, street, configurat...</td>\n",
       "      <td>4</td>\n",
       "    </tr>\n",
       "    <tr>\n",
       "      <th>1</th>\n",
       "      <td>I've been looking for a lighter alternative to...</td>\n",
       "      <td>1</td>\n",
       "      <td>[look, light, alternative, absolutely, perfect...</td>\n",
       "      <td>2</td>\n",
       "    </tr>\n",
       "    <tr>\n",
       "      <th>2</th>\n",
       "      <td>The finest headphones available. You can spend...</td>\n",
       "      <td>1</td>\n",
       "      <td>[fine, headphone, available, spend, vast, amou...</td>\n",
       "      <td>2</td>\n",
       "    </tr>\n",
       "    <tr>\n",
       "      <th>3</th>\n",
       "      <td>3rd pair of these I've purchased.  My wife has...</td>\n",
       "      <td>1</td>\n",
       "      <td>[pair, purchase, wife, pair, pair, glove, box,...</td>\n",
       "      <td>3</td>\n",
       "    </tr>\n",
       "    <tr>\n",
       "      <th>4</th>\n",
       "      <td>My old Koss Porta Pros finally got beat to dea...</td>\n",
       "      <td>1</td>\n",
       "      <td>[old, finally, get, beat, death, year, ago, la...</td>\n",
       "      <td>4</td>\n",
       "    </tr>\n",
       "  </tbody>\n",
       "</table>\n",
       "</div>"
      ],
      "text/plain": [
       "                                             reviews  sentiment  \\\n",
       "0  Get the SportaPros instead.  They look better,...          1   \n",
       "1  I've been looking for a lighter alternative to...          1   \n",
       "2  The finest headphones available. You can spend...          1   \n",
       "3  3rd pair of these I've purchased.  My wife has...          1   \n",
       "4  My old Koss Porta Pros finally got beat to dea...          1   \n",
       "\n",
       "                                        cleaned_text  dominant_topic  \n",
       "0  [instead, look, well, wear, street, configurat...               4  \n",
       "1  [look, light, alternative, absolutely, perfect...               2  \n",
       "2  [fine, headphone, available, spend, vast, amou...               2  \n",
       "3  [pair, purchase, wife, pair, pair, glove, box,...               3  \n",
       "4  [old, finally, get, beat, death, year, ago, la...               4  "
      ]
     },
     "execution_count": 125,
     "metadata": {},
     "output_type": "execute_result"
    }
   ],
   "source": [
    "data_df.head()"
   ]
  },
  {
   "cell_type": "code",
   "execution_count": 126,
   "metadata": {},
   "outputs": [],
   "source": [
    "data_df.to_csv('data/processed_reviews.csv', index = False)"
   ]
  },
  {
   "cell_type": "code",
   "execution_count": null,
   "metadata": {},
   "outputs": [],
   "source": []
  },
  {
   "cell_type": "code",
   "execution_count": null,
   "metadata": {},
   "outputs": [],
   "source": []
  },
  {
   "cell_type": "code",
   "execution_count": null,
   "metadata": {},
   "outputs": [],
   "source": []
  },
  {
   "cell_type": "code",
   "execution_count": null,
   "metadata": {},
   "outputs": [],
   "source": []
  },
  {
   "cell_type": "code",
   "execution_count": null,
   "metadata": {},
   "outputs": [],
   "source": []
  },
  {
   "cell_type": "code",
   "execution_count": null,
   "metadata": {},
   "outputs": [],
   "source": []
  },
  {
   "cell_type": "code",
   "execution_count": null,
   "metadata": {},
   "outputs": [],
   "source": []
  },
  {
   "cell_type": "code",
   "execution_count": null,
   "metadata": {},
   "outputs": [],
   "source": []
  },
  {
   "cell_type": "code",
   "execution_count": null,
   "metadata": {},
   "outputs": [],
   "source": []
  },
  {
   "cell_type": "code",
   "execution_count": null,
   "metadata": {},
   "outputs": [],
   "source": []
  },
  {
   "cell_type": "code",
   "execution_count": null,
   "metadata": {},
   "outputs": [],
   "source": []
  },
  {
   "cell_type": "code",
   "execution_count": null,
   "metadata": {},
   "outputs": [],
   "source": []
  }
 ],
 "metadata": {
  "kernelspec": {
   "display_name": "Python (learn-env)",
   "language": "python",
   "name": "learn-env"
  },
  "language_info": {
   "codemirror_mode": {
    "name": "ipython",
    "version": 3
   },
   "file_extension": ".py",
   "mimetype": "text/x-python",
   "name": "python",
   "nbconvert_exporter": "python",
   "pygments_lexer": "ipython3",
   "version": "3.8.5"
  }
 },
 "nbformat": 4,
 "nbformat_minor": 4
}
