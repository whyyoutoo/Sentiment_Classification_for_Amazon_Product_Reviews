{
 "cells": [
  {
   "cell_type": "markdown",
   "metadata": {},
   "source": [
    "# Buisness Problem\n"
   ]
  },
  {
   "cell_type": "markdown",
   "metadata": {},
   "source": [
    "# Data Understanding"
   ]
  },
  {
   "cell_type": "markdown",
   "metadata": {},
   "source": [
    "# Data Preperation"
   ]
  },
  {
   "cell_type": "code",
   "execution_count": 1,
   "metadata": {},
   "outputs": [],
   "source": [
    "import pandas as pd\n",
    "import numpy as np\n",
    "import json\n",
    "\n",
    "import matplotlib.pyplot as plt\n",
    "\n",
    "import gzip\n",
    "from nltk import word_tokenize, sent_tokenize\n",
    "from nltk.corpus import stopwords, wordnet\n",
    "from nltk.stem import WordNetLemmatizer\n",
    "\n",
    "from nltk.sentiment import SentimentIntensityAnalyzer\n",
    "\n",
    "import re\n",
    "\n",
    "import string\n",
    "\n",
    "from sklearn.feature_extraction.text import CountVectorizer, TfidfVectorizer\n",
    "\n",
    "from sklearn.linear_model import LogisticRegression\n",
    "from sklearn.naive_bayes import MultinomialNB\n",
    "from sklearn.ensemble import RandomForestClassifier\n",
    "\n",
    "from sklearn.model_selection import train_test_split\n",
    "\n",
    "from sklearn.metrics import roc_auc_score, accuracy_score, f1_score"
   ]
  },
  {
   "cell_type": "code",
   "execution_count": 2,
   "metadata": {},
   "outputs": [],
   "source": [
    "import seaborn as sns"
   ]
  },
  {
   "cell_type": "code",
   "execution_count": 3,
   "metadata": {},
   "outputs": [],
   "source": [
    "import contractions"
   ]
  },
  {
   "cell_type": "code",
   "execution_count": 4,
   "metadata": {},
   "outputs": [],
   "source": [
    "import spacy\n",
    "nlp = spacy.load('en_core_web_sm', disable=['parser', 'ner'])"
   ]
  },
  {
   "cell_type": "code",
   "execution_count": 5,
   "metadata": {},
   "outputs": [
    {
     "name": "stderr",
     "output_type": "stream",
     "text": [
      "C:\\Users\\PC\\anaconda3\\envs\\learn-env\\lib\\site-packages\\scipy\\sparse\\sparsetools.py:21: DeprecationWarning: `scipy.sparse.sparsetools` is deprecated!\n",
      "scipy.sparse.sparsetools is a private module for scipy.sparse, and should not be used.\n",
      "  _deprecated()\n"
     ]
    }
   ],
   "source": [
    "import pyLDAvis\n",
    "import pyLDAvis.gensim_models\n",
    "\n",
    "import gensim\n",
    "import gensim.corpora as corpora\n",
    "from gensim.utils import simple_preprocess\n",
    "from gensim.models import CoherenceModel\n",
    "from gensim.models.phrases import Phrases, Phraser\n",
    "\n",
    "import warnings\n",
    "warnings.filterwarnings(\"ignore\", category=DeprecationWarning)"
   ]
  },
  {
   "cell_type": "markdown",
   "metadata": {},
   "source": [
    "## Subsetting data"
   ]
  },
  {
   "cell_type": "markdown",
   "metadata": {},
   "source": [
    "## Initial Pre-processing"
   ]
  },
  {
   "cell_type": "markdown",
   "metadata": {},
   "source": [
    "# Data Exploration"
   ]
  },
  {
   "cell_type": "markdown",
   "metadata": {},
   "source": [
    "## EDA"
   ]
  },
  {
   "cell_type": "code",
   "execution_count": 6,
   "metadata": {},
   "outputs": [],
   "source": [
    "df = pd.read_csv('data/reviews_subset.csv')"
   ]
  },
  {
   "cell_type": "code",
   "execution_count": null,
   "metadata": {},
   "outputs": [],
   "source": [
    "df.head()"
   ]
  },
  {
   "cell_type": "code",
   "execution_count": 84,
   "metadata": {},
   "outputs": [
    {
     "name": "stdout",
     "output_type": "stream",
     "text": [
      "<class 'pandas.core.frame.DataFrame'>\n",
      "Int64Index: 129550 entries, 0 to 129591\n",
      "Data columns (total 9 columns):\n",
      " #   Column      Non-Null Count   Dtype  \n",
      "---  ------      --------------   -----  \n",
      " 0   overall     129550 non-null  float64\n",
      " 1   reviewText  129550 non-null  object \n",
      " 2   verified    129550 non-null  bool   \n",
      " 3   asin        129550 non-null  object \n",
      " 4   brand       129550 non-null  object \n",
      " 5   title       129550 non-null  object \n",
      " 6   sentiment   129550 non-null  int64  \n",
      " 7   word_count  129550 non-null  int64  \n",
      " 8   review_len  129550 non-null  int64  \n",
      "dtypes: bool(1), float64(1), int64(3), object(4)\n",
      "memory usage: 9.0+ MB\n"
     ]
    }
   ],
   "source": [
    "df.info()"
   ]
  },
  {
   "cell_type": "code",
   "execution_count": null,
   "metadata": {},
   "outputs": [],
   "source": [
    "df.isna().sum()"
   ]
  },
  {
   "cell_type": "code",
   "execution_count": 7,
   "metadata": {},
   "outputs": [],
   "source": [
    "df.dropna(inplace = True)"
   ]
  },
  {
   "cell_type": "code",
   "execution_count": null,
   "metadata": {},
   "outputs": [],
   "source": [
    "df.isna().sum()"
   ]
  },
  {
   "cell_type": "code",
   "execution_count": null,
   "metadata": {},
   "outputs": [],
   "source": []
  },
  {
   "cell_type": "code",
   "execution_count": 8,
   "metadata": {},
   "outputs": [
    {
     "data": {
      "text/plain": [
       "5.0    0.673987\n",
       "4.0    0.171764\n",
       "3.0    0.070853\n",
       "1.0    0.047781\n",
       "2.0    0.035616\n",
       "Name: overall, dtype: float64"
      ]
     },
     "execution_count": 8,
     "metadata": {},
     "output_type": "execute_result"
    }
   ],
   "source": [
    "df.overall.value_counts(normalize = True)"
   ]
  },
  {
   "cell_type": "code",
   "execution_count": null,
   "metadata": {},
   "outputs": [],
   "source": []
  },
  {
   "cell_type": "code",
   "execution_count": null,
   "metadata": {},
   "outputs": [],
   "source": [
    "ax = df.overall.value_counts().sort_index().plot(kind = 'bar',\n",
    "                                            title = 'Count by Review Star',\n",
    "                                            figsize = (10,5))\n",
    "ax.set_xlabel('Review Stars');\n"
   ]
  },
  {
   "cell_type": "code",
   "execution_count": null,
   "metadata": {},
   "outputs": [],
   "source": [
    "df.verified.value_counts()"
   ]
  },
  {
   "cell_type": "code",
   "execution_count": null,
   "metadata": {},
   "outputs": [],
   "source": [
    "sns.barplot(data = df, x = 'verified', y = 'overall')"
   ]
  },
  {
   "cell_type": "code",
   "execution_count": null,
   "metadata": {},
   "outputs": [],
   "source": [
    "df.brand.value_counts()"
   ]
  },
  {
   "cell_type": "code",
   "execution_count": null,
   "metadata": {},
   "outputs": [],
   "source": [
    "dfg = df.groupby('brand')['overall'].mean().sort_values(ascending = False)"
   ]
  },
  {
   "cell_type": "code",
   "execution_count": null,
   "metadata": {},
   "outputs": [],
   "source": [
    "fig, ax = plt.subplots(figsize = (10,30))\n",
    "ax = sns.barplot(x = dfg.values, y = dfg.index, orient = 'h')"
   ]
  },
  {
   "cell_type": "code",
   "execution_count": null,
   "metadata": {},
   "outputs": [],
   "source": []
  },
  {
   "cell_type": "code",
   "execution_count": null,
   "metadata": {},
   "outputs": [],
   "source": []
  },
  {
   "cell_type": "markdown",
   "metadata": {},
   "source": [
    "## Sentiment Validation of Star Ratings"
   ]
  },
  {
   "cell_type": "code",
   "execution_count": null,
   "metadata": {},
   "outputs": [],
   "source": [
    "sia = SentimentIntensityAnalyzer()"
   ]
  },
  {
   "cell_type": "code",
   "execution_count": null,
   "metadata": {},
   "outputs": [],
   "source": [
    "df.reviewText[0]"
   ]
  },
  {
   "cell_type": "code",
   "execution_count": null,
   "metadata": {},
   "outputs": [],
   "source": [
    "df.overall[0]"
   ]
  },
  {
   "cell_type": "code",
   "execution_count": null,
   "metadata": {},
   "outputs": [],
   "source": [
    "sia.polarity_scores(df.reviewText[0])"
   ]
  },
  {
   "cell_type": "code",
   "execution_count": null,
   "metadata": {},
   "outputs": [],
   "source": [
    "sent_val_df = df.copy()"
   ]
  },
  {
   "cell_type": "code",
   "execution_count": null,
   "metadata": {},
   "outputs": [],
   "source": [
    "sent_val_df['compound'] = [sia.polarity_scores(str(x))['compound'] for x in df['reviewText']]\n",
    "sent_val_df['neg'] = [sia.polarity_scores(str(x))['neg'] for x in df['reviewText']]\n",
    "sent_val_df['neu'] = [sia.polarity_scores(str(x))['neu'] for x in df['reviewText']]\n",
    "sent_val_df['pos'] = [sia.polarity_scores(str(x))['pos'] for x in df['reviewText']]"
   ]
  },
  {
   "cell_type": "code",
   "execution_count": null,
   "metadata": {},
   "outputs": [],
   "source": [
    "sent_val_df.head()"
   ]
  },
  {
   "cell_type": "code",
   "execution_count": null,
   "metadata": {},
   "outputs": [],
   "source": [
    "ax = sns.barplot(data = sent_val_df, x = 'overall', y = 'compound')"
   ]
  },
  {
   "cell_type": "code",
   "execution_count": null,
   "metadata": {},
   "outputs": [],
   "source": [
    "fig, axs = plt.subplots(1, 3, figsize=(15,5))\n",
    "sns.barplot(data = sent_val_df, x = 'overall', y = 'pos', ax = axs[0])\n",
    "sns.barplot(data = sent_val_df, x = 'overall', y = 'neu', ax = axs[1])\n",
    "sns.barplot(data = sent_val_df, x = 'overall', y = 'neg', ax = axs[2])\n",
    "axs[0].set_title('Positive')\n",
    "axs[1].set_title('Neutral')\n",
    "axs[2].set_title('Negative');"
   ]
  },
  {
   "cell_type": "code",
   "execution_count": 9,
   "metadata": {},
   "outputs": [],
   "source": [
    "def label_encode(x):\n",
    "    if x <= 3:\n",
    "        return 0\n",
    "    if x > 3:\n",
    "        return 1"
   ]
  },
  {
   "cell_type": "code",
   "execution_count": 10,
   "metadata": {},
   "outputs": [],
   "source": [
    "df[\"sentiment\"] = df[\"overall\"].apply(lambda x: label_encode(x))"
   ]
  },
  {
   "cell_type": "code",
   "execution_count": 11,
   "metadata": {},
   "outputs": [
    {
     "data": {
      "text/plain": [
       "1    0.845751\n",
       "0    0.154249\n",
       "Name: sentiment, dtype: float64"
      ]
     },
     "execution_count": 11,
     "metadata": {},
     "output_type": "execute_result"
    }
   ],
   "source": [
    "df['sentiment'].value_counts(normalize = True)"
   ]
  },
  {
   "cell_type": "markdown",
   "metadata": {},
   "source": [
    "## Text Exploration"
   ]
  },
  {
   "cell_type": "markdown",
   "metadata": {},
   "source": []
  },
  {
   "cell_type": "code",
   "execution_count": null,
   "metadata": {},
   "outputs": [],
   "source": []
  },
  {
   "cell_type": "code",
   "execution_count": 12,
   "metadata": {},
   "outputs": [],
   "source": [
    "def word_count(text):\n",
    "    return len(word_tokenize(text))\n",
    "\n",
    "def char_count(text):\n",
    "    text_without_spaces = text.replace(\" \", \"\")\n",
    "    return len(text_without_spaces)"
   ]
  },
  {
   "cell_type": "code",
   "execution_count": 13,
   "metadata": {},
   "outputs": [],
   "source": [
    "df['word_count'] = df.reviewText.apply(lambda x: word_count(x))\n",
    "df['review_len'] = df.reviewText.apply(lambda x: char_count(x))"
   ]
  },
  {
   "cell_type": "code",
   "execution_count": null,
   "metadata": {},
   "outputs": [],
   "source": []
  },
  {
   "cell_type": "code",
   "execution_count": null,
   "metadata": {},
   "outputs": [],
   "source": [
    "df.head()"
   ]
  },
  {
   "cell_type": "code",
   "execution_count": 14,
   "metadata": {},
   "outputs": [],
   "source": [
    "text_stats_df = df[['reviewText', 'sentiment', 'word_count', 'review_len']].copy()"
   ]
  },
  {
   "cell_type": "code",
   "execution_count": 15,
   "metadata": {},
   "outputs": [
    {
     "data": {
      "text/html": [
       "<div>\n",
       "<style scoped>\n",
       "    .dataframe tbody tr th:only-of-type {\n",
       "        vertical-align: middle;\n",
       "    }\n",
       "\n",
       "    .dataframe tbody tr th {\n",
       "        vertical-align: top;\n",
       "    }\n",
       "\n",
       "    .dataframe thead th {\n",
       "        text-align: right;\n",
       "    }\n",
       "</style>\n",
       "<table border=\"1\" class=\"dataframe\">\n",
       "  <thead>\n",
       "    <tr style=\"text-align: right;\">\n",
       "      <th></th>\n",
       "      <th>reviewText</th>\n",
       "      <th>sentiment</th>\n",
       "      <th>word_count</th>\n",
       "      <th>review_len</th>\n",
       "    </tr>\n",
       "  </thead>\n",
       "  <tbody>\n",
       "    <tr>\n",
       "      <th>0</th>\n",
       "      <td>I bought this lens for my Rebel 2000 camera an...</td>\n",
       "      <td>1</td>\n",
       "      <td>54</td>\n",
       "      <td>207</td>\n",
       "    </tr>\n",
       "    <tr>\n",
       "      <th>1</th>\n",
       "      <td>Canon EF Lenses Have A Built In AF Motor..Comp...</td>\n",
       "      <td>1</td>\n",
       "      <td>211</td>\n",
       "      <td>952</td>\n",
       "    </tr>\n",
       "    <tr>\n",
       "      <th>2</th>\n",
       "      <td>I bought this lens about six months after repl...</td>\n",
       "      <td>1</td>\n",
       "      <td>191</td>\n",
       "      <td>727</td>\n",
       "    </tr>\n",
       "    <tr>\n",
       "      <th>3</th>\n",
       "      <td>Bought this as a replacement and it was worth ...</td>\n",
       "      <td>1</td>\n",
       "      <td>30</td>\n",
       "      <td>112</td>\n",
       "    </tr>\n",
       "    <tr>\n",
       "      <th>4</th>\n",
       "      <td>good</td>\n",
       "      <td>1</td>\n",
       "      <td>1</td>\n",
       "      <td>4</td>\n",
       "    </tr>\n",
       "  </tbody>\n",
       "</table>\n",
       "</div>"
      ],
      "text/plain": [
       "                                          reviewText  sentiment  word_count  \\\n",
       "0  I bought this lens for my Rebel 2000 camera an...          1          54   \n",
       "1  Canon EF Lenses Have A Built In AF Motor..Comp...          1         211   \n",
       "2  I bought this lens about six months after repl...          1         191   \n",
       "3  Bought this as a replacement and it was worth ...          1          30   \n",
       "4                                               good          1           1   \n",
       "\n",
       "   review_len  \n",
       "0         207  \n",
       "1         952  \n",
       "2         727  \n",
       "3         112  \n",
       "4           4  "
      ]
     },
     "execution_count": 15,
     "metadata": {},
     "output_type": "execute_result"
    }
   ],
   "source": [
    "text_stats_df.head()"
   ]
  },
  {
   "cell_type": "code",
   "execution_count": null,
   "metadata": {},
   "outputs": [],
   "source": [
    "text_stats_df.groupby('sentiment')['word_count'].mean().plot(kind = 'bar', figsize = (15,15));"
   ]
  },
  {
   "cell_type": "code",
   "execution_count": null,
   "metadata": {},
   "outputs": [],
   "source": [
    "text_stats_df.groupby('sentiment')['review_len'].mean().plot(kind = 'bar', figsize = (15,15));"
   ]
  },
  {
   "cell_type": "code",
   "execution_count": null,
   "metadata": {},
   "outputs": [],
   "source": [
    "correlation = text_stats_df[['sentiment', 'word_count', 'review_len']].corr()\n",
    "mask = np.zeros_like(correlation, dtype=np.bool)\n",
    "mask[np.triu_indices_from(mask)] = True\n",
    "plt.figure(figsize=(50,30))\n",
    "plt.xticks(fontsize=40)\n",
    "plt.yticks(fontsize=40)\n",
    "sns.heatmap(correlation, cmap='coolwarm', annot=True, annot_kws={\"size\": 40}, linewidths=10, vmin=-1.5, mask=mask);"
   ]
  },
  {
   "cell_type": "code",
   "execution_count": null,
   "metadata": {},
   "outputs": [],
   "source": []
  },
  {
   "cell_type": "code",
   "execution_count": null,
   "metadata": {},
   "outputs": [],
   "source": []
  },
  {
   "cell_type": "code",
   "execution_count": 16,
   "metadata": {},
   "outputs": [
    {
     "data": {
      "text/html": [
       "<div>\n",
       "<style scoped>\n",
       "    .dataframe tbody tr th:only-of-type {\n",
       "        vertical-align: middle;\n",
       "    }\n",
       "\n",
       "    .dataframe tbody tr th {\n",
       "        vertical-align: top;\n",
       "    }\n",
       "\n",
       "    .dataframe thead th {\n",
       "        text-align: right;\n",
       "    }\n",
       "</style>\n",
       "<table border=\"1\" class=\"dataframe\">\n",
       "  <thead>\n",
       "    <tr style=\"text-align: right;\">\n",
       "      <th></th>\n",
       "      <th>sentiment</th>\n",
       "      <th>word_count</th>\n",
       "      <th>review_len</th>\n",
       "    </tr>\n",
       "  </thead>\n",
       "  <tbody>\n",
       "    <tr>\n",
       "      <th>count</th>\n",
       "      <td>129550.000000</td>\n",
       "      <td>129550.000000</td>\n",
       "      <td>129550.000000</td>\n",
       "    </tr>\n",
       "    <tr>\n",
       "      <th>mean</th>\n",
       "      <td>0.845751</td>\n",
       "      <td>65.513192</td>\n",
       "      <td>252.553292</td>\n",
       "    </tr>\n",
       "    <tr>\n",
       "      <th>std</th>\n",
       "      <td>0.361189</td>\n",
       "      <td>112.072947</td>\n",
       "      <td>439.580095</td>\n",
       "    </tr>\n",
       "    <tr>\n",
       "      <th>min</th>\n",
       "      <td>0.000000</td>\n",
       "      <td>1.000000</td>\n",
       "      <td>1.000000</td>\n",
       "    </tr>\n",
       "    <tr>\n",
       "      <th>25%</th>\n",
       "      <td>1.000000</td>\n",
       "      <td>12.000000</td>\n",
       "      <td>47.000000</td>\n",
       "    </tr>\n",
       "    <tr>\n",
       "      <th>50%</th>\n",
       "      <td>1.000000</td>\n",
       "      <td>32.000000</td>\n",
       "      <td>122.000000</td>\n",
       "    </tr>\n",
       "    <tr>\n",
       "      <th>75%</th>\n",
       "      <td>1.000000</td>\n",
       "      <td>73.000000</td>\n",
       "      <td>280.000000</td>\n",
       "    </tr>\n",
       "    <tr>\n",
       "      <th>max</th>\n",
       "      <td>1.000000</td>\n",
       "      <td>4349.000000</td>\n",
       "      <td>18237.000000</td>\n",
       "    </tr>\n",
       "  </tbody>\n",
       "</table>\n",
       "</div>"
      ],
      "text/plain": [
       "           sentiment     word_count     review_len\n",
       "count  129550.000000  129550.000000  129550.000000\n",
       "mean        0.845751      65.513192     252.553292\n",
       "std         0.361189     112.072947     439.580095\n",
       "min         0.000000       1.000000       1.000000\n",
       "25%         1.000000      12.000000      47.000000\n",
       "50%         1.000000      32.000000     122.000000\n",
       "75%         1.000000      73.000000     280.000000\n",
       "max         1.000000    4349.000000   18237.000000"
      ]
     },
     "execution_count": 16,
     "metadata": {},
     "output_type": "execute_result"
    }
   ],
   "source": [
    "text_stats_df.describe()"
   ]
  },
  {
   "cell_type": "code",
   "execution_count": null,
   "metadata": {},
   "outputs": [],
   "source": [
    "text_stats_df.word_count.hist();"
   ]
  },
  {
   "cell_type": "code",
   "execution_count": null,
   "metadata": {},
   "outputs": [],
   "source": [
    "text_stats_df.review_len.hist();"
   ]
  },
  {
   "cell_type": "code",
   "execution_count": null,
   "metadata": {},
   "outputs": [],
   "source": [
    "text_stats_df.sort_values(by = 'word_count', ascending = False).head(20)"
   ]
  },
  {
   "cell_type": "code",
   "execution_count": null,
   "metadata": {},
   "outputs": [],
   "source": [
    "text_stats_df.sort_values(by = 'word_count', ascending = False).tail(20)"
   ]
  },
  {
   "cell_type": "code",
   "execution_count": null,
   "metadata": {},
   "outputs": [],
   "source": [
    "text_stats_df.reviewText[44098]"
   ]
  },
  {
   "cell_type": "code",
   "execution_count": 20,
   "metadata": {},
   "outputs": [],
   "source": [
    "def clean_text(text):\n",
    "    \n",
    "    text = text.lower()\n",
    "    # Replace &nbsp; with regular space\n",
    "    text = text.replace(\"&nbsp;\", \" \")\n",
    "    # Remove HTML tags and attributes\n",
    "    text = re.sub(r\"<[^>]+>\", \"\", text)\n",
    "    # Remove URLs\n",
    "    text = re.sub(r\"http\\S+\", \"\", text)\n",
    "    # Remove line breaks and extra whitespace\n",
    "    text = re.sub(r\"\\s+\", \" \", text)\n",
    "    # Remove numbers and special characters\n",
    "    text = re.sub(r\"[^a-zA-Z\\s]\", \"\", text)\n",
    "    # Tokenize with spaCy\n",
    "    #doc = nlp(text)\n",
    "    # Lemmatize and lowercase tokens\n",
    "    #tokens = [token.lemma_.lower().strip() for token in doc if not token.is_stop and len(token) > 2]\n",
    "\n",
    "    return text"
   ]
  },
  {
   "cell_type": "code",
   "execution_count": null,
   "metadata": {},
   "outputs": [],
   "source": [
    "text_stats_df.reviewText[44098]"
   ]
  },
  {
   "cell_type": "code",
   "execution_count": null,
   "metadata": {},
   "outputs": [],
   "source": [
    "clean_text(text_stats_df.reviewText[44098])"
   ]
  },
  {
   "cell_type": "code",
   "execution_count": 21,
   "metadata": {},
   "outputs": [],
   "source": [
    "text_stats_df['cleaned_text'] = text_stats_df.reviewText.apply(lambda x: clean_text(x))"
   ]
  },
  {
   "cell_type": "code",
   "execution_count": null,
   "metadata": {},
   "outputs": [],
   "source": [
    "text_stats_df.head()"
   ]
  },
  {
   "cell_type": "code",
   "execution_count": null,
   "metadata": {},
   "outputs": [],
   "source": [
    "text_stats_df.cleaned_text[44098]"
   ]
  },
  {
   "cell_type": "code",
   "execution_count": 22,
   "metadata": {},
   "outputs": [],
   "source": [
    "text_stats_df['cleaned_word_count'] = text_stats_df.cleaned_text.apply(lambda x: word_count(x))\n",
    "text_stats_df['cleaned_review_len'] = text_stats_df.cleaned_text.apply(lambda x: char_count(x))"
   ]
  },
  {
   "cell_type": "code",
   "execution_count": 23,
   "metadata": {},
   "outputs": [
    {
     "data": {
      "text/html": [
       "<div>\n",
       "<style scoped>\n",
       "    .dataframe tbody tr th:only-of-type {\n",
       "        vertical-align: middle;\n",
       "    }\n",
       "\n",
       "    .dataframe tbody tr th {\n",
       "        vertical-align: top;\n",
       "    }\n",
       "\n",
       "    .dataframe thead th {\n",
       "        text-align: right;\n",
       "    }\n",
       "</style>\n",
       "<table border=\"1\" class=\"dataframe\">\n",
       "  <thead>\n",
       "    <tr style=\"text-align: right;\">\n",
       "      <th></th>\n",
       "      <th>sentiment</th>\n",
       "      <th>word_count</th>\n",
       "      <th>review_len</th>\n",
       "      <th>cleaned_word_count</th>\n",
       "      <th>cleaned_review_len</th>\n",
       "    </tr>\n",
       "  </thead>\n",
       "  <tbody>\n",
       "    <tr>\n",
       "      <th>count</th>\n",
       "      <td>129550.000000</td>\n",
       "      <td>129550.000000</td>\n",
       "      <td>129550.000000</td>\n",
       "      <td>129550.000000</td>\n",
       "      <td>129550.000000</td>\n",
       "    </tr>\n",
       "    <tr>\n",
       "      <th>mean</th>\n",
       "      <td>0.845751</td>\n",
       "      <td>65.513192</td>\n",
       "      <td>252.553292</td>\n",
       "      <td>56.496974</td>\n",
       "      <td>237.715029</td>\n",
       "    </tr>\n",
       "    <tr>\n",
       "      <th>std</th>\n",
       "      <td>0.361189</td>\n",
       "      <td>112.072947</td>\n",
       "      <td>439.580095</td>\n",
       "      <td>95.431282</td>\n",
       "      <td>405.602106</td>\n",
       "    </tr>\n",
       "    <tr>\n",
       "      <th>min</th>\n",
       "      <td>0.000000</td>\n",
       "      <td>1.000000</td>\n",
       "      <td>1.000000</td>\n",
       "      <td>0.000000</td>\n",
       "      <td>0.000000</td>\n",
       "    </tr>\n",
       "    <tr>\n",
       "      <th>25%</th>\n",
       "      <td>1.000000</td>\n",
       "      <td>12.000000</td>\n",
       "      <td>47.000000</td>\n",
       "      <td>10.000000</td>\n",
       "      <td>44.000000</td>\n",
       "    </tr>\n",
       "    <tr>\n",
       "      <th>50%</th>\n",
       "      <td>1.000000</td>\n",
       "      <td>32.000000</td>\n",
       "      <td>122.000000</td>\n",
       "      <td>28.000000</td>\n",
       "      <td>117.000000</td>\n",
       "    </tr>\n",
       "    <tr>\n",
       "      <th>75%</th>\n",
       "      <td>1.000000</td>\n",
       "      <td>73.000000</td>\n",
       "      <td>280.000000</td>\n",
       "      <td>64.000000</td>\n",
       "      <td>266.000000</td>\n",
       "    </tr>\n",
       "    <tr>\n",
       "      <th>max</th>\n",
       "      <td>1.000000</td>\n",
       "      <td>4349.000000</td>\n",
       "      <td>18237.000000</td>\n",
       "      <td>3399.000000</td>\n",
       "      <td>15112.000000</td>\n",
       "    </tr>\n",
       "  </tbody>\n",
       "</table>\n",
       "</div>"
      ],
      "text/plain": [
       "           sentiment     word_count     review_len  cleaned_word_count  \\\n",
       "count  129550.000000  129550.000000  129550.000000       129550.000000   \n",
       "mean        0.845751      65.513192     252.553292           56.496974   \n",
       "std         0.361189     112.072947     439.580095           95.431282   \n",
       "min         0.000000       1.000000       1.000000            0.000000   \n",
       "25%         1.000000      12.000000      47.000000           10.000000   \n",
       "50%         1.000000      32.000000     122.000000           28.000000   \n",
       "75%         1.000000      73.000000     280.000000           64.000000   \n",
       "max         1.000000    4349.000000   18237.000000         3399.000000   \n",
       "\n",
       "       cleaned_review_len  \n",
       "count       129550.000000  \n",
       "mean           237.715029  \n",
       "std            405.602106  \n",
       "min              0.000000  \n",
       "25%             44.000000  \n",
       "50%            117.000000  \n",
       "75%            266.000000  \n",
       "max          15112.000000  "
      ]
     },
     "execution_count": 23,
     "metadata": {},
     "output_type": "execute_result"
    }
   ],
   "source": [
    "text_stats_df.describe()"
   ]
  },
  {
   "cell_type": "code",
   "execution_count": 83,
   "metadata": {},
   "outputs": [
    {
     "data": {
      "text/html": [
       "<div>\n",
       "<style scoped>\n",
       "    .dataframe tbody tr th:only-of-type {\n",
       "        vertical-align: middle;\n",
       "    }\n",
       "\n",
       "    .dataframe tbody tr th {\n",
       "        vertical-align: top;\n",
       "    }\n",
       "\n",
       "    .dataframe thead th {\n",
       "        text-align: right;\n",
       "    }\n",
       "</style>\n",
       "<table border=\"1\" class=\"dataframe\">\n",
       "  <thead>\n",
       "    <tr style=\"text-align: right;\">\n",
       "      <th></th>\n",
       "      <th>reviewText</th>\n",
       "      <th>sentiment</th>\n",
       "      <th>word_count</th>\n",
       "      <th>review_len</th>\n",
       "      <th>cleaned_text</th>\n",
       "      <th>cleaned_word_count</th>\n",
       "      <th>cleaned_review_len</th>\n",
       "    </tr>\n",
       "  </thead>\n",
       "  <tbody>\n",
       "    <tr>\n",
       "      <th>2861</th>\n",
       "      <td>http://www.amazon.com/gp/product/B00004ZCJL?re...</td>\n",
       "      <td>1</td>\n",
       "      <td>7</td>\n",
       "      <td>87</td>\n",
       "      <td></td>\n",
       "      <td>0</td>\n",
       "      <td>0</td>\n",
       "    </tr>\n",
       "    <tr>\n",
       "      <th>3240</th>\n",
       "      <td>1</td>\n",
       "      <td>1</td>\n",
       "      <td>1</td>\n",
       "      <td>1</td>\n",
       "      <td></td>\n",
       "      <td>0</td>\n",
       "      <td>0</td>\n",
       "    </tr>\n",
       "    <tr>\n",
       "      <th>3741</th>\n",
       "      <td>:)</td>\n",
       "      <td>1</td>\n",
       "      <td>2</td>\n",
       "      <td>2</td>\n",
       "      <td></td>\n",
       "      <td>0</td>\n",
       "      <td>0</td>\n",
       "    </tr>\n",
       "    <tr>\n",
       "      <th>6846</th>\n",
       "      <td>:-)</td>\n",
       "      <td>1</td>\n",
       "      <td>3</td>\n",
       "      <td>3</td>\n",
       "      <td></td>\n",
       "      <td>0</td>\n",
       "      <td>0</td>\n",
       "    </tr>\n",
       "    <tr>\n",
       "      <th>7307</th>\n",
       "      <td>&lt;div id=\"video-block-R2PX631O5HPURN\" class=\"a-...</td>\n",
       "      <td>1</td>\n",
       "      <td>57</td>\n",
       "      <td>345</td>\n",
       "      <td></td>\n",
       "      <td>0</td>\n",
       "      <td>0</td>\n",
       "    </tr>\n",
       "    <tr>\n",
       "      <th>8645</th>\n",
       "      <td>:)</td>\n",
       "      <td>1</td>\n",
       "      <td>2</td>\n",
       "      <td>2</td>\n",
       "      <td></td>\n",
       "      <td>0</td>\n",
       "      <td>0</td>\n",
       "    </tr>\n",
       "    <tr>\n",
       "      <th>10734</th>\n",
       "      <td>5*</td>\n",
       "      <td>1</td>\n",
       "      <td>2</td>\n",
       "      <td>2</td>\n",
       "      <td></td>\n",
       "      <td>0</td>\n",
       "      <td>0</td>\n",
       "    </tr>\n",
       "    <tr>\n",
       "      <th>10939</th>\n",
       "      <td>1</td>\n",
       "      <td>1</td>\n",
       "      <td>1</td>\n",
       "      <td>1</td>\n",
       "      <td></td>\n",
       "      <td>0</td>\n",
       "      <td>0</td>\n",
       "    </tr>\n",
       "    <tr>\n",
       "      <th>21917</th>\n",
       "      <td>&lt;div id=\"video-block-R3DCQ06IJNU0M2\" class=\"a-...</td>\n",
       "      <td>0</td>\n",
       "      <td>57</td>\n",
       "      <td>345</td>\n",
       "      <td></td>\n",
       "      <td>0</td>\n",
       "      <td>0</td>\n",
       "    </tr>\n",
       "    <tr>\n",
       "      <th>27020</th>\n",
       "      <td>:)</td>\n",
       "      <td>1</td>\n",
       "      <td>2</td>\n",
       "      <td>2</td>\n",
       "      <td></td>\n",
       "      <td>0</td>\n",
       "      <td>0</td>\n",
       "    </tr>\n",
       "    <tr>\n",
       "      <th>29368</th>\n",
       "      <td>http://www.amazon.com/PanaVise-209-Vacuum-Base...</td>\n",
       "      <td>1</td>\n",
       "      <td>3</td>\n",
       "      <td>63</td>\n",
       "      <td></td>\n",
       "      <td>0</td>\n",
       "      <td>0</td>\n",
       "    </tr>\n",
       "    <tr>\n",
       "      <th>29583</th>\n",
       "      <td>+1</td>\n",
       "      <td>1</td>\n",
       "      <td>1</td>\n",
       "      <td>2</td>\n",
       "      <td></td>\n",
       "      <td>0</td>\n",
       "      <td>0</td>\n",
       "    </tr>\n",
       "    <tr>\n",
       "      <th>32995</th>\n",
       "      <td>:)</td>\n",
       "      <td>1</td>\n",
       "      <td>2</td>\n",
       "      <td>2</td>\n",
       "      <td></td>\n",
       "      <td>0</td>\n",
       "      <td>0</td>\n",
       "    </tr>\n",
       "    <tr>\n",
       "      <th>33217</th>\n",
       "      <td>&lt;3</td>\n",
       "      <td>1</td>\n",
       "      <td>2</td>\n",
       "      <td>2</td>\n",
       "      <td></td>\n",
       "      <td>0</td>\n",
       "      <td>0</td>\n",
       "    </tr>\n",
       "    <tr>\n",
       "      <th>36867</th>\n",
       "      <td>100%</td>\n",
       "      <td>1</td>\n",
       "      <td>2</td>\n",
       "      <td>4</td>\n",
       "      <td></td>\n",
       "      <td>0</td>\n",
       "      <td>0</td>\n",
       "    </tr>\n",
       "    <tr>\n",
       "      <th>37044</th>\n",
       "      <td>5*</td>\n",
       "      <td>1</td>\n",
       "      <td>2</td>\n",
       "      <td>2</td>\n",
       "      <td></td>\n",
       "      <td>0</td>\n",
       "      <td>0</td>\n",
       "    </tr>\n",
       "    <tr>\n",
       "      <th>39569</th>\n",
       "      <td>http://www.amazon.com/gp/product/B004C9PKTG?re...</td>\n",
       "      <td>1</td>\n",
       "      <td>7</td>\n",
       "      <td>87</td>\n",
       "      <td></td>\n",
       "      <td>0</td>\n",
       "      <td>0</td>\n",
       "    </tr>\n",
       "    <tr>\n",
       "      <th>45980</th>\n",
       "      <td>100%</td>\n",
       "      <td>1</td>\n",
       "      <td>2</td>\n",
       "      <td>4</td>\n",
       "      <td></td>\n",
       "      <td>0</td>\n",
       "      <td>0</td>\n",
       "    </tr>\n",
       "    <tr>\n",
       "      <th>56098</th>\n",
       "      <td>1</td>\n",
       "      <td>1</td>\n",
       "      <td>1</td>\n",
       "      <td>1</td>\n",
       "      <td></td>\n",
       "      <td>0</td>\n",
       "      <td>0</td>\n",
       "    </tr>\n",
       "    <tr>\n",
       "      <th>56348</th>\n",
       "      <td>(^_^)</td>\n",
       "      <td>1</td>\n",
       "      <td>3</td>\n",
       "      <td>5</td>\n",
       "      <td></td>\n",
       "      <td>0</td>\n",
       "      <td>0</td>\n",
       "    </tr>\n",
       "    <tr>\n",
       "      <th>59175</th>\n",
       "      <td>:)</td>\n",
       "      <td>1</td>\n",
       "      <td>2</td>\n",
       "      <td>2</td>\n",
       "      <td></td>\n",
       "      <td>0</td>\n",
       "      <td>0</td>\n",
       "    </tr>\n",
       "    <tr>\n",
       "      <th>59581</th>\n",
       "      <td>;-)</td>\n",
       "      <td>1</td>\n",
       "      <td>3</td>\n",
       "      <td>3</td>\n",
       "      <td></td>\n",
       "      <td>0</td>\n",
       "      <td>0</td>\n",
       "    </tr>\n",
       "    <tr>\n",
       "      <th>60498</th>\n",
       "      <td>:)</td>\n",
       "      <td>1</td>\n",
       "      <td>2</td>\n",
       "      <td>2</td>\n",
       "      <td></td>\n",
       "      <td>0</td>\n",
       "      <td>0</td>\n",
       "    </tr>\n",
       "    <tr>\n",
       "      <th>62877</th>\n",
       "      <td>.</td>\n",
       "      <td>1</td>\n",
       "      <td>1</td>\n",
       "      <td>1</td>\n",
       "      <td></td>\n",
       "      <td>0</td>\n",
       "      <td>0</td>\n",
       "    </tr>\n",
       "    <tr>\n",
       "      <th>63197</th>\n",
       "      <td>:)</td>\n",
       "      <td>1</td>\n",
       "      <td>2</td>\n",
       "      <td>2</td>\n",
       "      <td></td>\n",
       "      <td>0</td>\n",
       "      <td>0</td>\n",
       "    </tr>\n",
       "    <tr>\n",
       "      <th>67262</th>\n",
       "      <td>100%</td>\n",
       "      <td>1</td>\n",
       "      <td>2</td>\n",
       "      <td>4</td>\n",
       "      <td></td>\n",
       "      <td>0</td>\n",
       "      <td>0</td>\n",
       "    </tr>\n",
       "    <tr>\n",
       "      <th>69726</th>\n",
       "      <td>https://www.amazon.com/dp/B005FHZ2SI/ref=cm_cr...</td>\n",
       "      <td>1</td>\n",
       "      <td>3</td>\n",
       "      <td>65</td>\n",
       "      <td></td>\n",
       "      <td>0</td>\n",
       "      <td>0</td>\n",
       "    </tr>\n",
       "    <tr>\n",
       "      <th>70721</th>\n",
       "      <td>1</td>\n",
       "      <td>1</td>\n",
       "      <td>1</td>\n",
       "      <td>1</td>\n",
       "      <td></td>\n",
       "      <td>0</td>\n",
       "      <td>0</td>\n",
       "    </tr>\n",
       "    <tr>\n",
       "      <th>76311</th>\n",
       "      <td>1</td>\n",
       "      <td>1</td>\n",
       "      <td>1</td>\n",
       "      <td>1</td>\n",
       "      <td></td>\n",
       "      <td>0</td>\n",
       "      <td>0</td>\n",
       "    </tr>\n",
       "    <tr>\n",
       "      <th>79931</th>\n",
       "      <td>1</td>\n",
       "      <td>1</td>\n",
       "      <td>1</td>\n",
       "      <td>1</td>\n",
       "      <td></td>\n",
       "      <td>0</td>\n",
       "      <td>0</td>\n",
       "    </tr>\n",
       "    <tr>\n",
       "      <th>85532</th>\n",
       "      <td>:)</td>\n",
       "      <td>1</td>\n",
       "      <td>2</td>\n",
       "      <td>2</td>\n",
       "      <td></td>\n",
       "      <td>0</td>\n",
       "      <td>0</td>\n",
       "    </tr>\n",
       "    <tr>\n",
       "      <th>87313</th>\n",
       "      <td>1</td>\n",
       "      <td>1</td>\n",
       "      <td>1</td>\n",
       "      <td>1</td>\n",
       "      <td></td>\n",
       "      <td>0</td>\n",
       "      <td>0</td>\n",
       "    </tr>\n",
       "    <tr>\n",
       "      <th>91053</th>\n",
       "      <td>.</td>\n",
       "      <td>1</td>\n",
       "      <td>1</td>\n",
       "      <td>1</td>\n",
       "      <td></td>\n",
       "      <td>0</td>\n",
       "      <td>0</td>\n",
       "    </tr>\n",
       "    <tr>\n",
       "      <th>91254</th>\n",
       "      <td>;)</td>\n",
       "      <td>1</td>\n",
       "      <td>2</td>\n",
       "      <td>2</td>\n",
       "      <td></td>\n",
       "      <td>0</td>\n",
       "      <td>0</td>\n",
       "    </tr>\n",
       "    <tr>\n",
       "      <th>91313</th>\n",
       "      <td>:)</td>\n",
       "      <td>1</td>\n",
       "      <td>2</td>\n",
       "      <td>2</td>\n",
       "      <td></td>\n",
       "      <td>0</td>\n",
       "      <td>0</td>\n",
       "    </tr>\n",
       "    <tr>\n",
       "      <th>91547</th>\n",
       "      <td>:)</td>\n",
       "      <td>1</td>\n",
       "      <td>2</td>\n",
       "      <td>2</td>\n",
       "      <td></td>\n",
       "      <td>0</td>\n",
       "      <td>0</td>\n",
       "    </tr>\n",
       "    <tr>\n",
       "      <th>92176</th>\n",
       "      <td>:)</td>\n",
       "      <td>1</td>\n",
       "      <td>2</td>\n",
       "      <td>2</td>\n",
       "      <td></td>\n",
       "      <td>0</td>\n",
       "      <td>0</td>\n",
       "    </tr>\n",
       "    <tr>\n",
       "      <th>93363</th>\n",
       "      <td>:)</td>\n",
       "      <td>1</td>\n",
       "      <td>2</td>\n",
       "      <td>2</td>\n",
       "      <td></td>\n",
       "      <td>0</td>\n",
       "      <td>0</td>\n",
       "    </tr>\n",
       "    <tr>\n",
       "      <th>96575</th>\n",
       "      <td>100%</td>\n",
       "      <td>1</td>\n",
       "      <td>2</td>\n",
       "      <td>4</td>\n",
       "      <td></td>\n",
       "      <td>0</td>\n",
       "      <td>0</td>\n",
       "    </tr>\n",
       "    <tr>\n",
       "      <th>97716</th>\n",
       "      <td>:)</td>\n",
       "      <td>1</td>\n",
       "      <td>2</td>\n",
       "      <td>2</td>\n",
       "      <td></td>\n",
       "      <td>0</td>\n",
       "      <td>0</td>\n",
       "    </tr>\n",
       "    <tr>\n",
       "      <th>97859</th>\n",
       "      <td>https://www.amazon.com/dp/B00LLM3Z0S/ref=cm_cr...</td>\n",
       "      <td>0</td>\n",
       "      <td>3</td>\n",
       "      <td>65</td>\n",
       "      <td></td>\n",
       "      <td>0</td>\n",
       "      <td>0</td>\n",
       "    </tr>\n",
       "    <tr>\n",
       "      <th>101631</th>\n",
       "      <td>100%</td>\n",
       "      <td>1</td>\n",
       "      <td>2</td>\n",
       "      <td>4</td>\n",
       "      <td></td>\n",
       "      <td>0</td>\n",
       "      <td>0</td>\n",
       "    </tr>\n",
       "    <tr>\n",
       "      <th>103980</th>\n",
       "      <td>:)</td>\n",
       "      <td>1</td>\n",
       "      <td>2</td>\n",
       "      <td>2</td>\n",
       "      <td></td>\n",
       "      <td>0</td>\n",
       "      <td>0</td>\n",
       "    </tr>\n",
       "    <tr>\n",
       "      <th>105930</th>\n",
       "      <td>10/10</td>\n",
       "      <td>1</td>\n",
       "      <td>1</td>\n",
       "      <td>5</td>\n",
       "      <td></td>\n",
       "      <td>0</td>\n",
       "      <td>0</td>\n",
       "    </tr>\n",
       "    <tr>\n",
       "      <th>106964</th>\n",
       "      <td>https://www.amazon.com/dp/B0147RX0NU/ref=cm_sw...</td>\n",
       "      <td>1</td>\n",
       "      <td>5</td>\n",
       "      <td>131</td>\n",
       "      <td></td>\n",
       "      <td>0</td>\n",
       "      <td>0</td>\n",
       "    </tr>\n",
       "    <tr>\n",
       "      <th>110613</th>\n",
       "      <td>:)</td>\n",
       "      <td>1</td>\n",
       "      <td>2</td>\n",
       "      <td>2</td>\n",
       "      <td></td>\n",
       "      <td>0</td>\n",
       "      <td>0</td>\n",
       "    </tr>\n",
       "    <tr>\n",
       "      <th>113783</th>\n",
       "      <td>&lt;div id=\"video-block-R3PCRU0UBOMWJQ\" class=\"a-...</td>\n",
       "      <td>1</td>\n",
       "      <td>59</td>\n",
       "      <td>347</td>\n",
       "      <td></td>\n",
       "      <td>0</td>\n",
       "      <td>0</td>\n",
       "    </tr>\n",
       "    <tr>\n",
       "      <th>114959</th>\n",
       "      <td>:)</td>\n",
       "      <td>1</td>\n",
       "      <td>2</td>\n",
       "      <td>2</td>\n",
       "      <td></td>\n",
       "      <td>0</td>\n",
       "      <td>0</td>\n",
       "    </tr>\n",
       "    <tr>\n",
       "      <th>120565</th>\n",
       "      <td>5+++++</td>\n",
       "      <td>1</td>\n",
       "      <td>1</td>\n",
       "      <td>6</td>\n",
       "      <td></td>\n",
       "      <td>0</td>\n",
       "      <td>0</td>\n",
       "    </tr>\n",
       "    <tr>\n",
       "      <th>122800</th>\n",
       "      <td>5+++++</td>\n",
       "      <td>1</td>\n",
       "      <td>1</td>\n",
       "      <td>6</td>\n",
       "      <td></td>\n",
       "      <td>0</td>\n",
       "      <td>0</td>\n",
       "    </tr>\n",
       "    <tr>\n",
       "      <th>123848</th>\n",
       "      <td>5+++++</td>\n",
       "      <td>1</td>\n",
       "      <td>1</td>\n",
       "      <td>6</td>\n",
       "      <td></td>\n",
       "      <td>0</td>\n",
       "      <td>0</td>\n",
       "    </tr>\n",
       "    <tr>\n",
       "      <th>126394</th>\n",
       "      <td>1</td>\n",
       "      <td>1</td>\n",
       "      <td>1</td>\n",
       "      <td>1</td>\n",
       "      <td></td>\n",
       "      <td>0</td>\n",
       "      <td>0</td>\n",
       "    </tr>\n",
       "    <tr>\n",
       "      <th>127947</th>\n",
       "      <td>:]</td>\n",
       "      <td>1</td>\n",
       "      <td>2</td>\n",
       "      <td>2</td>\n",
       "      <td></td>\n",
       "      <td>0</td>\n",
       "      <td>0</td>\n",
       "    </tr>\n",
       "  </tbody>\n",
       "</table>\n",
       "</div>"
      ],
      "text/plain": [
       "                                               reviewText  sentiment  \\\n",
       "2861    http://www.amazon.com/gp/product/B00004ZCJL?re...          1   \n",
       "3240                                                    1          1   \n",
       "3741                                                   :)          1   \n",
       "6846                                                  :-)          1   \n",
       "7307    <div id=\"video-block-R2PX631O5HPURN\" class=\"a-...          1   \n",
       "8645                                                   :)          1   \n",
       "10734                                                  5*          1   \n",
       "10939                                                   1          1   \n",
       "21917   <div id=\"video-block-R3DCQ06IJNU0M2\" class=\"a-...          0   \n",
       "27020                                                  :)          1   \n",
       "29368   http://www.amazon.com/PanaVise-209-Vacuum-Base...          1   \n",
       "29583                                                  +1          1   \n",
       "32995                                                  :)          1   \n",
       "33217                                                  <3          1   \n",
       "36867                                                100%          1   \n",
       "37044                                                  5*          1   \n",
       "39569   http://www.amazon.com/gp/product/B004C9PKTG?re...          1   \n",
       "45980                                                100%          1   \n",
       "56098                                                   1          1   \n",
       "56348                                               (^_^)          1   \n",
       "59175                                                  :)          1   \n",
       "59581                                                 ;-)          1   \n",
       "60498                                                  :)          1   \n",
       "62877                                                   .          1   \n",
       "63197                                                  :)          1   \n",
       "67262                                                100%          1   \n",
       "69726   https://www.amazon.com/dp/B005FHZ2SI/ref=cm_cr...          1   \n",
       "70721                                                   1          1   \n",
       "76311                                                   1          1   \n",
       "79931                                                   1          1   \n",
       "85532                                                  :)          1   \n",
       "87313                                                   1          1   \n",
       "91053                                                   .          1   \n",
       "91254                                                  ;)          1   \n",
       "91313                                                  :)          1   \n",
       "91547                                                  :)          1   \n",
       "92176                                                  :)          1   \n",
       "93363                                                  :)          1   \n",
       "96575                                                100%          1   \n",
       "97716                                                  :)          1   \n",
       "97859   https://www.amazon.com/dp/B00LLM3Z0S/ref=cm_cr...          0   \n",
       "101631                                               100%          1   \n",
       "103980                                                 :)          1   \n",
       "105930                                              10/10          1   \n",
       "106964  https://www.amazon.com/dp/B0147RX0NU/ref=cm_sw...          1   \n",
       "110613                                                 :)          1   \n",
       "113783  <div id=\"video-block-R3PCRU0UBOMWJQ\" class=\"a-...          1   \n",
       "114959                                                 :)          1   \n",
       "120565                                             5+++++          1   \n",
       "122800                                             5+++++          1   \n",
       "123848                                             5+++++          1   \n",
       "126394                                                  1          1   \n",
       "127947                                                 :]          1   \n",
       "\n",
       "        word_count  review_len cleaned_text  cleaned_word_count  \\\n",
       "2861             7          87                                0   \n",
       "3240             1           1                                0   \n",
       "3741             2           2                                0   \n",
       "6846             3           3                                0   \n",
       "7307            57         345                                0   \n",
       "8645             2           2                                0   \n",
       "10734            2           2                                0   \n",
       "10939            1           1                                0   \n",
       "21917           57         345                                0   \n",
       "27020            2           2                                0   \n",
       "29368            3          63                                0   \n",
       "29583            1           2                                0   \n",
       "32995            2           2                                0   \n",
       "33217            2           2                                0   \n",
       "36867            2           4                                0   \n",
       "37044            2           2                                0   \n",
       "39569            7          87                                0   \n",
       "45980            2           4                                0   \n",
       "56098            1           1                                0   \n",
       "56348            3           5                                0   \n",
       "59175            2           2                                0   \n",
       "59581            3           3                                0   \n",
       "60498            2           2                                0   \n",
       "62877            1           1                                0   \n",
       "63197            2           2                                0   \n",
       "67262            2           4                                0   \n",
       "69726            3          65                                0   \n",
       "70721            1           1                                0   \n",
       "76311            1           1                                0   \n",
       "79931            1           1                                0   \n",
       "85532            2           2                                0   \n",
       "87313            1           1                                0   \n",
       "91053            1           1                                0   \n",
       "91254            2           2                                0   \n",
       "91313            2           2                                0   \n",
       "91547            2           2                                0   \n",
       "92176            2           2                                0   \n",
       "93363            2           2                                0   \n",
       "96575            2           4                                0   \n",
       "97716            2           2                                0   \n",
       "97859            3          65                                0   \n",
       "101631           2           4                                0   \n",
       "103980           2           2                                0   \n",
       "105930           1           5                                0   \n",
       "106964           5         131                                0   \n",
       "110613           2           2                                0   \n",
       "113783          59         347                                0   \n",
       "114959           2           2                                0   \n",
       "120565           1           6                                0   \n",
       "122800           1           6                                0   \n",
       "123848           1           6                                0   \n",
       "126394           1           1                                0   \n",
       "127947           2           2                                0   \n",
       "\n",
       "        cleaned_review_len  \n",
       "2861                     0  \n",
       "3240                     0  \n",
       "3741                     0  \n",
       "6846                     0  \n",
       "7307                     0  \n",
       "8645                     0  \n",
       "10734                    0  \n",
       "10939                    0  \n",
       "21917                    0  \n",
       "27020                    0  \n",
       "29368                    0  \n",
       "29583                    0  \n",
       "32995                    0  \n",
       "33217                    0  \n",
       "36867                    0  \n",
       "37044                    0  \n",
       "39569                    0  \n",
       "45980                    0  \n",
       "56098                    0  \n",
       "56348                    0  \n",
       "59175                    0  \n",
       "59581                    0  \n",
       "60498                    0  \n",
       "62877                    0  \n",
       "63197                    0  \n",
       "67262                    0  \n",
       "69726                    0  \n",
       "70721                    0  \n",
       "76311                    0  \n",
       "79931                    0  \n",
       "85532                    0  \n",
       "87313                    0  \n",
       "91053                    0  \n",
       "91254                    0  \n",
       "91313                    0  \n",
       "91547                    0  \n",
       "92176                    0  \n",
       "93363                    0  \n",
       "96575                    0  \n",
       "97716                    0  \n",
       "97859                    0  \n",
       "101631                   0  \n",
       "103980                   0  \n",
       "105930                   0  \n",
       "106964                   0  \n",
       "110613                   0  \n",
       "113783                   0  \n",
       "114959                   0  \n",
       "120565                   0  \n",
       "122800                   0  \n",
       "123848                   0  \n",
       "126394                   0  \n",
       "127947                   0  "
      ]
     },
     "execution_count": 83,
     "metadata": {},
     "output_type": "execute_result"
    }
   ],
   "source": [
    "text_stats_df[text_stats_df.cleaned_word_count == 0]"
   ]
  },
  {
   "cell_type": "code",
   "execution_count": 25,
   "metadata": {},
   "outputs": [],
   "source": [
    "data_df = text_stats_df[text_stats_df.cleaned_word_count >0].copy()"
   ]
  },
  {
   "cell_type": "code",
   "execution_count": null,
   "metadata": {},
   "outputs": [],
   "source": []
  },
  {
   "cell_type": "code",
   "execution_count": null,
   "metadata": {},
   "outputs": [],
   "source": [
    "data_df = text_stats_df.copy()"
   ]
  },
  {
   "cell_type": "code",
   "execution_count": null,
   "metadata": {},
   "outputs": [],
   "source": []
  },
  {
   "cell_type": "code",
   "execution_count": 26,
   "metadata": {},
   "outputs": [
    {
     "data": {
      "text/html": [
       "<div>\n",
       "<style scoped>\n",
       "    .dataframe tbody tr th:only-of-type {\n",
       "        vertical-align: middle;\n",
       "    }\n",
       "\n",
       "    .dataframe tbody tr th {\n",
       "        vertical-align: top;\n",
       "    }\n",
       "\n",
       "    .dataframe thead th {\n",
       "        text-align: right;\n",
       "    }\n",
       "</style>\n",
       "<table border=\"1\" class=\"dataframe\">\n",
       "  <thead>\n",
       "    <tr style=\"text-align: right;\">\n",
       "      <th></th>\n",
       "      <th>sentiment</th>\n",
       "      <th>word_count</th>\n",
       "      <th>review_len</th>\n",
       "      <th>cleaned_word_count</th>\n",
       "      <th>cleaned_review_len</th>\n",
       "    </tr>\n",
       "  </thead>\n",
       "  <tbody>\n",
       "    <tr>\n",
       "      <th>count</th>\n",
       "      <td>129497.000000</td>\n",
       "      <td>129497.000000</td>\n",
       "      <td>129497.000000</td>\n",
       "      <td>129497.000000</td>\n",
       "      <td>129497.000000</td>\n",
       "    </tr>\n",
       "    <tr>\n",
       "      <th>mean</th>\n",
       "      <td>0.845703</td>\n",
       "      <td>65.537866</td>\n",
       "      <td>252.643969</td>\n",
       "      <td>56.520097</td>\n",
       "      <td>237.812320</td>\n",
       "    </tr>\n",
       "    <tr>\n",
       "      <th>std</th>\n",
       "      <td>0.361235</td>\n",
       "      <td>112.088937</td>\n",
       "      <td>439.644089</td>\n",
       "      <td>95.443963</td>\n",
       "      <td>405.656583</td>\n",
       "    </tr>\n",
       "    <tr>\n",
       "      <th>min</th>\n",
       "      <td>0.000000</td>\n",
       "      <td>1.000000</td>\n",
       "      <td>1.000000</td>\n",
       "      <td>1.000000</td>\n",
       "      <td>1.000000</td>\n",
       "    </tr>\n",
       "    <tr>\n",
       "      <th>25%</th>\n",
       "      <td>1.000000</td>\n",
       "      <td>12.000000</td>\n",
       "      <td>47.000000</td>\n",
       "      <td>10.000000</td>\n",
       "      <td>44.000000</td>\n",
       "    </tr>\n",
       "    <tr>\n",
       "      <th>50%</th>\n",
       "      <td>1.000000</td>\n",
       "      <td>32.000000</td>\n",
       "      <td>123.000000</td>\n",
       "      <td>28.000000</td>\n",
       "      <td>117.000000</td>\n",
       "    </tr>\n",
       "    <tr>\n",
       "      <th>75%</th>\n",
       "      <td>1.000000</td>\n",
       "      <td>73.000000</td>\n",
       "      <td>280.000000</td>\n",
       "      <td>64.000000</td>\n",
       "      <td>266.000000</td>\n",
       "    </tr>\n",
       "    <tr>\n",
       "      <th>max</th>\n",
       "      <td>1.000000</td>\n",
       "      <td>4349.000000</td>\n",
       "      <td>18237.000000</td>\n",
       "      <td>3399.000000</td>\n",
       "      <td>15112.000000</td>\n",
       "    </tr>\n",
       "  </tbody>\n",
       "</table>\n",
       "</div>"
      ],
      "text/plain": [
       "           sentiment     word_count     review_len  cleaned_word_count  \\\n",
       "count  129497.000000  129497.000000  129497.000000       129497.000000   \n",
       "mean        0.845703      65.537866     252.643969           56.520097   \n",
       "std         0.361235     112.088937     439.644089           95.443963   \n",
       "min         0.000000       1.000000       1.000000            1.000000   \n",
       "25%         1.000000      12.000000      47.000000           10.000000   \n",
       "50%         1.000000      32.000000     123.000000           28.000000   \n",
       "75%         1.000000      73.000000     280.000000           64.000000   \n",
       "max         1.000000    4349.000000   18237.000000         3399.000000   \n",
       "\n",
       "       cleaned_review_len  \n",
       "count       129497.000000  \n",
       "mean           237.812320  \n",
       "std            405.656583  \n",
       "min              1.000000  \n",
       "25%             44.000000  \n",
       "50%            117.000000  \n",
       "75%            266.000000  \n",
       "max          15112.000000  "
      ]
     },
     "execution_count": 26,
     "metadata": {},
     "output_type": "execute_result"
    }
   ],
   "source": [
    "data_df.describe()"
   ]
  },
  {
   "cell_type": "code",
   "execution_count": 27,
   "metadata": {},
   "outputs": [],
   "source": [
    "stop_words = set(stopwords.words('english'))"
   ]
  },
  {
   "cell_type": "code",
   "execution_count": null,
   "metadata": {},
   "outputs": [],
   "source": [
    "# edit stop words?\n",
    "stop_words = set(nlp.Defaults.stop_words)"
   ]
  },
  {
   "cell_type": "code",
   "execution_count": 28,
   "metadata": {},
   "outputs": [],
   "source": [
    "def count_stop_words(text):\n",
    "    # Tokenize the text into words\n",
    "    words = word_tokenize(text)\n",
    "\n",
    "    # Convert the stop words set to lower case\n",
    "    stop_words_lower = set([word.lower() for word in stop_words])\n",
    "\n",
    "    # Count the number of stop words in the text using set intersection\n",
    "    stop_word_count = len(set(words).intersection(stop_words_lower))\n",
    "\n",
    "    return stop_word_count"
   ]
  },
  {
   "cell_type": "code",
   "execution_count": 29,
   "metadata": {},
   "outputs": [],
   "source": [
    "data_df['cleaned_sw_count'] = data_df.cleaned_text.apply(lambda x: count_stop_words(x))"
   ]
  },
  {
   "cell_type": "code",
   "execution_count": 30,
   "metadata": {},
   "outputs": [
    {
     "data": {
      "text/html": [
       "<div>\n",
       "<style scoped>\n",
       "    .dataframe tbody tr th:only-of-type {\n",
       "        vertical-align: middle;\n",
       "    }\n",
       "\n",
       "    .dataframe tbody tr th {\n",
       "        vertical-align: top;\n",
       "    }\n",
       "\n",
       "    .dataframe thead th {\n",
       "        text-align: right;\n",
       "    }\n",
       "</style>\n",
       "<table border=\"1\" class=\"dataframe\">\n",
       "  <thead>\n",
       "    <tr style=\"text-align: right;\">\n",
       "      <th></th>\n",
       "      <th>sentiment</th>\n",
       "      <th>word_count</th>\n",
       "      <th>review_len</th>\n",
       "      <th>cleaned_word_count</th>\n",
       "      <th>cleaned_review_len</th>\n",
       "      <th>cleaned_sw_count</th>\n",
       "    </tr>\n",
       "  </thead>\n",
       "  <tbody>\n",
       "    <tr>\n",
       "      <th>count</th>\n",
       "      <td>129497.000000</td>\n",
       "      <td>129497.000000</td>\n",
       "      <td>129497.000000</td>\n",
       "      <td>129497.000000</td>\n",
       "      <td>129497.000000</td>\n",
       "      <td>129497.000000</td>\n",
       "    </tr>\n",
       "    <tr>\n",
       "      <th>mean</th>\n",
       "      <td>0.845703</td>\n",
       "      <td>65.537866</td>\n",
       "      <td>252.643969</td>\n",
       "      <td>56.520097</td>\n",
       "      <td>237.812320</td>\n",
       "      <td>13.985081</td>\n",
       "    </tr>\n",
       "    <tr>\n",
       "      <th>std</th>\n",
       "      <td>0.361235</td>\n",
       "      <td>112.088937</td>\n",
       "      <td>439.644089</td>\n",
       "      <td>95.443963</td>\n",
       "      <td>405.656583</td>\n",
       "      <td>13.018421</td>\n",
       "    </tr>\n",
       "    <tr>\n",
       "      <th>min</th>\n",
       "      <td>0.000000</td>\n",
       "      <td>1.000000</td>\n",
       "      <td>1.000000</td>\n",
       "      <td>1.000000</td>\n",
       "      <td>1.000000</td>\n",
       "      <td>0.000000</td>\n",
       "    </tr>\n",
       "    <tr>\n",
       "      <th>25%</th>\n",
       "      <td>1.000000</td>\n",
       "      <td>12.000000</td>\n",
       "      <td>47.000000</td>\n",
       "      <td>10.000000</td>\n",
       "      <td>44.000000</td>\n",
       "      <td>4.000000</td>\n",
       "    </tr>\n",
       "    <tr>\n",
       "      <th>50%</th>\n",
       "      <td>1.000000</td>\n",
       "      <td>32.000000</td>\n",
       "      <td>123.000000</td>\n",
       "      <td>28.000000</td>\n",
       "      <td>117.000000</td>\n",
       "      <td>11.000000</td>\n",
       "    </tr>\n",
       "    <tr>\n",
       "      <th>75%</th>\n",
       "      <td>1.000000</td>\n",
       "      <td>73.000000</td>\n",
       "      <td>280.000000</td>\n",
       "      <td>64.000000</td>\n",
       "      <td>266.000000</td>\n",
       "      <td>20.000000</td>\n",
       "    </tr>\n",
       "    <tr>\n",
       "      <th>max</th>\n",
       "      <td>1.000000</td>\n",
       "      <td>4349.000000</td>\n",
       "      <td>18237.000000</td>\n",
       "      <td>3399.000000</td>\n",
       "      <td>15112.000000</td>\n",
       "      <td>103.000000</td>\n",
       "    </tr>\n",
       "  </tbody>\n",
       "</table>\n",
       "</div>"
      ],
      "text/plain": [
       "           sentiment     word_count     review_len  cleaned_word_count  \\\n",
       "count  129497.000000  129497.000000  129497.000000       129497.000000   \n",
       "mean        0.845703      65.537866     252.643969           56.520097   \n",
       "std         0.361235     112.088937     439.644089           95.443963   \n",
       "min         0.000000       1.000000       1.000000            1.000000   \n",
       "25%         1.000000      12.000000      47.000000           10.000000   \n",
       "50%         1.000000      32.000000     123.000000           28.000000   \n",
       "75%         1.000000      73.000000     280.000000           64.000000   \n",
       "max         1.000000    4349.000000   18237.000000         3399.000000   \n",
       "\n",
       "       cleaned_review_len  cleaned_sw_count  \n",
       "count       129497.000000     129497.000000  \n",
       "mean           237.812320         13.985081  \n",
       "std            405.656583         13.018421  \n",
       "min              1.000000          0.000000  \n",
       "25%             44.000000          4.000000  \n",
       "50%            117.000000         11.000000  \n",
       "75%            266.000000         20.000000  \n",
       "max          15112.000000        103.000000  "
      ]
     },
     "execution_count": 30,
     "metadata": {},
     "output_type": "execute_result"
    }
   ],
   "source": [
    "data_df.describe()"
   ]
  },
  {
   "cell_type": "code",
   "execution_count": null,
   "metadata": {},
   "outputs": [],
   "source": [
    "cv = CountVectorizer(min_df = 10, ngram_range = (3,3), stop_words = stop_words)\n",
    "cv.fit_transform(data_df.cleaned_text)\n"
   ]
  },
  {
   "cell_type": "code",
   "execution_count": null,
   "metadata": {},
   "outputs": [],
   "source": []
  },
  {
   "cell_type": "code",
   "execution_count": 67,
   "metadata": {},
   "outputs": [
    {
     "name": "stdout",
     "output_type": "stream",
     "text": [
      "{'its', 'over', 'say', 'behind', 'though', 'twenty', 'off', 'your', 'whole', 'only', 'among', 'already', 'hers', 'next', 'together', 'more', 'is', 'used', 'whereupon', 'below', 'down', 'yourself', 'nor', 'also', 'elsewhere', 'once', 'if', '‘d', 'around', 'would', 'because', 'along', 'myself', 'this', 'take', 'five', 'twelve', 'forty', 'during', 'whatever', 'yourselves', 'whence', 'several', 'through', 'as', 'above', 'under', 'do', 'less', 'ourselves', 'make', 'other', 'into', 'their', 'thereafter', 'someone', 'moreover', 'to', 'please', 'there', 'eight', 'become', 'must', 'us', 'nobody', 'not', 'various', 'anywhere', 'here', 'about', 'four', 'who', 'for', 'everything', 'neither', 'none', 'ten', 'whereas', 'will', 'nevertheless', 'throughout', 'besides', 'just', 'fifteen', 'being', 'part', 'had', 'seems', \"'m\", 'call', 'former', 'put', '‘ve', 'anyway', 'now', 'she', 'name', 'per', 'out', 'against', 'mine', 'seeming', 'made', 'ever', 'any', 'another', '‘ll', 'others', 'been', 'six', 'third', 'few', 'ca', 'and', 'so', 'does', 'where', 'beforehand', 'first', 'regarding', \"'ll\", 'n’t', 'show', '‘s', 'latterly', 'became', 'further', '’m', 'often', 'last', 'did', 'in', 'than', 'himself', 'indeed', 'whither', 'same', 'mostly', 'an', 'nine', 'whether', 'can', 'while', 'these', 'eleven', 'fifty', 'am', 'until', \"'ve\", 'you', 'the', 'somehow', 'most', 'some', 'keep', 'hereafter', 'both', 'or', 'three', 'hereupon', 'onto', 'him', 'i', 'our', 'they', 'own', 'wherever', 'are', 'well', 'two', 'again', 'herself', 'noone', 'otherwise', 'empty', 'why', 'one', 'beyond', 'either', 'on', 'give', 'we', 'sometimes', 'thereby', 'anyone', 'whose', 'seemed', 'almost', 'across', 'quite', 'that', 'else', 'due', 'latter', \"'d\", 'back', 'doing', 'amount', '‘re', 'anything', 'very', 'alone', 'without', 'nowhere', 'front', 'all', 'via', 'toward', \"'re\", 'becoming', 'afterwards', 'thus', 'bottom', 'formerly', 'however', 'cannot', 'between', 'top', 'least', 'of', 'after', 'n‘t', 'thru', 'within', 'was', 'becomes', 'itself', 'yet', '’ll', 'from', 'never', 'upon', 'enough', 'how', 'then', '’ve', '’re', 'which', '‘m', 'me', 'side', 'were', 'everywhere', 'still', 'hence', 'meanwhile', 'be', 'perhaps', 'whereafter', 'herein', 'hereby', 'namely', 'move', 'since', 'a', 'has', 'towards', 'beside', 'therefore', 'hundred', 'thence', '’d', 'every', 'thereupon', 'themselves', 'them', 'whenever', 'except', 'something', 'may', 'unless', 'always', 'everyone', 'get', 'sixty', 'those', 'but', 'at', 'his', 'when', 'by', 'yours', 'full', 'my', 'could', 'somewhere', 'wherein', 'whom', 'nothing', 'sometime', '’s', 'therein', 'anyhow', 'it', 'he', 'should', 're', 'whereby', 'see', 'with', 'such', 'might', 'ours', \"n't\", 'seem', 'really', 'much', 'amongst', 'rather', 'each', 'even', 'before', 'using', 'have', 'done', \"'s\", 'her', 'whoever', 'up', 'no', 'what', 'many', 'go', 'although', 'serious', 'too'}\n"
     ]
    }
   ],
   "source": [
    "print(nlp.Defaults.stop_words)"
   ]
  },
  {
   "cell_type": "code",
   "execution_count": null,
   "metadata": {},
   "outputs": [],
   "source": []
  },
  {
   "cell_type": "code",
   "execution_count": null,
   "metadata": {},
   "outputs": [],
   "source": []
  },
  {
   "cell_type": "code",
   "execution_count": 31,
   "metadata": {},
   "outputs": [],
   "source": [
    "def top_words(text, n = None, ngram = (1,1), stop_words = None):\n",
    "    cv = CountVectorizer(ngram_range = ngram, stop_words = stop_words)\n",
    "    words = cv.fit_transform(text)\n",
    "    sum_words = words.sum(axis=0)\n",
    "    word_freq = [(word, sum_words[0, idx]) for word, idx in cv.vocabulary_.items()]\n",
    "    word_freq = sorted(word_freq, key=lambda x: x[1], reverse=True)\n",
    "    word_df = pd.DataFrame(word_freq, columns=['word', 'count'])\n",
    "    return word_df[:n]"
   ]
  },
  {
   "cell_type": "code",
   "execution_count": 32,
   "metadata": {},
   "outputs": [],
   "source": [
    "top30 = top_words(text = data_df.cleaned_text, n = 30)\n",
    "top30_sw = top_words(text = data_df.cleaned_text, n = 30, stop_words = stop_words)"
   ]
  },
  {
   "cell_type": "code",
   "execution_count": 33,
   "metadata": {},
   "outputs": [
    {
     "data": {
      "image/png": "[encoded data removed]",
      "text/plain": [
       "<Figure size 1080x720 with 2 Axes>"
      ]
     },
     "metadata": {
      "needs_background": "light"
     },
     "output_type": "display_data"
    }
   ],
   "source": [
    "fig, axs = plt.subplots(1, 2, figsize=(15,10))\n",
    "sns.barplot(data = top30, x = 'count', y = 'word', orient = 'h', ax = axs[0])\n",
    "sns.barplot(data = top30_sw, x = 'count', y = 'word', orient = 'h', ax = axs[1])\n",
    "axs[0].set_title('All words')\n",
    "axs[1].set_title('Stop Words Removed');"
   ]
  },
  {
   "cell_type": "code",
   "execution_count": 34,
   "metadata": {},
   "outputs": [],
   "source": [
    "top30_bigrams = top_words(text = data_df.cleaned_text, n = 30, ngram = (2,2))\n",
    "top30_bigrams_sw = top_words(text = data_df.cleaned_text, n = 30, ngram = (2,2), stop_words = stop_words)"
   ]
  },
  {
   "cell_type": "code",
   "execution_count": 35,
   "metadata": {},
   "outputs": [
    {
     "data": {
      "image/png": "[encoded data removed]",
      "text/plain": [
       "<Figure size 1080x720 with 2 Axes>"
      ]
     },
     "metadata": {
      "needs_background": "light"
     },
     "output_type": "display_data"
    }
   ],
   "source": [
    "fig, axs = plt.subplots(1, 2, figsize=(15,10))\n",
    "sns.barplot(data = top30_bigrams, x = 'count', y = 'word', orient = 'h', ax = axs[0])\n",
    "sns.barplot(data = top30_bigrams_sw, x = 'count', y = 'word', orient = 'h', ax = axs[1])\n",
    "axs[0].set_title('All words Bigrams')\n",
    "axs[1].set_title('Stop Words Removed Bigrams')\n",
    "fig.tight_layout();"
   ]
  },
  {
   "cell_type": "code",
   "execution_count": 36,
   "metadata": {},
   "outputs": [],
   "source": [
    "top30_trigrams = top_words(text = data_df.cleaned_text, n = 30, ngram = (3,3))\n",
    "top30_trigrams_sw = top_words(text = data_df.cleaned_text, n = 30, ngram = (3,3), stop_words = stop_words)"
   ]
  },
  {
   "cell_type": "code",
   "execution_count": 37,
   "metadata": {},
   "outputs": [
    {
     "data": {
      "image/png": "[encoded data removed]",
      "text/plain": [
       "<Figure size 1080x720 with 2 Axes>"
      ]
     },
     "metadata": {
      "needs_background": "light"
     },
     "output_type": "display_data"
    }
   ],
   "source": [
    "fig, axs = plt.subplots(1, 2, figsize=(15,10))\n",
    "sns.barplot(data = top30_trigrams, x = 'count', y = 'word', orient = 'h', ax = axs[0])\n",
    "sns.barplot(data = top30_trigrams_sw, x = 'count', y = 'word', orient = 'h', ax = axs[1])\n",
    "axs[0].set_title('All words Trigrams')\n",
    "axs[1].set_title('Stop Words Removed Trigrams')\n",
    "fig.tight_layout();"
   ]
  },
  {
   "cell_type": "code",
   "execution_count": 38,
   "metadata": {},
   "outputs": [
    {
     "data": {
      "text/html": [
       "<div>\n",
       "<style scoped>\n",
       "    .dataframe tbody tr th:only-of-type {\n",
       "        vertical-align: middle;\n",
       "    }\n",
       "\n",
       "    .dataframe tbody tr th {\n",
       "        vertical-align: top;\n",
       "    }\n",
       "\n",
       "    .dataframe thead th {\n",
       "        text-align: right;\n",
       "    }\n",
       "</style>\n",
       "<table border=\"1\" class=\"dataframe\">\n",
       "  <thead>\n",
       "    <tr style=\"text-align: right;\">\n",
       "      <th></th>\n",
       "      <th>sentiment</th>\n",
       "      <th>word_count</th>\n",
       "      <th>review_len</th>\n",
       "      <th>cleaned_word_count</th>\n",
       "      <th>cleaned_review_len</th>\n",
       "      <th>cleaned_sw_count</th>\n",
       "    </tr>\n",
       "  </thead>\n",
       "  <tbody>\n",
       "    <tr>\n",
       "      <th>count</th>\n",
       "      <td>129497.000000</td>\n",
       "      <td>129497.000000</td>\n",
       "      <td>129497.000000</td>\n",
       "      <td>129497.000000</td>\n",
       "      <td>129497.000000</td>\n",
       "      <td>129497.000000</td>\n",
       "    </tr>\n",
       "    <tr>\n",
       "      <th>mean</th>\n",
       "      <td>0.845703</td>\n",
       "      <td>65.537866</td>\n",
       "      <td>252.643969</td>\n",
       "      <td>56.520097</td>\n",
       "      <td>237.812320</td>\n",
       "      <td>13.985081</td>\n",
       "    </tr>\n",
       "    <tr>\n",
       "      <th>std</th>\n",
       "      <td>0.361235</td>\n",
       "      <td>112.088937</td>\n",
       "      <td>439.644089</td>\n",
       "      <td>95.443963</td>\n",
       "      <td>405.656583</td>\n",
       "      <td>13.018421</td>\n",
       "    </tr>\n",
       "    <tr>\n",
       "      <th>min</th>\n",
       "      <td>0.000000</td>\n",
       "      <td>1.000000</td>\n",
       "      <td>1.000000</td>\n",
       "      <td>1.000000</td>\n",
       "      <td>1.000000</td>\n",
       "      <td>0.000000</td>\n",
       "    </tr>\n",
       "    <tr>\n",
       "      <th>25%</th>\n",
       "      <td>1.000000</td>\n",
       "      <td>12.000000</td>\n",
       "      <td>47.000000</td>\n",
       "      <td>10.000000</td>\n",
       "      <td>44.000000</td>\n",
       "      <td>4.000000</td>\n",
       "    </tr>\n",
       "    <tr>\n",
       "      <th>50%</th>\n",
       "      <td>1.000000</td>\n",
       "      <td>32.000000</td>\n",
       "      <td>123.000000</td>\n",
       "      <td>28.000000</td>\n",
       "      <td>117.000000</td>\n",
       "      <td>11.000000</td>\n",
       "    </tr>\n",
       "    <tr>\n",
       "      <th>75%</th>\n",
       "      <td>1.000000</td>\n",
       "      <td>73.000000</td>\n",
       "      <td>280.000000</td>\n",
       "      <td>64.000000</td>\n",
       "      <td>266.000000</td>\n",
       "      <td>20.000000</td>\n",
       "    </tr>\n",
       "    <tr>\n",
       "      <th>max</th>\n",
       "      <td>1.000000</td>\n",
       "      <td>4349.000000</td>\n",
       "      <td>18237.000000</td>\n",
       "      <td>3399.000000</td>\n",
       "      <td>15112.000000</td>\n",
       "      <td>103.000000</td>\n",
       "    </tr>\n",
       "  </tbody>\n",
       "</table>\n",
       "</div>"
      ],
      "text/plain": [
       "           sentiment     word_count     review_len  cleaned_word_count  \\\n",
       "count  129497.000000  129497.000000  129497.000000       129497.000000   \n",
       "mean        0.845703      65.537866     252.643969           56.520097   \n",
       "std         0.361235     112.088937     439.644089           95.443963   \n",
       "min         0.000000       1.000000       1.000000            1.000000   \n",
       "25%         1.000000      12.000000      47.000000           10.000000   \n",
       "50%         1.000000      32.000000     123.000000           28.000000   \n",
       "75%         1.000000      73.000000     280.000000           64.000000   \n",
       "max         1.000000    4349.000000   18237.000000         3399.000000   \n",
       "\n",
       "       cleaned_review_len  cleaned_sw_count  \n",
       "count       129497.000000     129497.000000  \n",
       "mean           237.812320         13.985081  \n",
       "std            405.656583         13.018421  \n",
       "min              1.000000          0.000000  \n",
       "25%             44.000000          4.000000  \n",
       "50%            117.000000         11.000000  \n",
       "75%            266.000000         20.000000  \n",
       "max          15112.000000        103.000000  "
      ]
     },
     "execution_count": 38,
     "metadata": {},
     "output_type": "execute_result"
    }
   ],
   "source": [
    "data_df.describe()"
   ]
  },
  {
   "cell_type": "code",
   "execution_count": 40,
   "metadata": {},
   "outputs": [
    {
     "data": {
      "text/plain": [
       "<AxesSubplot:>"
      ]
     },
     "execution_count": 40,
     "metadata": {},
     "output_type": "execute_result"
    },
    {
     "data": {
      "image/png": "[encoded data removed]",
      "text/plain": [
       "<Figure size 432x288 with 1 Axes>"
      ]
     },
     "metadata": {
      "needs_background": "light"
     },
     "output_type": "display_data"
    }
   ],
   "source": [
    "data_df.cleaned_word_count.hist()"
   ]
  },
  {
   "cell_type": "code",
   "execution_count": 39,
   "metadata": {},
   "outputs": [
    {
     "data": {
      "text/html": [
       "<div>\n",
       "<style scoped>\n",
       "    .dataframe tbody tr th:only-of-type {\n",
       "        vertical-align: middle;\n",
       "    }\n",
       "\n",
       "    .dataframe tbody tr th {\n",
       "        vertical-align: top;\n",
       "    }\n",
       "\n",
       "    .dataframe thead th {\n",
       "        text-align: right;\n",
       "    }\n",
       "</style>\n",
       "<table border=\"1\" class=\"dataframe\">\n",
       "  <thead>\n",
       "    <tr style=\"text-align: right;\">\n",
       "      <th></th>\n",
       "      <th>reviewText</th>\n",
       "      <th>sentiment</th>\n",
       "      <th>word_count</th>\n",
       "      <th>review_len</th>\n",
       "      <th>cleaned_text</th>\n",
       "      <th>cleaned_word_count</th>\n",
       "      <th>cleaned_review_len</th>\n",
       "      <th>cleaned_sw_count</th>\n",
       "    </tr>\n",
       "  </thead>\n",
       "  <tbody>\n",
       "    <tr>\n",
       "      <th>0</th>\n",
       "      <td>I bought this lens for my Rebel 2000 camera an...</td>\n",
       "      <td>1</td>\n",
       "      <td>54</td>\n",
       "      <td>207</td>\n",
       "      <td>i bought this lens for my rebel  camera and ha...</td>\n",
       "      <td>48</td>\n",
       "      <td>195</td>\n",
       "      <td>16</td>\n",
       "    </tr>\n",
       "    <tr>\n",
       "      <th>1</th>\n",
       "      <td>Canon EF Lenses Have A Built In AF Motor..Comp...</td>\n",
       "      <td>1</td>\n",
       "      <td>211</td>\n",
       "      <td>952</td>\n",
       "      <td>canon ef lenses have a built in af motorcompar...</td>\n",
       "      <td>169</td>\n",
       "      <td>872</td>\n",
       "      <td>23</td>\n",
       "    </tr>\n",
       "    <tr>\n",
       "      <th>2</th>\n",
       "      <td>I bought this lens about six months after repl...</td>\n",
       "      <td>1</td>\n",
       "      <td>191</td>\n",
       "      <td>727</td>\n",
       "      <td>i bought this lens about six months after repl...</td>\n",
       "      <td>169</td>\n",
       "      <td>698</td>\n",
       "      <td>40</td>\n",
       "    </tr>\n",
       "    <tr>\n",
       "      <th>3</th>\n",
       "      <td>Bought this as a replacement and it was worth ...</td>\n",
       "      <td>1</td>\n",
       "      <td>30</td>\n",
       "      <td>112</td>\n",
       "      <td>bought this as a replacement and it was worth ...</td>\n",
       "      <td>26</td>\n",
       "      <td>106</td>\n",
       "      <td>9</td>\n",
       "    </tr>\n",
       "    <tr>\n",
       "      <th>4</th>\n",
       "      <td>good</td>\n",
       "      <td>1</td>\n",
       "      <td>1</td>\n",
       "      <td>4</td>\n",
       "      <td>good</td>\n",
       "      <td>1</td>\n",
       "      <td>4</td>\n",
       "      <td>0</td>\n",
       "    </tr>\n",
       "    <tr>\n",
       "      <th>...</th>\n",
       "      <td>...</td>\n",
       "      <td>...</td>\n",
       "      <td>...</td>\n",
       "      <td>...</td>\n",
       "      <td>...</td>\n",
       "      <td>...</td>\n",
       "      <td>...</td>\n",
       "      <td>...</td>\n",
       "    </tr>\n",
       "    <tr>\n",
       "      <th>129587</th>\n",
       "      <td>I have two original 720 Yi Home Camera that be...</td>\n",
       "      <td>0</td>\n",
       "      <td>26</td>\n",
       "      <td>115</td>\n",
       "      <td>i have two original  yi home camera that been ...</td>\n",
       "      <td>21</td>\n",
       "      <td>104</td>\n",
       "      <td>6</td>\n",
       "    </tr>\n",
       "    <tr>\n",
       "      <th>129588</th>\n",
       "      <td>Thanks!</td>\n",
       "      <td>1</td>\n",
       "      <td>2</td>\n",
       "      <td>7</td>\n",
       "      <td>thanks</td>\n",
       "      <td>1</td>\n",
       "      <td>6</td>\n",
       "      <td>0</td>\n",
       "    </tr>\n",
       "    <tr>\n",
       "      <th>129589</th>\n",
       "      <td>First of all, this is similar to, but not a re...</td>\n",
       "      <td>1</td>\n",
       "      <td>256</td>\n",
       "      <td>852</td>\n",
       "      <td>first of all this is similar to but not a rebr...</td>\n",
       "      <td>219</td>\n",
       "      <td>801</td>\n",
       "      <td>41</td>\n",
       "    </tr>\n",
       "    <tr>\n",
       "      <th>129590</th>\n",
       "      <td>After some recent thefts in the neighborhood, ...</td>\n",
       "      <td>1</td>\n",
       "      <td>133</td>\n",
       "      <td>544</td>\n",
       "      <td>after some recent thefts in the neighborhood i...</td>\n",
       "      <td>116</td>\n",
       "      <td>524</td>\n",
       "      <td>35</td>\n",
       "    </tr>\n",
       "    <tr>\n",
       "      <th>129591</th>\n",
       "      <td>This entire setup is a little 'quirky.'  I bou...</td>\n",
       "      <td>0</td>\n",
       "      <td>77</td>\n",
       "      <td>287</td>\n",
       "      <td>this entire setup is a little quirky i bought ...</td>\n",
       "      <td>66</td>\n",
       "      <td>275</td>\n",
       "      <td>18</td>\n",
       "    </tr>\n",
       "  </tbody>\n",
       "</table>\n",
       "<p>129340 rows × 8 columns</p>\n",
       "</div>"
      ],
      "text/plain": [
       "                                               reviewText  sentiment  \\\n",
       "0       I bought this lens for my Rebel 2000 camera an...          1   \n",
       "1       Canon EF Lenses Have A Built In AF Motor..Comp...          1   \n",
       "2       I bought this lens about six months after repl...          1   \n",
       "3       Bought this as a replacement and it was worth ...          1   \n",
       "4                                                    good          1   \n",
       "...                                                   ...        ...   \n",
       "129587  I have two original 720 Yi Home Camera that be...          0   \n",
       "129588                                            Thanks!          1   \n",
       "129589  First of all, this is similar to, but not a re...          1   \n",
       "129590  After some recent thefts in the neighborhood, ...          1   \n",
       "129591  This entire setup is a little 'quirky.'  I bou...          0   \n",
       "\n",
       "        word_count  review_len  \\\n",
       "0               54         207   \n",
       "1              211         952   \n",
       "2              191         727   \n",
       "3               30         112   \n",
       "4                1           4   \n",
       "...            ...         ...   \n",
       "129587          26         115   \n",
       "129588           2           7   \n",
       "129589         256         852   \n",
       "129590         133         544   \n",
       "129591          77         287   \n",
       "\n",
       "                                             cleaned_text  cleaned_word_count  \\\n",
       "0       i bought this lens for my rebel  camera and ha...                  48   \n",
       "1       canon ef lenses have a built in af motorcompar...                 169   \n",
       "2       i bought this lens about six months after repl...                 169   \n",
       "3       bought this as a replacement and it was worth ...                  26   \n",
       "4                                                    good                   1   \n",
       "...                                                   ...                 ...   \n",
       "129587  i have two original  yi home camera that been ...                  21   \n",
       "129588                                             thanks                   1   \n",
       "129589  first of all this is similar to but not a rebr...                 219   \n",
       "129590  after some recent thefts in the neighborhood i...                 116   \n",
       "129591  this entire setup is a little quirky i bought ...                  66   \n",
       "\n",
       "        cleaned_review_len  cleaned_sw_count  \n",
       "0                      195                16  \n",
       "1                      872                23  \n",
       "2                      698                40  \n",
       "3                      106                 9  \n",
       "4                        4                 0  \n",
       "...                    ...               ...  \n",
       "129587                 104                 6  \n",
       "129588                   6                 0  \n",
       "129589                 801                41  \n",
       "129590                 524                35  \n",
       "129591                 275                18  \n",
       "\n",
       "[129340 rows x 8 columns]"
      ]
     },
     "execution_count": 39,
     "metadata": {},
     "output_type": "execute_result"
    }
   ],
   "source": [
    "data_df[data_df.cleaned_word_count <= 1000]"
   ]
  },
  {
   "cell_type": "code",
   "execution_count": 41,
   "metadata": {},
   "outputs": [],
   "source": [
    "def preprocess(text):\n",
    "    doc = nlp(text)\n",
    "    # Lemmatize and lowercase tokens\n",
    "    tokens = [token.lemma_.lower().strip() for token in doc if not token.is_stop and len(token) > 2]\n",
    "    return tokens"
   ]
  },
  {
   "cell_type": "code",
   "execution_count": 42,
   "metadata": {},
   "outputs": [],
   "source": [
    "data_df['processed_text'] = data_df['cleaned_text'].apply(lambda x: preprocess(x))"
   ]
  },
  {
   "cell_type": "code",
   "execution_count": 43,
   "metadata": {},
   "outputs": [],
   "source": [
    "data_words = data_df.processed_text"
   ]
  },
  {
   "cell_type": "code",
   "execution_count": 44,
   "metadata": {},
   "outputs": [
    {
     "data": {
      "text/plain": [
       "0         [buy, lens, rebel, camera, pleased, result, us...\n",
       "1         [canon, lense, build, motorcompare, camera, bo...\n",
       "2         [buy, lens, month, replace, year, old, slr, ca...\n",
       "3         [buy, replacement, worth, money, spend, new, p...\n",
       "4                                                    [good]\n",
       "                                ...                        \n",
       "129587    [original, home, camera, work, incredibly, mon...\n",
       "129588                                              [thank]\n",
       "129589    [similar, rebranded, nest, cam, nest, wide, an...\n",
       "129590    [recent, theft, neighborhood, buy, couple, cam...\n",
       "129591    [entire, setup, little, quirky, buy, cam, car,...\n",
       "Name: processed_text, Length: 129497, dtype: object"
      ]
     },
     "execution_count": 44,
     "metadata": {},
     "output_type": "execute_result"
    }
   ],
   "source": [
    "data_words"
   ]
  },
  {
   "cell_type": "code",
   "execution_count": null,
   "metadata": {},
   "outputs": [],
   "source": []
  },
  {
   "cell_type": "code",
   "execution_count": null,
   "metadata": {},
   "outputs": [],
   "source": [
    "# Build the bigram and trigram models\n",
    "bigram = gensim.models.Phrases(data_words, min_count=5, threshold=50) # higher threshold fewer phrases.\n",
    "trigram = gensim.models.Phrases(bigram[data_words], threshold=50)  \n",
    "\n",
    "# Faster way to get a sentence clubbed as a trigram/bigram\n",
    "bigram_mod = gensim.models.phrases.Phraser(bigram)\n",
    "trigram_mod = gensim.models.phrases.Phraser(trigram)"
   ]
  },
  {
   "cell_type": "code",
   "execution_count": 49,
   "metadata": {},
   "outputs": [
    {
     "data": {
      "text/html": [
       "<style>.container { max-width:100% !important; }</style>"
      ],
      "text/plain": [
       "<IPython.core.display.HTML object>"
      ]
     },
     "metadata": {},
     "output_type": "display_data"
    },
    {
     "data": {
      "text/html": [
       "<style>.output_result { max-width:100% !important; }</style>"
      ],
      "text/plain": [
       "<IPython.core.display.HTML object>"
      ]
     },
     "metadata": {},
     "output_type": "display_data"
    },
    {
     "data": {
      "text/html": [
       "<style>.output_area { max-width:100% !important; }</style>"
      ],
      "text/plain": [
       "<IPython.core.display.HTML object>"
      ]
     },
     "metadata": {},
     "output_type": "display_data"
    },
    {
     "data": {
      "text/html": [
       "<style>.input_area { max-width:100% !important; }</style>"
      ],
      "text/plain": [
       "<IPython.core.display.HTML object>"
      ]
     },
     "metadata": {},
     "output_type": "display_data"
    }
   ],
   "source": [
    "from IPython.core.display import display, HTML\n",
    "display(HTML(\"<style>.container { max-width:100% !important; }</style>\"))\n",
    "display(HTML(\"<style>.output_result { max-width:100% !important; }</style>\"))\n",
    "display(HTML(\"<style>.output_area { max-width:100% !important; }</style>\"))\n",
    "display(HTML(\"<style>.input_area { max-width:100% !important; }</style>\"))"
   ]
  },
  {
   "cell_type": "code",
   "execution_count": 45,
   "metadata": {},
   "outputs": [],
   "source": [
    "from gensim.models.phrases import Phrases, Phraser\n",
    "\n",
    "# Create bigrams\n",
    "bigram = Phrases(data_words, min_count=5, threshold=50)\n",
    "bigram_phraser = Phraser(bigram)\n",
    "bigram_docs = [bigram_phraser[doc] for doc in data_words]\n",
    "\n",
    "# Create trigrams\n",
    "trigram = Phrases(bigram_docs, min_count=5, threshold=50)\n",
    "trigram_phraser = Phraser(trigram)\n",
    "trigram_docs = [trigram_phraser[doc] for doc in bigram_docs]\n"
   ]
  },
  {
   "cell_type": "code",
   "execution_count": 46,
   "metadata": {},
   "outputs": [
    {
     "name": "stdout",
     "output_type": "stream",
     "text": [
      "[[(0, 1), (1, 1), (2, 1), (3, 1), (4, 1), (5, 1), (6, 1), (7, 1), (8, 1), (9, 1), (10, 1), (11, 1), (12, 1), (13, 1), (14, 1), (15, 1), (16, 1), (17, 1), (18, 1)]]\n"
     ]
    }
   ],
   "source": [
    "id2word = corpora.Dictionary(trigram_docs)\n",
    "\n",
    "# Create Corpus\n",
    "texts = trigram_docs\n",
    "\n",
    "# Term Document Frequency\n",
    "corpus = [id2word.doc2bow(text) for text in texts]\n",
    "\n",
    "# View\n",
    "print(corpus[:1])"
   ]
  },
  {
   "cell_type": "code",
   "execution_count": null,
   "metadata": {},
   "outputs": [],
   "source": []
  },
  {
   "cell_type": "code",
   "execution_count": null,
   "metadata": {},
   "outputs": [],
   "source": []
  },
  {
   "cell_type": "code",
   "execution_count": 47,
   "metadata": {},
   "outputs": [],
   "source": [
    "lda_model = gensim.models.ldamodel.LdaModel(corpus=corpus,\n",
    "                                           id2word=id2word,\n",
    "                                           num_topics=15, \n",
    "                                           random_state=100,\n",
    "                                           update_every=1,\n",
    "                                           chunksize=100,\n",
    "                                           passes=5,\n",
    "                                           alpha='symmetric',\n",
    "                                           per_word_topics=True)"
   ]
  },
  {
   "cell_type": "code",
   "execution_count": null,
   "metadata": {},
   "outputs": [],
   "source": []
  },
  {
   "cell_type": "code",
   "execution_count": null,
   "metadata": {},
   "outputs": [],
   "source": [
    "cv = CountVectorizer(min_df = 10, ngram_range = (1,3), stop_words = stop_words)\n",
    "X = cv.fit_transform(data_df.cleaned_text)"
   ]
  },
  {
   "cell_type": "code",
   "execution_count": null,
   "metadata": {},
   "outputs": [],
   "source": [
    "cv.get_feature_names()"
   ]
  },
  {
   "cell_type": "code",
   "execution_count": null,
   "metadata": {},
   "outputs": [],
   "source": [
    "id2word = corpora.Dictionary([cv.get_feature_names()])\n",
    "\n",
    "# Convert the count matrix to gensim corpus\n",
    "corpus = gensim.matutils.Sparse2Corpus(X, documents_columns=False)\n",
    "\n",
    "# Define your LDA model\n",
    "num_topics = 10\n",
    "lda = gensim.models.ldamodel.LdaModel(corpus=corpus, id2word=id2word, num_topics=num_topics, passes=5)"
   ]
  },
  {
   "cell_type": "code",
   "execution_count": null,
   "metadata": {},
   "outputs": [],
   "source": []
  },
  {
   "cell_type": "code",
   "execution_count": null,
   "metadata": {},
   "outputs": [],
   "source": []
  },
  {
   "cell_type": "code",
   "execution_count": null,
   "metadata": {},
   "outputs": [],
   "source": []
  },
  {
   "cell_type": "code",
   "execution_count": null,
   "metadata": {},
   "outputs": [],
   "source": [
    "id2word = corpora.Dictionary(trigram_docs)\n",
    "\n",
    "# Create Corpus\n",
    "texts = trigram_docs\n",
    "\n",
    "# Term Document Frequency\n",
    "corpus = [id2word.doc2bow(text) for text in texts]"
   ]
  },
  {
   "cell_type": "code",
   "execution_count": null,
   "metadata": {},
   "outputs": [],
   "source": []
  },
  {
   "cell_type": "code",
   "execution_count": null,
   "metadata": {},
   "outputs": [],
   "source": [
    "pyLDAvis.enable_notebook()\n",
    "vis = pyLDAvis.gensim_models.prepare(lda_model, corpus, id2word)\n",
    "vis"
   ]
  },
  {
   "cell_type": "code",
   "execution_count": null,
   "metadata": {},
   "outputs": [],
   "source": []
  },
  {
   "cell_type": "code",
   "execution_count": 53,
   "metadata": {},
   "outputs": [],
   "source": [
    "def compute_coherence_values(dictionary, corpus, texts, limit, start=2, step=3):\n",
    "    \"\"\"\n",
    "    Compute c_v coherence for various number of topics\n",
    "\n",
    "    Parameters:\n",
    "    ----------\n",
    "    dictionary : Gensim dictionary\n",
    "    corpus : Gensim corpus\n",
    "    texts : List of input texts\n",
    "    limit : Max num of topics\n",
    "\n",
    "    Returns:\n",
    "    -------\n",
    "    model_list : List of LDA topic models\n",
    "    coherence_values : Coherence values corresponding to the LDA model with respective number of topics\n",
    "    \"\"\"\n",
    "    coherence_values = []\n",
    "    model_list = []\n",
    "    for num_topics in range(start, limit, step):\n",
    "        model = gensim.models.ldamodel.LdaModel(corpus=corpus, \n",
    "                                                num_topics=num_topics, \n",
    "                                                id2word=id2word, \n",
    "                                                passes = 5,\n",
    "                                                update_every = 1)\n",
    "        model_list.append(model)\n",
    "        coherencemodel = CoherenceModel(model=model, texts=texts, dictionary=dictionary, coherence='c_v')\n",
    "        coherence_values.append(coherencemodel.get_coherence())\n",
    "\n",
    "    return model_list, coherence_values"
   ]
  },
  {
   "cell_type": "code",
   "execution_count": null,
   "metadata": {},
   "outputs": [],
   "source": []
  },
  {
   "cell_type": "code",
   "execution_count": 54,
   "metadata": {},
   "outputs": [],
   "source": [
    "model_list, coherence_values = compute_coherence_values(dictionary=id2word,\n",
    "                                                        corpus=corpus, \n",
    "                                                        texts=trigram_docs, \n",
    "                                                        start=2, limit=26, step=3)"
   ]
  },
  {
   "cell_type": "code",
   "execution_count": 55,
   "metadata": {},
   "outputs": [
    {
     "data": {
      "image/png": "[encoded data removed]",
      "text/plain": [
       "<Figure size 432x288 with 1 Axes>"
      ]
     },
     "metadata": {
      "needs_background": "light"
     },
     "output_type": "display_data"
    }
   ],
   "source": [
    "# Show graph\n",
    "limit=26; start=2; step=3;\n",
    "x = range(start, limit, step)\n",
    "plt.plot(x, coherence_values)\n",
    "plt.xlabel(\"Num Topics\")\n",
    "plt.ylabel(\"Coherence score\")\n",
    "plt.legend((\"coherence_values\"), loc='best')\n",
    "plt.show()"
   ]
  },
  {
   "cell_type": "code",
   "execution_count": 56,
   "metadata": {},
   "outputs": [
    {
     "name": "stdout",
     "output_type": "stream",
     "text": [
      "Num Topics = 2  has Coherence Value of 0.4082\n",
      "Num Topics = 5  has Coherence Value of 0.4793\n",
      "Num Topics = 8  has Coherence Value of 0.4662\n",
      "Num Topics = 11  has Coherence Value of 0.4714\n",
      "Num Topics = 14  has Coherence Value of 0.4286\n",
      "Num Topics = 17  has Coherence Value of 0.4459\n",
      "Num Topics = 20  has Coherence Value of 0.4395\n",
      "Num Topics = 23  has Coherence Value of 0.4568\n"
     ]
    }
   ],
   "source": [
    "# Print the coherence scores\n",
    "for m, cv in zip(x, coherence_values):\n",
    "    print(\"Num Topics =\", m, \" has Coherence Value of\", round(cv, 4))"
   ]
  },
  {
   "cell_type": "code",
   "execution_count": 64,
   "metadata": {},
   "outputs": [
    {
     "name": "stdout",
     "output_type": "stream",
     "text": [
      "[(0, '0.026*\"picture\" + 0.024*\"camera\" + 0.015*\"lens\" + 0.014*\"use\" + 0.013*\"love\" + 0.012*\"great\" + 0.012*\"image\" + 0.012*\"light\" + 0.011*\"photo\" + 0.011*\"quality\"'), (1, '0.023*\"work\" + 0.021*\"buy\" + 0.014*\"get\" + 0.013*\"time\" + 0.012*\"try\" + 0.012*\"review\" + 0.012*\"product\" + 0.011*\"go\" + 0.011*\"day\" + 0.011*\"send\"'), (2, '0.058*\"camera\" + 0.016*\"work\" + 0.014*\"app\" + 0.014*\"system\" + 0.014*\"set\" + 0.012*\"easy\" + 0.012*\"video\" + 0.011*\"use\" + 0.010*\"setup\" + 0.010*\"phone\"'), (3, '0.143*\"great\" + 0.094*\"work\" + 0.086*\"good\" + 0.063*\"price\" + 0.054*\"product\" + 0.048*\"quality\" + 0.022*\"excellent\" + 0.017*\"buy\" + 0.016*\"easy\" + 0.014*\"nice\"'), (4, '0.039*\"camera\" + 0.031*\"fit\" + 0.027*\"case\" + 0.020*\"bag\" + 0.019*\"lens\" + 0.017*\"small\" + 0.017*\"love\" + 0.017*\"hold\" + 0.016*\"battery\" + 0.014*\"canon\"')]\n"
     ]
    }
   ],
   "source": [
    "optimal_model = model_list[1]\n",
    "model_topics = optimal_model.show_topics(formatted=False)\n",
    "print(optimal_model.print_topics(num_words=10))"
   ]
  },
  {
   "cell_type": "code",
   "execution_count": 65,
   "metadata": {},
   "outputs": [],
   "source": [
    "lda_model = model_list[1]"
   ]
  },
  {
   "cell_type": "code",
   "execution_count": 66,
   "metadata": {},
   "outputs": [
    {
     "data": {
      "text/html": [
       "\n",
       "<link rel=\"stylesheet\" type=\"text/css\" href=\"https://cdn.jsdelivr.net/gh/bmabey/pyLDAvis@3.3.1/pyLDAvis/js/ldavis.v1.0.0.css\">\n",
       "\n",
       "\n",
       "<div id=\"ldavis_el944815660561399043130654321\"></div>\n",
       "<script type=\"text/javascript\">\n",
       "\n",
       "var ldavis_el944815660561399043130654321_data = {\"mdsDat\": {\"x\": [0.05805035298272919, 0.18386904113093752, 0.07023932089666776, 0.025721425804681612, -0.337880140815016], \"y\": [-0.02862597600915824, 0.03970387924561331, -0.25023405771921664, 0.25506991100390264, -0.015913756521141003], \"topics\": [1, 2, 3, 4, 5], \"cluster\": [1, 1, 1, 1, 1], \"Freq\": [32.439517504608254, 25.85197602027762, 18.372413913843122, 14.715873017897312, 8.620219543373679]}, \"tinfo\": {\"Term\": [\"great\", \"work\", \"good\", \"price\", \"quality\", \"product\", \"camera\", \"fit\", \"picture\", \"case\", \"bag\", \"lens\", \"love\", \"buy\", \"excellent\", \"app\", \"hold\", \"battery\", \"image\", \"small\", \"system\", \"strap\", \"nice\", \"canon\", \"photo\", \"easy\", \"tripod\", \"setup\", \"video\", \"perfect\", \"image\", \"frame\", \"focus\", \"shot\", \"mode\", \"macro\", \"pic\", \"dark\", \"sharp\", \"indoor\", \"bright\", \"learn\", \"manual\", \"activity\", \"fun\", \"lighting\", \"portrait\", \"subject\", \"clarity\", \"family\", \"aperture\", \"noise\", \"automatically\", \"wide_angle\", \"photography\", \"intuitive\", \"produce\", \"pop\", \"daylight\", \"street\", \"picture\", \"photo\", \"sensor\", \"flash\", \"color\", \"zoom\", \"light\", \"eyepiece\", \"take\", \"lens\", \"low\", \"shoot\", \"amazing\", \"love\", \"use\", \"clear\", \"quality\", \"camera\", \"well\", \"want\", \"feature\", \"good\", \"great\", \"look\", \"like\", \"buy\", \"get\", \"video\", \"set\", \"need\", \"time\", \"easy\", \"price\", \"little\", \"app\", \"connect\", \"security\", \"wifi\", \"device\", \"support\", \"night_vision\", \"instal\", \"router\", \"iphone\", \"network\", \"recording\", \"motion_detection\", \"connection\", \"wire\", \"download\", \"audio\", \"charge\", \"plug\", \"door\", \"company\", \"internet\", \"dlink\", \"installation\", \"record\", \"setup\", \"software\", \"reset\", \"tech_support\", \"surveillance\", \"alert\", \"cam\", \"arlo\", \"instruction\", \"dvr\", \"foscam\", \"system\", \"monitor\", \"view\", \"mount\", \"phone\", \"home\", \"motion\", \"install\", \"camera\", \"run\", \"set\", \"video\", \"house\", \"easy\", \"battery\", \"work\", \"use\", \"time\", \"need\", \"able\", \"good\", \"want\", \"like\", \"way\", \"fit\", \"bag\", \"strap\", \"carry\", \"accessory\", \"zipper\", \"pocket\", \"pouch\", \"backpack\", \"hero\", \"cap\", \"compartment\", \"padding\", \"foam\", \"bulky\", \"protective\", \"amazonbasic\", \"neck\", \"snug\", \"padded\", \"hike\", \"zip\", \"exactly_describe\", \"shoulder\", \"shoulder_strap\", \"safety\", \"sling\", \"fabric\", \"belt\", \"comfortable\", \"velcro\", \"fold\", \"case\", \"grip\", \"wear\", \"pad\", \"protect\", \"hold\", \"spare\", \"protection\", \"charger\", \"tripod\", \"extra\", \"sturdy\", \"gear\", \"small\", \"size\", \"large\", \"lightweight\", \"canon\", \"perfect\", \"compact\", \"battery\", \"lense\", \"love\", \"lens\", \"camera\", \"gopro\", \"little\", \"nice\", \"big\", \"like\", \"need\", \"feel\", \"use\", \"buy\", \"great\", \"send\", \"return\", \"customer_service\", \"replacement\", \"amcrest\", \"android\", \"file\", \"last\", \"customer_support\", \"porch\", \"garage\", \"driveway\", \"fake\", \"property\", \"scope\", \"neighbor\", \"sign\", \"technology\", \"resolve\", \"junk\", \"defective\", \"waste_money\", \"notify\", \"dome\", \"reply\", \"hassle\", \"request\", \"peace_mind\", \"floor\", \"call\", \"die\", \"nest_cam\", \"window\", \"contact\", \"receive\", \"order\", \"fail\", \"customer\", \"tell\", \"amazon\", \"email\", \"review\", \"update\", \"month\", \"break\", \"year\", \"week\", \"say\", \"try\", \"pay\", \"day\", \"wait\", \"go\", \"new\", \"buy\", \"get\", \"bad\", \"issue\", \"know\", \"work\", \"time\", \"purchase\", \"product\", \"problem\", \"look\", \"like\", \"think\", \"thank\", \"describe\", \"delivery\", \"anymore\", \"warn\", \"fast_shipping\", \"advertised\", \"form\", \"fast_delivery\", \"win\", \"meet_expectation\", \"pricing\", \"seamlessly\", \"promptly\", \"tho\", \"digital_goja\", \"advertisement\", \"timely\", \"acquire\", \"circular\", \"transaction\", \"unbeatable\", \"walter\", \"definetly\", \"free_shipping\", \"companion\", \"invention\", \"salt\", \"supplier\", \"goja\", \"intact\", \"advertise\", \"brief\", \"shipment\", \"value\", \"excellent\", \"arthur\", \"price\", \"great\", \"product\", \"spotting_scope\", \"good\", \"carrying_case\", \"expect\", \"work\", \"quality\", \"beat\", \"awesome\", \"exactly\", \"item\", \"job\", \"deal\", \"recommend\", \"happy\", \"arrive\", \"highly_recommend\", \"money\", \"satisfied\", \"nice\", \"far\", \"easy\", \"buy\", \"perfectly\", \"purchase\", \"filter\", \"fine\", \"need\", \"use\", \"perfect\", \"time\"], \"Freq\": [53082.0, 49543.0, 38190.0, 21433.0, 24813.0, 19220.0, 90475.0, 17198.0, 25400.0, 15520.0, 11070.0, 25113.0, 21812.0, 25505.0, 6884.0, 10956.0, 10464.0, 15386.0, 11972.0, 12569.0, 11667.0, 7507.0, 14848.0, 11550.0, 10794.0, 21735.0, 8959.0, 7477.0, 14817.0, 9806.0, 11971.42571731493, 8301.735857299429, 4935.466828394, 4471.953181369044, 4276.042009364443, 2758.3619430490344, 2527.188248924597, 2269.4892734763, 2233.250207015716, 2027.5654706527948, 1974.7932761539496, 1848.6195289467246, 3640.416087989942, 1728.5381867482092, 1561.3001747785843, 1549.4779877751978, 1494.9019270668866, 1479.142206806922, 1514.71016691183, 1412.8410721325754, 1276.1955843751578, 1269.8162391027777, 1298.7482544463703, 1231.7269493382437, 2901.6301790226216, 1030.548776746923, 969.0805101613146, 993.6446946438078, 978.9750992456258, 978.4418234725779, 25323.337285049976, 10766.098851308143, 2072.725401631547, 8208.094075276822, 2865.2097446595294, 3903.312923151678, 11859.630000811867, 2645.0243737926785, 8250.967281842975, 14846.278414373139, 3724.82231864861, 4499.703372780742, 3533.924029143447, 12479.679036111705, 13898.8792639305, 4144.27552120828, 10382.866668651592, 23572.33575869, 5959.278712448796, 6562.712733455883, 3994.8527323937183, 10338.42882555335, 11994.70667877078, 6245.077982523585, 7173.002641643372, 7250.492754736103, 5628.825040586203, 5416.526692076827, 5703.932105765872, 5617.4128488101915, 5186.427670449344, 5237.289185676736, 5039.115877694081, 4334.271934004202, 10955.402963449851, 4763.200280415813, 4463.765838355842, 3907.1449768193506, 3412.9041634017417, 3283.615592861497, 3170.61658617581, 2557.249033834549, 2430.5903581164953, 2328.1571323033622, 2155.2330534842895, 2065.8876397461513, 2105.483835238064, 1956.7879029144053, 1895.8381263934002, 1800.7874462613165, 1772.3754497285215, 1731.4320376259388, 1623.5662606041262, 1611.4540749697646, 1588.5321569095154, 1443.8249313578408, 1548.357452870347, 1282.2360605655347, 4779.905838297203, 7469.277379508214, 3591.6780458652247, 986.6751808634642, 983.6792688249242, 845.4737027263452, 3152.461341244987, 2215.4160994415756, 1688.4224978870561, 1770.9850876699516, 2598.4182404478074, 2245.2101884887597, 10877.667090878043, 2572.6215771485367, 5546.857881981866, 5122.5508059741915, 7449.207555326839, 5510.2119362628, 2767.383544649377, 3163.53138453987, 44642.902712750634, 3459.2909130749786, 10847.939877275105, 9400.41441478271, 3199.402509923736, 9645.115260727835, 6550.390798316917, 12124.146990701094, 8247.516272363455, 5906.545301579261, 5773.542267520246, 3534.2971169763287, 5569.6156675673965, 3872.6444384971, 4138.666326612693, 3461.978155388336, 17197.745899059915, 11069.838546170564, 7506.367821781465, 5346.2084945758215, 4857.520928029395, 2635.011465981415, 2523.318736763128, 1772.657347934549, 1566.8466082595771, 1316.8073947183104, 1234.408972272097, 1087.7947300600538, 1003.9167784584265, 888.7309525139043, 782.6391108776899, 719.9301609899768, 703.5790673297072, 683.1508842166882, 683.1966863152345, 657.0802913959969, 609.1696993116974, 607.397215590128, 633.7429404030634, 591.8473711935499, 567.5187912422571, 563.3771827943445, 520.0135189840055, 500.32864579941764, 468.18518658897005, 2107.154864632943, 853.8102060824667, 2491.236059556539, 14876.838453608798, 2054.3222397800328, 1712.3587893780061, 967.8756373179175, 3538.614941203073, 9218.32991515951, 1481.4187315295958, 1986.8273219352902, 4226.478139513996, 7538.886928468206, 4981.099972562485, 3415.3105815008744, 1669.013650823704, 9293.644151936836, 5345.8778506956605, 4985.477554444192, 2196.143295573211, 7746.306426929496, 6385.8213333709255, 2123.1904540188466, 8799.831860768678, 4752.812092576623, 9263.123728735894, 10177.48335089372, 21464.270276189396, 3413.9683308807134, 5878.705608681336, 6163.064456035741, 3998.952733514534, 7160.516367298652, 5700.351598139967, 3373.916471808221, 5369.109288328217, 4161.59068339654, 4181.899985469957, 4655.422239635324, 4493.708964093611, 2378.9093809223095, 1618.6534249220701, 1875.4226664867965, 1418.9566700065336, 1122.3072055098405, 752.2122692508071, 745.5030569750711, 759.0344060755806, 763.9672696567371, 759.7309873218866, 727.4200861669343, 716.963794824743, 1127.7875510460046, 637.9292997998425, 625.6108534790953, 624.2240356371769, 560.4780509556712, 560.9629562348867, 532.2094086240378, 496.0681292790084, 495.52039149131156, 506.14512307610903, 466.9368191192042, 450.9515740298901, 441.2356624904052, 447.11126953146976, 399.92359516321136, 1508.9379388054667, 761.3420169326688, 463.9830260555935, 2923.3667795444735, 1729.4189507284552, 2769.3473139663665, 3672.1782136904644, 1327.9827703732874, 892.677616619061, 2625.17863492152, 3247.547730061978, 2822.2885120163764, 5310.425557283416, 3716.385283729278, 3304.622979704212, 1646.8502806010981, 3725.438486270514, 2289.5967564400157, 3047.439289182891, 5320.166847425676, 2646.2246599366185, 4739.583007754459, 1544.9289931953651, 4834.713472256583, 3874.6098200541464, 9179.100058946826, 6135.145415657752, 2528.9877950889677, 3528.7846053609874, 3418.3561647059655, 10032.88946946978, 5877.478917685267, 4180.750267989931, 5154.912438132358, 3228.623069706189, 3846.422788350386, 3985.0202500878445, 3011.5322502481445, 2935.272661339485, 1638.3077523759982, 550.7229155045062, 473.9072163226251, 375.3687903132604, 327.87310610792247, 333.9857822832117, 336.39482619340833, 185.5970276643467, 213.19586025327482, 184.32524813815155, 169.65379127726007, 149.3345717054595, 143.26791781199702, 137.46197692307376, 96.42774765437152, 98.83335225695521, 87.11871835428127, 91.19040898526936, 95.96755480828364, 77.42321278391097, 77.4147456431646, 71.8759318052221, 70.92956023330439, 56.707045411570974, 56.76535254052487, 55.15860393474927, 64.38500742863575, 53.4290368298818, 50.77668625846794, 51.80179099975957, 2146.5844866945076, 144.38961164867902, 77.02933338526152, 2681.7401518193356, 5699.625251770477, 110.62391318368489, 16115.10969319618, 36851.42499410138, 14014.834861586747, 282.61778238580564, 22088.917087366885, 256.4510505119306, 3524.9999926983505, 24198.0032602336, 12293.891771853852, 1117.6103070400613, 2240.4062807115374, 1339.0742627947661, 2415.1392924242446, 1992.880555656033, 1410.179782201652, 2904.419539402525, 2248.988154961547, 917.8439913984873, 1474.8523127495087, 1942.8476365282072, 686.8169921213012, 3582.1435117223523, 2078.24575913392, 4044.462224567245, 4431.787666640672, 1386.7464531659637, 2191.8115466512304, 1119.620121517544, 1349.7873987941318, 2186.1386522676985, 2170.1625214134647, 1493.2908379936864, 1558.899699433284], \"Total\": [53082.0, 49543.0, 38190.0, 21433.0, 24813.0, 19220.0, 90475.0, 17198.0, 25400.0, 15520.0, 11070.0, 25113.0, 21812.0, 25505.0, 6884.0, 10956.0, 10464.0, 15386.0, 11972.0, 12569.0, 11667.0, 7507.0, 14848.0, 11550.0, 10794.0, 21735.0, 8959.0, 7477.0, 14817.0, 9806.0, 11972.369363524671, 8302.676046372013, 4936.393867670855, 4472.8813346873285, 4277.315550234263, 2759.3199821684448, 2528.128778554775, 2270.42940955742, 2234.179338789515, 2028.512095203986, 1975.7244525474691, 1849.5540884862057, 3642.295334994786, 1729.5284705808008, 1562.230403786924, 1550.4059314201884, 1495.8274845045999, 1480.0695334909663, 1515.663428595461, 1413.7970147089509, 1277.1253968189637, 1270.7617002524253, 1299.7210905395948, 1232.6710606371412, 2904.04027226679, 1031.510610582657, 970.0116756722196, 994.5999895733371, 979.9236296966725, 979.40181704513, 25400.15381972773, 10794.598478468783, 2077.6196010334766, 8498.726040428013, 2983.693295362278, 4195.794432756445, 14700.751826888045, 2993.1553141532154, 11583.44735507412, 25113.00975370727, 4646.989907765316, 5886.4297862468065, 4358.193591362697, 21812.037103095034, 30869.6266479985, 6045.944458536571, 24813.545042216007, 90475.52321008095, 11714.062046780891, 14153.361709394525, 6498.973735064644, 38190.79492095279, 53082.7337835877, 15190.993652662335, 23156.307155141396, 25505.648412839342, 16358.368003986609, 14817.768190356268, 17504.63787410004, 19768.242063454993, 18844.606315538214, 21735.254722822654, 21433.488131843773, 13177.179710460174, 10956.514710004607, 4764.308768387955, 4464.878510368811, 3908.2528663083813, 3414.017004925158, 3284.7341371810153, 3171.741947058302, 2558.3640693001607, 2431.6942043835634, 2329.2758812088036, 2156.3373170232494, 2067.025944934281, 2106.6453221378615, 1957.89719553366, 1896.9496243919232, 1801.916444534686, 1773.4919417737988, 1732.5369764918937, 1624.6738285050872, 1612.5620115501736, 1589.6624425066934, 1444.9382368800088, 1549.601873204564, 1283.379164706188, 4784.991537312369, 7477.24647077775, 3595.5522558504204, 987.7905276418257, 984.8012451637949, 846.584146963636, 3165.7783665066713, 2221.5545586505546, 1694.9190943292879, 1783.811536234977, 2640.089523257553, 2276.650110934687, 11667.190597706382, 2625.303761494645, 6082.194451344369, 5631.658837957244, 8521.480159244045, 6145.636140355846, 2905.526265193641, 3542.9072380781336, 90475.52321008095, 4033.987138935454, 17504.63787410004, 14817.768190356268, 3942.364158319742, 21735.254722822654, 15386.86903833186, 49543.92247052697, 30869.6266479985, 18844.606315538214, 19768.242063454993, 6290.119821948569, 38190.79492095279, 14153.361709394525, 23156.307155141396, 8772.211913074096, 17198.500326423808, 11070.587228187202, 7507.1174266122325, 5346.960094512919, 4858.279241213647, 2635.7629532012015, 2524.0671374429194, 1773.4072525832687, 1567.5955058234072, 1317.6424567545178, 1235.2463292120442, 1088.5444351153114, 1004.6660828555663, 889.4888530569807, 783.3961444076745, 720.6896486176429, 704.348533079409, 683.9045320059404, 683.9541612318897, 657.8289455122455, 609.9204304140038, 608.1597509207234, 634.540714699835, 592.5947679417902, 568.2649773466133, 564.1636975060719, 520.7621299766246, 501.0934471845072, 468.9337547471409, 2110.6021987334125, 856.350584629996, 2528.8200003597553, 15520.894115758796, 2088.383594198666, 1738.656496880176, 976.2204354830072, 3715.715499940982, 10464.380850724441, 1545.9132707212614, 2133.2622469684907, 4779.644362127971, 8959.324175506243, 5953.939794575872, 4002.240874884884, 1818.3100678129795, 12569.441801729334, 7029.963516246715, 6529.922581800725, 2519.624213477333, 11550.691152253246, 9806.535335898805, 2469.0546207244456, 15386.86903833186, 7052.468190666073, 21812.037103095034, 25113.00975370727, 90475.52321008095, 5189.421107921201, 13177.179710460174, 14848.663040552572, 7052.738615250661, 23156.307155141396, 19768.242063454993, 5951.3933085743065, 30869.6266479985, 25505.648412839342, 53082.7337835877, 4656.473745235992, 4494.753952002087, 2379.95803590229, 1619.6960860271004, 1876.7218270120393, 1420.0344530017726, 1123.3736312396284, 753.2535426510665, 746.5547031976182, 760.1170638534784, 765.0591253750134, 760.8266825376854, 728.5038465230932, 718.048334190993, 1129.5657528217143, 638.9847984357527, 626.662426901104, 625.2899033210778, 561.5282512234307, 562.0192701731606, 533.2473701835131, 497.1128371269533, 496.5870661113367, 507.24738749581417, 467.9793489319494, 452.00851346935923, 442.2806489555033, 448.17631795536005, 400.9772857240409, 1512.9921964041002, 764.2500403499156, 465.4560245060663, 3060.7800696607246, 1790.5972184190573, 3102.076968884666, 4466.915327705383, 1462.6765625314736, 946.7444794535074, 3210.9547475335016, 4084.2387856394716, 3537.8095468983634, 7400.114191079611, 4913.327606857194, 4352.183963609884, 1957.470202738806, 5216.677501011589, 2923.7976798777418, 4421.394368621198, 9999.29966342503, 4007.5427020608363, 8966.974403399332, 1973.016118884142, 9465.506549692866, 7024.112641989494, 25505.648412839342, 16358.368003986609, 4015.5290680753246, 7134.778029550363, 6772.483629615019, 49543.92247052697, 18844.606315538214, 11796.54550662156, 19220.81452472523, 7156.6033949648245, 15190.993652662335, 23156.307155141396, 8560.249672943388, 2936.2902973480745, 1639.3180267597997, 551.7467163505919, 475.00205345689625, 376.48971877817786, 328.8706410248324, 335.01252873698564, 337.50702588213437, 186.5949326793588, 214.39133446386498, 185.36665621933005, 170.69386359744496, 150.38052566257304, 144.31532016039353, 138.5109359620612, 97.43626730134385, 99.9111237471089, 88.13153852444762, 92.27409685409987, 97.11659322593397, 78.43151573306842, 78.42377594902429, 72.91228751034748, 71.95323804615053, 57.73634970681519, 57.79843051491088, 56.18404002612404, 65.60480797705004, 54.45731169012919, 51.78251816339201, 52.82833112590218, 2302.430986214083, 149.39842855940375, 78.94727502325296, 3086.5439051164567, 6884.599513573409, 115.13496992001943, 21433.488131843773, 53082.7337835877, 19220.81452472523, 312.68344758276794, 38190.79492095279, 288.9883655096556, 5372.243522907274, 49543.92247052697, 24813.545042216007, 1666.5485970234124, 4338.707913751439, 2318.4247612944946, 4935.783276101147, 3944.160562530087, 2792.4139580302, 7546.977167473231, 5921.588198099042, 1716.5760628555618, 3423.57955606896, 5129.827781622058, 1159.5394619838787, 14848.663040552572, 6931.644558552205, 21735.254722822654, 25505.648412839342, 4449.92480801528, 11796.54550662156, 3207.313121559895, 5233.262889637314, 19768.242063454993, 30869.6266479985, 9806.535335898805, 18844.606315538214], \"Category\": [\"Default\", \"Default\", \"Default\", \"Default\", \"Default\", \"Default\", \"Default\", \"Default\", \"Default\", \"Default\", \"Default\", \"Default\", \"Default\", \"Default\", \"Default\", \"Default\", \"Default\", \"Default\", \"Default\", \"Default\", \"Default\", \"Default\", \"Default\", \"Default\", \"Default\", \"Default\", \"Default\", \"Default\", \"Default\", \"Default\", \"Topic1\", \"Topic1\", \"Topic1\", \"Topic1\", \"Topic1\", \"Topic1\", \"Topic1\", \"Topic1\", \"Topic1\", \"Topic1\", \"Topic1\", \"Topic1\", \"Topic1\", \"Topic1\", \"Topic1\", \"Topic1\", \"Topic1\", \"Topic1\", \"Topic1\", \"Topic1\", \"Topic1\", \"Topic1\", \"Topic1\", \"Topic1\", \"Topic1\", \"Topic1\", \"Topic1\", \"Topic1\", \"Topic1\", \"Topic1\", \"Topic1\", \"Topic1\", \"Topic1\", \"Topic1\", \"Topic1\", \"Topic1\", \"Topic1\", \"Topic1\", \"Topic1\", \"Topic1\", \"Topic1\", \"Topic1\", \"Topic1\", \"Topic1\", \"Topic1\", \"Topic1\", \"Topic1\", \"Topic1\", \"Topic1\", \"Topic1\", \"Topic1\", \"Topic1\", \"Topic1\", \"Topic1\", \"Topic1\", \"Topic1\", \"Topic1\", \"Topic1\", \"Topic1\", \"Topic1\", \"Topic1\", \"Topic1\", \"Topic1\", \"Topic1\", \"Topic2\", \"Topic2\", \"Topic2\", \"Topic2\", \"Topic2\", \"Topic2\", \"Topic2\", \"Topic2\", \"Topic2\", \"Topic2\", \"Topic2\", \"Topic2\", \"Topic2\", \"Topic2\", \"Topic2\", \"Topic2\", \"Topic2\", \"Topic2\", \"Topic2\", \"Topic2\", \"Topic2\", \"Topic2\", \"Topic2\", \"Topic2\", \"Topic2\", \"Topic2\", \"Topic2\", \"Topic2\", \"Topic2\", \"Topic2\", \"Topic2\", \"Topic2\", \"Topic2\", \"Topic2\", \"Topic2\", \"Topic2\", \"Topic2\", \"Topic2\", \"Topic2\", \"Topic2\", \"Topic2\", \"Topic2\", \"Topic2\", \"Topic2\", \"Topic2\", \"Topic2\", \"Topic2\", \"Topic2\", \"Topic2\", \"Topic2\", \"Topic2\", \"Topic2\", \"Topic2\", \"Topic2\", \"Topic2\", \"Topic2\", \"Topic2\", \"Topic2\", \"Topic2\", \"Topic2\", \"Topic3\", \"Topic3\", \"Topic3\", \"Topic3\", \"Topic3\", \"Topic3\", \"Topic3\", \"Topic3\", \"Topic3\", \"Topic3\", \"Topic3\", \"Topic3\", \"Topic3\", \"Topic3\", \"Topic3\", \"Topic3\", \"Topic3\", \"Topic3\", \"Topic3\", \"Topic3\", \"Topic3\", \"Topic3\", \"Topic3\", \"Topic3\", \"Topic3\", \"Topic3\", \"Topic3\", \"Topic3\", \"Topic3\", \"Topic3\", \"Topic3\", \"Topic3\", \"Topic3\", \"Topic3\", \"Topic3\", \"Topic3\", \"Topic3\", \"Topic3\", \"Topic3\", \"Topic3\", \"Topic3\", \"Topic3\", \"Topic3\", \"Topic3\", \"Topic3\", \"Topic3\", \"Topic3\", \"Topic3\", \"Topic3\", \"Topic3\", \"Topic3\", \"Topic3\", \"Topic3\", \"Topic3\", \"Topic3\", \"Topic3\", \"Topic3\", \"Topic3\", \"Topic3\", \"Topic3\", \"Topic3\", \"Topic3\", \"Topic3\", \"Topic3\", \"Topic3\", \"Topic3\", \"Topic3\", \"Topic4\", \"Topic4\", \"Topic4\", \"Topic4\", \"Topic4\", \"Topic4\", \"Topic4\", \"Topic4\", \"Topic4\", \"Topic4\", \"Topic4\", \"Topic4\", \"Topic4\", \"Topic4\", \"Topic4\", \"Topic4\", \"Topic4\", \"Topic4\", \"Topic4\", \"Topic4\", \"Topic4\", \"Topic4\", \"Topic4\", \"Topic4\", \"Topic4\", \"Topic4\", \"Topic4\", \"Topic4\", \"Topic4\", \"Topic4\", \"Topic4\", \"Topic4\", \"Topic4\", \"Topic4\", \"Topic4\", \"Topic4\", \"Topic4\", \"Topic4\", \"Topic4\", \"Topic4\", \"Topic4\", \"Topic4\", \"Topic4\", \"Topic4\", \"Topic4\", \"Topic4\", \"Topic4\", \"Topic4\", \"Topic4\", \"Topic4\", \"Topic4\", \"Topic4\", \"Topic4\", \"Topic4\", \"Topic4\", \"Topic4\", \"Topic4\", \"Topic4\", \"Topic4\", \"Topic4\", \"Topic4\", \"Topic4\", \"Topic4\", \"Topic4\", \"Topic4\", \"Topic4\", \"Topic4\", \"Topic5\", \"Topic5\", \"Topic5\", \"Topic5\", \"Topic5\", \"Topic5\", \"Topic5\", \"Topic5\", \"Topic5\", \"Topic5\", \"Topic5\", \"Topic5\", \"Topic5\", \"Topic5\", \"Topic5\", \"Topic5\", \"Topic5\", \"Topic5\", \"Topic5\", \"Topic5\", \"Topic5\", \"Topic5\", \"Topic5\", \"Topic5\", \"Topic5\", \"Topic5\", \"Topic5\", \"Topic5\", \"Topic5\", \"Topic5\", \"Topic5\", \"Topic5\", \"Topic5\", \"Topic5\", \"Topic5\", \"Topic5\", \"Topic5\", \"Topic5\", \"Topic5\", \"Topic5\", \"Topic5\", \"Topic5\", \"Topic5\", \"Topic5\", \"Topic5\", \"Topic5\", \"Topic5\", \"Topic5\", \"Topic5\", \"Topic5\", \"Topic5\", \"Topic5\", \"Topic5\", \"Topic5\", \"Topic5\", \"Topic5\", \"Topic5\", \"Topic5\", \"Topic5\", \"Topic5\", \"Topic5\", \"Topic5\", \"Topic5\", \"Topic5\", \"Topic5\", \"Topic5\", \"Topic5\", \"Topic5\", \"Topic5\", \"Topic5\"], \"logprob\": [30.0, 29.0, 28.0, 27.0, 26.0, 25.0, 24.0, 23.0, 22.0, 21.0, 20.0, 19.0, 18.0, 17.0, 16.0, 15.0, 14.0, 13.0, 12.0, 11.0, 10.0, 9.0, 8.0, 7.0, 6.0, 5.0, 4.0, 3.0, 2.0, 1.0, -4.3936, -4.7597, -5.2797, -5.3783, -5.4231, -5.8615, -5.949, -6.0566, -6.0727, -6.1693, -6.1957, -6.2617, -5.584, -6.3289, -6.4306, -6.4382, -6.4741, -6.4847, -6.4609, -6.5305, -6.6322, -6.6373, -6.6147, -6.6677, -5.8109, -6.846, -6.9075, -6.8825, -6.8974, -6.8979, -3.6444, -4.4997, -6.1473, -4.771, -5.8235, -5.5143, -4.403, -5.9034, -4.7658, -4.1784, -5.5611, -5.3721, -5.6137, -4.352, -4.2443, -5.4544, -4.536, -3.7161, -5.0912, -4.9947, -5.4911, -4.5403, -4.3917, -5.0443, -4.9058, -4.8951, -5.1482, -5.1867, -5.135, -5.1503, -5.2301, -5.2203, -5.2589, -5.4096, -4.2553, -5.0882, -5.1531, -5.2863, -5.4216, -5.4602, -5.4952, -5.7102, -5.761, -5.8041, -5.8812, -5.9236, -5.9046, -5.9778, -6.0095, -6.0609, -6.0768, -6.1002, -6.1645, -6.172, -6.1863, -6.2818, -6.2119, -6.4005, -5.0847, -4.6383, -5.3705, -6.6626, -6.6656, -6.817, -5.501, -5.8537, -6.1253, -6.0776, -5.6942, -5.8403, -4.2624, -5.7042, -4.9359, -5.0155, -4.641, -4.9425, -5.6312, -5.4974, -2.8504, -5.4081, -4.2652, -4.4084, -5.4862, -4.3827, -4.7696, -4.1539, -4.5392, -4.8731, -4.8959, -5.3866, -4.9318, -5.2952, -5.2288, -5.4073, -3.4628, -3.9034, -4.2918, -4.6312, -4.7271, -5.3387, -5.382, -5.7351, -5.8585, -6.0324, -6.097, -6.2234, -6.3037, -6.4256, -6.5527, -6.6362, -6.6592, -6.6886, -6.6886, -6.7275, -6.8033, -6.8062, -6.7637, -6.8321, -6.8741, -6.8814, -6.9615, -7.0001, -7.0665, -5.5623, -6.4656, -5.3948, -3.6078, -5.5877, -5.7697, -6.3403, -5.0439, -4.0864, -5.9146, -5.6211, -4.8662, -4.2875, -4.7019, -5.0793, -5.7954, -4.0783, -4.6313, -4.7011, -5.5209, -4.2604, -4.4535, -5.5547, -4.1329, -4.7489, -4.0816, -3.9874, -3.2412, -5.0797, -4.5363, -4.489, -4.9216, -4.339, -4.5671, -5.0915, -4.6269, -4.8817, -4.8768, -4.5476, -4.583, -5.219, -5.6041, -5.4568, -5.7358, -5.9703, -6.3704, -6.3794, -6.3614, -6.3549, -6.3605, -6.4039, -6.4184, -5.9654, -6.5352, -6.5547, -6.5569, -6.6646, -6.6638, -6.7164, -6.7867, -6.7878, -6.7666, -6.8472, -6.8821, -6.9039, -6.8906, -7.0022, -5.6743, -6.3583, -6.8536, -5.0129, -5.5379, -5.0671, -4.7849, -5.802, -6.1992, -5.1205, -4.9078, -5.0481, -4.416, -4.7729, -4.8904, -5.5868, -4.7705, -5.2573, -4.9714, -4.4142, -5.1125, -4.5297, -5.6507, -4.5099, -4.7312, -3.8687, -4.2716, -5.1579, -4.8247, -4.8565, -3.7798, -4.3145, -4.6552, -4.4457, -4.9136, -4.7385, -4.7031, -4.9832, -4.4741, -5.0572, -6.1474, -6.2976, -6.5307, -6.666, -6.6475, -6.6403, -7.235, -7.0964, -7.2419, -7.3249, -7.4524, -7.4939, -7.5353, -7.8898, -7.8652, -7.9913, -7.9457, -7.8946, -8.1093, -8.1094, -8.1837, -8.1969, -8.4207, -8.4197, -8.4484, -8.2937, -8.4803, -8.5312, -8.5112, -4.787, -7.4861, -8.1144, -4.5644, -3.8105, -7.7525, -2.7711, -1.944, -2.9107, -6.8145, -2.4558, -6.9117, -4.291, -2.3646, -3.0418, -5.4397, -4.7442, -5.2589, -4.6691, -4.8613, -5.2071, -4.4846, -4.7404, -5.6366, -5.1623, -4.8867, -5.9265, -4.2749, -4.8193, -4.1535, -4.0621, -5.2239, -4.7661, -5.4379, -5.2509, -4.7687, -4.7761, -5.1499, -5.1069], \"loglift\": [30.0, 29.0, 28.0, 27.0, 26.0, 25.0, 24.0, 23.0, 22.0, 21.0, 20.0, 19.0, 18.0, 17.0, 16.0, 15.0, 14.0, 13.0, 12.0, 11.0, 10.0, 9.0, 8.0, 7.0, 6.0, 5.0, 4.0, 3.0, 2.0, 1.0, 1.1257, 1.1257, 1.1256, 1.1256, 1.1255, 1.1254, 1.1254, 1.1254, 1.1254, 1.1253, 1.1253, 1.1253, 1.1253, 1.1252, 1.1252, 1.1252, 1.1252, 1.1252, 1.1252, 1.1251, 1.1251, 1.125, 1.125, 1.125, 1.125, 1.1249, 1.1248, 1.1248, 1.1248, 1.1248, 1.1228, 1.1231, 1.1234, 1.091, 1.0853, 1.0535, 0.911, 1.0021, 0.7865, 0.6002, 0.9046, 0.8572, 0.9161, 0.5674, 0.3278, 0.7481, 0.2546, -0.2192, 0.45, 0.3572, 0.6392, -0.1809, -0.3616, 0.2369, -0.0461, -0.132, 0.059, 0.1194, 0.0045, -0.1324, -0.1644, -0.2973, -0.3219, 0.0139, 1.3527, 1.3526, 1.3525, 1.3525, 1.3525, 1.3524, 1.3524, 1.3523, 1.3523, 1.3523, 1.3523, 1.3522, 1.3522, 1.3522, 1.3522, 1.3522, 1.3522, 1.3521, 1.3521, 1.3521, 1.3521, 1.352, 1.352, 1.3519, 1.3517, 1.3517, 1.3517, 1.3517, 1.3516, 1.3515, 1.3486, 1.35, 1.3489, 1.3456, 1.3369, 1.3389, 1.2827, 1.3325, 1.2606, 1.258, 1.2183, 1.2436, 1.3041, 1.2395, 0.6464, 1.1991, 0.8743, 0.8977, 1.144, 0.5403, 0.4988, -0.0549, 0.0329, 0.1926, 0.122, 0.7763, -0.5725, 0.0568, -0.3691, 0.423, 1.6943, 1.6943, 1.6942, 1.6942, 1.6942, 1.694, 1.694, 1.6939, 1.6938, 1.6937, 1.6936, 1.6936, 1.6936, 1.6935, 1.6934, 1.6933, 1.6932, 1.6932, 1.6932, 1.6932, 1.6931, 1.6931, 1.6931, 1.6931, 1.693, 1.6929, 1.6929, 1.6928, 1.6927, 1.6927, 1.6913, 1.6793, 1.6519, 1.6779, 1.6791, 1.6857, 1.6455, 1.5675, 1.6517, 1.6232, 1.5713, 1.5217, 1.5159, 1.5357, 1.6086, 1.3924, 1.4205, 1.4245, 1.5569, 1.2948, 1.2654, 1.5434, 1.1355, 1.2997, 0.8379, 0.7911, 0.2556, 1.2756, 0.8872, 0.815, 1.1269, 0.5206, 0.4508, 1.1268, -0.0548, -0.1187, -0.8468, 1.916, 1.916, 1.9158, 1.9156, 1.9156, 1.9155, 1.9153, 1.9149, 1.9148, 1.9148, 1.9148, 1.9148, 1.9148, 1.9147, 1.9147, 1.9146, 1.9146, 1.9145, 1.9144, 1.9144, 1.9143, 1.9141, 1.9141, 1.9141, 1.914, 1.9139, 1.9139, 1.9139, 1.9136, 1.9136, 1.9124, 1.9131, 1.8703, 1.8815, 1.8028, 1.7203, 1.8196, 1.8574, 1.7148, 1.687, 1.6903, 1.5844, 1.637, 1.6409, 1.7435, 1.5796, 1.6717, 1.5441, 1.2852, 1.5012, 1.2786, 1.6717, 1.2444, 1.3213, 0.8943, 0.9355, 1.4539, 1.2122, 1.2325, 0.3193, 0.7511, 0.8789, 0.6002, 1.1203, 0.5427, 0.1565, 0.8716, 2.4507, 2.4504, 2.4492, 2.4488, 2.4481, 2.448, 2.448, 2.4478, 2.4457, 2.4455, 2.4454, 2.4449, 2.4441, 2.4438, 2.4435, 2.4407, 2.4402, 2.4395, 2.4392, 2.4392, 2.4381, 2.4381, 2.4367, 2.4367, 2.4331, 2.433, 2.4326, 2.4323, 2.432, 2.4314, 2.4314, 2.381, 2.417, 2.4265, 2.3105, 2.2622, 2.4111, 2.1659, 2.0861, 2.1352, 2.35, 1.9035, 2.3316, 2.0297, 1.7345, 1.7488, 2.0515, 1.7901, 1.9022, 1.7363, 1.7684, 1.7679, 1.4961, 1.4829, 1.825, 1.6089, 1.4801, 1.9273, 1.0291, 1.2465, 0.7695, 0.701, 1.2851, 0.768, 1.3986, 1.096, 0.2491, -0.2039, 0.569, -0.0412]}, \"token.table\": {\"Topic\": [1, 2, 3, 4, 3, 5, 1, 2, 4, 5, 5, 5, 2, 4, 1, 3, 5, 1, 3, 4, 5, 3, 4, 4, 5, 1, 2, 2, 4, 4, 5, 1, 2, 3, 4, 5, 2, 1, 1, 3, 5, 3, 1, 2, 4, 3, 2, 3, 4, 1, 3, 5, 3, 1, 2, 3, 4, 2, 4, 2, 5, 1, 3, 1, 2, 3, 4, 5, 2, 4, 2, 4, 1, 2, 3, 4, 1, 3, 3, 3, 2, 5, 2, 3, 4, 2, 2, 3, 5, 1, 1, 2, 4, 1, 3, 4, 2, 3, 1, 3, 5, 2, 3, 2, 2, 2, 4, 4, 5, 4, 4, 1, 1, 2, 3, 4, 1, 1, 2, 3, 4, 5, 4, 5, 5, 5, 2, 2, 4, 5, 2, 4, 2, 2, 4, 2, 4, 1, 2, 3, 5, 2, 4, 1, 2, 3, 4, 5, 3, 1, 5, 1, 2, 3, 4, 5, 1, 2, 3, 4, 1, 2, 3, 3, 2, 4, 4, 1, 1, 2, 3, 4, 5, 5, 5, 1, 2, 1, 2, 3, 4, 5, 4, 1, 3, 4, 5, 1, 2, 3, 4, 5, 3, 1, 3, 4, 3, 1, 2, 3, 5, 2, 4, 1, 5, 1, 4, 1, 3, 4, 1, 2, 3, 4, 1, 2, 3, 4, 5, 1, 2, 3, 4, 5, 2, 3, 1, 2, 3, 4, 5, 2, 3, 1, 2, 3, 4, 5, 4, 3, 1, 2, 3, 5, 3, 1, 2, 3, 1, 2, 4, 2, 4, 1, 1, 2, 2, 4, 5, 2, 1, 2, 5, 2, 1, 5, 2, 1, 2, 4, 2, 3, 4, 5, 1, 2, 3, 4, 5, 4, 1, 2, 3, 4, 1, 2, 3, 4, 1, 1, 3, 5, 1, 3, 5, 1, 2, 3, 4, 1, 1, 2, 3, 1, 2, 3, 4, 5, 1, 2, 3, 4, 5, 1, 2, 3, 4, 5, 1, 3, 4, 5, 1, 2, 4, 5, 1, 1, 2, 5, 1, 1, 3, 4, 5, 2, 4, 1, 2, 4, 1, 2, 2, 1, 2, 3, 1, 2, 3, 4, 5, 4, 4, 2, 1, 2, 3, 4, 1, 2, 3, 5, 2, 1, 4, 1, 2, 3, 4, 5, 2, 3, 3, 3, 1, 2, 4, 5, 4, 1, 3, 5, 1, 2, 3, 4, 5, 2, 4, 1, 3, 1, 3, 1, 1, 2, 4, 2, 3, 1, 4, 1, 3, 1, 2, 3, 4, 5, 5, 1, 2, 3, 4, 5, 1, 2, 4, 5, 5, 4, 3, 5, 3, 5, 3, 1, 2, 3, 4, 5, 1, 2, 4, 5, 2, 4, 5, 1, 2, 3, 4, 5, 1, 2, 2, 4, 4, 4, 2, 4, 4, 1, 2, 4, 2, 1, 2, 4, 3, 3, 5, 1, 2, 4, 5, 1, 2, 3, 4, 1, 3, 4, 5, 2, 4, 1, 4, 1, 2, 4, 5, 1, 2, 1, 2, 5, 1, 2, 3, 1, 3, 3, 4, 1, 2, 3, 3, 1, 2, 3, 3, 1, 2, 2, 3, 2, 3, 5, 3, 1, 2, 3, 5, 1, 5, 2, 2, 1, 2, 4, 1, 2, 3, 4, 2, 4, 1, 2, 4, 5, 1, 2, 3, 4, 5, 1, 2, 3, 4, 5, 5, 5, 1, 2, 3, 1, 2, 4, 5, 1, 2, 4, 1, 2, 3, 4, 5, 1, 2, 5, 2, 3, 1, 2, 1, 2, 1, 4, 5, 1, 2, 3, 4, 5, 5, 4, 1, 2, 3, 4, 2, 3, 1, 2, 4, 1, 2, 3, 4, 5, 1, 2, 5, 1, 4, 2, 1, 2, 3, 4, 5, 1, 2, 3, 4, 3, 3, 1, 3], \"Freq\": [0.3090561157860079, 0.5618334944381439, 0.12209624327348459, 0.006995097270876721, 0.9999425226093885, 0.9861922587428363, 0.9996944423929469, 0.00043432355019001586, 0.06688582672926244, 0.932492662257964, 0.9969776391921731, 0.9908806575990967, 0.9956477160080301, 0.0037905369898782876, 0.8108864202370156, 0.0006883585910331203, 0.18838080107939723, 0.005876248001068406, 0.1434783886927536, 0.7952522294779243, 0.05533466867672749, 0.9995051695814781, 0.9990825347756622, 0.9992715296452238, 0.9978904228947988, 0.9991188047612499, 0.9998617525696174, 0.9959177435947019, 0.0035399919796020207, 0.46487890473813875, 0.5347855069544002, 0.008685458472735677, 0.017370916945471354, 0.008685458472735677, 0.008685458472735677, 0.9640858904736601, 0.9991587546925607, 0.9994451959386953, 0.406111689246326, 0.07744241066218249, 0.5162827377478832, 0.9996201151246001, 0.16610513551074815, 0.20395817988501158, 0.6298049290954754, 0.9999469560037695, 0.4256876420851182, 0.5719162214273343, 0.0023396572694754586, 0.30662172163037216, 0.02220157279906804, 0.6708475240367046, 0.9980087704549134, 0.3018685529329423, 0.13044578144589333, 0.5670137826110081, 0.000567155571503884, 0.1583676725021212, 0.8413921180999794, 0.026774043332119263, 0.9638655599562934, 0.9996333230848385, 0.9994943242821626, 0.28425076213119943, 0.018936981808188872, 0.1631795409641451, 0.35988106835893513, 0.1737654314159277, 0.001982825824964625, 0.9973613899572064, 0.9970495621523083, 0.0022506762125334276, 0.260534553033384, 0.49342627062062455, 0.23723543383287604, 0.008797959622203193, 0.3293309421798484, 0.6706092213788395, 0.9989910277953716, 0.9998204410551139, 0.1107311013838404, 0.8858488110707232, 0.03324550738839786, 0.9585143670875873, 0.008182518291330482, 0.9991128752155086, 0.11569898471563182, 0.8841662014615915, 0.9885025494733294, 0.9995622850146383, 0.6854181391211558, 0.22395177615107262, 0.09047387116295179, 0.9602193377091507, 0.006367946742224734, 0.03318035407790782, 0.001421395278466175, 0.9982932839094102, 0.1397295941143552, 0.8598432704486263, 0.986185948168525, 0.9995832810230776, 0.9994998503526833, 0.9997252973198045, 0.999541755544823, 0.03350837328619041, 0.9655996235303871, 0.9432323286590163, 0.055981314018956174, 0.9995974568089699, 0.9992569825154911, 0.9993704232550006, 0.17709429385657638, 0.26106910700141395, 0.0332330601821535, 0.5286063935013678, 0.9990574472656013, 0.19946899291139272, 0.07735242813080938, 0.05156828542053959, 0.16652258833715908, 0.5049394614094501, 0.9976608038721619, 0.9867519784788681, 0.9986466319989525, 0.9991959908094191, 0.9997021090042344, 0.0026169445788766857, 0.9957474122625789, 0.9852594178623257, 0.9989662678961201, 0.9975408695509064, 0.9990313479177945, 0.9994914056434383, 0.9989134417119441, 0.9840575393800965, 0.0155297764105404, 0.2409449563294511, 0.4437491128122123, 0.12919103253257566, 0.18605717078409398, 0.20210245648380037, 0.7976687163598387, 0.09101007007973291, 0.043995389327643394, 0.16692368303723523, 0.12077165697784462, 0.577547316761907, 0.999147864451707, 0.17197805009073824, 0.827934869524669, 0.17888243448054636, 0.1383034847232528, 0.003350555484547174, 0.023267746420466487, 0.6561504490571549, 0.09825426863283766, 0.06247963748959933, 0.8365889095045546, 0.0026872962361117994, 0.8836828438180426, 0.11593117081469216, 0.000334095593125914, 0.9978178777019516, 0.09161287152101791, 0.9079245774620281, 0.9979357054457975, 0.9994362594483799, 0.3199817851686365, 0.21481193783412975, 0.01659057948349558, 0.14888241762580381, 0.2997845579713376, 0.9968116353921511, 0.9973526337829387, 0.614712439664947, 0.3851377312844461, 0.2664922174972059, 0.0334375480970643, 0.5669260667311303, 0.1315658299497555, 0.0015122509189627069, 0.9987772267378997, 0.27562011144395576, 0.302745620149413, 0.07233468988121916, 0.34920195115071323, 0.08159345498303311, 0.2352260962157231, 0.18344195968082386, 0.24191408432908645, 0.25796525580115853, 0.9999709087179515, 0.9657918093788358, 0.03412276129627953, 0.9975627404373387, 0.999450411261141, 0.99971763442946, 0.014631330025362146, 0.9850444079237055, 0.9955348310803442, 0.9860979468111186, 0.013177255413957041, 0.9999185748825755, 0.9872463411602159, 0.9992124056836038, 0.9986156293809393, 0.07919441384009923, 0.917885254855039, 0.0027498060361145567, 0.344105230951412, 0.14115099986974777, 0.13968386084988033, 0.3750374119536174, 0.19122061672005608, 0.261370058433933, 0.03655377535090575, 0.5108020341665587, 0.9848883717681922, 0.27069350144184134, 0.14584666309064193, 0.003796726417979009, 0.001283031686075665, 0.578385447218885, 0.34204200489542397, 0.6578768477256212, 0.2259680153042279, 0.0007535406929694969, 0.07878267944996091, 0.00028257775986356134, 0.6942182019154733, 0.015801694713399834, 0.9835357861007048, 0.31579365829598055, 0.02381117958274506, 0.10081754759502695, 0.1798503989760531, 0.3797967580254868, 0.9977688175348326, 0.9995124195101452, 0.383224627473378, 0.003797195241733166, 0.18226537160319198, 0.4308356139658785, 0.9984909008321314, 0.0008600604401145182, 0.11821052938018435, 0.8808930152195144, 0.0006508683411524574, 0.89657113993751, 0.10267448081680015, 0.8114420361825306, 0.1882119383705651, 0.999885623013867, 0.9997475513184285, 0.9994668197085281, 0.8930518885716936, 0.0005645081470111843, 0.10640978571160824, 0.9989253645811651, 0.006727168064698103, 0.992817886881695, 0.9843203238064047, 0.9993506733671643, 0.9995049875615254, 0.9789256873380147, 0.999452241265581, 0.12207807956919592, 0.3831934208291408, 0.4946194521236422, 0.0004052041769507821, 0.2550760293905173, 0.2550760293905173, 0.4892840436680694, 0.17773110117766727, 0.026875173644554537, 0.2532858346312263, 0.0370167486047638, 0.5053039723924264, 0.998186414190306, 0.3199712422373449, 0.14426022319607104, 0.03100782688963656, 0.5046892967084655, 0.1928047360789401, 0.043798375312610695, 0.7634087445222529, 0.9983358290667248, 0.9997004205015387, 0.5911676913918446, 0.4052481203889803, 0.0035439798284975185, 0.31520879497792503, 0.6739484491813215, 0.010776369059074361, 0.8067614595267, 0.14448240641102114, 0.04870499199166249, 6.802373183193085e-05, 0.999093184957761, 0.10636506768211013, 0.021828651949686778, 0.8715585396638575, 0.30976441761385853, 0.17874179903858364, 0.3092462002694606, 0.1720913431188103, 0.03018616031117902, 0.3289019422387955, 0.17332995756193098, 0.44615009654404214, 0.017226751473974754, 0.0343776141749364, 0.4110988486197884, 0.10282408351386861, 0.1491015039429657, 0.2531763285495126, 0.08373382473088405, 0.5721611393293083, 0.4246737687185403, 4.584624513856637e-05, 0.0031175446694225134, 0.8015941661020971, 0.13277412093556884, 0.001075965323626976, 0.06455791941761856, 0.9995216277282175, 0.9993698108517635, 0.00027455214583839654, 0.9926272812640424, 0.9996924355430846, 0.3029341463600993, 0.013450743950351899, 0.3048835295413097, 0.37876515210918466, 0.9800770629815166, 0.019807231743116542, 0.08961018267171722, 0.1509586923469698, 0.759388855718014, 0.04715152695095996, 0.9523231757175636, 0.9992189847429126, 0.09020432782186526, 0.9096786839201096, 0.9986774001872932, 0.2841426153104425, 0.29208464675137885, 0.2883412688747592, 0.0248378180732468, 0.11058140592284624, 0.9984588077241219, 0.9968718322904696, 0.9993798201178026, 0.3347041996373948, 0.001850767586255267, 0.11190025559974151, 0.5516711074414737, 0.2864904394679895, 0.05717686485856208, 0.4150542027365349, 0.24123383972128315, 0.9997660758439098, 0.9994005955229261, 0.9988177982243197, 0.00537283522057012, 0.0015670769393329516, 0.1705875182531013, 0.8220437887472284, 0.00022386813419042167, 0.008194870450588159, 0.9915793245211671, 0.9987398768055121, 0.9993370107074053, 0.12726002887947718, 0.047660128462706154, 0.6602549733629345, 0.16468944913814693, 0.9973753232640079, 0.19650161183285875, 0.651198387734632, 0.15224541072467987, 0.045843471249795445, 0.04382096516524564, 0.5719197761310265, 0.02674202489571401, 0.31169065991895234, 0.8741439117146068, 0.12568239085063013, 0.9973506676949748, 0.002593889902977828, 0.9992974366484259, 0.0006886956834241391, 0.9995535122402188, 0.9969624664371991, 0.0028739983433998945, 0.000157479361282186, 0.9995852530561736, 0.999577215111639, 0.9993967528859572, 0.9985304055038373, 0.999446804853386, 0.999770355860068, 0.23509939068263688, 0.0033125732761395553, 0.009377848288789445, 0.00032659173145037866, 0.7518608217604075, 0.9959350407634961, 0.10745320895399146, 0.3325599965026004, 0.0522594280218372, 0.4511916927339902, 0.056591091841829054, 0.9989570479432441, 0.0026013465733037023, 0.2681988317076117, 0.7291574444970277, 0.9908857898182143, 0.9985400228075535, 0.9524410574642248, 0.047635509231751284, 0.9314372871050715, 0.06843978053212905, 0.9990430712873902, 0.26668824345518, 0.06417132876528012, 0.12893605158783494, 0.3544257933522274, 0.1858171105065971, 0.4184408145766798, 0.06814826326198262, 0.017974054059635865, 0.49545520315955904, 0.0009670939922160064, 0.892627754815374, 0.10605797447968872, 0.2614291730606323, 0.12031307102841061, 0.1592690653922352, 0.07420189402633254, 0.3847898218794102, 0.0008359471419769151, 0.9989568346624136, 0.9995036613174617, 0.9995702366430929, 0.9979072817332976, 0.9971044427140828, 0.9991997011312581, 0.9972784072393489, 0.9998322595607816, 0.20121311125102626, 0.08107982991982253, 0.7175564947904294, 0.9997145182225989, 0.06222131884789238, 0.8574643103380866, 0.08006966529031569, 0.9979373052338956, 0.015242785259730069, 0.9755382566227244, 0.14229787377628209, 0.07847943341601012, 0.18628085294349653, 0.5924766017230654, 0.1913423525402063, 0.09205240837336165, 0.027366932219107517, 0.6891491113357074, 0.0008852959621889631, 0.0008852959621889631, 0.9986138453491503, 0.9908197843005903, 0.9998032398044492, 0.9996835061644017, 0.9977764933334387, 0.0019252802572762926, 0.32585649820495116, 0.6197214748470039, 0.03804705957301849, 0.016395654800985447, 0.0009361735001456881, 0.9988971246554492, 0.9994721378140781, 0.012666681651842477, 0.9753344871918707, 0.7644701735020957, 0.00016988226077824348, 0.23528693117786723, 0.9998029604137956, 0.9989963327825928, 0.9995337081165014, 0.9989429286444063, 0.2355631001743997, 0.0038407027202347777, 0.760459138606486, 0.9985365103705625, 0.1961900964974214, 0.06436244447137628, 0.7394123101569482, 0.9986049339473699, 0.0008343641773300941, 0.999012041656566, 0.04139947642091212, 0.9580097590526696, 0.0927455553665777, 0.003198122598847507, 0.9050686954738445, 0.999851151041241, 0.9985687007919188, 0.04047732384539689, 0.8532719810619158, 0.10619051008823256, 0.9992773761862096, 0.9732393751196988, 0.9997765002735821, 0.998128777901975, 0.06505422137778477, 0.9323581293116505, 0.002571313097936157, 0.7123095350699423, 0.18759527568864195, 0.04014348973548942, 0.0599130793041498, 0.9991863889614989, 0.997937111547417, 0.11803342924441064, 0.06415537315131555, 0.8175138569038995, 0.9995605688752097, 0.33900880358343166, 0.1337577808763023, 0.17546217194428476, 0.3518588960693646, 0.9890915764046597, 0.2751981077855637, 0.31345839234271594, 0.01671565830166845, 0.31186642488541416, 0.0827292421977813, 0.9871607991487209, 0.9817482077237879, 0.02489027025159512, 0.13360382731461595, 0.8414697194025812, 0.2281159757961185, 0.23981679524730037, 0.5320372605152786, 0.9818450982269746, 0.022795141900102345, 0.22062440910456196, 0.7563102437569671, 0.4502483997778176, 0.2671882006883545, 0.1739250060009427, 0.0383548532510926, 0.07029563475918155, 0.13089073488645447, 0.00032398696754072886, 0.8689330469442348, 0.0023354920705334035, 0.9972551141177634, 0.3655746216576329, 0.6343735358282719, 0.08779725874794551, 0.9120063563199509, 0.21641992476041902, 0.783065067341563, 0.9874878769889367, 0.4637060886844785, 0.2736452356353779, 0.16794596568688183, 0.09467715356349249, 7.065459221156156e-05, 0.9960431355655277, 0.9977613993366478, 0.3187337501312348, 0.3946553086388894, 0.19459174230115087, 0.09199504161513107, 0.01495407519924383, 0.9846683361963631, 0.04412069989924683, 0.17272056937302055, 0.7832279284439941, 0.5087048349413154, 0.16177138147571615, 0.08733093575179822, 0.15656396497438704, 0.08570895356285964, 0.9994556044523392, 0.9996794305918172, 0.9935103045683058, 0.04475983144231134, 0.9549853088020149, 0.9994993939851051, 0.0616019048918784, 0.24471215429526008, 0.002765223122603978, 0.20250717948237748, 0.48841510307132163, 0.23539887212921887, 0.006134172563627853, 0.04428105819368856, 0.7140560249848048, 0.9980930159896844, 0.9997105380055992, 0.9302171644848454, 0.06959349526763384], \"Term\": [\"able\", \"able\", \"able\", \"able\", \"accessory\", \"acquire\", \"activity\", \"advertise\", \"advertise\", \"advertise\", \"advertised\", \"advertisement\", \"alert\", \"alert\", \"amazing\", \"amazing\", \"amazing\", \"amazon\", \"amazon\", \"amazon\", \"amazon\", \"amazonbasic\", \"amcrest\", \"android\", \"anymore\", \"aperture\", \"app\", \"arlo\", \"arlo\", \"arrive\", \"arrive\", \"arthur\", \"arthur\", \"arthur\", \"arthur\", \"arthur\", \"audio\", \"automatically\", \"awesome\", \"awesome\", \"awesome\", \"backpack\", \"bad\", \"bad\", \"bad\", \"bag\", \"battery\", \"battery\", \"battery\", \"beat\", \"beat\", \"beat\", \"belt\", \"big\", \"big\", \"big\", \"big\", \"break\", \"break\", \"brief\", \"brief\", \"bright\", \"bulky\", \"buy\", \"buy\", \"buy\", \"buy\", \"buy\", \"call\", \"call\", \"cam\", \"cam\", \"camera\", \"camera\", \"camera\", \"camera\", \"canon\", \"canon\", \"cap\", \"carry\", \"carrying_case\", \"carrying_case\", \"case\", \"case\", \"case\", \"charge\", \"charger\", \"charger\", \"circular\", \"clarity\", \"clear\", \"clear\", \"clear\", \"color\", \"color\", \"color\", \"comfortable\", \"comfortable\", \"compact\", \"compact\", \"companion\", \"company\", \"compartment\", \"connect\", \"connection\", \"contact\", \"contact\", \"customer\", \"customer\", \"customer_service\", \"customer_support\", \"dark\", \"day\", \"day\", \"day\", \"day\", \"daylight\", \"deal\", \"deal\", \"deal\", \"deal\", \"deal\", \"defective\", \"definetly\", \"delivery\", \"describe\", \"device\", \"die\", \"die\", \"digital_goja\", \"dlink\", \"dome\", \"door\", \"download\", \"driveway\", \"dvr\", \"dvr\", \"easy\", \"easy\", \"easy\", \"easy\", \"email\", \"email\", \"exactly\", \"exactly\", \"exactly\", \"exactly\", \"exactly\", \"exactly_describe\", \"excellent\", \"excellent\", \"expect\", \"expect\", \"expect\", \"expect\", \"expect\", \"extra\", \"extra\", \"extra\", \"extra\", \"eyepiece\", \"eyepiece\", \"eyepiece\", \"fabric\", \"fail\", \"fail\", \"fake\", \"family\", \"far\", \"far\", \"far\", \"far\", \"far\", \"fast_delivery\", \"fast_shipping\", \"feature\", \"feature\", \"feel\", \"feel\", \"feel\", \"feel\", \"feel\", \"file\", \"filter\", \"filter\", \"filter\", \"filter\", \"fine\", \"fine\", \"fine\", \"fine\", \"fine\", \"fit\", \"flash\", \"flash\", \"floor\", \"foam\", \"focus\", \"fold\", \"fold\", \"form\", \"foscam\", \"foscam\", \"frame\", \"free_shipping\", \"fun\", \"garage\", \"gear\", \"gear\", \"gear\", \"get\", \"get\", \"get\", \"get\", \"go\", \"go\", \"go\", \"go\", \"goja\", \"good\", \"good\", \"good\", \"good\", \"good\", \"gopro\", \"gopro\", \"great\", \"great\", \"great\", \"great\", \"great\", \"grip\", \"grip\", \"happy\", \"happy\", \"happy\", \"happy\", \"happy\", \"hassle\", \"hero\", \"highly_recommend\", \"highly_recommend\", \"highly_recommend\", \"highly_recommend\", \"hike\", \"hold\", \"hold\", \"hold\", \"home\", \"home\", \"home\", \"house\", \"house\", \"image\", \"indoor\", \"instal\", \"install\", \"install\", \"install\", \"installation\", \"instruction\", \"instruction\", \"intact\", \"internet\", \"intuitive\", \"invention\", \"iphone\", \"issue\", \"issue\", \"issue\", \"item\", \"item\", \"item\", \"item\", \"job\", \"job\", \"job\", \"job\", \"job\", \"junk\", \"know\", \"know\", \"know\", \"know\", \"large\", \"large\", \"large\", \"last\", \"learn\", \"lens\", \"lens\", \"lens\", \"lense\", \"lense\", \"lense\", \"light\", \"light\", \"light\", \"light\", \"lighting\", \"lightweight\", \"lightweight\", \"lightweight\", \"like\", \"like\", \"like\", \"like\", \"like\", \"little\", \"little\", \"little\", \"little\", \"little\", \"look\", \"look\", \"look\", \"look\", \"look\", \"love\", \"love\", \"love\", \"love\", \"low\", \"low\", \"low\", \"low\", \"macro\", \"manual\", \"manual\", \"meet_expectation\", \"mode\", \"money\", \"money\", \"money\", \"money\", \"monitor\", \"monitor\", \"month\", \"month\", \"month\", \"motion\", \"motion\", \"motion_detection\", \"mount\", \"mount\", \"neck\", \"need\", \"need\", \"need\", \"need\", \"need\", \"neighbor\", \"nest_cam\", \"network\", \"new\", \"new\", \"new\", \"new\", \"nice\", \"nice\", \"nice\", \"nice\", \"night_vision\", \"noise\", \"notify\", \"order\", \"order\", \"order\", \"order\", \"order\", \"pad\", \"pad\", \"padded\", \"padding\", \"pay\", \"pay\", \"pay\", \"pay\", \"peace_mind\", \"perfect\", \"perfect\", \"perfect\", \"perfectly\", \"perfectly\", \"perfectly\", \"perfectly\", \"perfectly\", \"phone\", \"phone\", \"photo\", \"photo\", \"photography\", \"photography\", \"pic\", \"picture\", \"picture\", \"picture\", \"plug\", \"pocket\", \"pop\", \"porch\", \"portrait\", \"pouch\", \"price\", \"price\", \"price\", \"price\", \"price\", \"pricing\", \"problem\", \"problem\", \"problem\", \"problem\", \"problem\", \"produce\", \"product\", \"product\", \"product\", \"promptly\", \"property\", \"protect\", \"protect\", \"protection\", \"protection\", \"protective\", \"purchase\", \"purchase\", \"purchase\", \"purchase\", \"purchase\", \"quality\", \"quality\", \"quality\", \"quality\", \"receive\", \"receive\", \"receive\", \"recommend\", \"recommend\", \"recommend\", \"recommend\", \"recommend\", \"record\", \"record\", \"recording\", \"replacement\", \"reply\", \"request\", \"reset\", \"resolve\", \"return\", \"review\", \"review\", \"review\", \"router\", \"run\", \"run\", \"run\", \"safety\", \"salt\", \"salt\", \"satisfied\", \"satisfied\", \"satisfied\", \"satisfied\", \"say\", \"say\", \"say\", \"say\", \"scope\", \"scope\", \"scope\", \"seamlessly\", \"security\", \"send\", \"sensor\", \"sensor\", \"set\", \"set\", \"set\", \"set\", \"setup\", \"setup\", \"sharp\", \"shipment\", \"shipment\", \"shoot\", \"shoot\", \"shoot\", \"shot\", \"shoulder\", \"shoulder_strap\", \"sign\", \"size\", \"size\", \"size\", \"sling\", \"small\", \"small\", \"small\", \"snug\", \"software\", \"software\", \"spare\", \"spare\", \"spotting_scope\", \"spotting_scope\", \"spotting_scope\", \"strap\", \"street\", \"sturdy\", \"sturdy\", \"sturdy\", \"subject\", \"supplier\", \"support\", \"surveillance\", \"system\", \"system\", \"system\", \"take\", \"take\", \"take\", \"take\", \"tech_support\", \"technology\", \"tell\", \"tell\", \"tell\", \"thank\", \"think\", \"think\", \"think\", \"think\", \"tho\", \"time\", \"time\", \"time\", \"time\", \"time\", \"timely\", \"transaction\", \"tripod\", \"tripod\", \"tripod\", \"try\", \"try\", \"try\", \"unbeatable\", \"update\", \"update\", \"update\", \"use\", \"use\", \"use\", \"use\", \"use\", \"value\", \"value\", \"value\", \"velcro\", \"velcro\", \"video\", \"video\", \"view\", \"view\", \"wait\", \"wait\", \"walter\", \"want\", \"want\", \"want\", \"want\", \"want\", \"warn\", \"waste_money\", \"way\", \"way\", \"way\", \"way\", \"wear\", \"wear\", \"week\", \"week\", \"week\", \"well\", \"well\", \"well\", \"well\", \"well\", \"wide_angle\", \"wifi\", \"win\", \"window\", \"window\", \"wire\", \"work\", \"work\", \"work\", \"work\", \"work\", \"year\", \"year\", \"year\", \"year\", \"zip\", \"zipper\", \"zoom\", \"zoom\"]}, \"R\": 30, \"lambda.step\": 0.01, \"plot.opts\": {\"xlab\": \"PC1\", \"ylab\": \"PC2\"}, \"topic.order\": [1, 3, 5, 2, 4]};\n",
       "\n",
       "function LDAvis_load_lib(url, callback){\n",
       "  var s = document.createElement('script');\n",
       "  s.src = url;\n",
       "  s.async = true;\n",
       "  s.onreadystatechange = s.onload = callback;\n",
       "  s.onerror = function(){console.warn(\"failed to load library \" + url);};\n",
       "  document.getElementsByTagName(\"head\")[0].appendChild(s);\n",
       "}\n",
       "\n",
       "if(typeof(LDAvis) !== \"undefined\"){\n",
       "   // already loaded: just create the visualization\n",
       "   !function(LDAvis){\n",
       "       new LDAvis(\"#\" + \"ldavis_el944815660561399043130654321\", ldavis_el944815660561399043130654321_data);\n",
       "   }(LDAvis);\n",
       "}else if(typeof define === \"function\" && define.amd){\n",
       "   // require.js is available: use it to load d3/LDAvis\n",
       "   require.config({paths: {d3: \"https://d3js.org/d3.v5\"}});\n",
       "   require([\"d3\"], function(d3){\n",
       "      window.d3 = d3;\n",
       "      LDAvis_load_lib(\"https://cdn.jsdelivr.net/gh/bmabey/pyLDAvis@3.3.1/pyLDAvis/js/ldavis.v3.0.0.js\", function(){\n",
       "        new LDAvis(\"#\" + \"ldavis_el944815660561399043130654321\", ldavis_el944815660561399043130654321_data);\n",
       "      });\n",
       "    });\n",
       "}else{\n",
       "    // require.js not available: dynamically load d3 & LDAvis\n",
       "    LDAvis_load_lib(\"https://d3js.org/d3.v5.js\", function(){\n",
       "         LDAvis_load_lib(\"https://cdn.jsdelivr.net/gh/bmabey/pyLDAvis@3.3.1/pyLDAvis/js/ldavis.v3.0.0.js\", function(){\n",
       "                 new LDAvis(\"#\" + \"ldavis_el944815660561399043130654321\", ldavis_el944815660561399043130654321_data);\n",
       "            })\n",
       "         });\n",
       "}\n",
       "</script>"
      ],
      "text/plain": [
       "PreparedData(topic_coordinates=              x         y  topics  cluster       Freq\n",
       "topic                                                \n",
       "0      0.058050 -0.028626       1        1  32.439518\n",
       "2      0.183869  0.039704       2        1  25.851976\n",
       "4      0.070239 -0.250234       3        1  18.372414\n",
       "1      0.025721  0.255070       4        1  14.715873\n",
       "3     -0.337880 -0.015914       5        1   8.620220, topic_info=        Term          Freq         Total Category  logprob  loglift\n",
       "46     great  53082.000000  53082.000000  Default  30.0000  30.0000\n",
       "151     work  49543.000000  49543.000000  Default  29.0000  29.0000\n",
       "9       good  38190.000000  38190.000000  Default  28.0000  28.0000\n",
       "148    price  21433.000000  21433.000000  Default  27.0000  27.0000\n",
       "156  quality  24813.000000  24813.000000  Default  26.0000  26.0000\n",
       "..       ...           ...           ...      ...      ...      ...\n",
       "445     fine   1349.787399   5233.262890   Topic5  -5.2509   1.0960\n",
       "381     need   2186.138652  19768.242063   Topic5  -4.7687   0.2491\n",
       "18       use   2170.162521  30869.626648   Topic5  -4.7761  -0.2039\n",
       "325  perfect   1493.290838   9806.535336   Topic5  -5.1499   0.5690\n",
       "284     time   1558.899699  18844.606316   Topic5  -5.1069  -0.0412\n",
       "\n",
       "[358 rows x 6 columns], token_table=      Topic      Freq       Term\n",
       "term                            \n",
       "179       1  0.309056       able\n",
       "179       2  0.561833       able\n",
       "179       3  0.122096       able\n",
       "179       4  0.006995       able\n",
       "848       3  0.999943  accessory\n",
       "...     ...       ...        ...\n",
       "143       4  0.714056       year\n",
       "1890      3  0.998093        zip\n",
       "1891      3  0.999711     zipper\n",
       "93        1  0.930217       zoom\n",
       "93        3  0.069593       zoom\n",
       "\n",
       "[609 rows x 3 columns], R=30, lambda_step=0.01, plot_opts={'xlab': 'PC1', 'ylab': 'PC2'}, topic_order=[1, 3, 5, 2, 4])"
      ]
     },
     "execution_count": 66,
     "metadata": {},
     "output_type": "execute_result"
    }
   ],
   "source": [
    "pyLDAvis.enable_notebook()\n",
    "vis = pyLDAvis.gensim_models.prepare(lda_model, corpus, id2word)\n",
    "vis"
   ]
  },
  {
   "cell_type": "code",
   "execution_count": 90,
   "metadata": {},
   "outputs": [],
   "source": [
    "data = data_df.reviewText"
   ]
  },
  {
   "cell_type": "code",
   "execution_count": 89,
   "metadata": {},
   "outputs": [],
   "source": []
  },
  {
   "cell_type": "code",
   "execution_count": 94,
   "metadata": {},
   "outputs": [
    {
     "data": {
      "text/html": [
       "<div>\n",
       "<style scoped>\n",
       "    .dataframe tbody tr th:only-of-type {\n",
       "        vertical-align: middle;\n",
       "    }\n",
       "\n",
       "    .dataframe tbody tr th {\n",
       "        vertical-align: top;\n",
       "    }\n",
       "\n",
       "    .dataframe thead th {\n",
       "        text-align: right;\n",
       "    }\n",
       "</style>\n",
       "<table border=\"1\" class=\"dataframe\">\n",
       "  <thead>\n",
       "    <tr style=\"text-align: right;\">\n",
       "      <th></th>\n",
       "      <th>overall</th>\n",
       "      <th>reviewText</th>\n",
       "      <th>verified</th>\n",
       "      <th>asin</th>\n",
       "      <th>brand</th>\n",
       "      <th>title</th>\n",
       "      <th>sentiment</th>\n",
       "      <th>word_count</th>\n",
       "      <th>review_len</th>\n",
       "    </tr>\n",
       "  </thead>\n",
       "  <tbody>\n",
       "    <tr>\n",
       "      <th>0</th>\n",
       "      <td>4.0</td>\n",
       "      <td>I bought this lens for my Rebel 2000 camera an...</td>\n",
       "      <td>False</td>\n",
       "      <td>B00004THD0</td>\n",
       "      <td>Canon</td>\n",
       "      <td>Canon EF 75-300mm f/4-5.6 III Telephoto Zoom L...</td>\n",
       "      <td>1</td>\n",
       "      <td>54</td>\n",
       "      <td>207</td>\n",
       "    </tr>\n",
       "    <tr>\n",
       "      <th>1</th>\n",
       "      <td>4.0</td>\n",
       "      <td>Canon EF Lenses Have A Built In AF Motor..Comp...</td>\n",
       "      <td>False</td>\n",
       "      <td>B00004THD0</td>\n",
       "      <td>Canon</td>\n",
       "      <td>Canon EF 75-300mm f/4-5.6 III Telephoto Zoom L...</td>\n",
       "      <td>1</td>\n",
       "      <td>211</td>\n",
       "      <td>952</td>\n",
       "    </tr>\n",
       "    <tr>\n",
       "      <th>2</th>\n",
       "      <td>5.0</td>\n",
       "      <td>I bought this lens about six months after repl...</td>\n",
       "      <td>False</td>\n",
       "      <td>B00004THD0</td>\n",
       "      <td>Canon</td>\n",
       "      <td>Canon EF 75-300mm f/4-5.6 III Telephoto Zoom L...</td>\n",
       "      <td>1</td>\n",
       "      <td>191</td>\n",
       "      <td>727</td>\n",
       "    </tr>\n",
       "    <tr>\n",
       "      <th>3</th>\n",
       "      <td>5.0</td>\n",
       "      <td>Bought this as a replacement and it was worth ...</td>\n",
       "      <td>True</td>\n",
       "      <td>B00004THD0</td>\n",
       "      <td>Canon</td>\n",
       "      <td>Canon EF 75-300mm f/4-5.6 III Telephoto Zoom L...</td>\n",
       "      <td>1</td>\n",
       "      <td>30</td>\n",
       "      <td>112</td>\n",
       "    </tr>\n",
       "    <tr>\n",
       "      <th>4</th>\n",
       "      <td>5.0</td>\n",
       "      <td>good</td>\n",
       "      <td>True</td>\n",
       "      <td>B00004THD0</td>\n",
       "      <td>Canon</td>\n",
       "      <td>Canon EF 75-300mm f/4-5.6 III Telephoto Zoom L...</td>\n",
       "      <td>1</td>\n",
       "      <td>1</td>\n",
       "      <td>4</td>\n",
       "    </tr>\n",
       "  </tbody>\n",
       "</table>\n",
       "</div>"
      ],
      "text/plain": [
       "   overall                                         reviewText  verified  \\\n",
       "0      4.0  I bought this lens for my Rebel 2000 camera an...     False   \n",
       "1      4.0  Canon EF Lenses Have A Built In AF Motor..Comp...     False   \n",
       "2      5.0  I bought this lens about six months after repl...     False   \n",
       "3      5.0  Bought this as a replacement and it was worth ...      True   \n",
       "4      5.0                                               good      True   \n",
       "\n",
       "         asin  brand                                              title  \\\n",
       "0  B00004THD0  Canon  Canon EF 75-300mm f/4-5.6 III Telephoto Zoom L...   \n",
       "1  B00004THD0  Canon  Canon EF 75-300mm f/4-5.6 III Telephoto Zoom L...   \n",
       "2  B00004THD0  Canon  Canon EF 75-300mm f/4-5.6 III Telephoto Zoom L...   \n",
       "3  B00004THD0  Canon  Canon EF 75-300mm f/4-5.6 III Telephoto Zoom L...   \n",
       "4  B00004THD0  Canon  Canon EF 75-300mm f/4-5.6 III Telephoto Zoom L...   \n",
       "\n",
       "   sentiment  word_count  review_len  \n",
       "0          1          54         207  \n",
       "1          1         211         952  \n",
       "2          1         191         727  \n",
       "3          1          30         112  \n",
       "4          1           1           4  "
      ]
     },
     "execution_count": 94,
     "metadata": {},
     "output_type": "execute_result"
    }
   ],
   "source": []
  },
  {
   "cell_type": "code",
   "execution_count": 70,
   "metadata": {},
   "outputs": [],
   "source": [
    "def format_topics_sentences(ldamodel=lda_model, corpus=corpus, texts=data):\n",
    "    # Init output\n",
    "    sent_topics_df = pd.DataFrame()\n",
    "\n",
    "    # Get main topic in each document\n",
    "    for i, row in enumerate(ldamodel[corpus]):\n",
    "        row = sorted(row, key=lambda x: (x[1]), reverse=True)\n",
    "        # Get the Dominant topic, Perc Contribution and Keywords for each document\n",
    "        for j, (topic_num, prop_topic) in enumerate(row):\n",
    "            if j == 0:  # => dominant topic\n",
    "                wp = ldamodel.show_topic(topic_num)\n",
    "                topic_keywords = \", \".join([word for word, prop in wp])\n",
    "                sent_topics_df = sent_topics_df.append(pd.Series([int(topic_num), round(prop_topic,4), topic_keywords]), ignore_index=True)\n",
    "            else:\n",
    "                break\n",
    "    sent_topics_df.columns = ['Dominant_Topic', 'Perc_Contribution', 'Topic_Keywords']\n",
    "\n",
    "    # Add original text to the end of the output\n",
    "    contents = pd.Series(texts)\n",
    "    sent_topics_df = pd.concat([sent_topics_df, contents], axis=1)\n",
    "    return(sent_topics_df)"
   ]
  },
  {
   "cell_type": "code",
   "execution_count": 71,
   "metadata": {},
   "outputs": [],
   "source": [
    "df_topic_sents_keywords = format_topics_sentences(ldamodel=lda_model, corpus=corpus, texts=data)"
   ]
  },
  {
   "cell_type": "code",
   "execution_count": 72,
   "metadata": {},
   "outputs": [],
   "source": [
    "df_dominant_topic = df_topic_sents_keywords.reset_index()\n",
    "df_dominant_topic.columns = ['Document_No', 'Dominant_Topic', 'Topic_Perc_Contrib', 'Keywords', 'Text']"
   ]
  },
  {
   "cell_type": "code",
   "execution_count": 73,
   "metadata": {},
   "outputs": [
    {
     "data": {
      "text/html": [
       "<div>\n",
       "<style scoped>\n",
       "    .dataframe tbody tr th:only-of-type {\n",
       "        vertical-align: middle;\n",
       "    }\n",
       "\n",
       "    .dataframe tbody tr th {\n",
       "        vertical-align: top;\n",
       "    }\n",
       "\n",
       "    .dataframe thead th {\n",
       "        text-align: right;\n",
       "    }\n",
       "</style>\n",
       "<table border=\"1\" class=\"dataframe\">\n",
       "  <thead>\n",
       "    <tr style=\"text-align: right;\">\n",
       "      <th></th>\n",
       "      <th>Document_No</th>\n",
       "      <th>Dominant_Topic</th>\n",
       "      <th>Topic_Perc_Contrib</th>\n",
       "      <th>Keywords</th>\n",
       "      <th>Text</th>\n",
       "    </tr>\n",
       "  </thead>\n",
       "  <tbody>\n",
       "    <tr>\n",
       "      <th>0</th>\n",
       "      <td>0</td>\n",
       "      <td>0.0</td>\n",
       "      <td>0.9593</td>\n",
       "      <td>picture, camera, lens, use, love, great, image...</td>\n",
       "      <td>I bought this lens for my Rebel 2000 camera an...</td>\n",
       "    </tr>\n",
       "    <tr>\n",
       "      <th>1</th>\n",
       "      <td>1</td>\n",
       "      <td>0.0</td>\n",
       "      <td>0.8632</td>\n",
       "      <td>picture, camera, lens, use, love, great, image...</td>\n",
       "      <td>Canon EF Lenses Have A Built In AF Motor..Comp...</td>\n",
       "    </tr>\n",
       "    <tr>\n",
       "      <th>2</th>\n",
       "      <td>2</td>\n",
       "      <td>0.0</td>\n",
       "      <td>0.6468</td>\n",
       "      <td>picture, camera, lens, use, love, great, image...</td>\n",
       "      <td>I bought this lens about six months after repl...</td>\n",
       "    </tr>\n",
       "    <tr>\n",
       "      <th>3</th>\n",
       "      <td>3</td>\n",
       "      <td>1.0</td>\n",
       "      <td>0.5476</td>\n",
       "      <td>work, buy, get, time, try, review, product, go...</td>\n",
       "      <td>Bought this as a replacement and it was worth ...</td>\n",
       "    </tr>\n",
       "    <tr>\n",
       "      <th>4</th>\n",
       "      <td>4</td>\n",
       "      <td>3.0</td>\n",
       "      <td>0.5993</td>\n",
       "      <td>great, work, good, price, product, quality, ex...</td>\n",
       "      <td>good</td>\n",
       "    </tr>\n",
       "    <tr>\n",
       "      <th>5</th>\n",
       "      <td>5</td>\n",
       "      <td>3.0</td>\n",
       "      <td>0.7328</td>\n",
       "      <td>great, work, good, price, product, quality, ex...</td>\n",
       "      <td>good for starters.</td>\n",
       "    </tr>\n",
       "    <tr>\n",
       "      <th>6</th>\n",
       "      <td>6</td>\n",
       "      <td>1.0</td>\n",
       "      <td>0.7294</td>\n",
       "      <td>work, buy, get, time, try, review, product, go...</td>\n",
       "      <td>Just like new...</td>\n",
       "    </tr>\n",
       "    <tr>\n",
       "      <th>7</th>\n",
       "      <td>7</td>\n",
       "      <td>3.0</td>\n",
       "      <td>0.6165</td>\n",
       "      <td>great, work, good, price, product, quality, ex...</td>\n",
       "      <td>It fit my canon camera and works greats. The p...</td>\n",
       "    </tr>\n",
       "    <tr>\n",
       "      <th>8</th>\n",
       "      <td>8</td>\n",
       "      <td>3.0</td>\n",
       "      <td>0.3924</td>\n",
       "      <td>great, work, good, price, product, quality, ex...</td>\n",
       "      <td>Good for the price. The image quality is good,...</td>\n",
       "    </tr>\n",
       "    <tr>\n",
       "      <th>9</th>\n",
       "      <td>9</td>\n",
       "      <td>3.0</td>\n",
       "      <td>0.7989</td>\n",
       "      <td>great, work, good, price, product, quality, ex...</td>\n",
       "      <td>Great Product would purchase again.</td>\n",
       "    </tr>\n",
       "  </tbody>\n",
       "</table>\n",
       "</div>"
      ],
      "text/plain": [
       "   Document_No  Dominant_Topic  Topic_Perc_Contrib  \\\n",
       "0            0             0.0              0.9593   \n",
       "1            1             0.0              0.8632   \n",
       "2            2             0.0              0.6468   \n",
       "3            3             1.0              0.5476   \n",
       "4            4             3.0              0.5993   \n",
       "5            5             3.0              0.7328   \n",
       "6            6             1.0              0.7294   \n",
       "7            7             3.0              0.6165   \n",
       "8            8             3.0              0.3924   \n",
       "9            9             3.0              0.7989   \n",
       "\n",
       "                                            Keywords  \\\n",
       "0  picture, camera, lens, use, love, great, image...   \n",
       "1  picture, camera, lens, use, love, great, image...   \n",
       "2  picture, camera, lens, use, love, great, image...   \n",
       "3  work, buy, get, time, try, review, product, go...   \n",
       "4  great, work, good, price, product, quality, ex...   \n",
       "5  great, work, good, price, product, quality, ex...   \n",
       "6  work, buy, get, time, try, review, product, go...   \n",
       "7  great, work, good, price, product, quality, ex...   \n",
       "8  great, work, good, price, product, quality, ex...   \n",
       "9  great, work, good, price, product, quality, ex...   \n",
       "\n",
       "                                                Text  \n",
       "0  I bought this lens for my Rebel 2000 camera an...  \n",
       "1  Canon EF Lenses Have A Built In AF Motor..Comp...  \n",
       "2  I bought this lens about six months after repl...  \n",
       "3  Bought this as a replacement and it was worth ...  \n",
       "4                                               good  \n",
       "5                                 good for starters.  \n",
       "6                                   Just like new...  \n",
       "7  It fit my canon camera and works greats. The p...  \n",
       "8  Good for the price. The image quality is good,...  \n",
       "9                Great Product would purchase again.  "
      ]
     },
     "execution_count": 73,
     "metadata": {},
     "output_type": "execute_result"
    }
   ],
   "source": [
    "df_dominant_topic.head(10)"
   ]
  },
  {
   "cell_type": "code",
   "execution_count": 88,
   "metadata": {},
   "outputs": [
    {
     "data": {
      "text/plain": [
       "Document_No            0\n",
       "Dominant_Topic        95\n",
       "Topic_Perc_Contrib    95\n",
       "Keywords              95\n",
       "Text                  95\n",
       "dtype: int64"
      ]
     },
     "execution_count": 88,
     "metadata": {},
     "output_type": "execute_result"
    }
   ],
   "source": [
    "df_dominant_topic.isna().sum()"
   ]
  },
  {
   "cell_type": "code",
   "execution_count": 74,
   "metadata": {},
   "outputs": [
    {
     "data": {
      "text/html": [
       "<div>\n",
       "<style scoped>\n",
       "    .dataframe tbody tr th:only-of-type {\n",
       "        vertical-align: middle;\n",
       "    }\n",
       "\n",
       "    .dataframe tbody tr th {\n",
       "        vertical-align: top;\n",
       "    }\n",
       "\n",
       "    .dataframe thead th {\n",
       "        text-align: right;\n",
       "    }\n",
       "</style>\n",
       "<table border=\"1\" class=\"dataframe\">\n",
       "  <thead>\n",
       "    <tr style=\"text-align: right;\">\n",
       "      <th></th>\n",
       "      <th>Dominant_Topic</th>\n",
       "      <th>Topic_Keywords</th>\n",
       "      <th>Num_Documents</th>\n",
       "      <th>Perc_Documents</th>\n",
       "    </tr>\n",
       "  </thead>\n",
       "  <tbody>\n",
       "    <tr>\n",
       "      <th>0.0</th>\n",
       "      <td>0.0</td>\n",
       "      <td>picture, camera, lens, use, love, great, image...</td>\n",
       "      <td>34244.0</td>\n",
       "      <td>0.2644</td>\n",
       "    </tr>\n",
       "    <tr>\n",
       "      <th>1.0</th>\n",
       "      <td>0.0</td>\n",
       "      <td>picture, camera, lens, use, love, great, image...</td>\n",
       "      <td>13073.0</td>\n",
       "      <td>0.1010</td>\n",
       "    </tr>\n",
       "    <tr>\n",
       "      <th>2.0</th>\n",
       "      <td>0.0</td>\n",
       "      <td>picture, camera, lens, use, love, great, image...</td>\n",
       "      <td>23867.0</td>\n",
       "      <td>0.1843</td>\n",
       "    </tr>\n",
       "    <tr>\n",
       "      <th>3.0</th>\n",
       "      <td>1.0</td>\n",
       "      <td>work, buy, get, time, try, review, product, go...</td>\n",
       "      <td>27702.0</td>\n",
       "      <td>0.2139</td>\n",
       "    </tr>\n",
       "    <tr>\n",
       "      <th>4.0</th>\n",
       "      <td>3.0</td>\n",
       "      <td>great, work, good, price, product, quality, ex...</td>\n",
       "      <td>30611.0</td>\n",
       "      <td>0.2364</td>\n",
       "    </tr>\n",
       "    <tr>\n",
       "      <th>...</th>\n",
       "      <td>...</td>\n",
       "      <td>...</td>\n",
       "      <td>...</td>\n",
       "      <td>...</td>\n",
       "    </tr>\n",
       "    <tr>\n",
       "      <th>129587.0</th>\n",
       "      <td>NaN</td>\n",
       "      <td>NaN</td>\n",
       "      <td>NaN</td>\n",
       "      <td>NaN</td>\n",
       "    </tr>\n",
       "    <tr>\n",
       "      <th>129588.0</th>\n",
       "      <td>NaN</td>\n",
       "      <td>NaN</td>\n",
       "      <td>NaN</td>\n",
       "      <td>NaN</td>\n",
       "    </tr>\n",
       "    <tr>\n",
       "      <th>129589.0</th>\n",
       "      <td>NaN</td>\n",
       "      <td>NaN</td>\n",
       "      <td>NaN</td>\n",
       "      <td>NaN</td>\n",
       "    </tr>\n",
       "    <tr>\n",
       "      <th>129590.0</th>\n",
       "      <td>NaN</td>\n",
       "      <td>NaN</td>\n",
       "      <td>NaN</td>\n",
       "      <td>NaN</td>\n",
       "    </tr>\n",
       "    <tr>\n",
       "      <th>129591.0</th>\n",
       "      <td>NaN</td>\n",
       "      <td>NaN</td>\n",
       "      <td>NaN</td>\n",
       "      <td>NaN</td>\n",
       "    </tr>\n",
       "  </tbody>\n",
       "</table>\n",
       "<p>129592 rows × 4 columns</p>\n",
       "</div>"
      ],
      "text/plain": [
       "          Dominant_Topic                                     Topic_Keywords  \\\n",
       "0.0                  0.0  picture, camera, lens, use, love, great, image...   \n",
       "1.0                  0.0  picture, camera, lens, use, love, great, image...   \n",
       "2.0                  0.0  picture, camera, lens, use, love, great, image...   \n",
       "3.0                  1.0  work, buy, get, time, try, review, product, go...   \n",
       "4.0                  3.0  great, work, good, price, product, quality, ex...   \n",
       "...                  ...                                                ...   \n",
       "129587.0             NaN                                                NaN   \n",
       "129588.0             NaN                                                NaN   \n",
       "129589.0             NaN                                                NaN   \n",
       "129590.0             NaN                                                NaN   \n",
       "129591.0             NaN                                                NaN   \n",
       "\n",
       "          Num_Documents  Perc_Documents  \n",
       "0.0             34244.0          0.2644  \n",
       "1.0             13073.0          0.1010  \n",
       "2.0             23867.0          0.1843  \n",
       "3.0             27702.0          0.2139  \n",
       "4.0             30611.0          0.2364  \n",
       "...                 ...             ...  \n",
       "129587.0            NaN             NaN  \n",
       "129588.0            NaN             NaN  \n",
       "129589.0            NaN             NaN  \n",
       "129590.0            NaN             NaN  \n",
       "129591.0            NaN             NaN  \n",
       "\n",
       "[129592 rows x 4 columns]"
      ]
     },
     "execution_count": 74,
     "metadata": {},
     "output_type": "execute_result"
    }
   ],
   "source": [
    "# Number of Documents for Each Topic\n",
    "topic_counts = df_topic_sents_keywords['Dominant_Topic'].value_counts()\n",
    "\n",
    "# Percentage of Documents for Each Topic\n",
    "topic_contribution = round(topic_counts/topic_counts.sum(), 4)\n",
    "\n",
    "# Topic Number and Keywords\n",
    "topic_num_keywords = df_topic_sents_keywords[['Dominant_Topic', 'Topic_Keywords']]\n",
    "\n",
    "# Concatenate Column wise\n",
    "df_dominant_topics = pd.concat([topic_num_keywords, topic_counts, topic_contribution], axis=1)\n",
    "\n",
    "# Change Column names\n",
    "df_dominant_topics.columns = ['Dominant_Topic', 'Topic_Keywords', 'Num_Documents', 'Perc_Documents']\n",
    "\n",
    "# Show\n",
    "df_dominant_topics"
   ]
  },
  {
   "cell_type": "code",
   "execution_count": 76,
   "metadata": {},
   "outputs": [
    {
     "data": {
      "text/plain": [
       "Dominant_Topic        95\n",
       "Topic_Keywords        95\n",
       "Num_Documents     129587\n",
       "Perc_Documents    129587\n",
       "dtype: int64"
      ]
     },
     "execution_count": 76,
     "metadata": {},
     "output_type": "execute_result"
    }
   ],
   "source": [
    "df_dominant_topics.isna().sum()"
   ]
  },
  {
   "cell_type": "code",
   "execution_count": 77,
   "metadata": {},
   "outputs": [
    {
     "data": {
      "text/html": [
       "<div>\n",
       "<style scoped>\n",
       "    .dataframe tbody tr th:only-of-type {\n",
       "        vertical-align: middle;\n",
       "    }\n",
       "\n",
       "    .dataframe tbody tr th {\n",
       "        vertical-align: top;\n",
       "    }\n",
       "\n",
       "    .dataframe thead th {\n",
       "        text-align: right;\n",
       "    }\n",
       "</style>\n",
       "<table border=\"1\" class=\"dataframe\">\n",
       "  <thead>\n",
       "    <tr style=\"text-align: right;\">\n",
       "      <th></th>\n",
       "      <th>Dominant_Topic</th>\n",
       "      <th>Topic_Keywords</th>\n",
       "      <th>Num_Documents</th>\n",
       "      <th>Perc_Documents</th>\n",
       "    </tr>\n",
       "  </thead>\n",
       "  <tbody>\n",
       "    <tr>\n",
       "      <th>0.0</th>\n",
       "      <td>0.0</td>\n",
       "      <td>picture, camera, lens, use, love, great, image...</td>\n",
       "      <td>34244.0</td>\n",
       "      <td>0.2644</td>\n",
       "    </tr>\n",
       "    <tr>\n",
       "      <th>1.0</th>\n",
       "      <td>0.0</td>\n",
       "      <td>picture, camera, lens, use, love, great, image...</td>\n",
       "      <td>13073.0</td>\n",
       "      <td>0.1010</td>\n",
       "    </tr>\n",
       "    <tr>\n",
       "      <th>2.0</th>\n",
       "      <td>0.0</td>\n",
       "      <td>picture, camera, lens, use, love, great, image...</td>\n",
       "      <td>23867.0</td>\n",
       "      <td>0.1843</td>\n",
       "    </tr>\n",
       "    <tr>\n",
       "      <th>3.0</th>\n",
       "      <td>1.0</td>\n",
       "      <td>work, buy, get, time, try, review, product, go...</td>\n",
       "      <td>27702.0</td>\n",
       "      <td>0.2139</td>\n",
       "    </tr>\n",
       "    <tr>\n",
       "      <th>4.0</th>\n",
       "      <td>3.0</td>\n",
       "      <td>great, work, good, price, product, quality, ex...</td>\n",
       "      <td>30611.0</td>\n",
       "      <td>0.2364</td>\n",
       "    </tr>\n",
       "    <tr>\n",
       "      <th>5.0</th>\n",
       "      <td>3.0</td>\n",
       "      <td>great, work, good, price, product, quality, ex...</td>\n",
       "      <td>NaN</td>\n",
       "      <td>NaN</td>\n",
       "    </tr>\n",
       "    <tr>\n",
       "      <th>6.0</th>\n",
       "      <td>1.0</td>\n",
       "      <td>work, buy, get, time, try, review, product, go...</td>\n",
       "      <td>NaN</td>\n",
       "      <td>NaN</td>\n",
       "    </tr>\n",
       "    <tr>\n",
       "      <th>7.0</th>\n",
       "      <td>3.0</td>\n",
       "      <td>great, work, good, price, product, quality, ex...</td>\n",
       "      <td>NaN</td>\n",
       "      <td>NaN</td>\n",
       "    </tr>\n",
       "    <tr>\n",
       "      <th>8.0</th>\n",
       "      <td>3.0</td>\n",
       "      <td>great, work, good, price, product, quality, ex...</td>\n",
       "      <td>NaN</td>\n",
       "      <td>NaN</td>\n",
       "    </tr>\n",
       "    <tr>\n",
       "      <th>9.0</th>\n",
       "      <td>3.0</td>\n",
       "      <td>great, work, good, price, product, quality, ex...</td>\n",
       "      <td>NaN</td>\n",
       "      <td>NaN</td>\n",
       "    </tr>\n",
       "  </tbody>\n",
       "</table>\n",
       "</div>"
      ],
      "text/plain": [
       "     Dominant_Topic                                     Topic_Keywords  \\\n",
       "0.0             0.0  picture, camera, lens, use, love, great, image...   \n",
       "1.0             0.0  picture, camera, lens, use, love, great, image...   \n",
       "2.0             0.0  picture, camera, lens, use, love, great, image...   \n",
       "3.0             1.0  work, buy, get, time, try, review, product, go...   \n",
       "4.0             3.0  great, work, good, price, product, quality, ex...   \n",
       "5.0             3.0  great, work, good, price, product, quality, ex...   \n",
       "6.0             1.0  work, buy, get, time, try, review, product, go...   \n",
       "7.0             3.0  great, work, good, price, product, quality, ex...   \n",
       "8.0             3.0  great, work, good, price, product, quality, ex...   \n",
       "9.0             3.0  great, work, good, price, product, quality, ex...   \n",
       "\n",
       "     Num_Documents  Perc_Documents  \n",
       "0.0        34244.0          0.2644  \n",
       "1.0        13073.0          0.1010  \n",
       "2.0        23867.0          0.1843  \n",
       "3.0        27702.0          0.2139  \n",
       "4.0        30611.0          0.2364  \n",
       "5.0            NaN             NaN  \n",
       "6.0            NaN             NaN  \n",
       "7.0            NaN             NaN  \n",
       "8.0            NaN             NaN  \n",
       "9.0            NaN             NaN  "
      ]
     },
     "execution_count": 77,
     "metadata": {},
     "output_type": "execute_result"
    }
   ],
   "source": [
    "df_dominant_topics.head(10)"
   ]
  },
  {
   "cell_type": "code",
   "execution_count": null,
   "metadata": {},
   "outputs": [],
   "source": []
  }
 ],
 "metadata": {
  "kernelspec": {
   "display_name": "Python (learn-env)",
   "language": "python",
   "name": "learn-env"
  },
  "language_info": {
   "codemirror_mode": {
    "name": "ipython",
    "version": 3
   },
   "file_extension": ".py",
   "mimetype": "text/x-python",
   "name": "python",
   "nbconvert_exporter": "python",
   "pygments_lexer": "ipython3",
   "version": "3.8.5"
  }
 },
 "nbformat": 4,
 "nbformat_minor": 4
}
