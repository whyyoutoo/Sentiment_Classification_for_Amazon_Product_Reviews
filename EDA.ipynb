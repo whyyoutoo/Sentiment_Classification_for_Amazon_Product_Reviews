{
 "cells": [
  {
   "cell_type": "markdown",
   "metadata": {},
   "source": [
    "# Buisness Problem\n"
   ]
  },
  {
   "cell_type": "markdown",
   "metadata": {},
   "source": [
    "# Data Understanding"
   ]
  },
  {
   "cell_type": "markdown",
   "metadata": {},
   "source": [
    "# Data Preperation"
   ]
  },
  {
   "cell_type": "code",
   "execution_count": 1,
   "metadata": {},
   "outputs": [],
   "source": [
    "import pandas as pd\n",
    "import numpy as np\n",
    "import json\n",
    "\n",
    "import matplotlib.pyplot as plt\n",
    "\n",
    "import gzip\n",
    "from nltk import word_tokenize, sent_tokenize\n",
    "from nltk.corpus import stopwords, wordnet\n",
    "from nltk.stem import WordNetLemmatizer\n",
    "\n",
    "from nltk.sentiment import SentimentIntensityAnalyzer\n",
    "\n",
    "import re\n",
    "\n",
    "import string\n",
    "\n",
    "from sklearn.feature_extraction.text import CountVectorizer, TfidfVectorizer\n",
    "\n",
    "from sklearn.linear_model import LogisticRegression\n",
    "from sklearn.naive_bayes import MultinomialNB\n",
    "from sklearn.ensemble import RandomForestClassifier\n",
    "\n",
    "from sklearn.model_selection import train_test_split\n",
    "\n",
    "from sklearn.metrics import roc_auc_score, accuracy_score, f1_score"
   ]
  },
  {
   "cell_type": "code",
   "execution_count": 42,
   "metadata": {},
   "outputs": [],
   "source": [
    "import seaborn as sns"
   ]
  },
  {
   "cell_type": "code",
   "execution_count": 2,
   "metadata": {},
   "outputs": [],
   "source": [
    "import contractions"
   ]
  },
  {
   "cell_type": "code",
   "execution_count": 29,
   "metadata": {},
   "outputs": [],
   "source": [
    "from bs4 import BeautifulSoup"
   ]
  },
  {
   "cell_type": "code",
   "execution_count": 3,
   "metadata": {},
   "outputs": [
    {
     "name": "stderr",
     "output_type": "stream",
     "text": [
      "C:\\Users\\PC\\anaconda3\\envs\\learn-env\\lib\\site-packages\\scipy\\sparse\\sparsetools.py:21: DeprecationWarning: `scipy.sparse.sparsetools` is deprecated!\n",
      "scipy.sparse.sparsetools is a private module for scipy.sparse, and should not be used.\n",
      "  _deprecated()\n"
     ]
    }
   ],
   "source": [
    "import pyLDAvis\n",
    "import pyLDAvis.gensim_models\n",
    "\n",
    "import gensim\n",
    "import gensim.corpora as corpora\n",
    "from gensim.utils import simple_preprocess\n",
    "from gensim.models import CoherenceModel\n",
    "\n",
    "import warnings\n",
    "warnings.filterwarnings(\"ignore\", category=DeprecationWarning)"
   ]
  },
  {
   "cell_type": "markdown",
   "metadata": {},
   "source": [
    "## Subsetting data"
   ]
  },
  {
   "cell_type": "markdown",
   "metadata": {},
   "source": [
    "## Initial Pre-processing"
   ]
  },
  {
   "cell_type": "markdown",
   "metadata": {},
   "source": [
    "# Data Exploration"
   ]
  },
  {
   "cell_type": "markdown",
   "metadata": {},
   "source": [
    "## EDA"
   ]
  },
  {
   "cell_type": "code",
   "execution_count": 4,
   "metadata": {},
   "outputs": [],
   "source": [
    "df = pd.read_csv('data/reviews_subset.csv')"
   ]
  },
  {
   "cell_type": "code",
   "execution_count": 5,
   "metadata": {},
   "outputs": [
    {
     "data": {
      "text/html": [
       "<div>\n",
       "<style scoped>\n",
       "    .dataframe tbody tr th:only-of-type {\n",
       "        vertical-align: middle;\n",
       "    }\n",
       "\n",
       "    .dataframe tbody tr th {\n",
       "        vertical-align: top;\n",
       "    }\n",
       "\n",
       "    .dataframe thead th {\n",
       "        text-align: right;\n",
       "    }\n",
       "</style>\n",
       "<table border=\"1\" class=\"dataframe\">\n",
       "  <thead>\n",
       "    <tr style=\"text-align: right;\">\n",
       "      <th></th>\n",
       "      <th>overall</th>\n",
       "      <th>reviewText</th>\n",
       "      <th>verified</th>\n",
       "      <th>asin</th>\n",
       "      <th>brand</th>\n",
       "      <th>title</th>\n",
       "    </tr>\n",
       "  </thead>\n",
       "  <tbody>\n",
       "    <tr>\n",
       "      <th>0</th>\n",
       "      <td>4.0</td>\n",
       "      <td>I bought this lens for my Rebel 2000 camera an...</td>\n",
       "      <td>False</td>\n",
       "      <td>B00004THD0</td>\n",
       "      <td>Canon</td>\n",
       "      <td>Canon EF 75-300mm f/4-5.6 III Telephoto Zoom L...</td>\n",
       "    </tr>\n",
       "    <tr>\n",
       "      <th>1</th>\n",
       "      <td>4.0</td>\n",
       "      <td>Canon EF Lenses Have A Built In AF Motor..Comp...</td>\n",
       "      <td>False</td>\n",
       "      <td>B00004THD0</td>\n",
       "      <td>Canon</td>\n",
       "      <td>Canon EF 75-300mm f/4-5.6 III Telephoto Zoom L...</td>\n",
       "    </tr>\n",
       "    <tr>\n",
       "      <th>2</th>\n",
       "      <td>5.0</td>\n",
       "      <td>I bought this lens about six months after repl...</td>\n",
       "      <td>False</td>\n",
       "      <td>B00004THD0</td>\n",
       "      <td>Canon</td>\n",
       "      <td>Canon EF 75-300mm f/4-5.6 III Telephoto Zoom L...</td>\n",
       "    </tr>\n",
       "    <tr>\n",
       "      <th>3</th>\n",
       "      <td>5.0</td>\n",
       "      <td>Bought this as a replacement and it was worth ...</td>\n",
       "      <td>True</td>\n",
       "      <td>B00004THD0</td>\n",
       "      <td>Canon</td>\n",
       "      <td>Canon EF 75-300mm f/4-5.6 III Telephoto Zoom L...</td>\n",
       "    </tr>\n",
       "    <tr>\n",
       "      <th>4</th>\n",
       "      <td>5.0</td>\n",
       "      <td>good</td>\n",
       "      <td>True</td>\n",
       "      <td>B00004THD0</td>\n",
       "      <td>Canon</td>\n",
       "      <td>Canon EF 75-300mm f/4-5.6 III Telephoto Zoom L...</td>\n",
       "    </tr>\n",
       "  </tbody>\n",
       "</table>\n",
       "</div>"
      ],
      "text/plain": [
       "   overall                                         reviewText  verified  \\\n",
       "0      4.0  I bought this lens for my Rebel 2000 camera an...     False   \n",
       "1      4.0  Canon EF Lenses Have A Built In AF Motor..Comp...     False   \n",
       "2      5.0  I bought this lens about six months after repl...     False   \n",
       "3      5.0  Bought this as a replacement and it was worth ...      True   \n",
       "4      5.0                                               good      True   \n",
       "\n",
       "         asin  brand                                              title  \n",
       "0  B00004THD0  Canon  Canon EF 75-300mm f/4-5.6 III Telephoto Zoom L...  \n",
       "1  B00004THD0  Canon  Canon EF 75-300mm f/4-5.6 III Telephoto Zoom L...  \n",
       "2  B00004THD0  Canon  Canon EF 75-300mm f/4-5.6 III Telephoto Zoom L...  \n",
       "3  B00004THD0  Canon  Canon EF 75-300mm f/4-5.6 III Telephoto Zoom L...  \n",
       "4  B00004THD0  Canon  Canon EF 75-300mm f/4-5.6 III Telephoto Zoom L...  "
      ]
     },
     "execution_count": 5,
     "metadata": {},
     "output_type": "execute_result"
    }
   ],
   "source": [
    "df.head()"
   ]
  },
  {
   "cell_type": "code",
   "execution_count": 6,
   "metadata": {},
   "outputs": [
    {
     "name": "stdout",
     "output_type": "stream",
     "text": [
      "<class 'pandas.core.frame.DataFrame'>\n",
      "RangeIndex: 129592 entries, 0 to 129591\n",
      "Data columns (total 6 columns):\n",
      " #   Column      Non-Null Count   Dtype  \n",
      "---  ------      --------------   -----  \n",
      " 0   overall     129592 non-null  float64\n",
      " 1   reviewText  129550 non-null  object \n",
      " 2   verified    129592 non-null  bool   \n",
      " 3   asin        129592 non-null  object \n",
      " 4   brand       129592 non-null  object \n",
      " 5   title       129592 non-null  object \n",
      "dtypes: bool(1), float64(1), object(4)\n",
      "memory usage: 5.1+ MB\n"
     ]
    }
   ],
   "source": [
    "df.info()"
   ]
  },
  {
   "cell_type": "code",
   "execution_count": 7,
   "metadata": {},
   "outputs": [
    {
     "data": {
      "text/plain": [
       "overall        0\n",
       "reviewText    42\n",
       "verified       0\n",
       "asin           0\n",
       "brand          0\n",
       "title          0\n",
       "dtype: int64"
      ]
     },
     "execution_count": 7,
     "metadata": {},
     "output_type": "execute_result"
    }
   ],
   "source": [
    "df.isna().sum()"
   ]
  },
  {
   "cell_type": "code",
   "execution_count": 8,
   "metadata": {},
   "outputs": [],
   "source": [
    "df.dropna(inplace = True)"
   ]
  },
  {
   "cell_type": "code",
   "execution_count": 9,
   "metadata": {},
   "outputs": [
    {
     "data": {
      "text/plain": [
       "overall       0\n",
       "reviewText    0\n",
       "verified      0\n",
       "asin          0\n",
       "brand         0\n",
       "title         0\n",
       "dtype: int64"
      ]
     },
     "execution_count": 9,
     "metadata": {},
     "output_type": "execute_result"
    }
   ],
   "source": [
    "df.isna().sum()"
   ]
  },
  {
   "cell_type": "code",
   "execution_count": null,
   "metadata": {},
   "outputs": [],
   "source": []
  },
  {
   "cell_type": "code",
   "execution_count": 10,
   "metadata": {},
   "outputs": [
    {
     "data": {
      "text/plain": [
       "5.0    0.673987\n",
       "4.0    0.171764\n",
       "3.0    0.070853\n",
       "1.0    0.047781\n",
       "2.0    0.035616\n",
       "Name: overall, dtype: float64"
      ]
     },
     "execution_count": 10,
     "metadata": {},
     "output_type": "execute_result"
    }
   ],
   "source": [
    "df.overall.value_counts(normalize = True)"
   ]
  },
  {
   "cell_type": "code",
   "execution_count": null,
   "metadata": {},
   "outputs": [],
   "source": []
  },
  {
   "cell_type": "code",
   "execution_count": 6,
   "metadata": {},
   "outputs": [
    {
     "data": {
      "image/png": "[encoded data removed]",
      "text/plain": [
       "<Figure size 720x360 with 1 Axes>"
      ]
     },
     "metadata": {
      "needs_background": "light"
     },
     "output_type": "display_data"
    }
   ],
   "source": [
    "ax = df.overall.value_counts().sort_index().plot(kind = 'bar',\n",
    "                                            title = 'Count by Review Star',\n",
    "                                            figsize = (10,5))\n",
    "ax.set_xlabel('Review Stars');\n"
   ]
  },
  {
   "cell_type": "code",
   "execution_count": 30,
   "metadata": {},
   "outputs": [
    {
     "data": {
      "text/plain": [
       "True     119550\n",
       "False     10042\n",
       "Name: verified, dtype: int64"
      ]
     },
     "execution_count": 30,
     "metadata": {},
     "output_type": "execute_result"
    }
   ],
   "source": [
    "df.verified.value_counts()"
   ]
  },
  {
   "cell_type": "code",
   "execution_count": 29,
   "metadata": {},
   "outputs": [
    {
     "data": {
      "text/plain": [
       "<AxesSubplot:xlabel='verified', ylabel='overall'>"
      ]
     },
     "execution_count": 29,
     "metadata": {},
     "output_type": "execute_result"
    },
    {
     "data": {
      "image/png": "[encoded data removed]",
      "text/plain": [
       "<Figure size 432x288 with 1 Axes>"
      ]
     },
     "metadata": {
      "needs_background": "light"
     },
     "output_type": "display_data"
    }
   ],
   "source": [
    "sns.barplot(data = df, x = 'verified', y = 'overall')"
   ]
  },
  {
   "cell_type": "code",
   "execution_count": 31,
   "metadata": {},
   "outputs": [
    {
     "data": {
      "text/plain": [
       "Canon           13435\n",
       "Altura Photo     8562\n",
       "AmazonBasics     7935\n",
       "Nikon            6616\n",
       "Case Logic       6133\n",
       "                ...  \n",
       "Kastar            311\n",
       "Sigma             307\n",
       "SUNPAK            286\n",
       "Slik              269\n",
       "Lowepro           258\n",
       "Name: brand, Length: 66, dtype: int64"
      ]
     },
     "execution_count": 31,
     "metadata": {},
     "output_type": "execute_result"
    }
   ],
   "source": [
    "df.brand.value_counts()"
   ]
  },
  {
   "cell_type": "code",
   "execution_count": 60,
   "metadata": {},
   "outputs": [],
   "source": [
    "dfg = df.groupby('brand')['overall'].mean().sort_values(ascending = False)"
   ]
  },
  {
   "cell_type": "code",
   "execution_count": 61,
   "metadata": {},
   "outputs": [
    {
     "data": {
      "image/png": "[encoded data removed]",
      "text/plain": [
       "<Figure size 720x2160 with 1 Axes>"
      ]
     },
     "metadata": {
      "needs_background": "light"
     },
     "output_type": "display_data"
    }
   ],
   "source": [
    "fig, ax = plt.subplots(figsize = (10,30))\n",
    "ax = sns.barplot(x = dfg.values, y = dfg.index, orient = 'h')"
   ]
  },
  {
   "cell_type": "code",
   "execution_count": null,
   "metadata": {},
   "outputs": [],
   "source": []
  },
  {
   "cell_type": "code",
   "execution_count": null,
   "metadata": {},
   "outputs": [],
   "source": []
  },
  {
   "cell_type": "markdown",
   "metadata": {},
   "source": [
    "## Sentiment Validation of Star Ratings"
   ]
  },
  {
   "cell_type": "code",
   "execution_count": 12,
   "metadata": {},
   "outputs": [],
   "source": [
    "sia = SentimentIntensityAnalyzer()"
   ]
  },
  {
   "cell_type": "code",
   "execution_count": 11,
   "metadata": {},
   "outputs": [
    {
     "data": {
      "text/plain": [
       "'I bought this lens for my Rebel 2000 camera and have been very pleased with the results.  I never use autofocus, but the AF feature when I played with it was very fast and accurate.  I got the best pictures by using an all-around 800 Max film with this lens.'"
      ]
     },
     "execution_count": 11,
     "metadata": {},
     "output_type": "execute_result"
    }
   ],
   "source": [
    "df.reviewText[0]"
   ]
  },
  {
   "cell_type": "code",
   "execution_count": 12,
   "metadata": {},
   "outputs": [
    {
     "data": {
      "text/plain": [
       "4.0"
      ]
     },
     "execution_count": 12,
     "metadata": {},
     "output_type": "execute_result"
    }
   ],
   "source": [
    "df.overall[0]"
   ]
  },
  {
   "cell_type": "code",
   "execution_count": 13,
   "metadata": {},
   "outputs": [
    {
     "data": {
      "text/plain": [
       "{'neg': 0.024, 'neu': 0.774, 'pos': 0.203, 'compound': 0.8933}"
      ]
     },
     "execution_count": 13,
     "metadata": {},
     "output_type": "execute_result"
    }
   ],
   "source": [
    "sia.polarity_scores(df.reviewText[0])"
   ]
  },
  {
   "cell_type": "code",
   "execution_count": 13,
   "metadata": {},
   "outputs": [],
   "source": [
    "sent_val_df = df.copy()"
   ]
  },
  {
   "cell_type": "code",
   "execution_count": 17,
   "metadata": {},
   "outputs": [],
   "source": [
    "sent_val_df['compound'] = [sia.polarity_scores(str(x))['compound'] for x in df['reviewText']]\n",
    "sent_val_df['neg'] = [sia.polarity_scores(str(x))['neg'] for x in df['reviewText']]\n",
    "sent_val_df['neu'] = [sia.polarity_scores(str(x))['neu'] for x in df['reviewText']]\n",
    "sent_val_df['pos'] = [sia.polarity_scores(str(x))['pos'] for x in df['reviewText']]"
   ]
  },
  {
   "cell_type": "code",
   "execution_count": 18,
   "metadata": {},
   "outputs": [
    {
     "data": {
      "text/html": [
       "<div>\n",
       "<style scoped>\n",
       "    .dataframe tbody tr th:only-of-type {\n",
       "        vertical-align: middle;\n",
       "    }\n",
       "\n",
       "    .dataframe tbody tr th {\n",
       "        vertical-align: top;\n",
       "    }\n",
       "\n",
       "    .dataframe thead th {\n",
       "        text-align: right;\n",
       "    }\n",
       "</style>\n",
       "<table border=\"1\" class=\"dataframe\">\n",
       "  <thead>\n",
       "    <tr style=\"text-align: right;\">\n",
       "      <th></th>\n",
       "      <th>overall</th>\n",
       "      <th>reviewText</th>\n",
       "      <th>verified</th>\n",
       "      <th>asin</th>\n",
       "      <th>brand</th>\n",
       "      <th>title</th>\n",
       "      <th>compound</th>\n",
       "      <th>neg</th>\n",
       "      <th>neu</th>\n",
       "      <th>pos</th>\n",
       "    </tr>\n",
       "  </thead>\n",
       "  <tbody>\n",
       "    <tr>\n",
       "      <th>0</th>\n",
       "      <td>4.0</td>\n",
       "      <td>I bought this lens for my Rebel 2000 camera an...</td>\n",
       "      <td>False</td>\n",
       "      <td>B00004THD0</td>\n",
       "      <td>Canon</td>\n",
       "      <td>Canon EF 75-300mm f/4-5.6 III Telephoto Zoom L...</td>\n",
       "      <td>0.8933</td>\n",
       "      <td>0.024</td>\n",
       "      <td>0.774</td>\n",
       "      <td>0.203</td>\n",
       "    </tr>\n",
       "    <tr>\n",
       "      <th>1</th>\n",
       "      <td>4.0</td>\n",
       "      <td>Canon EF Lenses Have A Built In AF Motor..Comp...</td>\n",
       "      <td>False</td>\n",
       "      <td>B00004THD0</td>\n",
       "      <td>Canon</td>\n",
       "      <td>Canon EF 75-300mm f/4-5.6 III Telephoto Zoom L...</td>\n",
       "      <td>0.8979</td>\n",
       "      <td>0.022</td>\n",
       "      <td>0.900</td>\n",
       "      <td>0.078</td>\n",
       "    </tr>\n",
       "    <tr>\n",
       "      <th>2</th>\n",
       "      <td>5.0</td>\n",
       "      <td>I bought this lens about six months after repl...</td>\n",
       "      <td>False</td>\n",
       "      <td>B00004THD0</td>\n",
       "      <td>Canon</td>\n",
       "      <td>Canon EF 75-300mm f/4-5.6 III Telephoto Zoom L...</td>\n",
       "      <td>0.6739</td>\n",
       "      <td>0.078</td>\n",
       "      <td>0.825</td>\n",
       "      <td>0.097</td>\n",
       "    </tr>\n",
       "    <tr>\n",
       "      <th>3</th>\n",
       "      <td>5.0</td>\n",
       "      <td>Bought this as a replacement and it was worth ...</td>\n",
       "      <td>True</td>\n",
       "      <td>B00004THD0</td>\n",
       "      <td>Canon</td>\n",
       "      <td>Canon EF 75-300mm f/4-5.6 III Telephoto Zoom L...</td>\n",
       "      <td>0.8516</td>\n",
       "      <td>0.000</td>\n",
       "      <td>0.671</td>\n",
       "      <td>0.329</td>\n",
       "    </tr>\n",
       "    <tr>\n",
       "      <th>4</th>\n",
       "      <td>5.0</td>\n",
       "      <td>good</td>\n",
       "      <td>True</td>\n",
       "      <td>B00004THD0</td>\n",
       "      <td>Canon</td>\n",
       "      <td>Canon EF 75-300mm f/4-5.6 III Telephoto Zoom L...</td>\n",
       "      <td>0.4404</td>\n",
       "      <td>0.000</td>\n",
       "      <td>0.000</td>\n",
       "      <td>1.000</td>\n",
       "    </tr>\n",
       "  </tbody>\n",
       "</table>\n",
       "</div>"
      ],
      "text/plain": [
       "   overall                                         reviewText  verified  \\\n",
       "0      4.0  I bought this lens for my Rebel 2000 camera an...     False   \n",
       "1      4.0  Canon EF Lenses Have A Built In AF Motor..Comp...     False   \n",
       "2      5.0  I bought this lens about six months after repl...     False   \n",
       "3      5.0  Bought this as a replacement and it was worth ...      True   \n",
       "4      5.0                                               good      True   \n",
       "\n",
       "         asin  brand                                              title  \\\n",
       "0  B00004THD0  Canon  Canon EF 75-300mm f/4-5.6 III Telephoto Zoom L...   \n",
       "1  B00004THD0  Canon  Canon EF 75-300mm f/4-5.6 III Telephoto Zoom L...   \n",
       "2  B00004THD0  Canon  Canon EF 75-300mm f/4-5.6 III Telephoto Zoom L...   \n",
       "3  B00004THD0  Canon  Canon EF 75-300mm f/4-5.6 III Telephoto Zoom L...   \n",
       "4  B00004THD0  Canon  Canon EF 75-300mm f/4-5.6 III Telephoto Zoom L...   \n",
       "\n",
       "   compound    neg    neu    pos  \n",
       "0    0.8933  0.024  0.774  0.203  \n",
       "1    0.8979  0.022  0.900  0.078  \n",
       "2    0.6739  0.078  0.825  0.097  \n",
       "3    0.8516  0.000  0.671  0.329  \n",
       "4    0.4404  0.000  0.000  1.000  "
      ]
     },
     "execution_count": 18,
     "metadata": {},
     "output_type": "execute_result"
    }
   ],
   "source": [
    "sent_val_df.head()"
   ]
  },
  {
   "cell_type": "code",
   "execution_count": 24,
   "metadata": {},
   "outputs": [],
   "source": [
    "import seaborn as sns"
   ]
  },
  {
   "cell_type": "code",
   "execution_count": 25,
   "metadata": {},
   "outputs": [
    {
     "data": {
      "image/png": "[encoded data removed]",
      "text/plain": [
       "<Figure size 432x288 with 1 Axes>"
      ]
     },
     "metadata": {
      "needs_background": "light"
     },
     "output_type": "display_data"
    }
   ],
   "source": [
    "ax = sns.barplot(data = sent_val_df, x = 'overall', y = 'compound')"
   ]
  },
  {
   "cell_type": "code",
   "execution_count": 28,
   "metadata": {},
   "outputs": [
    {
     "data": {
      "text/plain": [
       "Text(0.5, 1.0, 'Negative')"
      ]
     },
     "execution_count": 28,
     "metadata": {},
     "output_type": "execute_result"
    },
    {
     "data": {
      "image/png": "[encoded data removed]",
      "text/plain": [
       "<Figure size 1080x360 with 3 Axes>"
      ]
     },
     "metadata": {
      "needs_background": "light"
     },
     "output_type": "display_data"
    }
   ],
   "source": [
    "fig, axs = plt.subplots(1, 3, figsize=(15,5))\n",
    "sns.barplot(data = sent_val_df, x = 'overall', y = 'pos', ax = axs[0])\n",
    "sns.barplot(data = sent_val_df, x = 'overall', y = 'neu', ax = axs[1])\n",
    "sns.barplot(data = sent_val_df, x = 'overall', y = 'neg', ax = axs[2])\n",
    "axs[0].set_title('Positive')\n",
    "axs[1].set_title('Neutral')\n",
    "axs[2].set_title('Negative');"
   ]
  },
  {
   "cell_type": "code",
   "execution_count": 15,
   "metadata": {},
   "outputs": [],
   "source": [
    "def label_encode(x):\n",
    "    if x <= 3:\n",
    "        return 0\n",
    "    if x > 3:\n",
    "        return 1"
   ]
  },
  {
   "cell_type": "code",
   "execution_count": 16,
   "metadata": {},
   "outputs": [],
   "source": [
    "df[\"sentiment\"] = df[\"overall\"].apply(lambda x: label_encode(x))"
   ]
  },
  {
   "cell_type": "code",
   "execution_count": 17,
   "metadata": {},
   "outputs": [
    {
     "data": {
      "text/plain": [
       "1    0.845751\n",
       "0    0.154249\n",
       "Name: sentiment, dtype: float64"
      ]
     },
     "execution_count": 17,
     "metadata": {},
     "output_type": "execute_result"
    }
   ],
   "source": [
    "df['sentiment'].value_counts(normalize = True)"
   ]
  },
  {
   "cell_type": "markdown",
   "metadata": {},
   "source": [
    "## Text Pre-processing"
   ]
  },
  {
   "cell_type": "markdown",
   "metadata": {},
   "source": []
  },
  {
   "cell_type": "code",
   "execution_count": null,
   "metadata": {},
   "outputs": [],
   "source": []
  },
  {
   "cell_type": "code",
   "execution_count": 18,
   "metadata": {},
   "outputs": [],
   "source": [
    "def word_count(text):\n",
    "    return len(word_tokenize(text))"
   ]
  },
  {
   "cell_type": "code",
   "execution_count": 19,
   "metadata": {},
   "outputs": [],
   "source": [
    "df['word_count'] = df.reviewText.apply(lambda x: word_count(x))"
   ]
  },
  {
   "cell_type": "code",
   "execution_count": null,
   "metadata": {},
   "outputs": [],
   "source": []
  },
  {
   "cell_type": "code",
   "execution_count": 20,
   "metadata": {},
   "outputs": [
    {
     "data": {
      "text/html": [
       "<div>\n",
       "<style scoped>\n",
       "    .dataframe tbody tr th:only-of-type {\n",
       "        vertical-align: middle;\n",
       "    }\n",
       "\n",
       "    .dataframe tbody tr th {\n",
       "        vertical-align: top;\n",
       "    }\n",
       "\n",
       "    .dataframe thead th {\n",
       "        text-align: right;\n",
       "    }\n",
       "</style>\n",
       "<table border=\"1\" class=\"dataframe\">\n",
       "  <thead>\n",
       "    <tr style=\"text-align: right;\">\n",
       "      <th></th>\n",
       "      <th>overall</th>\n",
       "      <th>reviewText</th>\n",
       "      <th>verified</th>\n",
       "      <th>asin</th>\n",
       "      <th>brand</th>\n",
       "      <th>title</th>\n",
       "      <th>sentiment</th>\n",
       "      <th>word_count</th>\n",
       "    </tr>\n",
       "  </thead>\n",
       "  <tbody>\n",
       "    <tr>\n",
       "      <th>0</th>\n",
       "      <td>4.0</td>\n",
       "      <td>I bought this lens for my Rebel 2000 camera an...</td>\n",
       "      <td>False</td>\n",
       "      <td>B00004THD0</td>\n",
       "      <td>Canon</td>\n",
       "      <td>Canon EF 75-300mm f/4-5.6 III Telephoto Zoom L...</td>\n",
       "      <td>1</td>\n",
       "      <td>54</td>\n",
       "    </tr>\n",
       "    <tr>\n",
       "      <th>1</th>\n",
       "      <td>4.0</td>\n",
       "      <td>Canon EF Lenses Have A Built In AF Motor..Comp...</td>\n",
       "      <td>False</td>\n",
       "      <td>B00004THD0</td>\n",
       "      <td>Canon</td>\n",
       "      <td>Canon EF 75-300mm f/4-5.6 III Telephoto Zoom L...</td>\n",
       "      <td>1</td>\n",
       "      <td>211</td>\n",
       "    </tr>\n",
       "    <tr>\n",
       "      <th>2</th>\n",
       "      <td>5.0</td>\n",
       "      <td>I bought this lens about six months after repl...</td>\n",
       "      <td>False</td>\n",
       "      <td>B00004THD0</td>\n",
       "      <td>Canon</td>\n",
       "      <td>Canon EF 75-300mm f/4-5.6 III Telephoto Zoom L...</td>\n",
       "      <td>1</td>\n",
       "      <td>191</td>\n",
       "    </tr>\n",
       "    <tr>\n",
       "      <th>3</th>\n",
       "      <td>5.0</td>\n",
       "      <td>Bought this as a replacement and it was worth ...</td>\n",
       "      <td>True</td>\n",
       "      <td>B00004THD0</td>\n",
       "      <td>Canon</td>\n",
       "      <td>Canon EF 75-300mm f/4-5.6 III Telephoto Zoom L...</td>\n",
       "      <td>1</td>\n",
       "      <td>30</td>\n",
       "    </tr>\n",
       "    <tr>\n",
       "      <th>4</th>\n",
       "      <td>5.0</td>\n",
       "      <td>good</td>\n",
       "      <td>True</td>\n",
       "      <td>B00004THD0</td>\n",
       "      <td>Canon</td>\n",
       "      <td>Canon EF 75-300mm f/4-5.6 III Telephoto Zoom L...</td>\n",
       "      <td>1</td>\n",
       "      <td>1</td>\n",
       "    </tr>\n",
       "  </tbody>\n",
       "</table>\n",
       "</div>"
      ],
      "text/plain": [
       "   overall                                         reviewText  verified  \\\n",
       "0      4.0  I bought this lens for my Rebel 2000 camera an...     False   \n",
       "1      4.0  Canon EF Lenses Have A Built In AF Motor..Comp...     False   \n",
       "2      5.0  I bought this lens about six months after repl...     False   \n",
       "3      5.0  Bought this as a replacement and it was worth ...      True   \n",
       "4      5.0                                               good      True   \n",
       "\n",
       "         asin  brand                                              title  \\\n",
       "0  B00004THD0  Canon  Canon EF 75-300mm f/4-5.6 III Telephoto Zoom L...   \n",
       "1  B00004THD0  Canon  Canon EF 75-300mm f/4-5.6 III Telephoto Zoom L...   \n",
       "2  B00004THD0  Canon  Canon EF 75-300mm f/4-5.6 III Telephoto Zoom L...   \n",
       "3  B00004THD0  Canon  Canon EF 75-300mm f/4-5.6 III Telephoto Zoom L...   \n",
       "4  B00004THD0  Canon  Canon EF 75-300mm f/4-5.6 III Telephoto Zoom L...   \n",
       "\n",
       "   sentiment  word_count  \n",
       "0          1          54  \n",
       "1          1         211  \n",
       "2          1         191  \n",
       "3          1          30  \n",
       "4          1           1  "
      ]
     },
     "execution_count": 20,
     "metadata": {},
     "output_type": "execute_result"
    }
   ],
   "source": [
    "df.head()"
   ]
  },
  {
   "cell_type": "code",
   "execution_count": 21,
   "metadata": {},
   "outputs": [],
   "source": [
    "text_stats_df = df[['reviewText', 'sentiment', 'word_count']].copy()"
   ]
  },
  {
   "cell_type": "code",
   "execution_count": 22,
   "metadata": {},
   "outputs": [
    {
     "data": {
      "text/html": [
       "<div>\n",
       "<style scoped>\n",
       "    .dataframe tbody tr th:only-of-type {\n",
       "        vertical-align: middle;\n",
       "    }\n",
       "\n",
       "    .dataframe tbody tr th {\n",
       "        vertical-align: top;\n",
       "    }\n",
       "\n",
       "    .dataframe thead th {\n",
       "        text-align: right;\n",
       "    }\n",
       "</style>\n",
       "<table border=\"1\" class=\"dataframe\">\n",
       "  <thead>\n",
       "    <tr style=\"text-align: right;\">\n",
       "      <th></th>\n",
       "      <th>reviewText</th>\n",
       "      <th>sentiment</th>\n",
       "      <th>word_count</th>\n",
       "    </tr>\n",
       "  </thead>\n",
       "  <tbody>\n",
       "    <tr>\n",
       "      <th>0</th>\n",
       "      <td>I bought this lens for my Rebel 2000 camera an...</td>\n",
       "      <td>1</td>\n",
       "      <td>54</td>\n",
       "    </tr>\n",
       "    <tr>\n",
       "      <th>1</th>\n",
       "      <td>Canon EF Lenses Have A Built In AF Motor..Comp...</td>\n",
       "      <td>1</td>\n",
       "      <td>211</td>\n",
       "    </tr>\n",
       "    <tr>\n",
       "      <th>2</th>\n",
       "      <td>I bought this lens about six months after repl...</td>\n",
       "      <td>1</td>\n",
       "      <td>191</td>\n",
       "    </tr>\n",
       "    <tr>\n",
       "      <th>3</th>\n",
       "      <td>Bought this as a replacement and it was worth ...</td>\n",
       "      <td>1</td>\n",
       "      <td>30</td>\n",
       "    </tr>\n",
       "    <tr>\n",
       "      <th>4</th>\n",
       "      <td>good</td>\n",
       "      <td>1</td>\n",
       "      <td>1</td>\n",
       "    </tr>\n",
       "  </tbody>\n",
       "</table>\n",
       "</div>"
      ],
      "text/plain": [
       "                                          reviewText  sentiment  word_count\n",
       "0  I bought this lens for my Rebel 2000 camera an...          1          54\n",
       "1  Canon EF Lenses Have A Built In AF Motor..Comp...          1         211\n",
       "2  I bought this lens about six months after repl...          1         191\n",
       "3  Bought this as a replacement and it was worth ...          1          30\n",
       "4                                               good          1           1"
      ]
     },
     "execution_count": 22,
     "metadata": {},
     "output_type": "execute_result"
    }
   ],
   "source": [
    "text_stats_df.head()"
   ]
  },
  {
   "cell_type": "code",
   "execution_count": 39,
   "metadata": {},
   "outputs": [
    {
     "data": {
      "text/plain": [
       "<AxesSubplot:xlabel='sentiment'>"
      ]
     },
     "execution_count": 39,
     "metadata": {},
     "output_type": "execute_result"
    },
    {
     "data": {
      "image/png": "[encoded data removed]",
      "text/plain": [
       "<Figure size 1080x1080 with 1 Axes>"
      ]
     },
     "metadata": {
      "needs_background": "light"
     },
     "output_type": "display_data"
    }
   ],
   "source": [
    "text_stats_df.groupby('sentiment')['word_count'].mean().plot(kind = 'bar', figsize = (15,15))"
   ]
  },
  {
   "cell_type": "code",
   "execution_count": 43,
   "metadata": {},
   "outputs": [
    {
     "data": {
      "text/plain": [
       "<AxesSubplot:>"
      ]
     },
     "execution_count": 43,
     "metadata": {},
     "output_type": "execute_result"
    },
    {
     "data": {
      "image/png": "[encoded data removed]",
      "text/plain": [
       "<Figure size 3600x2160 with 2 Axes>"
      ]
     },
     "metadata": {
      "needs_background": "light"
     },
     "output_type": "display_data"
    }
   ],
   "source": [
    "correlation = text_stats_df[['sentiment', 'word_count']].corr()\n",
    "mask = np.zeros_like(correlation, dtype=np.bool)\n",
    "mask[np.triu_indices_from(mask)] = True\n",
    "plt.figure(figsize=(50,30))\n",
    "plt.xticks(fontsize=40)\n",
    "plt.yticks(fontsize=40)\n",
    "sns.heatmap(correlation, cmap='coolwarm', annot=True, annot_kws={\"size\": 40}, linewidths=10, vmin=-1.5, mask=mask)"
   ]
  },
  {
   "cell_type": "code",
   "execution_count": null,
   "metadata": {},
   "outputs": [],
   "source": []
  },
  {
   "cell_type": "code",
   "execution_count": null,
   "metadata": {},
   "outputs": [],
   "source": []
  },
  {
   "cell_type": "code",
   "execution_count": 23,
   "metadata": {},
   "outputs": [
    {
     "data": {
      "text/html": [
       "<div>\n",
       "<style scoped>\n",
       "    .dataframe tbody tr th:only-of-type {\n",
       "        vertical-align: middle;\n",
       "    }\n",
       "\n",
       "    .dataframe tbody tr th {\n",
       "        vertical-align: top;\n",
       "    }\n",
       "\n",
       "    .dataframe thead th {\n",
       "        text-align: right;\n",
       "    }\n",
       "</style>\n",
       "<table border=\"1\" class=\"dataframe\">\n",
       "  <thead>\n",
       "    <tr style=\"text-align: right;\">\n",
       "      <th></th>\n",
       "      <th>sentiment</th>\n",
       "      <th>word_count</th>\n",
       "    </tr>\n",
       "  </thead>\n",
       "  <tbody>\n",
       "    <tr>\n",
       "      <th>count</th>\n",
       "      <td>129550.000000</td>\n",
       "      <td>129550.000000</td>\n",
       "    </tr>\n",
       "    <tr>\n",
       "      <th>mean</th>\n",
       "      <td>0.845751</td>\n",
       "      <td>65.513192</td>\n",
       "    </tr>\n",
       "    <tr>\n",
       "      <th>std</th>\n",
       "      <td>0.361189</td>\n",
       "      <td>112.072947</td>\n",
       "    </tr>\n",
       "    <tr>\n",
       "      <th>min</th>\n",
       "      <td>0.000000</td>\n",
       "      <td>1.000000</td>\n",
       "    </tr>\n",
       "    <tr>\n",
       "      <th>25%</th>\n",
       "      <td>1.000000</td>\n",
       "      <td>12.000000</td>\n",
       "    </tr>\n",
       "    <tr>\n",
       "      <th>50%</th>\n",
       "      <td>1.000000</td>\n",
       "      <td>32.000000</td>\n",
       "    </tr>\n",
       "    <tr>\n",
       "      <th>75%</th>\n",
       "      <td>1.000000</td>\n",
       "      <td>73.000000</td>\n",
       "    </tr>\n",
       "    <tr>\n",
       "      <th>max</th>\n",
       "      <td>1.000000</td>\n",
       "      <td>4349.000000</td>\n",
       "    </tr>\n",
       "  </tbody>\n",
       "</table>\n",
       "</div>"
      ],
      "text/plain": [
       "           sentiment     word_count\n",
       "count  129550.000000  129550.000000\n",
       "mean        0.845751      65.513192\n",
       "std         0.361189     112.072947\n",
       "min         0.000000       1.000000\n",
       "25%         1.000000      12.000000\n",
       "50%         1.000000      32.000000\n",
       "75%         1.000000      73.000000\n",
       "max         1.000000    4349.000000"
      ]
     },
     "execution_count": 23,
     "metadata": {},
     "output_type": "execute_result"
    }
   ],
   "source": [
    "text_stats_df.describe()"
   ]
  },
  {
   "cell_type": "code",
   "execution_count": 24,
   "metadata": {},
   "outputs": [
    {
     "data": {
      "text/plain": [
       "<AxesSubplot:>"
      ]
     },
     "execution_count": 24,
     "metadata": {},
     "output_type": "execute_result"
    },
    {
     "data": {
      "image/png": "[encoded data removed]",
      "text/plain": [
       "<Figure size 432x288 with 1 Axes>"
      ]
     },
     "metadata": {
      "needs_background": "light"
     },
     "output_type": "display_data"
    }
   ],
   "source": [
    "text_stats_df.word_count.hist()"
   ]
  },
  {
   "cell_type": "code",
   "execution_count": 25,
   "metadata": {},
   "outputs": [
    {
     "data": {
      "text/html": [
       "<div>\n",
       "<style scoped>\n",
       "    .dataframe tbody tr th:only-of-type {\n",
       "        vertical-align: middle;\n",
       "    }\n",
       "\n",
       "    .dataframe tbody tr th {\n",
       "        vertical-align: top;\n",
       "    }\n",
       "\n",
       "    .dataframe thead th {\n",
       "        text-align: right;\n",
       "    }\n",
       "</style>\n",
       "<table border=\"1\" class=\"dataframe\">\n",
       "  <thead>\n",
       "    <tr style=\"text-align: right;\">\n",
       "      <th></th>\n",
       "      <th>reviewText</th>\n",
       "      <th>sentiment</th>\n",
       "      <th>word_count</th>\n",
       "    </tr>\n",
       "  </thead>\n",
       "  <tbody>\n",
       "    <tr>\n",
       "      <th>44098</th>\n",
       "      <td>=====\\nIMPORTANT UPDATE February 9, 2012: It h...</td>\n",
       "      <td>1</td>\n",
       "      <td>4349</td>\n",
       "    </tr>\n",
       "    <tr>\n",
       "      <th>47779</th>\n",
       "      <td>==============================================...</td>\n",
       "      <td>1</td>\n",
       "      <td>3118</td>\n",
       "    </tr>\n",
       "    <tr>\n",
       "      <th>80879</th>\n",
       "      <td>Before the HD Hero3 I've already owned the ori...</td>\n",
       "      <td>1</td>\n",
       "      <td>3113</td>\n",
       "    </tr>\n",
       "    <tr>\n",
       "      <th>100022</th>\n",
       "      <td>Major update:\\n\\nI made my first long backpack...</td>\n",
       "      <td>1</td>\n",
       "      <td>3038</td>\n",
       "    </tr>\n",
       "    <tr>\n",
       "      <th>107916</th>\n",
       "      <td>Living Review meaning that I make updates as t...</td>\n",
       "      <td>0</td>\n",
       "      <td>2989</td>\n",
       "    </tr>\n",
       "    <tr>\n",
       "      <th>22782</th>\n",
       "      <td>To start, I would have to guess that most peop...</td>\n",
       "      <td>0</td>\n",
       "      <td>2914</td>\n",
       "    </tr>\n",
       "    <tr>\n",
       "      <th>81037</th>\n",
       "      <td>GoPro Hero3 Silver Edition\\n\\nOverall, you mig...</td>\n",
       "      <td>0</td>\n",
       "      <td>2913</td>\n",
       "    </tr>\n",
       "    <tr>\n",
       "      <th>38631</th>\n",
       "      <td>I got bit by the bug and decided I needed a ba...</td>\n",
       "      <td>1</td>\n",
       "      <td>2848</td>\n",
       "    </tr>\n",
       "    <tr>\n",
       "      <th>74581</th>\n",
       "      <td>EDIT: A problem that I didn't experience at fi...</td>\n",
       "      <td>1</td>\n",
       "      <td>2712</td>\n",
       "    </tr>\n",
       "    <tr>\n",
       "      <th>74582</th>\n",
       "      <td>EDIT: A problem that I didn't experience at fi...</td>\n",
       "      <td>1</td>\n",
       "      <td>2712</td>\n",
       "    </tr>\n",
       "    <tr>\n",
       "      <th>47888</th>\n",
       "      <td>This is very simple, if you are a Nikon shoote...</td>\n",
       "      <td>1</td>\n",
       "      <td>2641</td>\n",
       "    </tr>\n",
       "    <tr>\n",
       "      <th>6424</th>\n",
       "      <td>I purchased this lens as a backup to my Canon ...</td>\n",
       "      <td>1</td>\n",
       "      <td>2595</td>\n",
       "    </tr>\n",
       "    <tr>\n",
       "      <th>100007</th>\n",
       "      <td>I've owned the NEX-6 for about six months now ...</td>\n",
       "      <td>1</td>\n",
       "      <td>2471</td>\n",
       "    </tr>\n",
       "    <tr>\n",
       "      <th>47745</th>\n",
       "      <td>I've had the pleasure of owning a Nikon D7000 ...</td>\n",
       "      <td>1</td>\n",
       "      <td>2438</td>\n",
       "    </tr>\n",
       "    <tr>\n",
       "      <th>26923</th>\n",
       "      <td>I was very tempted by the price, reviews here,...</td>\n",
       "      <td>0</td>\n",
       "      <td>2345</td>\n",
       "    </tr>\n",
       "    <tr>\n",
       "      <th>36057</th>\n",
       "      <td>Nikon has absolutely nailed it with this lens....</td>\n",
       "      <td>1</td>\n",
       "      <td>2291</td>\n",
       "    </tr>\n",
       "    <tr>\n",
       "      <th>81000</th>\n",
       "      <td>Gopro Hero 3 Black: Purchase date: March 7, 20...</td>\n",
       "      <td>1</td>\n",
       "      <td>2171</td>\n",
       "    </tr>\n",
       "    <tr>\n",
       "      <th>6360</th>\n",
       "      <td>First impression: I was expecting this lens to...</td>\n",
       "      <td>1</td>\n",
       "      <td>2168</td>\n",
       "    </tr>\n",
       "    <tr>\n",
       "      <th>26150</th>\n",
       "      <td>My journey with DSLRs began back in 2003 with ...</td>\n",
       "      <td>1</td>\n",
       "      <td>2065</td>\n",
       "    </tr>\n",
       "    <tr>\n",
       "      <th>24951</th>\n",
       "      <td>My journey with DSLRs began back in 2003 with ...</td>\n",
       "      <td>1</td>\n",
       "      <td>2065</td>\n",
       "    </tr>\n",
       "  </tbody>\n",
       "</table>\n",
       "</div>"
      ],
      "text/plain": [
       "                                               reviewText  sentiment  \\\n",
       "44098   =====\\nIMPORTANT UPDATE February 9, 2012: It h...          1   \n",
       "47779   ==============================================...          1   \n",
       "80879   Before the HD Hero3 I've already owned the ori...          1   \n",
       "100022  Major update:\\n\\nI made my first long backpack...          1   \n",
       "107916  Living Review meaning that I make updates as t...          0   \n",
       "22782   To start, I would have to guess that most peop...          0   \n",
       "81037   GoPro Hero3 Silver Edition\\n\\nOverall, you mig...          0   \n",
       "38631   I got bit by the bug and decided I needed a ba...          1   \n",
       "74581   EDIT: A problem that I didn't experience at fi...          1   \n",
       "74582   EDIT: A problem that I didn't experience at fi...          1   \n",
       "47888   This is very simple, if you are a Nikon shoote...          1   \n",
       "6424    I purchased this lens as a backup to my Canon ...          1   \n",
       "100007  I've owned the NEX-6 for about six months now ...          1   \n",
       "47745   I've had the pleasure of owning a Nikon D7000 ...          1   \n",
       "26923   I was very tempted by the price, reviews here,...          0   \n",
       "36057   Nikon has absolutely nailed it with this lens....          1   \n",
       "81000   Gopro Hero 3 Black: Purchase date: March 7, 20...          1   \n",
       "6360    First impression: I was expecting this lens to...          1   \n",
       "26150   My journey with DSLRs began back in 2003 with ...          1   \n",
       "24951   My journey with DSLRs began back in 2003 with ...          1   \n",
       "\n",
       "        word_count  \n",
       "44098         4349  \n",
       "47779         3118  \n",
       "80879         3113  \n",
       "100022        3038  \n",
       "107916        2989  \n",
       "22782         2914  \n",
       "81037         2913  \n",
       "38631         2848  \n",
       "74581         2712  \n",
       "74582         2712  \n",
       "47888         2641  \n",
       "6424          2595  \n",
       "100007        2471  \n",
       "47745         2438  \n",
       "26923         2345  \n",
       "36057         2291  \n",
       "81000         2171  \n",
       "6360          2168  \n",
       "26150         2065  \n",
       "24951         2065  "
      ]
     },
     "execution_count": 25,
     "metadata": {},
     "output_type": "execute_result"
    }
   ],
   "source": [
    "text_stats_df.sort_values(by = 'word_count', ascending = False).head(20)"
   ]
  },
  {
   "cell_type": "code",
   "execution_count": 26,
   "metadata": {},
   "outputs": [
    {
     "data": {
      "text/html": [
       "<div>\n",
       "<style scoped>\n",
       "    .dataframe tbody tr th:only-of-type {\n",
       "        vertical-align: middle;\n",
       "    }\n",
       "\n",
       "    .dataframe tbody tr th {\n",
       "        vertical-align: top;\n",
       "    }\n",
       "\n",
       "    .dataframe thead th {\n",
       "        text-align: right;\n",
       "    }\n",
       "</style>\n",
       "<table border=\"1\" class=\"dataframe\">\n",
       "  <thead>\n",
       "    <tr style=\"text-align: right;\">\n",
       "      <th></th>\n",
       "      <th>reviewText</th>\n",
       "      <th>sentiment</th>\n",
       "      <th>word_count</th>\n",
       "    </tr>\n",
       "  </thead>\n",
       "  <tbody>\n",
       "    <tr>\n",
       "      <th>4291</th>\n",
       "      <td>Perfect</td>\n",
       "      <td>1</td>\n",
       "      <td>1</td>\n",
       "    </tr>\n",
       "    <tr>\n",
       "      <th>36973</th>\n",
       "      <td>nice</td>\n",
       "      <td>1</td>\n",
       "      <td>1</td>\n",
       "    </tr>\n",
       "    <tr>\n",
       "      <th>78491</th>\n",
       "      <td>Okay</td>\n",
       "      <td>0</td>\n",
       "      <td>1</td>\n",
       "    </tr>\n",
       "    <tr>\n",
       "      <th>78493</th>\n",
       "      <td>recomended</td>\n",
       "      <td>1</td>\n",
       "      <td>1</td>\n",
       "    </tr>\n",
       "    <tr>\n",
       "      <th>58206</th>\n",
       "      <td>GOOOOOOAAAAAALLLLLLL</td>\n",
       "      <td>1</td>\n",
       "      <td>1</td>\n",
       "    </tr>\n",
       "    <tr>\n",
       "      <th>118965</th>\n",
       "      <td>Nice</td>\n",
       "      <td>1</td>\n",
       "      <td>1</td>\n",
       "    </tr>\n",
       "    <tr>\n",
       "      <th>36982</th>\n",
       "      <td>excellent</td>\n",
       "      <td>1</td>\n",
       "      <td>1</td>\n",
       "    </tr>\n",
       "    <tr>\n",
       "      <th>120603</th>\n",
       "      <td>Jeffery</td>\n",
       "      <td>1</td>\n",
       "      <td>1</td>\n",
       "    </tr>\n",
       "    <tr>\n",
       "      <th>58186</th>\n",
       "      <td>Okay</td>\n",
       "      <td>1</td>\n",
       "      <td>1</td>\n",
       "    </tr>\n",
       "    <tr>\n",
       "      <th>67074</th>\n",
       "      <td>AAA</td>\n",
       "      <td>1</td>\n",
       "      <td>1</td>\n",
       "    </tr>\n",
       "    <tr>\n",
       "      <th>108600</th>\n",
       "      <td>Nice</td>\n",
       "      <td>1</td>\n",
       "      <td>1</td>\n",
       "    </tr>\n",
       "    <tr>\n",
       "      <th>67087</th>\n",
       "      <td>good</td>\n",
       "      <td>1</td>\n",
       "      <td>1</td>\n",
       "    </tr>\n",
       "    <tr>\n",
       "      <th>10735</th>\n",
       "      <td>Perfect</td>\n",
       "      <td>1</td>\n",
       "      <td>1</td>\n",
       "    </tr>\n",
       "    <tr>\n",
       "      <th>78511</th>\n",
       "      <td>satisfied</td>\n",
       "      <td>1</td>\n",
       "      <td>1</td>\n",
       "    </tr>\n",
       "    <tr>\n",
       "      <th>58122</th>\n",
       "      <td>Good</td>\n",
       "      <td>1</td>\n",
       "      <td>1</td>\n",
       "    </tr>\n",
       "    <tr>\n",
       "      <th>58114</th>\n",
       "      <td>good</td>\n",
       "      <td>1</td>\n",
       "      <td>1</td>\n",
       "    </tr>\n",
       "    <tr>\n",
       "      <th>16015</th>\n",
       "      <td>Excellent</td>\n",
       "      <td>1</td>\n",
       "      <td>1</td>\n",
       "    </tr>\n",
       "    <tr>\n",
       "      <th>6182</th>\n",
       "      <td>Nice</td>\n",
       "      <td>1</td>\n",
       "      <td>1</td>\n",
       "    </tr>\n",
       "    <tr>\n",
       "      <th>21616</th>\n",
       "      <td>Good</td>\n",
       "      <td>1</td>\n",
       "      <td>1</td>\n",
       "    </tr>\n",
       "    <tr>\n",
       "      <th>97523</th>\n",
       "      <td>flashes</td>\n",
       "      <td>1</td>\n",
       "      <td>1</td>\n",
       "    </tr>\n",
       "  </tbody>\n",
       "</table>\n",
       "</div>"
      ],
      "text/plain": [
       "                  reviewText  sentiment  word_count\n",
       "4291                 Perfect          1           1\n",
       "36973                   nice          1           1\n",
       "78491                   Okay          0           1\n",
       "78493             recomended          1           1\n",
       "58206   GOOOOOOAAAAAALLLLLLL          1           1\n",
       "118965                  Nice          1           1\n",
       "36982              excellent          1           1\n",
       "120603               Jeffery          1           1\n",
       "58186                   Okay          1           1\n",
       "67074                    AAA          1           1\n",
       "108600                  Nice          1           1\n",
       "67087                   good          1           1\n",
       "10735                Perfect          1           1\n",
       "78511              satisfied          1           1\n",
       "58122                   Good          1           1\n",
       "58114                   good          1           1\n",
       "16015              Excellent          1           1\n",
       "6182                    Nice          1           1\n",
       "21616                   Good          1           1\n",
       "97523                flashes          1           1"
      ]
     },
     "execution_count": 26,
     "metadata": {},
     "output_type": "execute_result"
    }
   ],
   "source": [
    "text_stats_df.sort_values(by = 'word_count', ascending = False).tail(20)"
   ]
  },
  {
   "cell_type": "code",
   "execution_count": 28,
   "metadata": {},
   "outputs": [
    {
     "data": {
      "text/plain": [
       "'=====\\nIMPORTANT UPDATE February 9, 2012: It has just been announced that Kodak is exiting the digital camera business. Please see Comment #22 for further details.\\n=====\\n\\nThis&nbsp;<a data-hook=\"product-link-linked\" class=\"a-link-normal\" href=\"/Kodak-PlaySport-HD-Waterproof-Pocket-Video-Camera-Black-NEWEST-MODEL/dp/B0030MITDK/ref=cm_cr_arp_d_rvw_txt?ie=UTF8\">Kodak PlaySport HD Waterproof Pocket Video Camera (Black) NEWEST MODEL</a>&nbsp;(Model Zx3) video camcorder was offered to me through the Amazon Vine program and, even though I already had a&nbsp;<a data-hook=\"product-link-linked\" class=\"a-link-normal\" href=\"/Creative-Labs-Vado-HD-Pocket-Video-Camcorder-3rd-Generation-120-Minutes-Black-NEWEST-MODEL/dp/B002P3N1J2/ref=cm_cr_arp_d_rvw_txt?ie=UTF8\">Creative Labs Vado HD Pocket Video Camcorder 3rd Generation,120 Minutes (Black) - NEWEST MODEL</a>, which I like very much (and received just last month, also through Amazon Vine), I decided to order this Kodak one so I could have a camcorder to use and my wife could have one as well.\\n\\nLet me state up front that I REALLY like this little camcorder. It is small, lightweight, convenient to slip into a pocket, and it is quick and easy to use. I think its price is very good also, certainly for what you get. (Of course just about the same can be said for the Creative Vado.)\\n\\nThat said, and now that I have both of these camcorders, I have to say that it is hard for me to decide which of them I prefer. They both have small advantages and small disadvantages in their respective feature sets.\\n\\nFor example, the Creative Vado has a built-in (attached) flexible USB connection which makes transferring videos to a computer REALLY easy. If you wish to transfer videos via USB with the Kodak, you must use a separate USB cable (which, by the way, IS supplied with the Kodak unit, as are ALL necessary cables, such as video cables, etc.).\\n\\nBut, as the Kodak uses a separate SDHC card (such as this&nbsp;<a data-hook=\"product-link-linked\" class=\"a-link-normal\" href=\"/Kodak-High-Speed-16-GB-60x-Class-4-SDHC-Flash-Memory-Card-KSD16GHSBNA060/dp/B0028NE2OW/ref=cm_cr_arp_d_rvw_txt?ie=UTF8\">Kodak High-Speed 16 GB 60x Class 4 SDHC Flash Memory Card KSD16GHSBNA060</a>), transferring video is a snap merely by removing the card from the camcorder and inserting it into the SD slot on your computer (or an external card reader if your computer is an older one which has no SD slot).\\n\\n(Please note that I have NO experience with the video software included with either of these camcorders. My wife and I use the Ubuntu Linux operating system on our computers; thus the included software is inoperative. In any case, Linux makes transferring files so easy and intuitive, we would have no need of the software even if it did work on our computers.)\\n\\nUnfortunately, the Kodak does NOT come with even a small SDHC card as standard equipment. If you want one (and you can\\'t truly use the camcorder without one), you MUST buy it separately. This obviously adds to the cost.\\n\\nHowever, a MAJOR advantage of using a card is that you can choose the size you want and you can buy and carry several should you decide to do so; if, for example, you are on a vacation and do not wish to frequently transfer the videos to your computer, it is not necessary to do so with the Kodak. You can keep the video on your card and, when it is filled, you merely insert a fresh card. (The disadvantage of using cards is, of course, the cost involved.) With the Creative, which uses a built-in memory and has no means of expansion, you MUST periodically transfer the video to your computer - but, with it, there are no additional costs involved. (Another advantage of having more than one card is, if a card somehow becomes corrupted or damaged, you merely replace it with another, spare, card.)\\n\\nAs far as picture quality goes (and, of course, that is THE most important thing!), both of these camcorders appear to be equal in the quality of the pictures they produce, that is to say, excellent. My wife and I have been surprised and pleased with the images produced from the Creative Vado (our first camcorder) and now with this new Kodak model. The images, as viewed on a computer screen, are really fine. I can\\'t imagine anyone complaining about their overall quality. The auto-exposure works very well with both camcorders and the sound is about what you would expect (better if you are closer to the subject). (The Creative offers the option of using an external microphone, purchased separately, which would improve the sound quality.)\\n\\nThe Creative Vado has three picture settings, two of which produce wide-screen (16:9) movies, and the third one which produces \"standard\" (4:3) images. All of the Kodak\\'s picture settings (there are four) produce wide-screen movies.\\n\\nThe Creative creates MP4 files and the Kodak creates MOV ones; in both cases I convert them to AVI files which I much prefer (AVI files are generally smaller - with no loss of quality that I can see). The Creative has a means of adjusting the picture brightness (sensitivity); the Kodak does not but the resulting videos, taken in varying degrees of brightness (indoors, outdoors) appear equal.\\n\\nThe Creative has one fixed LCD-brightness (viewing) setting; the Kodak has three (normal, bright, and black-and-white); the bright LCD setting makes outdoor viewing of your subject easier but does not affect the resultant video.\\n\\nBoth have a digital zoom (of minimal usefulness) and the Kodak offers image stabilization for stills (the Creative does not). (The Kodak can also be used under water.) Based on my admittedly limited use (thus far) of both, I should repeat that the video (and still) images are about equal in quality. (I did notice that, during one \"shoot\" of our granddaughter inside a local supermarket and using the Creative Vado, initially the image appeared WAY too red but, within about 10 seconds or so, it had \"settled down\" to look more naturally color-balanced; I have not yet had the opportunity to try a similar shoot using the Kodak.)\\n\\nThe Kodak offers 1080p images as its top quality; the Creative offers 720p. For home movies, in my opinion, the difference is minor (but I have not looked at the images on a large screen as yet; I have watched them only on my computer).\\n\\nThe Kodak at first appears to be lower-priced than the Creative but, as I indicated above, the initial price may be deceiving. The Creative has 4GB of built-in memory (and no means of expanding it) but the Kodak, with a minimal amount of built-in memory (29 seconds of video at the smallest file setting), MUST be used with an SDHC card. This can be any size you wish, up to a claimed 32 GB; the larger the card the more it can hold but, of course, the more it will cost. I bought the 16 GB Kodak card I mention above and it holds about 4 hours if shooting at 720p or 3 hours if shooting at 1080p. (The Creative holds about 2 hours at its 720p mid-setting, which is the one I use. Its maximum quality setting is 720p HD and, at that setting, it holds about 1 hour of video.)\\n\\nAt this point, I do not know how long the battery will last between charges on either of these camcorders (I\\'ll report my experiences in an update) but it seems to me (just empirically) that the Creative one will last longer. In any case, I bought (for both of them) spare batteries, spare chargers, and brand-specific camera cases. In addition I bought the necessary video cables for the Creative and a remote control for the Kodak. Some of my Kodak options are still in transit - the remote is on back order - and have not yet arrived. I have all of the Creative options I ordered. (By the way, both camcorders have removable and replaceable batteries - really a rarity, and a welcome one, these days.)\\n\\nBoth camcorders offer similar features and adjustments but those on the Kodak appear to be more straightforward to use than those on the Creative. The Kodak offers real buttons as opposed to the Creative\\'s touch areas and the presence of those buttons makes operation easier, at least for me. (The Creative does have a menu button as well as a \"delete\" button on the side and an on/off button on the top; the Kodak has all the buttons on the rear [facing the operator] except for the on/off button which is on the side.)\\n\\nThe menu options on the Kodak are more intuitive and easier to access and change than are those on the Creative but the differences are not major.\\n\\nI want to mention that the Creative Vado is black all around (the \"controls\" are indicated with silver-on-black markings - except, of course, for the white \"record\" button which is actually a real button!) but the Kodak, though black (or purple or blue, as you choose) on the side facing the person being photographed, is white on the side facing the user and, at least for me, this makes seeing and using the buttons somewhat easier, though this too is not major.\\n\\nThe Kodak comes with a wrist strap (the Creative does NOT - and it should!), a feature which I like very much, though the camcorder with the strap attached fits only rather clumsily into its&nbsp;<a data-hook=\"product-link-linked\" class=\"a-link-normal\" href=\"/Kodak-1047398-Pocket-Video-Case/dp/B002IVPUJA/ref=cm_cr_arp_d_rvw_txt?ie=UTF8\">Kodak 1047398 Pocket Video Case</a>. The Creative fits perfectly and easily into its&nbsp;<a data-hook=\"product-link-linked\" class=\"a-link-normal\" href=\"/Creative-Labs-Vado-VF0570APS-Pocket-Video-Camera-Mesh-Pouch-Silver/dp/B001I44YCC/ref=cm_cr_arp_d_rvw_txt?ie=UTF8\">Creative Labs Vado VF0570APS Pocket Video Camera Mesh Pouch (Silver)</a>&nbsp;and, in it, is smaller and thinner than the Kodak in ITS case. The Creative case has a belt loop and the Kodak case has a shoulder strap.\\n\\nThe Kodak is noticeably heavier and slightly larger than the Creative. Its instruction manual (actually there are two - one printed, which comes with the camcorder, and an \"extended\" user manual which you download from Kodak\\'s web site) is excellent, much better organized, more comprehensive, and easier to use and understand than that of the Creative.\\n\\nWhen you get down to brass tacks, with the Creative Vado, the only options you REALLY need are&nbsp;<a data-hook=\"product-link-linked\" class=\"a-link-normal\" href=\"/Creative-Vado-A-V-Cable-Video-audio-cable-composite-video-audio-RCA-M-mini-phone-3-5-mm-4-pole-M-4-6-ft/dp/B002DS2IZW/ref=cm_cr_arp_d_rvw_txt?ie=UTF8\">Creative Vado A/V Cable - Video / audio cable - composite video / audio - RCA (M) - mini-phone 3.5 mm 4-pole (M) - 4.6 ft</a>&nbsp;if you want to play your videos through a standard television (an HDMI cable is optional yet even Creative itself does not appear to offer one specific to this unit - nor does Amazon!) and the case. With the Kodak, you should buy the case and, of course, you NEED an SDHC card. Overall, then, despite a lower \"basic\" price, the Kodak is probably somewhat more expensive overall (but it does come with all necessary cables including an HDMI one). If you are cash-strapped, you need buy NO options for the Creative but you WILL need an SDHC card for the Kodak. If you were to buy a 2-to-8 GB card, the Kodak would then be less expensive overall than the Creative; the 16GB (or 32 GB) card would make the Kodak the costlier of the two.\\n\\nI\\'m still mulling over the \"problem\" of which to give to my wife and which to use myself. At this point, due to the ease of transferring files to a computer, I may let my wife try the Creative Vado to see if she likes its operational characteristics; she would need only to plug in the attached USB cord; there is nothing extra she need use (with the Kodak, you need to use either an external USB cord or you need to remove the SDHC card from the camcorder and insert it into the slot on your computer). But, then again, with its buttons, the Kodak is much more straightforward to use when actually taking video or pictures.\\n\\nDecisions, decisions!\\n\\nI have to say that I like them both and I highly recommend them both. If I were really \"pushed\" to make a choice between the two, I think I would (very) slightly favor this Kodak model partly because of its real ease-of-use (including much better instructions), its removable storage, and its option to increase the brightness of the LCD screen for better outdoor viewing in bright sunlight (however neither the Kodak nor the Creative is easy to view in very bright sunlight) but someone else might feel differently. (Due to its heft, it feels more substantial to me but that\\'s a VERY subjective opinion.) I want to state definitely however that this&nbsp;<a data-hook=\"product-link-linked\" class=\"a-link-normal\" href=\"/Kodak-PlaySport-HD-Waterproof-Pocket-Video-Camera-Black-NEWEST-MODEL/dp/B0030MITDK/ref=cm_cr_arp_d_rvw_txt?ie=UTF8\">Kodak PlaySport HD Waterproof Pocket Video Camera (Black) NEWEST MODEL</a>&nbsp;(its \"official\" model name is Zx3) is a fine camcorder and I believe that everyone who buys one will be as pleased with it as I am.\\n\\nThank you for reading this. I hope it has been of some help to you.\\n\\n==================================================================================================================================\\n\\nUpdate: April 23, 2010\\n\\nLast night I \"finally\" got around to projecting images taken with this camcorder onto my 110\" diagonal (16:9) screen using my&nbsp;<a data-hook=\"product-link-linked\" class=\"a-link-normal\" href=\"/PT-AE4000U-LCD-XGA-16-9-1600-Lumens-HDmi-Svid-16-1LBS-Hdtv/dp/B002W7CW32/ref=cm_cr_arp_d_rvw_txt?ie=UTF8\">PT-AE4000U LCD XGA 16:9 1600 Lumens HDmi Svid 16.1LBS Hdtv</a>. As expected (see the relevant update to my review of the&nbsp;<a data-hook=\"product-link-linked\" class=\"a-link-normal\" href=\"/Creative-Labs-Vado-HD-Pocket-Video-Camcorder-3rd-Generation-120-Minutes-Black-NEWEST-MODEL/dp/B002P3N1J2/ref=cm_cr_arp_d_rvw_txt?ie=UTF8\">Creative Labs Vado HD Pocket Video Camcorder 3rd Generation,120 Minutes (Black) - NEWEST MODEL</a>&nbsp;for more details), the images produced by the Kodak (taken, by the way, at 720P, NOT its \"best quality\" setting 1080P) were spectacular. They had excellent and accurate colors and sharpness; the monophonic sound was fine. The next time I take video with this camcorder I\\'m going to try the 1080P setting though I can\\'t imagine that it will look much better than what I saw last night!\\n\\nYou can\\'t go wrong with this&nbsp;<a data-hook=\"product-link-linked\" class=\"a-link-normal\" href=\"/Kodak-PlaySport-HD-Waterproof-Pocket-Video-Camera-Black-NEWEST-MODEL/dp/B0030MITDK/ref=cm_cr_arp_d_rvw_txt?ie=UTF8\">Kodak PlaySport HD Waterproof Pocket Video Camera (Black) NEWEST MODEL</a>&nbsp;and, to tell the truth, the same statement applies to the Creative Vado HD. Though they are different in their attributes, their \"strengths\" (all major), and their \"weaknesses\" (all minor), I really like them both very much.\\n\\nI thank you again for reading this.\\n\\n=====\\n\\nUpdate: July 14, 2010\\n\\nHaving owned this Kodak PlaySport (Zx3) HD Waterproof Pocket Video Camera (Black) NEWEST MODEL and the Creative Labs Vado HD Pocket Video Camcorder 3rd Generation,120 Minutes (Black) - NEWEST MODEL and using them side-by-side, overall I now prefer the Creative one. Really, it is just as easy to use as the Kodak, its images, at 720p, appear to be as good as Kodak\\'s 1080p images, at least on our 110\" screen, and the Creative\\'s battery lasts much, much longer. Plus my wife prefers the Creative camcorder over this Kodak (though she can give no reason for her preference; as I have stated, I like them both).\\n\\nI myself have experienced the \"freezing\" anomaly mentioned by some other reviewers, but only once. That was early in the ownership period and it has not recurred (so far!).\\n\\nEven though the Kodak can hold, with a 16GB SD card, much more video than the Creative, its battery runs out well before you can take even a fraction of what the card can hold. I have a spare battery for the Kodak (as well as for the Creative) and I strongly recommend that you buy one or two spares also, especially if you buy this Kodak model.\\n\\nWith the Kodak camcorder, even with two fully-charged batteries, the batteries BOTH run out well before the card is filled. This is somewhat disappointing, even though recharging (which can be done in your home or your car) does not take too long.\\n\\nNot so with the Creative camcorder. The battery lasts for quite a long period of time though I haven\\'t actually measured it. During our four and one-half cross-country trip, during which we took several hours of video with the Creative, I replaced its first battery with my (previously charged) second battery only once. While I did recharge the first battery, it was not necessary to use it.\\n\\nIn my opinion, this is excellent performance. (Recharging the Creative\\'s battery takes longer than recharging the Kodak\\'s battery though the Creative\\'s, like the Kodak\\'s, can be charged from an AC outlet or from your car\\'s DC \\'cigarette-lighter\\' port.)\\n\\nNeither camcorder is \\'perfect\\' but both are very, very good and. frankly, I could be happy with either. I think most people would feel the same. But, now having extensively used both camcorders, overall I too slightly prefer the Creative. (Among other things, the Creative camcorder REALLY excels in low-light situations.) Of course if underwater or foul-weather video is of even slight importance to you, this Kodak is, of its type, the only game in town. Also don\\'t forget one of its MAJOR advantages: the ability of its LCD screen to be adjusted to enable easier viewing in bright sunlight. And the Kodak\\'s ease of use with dedicated buttons is not to be ignored.\\n\\nSo do not misunderstand: I think this Kodak pocket camcorder is a fine product. I merely want readers of my review (really, just my opinions) to be aware of the \\'battery-life problem\\' I have experienced with it.\\n\\nAs always, it\\'s your call. Thank you for reading this and I hope it has been of some help to you.\\n\\n=====\\n\\nUpdate: December 20, 2010\\n\\nLast evening I FINALLY upgraded the firmware in my Zx3. I had been somewhat apprehensive about doing this (plus \"inertia,\" as always, \\'ruled\\' ...) but I needn\\'t have been.\\n\\nThe instructions on Kodak\\'s site were quite clear and easy to follow and the entire process, which took but a few minutes, went entirely smoothly.\\n\\nSo now my unit, which had had version 1.01, now has version 1.12. I presume that, among other things, this will correct the \\'freezing\\' anomaly (which, in any case, I had only experienced once).\\n\\n(Obviously any Zx3 purchased new, at the present time, will already incorporate the latest firmware.)\\n\\nThis camcorder is one heck of a unit. If its battery life on a charge were longer and if it had a faster lens, it would be my overwhelming favorite of the three camcorders I own. The battery-life \\'problem\\' can be alleviated to a certain extent by buying one or two spares (I currently have one but I may buy another); with an external charger, charging can be effected via your computer, your home AC power, or even, via a cigarette-lighter adapter, in your car separately from the camcorder. So really you need never be without power. Obviously, with that charger, you can charge one battery while using the camcorder with another. You need not miss any situations which you\\'d like to capture. The lens, of course, cannot be changed; it is a relatively slow at f2.8 and this precludes the camcorder from taking really good video in low-light situations (something at which the Creative Vado HD 3rd Generation, with its fast f2.0 lens, excels). If Kodak were to take this Zx3 camcorder AS IS but replace the current lens with a faster one, I think they\\'d really have something!\\n\\nIts overall operational design (with REAL buttons for the controls) and the accessories offered for it (as I mentioned you need buy only a few as it comes with all necessary cables - but those desirable accessories are extremely well-designed, much better than those of its competition) are, in my opinion, superlative. As I mentioned above I did buy a Kodak external charger (which can be used at home or in the car) primarily because of the relatively short battery life - but I probably would have bought it anyway even if the battery life were better (I bought an external charger for the Creative Vado as well). The carrying case I mentioned above is also extremely well-designed, a model for this kind of product; I recommend it highly.\\n\\nI haven\\'t yet tried the camcorder with the new firmware; I\\'ll be doing so very soon (obviously!). But this unit has been my favorite for outdoor shooting (and it would be, of course, for inclement weather shooting as well) so it will be interesting to see if there is any operational or performance difference between the two firmwares. (I also wonder if the new firmware makes a difference in the battery life; I\\'ll have to see and, if it does so, I\\'ll report that here.)\\n\\nAs it is you really can\\'t go wrong in buying one of these. Both my wife and I like this camcorder very much and we both think that you will too.\\n\\nThanks again for reading this.\\n\\n=====\\n\\nUpdate: April 26, 2011\\n\\nThe new firmware [1.12] (which has been included on every new sample for most of the past year) has completely fixed whatever the \\'freezing\\' problem was with the original firmware [1.01] (but which had happened only once to me).\\n\\nSince I have installed the new firmware, the camcorder has performed flawlessly with nary a hiccup.\\n\\nAnd the more I use it, the more I like it.\\n\\nAnd I REALLY like the new, lower, price at which it is now being sold! Frankly, in my opinion, you just can\\'t go wrong with this camcorder.\\n\\nThanks again for reading this. I hope it is of some help to you.'"
      ]
     },
     "execution_count": 28,
     "metadata": {},
     "output_type": "execute_result"
    }
   ],
   "source": [
    "text_stats_df.reviewText[44098]"
   ]
  },
  {
   "cell_type": "code",
   "execution_count": null,
   "metadata": {},
   "outputs": [],
   "source": []
  },
  {
   "cell_type": "code",
   "execution_count": 30,
   "metadata": {},
   "outputs": [],
   "source": [
    "def clean_text(text):\n",
    "    # Remove URLs\n",
    "    text = re.sub(r'http\\S+', '', text)\n",
    "    # Remove HTML tags\n",
    "    soup = BeautifulSoup(text, 'html.parser')\n",
    "    text = soup.get_text()\n",
    "    # Remove line breaks and extra whitespace\n",
    "    text = re.sub(r'\\s+', ' ', text)\n",
    "    # Remove special characters\n",
    "    text = re.sub('[^a-zA-Z0-9\\s]', '', text)\n",
    "    # Convert to lowercase\n",
    "    text = text.lower()\n",
    "    # Strip leading/trailing whitespace\n",
    "    text = text.strip()\n",
    "    return text"
   ]
  },
  {
   "cell_type": "code",
   "execution_count": 138,
   "metadata": {},
   "outputs": [],
   "source": [
    "'''\n",
    "def clean_text(text):\n",
    "    # Remove URLs\n",
    "    text = re.sub(r'http\\S+', '', text)\n",
    "    # Remove HTML tags\n",
    "    soup = BeautifulSoup(text, 'html.parser')\n",
    "    text = soup.get_text()\n",
    "    # Remove special characters\n",
    "    text = re.sub('[^a-zA-Z0-9\\s]', '', text)\n",
    "    # Convert to lowercase\n",
    "    text = text.lower()\n",
    "    # Remove stop words\n",
    "    stop_words = set(stopwords.words('english'))\n",
    "    word_tokens = word_tokenize(text)\n",
    "    filtered_text = [word for word in word_tokens if word not in stop_words]\n",
    "    # Join words back into sentence\n",
    "    text = ' '.join(filtered_text)\n",
    "    return text\n",
    "    \n",
    "'''"
   ]
  },
  {
   "cell_type": "code",
   "execution_count": 31,
   "metadata": {},
   "outputs": [
    {
     "name": "stderr",
     "output_type": "stream",
     "text": [
      "C:\\Users\\PC\\anaconda3\\envs\\learn-env\\lib\\site-packages\\bs4\\__init__.py:332: MarkupResemblesLocatorWarning: \".\" looks like a filename, not markup. You should probably open this file and pass the filehandle into Beautiful Soup.\n",
      "  warnings.warn(\n"
     ]
    }
   ],
   "source": [
    "text_stats_df['cleaned_text'] = text_stats_df.reviewText.apply(lambda x: clean_text(x))"
   ]
  },
  {
   "cell_type": "code",
   "execution_count": 32,
   "metadata": {},
   "outputs": [
    {
     "data": {
      "text/html": [
       "<div>\n",
       "<style scoped>\n",
       "    .dataframe tbody tr th:only-of-type {\n",
       "        vertical-align: middle;\n",
       "    }\n",
       "\n",
       "    .dataframe tbody tr th {\n",
       "        vertical-align: top;\n",
       "    }\n",
       "\n",
       "    .dataframe thead th {\n",
       "        text-align: right;\n",
       "    }\n",
       "</style>\n",
       "<table border=\"1\" class=\"dataframe\">\n",
       "  <thead>\n",
       "    <tr style=\"text-align: right;\">\n",
       "      <th></th>\n",
       "      <th>reviewText</th>\n",
       "      <th>sentiment</th>\n",
       "      <th>word_count</th>\n",
       "      <th>cleaned_text</th>\n",
       "    </tr>\n",
       "  </thead>\n",
       "  <tbody>\n",
       "    <tr>\n",
       "      <th>0</th>\n",
       "      <td>I bought this lens for my Rebel 2000 camera an...</td>\n",
       "      <td>1</td>\n",
       "      <td>54</td>\n",
       "      <td>i bought this lens for my rebel 2000 camera an...</td>\n",
       "    </tr>\n",
       "    <tr>\n",
       "      <th>1</th>\n",
       "      <td>Canon EF Lenses Have A Built In AF Motor..Comp...</td>\n",
       "      <td>1</td>\n",
       "      <td>211</td>\n",
       "      <td>canon ef lenses have a built in af motorcompar...</td>\n",
       "    </tr>\n",
       "    <tr>\n",
       "      <th>2</th>\n",
       "      <td>I bought this lens about six months after repl...</td>\n",
       "      <td>1</td>\n",
       "      <td>191</td>\n",
       "      <td>i bought this lens about six months after repl...</td>\n",
       "    </tr>\n",
       "    <tr>\n",
       "      <th>3</th>\n",
       "      <td>Bought this as a replacement and it was worth ...</td>\n",
       "      <td>1</td>\n",
       "      <td>30</td>\n",
       "      <td>bought this as a replacement and it was worth ...</td>\n",
       "    </tr>\n",
       "    <tr>\n",
       "      <th>4</th>\n",
       "      <td>good</td>\n",
       "      <td>1</td>\n",
       "      <td>1</td>\n",
       "      <td>good</td>\n",
       "    </tr>\n",
       "  </tbody>\n",
       "</table>\n",
       "</div>"
      ],
      "text/plain": [
       "                                          reviewText  sentiment  word_count  \\\n",
       "0  I bought this lens for my Rebel 2000 camera an...          1          54   \n",
       "1  Canon EF Lenses Have A Built In AF Motor..Comp...          1         211   \n",
       "2  I bought this lens about six months after repl...          1         191   \n",
       "3  Bought this as a replacement and it was worth ...          1          30   \n",
       "4                                               good          1           1   \n",
       "\n",
       "                                        cleaned_text  \n",
       "0  i bought this lens for my rebel 2000 camera an...  \n",
       "1  canon ef lenses have a built in af motorcompar...  \n",
       "2  i bought this lens about six months after repl...  \n",
       "3  bought this as a replacement and it was worth ...  \n",
       "4                                               good  "
      ]
     },
     "execution_count": 32,
     "metadata": {},
     "output_type": "execute_result"
    }
   ],
   "source": [
    "text_stats_df.head()"
   ]
  },
  {
   "cell_type": "code",
   "execution_count": 33,
   "metadata": {},
   "outputs": [
    {
     "data": {
      "text/plain": [
       "'important update february 9 2012 it has just been announced that kodak is exiting the digital camera business please see comment 22 for further details  this kodak playsport hd waterproof pocket video camera black newest model model zx3 video camcorder was offered to me through the amazon vine program and even though i already had a creative labs vado hd pocket video camcorder 3rd generation120 minutes black  newest model which i like very much and received just last month also through amazon vine i decided to order this kodak one so i could have a camcorder to use and my wife could have one as well let me state up front that i really like this little camcorder it is small lightweight convenient to slip into a pocket and it is quick and easy to use i think its price is very good also certainly for what you get of course just about the same can be said for the creative vado that said and now that i have both of these camcorders i have to say that it is hard for me to decide which of them i prefer they both have small advantages and small disadvantages in their respective feature sets for example the creative vado has a builtin attached flexible usb connection which makes transferring videos to a computer really easy if you wish to transfer videos via usb with the kodak you must use a separate usb cable which by the way is supplied with the kodak unit as are all necessary cables such as video cables etc but as the kodak uses a separate sdhc card such as this kodak highspeed 16 gb 60x class 4 sdhc flash memory card ksd16ghsbna060 transferring video is a snap merely by removing the card from the camcorder and inserting it into the sd slot on your computer or an external card reader if your computer is an older one which has no sd slot please note that i have no experience with the video software included with either of these camcorders my wife and i use the ubuntu linux operating system on our computers thus the included software is inoperative in any case linux makes transferring files so easy and intuitive we would have no need of the software even if it did work on our computers unfortunately the kodak does not come with even a small sdhc card as standard equipment if you want one and you cant truly use the camcorder without one you must buy it separately this obviously adds to the cost however a major advantage of using a card is that you can choose the size you want and you can buy and carry several should you decide to do so if for example you are on a vacation and do not wish to frequently transfer the videos to your computer it is not necessary to do so with the kodak you can keep the video on your card and when it is filled you merely insert a fresh card the disadvantage of using cards is of course the cost involved with the creative which uses a builtin memory and has no means of expansion you must periodically transfer the video to your computer  but with it there are no additional costs involved another advantage of having more than one card is if a card somehow becomes corrupted or damaged you merely replace it with another spare card as far as picture quality goes and of course that is the most important thing both of these camcorders appear to be equal in the quality of the pictures they produce that is to say excellent my wife and i have been surprised and pleased with the images produced from the creative vado our first camcorder and now with this new kodak model the images as viewed on a computer screen are really fine i cant imagine anyone complaining about their overall quality the autoexposure works very well with both camcorders and the sound is about what you would expect better if you are closer to the subject the creative offers the option of using an external microphone purchased separately which would improve the sound quality the creative vado has three picture settings two of which produce widescreen 169 movies and the third one which produces standard 43 images all of the kodaks picture settings there are four produce widescreen movies the creative creates mp4 files and the kodak creates mov ones in both cases i convert them to avi files which i much prefer avi files are generally smaller  with no loss of quality that i can see the creative has a means of adjusting the picture brightness sensitivity the kodak does not but the resulting videos taken in varying degrees of brightness indoors outdoors appear equal the creative has one fixed lcdbrightness viewing setting the kodak has three normal bright and blackandwhite the bright lcd setting makes outdoor viewing of your subject easier but does not affect the resultant video both have a digital zoom of minimal usefulness and the kodak offers image stabilization for stills the creative does not the kodak can also be used under water based on my admittedly limited use thus far of both i should repeat that the video and still images are about equal in quality i did notice that during one shoot of our granddaughter inside a local supermarket and using the creative vado initially the image appeared way too red but within about 10 seconds or so it had settled down to look more naturally colorbalanced i have not yet had the opportunity to try a similar shoot using the kodak the kodak offers 1080p images as its top quality the creative offers 720p for home movies in my opinion the difference is minor but i have not looked at the images on a large screen as yet i have watched them only on my computer the kodak at first appears to be lowerpriced than the creative but as i indicated above the initial price may be deceiving the creative has 4gb of builtin memory and no means of expanding it but the kodak with a minimal amount of builtin memory 29 seconds of video at the smallest file setting must be used with an sdhc card this can be any size you wish up to a claimed 32 gb the larger the card the more it can hold but of course the more it will cost i bought the 16 gb kodak card i mention above and it holds about 4 hours if shooting at 720p or 3 hours if shooting at 1080p the creative holds about 2 hours at its 720p midsetting which is the one i use its maximum quality setting is 720p hd and at that setting it holds about 1 hour of video at this point i do not know how long the battery will last between charges on either of these camcorders ill report my experiences in an update but it seems to me just empirically that the creative one will last longer in any case i bought for both of them spare batteries spare chargers and brandspecific camera cases in addition i bought the necessary video cables for the creative and a remote control for the kodak some of my kodak options are still in transit  the remote is on back order  and have not yet arrived i have all of the creative options i ordered by the way both camcorders have removable and replaceable batteries  really a rarity and a welcome one these days both camcorders offer similar features and adjustments but those on the kodak appear to be more straightforward to use than those on the creative the kodak offers real buttons as opposed to the creatives touch areas and the presence of those buttons makes operation easier at least for me the creative does have a menu button as well as a delete button on the side and an onoff button on the top the kodak has all the buttons on the rear facing the operator except for the onoff button which is on the side the menu options on the kodak are more intuitive and easier to access and change than are those on the creative but the differences are not major i want to mention that the creative vado is black all around the controls are indicated with silveronblack markings  except of course for the white record button which is actually a real button but the kodak though black or purple or blue as you choose on the side facing the person being photographed is white on the side facing the user and at least for me this makes seeing and using the buttons somewhat easier though this too is not major the kodak comes with a wrist strap the creative does not  and it should a feature which i like very much though the camcorder with the strap attached fits only rather clumsily into its kodak 1047398 pocket video case the creative fits perfectly and easily into its creative labs vado vf0570aps pocket video camera mesh pouch silver and in it is smaller and thinner than the kodak in its case the creative case has a belt loop and the kodak case has a shoulder strap the kodak is noticeably heavier and slightly larger than the creative its instruction manual actually there are two  one printed which comes with the camcorder and an extended user manual which you download from kodaks web site is excellent much better organized more comprehensive and easier to use and understand than that of the creative when you get down to brass tacks with the creative vado the only options you really need are creative vado av cable  video  audio cable  composite video  audio  rca m  miniphone 35 mm 4pole m  46 ft if you want to play your videos through a standard television an hdmi cable is optional yet even creative itself does not appear to offer one specific to this unit  nor does amazon and the case with the kodak you should buy the case and of course you need an sdhc card overall then despite a lower basic price the kodak is probably somewhat more expensive overall but it does come with all necessary cables including an hdmi one if you are cashstrapped you need buy no options for the creative but you will need an sdhc card for the kodak if you were to buy a 2to8 gb card the kodak would then be less expensive overall than the creative the 16gb or 32 gb card would make the kodak the costlier of the two im still mulling over the problem of which to give to my wife and which to use myself at this point due to the ease of transferring files to a computer i may let my wife try the creative vado to see if she likes its operational characteristics she would need only to plug in the attached usb cord there is nothing extra she need use with the kodak you need to use either an external usb cord or you need to remove the sdhc card from the camcorder and insert it into the slot on your computer but then again with its buttons the kodak is much more straightforward to use when actually taking video or pictures decisions decisions i have to say that i like them both and i highly recommend them both if i were really pushed to make a choice between the two i think i would very slightly favor this kodak model partly because of its real easeofuse including much better instructions its removable storage and its option to increase the brightness of the lcd screen for better outdoor viewing in bright sunlight however neither the kodak nor the creative is easy to view in very bright sunlight but someone else might feel differently due to its heft it feels more substantial to me but thats a very subjective opinion i want to state definitely however that this kodak playsport hd waterproof pocket video camera black newest model its official model name is zx3 is a fine camcorder and i believe that everyone who buys one will be as pleased with it as i am thank you for reading this i hope it has been of some help to you  update april 23 2010 last night i finally got around to projecting images taken with this camcorder onto my 110 diagonal 169 screen using my ptae4000u lcd xga 169 1600 lumens hdmi svid 161lbs hdtv as expected see the relevant update to my review of the creative labs vado hd pocket video camcorder 3rd generation120 minutes black  newest model for more details the images produced by the kodak taken by the way at 720p not its best quality setting 1080p were spectacular they had excellent and accurate colors and sharpness the monophonic sound was fine the next time i take video with this camcorder im going to try the 1080p setting though i cant imagine that it will look much better than what i saw last night you cant go wrong with this kodak playsport hd waterproof pocket video camera black newest model and to tell the truth the same statement applies to the creative vado hd though they are different in their attributes their strengths all major and their weaknesses all minor i really like them both very much i thank you again for reading this  update july 14 2010 having owned this kodak playsport zx3 hd waterproof pocket video camera black newest model and the creative labs vado hd pocket video camcorder 3rd generation120 minutes black  newest model and using them sidebyside overall i now prefer the creative one really it is just as easy to use as the kodak its images at 720p appear to be as good as kodaks 1080p images at least on our 110 screen and the creatives battery lasts much much longer plus my wife prefers the creative camcorder over this kodak though she can give no reason for her preference as i have stated i like them both i myself have experienced the freezing anomaly mentioned by some other reviewers but only once that was early in the ownership period and it has not recurred so far even though the kodak can hold with a 16gb sd card much more video than the creative its battery runs out well before you can take even a fraction of what the card can hold i have a spare battery for the kodak as well as for the creative and i strongly recommend that you buy one or two spares also especially if you buy this kodak model with the kodak camcorder even with two fullycharged batteries the batteries both run out well before the card is filled this is somewhat disappointing even though recharging which can be done in your home or your car does not take too long not so with the creative camcorder the battery lasts for quite a long period of time though i havent actually measured it during our four and onehalf crosscountry trip during which we took several hours of video with the creative i replaced its first battery with my previously charged second battery only once while i did recharge the first battery it was not necessary to use it in my opinion this is excellent performance recharging the creatives battery takes longer than recharging the kodaks battery though the creatives like the kodaks can be charged from an ac outlet or from your cars dc cigarettelighter port neither camcorder is perfect but both are very very good and frankly i could be happy with either i think most people would feel the same but now having extensively used both camcorders overall i too slightly prefer the creative among other things the creative camcorder really excels in lowlight situations of course if underwater or foulweather video is of even slight importance to you this kodak is of its type the only game in town also dont forget one of its major advantages the ability of its lcd screen to be adjusted to enable easier viewing in bright sunlight and the kodaks ease of use with dedicated buttons is not to be ignored so do not misunderstand i think this kodak pocket camcorder is a fine product i merely want readers of my review really just my opinions to be aware of the batterylife problem i have experienced with it as always its your call thank you for reading this and i hope it has been of some help to you  update december 20 2010 last evening i finally upgraded the firmware in my zx3 i had been somewhat apprehensive about doing this plus inertia as always ruled  but i neednt have been the instructions on kodaks site were quite clear and easy to follow and the entire process which took but a few minutes went entirely smoothly so now my unit which had had version 101 now has version 112 i presume that among other things this will correct the freezing anomaly which in any case i had only experienced once obviously any zx3 purchased new at the present time will already incorporate the latest firmware this camcorder is one heck of a unit if its battery life on a charge were longer and if it had a faster lens it would be my overwhelming favorite of the three camcorders i own the batterylife problem can be alleviated to a certain extent by buying one or two spares i currently have one but i may buy another with an external charger charging can be effected via your computer your home ac power or even via a cigarettelighter adapter in your car separately from the camcorder so really you need never be without power obviously with that charger you can charge one battery while using the camcorder with another you need not miss any situations which youd like to capture the lens of course cannot be changed it is a relatively slow at f28 and this precludes the camcorder from taking really good video in lowlight situations something at which the creative vado hd 3rd generation with its fast f20 lens excels if kodak were to take this zx3 camcorder as is but replace the current lens with a faster one i think theyd really have something its overall operational design with real buttons for the controls and the accessories offered for it as i mentioned you need buy only a few as it comes with all necessary cables  but those desirable accessories are extremely welldesigned much better than those of its competition are in my opinion superlative as i mentioned above i did buy a kodak external charger which can be used at home or in the car primarily because of the relatively short battery life  but i probably would have bought it anyway even if the battery life were better i bought an external charger for the creative vado as well the carrying case i mentioned above is also extremely welldesigned a model for this kind of product i recommend it highly i havent yet tried the camcorder with the new firmware ill be doing so very soon obviously but this unit has been my favorite for outdoor shooting and it would be of course for inclement weather shooting as well so it will be interesting to see if there is any operational or performance difference between the two firmwares i also wonder if the new firmware makes a difference in the battery life ill have to see and if it does so ill report that here as it is you really cant go wrong in buying one of these both my wife and i like this camcorder very much and we both think that you will too thanks again for reading this  update april 26 2011 the new firmware 112 which has been included on every new sample for most of the past year has completely fixed whatever the freezing problem was with the original firmware 101 but which had happened only once to me since i have installed the new firmware the camcorder has performed flawlessly with nary a hiccup and the more i use it the more i like it and i really like the new lower price at which it is now being sold frankly in my opinion you just cant go wrong with this camcorder thanks again for reading this i hope it is of some help to you'"
      ]
     },
     "execution_count": 33,
     "metadata": {},
     "output_type": "execute_result"
    }
   ],
   "source": [
    "text_stats_df.cleaned_text[44098]"
   ]
  },
  {
   "cell_type": "code",
   "execution_count": 34,
   "metadata": {},
   "outputs": [],
   "source": [
    "text_stats_df['cleaned_word_count'] = text_stats_df.cleaned_text.apply(lambda x: word_count(x))"
   ]
  },
  {
   "cell_type": "code",
   "execution_count": 35,
   "metadata": {},
   "outputs": [
    {
     "data": {
      "text/html": [
       "<div>\n",
       "<style scoped>\n",
       "    .dataframe tbody tr th:only-of-type {\n",
       "        vertical-align: middle;\n",
       "    }\n",
       "\n",
       "    .dataframe tbody tr th {\n",
       "        vertical-align: top;\n",
       "    }\n",
       "\n",
       "    .dataframe thead th {\n",
       "        text-align: right;\n",
       "    }\n",
       "</style>\n",
       "<table border=\"1\" class=\"dataframe\">\n",
       "  <thead>\n",
       "    <tr style=\"text-align: right;\">\n",
       "      <th></th>\n",
       "      <th>sentiment</th>\n",
       "      <th>word_count</th>\n",
       "      <th>cleaned_word_count</th>\n",
       "    </tr>\n",
       "  </thead>\n",
       "  <tbody>\n",
       "    <tr>\n",
       "      <th>count</th>\n",
       "      <td>129550.000000</td>\n",
       "      <td>129550.000000</td>\n",
       "      <td>129550.000000</td>\n",
       "    </tr>\n",
       "    <tr>\n",
       "      <th>mean</th>\n",
       "      <td>0.845751</td>\n",
       "      <td>65.513192</td>\n",
       "      <td>57.073068</td>\n",
       "    </tr>\n",
       "    <tr>\n",
       "      <th>std</th>\n",
       "      <td>0.361189</td>\n",
       "      <td>112.072947</td>\n",
       "      <td>96.838448</td>\n",
       "    </tr>\n",
       "    <tr>\n",
       "      <th>min</th>\n",
       "      <td>0.000000</td>\n",
       "      <td>1.000000</td>\n",
       "      <td>0.000000</td>\n",
       "    </tr>\n",
       "    <tr>\n",
       "      <th>25%</th>\n",
       "      <td>1.000000</td>\n",
       "      <td>12.000000</td>\n",
       "      <td>10.000000</td>\n",
       "    </tr>\n",
       "    <tr>\n",
       "      <th>50%</th>\n",
       "      <td>1.000000</td>\n",
       "      <td>32.000000</td>\n",
       "      <td>28.000000</td>\n",
       "    </tr>\n",
       "    <tr>\n",
       "      <th>75%</th>\n",
       "      <td>1.000000</td>\n",
       "      <td>73.000000</td>\n",
       "      <td>64.000000</td>\n",
       "    </tr>\n",
       "    <tr>\n",
       "      <th>max</th>\n",
       "      <td>1.000000</td>\n",
       "      <td>4349.000000</td>\n",
       "      <td>3435.000000</td>\n",
       "    </tr>\n",
       "  </tbody>\n",
       "</table>\n",
       "</div>"
      ],
      "text/plain": [
       "           sentiment     word_count  cleaned_word_count\n",
       "count  129550.000000  129550.000000       129550.000000\n",
       "mean        0.845751      65.513192           57.073068\n",
       "std         0.361189     112.072947           96.838448\n",
       "min         0.000000       1.000000            0.000000\n",
       "25%         1.000000      12.000000           10.000000\n",
       "50%         1.000000      32.000000           28.000000\n",
       "75%         1.000000      73.000000           64.000000\n",
       "max         1.000000    4349.000000         3435.000000"
      ]
     },
     "execution_count": 35,
     "metadata": {},
     "output_type": "execute_result"
    }
   ],
   "source": [
    "text_stats_df.describe()"
   ]
  },
  {
   "cell_type": "code",
   "execution_count": 38,
   "metadata": {},
   "outputs": [
    {
     "data": {
      "text/html": [
       "<div>\n",
       "<style scoped>\n",
       "    .dataframe tbody tr th:only-of-type {\n",
       "        vertical-align: middle;\n",
       "    }\n",
       "\n",
       "    .dataframe tbody tr th {\n",
       "        vertical-align: top;\n",
       "    }\n",
       "\n",
       "    .dataframe thead th {\n",
       "        text-align: right;\n",
       "    }\n",
       "</style>\n",
       "<table border=\"1\" class=\"dataframe\">\n",
       "  <thead>\n",
       "    <tr style=\"text-align: right;\">\n",
       "      <th></th>\n",
       "      <th>reviewText</th>\n",
       "      <th>sentiment</th>\n",
       "      <th>word_count</th>\n",
       "      <th>cleaned_text</th>\n",
       "      <th>cleaned_word_count</th>\n",
       "    </tr>\n",
       "  </thead>\n",
       "  <tbody>\n",
       "    <tr>\n",
       "      <th>2861</th>\n",
       "      <td>http://www.amazon.com/gp/product/B00004ZCJL?re...</td>\n",
       "      <td>1</td>\n",
       "      <td>7</td>\n",
       "      <td></td>\n",
       "      <td>0</td>\n",
       "    </tr>\n",
       "    <tr>\n",
       "      <th>3741</th>\n",
       "      <td>:)</td>\n",
       "      <td>1</td>\n",
       "      <td>2</td>\n",
       "      <td></td>\n",
       "      <td>0</td>\n",
       "    </tr>\n",
       "    <tr>\n",
       "      <th>6846</th>\n",
       "      <td>:-)</td>\n",
       "      <td>1</td>\n",
       "      <td>3</td>\n",
       "      <td></td>\n",
       "      <td>0</td>\n",
       "    </tr>\n",
       "    <tr>\n",
       "      <th>7307</th>\n",
       "      <td>&lt;div id=\"video-block-R2PX631O5HPURN\" class=\"a-...</td>\n",
       "      <td>1</td>\n",
       "      <td>57</td>\n",
       "      <td></td>\n",
       "      <td>0</td>\n",
       "    </tr>\n",
       "    <tr>\n",
       "      <th>8645</th>\n",
       "      <td>:)</td>\n",
       "      <td>1</td>\n",
       "      <td>2</td>\n",
       "      <td></td>\n",
       "      <td>0</td>\n",
       "    </tr>\n",
       "    <tr>\n",
       "      <th>21917</th>\n",
       "      <td>&lt;div id=\"video-block-R3DCQ06IJNU0M2\" class=\"a-...</td>\n",
       "      <td>0</td>\n",
       "      <td>57</td>\n",
       "      <td></td>\n",
       "      <td>0</td>\n",
       "    </tr>\n",
       "    <tr>\n",
       "      <th>27020</th>\n",
       "      <td>:)</td>\n",
       "      <td>1</td>\n",
       "      <td>2</td>\n",
       "      <td></td>\n",
       "      <td>0</td>\n",
       "    </tr>\n",
       "    <tr>\n",
       "      <th>29368</th>\n",
       "      <td>http://www.amazon.com/PanaVise-209-Vacuum-Base...</td>\n",
       "      <td>1</td>\n",
       "      <td>3</td>\n",
       "      <td></td>\n",
       "      <td>0</td>\n",
       "    </tr>\n",
       "    <tr>\n",
       "      <th>32995</th>\n",
       "      <td>:)</td>\n",
       "      <td>1</td>\n",
       "      <td>2</td>\n",
       "      <td></td>\n",
       "      <td>0</td>\n",
       "    </tr>\n",
       "    <tr>\n",
       "      <th>39569</th>\n",
       "      <td>http://www.amazon.com/gp/product/B004C9PKTG?re...</td>\n",
       "      <td>1</td>\n",
       "      <td>7</td>\n",
       "      <td></td>\n",
       "      <td>0</td>\n",
       "    </tr>\n",
       "    <tr>\n",
       "      <th>56348</th>\n",
       "      <td>(^_^)</td>\n",
       "      <td>1</td>\n",
       "      <td>3</td>\n",
       "      <td></td>\n",
       "      <td>0</td>\n",
       "    </tr>\n",
       "    <tr>\n",
       "      <th>59175</th>\n",
       "      <td>:)</td>\n",
       "      <td>1</td>\n",
       "      <td>2</td>\n",
       "      <td></td>\n",
       "      <td>0</td>\n",
       "    </tr>\n",
       "    <tr>\n",
       "      <th>59581</th>\n",
       "      <td>;-)</td>\n",
       "      <td>1</td>\n",
       "      <td>3</td>\n",
       "      <td></td>\n",
       "      <td>0</td>\n",
       "    </tr>\n",
       "    <tr>\n",
       "      <th>60498</th>\n",
       "      <td>:)</td>\n",
       "      <td>1</td>\n",
       "      <td>2</td>\n",
       "      <td></td>\n",
       "      <td>0</td>\n",
       "    </tr>\n",
       "    <tr>\n",
       "      <th>62877</th>\n",
       "      <td>.</td>\n",
       "      <td>1</td>\n",
       "      <td>1</td>\n",
       "      <td></td>\n",
       "      <td>0</td>\n",
       "    </tr>\n",
       "    <tr>\n",
       "      <th>63197</th>\n",
       "      <td>:)</td>\n",
       "      <td>1</td>\n",
       "      <td>2</td>\n",
       "      <td></td>\n",
       "      <td>0</td>\n",
       "    </tr>\n",
       "    <tr>\n",
       "      <th>69726</th>\n",
       "      <td>https://www.amazon.com/dp/B005FHZ2SI/ref=cm_cr...</td>\n",
       "      <td>1</td>\n",
       "      <td>3</td>\n",
       "      <td></td>\n",
       "      <td>0</td>\n",
       "    </tr>\n",
       "    <tr>\n",
       "      <th>85532</th>\n",
       "      <td>:)</td>\n",
       "      <td>1</td>\n",
       "      <td>2</td>\n",
       "      <td></td>\n",
       "      <td>0</td>\n",
       "    </tr>\n",
       "    <tr>\n",
       "      <th>91053</th>\n",
       "      <td>.</td>\n",
       "      <td>1</td>\n",
       "      <td>1</td>\n",
       "      <td></td>\n",
       "      <td>0</td>\n",
       "    </tr>\n",
       "    <tr>\n",
       "      <th>91254</th>\n",
       "      <td>;)</td>\n",
       "      <td>1</td>\n",
       "      <td>2</td>\n",
       "      <td></td>\n",
       "      <td>0</td>\n",
       "    </tr>\n",
       "    <tr>\n",
       "      <th>91313</th>\n",
       "      <td>:)</td>\n",
       "      <td>1</td>\n",
       "      <td>2</td>\n",
       "      <td></td>\n",
       "      <td>0</td>\n",
       "    </tr>\n",
       "    <tr>\n",
       "      <th>91547</th>\n",
       "      <td>:)</td>\n",
       "      <td>1</td>\n",
       "      <td>2</td>\n",
       "      <td></td>\n",
       "      <td>0</td>\n",
       "    </tr>\n",
       "    <tr>\n",
       "      <th>92176</th>\n",
       "      <td>:)</td>\n",
       "      <td>1</td>\n",
       "      <td>2</td>\n",
       "      <td></td>\n",
       "      <td>0</td>\n",
       "    </tr>\n",
       "    <tr>\n",
       "      <th>93363</th>\n",
       "      <td>:)</td>\n",
       "      <td>1</td>\n",
       "      <td>2</td>\n",
       "      <td></td>\n",
       "      <td>0</td>\n",
       "    </tr>\n",
       "    <tr>\n",
       "      <th>97716</th>\n",
       "      <td>:)</td>\n",
       "      <td>1</td>\n",
       "      <td>2</td>\n",
       "      <td></td>\n",
       "      <td>0</td>\n",
       "    </tr>\n",
       "    <tr>\n",
       "      <th>97859</th>\n",
       "      <td>https://www.amazon.com/dp/B00LLM3Z0S/ref=cm_cr...</td>\n",
       "      <td>0</td>\n",
       "      <td>3</td>\n",
       "      <td></td>\n",
       "      <td>0</td>\n",
       "    </tr>\n",
       "    <tr>\n",
       "      <th>103980</th>\n",
       "      <td>:)</td>\n",
       "      <td>1</td>\n",
       "      <td>2</td>\n",
       "      <td></td>\n",
       "      <td>0</td>\n",
       "    </tr>\n",
       "    <tr>\n",
       "      <th>106964</th>\n",
       "      <td>https://www.amazon.com/dp/B0147RX0NU/ref=cm_sw...</td>\n",
       "      <td>1</td>\n",
       "      <td>5</td>\n",
       "      <td></td>\n",
       "      <td>0</td>\n",
       "    </tr>\n",
       "    <tr>\n",
       "      <th>110613</th>\n",
       "      <td>:)</td>\n",
       "      <td>1</td>\n",
       "      <td>2</td>\n",
       "      <td></td>\n",
       "      <td>0</td>\n",
       "    </tr>\n",
       "    <tr>\n",
       "      <th>113783</th>\n",
       "      <td>&lt;div id=\"video-block-R3PCRU0UBOMWJQ\" class=\"a-...</td>\n",
       "      <td>1</td>\n",
       "      <td>59</td>\n",
       "      <td></td>\n",
       "      <td>0</td>\n",
       "    </tr>\n",
       "    <tr>\n",
       "      <th>114959</th>\n",
       "      <td>:)</td>\n",
       "      <td>1</td>\n",
       "      <td>2</td>\n",
       "      <td></td>\n",
       "      <td>0</td>\n",
       "    </tr>\n",
       "    <tr>\n",
       "      <th>127947</th>\n",
       "      <td>:]</td>\n",
       "      <td>1</td>\n",
       "      <td>2</td>\n",
       "      <td></td>\n",
       "      <td>0</td>\n",
       "    </tr>\n",
       "  </tbody>\n",
       "</table>\n",
       "</div>"
      ],
      "text/plain": [
       "                                               reviewText  sentiment  \\\n",
       "2861    http://www.amazon.com/gp/product/B00004ZCJL?re...          1   \n",
       "3741                                                   :)          1   \n",
       "6846                                                  :-)          1   \n",
       "7307    <div id=\"video-block-R2PX631O5HPURN\" class=\"a-...          1   \n",
       "8645                                                   :)          1   \n",
       "21917   <div id=\"video-block-R3DCQ06IJNU0M2\" class=\"a-...          0   \n",
       "27020                                                  :)          1   \n",
       "29368   http://www.amazon.com/PanaVise-209-Vacuum-Base...          1   \n",
       "32995                                                  :)          1   \n",
       "39569   http://www.amazon.com/gp/product/B004C9PKTG?re...          1   \n",
       "56348                                               (^_^)          1   \n",
       "59175                                                  :)          1   \n",
       "59581                                                 ;-)          1   \n",
       "60498                                                  :)          1   \n",
       "62877                                                   .          1   \n",
       "63197                                                  :)          1   \n",
       "69726   https://www.amazon.com/dp/B005FHZ2SI/ref=cm_cr...          1   \n",
       "85532                                                  :)          1   \n",
       "91053                                                   .          1   \n",
       "91254                                                  ;)          1   \n",
       "91313                                                  :)          1   \n",
       "91547                                                  :)          1   \n",
       "92176                                                  :)          1   \n",
       "93363                                                  :)          1   \n",
       "97716                                                  :)          1   \n",
       "97859   https://www.amazon.com/dp/B00LLM3Z0S/ref=cm_cr...          0   \n",
       "103980                                                 :)          1   \n",
       "106964  https://www.amazon.com/dp/B0147RX0NU/ref=cm_sw...          1   \n",
       "110613                                                 :)          1   \n",
       "113783  <div id=\"video-block-R3PCRU0UBOMWJQ\" class=\"a-...          1   \n",
       "114959                                                 :)          1   \n",
       "127947                                                 :]          1   \n",
       "\n",
       "        word_count cleaned_text  cleaned_word_count  \n",
       "2861             7                                0  \n",
       "3741             2                                0  \n",
       "6846             3                                0  \n",
       "7307            57                                0  \n",
       "8645             2                                0  \n",
       "21917           57                                0  \n",
       "27020            2                                0  \n",
       "29368            3                                0  \n",
       "32995            2                                0  \n",
       "39569            7                                0  \n",
       "56348            3                                0  \n",
       "59175            2                                0  \n",
       "59581            3                                0  \n",
       "60498            2                                0  \n",
       "62877            1                                0  \n",
       "63197            2                                0  \n",
       "69726            3                                0  \n",
       "85532            2                                0  \n",
       "91053            1                                0  \n",
       "91254            2                                0  \n",
       "91313            2                                0  \n",
       "91547            2                                0  \n",
       "92176            2                                0  \n",
       "93363            2                                0  \n",
       "97716            2                                0  \n",
       "97859            3                                0  \n",
       "103980           2                                0  \n",
       "106964           5                                0  \n",
       "110613           2                                0  \n",
       "113783          59                                0  \n",
       "114959           2                                0  \n",
       "127947           2                                0  "
      ]
     },
     "execution_count": 38,
     "metadata": {},
     "output_type": "execute_result"
    }
   ],
   "source": [
    "text_stats_df[text_stats_df.cleaned_word_count == 0]"
   ]
  },
  {
   "cell_type": "code",
   "execution_count": 93,
   "metadata": {},
   "outputs": [],
   "source": [
    "cv = CountVectorizer(ngram_range = (3,3), stop_words = stop_words)\n",
    "words = cv.fit_transform(text_stats_df['cleaned_text'])\n",
    "sum_words = words.sum(axis=0)\n",
    "word_freq = [(word, sum_words[0, idx]) for word, idx in cv.vocabulary_.items()]\n",
    "word_freq = sorted(word_freq, key=lambda x: x[1], reverse=True)\n",
    "word_df = pd.DataFrame(word_freq, columns=['word', 'count'])"
   ]
  },
  {
   "cell_type": "code",
   "execution_count": 94,
   "metadata": {},
   "outputs": [
    {
     "data": {
      "image/png": "[encoded data removed]",
      "text/plain": [
       "<Figure size 1080x1080 with 1 Axes>"
      ]
     },
     "metadata": {
      "needs_background": "light"
     },
     "output_type": "display_data"
    }
   ],
   "source": [
    "fig, ax = plt.subplots(figsize = (15,15))\n",
    "ax = sns.barplot(data = word_df.head(30), x = 'count', y = 'word', orient = 'h')"
   ]
  },
  {
   "cell_type": "code",
   "execution_count": 56,
   "metadata": {},
   "outputs": [],
   "source": [
    "import spacy\n",
    "nlp = spacy.load(\"en_core_web_sm\")\n"
   ]
  },
  {
   "cell_type": "code",
   "execution_count": 77,
   "metadata": {},
   "outputs": [],
   "source": [
    "doc = nlp(text_stats_df.cleaned_text[44098])"
   ]
  },
  {
   "cell_type": "code",
   "execution_count": 78,
   "metadata": {},
   "outputs": [],
   "source": [
    "def clean_text(doc):\n",
    "    # Remove stop words, punctuation, and any words that are not alphabetic\n",
    "    tokens = [token.lemma_.lower() for token in doc if not token.is_stop and token.is_alpha]\n",
    "    # Join the tokens back into a string and return it\n",
    "    return ' '.join(tokens)"
   ]
  },
  {
   "cell_type": "code",
   "execution_count": 58,
   "metadata": {},
   "outputs": [],
   "source": [
    "cleaned_text = clean_text(doc)"
   ]
  },
  {
   "cell_type": "code",
   "execution_count": 79,
   "metadata": {},
   "outputs": [],
   "source": [
    "ctext = clean_text(doc)"
   ]
  },
  {
   "cell_type": "code",
   "execution_count": 68,
   "metadata": {},
   "outputs": [],
   "source": [
    "def clean_text(text):\n",
    "    # Remove HTML tags\n",
    "    text = re.sub(r'<[^>]+>', '', text)\n",
    "    # Remove URLs\n",
    "    text = re.sub(r'http\\S+', '', text)\n",
    "    # Remove punctuation and numbers\n",
    "    text = re.sub(r'[^\\w\\s]', '', text)\n",
    "    # Remove line breaks and extra white space\n",
    "    text = re.sub(r'[\\r|\\n|\\r\\n]+', ' ', text)\n",
    "    text = re.sub(r'\\s+', ' ', text)\n",
    "    # Convert text to lowercase\n",
    "    text = text.lower()\n",
    "    # Remove stop words and lemmatize text\n",
    "    doc = nlp(text)\n",
    "    tokens = [token.lemma_ for token in doc if not token.is_stop and not token.is_punct and token.text not in stop_words]\n",
    "    # Join tokens back into a string\n",
    "    text = ' '.join(tokens)\n",
    "    return text"
   ]
  },
  {
   "cell_type": "code",
   "execution_count": 83,
   "metadata": {},
   "outputs": [
    {
     "name": "stdout",
     "output_type": "stream",
     "text": [
      "{'never', 'neither', 'indeed', \"'m\", 'used', 'noone', '‘m', 'our', 'seeming', 'her', 'yours', 'against', 'unless', 'who', 'further', 'more', 'nevertheless', 'every', 'whole', 'full', 'be', 'where', 'anyway', 'must', 'bottom', 'can', '‘ve', 'did', '’s', 'still', 're', 'seem', 'may', 'which', 'twenty', 'so', 'his', 'whether', '‘d', 'everyone', 'whereafter', 'in', \"'ve\", 'into', 'among', 'she', 'your', 'almost', 'how', 'less', 'became', 'perhaps', 'beside', 'him', 'on', 'he', 'were', 'whither', 'empty', 'eight', 'them', 'also', 'using', 'serious', 'hers', 'an', 'that', 'for', 'hence', 'beforehand', 'its', 'between', '’re', 'sometime', \"'re\", 'upon', 'same', 'whenever', 'other', 'nor', 'it', 'beyond', 'when', 'below', 'something', 'than', 'least', 'get', 'put', 'only', 'please', 'a', 'doing', 'of', 'whom', 'down', 'few', 'besides', 'around', 'toward', 'enough', 'moreover', 'no', 'forty', 'each', 'mostly', 'we', 'see', 'are', 'due', 'hereby', 'have', 'regarding', 'wherein', 'n’t', 'together', 'formerly', 'us', \"n't\", 'whoever', 'latterly', 'with', 'often', 'across', 'nobody', 'themselves', 'whereby', 'first', 'none', 'becoming', 'either', 'the', 'though', 'amount', 'thereupon', 'everything', 'everywhere', 'quite', 'by', 'thereby', '‘s', 'many', 'yourselves', 'within', 'ca', 'former', 'thereafter', 'cannot', 'onto', 'why', 'some', 'really', 'yet', 'via', 'without', '’ve', 'is', 'five', 'several', 'thence', 'once', 'whereas', 'my', 'own', 'part', 'then', 'twelve', 'except', 'back', 'sixty', 'name', 'throughout', 'elsewhere', 'afterwards', 'such', 'most', '’m', 'any', 'seems', 'through', 'front', 'to', 'i', 'three', 'per', 'herself', 'before', 'although', 'what', 'being', 'alone', 'this', 'anyhow', 'himself', 'nothing', 'becomes', 'nine', 'rather', 'there', 'another', 'behind', 'ten', 'under', 'along', 'go', 'somehow', 'hereupon', 'should', 'six', 'give', 'otherwise', 'off', 'side', 'sometimes', 'two', 'would', 'make', 'well', 'hereafter', 'already', \"'d\", 'anyone', 'whence', 'me', 'even', 'last', 'again', 'after', 'here', 'until', 'both', 'you', 'next', \"'ll\", 'move', 'latter', 'else', 'call', 'had', 'top', 'anywhere', 'fifty', 'anything', 'namely', 'does', 'herein', 'am', 'ever', 'might', 'about', 'third', 'while', 'above', 'thru', 'as', 'whereupon', 'thus', 'itself', 'somewhere', 'their', 'four', 'if', 'over', 'but', 'done', 'yourself', 'made', 'do', 'not', \"'s\", 'been', 'wherever', 'someone', 'whose', 'or', 'up', 'during', 'n‘t', 'now', 'always', 'at', 'nowhere', 'keep', 'eleven', 'all', 'seemed', '‘re', 'because', 'ourselves', 'take', 'will', 'just', 'too', 'therefore', 'could', 'towards', 'and', 'one', 'they', 'those', 'hundred', 'very', 'fifteen', 'become', '‘ll', 'out', '’d', 'whatever', 'from', 'others', 'much', 'has', 'meanwhile', 'since', 'was', 'say', 'ours', 'therein', 'show', 'amongst', 'however', 'myself', 'various', 'these', 'mine', '’ll'}\n"
     ]
    }
   ],
   "source": [
    "print(nlp.Defaults.stop_words)"
   ]
  },
  {
   "cell_type": "code",
   "execution_count": 84,
   "metadata": {},
   "outputs": [
    {
     "data": {
      "text/plain": [
       "{'a',\n",
       " 'about',\n",
       " 'above',\n",
       " 'after',\n",
       " 'again',\n",
       " 'against',\n",
       " 'ain',\n",
       " 'all',\n",
       " 'am',\n",
       " 'an',\n",
       " 'and',\n",
       " 'any',\n",
       " 'are',\n",
       " 'aren',\n",
       " \"aren't\",\n",
       " 'as',\n",
       " 'at',\n",
       " 'be',\n",
       " 'because',\n",
       " 'been',\n",
       " 'before',\n",
       " 'being',\n",
       " 'below',\n",
       " 'between',\n",
       " 'both',\n",
       " 'but',\n",
       " 'by',\n",
       " 'can',\n",
       " 'couldn',\n",
       " \"couldn't\",\n",
       " 'd',\n",
       " 'did',\n",
       " 'didn',\n",
       " \"didn't\",\n",
       " 'do',\n",
       " 'does',\n",
       " 'doesn',\n",
       " \"doesn't\",\n",
       " 'doing',\n",
       " 'don',\n",
       " \"don't\",\n",
       " 'down',\n",
       " 'during',\n",
       " 'each',\n",
       " 'few',\n",
       " 'for',\n",
       " 'from',\n",
       " 'further',\n",
       " 'had',\n",
       " 'hadn',\n",
       " \"hadn't\",\n",
       " 'has',\n",
       " 'hasn',\n",
       " \"hasn't\",\n",
       " 'have',\n",
       " 'haven',\n",
       " \"haven't\",\n",
       " 'having',\n",
       " 'he',\n",
       " 'her',\n",
       " 'here',\n",
       " 'hers',\n",
       " 'herself',\n",
       " 'him',\n",
       " 'himself',\n",
       " 'his',\n",
       " 'how',\n",
       " 'i',\n",
       " 'if',\n",
       " 'in',\n",
       " 'into',\n",
       " 'is',\n",
       " 'isn',\n",
       " \"isn't\",\n",
       " 'it',\n",
       " \"it's\",\n",
       " 'its',\n",
       " 'itself',\n",
       " 'just',\n",
       " 'll',\n",
       " 'm',\n",
       " 'ma',\n",
       " 'me',\n",
       " 'mightn',\n",
       " \"mightn't\",\n",
       " 'more',\n",
       " 'most',\n",
       " 'mustn',\n",
       " \"mustn't\",\n",
       " 'my',\n",
       " 'myself',\n",
       " 'needn',\n",
       " \"needn't\",\n",
       " 'no',\n",
       " 'nor',\n",
       " 'not',\n",
       " 'now',\n",
       " 'o',\n",
       " 'of',\n",
       " 'off',\n",
       " 'on',\n",
       " 'once',\n",
       " 'only',\n",
       " 'or',\n",
       " 'other',\n",
       " 'our',\n",
       " 'ours',\n",
       " 'ourselves',\n",
       " 'out',\n",
       " 'over',\n",
       " 'own',\n",
       " 're',\n",
       " 's',\n",
       " 'same',\n",
       " 'shan',\n",
       " \"shan't\",\n",
       " 'she',\n",
       " \"she's\",\n",
       " 'should',\n",
       " \"should've\",\n",
       " 'shouldn',\n",
       " \"shouldn't\",\n",
       " 'so',\n",
       " 'some',\n",
       " 'such',\n",
       " 't',\n",
       " 'than',\n",
       " 'that',\n",
       " \"that'll\",\n",
       " 'the',\n",
       " 'their',\n",
       " 'theirs',\n",
       " 'them',\n",
       " 'themselves',\n",
       " 'then',\n",
       " 'there',\n",
       " 'these',\n",
       " 'they',\n",
       " 'this',\n",
       " 'those',\n",
       " 'through',\n",
       " 'to',\n",
       " 'too',\n",
       " 'under',\n",
       " 'until',\n",
       " 'up',\n",
       " 've',\n",
       " 'very',\n",
       " 'was',\n",
       " 'wasn',\n",
       " \"wasn't\",\n",
       " 'we',\n",
       " 'were',\n",
       " 'weren',\n",
       " \"weren't\",\n",
       " 'what',\n",
       " 'when',\n",
       " 'where',\n",
       " 'which',\n",
       " 'while',\n",
       " 'who',\n",
       " 'whom',\n",
       " 'why',\n",
       " 'will',\n",
       " 'with',\n",
       " 'won',\n",
       " \"won't\",\n",
       " 'wouldn',\n",
       " \"wouldn't\",\n",
       " 'y',\n",
       " 'you',\n",
       " \"you'd\",\n",
       " \"you'll\",\n",
       " \"you're\",\n",
       " \"you've\",\n",
       " 'your',\n",
       " 'yours',\n",
       " 'yourself',\n",
       " 'yourselves'}"
      ]
     },
     "execution_count": 84,
     "metadata": {},
     "output_type": "execute_result"
    }
   ],
   "source": [
    "stop_words"
   ]
  },
  {
   "cell_type": "code",
   "execution_count": 65,
   "metadata": {},
   "outputs": [
    {
     "data": {
      "text/plain": [
       "'=====\\nIMPORTANT UPDATE February 9, 2012: It has just been announced that Kodak is exiting the digital camera business. Please see Comment #22 for further details.\\n=====\\n\\nThis&nbsp;<a data-hook=\"product-link-linked\" class=\"a-link-normal\" href=\"/Kodak-PlaySport-HD-Waterproof-Pocket-Video-Camera-Black-NEWEST-MODEL/dp/B0030MITDK/ref=cm_cr_arp_d_rvw_txt?ie=UTF8\">Kodak PlaySport HD Waterproof Pocket Video Camera (Black) NEWEST MODEL</a>&nbsp;(Model Zx3) video camcorder was offered to me through the Amazon Vine program and, even though I already had a&nbsp;<a data-hook=\"product-link-linked\" class=\"a-link-normal\" href=\"/Creative-Labs-Vado-HD-Pocket-Video-Camcorder-3rd-Generation-120-Minutes-Black-NEWEST-MODEL/dp/B002P3N1J2/ref=cm_cr_arp_d_rvw_txt?ie=UTF8\">Creative Labs Vado HD Pocket Video Camcorder 3rd Generation,120 Minutes (Black) - NEWEST MODEL</a>, which I like very much (and received just last month, also through Amazon Vine), I decided to order this Kodak one so I could have a camcorder to use and my wife could have one as well.\\n\\nLet me state up front that I REALLY like this little camcorder. It is small, lightweight, convenient to slip into a pocket, and it is quick and easy to use. I think its price is very good also, certainly for what you get. (Of course just about the same can be said for the Creative Vado.)\\n\\nThat said, and now that I have both of these camcorders, I have to say that it is hard for me to decide which of them I prefer. They both have small advantages and small disadvantages in their respective feature sets.\\n\\nFor example, the Creative Vado has a built-in (attached) flexible USB connection which makes transferring videos to a computer REALLY easy. If you wish to transfer videos via USB with the Kodak, you must use a separate USB cable (which, by the way, IS supplied with the Kodak unit, as are ALL necessary cables, such as video cables, etc.).\\n\\nBut, as the Kodak uses a separate SDHC card (such as this&nbsp;<a data-hook=\"product-link-linked\" class=\"a-link-normal\" href=\"/Kodak-High-Speed-16-GB-60x-Class-4-SDHC-Flash-Memory-Card-KSD16GHSBNA060/dp/B0028NE2OW/ref=cm_cr_arp_d_rvw_txt?ie=UTF8\">Kodak High-Speed 16 GB 60x Class 4 SDHC Flash Memory Card KSD16GHSBNA060</a>), transferring video is a snap merely by removing the card from the camcorder and inserting it into the SD slot on your computer (or an external card reader if your computer is an older one which has no SD slot).\\n\\n(Please note that I have NO experience with the video software included with either of these camcorders. My wife and I use the Ubuntu Linux operating system on our computers; thus the included software is inoperative. In any case, Linux makes transferring files so easy and intuitive, we would have no need of the software even if it did work on our computers.)\\n\\nUnfortunately, the Kodak does NOT come with even a small SDHC card as standard equipment. If you want one (and you can\\'t truly use the camcorder without one), you MUST buy it separately. This obviously adds to the cost.\\n\\nHowever, a MAJOR advantage of using a card is that you can choose the size you want and you can buy and carry several should you decide to do so; if, for example, you are on a vacation and do not wish to frequently transfer the videos to your computer, it is not necessary to do so with the Kodak. You can keep the video on your card and, when it is filled, you merely insert a fresh card. (The disadvantage of using cards is, of course, the cost involved.) With the Creative, which uses a built-in memory and has no means of expansion, you MUST periodically transfer the video to your computer - but, with it, there are no additional costs involved. (Another advantage of having more than one card is, if a card somehow becomes corrupted or damaged, you merely replace it with another, spare, card.)\\n\\nAs far as picture quality goes (and, of course, that is THE most important thing!), both of these camcorders appear to be equal in the quality of the pictures they produce, that is to say, excellent. My wife and I have been surprised and pleased with the images produced from the Creative Vado (our first camcorder) and now with this new Kodak model. The images, as viewed on a computer screen, are really fine. I can\\'t imagine anyone complaining about their overall quality. The auto-exposure works very well with both camcorders and the sound is about what you would expect (better if you are closer to the subject). (The Creative offers the option of using an external microphone, purchased separately, which would improve the sound quality.)\\n\\nThe Creative Vado has three picture settings, two of which produce wide-screen (16:9) movies, and the third one which produces \"standard\" (4:3) images. All of the Kodak\\'s picture settings (there are four) produce wide-screen movies.\\n\\nThe Creative creates MP4 files and the Kodak creates MOV ones; in both cases I convert them to AVI files which I much prefer (AVI files are generally smaller - with no loss of quality that I can see). The Creative has a means of adjusting the picture brightness (sensitivity); the Kodak does not but the resulting videos, taken in varying degrees of brightness (indoors, outdoors) appear equal.\\n\\nThe Creative has one fixed LCD-brightness (viewing) setting; the Kodak has three (normal, bright, and black-and-white); the bright LCD setting makes outdoor viewing of your subject easier but does not affect the resultant video.\\n\\nBoth have a digital zoom (of minimal usefulness) and the Kodak offers image stabilization for stills (the Creative does not). (The Kodak can also be used under water.) Based on my admittedly limited use (thus far) of both, I should repeat that the video (and still) images are about equal in quality. (I did notice that, during one \"shoot\" of our granddaughter inside a local supermarket and using the Creative Vado, initially the image appeared WAY too red but, within about 10 seconds or so, it had \"settled down\" to look more naturally color-balanced; I have not yet had the opportunity to try a similar shoot using the Kodak.)\\n\\nThe Kodak offers 1080p images as its top quality; the Creative offers 720p. For home movies, in my opinion, the difference is minor (but I have not looked at the images on a large screen as yet; I have watched them only on my computer).\\n\\nThe Kodak at first appears to be lower-priced than the Creative but, as I indicated above, the initial price may be deceiving. The Creative has 4GB of built-in memory (and no means of expanding it) but the Kodak, with a minimal amount of built-in memory (29 seconds of video at the smallest file setting), MUST be used with an SDHC card. This can be any size you wish, up to a claimed 32 GB; the larger the card the more it can hold but, of course, the more it will cost. I bought the 16 GB Kodak card I mention above and it holds about 4 hours if shooting at 720p or 3 hours if shooting at 1080p. (The Creative holds about 2 hours at its 720p mid-setting, which is the one I use. Its maximum quality setting is 720p HD and, at that setting, it holds about 1 hour of video.)\\n\\nAt this point, I do not know how long the battery will last between charges on either of these camcorders (I\\'ll report my experiences in an update) but it seems to me (just empirically) that the Creative one will last longer. In any case, I bought (for both of them) spare batteries, spare chargers, and brand-specific camera cases. In addition I bought the necessary video cables for the Creative and a remote control for the Kodak. Some of my Kodak options are still in transit - the remote is on back order - and have not yet arrived. I have all of the Creative options I ordered. (By the way, both camcorders have removable and replaceable batteries - really a rarity, and a welcome one, these days.)\\n\\nBoth camcorders offer similar features and adjustments but those on the Kodak appear to be more straightforward to use than those on the Creative. The Kodak offers real buttons as opposed to the Creative\\'s touch areas and the presence of those buttons makes operation easier, at least for me. (The Creative does have a menu button as well as a \"delete\" button on the side and an on/off button on the top; the Kodak has all the buttons on the rear [facing the operator] except for the on/off button which is on the side.)\\n\\nThe menu options on the Kodak are more intuitive and easier to access and change than are those on the Creative but the differences are not major.\\n\\nI want to mention that the Creative Vado is black all around (the \"controls\" are indicated with silver-on-black markings - except, of course, for the white \"record\" button which is actually a real button!) but the Kodak, though black (or purple or blue, as you choose) on the side facing the person being photographed, is white on the side facing the user and, at least for me, this makes seeing and using the buttons somewhat easier, though this too is not major.\\n\\nThe Kodak comes with a wrist strap (the Creative does NOT - and it should!), a feature which I like very much, though the camcorder with the strap attached fits only rather clumsily into its&nbsp;<a data-hook=\"product-link-linked\" class=\"a-link-normal\" href=\"/Kodak-1047398-Pocket-Video-Case/dp/B002IVPUJA/ref=cm_cr_arp_d_rvw_txt?ie=UTF8\">Kodak 1047398 Pocket Video Case</a>. The Creative fits perfectly and easily into its&nbsp;<a data-hook=\"product-link-linked\" class=\"a-link-normal\" href=\"/Creative-Labs-Vado-VF0570APS-Pocket-Video-Camera-Mesh-Pouch-Silver/dp/B001I44YCC/ref=cm_cr_arp_d_rvw_txt?ie=UTF8\">Creative Labs Vado VF0570APS Pocket Video Camera Mesh Pouch (Silver)</a>&nbsp;and, in it, is smaller and thinner than the Kodak in ITS case. The Creative case has a belt loop and the Kodak case has a shoulder strap.\\n\\nThe Kodak is noticeably heavier and slightly larger than the Creative. Its instruction manual (actually there are two - one printed, which comes with the camcorder, and an \"extended\" user manual which you download from Kodak\\'s web site) is excellent, much better organized, more comprehensive, and easier to use and understand than that of the Creative.\\n\\nWhen you get down to brass tacks, with the Creative Vado, the only options you REALLY need are&nbsp;<a data-hook=\"product-link-linked\" class=\"a-link-normal\" href=\"/Creative-Vado-A-V-Cable-Video-audio-cable-composite-video-audio-RCA-M-mini-phone-3-5-mm-4-pole-M-4-6-ft/dp/B002DS2IZW/ref=cm_cr_arp_d_rvw_txt?ie=UTF8\">Creative Vado A/V Cable - Video / audio cable - composite video / audio - RCA (M) - mini-phone 3.5 mm 4-pole (M) - 4.6 ft</a>&nbsp;if you want to play your videos through a standard television (an HDMI cable is optional yet even Creative itself does not appear to offer one specific to this unit - nor does Amazon!) and the case. With the Kodak, you should buy the case and, of course, you NEED an SDHC card. Overall, then, despite a lower \"basic\" price, the Kodak is probably somewhat more expensive overall (but it does come with all necessary cables including an HDMI one). If you are cash-strapped, you need buy NO options for the Creative but you WILL need an SDHC card for the Kodak. If you were to buy a 2-to-8 GB card, the Kodak would then be less expensive overall than the Creative; the 16GB (or 32 GB) card would make the Kodak the costlier of the two.\\n\\nI\\'m still mulling over the \"problem\" of which to give to my wife and which to use myself. At this point, due to the ease of transferring files to a computer, I may let my wife try the Creative Vado to see if she likes its operational characteristics; she would need only to plug in the attached USB cord; there is nothing extra she need use (with the Kodak, you need to use either an external USB cord or you need to remove the SDHC card from the camcorder and insert it into the slot on your computer). But, then again, with its buttons, the Kodak is much more straightforward to use when actually taking video or pictures.\\n\\nDecisions, decisions!\\n\\nI have to say that I like them both and I highly recommend them both. If I were really \"pushed\" to make a choice between the two, I think I would (very) slightly favor this Kodak model partly because of its real ease-of-use (including much better instructions), its removable storage, and its option to increase the brightness of the LCD screen for better outdoor viewing in bright sunlight (however neither the Kodak nor the Creative is easy to view in very bright sunlight) but someone else might feel differently. (Due to its heft, it feels more substantial to me but that\\'s a VERY subjective opinion.) I want to state definitely however that this&nbsp;<a data-hook=\"product-link-linked\" class=\"a-link-normal\" href=\"/Kodak-PlaySport-HD-Waterproof-Pocket-Video-Camera-Black-NEWEST-MODEL/dp/B0030MITDK/ref=cm_cr_arp_d_rvw_txt?ie=UTF8\">Kodak PlaySport HD Waterproof Pocket Video Camera (Black) NEWEST MODEL</a>&nbsp;(its \"official\" model name is Zx3) is a fine camcorder and I believe that everyone who buys one will be as pleased with it as I am.\\n\\nThank you for reading this. I hope it has been of some help to you.\\n\\n==================================================================================================================================\\n\\nUpdate: April 23, 2010\\n\\nLast night I \"finally\" got around to projecting images taken with this camcorder onto my 110\" diagonal (16:9) screen using my&nbsp;<a data-hook=\"product-link-linked\" class=\"a-link-normal\" href=\"/PT-AE4000U-LCD-XGA-16-9-1600-Lumens-HDmi-Svid-16-1LBS-Hdtv/dp/B002W7CW32/ref=cm_cr_arp_d_rvw_txt?ie=UTF8\">PT-AE4000U LCD XGA 16:9 1600 Lumens HDmi Svid 16.1LBS Hdtv</a>. As expected (see the relevant update to my review of the&nbsp;<a data-hook=\"product-link-linked\" class=\"a-link-normal\" href=\"/Creative-Labs-Vado-HD-Pocket-Video-Camcorder-3rd-Generation-120-Minutes-Black-NEWEST-MODEL/dp/B002P3N1J2/ref=cm_cr_arp_d_rvw_txt?ie=UTF8\">Creative Labs Vado HD Pocket Video Camcorder 3rd Generation,120 Minutes (Black) - NEWEST MODEL</a>&nbsp;for more details), the images produced by the Kodak (taken, by the way, at 720P, NOT its \"best quality\" setting 1080P) were spectacular. They had excellent and accurate colors and sharpness; the monophonic sound was fine. The next time I take video with this camcorder I\\'m going to try the 1080P setting though I can\\'t imagine that it will look much better than what I saw last night!\\n\\nYou can\\'t go wrong with this&nbsp;<a data-hook=\"product-link-linked\" class=\"a-link-normal\" href=\"/Kodak-PlaySport-HD-Waterproof-Pocket-Video-Camera-Black-NEWEST-MODEL/dp/B0030MITDK/ref=cm_cr_arp_d_rvw_txt?ie=UTF8\">Kodak PlaySport HD Waterproof Pocket Video Camera (Black) NEWEST MODEL</a>&nbsp;and, to tell the truth, the same statement applies to the Creative Vado HD. Though they are different in their attributes, their \"strengths\" (all major), and their \"weaknesses\" (all minor), I really like them both very much.\\n\\nI thank you again for reading this.\\n\\n=====\\n\\nUpdate: July 14, 2010\\n\\nHaving owned this Kodak PlaySport (Zx3) HD Waterproof Pocket Video Camera (Black) NEWEST MODEL and the Creative Labs Vado HD Pocket Video Camcorder 3rd Generation,120 Minutes (Black) - NEWEST MODEL and using them side-by-side, overall I now prefer the Creative one. Really, it is just as easy to use as the Kodak, its images, at 720p, appear to be as good as Kodak\\'s 1080p images, at least on our 110\" screen, and the Creative\\'s battery lasts much, much longer. Plus my wife prefers the Creative camcorder over this Kodak (though she can give no reason for her preference; as I have stated, I like them both).\\n\\nI myself have experienced the \"freezing\" anomaly mentioned by some other reviewers, but only once. That was early in the ownership period and it has not recurred (so far!).\\n\\nEven though the Kodak can hold, with a 16GB SD card, much more video than the Creative, its battery runs out well before you can take even a fraction of what the card can hold. I have a spare battery for the Kodak (as well as for the Creative) and I strongly recommend that you buy one or two spares also, especially if you buy this Kodak model.\\n\\nWith the Kodak camcorder, even with two fully-charged batteries, the batteries BOTH run out well before the card is filled. This is somewhat disappointing, even though recharging (which can be done in your home or your car) does not take too long.\\n\\nNot so with the Creative camcorder. The battery lasts for quite a long period of time though I haven\\'t actually measured it. During our four and one-half cross-country trip, during which we took several hours of video with the Creative, I replaced its first battery with my (previously charged) second battery only once. While I did recharge the first battery, it was not necessary to use it.\\n\\nIn my opinion, this is excellent performance. (Recharging the Creative\\'s battery takes longer than recharging the Kodak\\'s battery though the Creative\\'s, like the Kodak\\'s, can be charged from an AC outlet or from your car\\'s DC \\'cigarette-lighter\\' port.)\\n\\nNeither camcorder is \\'perfect\\' but both are very, very good and. frankly, I could be happy with either. I think most people would feel the same. But, now having extensively used both camcorders, overall I too slightly prefer the Creative. (Among other things, the Creative camcorder REALLY excels in low-light situations.) Of course if underwater or foul-weather video is of even slight importance to you, this Kodak is, of its type, the only game in town. Also don\\'t forget one of its MAJOR advantages: the ability of its LCD screen to be adjusted to enable easier viewing in bright sunlight. And the Kodak\\'s ease of use with dedicated buttons is not to be ignored.\\n\\nSo do not misunderstand: I think this Kodak pocket camcorder is a fine product. I merely want readers of my review (really, just my opinions) to be aware of the \\'battery-life problem\\' I have experienced with it.\\n\\nAs always, it\\'s your call. Thank you for reading this and I hope it has been of some help to you.\\n\\n=====\\n\\nUpdate: December 20, 2010\\n\\nLast evening I FINALLY upgraded the firmware in my Zx3. I had been somewhat apprehensive about doing this (plus \"inertia,\" as always, \\'ruled\\' ...) but I needn\\'t have been.\\n\\nThe instructions on Kodak\\'s site were quite clear and easy to follow and the entire process, which took but a few minutes, went entirely smoothly.\\n\\nSo now my unit, which had had version 1.01, now has version 1.12. I presume that, among other things, this will correct the \\'freezing\\' anomaly (which, in any case, I had only experienced once).\\n\\n(Obviously any Zx3 purchased new, at the present time, will already incorporate the latest firmware.)\\n\\nThis camcorder is one heck of a unit. If its battery life on a charge were longer and if it had a faster lens, it would be my overwhelming favorite of the three camcorders I own. The battery-life \\'problem\\' can be alleviated to a certain extent by buying one or two spares (I currently have one but I may buy another); with an external charger, charging can be effected via your computer, your home AC power, or even, via a cigarette-lighter adapter, in your car separately from the camcorder. So really you need never be without power. Obviously, with that charger, you can charge one battery while using the camcorder with another. You need not miss any situations which you\\'d like to capture. The lens, of course, cannot be changed; it is a relatively slow at f2.8 and this precludes the camcorder from taking really good video in low-light situations (something at which the Creative Vado HD 3rd Generation, with its fast f2.0 lens, excels). If Kodak were to take this Zx3 camcorder AS IS but replace the current lens with a faster one, I think they\\'d really have something!\\n\\nIts overall operational design (with REAL buttons for the controls) and the accessories offered for it (as I mentioned you need buy only a few as it comes with all necessary cables - but those desirable accessories are extremely well-designed, much better than those of its competition) are, in my opinion, superlative. As I mentioned above I did buy a Kodak external charger (which can be used at home or in the car) primarily because of the relatively short battery life - but I probably would have bought it anyway even if the battery life were better (I bought an external charger for the Creative Vado as well). The carrying case I mentioned above is also extremely well-designed, a model for this kind of product; I recommend it highly.\\n\\nI haven\\'t yet tried the camcorder with the new firmware; I\\'ll be doing so very soon (obviously!). But this unit has been my favorite for outdoor shooting (and it would be, of course, for inclement weather shooting as well) so it will be interesting to see if there is any operational or performance difference between the two firmwares. (I also wonder if the new firmware makes a difference in the battery life; I\\'ll have to see and, if it does so, I\\'ll report that here.)\\n\\nAs it is you really can\\'t go wrong in buying one of these. Both my wife and I like this camcorder very much and we both think that you will too.\\n\\nThanks again for reading this.\\n\\n=====\\n\\nUpdate: April 26, 2011\\n\\nThe new firmware [1.12] (which has been included on every new sample for most of the past year) has completely fixed whatever the \\'freezing\\' problem was with the original firmware [1.01] (but which had happened only once to me).\\n\\nSince I have installed the new firmware, the camcorder has performed flawlessly with nary a hiccup.\\n\\nAnd the more I use it, the more I like it.\\n\\nAnd I REALLY like the new, lower, price at which it is now being sold! Frankly, in my opinion, you just can\\'t go wrong with this camcorder.\\n\\nThanks again for reading this. I hope it is of some help to you.'"
      ]
     },
     "execution_count": 65,
     "metadata": {},
     "output_type": "execute_result"
    }
   ],
   "source": [
    "text_stats_df.reviewText[44098]"
   ]
  },
  {
   "cell_type": "code",
   "execution_count": 66,
   "metadata": {},
   "outputs": [
    {
     "data": {
      "text/plain": [
       "'important update february 9 2012 it has just been announced that kodak is exiting the digital camera business please see comment 22 for further details  this kodak playsport hd waterproof pocket video camera black newest model model zx3 video camcorder was offered to me through the amazon vine program and even though i already had a creative labs vado hd pocket video camcorder 3rd generation120 minutes black  newest model which i like very much and received just last month also through amazon vine i decided to order this kodak one so i could have a camcorder to use and my wife could have one as well let me state up front that i really like this little camcorder it is small lightweight convenient to slip into a pocket and it is quick and easy to use i think its price is very good also certainly for what you get of course just about the same can be said for the creative vado that said and now that i have both of these camcorders i have to say that it is hard for me to decide which of them i prefer they both have small advantages and small disadvantages in their respective feature sets for example the creative vado has a builtin attached flexible usb connection which makes transferring videos to a computer really easy if you wish to transfer videos via usb with the kodak you must use a separate usb cable which by the way is supplied with the kodak unit as are all necessary cables such as video cables etc but as the kodak uses a separate sdhc card such as this kodak highspeed 16 gb 60x class 4 sdhc flash memory card ksd16ghsbna060 transferring video is a snap merely by removing the card from the camcorder and inserting it into the sd slot on your computer or an external card reader if your computer is an older one which has no sd slot please note that i have no experience with the video software included with either of these camcorders my wife and i use the ubuntu linux operating system on our computers thus the included software is inoperative in any case linux makes transferring files so easy and intuitive we would have no need of the software even if it did work on our computers unfortunately the kodak does not come with even a small sdhc card as standard equipment if you want one and you cant truly use the camcorder without one you must buy it separately this obviously adds to the cost however a major advantage of using a card is that you can choose the size you want and you can buy and carry several should you decide to do so if for example you are on a vacation and do not wish to frequently transfer the videos to your computer it is not necessary to do so with the kodak you can keep the video on your card and when it is filled you merely insert a fresh card the disadvantage of using cards is of course the cost involved with the creative which uses a builtin memory and has no means of expansion you must periodically transfer the video to your computer  but with it there are no additional costs involved another advantage of having more than one card is if a card somehow becomes corrupted or damaged you merely replace it with another spare card as far as picture quality goes and of course that is the most important thing both of these camcorders appear to be equal in the quality of the pictures they produce that is to say excellent my wife and i have been surprised and pleased with the images produced from the creative vado our first camcorder and now with this new kodak model the images as viewed on a computer screen are really fine i cant imagine anyone complaining about their overall quality the autoexposure works very well with both camcorders and the sound is about what you would expect better if you are closer to the subject the creative offers the option of using an external microphone purchased separately which would improve the sound quality the creative vado has three picture settings two of which produce widescreen 169 movies and the third one which produces standard 43 images all of the kodaks picture settings there are four produce widescreen movies the creative creates mp4 files and the kodak creates mov ones in both cases i convert them to avi files which i much prefer avi files are generally smaller  with no loss of quality that i can see the creative has a means of adjusting the picture brightness sensitivity the kodak does not but the resulting videos taken in varying degrees of brightness indoors outdoors appear equal the creative has one fixed lcdbrightness viewing setting the kodak has three normal bright and blackandwhite the bright lcd setting makes outdoor viewing of your subject easier but does not affect the resultant video both have a digital zoom of minimal usefulness and the kodak offers image stabilization for stills the creative does not the kodak can also be used under water based on my admittedly limited use thus far of both i should repeat that the video and still images are about equal in quality i did notice that during one shoot of our granddaughter inside a local supermarket and using the creative vado initially the image appeared way too red but within about 10 seconds or so it had settled down to look more naturally colorbalanced i have not yet had the opportunity to try a similar shoot using the kodak the kodak offers 1080p images as its top quality the creative offers 720p for home movies in my opinion the difference is minor but i have not looked at the images on a large screen as yet i have watched them only on my computer the kodak at first appears to be lowerpriced than the creative but as i indicated above the initial price may be deceiving the creative has 4gb of builtin memory and no means of expanding it but the kodak with a minimal amount of builtin memory 29 seconds of video at the smallest file setting must be used with an sdhc card this can be any size you wish up to a claimed 32 gb the larger the card the more it can hold but of course the more it will cost i bought the 16 gb kodak card i mention above and it holds about 4 hours if shooting at 720p or 3 hours if shooting at 1080p the creative holds about 2 hours at its 720p midsetting which is the one i use its maximum quality setting is 720p hd and at that setting it holds about 1 hour of video at this point i do not know how long the battery will last between charges on either of these camcorders ill report my experiences in an update but it seems to me just empirically that the creative one will last longer in any case i bought for both of them spare batteries spare chargers and brandspecific camera cases in addition i bought the necessary video cables for the creative and a remote control for the kodak some of my kodak options are still in transit  the remote is on back order  and have not yet arrived i have all of the creative options i ordered by the way both camcorders have removable and replaceable batteries  really a rarity and a welcome one these days both camcorders offer similar features and adjustments but those on the kodak appear to be more straightforward to use than those on the creative the kodak offers real buttons as opposed to the creatives touch areas and the presence of those buttons makes operation easier at least for me the creative does have a menu button as well as a delete button on the side and an onoff button on the top the kodak has all the buttons on the rear facing the operator except for the onoff button which is on the side the menu options on the kodak are more intuitive and easier to access and change than are those on the creative but the differences are not major i want to mention that the creative vado is black all around the controls are indicated with silveronblack markings  except of course for the white record button which is actually a real button but the kodak though black or purple or blue as you choose on the side facing the person being photographed is white on the side facing the user and at least for me this makes seeing and using the buttons somewhat easier though this too is not major the kodak comes with a wrist strap the creative does not  and it should a feature which i like very much though the camcorder with the strap attached fits only rather clumsily into its kodak 1047398 pocket video case the creative fits perfectly and easily into its creative labs vado vf0570aps pocket video camera mesh pouch silver and in it is smaller and thinner than the kodak in its case the creative case has a belt loop and the kodak case has a shoulder strap the kodak is noticeably heavier and slightly larger than the creative its instruction manual actually there are two  one printed which comes with the camcorder and an extended user manual which you download from kodaks web site is excellent much better organized more comprehensive and easier to use and understand than that of the creative when you get down to brass tacks with the creative vado the only options you really need are creative vado av cable  video  audio cable  composite video  audio  rca m  miniphone 35 mm 4pole m  46 ft if you want to play your videos through a standard television an hdmi cable is optional yet even creative itself does not appear to offer one specific to this unit  nor does amazon and the case with the kodak you should buy the case and of course you need an sdhc card overall then despite a lower basic price the kodak is probably somewhat more expensive overall but it does come with all necessary cables including an hdmi one if you are cashstrapped you need buy no options for the creative but you will need an sdhc card for the kodak if you were to buy a 2to8 gb card the kodak would then be less expensive overall than the creative the 16gb or 32 gb card would make the kodak the costlier of the two im still mulling over the problem of which to give to my wife and which to use myself at this point due to the ease of transferring files to a computer i may let my wife try the creative vado to see if she likes its operational characteristics she would need only to plug in the attached usb cord there is nothing extra she need use with the kodak you need to use either an external usb cord or you need to remove the sdhc card from the camcorder and insert it into the slot on your computer but then again with its buttons the kodak is much more straightforward to use when actually taking video or pictures decisions decisions i have to say that i like them both and i highly recommend them both if i were really pushed to make a choice between the two i think i would very slightly favor this kodak model partly because of its real easeofuse including much better instructions its removable storage and its option to increase the brightness of the lcd screen for better outdoor viewing in bright sunlight however neither the kodak nor the creative is easy to view in very bright sunlight but someone else might feel differently due to its heft it feels more substantial to me but thats a very subjective opinion i want to state definitely however that this kodak playsport hd waterproof pocket video camera black newest model its official model name is zx3 is a fine camcorder and i believe that everyone who buys one will be as pleased with it as i am thank you for reading this i hope it has been of some help to you  update april 23 2010 last night i finally got around to projecting images taken with this camcorder onto my 110 diagonal 169 screen using my ptae4000u lcd xga 169 1600 lumens hdmi svid 161lbs hdtv as expected see the relevant update to my review of the creative labs vado hd pocket video camcorder 3rd generation120 minutes black  newest model for more details the images produced by the kodak taken by the way at 720p not its best quality setting 1080p were spectacular they had excellent and accurate colors and sharpness the monophonic sound was fine the next time i take video with this camcorder im going to try the 1080p setting though i cant imagine that it will look much better than what i saw last night you cant go wrong with this kodak playsport hd waterproof pocket video camera black newest model and to tell the truth the same statement applies to the creative vado hd though they are different in their attributes their strengths all major and their weaknesses all minor i really like them both very much i thank you again for reading this  update july 14 2010 having owned this kodak playsport zx3 hd waterproof pocket video camera black newest model and the creative labs vado hd pocket video camcorder 3rd generation120 minutes black  newest model and using them sidebyside overall i now prefer the creative one really it is just as easy to use as the kodak its images at 720p appear to be as good as kodaks 1080p images at least on our 110 screen and the creatives battery lasts much much longer plus my wife prefers the creative camcorder over this kodak though she can give no reason for her preference as i have stated i like them both i myself have experienced the freezing anomaly mentioned by some other reviewers but only once that was early in the ownership period and it has not recurred so far even though the kodak can hold with a 16gb sd card much more video than the creative its battery runs out well before you can take even a fraction of what the card can hold i have a spare battery for the kodak as well as for the creative and i strongly recommend that you buy one or two spares also especially if you buy this kodak model with the kodak camcorder even with two fullycharged batteries the batteries both run out well before the card is filled this is somewhat disappointing even though recharging which can be done in your home or your car does not take too long not so with the creative camcorder the battery lasts for quite a long period of time though i havent actually measured it during our four and onehalf crosscountry trip during which we took several hours of video with the creative i replaced its first battery with my previously charged second battery only once while i did recharge the first battery it was not necessary to use it in my opinion this is excellent performance recharging the creatives battery takes longer than recharging the kodaks battery though the creatives like the kodaks can be charged from an ac outlet or from your cars dc cigarettelighter port neither camcorder is perfect but both are very very good and frankly i could be happy with either i think most people would feel the same but now having extensively used both camcorders overall i too slightly prefer the creative among other things the creative camcorder really excels in lowlight situations of course if underwater or foulweather video is of even slight importance to you this kodak is of its type the only game in town also dont forget one of its major advantages the ability of its lcd screen to be adjusted to enable easier viewing in bright sunlight and the kodaks ease of use with dedicated buttons is not to be ignored so do not misunderstand i think this kodak pocket camcorder is a fine product i merely want readers of my review really just my opinions to be aware of the batterylife problem i have experienced with it as always its your call thank you for reading this and i hope it has been of some help to you  update december 20 2010 last evening i finally upgraded the firmware in my zx3 i had been somewhat apprehensive about doing this plus inertia as always ruled  but i neednt have been the instructions on kodaks site were quite clear and easy to follow and the entire process which took but a few minutes went entirely smoothly so now my unit which had had version 101 now has version 112 i presume that among other things this will correct the freezing anomaly which in any case i had only experienced once obviously any zx3 purchased new at the present time will already incorporate the latest firmware this camcorder is one heck of a unit if its battery life on a charge were longer and if it had a faster lens it would be my overwhelming favorite of the three camcorders i own the batterylife problem can be alleviated to a certain extent by buying one or two spares i currently have one but i may buy another with an external charger charging can be effected via your computer your home ac power or even via a cigarettelighter adapter in your car separately from the camcorder so really you need never be without power obviously with that charger you can charge one battery while using the camcorder with another you need not miss any situations which youd like to capture the lens of course cannot be changed it is a relatively slow at f28 and this precludes the camcorder from taking really good video in lowlight situations something at which the creative vado hd 3rd generation with its fast f20 lens excels if kodak were to take this zx3 camcorder as is but replace the current lens with a faster one i think theyd really have something its overall operational design with real buttons for the controls and the accessories offered for it as i mentioned you need buy only a few as it comes with all necessary cables  but those desirable accessories are extremely welldesigned much better than those of its competition are in my opinion superlative as i mentioned above i did buy a kodak external charger which can be used at home or in the car primarily because of the relatively short battery life  but i probably would have bought it anyway even if the battery life were better i bought an external charger for the creative vado as well the carrying case i mentioned above is also extremely welldesigned a model for this kind of product i recommend it highly i havent yet tried the camcorder with the new firmware ill be doing so very soon obviously but this unit has been my favorite for outdoor shooting and it would be of course for inclement weather shooting as well so it will be interesting to see if there is any operational or performance difference between the two firmwares i also wonder if the new firmware makes a difference in the battery life ill have to see and if it does so ill report that here as it is you really cant go wrong in buying one of these both my wife and i like this camcorder very much and we both think that you will too thanks again for reading this  update april 26 2011 the new firmware 112 which has been included on every new sample for most of the past year has completely fixed whatever the freezing problem was with the original firmware 101 but which had happened only once to me since i have installed the new firmware the camcorder has performed flawlessly with nary a hiccup and the more i use it the more i like it and i really like the new lower price at which it is now being sold frankly in my opinion you just cant go wrong with this camcorder thanks again for reading this i hope it is of some help to you'"
      ]
     },
     "execution_count": 66,
     "metadata": {},
     "output_type": "execute_result"
    }
   ],
   "source": [
    "text_stats_df.cleaned_text[44098]"
   ]
  },
  {
   "cell_type": "code",
   "execution_count": 82,
   "metadata": {},
   "outputs": [
    {
     "data": {
      "text/plain": [
       "'important update february announce kodak exit digital camera business comment detail kodak playsport hd waterproof pocket video camera black new model model video camcorder offer amazon vine program creative lab vado hd pocket video camcorder minute black new model like receive month amazon vine decide order kodak camcorder use wife let state like little camcorder small lightweight convenient slip pocket quick easy use think price good certainly course say creative vado say camcorder hard decide prefer small advantage small disadvantage respective feature set example creative vado builtin attach flexible usb connection make transfer video computer easy wish transfer video usb kodak use separate usb cable way supply kodak unit necessary cable video cable etc kodak use separate sdhc card kodak highspeed gb class sdhc flash memory card transferring video snap merely remove card camcorder insert sd slot computer external card reader computer old sd slot note experience video software include camcorder wife use ubuntu linux operating system computer include software inoperative case linux make transferring file easy intuitive need software work computer unfortunately kodak come small sdhc card standard equipment want not truly use camcorder buy separately obviously add cost major advantage card choose size want buy carry decide example vacation wish frequently transfer video computer necessary kodak video card fill merely insert fresh card disadvantage card course cost involve creative use builtin memory means expansion periodically transfer video computer additional cost involve advantage have card card corrupt damage merely replace spare card far picture quality go course important thing camcorder appear equal quality picture produce excellent wife surprised please image produce creative vado camcorder new kodak model image view computer screen fine not imagine complain overall quality autoexposure work camcorder sound expect well close subject creative offer option external microphone purchase separately improve sound quality creative vado picture setting produce widescreen movie produce standard image kodak picture setting produce widescreen movie creative create file kodak create mov one case convert avi file prefer avi file generally small loss quality creative means adjust picture brightness sensitivity kodak result video take vary degree brightness indoor outdoors appear equal creative fix lcdbrightness view set kodak normal bright blackandwhite bright lcd setting make outdoor view subject easier affect resultant video digital zoom minimal usefulness kodak offer image stabilization still creative kodak water base admittedly limited use far repeat video image equal quality notice shoot granddaughter inside local supermarket creative vado initially image appear way red second settle look naturally colorbalance opportunity try similar shoot kodak kodak offer image quality creative offer home movie opinion difference minor look image large screen watch computer kodak appear lowerprice creative indicate initial price deceive creative gb builtin memory mean expand kodak minimal builtin memory second video small file setting sdhc card size wish claim gb large card hold course cost buy gb kodak card mention hold hour shoot hour shoot creative hold hour midsetting use maximum quality setting hd set hold hour video point know long battery charge camcorder ill report experience update empirically creative long case buy spare battery spare charger brandspecific camera case addition buy necessary video cable creative remote control kodak kodak option transit remote order arrive creative option order way camcorder removable replaceable battery rarity welcome day camcorder offer similar feature adjustment kodak appear straightforward use creative kodak offer real button oppose creative touch area presence button make operation easy creative menu button delete button onoff button kodak button rear face operator onoff button menu option kodak intuitive easy access change creative difference major want mention creative vado black control indicate silveronblack marking course white record button actually real button kodak black purple blue choose face person photograph white face user make see button somewhat easier major kodak come wrist strap creative feature like camcorder strap attach fit clumsily kodak pocket video case creative fit perfectly easily creative lab vado pocket video camera mesh pouch silver small thin kodak case creative case belt loop kodak case shoulder strap kodak noticeably heavy slightly large creative instruction manual actually print come camcorder extended user manual download kodaks web site excellent well organize comprehensive easy use understand creative brass tack creative vado option need creative vado av cable video audio cable composite video audio rca m miniphone mm m ft want play video standard television hdmi cable optional creative appear offer specific unit amazon case kodak buy case course need sdhc card overall despite low basic price kodak probably somewhat expensive overall come necessary cable include hdmi cashstrappe need buy option creative need sdhc card kodak buy gb card kodak expensive overall creative gb gb card kodak costlier m mull problem wife use point ease transfer file computer let wife try creative vado like operational characteristic need plug attach usb cord extra need use kodak need use external usb cord need remove sdhc card camcorder insert slot computer button kodak straightforward use actually take video picture decision decision like highly recommend push choice think slightly favor kodak model partly real easeofuse include well instruction removable storage option increase brightness lcd screen well outdoor view bright sunlight kodak creative easy view bright sunlight feel differently heft feel substantial s subjective opinion want state definitely kodak playsport hd waterproof pocket video camera black new model official model fine camcorder believe buy pleased thank read hope help update april night finally get project image take camcorder diagonal screen lcd xga lumen hdmi svid hdtv expect relevant update review creative lab vado hd pocket video camcorder minute black new model detail image produce kodak take way good quality set spectacular excellent accurate color sharpness monophonic sound fine time video camcorder m go try set not imagine look well see night not wrong kodak playsport hd waterproof pocket video camera black new model tell truth statement apply creative vado hd different attribute strength major weakness minor like thank read update july having own kodak playsport hd waterproof pocket video camera black new model creative lab vado hd pocket video camcorder minute black new model sidebyside overall prefer creative easy use kodak image appear good kodak image screen creative battery last long plus wife prefer creative camcorder kodak reason preference state like experience freezing anomaly mention reviewer early ownership period recur far kodak hold gb sd card video creative battery run fraction card hold spare battery kodak creative strongly recommend buy spare especially buy kodak model kodak camcorder fullycharge battery battery run card fill somewhat disappointing recharge home car long creative camcorder battery last long period time not actually measure onehalf crosscountry trip take hour video creative replace battery previously charge second battery recharge battery necessary use opinion excellent performance recharge creative battery take long recharge kodak battery creative like kodak charge ac outlet car dc cigarettelighter port camcorder perfect good frankly happy think people feel having extensively camcorder overall slightly prefer creative thing creative camcorder excel lowlight situation course underwater foulweather video slight importance kodak type game town not forget major advantage ability lcd screen adjust enable easy view bright sunlight kodak ease use dedicated button ignore misunderstand think kodak pocket camcorder fine product merely want reader review opinion aware batterylife problem experience thank read hope help update december evening finally upgrade firmware somewhat apprehensive plus inertia rule need nt instruction kodak site clear easy follow entire process take minute go entirely smoothly unit version version presume thing correct freezing anomaly case experience obviously purchase new present time incorporate late firmware camcorder heck unit battery life charge long fast lens overwhelming favorite camcorder batterylife problem alleviate certain extent buy spare currently buy external charger charge effect computer home ac power cigarettelighter adapter car separately camcorder need power obviously charger charge battery camcorder need miss situation d like capture lens course change relatively slow preclude camcorder take good video lowlight situation creative vado hd generation fast lens excel kodak camcorder replace current lens fast think d overall operational design real button control accessory offer mention need buy come necessary cable desirable accessory extremely welldesigne well competition opinion superlative mention buy kodak external charger home car primarily relatively short battery life probably buy battery life well buy external charger creative vado carrying case mention extremely welldesigne model kind product recommend highly not try camcorder new firmware ill soon obviously unit favorite outdoor shooting course inclement weather shooting interesting operational performance difference firmware wonder new firmware make difference battery life ill ill report not wrong buy wife like camcorder think thank read update april new firmware include new sample past year completely fix freezing problem original firmware happen instal new firmware camcorder perform flawlessly nary hiccup use like like new low price sell frankly opinion not wrong camcorder thank read hope help'"
      ]
     },
     "execution_count": 82,
     "metadata": {},
     "output_type": "execute_result"
    }
   ],
   "source": [
    "ctext"
   ]
  },
  {
   "cell_type": "code",
   "execution_count": 75,
   "metadata": {},
   "outputs": [
    {
     "data": {
      "text/plain": [
       "'important update february announce kodak exit digital camera business comment detail data link link link normal playsport hd waterproof pocket video camera black newest model dp ref playsport hd waterproof pocket video camera black newest video camcorder offer amazon vine program data link link link normal labs vado hd pocket video minutes black newest model dp ref labs vado hd pocket video camcorder minutes black newest like receive month amazon vine decide order kodak camcorder use wife let state like little camcorder small lightweight convenient slip pocket quick easy use think price good certainly course say creative vado say camcorder hard decide prefer small advantage small disadvantage respective feature set example creative vado build attach flexible usb connection make transfer video computer easy wish transfer video usb kodak use separate usb cable way supply kodak unit necessary cable video cable etc kodak use separate sdhc card datum link link link normal high sdhc flash memory card dp ref high speed gb class sdhc flash memory card transfer video snap merely remove card camcorder insert sd slot computer external card reader computer old sd slot note experience video software include camcorder wife use ubuntu linux operating system computer include software inoperative case linux make transferring file easy intuitive need software work computer unfortunately kodak come small sdhc card standard equipment want truly use camcorder buy separately obviously add cost major advantage card choose size want buy carry decide example vacation wish frequently transfer video computer necessary kodak video card fill merely insert fresh card disadvantage card course cost involve creative use build memory means expansion periodically transfer video computer additional cost involve advantage have card card corrupt damage merely replace spare card far picture quality go course important thing camcorder appear equal quality picture produce excellent wife surprised please image produce creative vado camcorder new kodak model image view computer screen fine imagine complain overall quality auto exposure work camcorder sound expect well close subject creative offer option external microphone purchase separately improve sound quality creative vado picture setting produce wide screen movie produce standard image kodak picture setting produce wide screen movie creative create file kodak create mov one case convert avi file prefer avi file generally small loss quality creative means adjust picture brightness sensitivity kodak result video take vary degree brightness indoor outdoors appear equal creative fix lcd brightness view setting kodak normal bright black white bright lcd setting make outdoor view subject easier affect resultant video digital zoom minimal usefulness kodak offer image stabilization still creative kodak water base admittedly limited use far repeat video image equal quality notice shoot granddaughter inside local supermarket creative vado initially image appear way red second settle look naturally color balanced opportunity try similar shoot kodak kodak offer image quality creative offer home movie opinion difference minor look image large screen watch computer kodak appear lower price creative indicate initial price deceive creative gb build memory mean expand kodak minimal build memory second video small file setting sdhc card size wish claim gb large card hold course cost buy gb kodak card mention hold hour shoot hour shoot creative hold hour mid setting use maximum quality setting hd setting hold hour video point know long battery charge camcorder report experience update empirically creative long case buy spare battery spare charger brand specific camera case addition buy necessary video cable creative remote control kodak kodak option transit remote order arrive creative option order way camcorder removable replaceable battery rarity welcome day camcorder offer similar feature adjustment kodak appear straightforward use creative kodak offer real button oppose creative touch area presence button make operation easy creative menu button delete button button kodak button rear face operator button menu option kodak intuitive easy access change creative difference major want mention creative vado black control indicate silver black marking course white record button actually real button kodak black purple blue choose face person photograph white face user make see button somewhat easier major kodak come wrist strap creative feature like camcorder strap attach fit clumsily data link link link normal pocket video case dp ref pocket video creative fit perfectly easily data link link link normal labs vado pocket video camera mesh pouch silver dp ref labs vado pocket video camera mesh pouch small thin kodak case creative case belt loop kodak case shoulder strap kodak noticeably heavy slightly large creative instruction manual actually print come camcorder extended user manual download kodak web site excellent well organize comprehensive easy use understand creative brass tack creative vado option need data link link link normal vado v cable video audio cable composite video audio rca m mini pole ft dp ref vado v cable video audio cable composite video audio rca m mini phone mm pole m want play video standard television hdmi cable optional creative appear offer specific unit amazon case kodak buy case course need sdhc card overall despite low basic price kodak probably somewhat expensive overall come necessary cable include hdmi cash strap need buy option creative need sdhc card kodak buy gb card kodak expensive overall creative gb gb card kodak costlier mull problem wife use point ease transfer file computer let wife try creative vado like operational characteristic need plug attach usb cord extra need use kodak need use external usb cord need remove sdhc card camcorder insert slot computer button kodak straightforward use actually take video picture decisions decision like highly recommend push choice think slightly favor kodak model partly real ease use include well instruction removable storage option increase brightness lcd screen well outdoor view bright sunlight kodak creative easy view bright sunlight feel differently heft feel substantial subjective opinion want state definitely datum link link link normal playsport hd waterproof pocket video camera black newest model dp ref playsport hd waterproof pocket video camera black newest official model fine camcorder believe buy pleased thank read hope help update april night finally get project image take camcorder diagonal screen data link link link normal lcd lumens hdmi hdtv dp ref lcd xga lumens hdmi svid expect relevant update review data link link link normal labs vado hd pocket video minutes black newest model dp ref labs vado hd pocket video camcorder minutes black newest detail image produce kodak take way good quality set spectacular excellent accurate color sharpness monophonic sound fine time video camcorder go try set imagine look well see night wrong datum link link link normal playsport hd waterproof pocket video camera black newest model dp ref playsport hd waterproof pocket video camera black newest tell truth statement apply creative vado hd different attribute strength major weakness minor like thank read update july having own kodak playsport hd waterproof pocket video camera black newest model creative labs vado hd pocket video camcorder minutes black newest model overall prefer creative easy use kodak image appear good kodak image screen creative battery last long plus wife prefer creative camcorder kodak reason preference state like experience freezing anomaly mention reviewer early ownership period recur far kodak hold gb sd card video creative battery run fraction card hold spare battery kodak creative strongly recommend buy spare especially buy kodak model kodak camcorder fully charge battery battery run card fill somewhat disappointing recharge home car long creative camcorder battery last long period time actually measure half cross country trip take hour video creative replace battery previously charge second battery recharge battery necessary use opinion excellent performance recharge creative battery take long recharge kodak battery creative like kodak charge ac outlet car dc cigarette light port camcorder perfect good frankly happy think people feel having extensively camcorder overall slightly prefer creative thing creative camcorder excel low light situation course underwater foul weather video slight importance kodak type game town forget major advantage ability lcd screen adjust enable easy view bright sunlight kodak ease use dedicated button ignore misunderstand think kodak pocket camcorder fine product merely want reader review opinion aware battery life problem experience thank read hope help update december evening finally upgrade firmware somewhat apprehensive plus inertia rule need instruction kodak site clear easy follow entire process take minute go entirely smoothly unit version version presume thing correct freezing anomaly case experience obviously purchase new present time incorporate late firmware camcorder heck unit battery life charge long fast lens overwhelming favorite camcorder battery life problem alleviate certain extent buy spare currently buy external charger charge effect computer home ac power cigarette light adapter car separately camcorder need power obviously charger charge battery camcorder need miss situation like capture lens course change relatively slow preclude camcorder take good video low light situation creative vado hd generation fast len excel kodak camcorder replace current lens fast think overall operational design real button control accessory offer mention need buy come necessary cable desirable accessory extremely design well competition opinion superlative mention buy kodak external charger home car primarily relatively short battery life probably buy battery life well buy external charger creative vado carrying case mention extremely design model kind product recommend highly try camcorder new firmware soon obviously unit favorite outdoor shooting course inclement weather shooting interesting operational performance difference firmware wonder new firmware make difference battery life report wrong buy wife like camcorder think thank read update april new firmware include new sample past year completely fix freezing problem original firmware happen instal new firmware camcorder perform flawlessly nary hiccup use like like new low price sell frankly opinion wrong camcorder thank read hope help'"
      ]
     },
     "execution_count": 75,
     "metadata": {},
     "output_type": "execute_result"
    }
   ],
   "source": [
    "cleaned_text"
   ]
  },
  {
   "cell_type": "code",
   "execution_count": 76,
   "metadata": {},
   "outputs": [
    {
     "data": {
      "text/plain": [
       "'  important update february 9 2012 announce kodak exit digital camera business comment 22 detail thisnbspkodak playsport hd waterproof pocket video camera black new modelnbspmodel zx3 video camcorder offer amazon vine program anbspcreative lab vado hd pocket video camcorder 3rd generation120 minute black new model like receive month amazon vine decide order kodak camcorder use wife let state like little camcorder small lightweight convenient slip pocket quick easy use think price good certainly course say creative vado say camcorder hard decide prefer small advantage small disadvantage respective feature set example creative vado builtin attach flexible usb connection make transfer video computer easy wish transfer video usb kodak use separate usb cable way supply kodak unit necessary cable video cable etc kodak use separate sdhc card thisnbspkodak highspeed 16 gb 60x class 4 sdhc flash memory card ksd16ghsbna060 transferring video snap merely remove card camcorder insert sd slot computer external card reader computer old sd slot note experience video software include camcorder wife use ubuntu linux operating system computer include software inoperative case linux make transferring file easy intuitive need software work computer unfortunately kodak come small sdhc card standard equipment want not truly use camcorder buy separately obviously add cost major advantage card choose size want buy carry decide example vacation wish frequently transfer video computer necessary kodak video card fill merely insert fresh card disadvantage card course cost involve creative use builtin memory means expansion periodically transfer video computer additional cost involve advantage card card corrupt damage merely replace spare card far picture quality go course important thing camcorder appear equal quality picture produce excellent wife surprised please image produce creative vado camcorder new kodak model image view computer screen fine not imagine complain overall quality autoexposure work camcorder sound expect well close subject creative offer option external microphone purchase separately improve sound quality creative vado picture setting produce widescreen 169 movie produce standard 43 image kodak picture setting produce widescreen movie creative create mp4 file kodak create mov one case convert avi file prefer avi file generally small loss quality creative means adjust picture brightness sensitivity kodak result video take vary degree brightness indoor outdoors appear equal creative fix lcdbrightness view set kodak normal bright blackandwhite bright lcd setting make outdoor view subject easier affect resultant video digital zoom minimal usefulness kodak offer image stabilization still creative kodak water base admittedly limited use far repeat video image equal quality notice shoot granddaughter inside local supermarket creative vado initially image appear way red 10 second settle look naturally colorbalance opportunity try similar shoot kodak kodak offer 1080p image quality creative offer 720p home movie opinion difference minor look image large screen watch computer kodak appear lowerprice creative indicate initial price deceive creative 4 gb builtin memory mean expand kodak minimal builtin memory 29 second video small file setting sdhc card size wish claim 32 gb large card hold course cost buy 16 gb kodak card mention hold 4 hour shoot 720p 3 hour shoot 1080p creative hold 2 hour 720p midsetting use maximum quality setting 720p hd set hold 1 hour video point know long battery charge camcorder ill report experience update empirically creative long case buy spare battery spare charger brandspecific camera case addition buy necessary video cable creative remote control kodak kodak option transit remote order arrive creative option order way camcorder removable replaceable battery rarity welcome day camcorder offer similar feature adjustment kodak appear straightforward use creative kodak offer real button oppose creative touch area presence button make operation easy creative menu button delete button onoff button kodak button rear face operator onoff button menu option kodak intuitive easy access change creative difference major want mention creative vado black control indicate silveronblack marking course white record button actually real button kodak black purple blue choose face person photograph white face user make see button somewhat easier major kodak come wrist strap creative feature like camcorder strap attach fit clumsily itsnbspkodak 1047398 pocket video case creative fit perfectly easily itsnbspcreative lab vado vf0570aps pocket video camera mesh pouch silvernbspand small thin kodak case creative case belt loop kodak case shoulder strap kodak noticeably heavy slightly large creative instruction manual actually print come camcorder extended user manual download kodaks web site excellent well organize comprehensive easy use understand creative brass tack creative vado option need arenbspcreative vado av cable video audio cable composite video audio rca miniphone 35 mm 4pole 46 ftnbspif want play video standard television hdmi cable optional creative appear offer specific unit amazon case kodak buy case course need sdhc card overall despite low basic price kodak probably somewhat expensive overall come necessary cable include hdmi cashstrappe need buy option creative need sdhc card kodak buy 2to8 gb card kodak expensive overall creative 16 gb 32 gb card kodak costlier mull problem wife use point ease transfer file computer let wife try creative vado like operational characteristic need plug attach usb cord extra need use kodak need use external usb cord need remove sdhc card camcorder insert slot computer button kodak straightforward use actually take video picture decision decision like highly recommend push choice think slightly favor kodak model partly real easeofuse include well instruction removable storage option increase brightness lcd screen well outdoor view bright sunlight kodak creative easy view bright sunlight feel differently heft feel substantial subjective opinion want state definitely thisnbspkodak playsport hd waterproof pocket video camera black new modelnbspit official model zx3 fine camcorder believe buy pleased thank read hope help update april 23 2010 night finally get project image take camcorder 110 diagonal 169 screen mynbspptae4000u lcd xga 169 1600 lumen hdmi svid 161lbs hdtv expect relevant update review thenbspcreative lab vado hd pocket video camcorder 3rd generation120 minute black new modelnbspfor detail image produce kodak take way 720p good quality set 1080p spectacular excellent accurate color sharpness monophonic sound fine time video camcorder go try 1080p set not imagine look well see night not wrong thisnbspkodak playsport hd waterproof pocket video camera black new modelnbspand tell truth statement apply creative vado hd different attribute strength major weakness minor like thank read update july 14 2010 own kodak playsport zx3 hd waterproof pocket video camera black new model creative lab vado hd pocket video camcorder 3rd generation120 minute black new model sidebyside overall prefer creative easy use kodak image 720p appear good kodak 1080p image 110 screen creative battery last long plus wife prefer creative camcorder kodak reason preference state like experience freezing anomaly mention reviewer early ownership period recur far kodak hold 16 gb sd card video creative battery run fraction card hold spare battery kodak creative strongly recommend buy spare especially buy kodak model kodak camcorder fullycharge battery battery run card fill somewhat disappointing recharge home car long creative camcorder battery last long period time not actually measure onehalf crosscountry trip take hour video creative replace battery previously charge second battery recharge battery necessary use opinion excellent performance recharge creative battery take long recharge kodak battery creative like kodak charge ac outlet car dc cigarettelighter port camcorder perfect good frankly happy think people feel extensively camcorder overall slightly prefer creative thing creative camcorder excel lowlight situation course underwater foulweather video slight importance kodak type game town not forget major advantage ability lcd screen adjust enable easy view bright sunlight kodak ease use dedicated button ignore misunderstand think kodak pocket camcorder fine product merely want reader review opinion aware batterylife problem experience thank read hope help update december 20 2010 evening finally upgrade firmware zx3 somewhat apprehensive plus inertia rule need nt instruction kodak site clear easy follow entire process take minute go entirely smoothly unit version 101 version 112 presume thing correct freezing anomaly case experience obviously zx3 purchase new present time incorporate late firmware camcorder heck unit battery life charge long fast lens overwhelming favorite camcorder batterylife problem alleviate certain extent buy spare currently buy external charger charge effect computer home ac power cigarettelighter adapter car separately camcorder need power obviously charger charge battery camcorder need miss situation like capture lens course change relatively slow f28 preclude camcorder take good video lowlight situation creative vado hd 3rd generation fast f20 lens excel kodak zx3 camcorder replace current lens fast think overall operational design real button control accessory offer mention need buy come necessary cable desirable accessory extremely welldesigne well competition opinion superlative mention buy kodak external charger home car primarily relatively short battery life probably buy battery life well buy external charger creative vado carrying case mention extremely welldesigne model kind product recommend highly not try camcorder new firmware ill soon obviously unit favorite outdoor shooting course inclement weather shooting interesting operational performance difference firmware wonder new firmware make difference battery life ill ill report not wrong buy wife like camcorder think thank read update april 26 2011 new firmware 112 include new sample past year completely fix freezing problem original firmware 101 happen instal new firmware camcorder perform flawlessly nary hiccup use like like new low price sell frankly opinion not wrong camcorder thank read hope help'"
      ]
     },
     "execution_count": 76,
     "metadata": {},
     "output_type": "execute_result"
    }
   ],
   "source": [
    "cleaner_text"
   ]
  },
  {
   "cell_type": "code",
   "execution_count": 71,
   "metadata": {},
   "outputs": [],
   "source": [
    "cleaner_text = clean_text(text_stats_df.reviewText[44098])"
   ]
  },
  {
   "cell_type": "code",
   "execution_count": null,
   "metadata": {},
   "outputs": [],
   "source": []
  },
  {
   "cell_type": "code",
   "execution_count": 70,
   "metadata": {},
   "outputs": [],
   "source": [
    "stop_words = set(stopwords.words('english'))"
   ]
  },
  {
   "cell_type": "code",
   "execution_count": 109,
   "metadata": {},
   "outputs": [
    {
     "data": {
      "text/html": [
       "<div>\n",
       "<style scoped>\n",
       "    .dataframe tbody tr th:only-of-type {\n",
       "        vertical-align: middle;\n",
       "    }\n",
       "\n",
       "    .dataframe tbody tr th {\n",
       "        vertical-align: top;\n",
       "    }\n",
       "\n",
       "    .dataframe thead th {\n",
       "        text-align: right;\n",
       "    }\n",
       "</style>\n",
       "<table border=\"1\" class=\"dataframe\">\n",
       "  <thead>\n",
       "    <tr style=\"text-align: right;\">\n",
       "      <th></th>\n",
       "      <th>reviewText</th>\n",
       "      <th>sentiment</th>\n",
       "      <th>word_count</th>\n",
       "      <th>character_count</th>\n",
       "      <th>sentence_count</th>\n",
       "      <th>average_word_length</th>\n",
       "    </tr>\n",
       "  </thead>\n",
       "  <tbody>\n",
       "    <tr>\n",
       "      <th>0</th>\n",
       "      <td>i bought this lens for my rebel 2000 camera an...</td>\n",
       "      <td>1</td>\n",
       "      <td>54</td>\n",
       "      <td>207</td>\n",
       "      <td>3</td>\n",
       "      <td>3.833333</td>\n",
       "    </tr>\n",
       "    <tr>\n",
       "      <th>1</th>\n",
       "      <td>canon ef lenses have a built in af motor..comp...</td>\n",
       "      <td>1</td>\n",
       "      <td>211</td>\n",
       "      <td>950</td>\n",
       "      <td>1</td>\n",
       "      <td>4.502370</td>\n",
       "    </tr>\n",
       "    <tr>\n",
       "      <th>2</th>\n",
       "      <td>i bought this lens about six months after repl...</td>\n",
       "      <td>1</td>\n",
       "      <td>191</td>\n",
       "      <td>725</td>\n",
       "      <td>9</td>\n",
       "      <td>3.806283</td>\n",
       "    </tr>\n",
       "    <tr>\n",
       "      <th>3</th>\n",
       "      <td>bought this as a replacement and it was worth ...</td>\n",
       "      <td>1</td>\n",
       "      <td>30</td>\n",
       "      <td>112</td>\n",
       "      <td>3</td>\n",
       "      <td>3.733333</td>\n",
       "    </tr>\n",
       "    <tr>\n",
       "      <th>4</th>\n",
       "      <td>good</td>\n",
       "      <td>1</td>\n",
       "      <td>1</td>\n",
       "      <td>4</td>\n",
       "      <td>1</td>\n",
       "      <td>4.000000</td>\n",
       "    </tr>\n",
       "    <tr>\n",
       "      <th>...</th>\n",
       "      <td>...</td>\n",
       "      <td>...</td>\n",
       "      <td>...</td>\n",
       "      <td>...</td>\n",
       "      <td>...</td>\n",
       "      <td>...</td>\n",
       "    </tr>\n",
       "    <tr>\n",
       "      <th>129587</th>\n",
       "      <td>i have two original 720 yi home camera that be...</td>\n",
       "      <td>0</td>\n",
       "      <td>26</td>\n",
       "      <td>115</td>\n",
       "      <td>2</td>\n",
       "      <td>4.423077</td>\n",
       "    </tr>\n",
       "    <tr>\n",
       "      <th>129588</th>\n",
       "      <td>thanks!</td>\n",
       "      <td>1</td>\n",
       "      <td>2</td>\n",
       "      <td>7</td>\n",
       "      <td>1</td>\n",
       "      <td>3.500000</td>\n",
       "    </tr>\n",
       "    <tr>\n",
       "      <th>129589</th>\n",
       "      <td>first of all, this is similar to, but not a re...</td>\n",
       "      <td>1</td>\n",
       "      <td>256</td>\n",
       "      <td>852</td>\n",
       "      <td>12</td>\n",
       "      <td>3.328125</td>\n",
       "    </tr>\n",
       "    <tr>\n",
       "      <th>129590</th>\n",
       "      <td>after some recent thefts in the neighborhood, ...</td>\n",
       "      <td>1</td>\n",
       "      <td>133</td>\n",
       "      <td>544</td>\n",
       "      <td>5</td>\n",
       "      <td>4.090226</td>\n",
       "    </tr>\n",
       "    <tr>\n",
       "      <th>129591</th>\n",
       "      <td>this entire setup is a little 'quirky.'  i bou...</td>\n",
       "      <td>0</td>\n",
       "      <td>77</td>\n",
       "      <td>287</td>\n",
       "      <td>6</td>\n",
       "      <td>3.727273</td>\n",
       "    </tr>\n",
       "  </tbody>\n",
       "</table>\n",
       "<p>128195 rows × 6 columns</p>\n",
       "</div>"
      ],
      "text/plain": [
       "                                               reviewText  sentiment  \\\n",
       "0       i bought this lens for my rebel 2000 camera an...          1   \n",
       "1       canon ef lenses have a built in af motor..comp...          1   \n",
       "2       i bought this lens about six months after repl...          1   \n",
       "3       bought this as a replacement and it was worth ...          1   \n",
       "4                                                    good          1   \n",
       "...                                                   ...        ...   \n",
       "129587  i have two original 720 yi home camera that be...          0   \n",
       "129588                                            thanks!          1   \n",
       "129589  first of all, this is similar to, but not a re...          1   \n",
       "129590  after some recent thefts in the neighborhood, ...          1   \n",
       "129591  this entire setup is a little 'quirky.'  i bou...          0   \n",
       "\n",
       "        word_count  character_count  sentence_count  average_word_length  \n",
       "0               54              207               3             3.833333  \n",
       "1              211              950               1             4.502370  \n",
       "2              191              725               9             3.806283  \n",
       "3               30              112               3             3.733333  \n",
       "4                1                4               1             4.000000  \n",
       "...            ...              ...             ...                  ...  \n",
       "129587          26              115               2             4.423077  \n",
       "129588           2                7               1             3.500000  \n",
       "129589         256              852              12             3.328125  \n",
       "129590         133              544               5             4.090226  \n",
       "129591          77              287               6             3.727273  \n",
       "\n",
       "[128195 rows x 6 columns]"
      ]
     },
     "execution_count": 109,
     "metadata": {},
     "output_type": "execute_result"
    }
   ],
   "source": [
    "text_stats_df[text_stats_df.word_count <= 500]"
   ]
  },
  {
   "cell_type": "code",
   "execution_count": 110,
   "metadata": {},
   "outputs": [],
   "source": [
    "filtered_df = text_stats_df[text_stats_df.word_count <= 500]"
   ]
  },
  {
   "cell_type": "code",
   "execution_count": 111,
   "metadata": {},
   "outputs": [
    {
     "data": {
      "text/html": [
       "<div>\n",
       "<style scoped>\n",
       "    .dataframe tbody tr th:only-of-type {\n",
       "        vertical-align: middle;\n",
       "    }\n",
       "\n",
       "    .dataframe tbody tr th {\n",
       "        vertical-align: top;\n",
       "    }\n",
       "\n",
       "    .dataframe thead th {\n",
       "        text-align: right;\n",
       "    }\n",
       "</style>\n",
       "<table border=\"1\" class=\"dataframe\">\n",
       "  <thead>\n",
       "    <tr style=\"text-align: right;\">\n",
       "      <th></th>\n",
       "      <th>sentiment</th>\n",
       "      <th>word_count</th>\n",
       "      <th>character_count</th>\n",
       "      <th>sentence_count</th>\n",
       "      <th>average_word_length</th>\n",
       "    </tr>\n",
       "  </thead>\n",
       "  <tbody>\n",
       "    <tr>\n",
       "      <th>count</th>\n",
       "      <td>128195.000000</td>\n",
       "      <td>128195.000000</td>\n",
       "      <td>128195.000000</td>\n",
       "      <td>128195.000000</td>\n",
       "      <td>128195.000000</td>\n",
       "    </tr>\n",
       "    <tr>\n",
       "      <th>mean</th>\n",
       "      <td>0.846648</td>\n",
       "      <td>57.769952</td>\n",
       "      <td>221.661695</td>\n",
       "      <td>3.742283</td>\n",
       "      <td>3.940959</td>\n",
       "    </tr>\n",
       "    <tr>\n",
       "      <th>std</th>\n",
       "      <td>0.360328</td>\n",
       "      <td>73.602368</td>\n",
       "      <td>284.915250</td>\n",
       "      <td>3.705702</td>\n",
       "      <td>0.760817</td>\n",
       "    </tr>\n",
       "    <tr>\n",
       "      <th>min</th>\n",
       "      <td>0.000000</td>\n",
       "      <td>1.000000</td>\n",
       "      <td>1.000000</td>\n",
       "      <td>1.000000</td>\n",
       "      <td>1.000000</td>\n",
       "    </tr>\n",
       "    <tr>\n",
       "      <th>25%</th>\n",
       "      <td>1.000000</td>\n",
       "      <td>12.000000</td>\n",
       "      <td>46.000000</td>\n",
       "      <td>1.000000</td>\n",
       "      <td>3.582609</td>\n",
       "    </tr>\n",
       "    <tr>\n",
       "      <th>50%</th>\n",
       "      <td>1.000000</td>\n",
       "      <td>32.000000</td>\n",
       "      <td>121.000000</td>\n",
       "      <td>3.000000</td>\n",
       "      <td>3.837838</td>\n",
       "    </tr>\n",
       "    <tr>\n",
       "      <th>75%</th>\n",
       "      <td>1.000000</td>\n",
       "      <td>71.000000</td>\n",
       "      <td>271.000000</td>\n",
       "      <td>5.000000</td>\n",
       "      <td>4.129032</td>\n",
       "    </tr>\n",
       "    <tr>\n",
       "      <th>max</th>\n",
       "      <td>1.000000</td>\n",
       "      <td>500.000000</td>\n",
       "      <td>2586.000000</td>\n",
       "      <td>39.000000</td>\n",
       "      <td>26.200000</td>\n",
       "    </tr>\n",
       "  </tbody>\n",
       "</table>\n",
       "</div>"
      ],
      "text/plain": [
       "           sentiment     word_count  character_count  sentence_count  \\\n",
       "count  128195.000000  128195.000000    128195.000000   128195.000000   \n",
       "mean        0.846648      57.769952       221.661695        3.742283   \n",
       "std         0.360328      73.602368       284.915250        3.705702   \n",
       "min         0.000000       1.000000         1.000000        1.000000   \n",
       "25%         1.000000      12.000000        46.000000        1.000000   \n",
       "50%         1.000000      32.000000       121.000000        3.000000   \n",
       "75%         1.000000      71.000000       271.000000        5.000000   \n",
       "max         1.000000     500.000000      2586.000000       39.000000   \n",
       "\n",
       "       average_word_length  \n",
       "count        128195.000000  \n",
       "mean              3.940959  \n",
       "std               0.760817  \n",
       "min               1.000000  \n",
       "25%               3.582609  \n",
       "50%               3.837838  \n",
       "75%               4.129032  \n",
       "max              26.200000  "
      ]
     },
     "execution_count": 111,
     "metadata": {},
     "output_type": "execute_result"
    }
   ],
   "source": [
    "filtered_df.describe()"
   ]
  },
  {
   "cell_type": "code",
   "execution_count": 112,
   "metadata": {},
   "outputs": [
    {
     "data": {
      "text/html": [
       "<div>\n",
       "<style scoped>\n",
       "    .dataframe tbody tr th:only-of-type {\n",
       "        vertical-align: middle;\n",
       "    }\n",
       "\n",
       "    .dataframe tbody tr th {\n",
       "        vertical-align: top;\n",
       "    }\n",
       "\n",
       "    .dataframe thead th {\n",
       "        text-align: right;\n",
       "    }\n",
       "</style>\n",
       "<table border=\"1\" class=\"dataframe\">\n",
       "  <thead>\n",
       "    <tr style=\"text-align: right;\">\n",
       "      <th></th>\n",
       "      <th>reviewText</th>\n",
       "      <th>sentiment</th>\n",
       "      <th>word_count</th>\n",
       "      <th>character_count</th>\n",
       "      <th>sentence_count</th>\n",
       "      <th>average_word_length</th>\n",
       "    </tr>\n",
       "  </thead>\n",
       "  <tbody>\n",
       "    <tr>\n",
       "      <th>100276</th>\n",
       "      <td>i bought the four camera 2t hd wifi  system.  ...</td>\n",
       "      <td>1</td>\n",
       "      <td>500</td>\n",
       "      <td>1881</td>\n",
       "      <td>38</td>\n",
       "      <td>3.766000</td>\n",
       "    </tr>\n",
       "    <tr>\n",
       "      <th>107945</th>\n",
       "      <td>i have had my arlo 4-camera system for over a ...</td>\n",
       "      <td>1</td>\n",
       "      <td>500</td>\n",
       "      <td>1908</td>\n",
       "      <td>25</td>\n",
       "      <td>3.820000</td>\n",
       "    </tr>\n",
       "    <tr>\n",
       "      <th>24206</th>\n",
       "      <td>i purchased this camera for my wife for christ...</td>\n",
       "      <td>1</td>\n",
       "      <td>500</td>\n",
       "      <td>2061</td>\n",
       "      <td>24</td>\n",
       "      <td>4.122000</td>\n",
       "    </tr>\n",
       "    <tr>\n",
       "      <th>36528</th>\n",
       "      <td>first, let us be clear about what a holster is...</td>\n",
       "      <td>1</td>\n",
       "      <td>499</td>\n",
       "      <td>1959</td>\n",
       "      <td>21</td>\n",
       "      <td>3.925852</td>\n",
       "    </tr>\n",
       "    <tr>\n",
       "      <th>36006</th>\n",
       "      <td>i purchased this for use with my nikon d5000. ...</td>\n",
       "      <td>1</td>\n",
       "      <td>499</td>\n",
       "      <td>1890</td>\n",
       "      <td>19</td>\n",
       "      <td>3.787575</td>\n",
       "    </tr>\n",
       "    <tr>\n",
       "      <th>43991</th>\n",
       "      <td>i got this camera because it appeared rugged a...</td>\n",
       "      <td>1</td>\n",
       "      <td>499</td>\n",
       "      <td>1946</td>\n",
       "      <td>30</td>\n",
       "      <td>3.899800</td>\n",
       "    </tr>\n",
       "    <tr>\n",
       "      <th>128707</th>\n",
       "      <td>these are handy little cameras. i like to leav...</td>\n",
       "      <td>1</td>\n",
       "      <td>499</td>\n",
       "      <td>1879</td>\n",
       "      <td>28</td>\n",
       "      <td>3.769539</td>\n",
       "    </tr>\n",
       "    <tr>\n",
       "      <th>13333</th>\n",
       "      <td>i was hesitant to purchase these after reading...</td>\n",
       "      <td>1</td>\n",
       "      <td>499</td>\n",
       "      <td>2100</td>\n",
       "      <td>25</td>\n",
       "      <td>4.212425</td>\n",
       "    </tr>\n",
       "    <tr>\n",
       "      <th>103807</th>\n",
       "      <td>bought this camera because it was so cheap. i ...</td>\n",
       "      <td>1</td>\n",
       "      <td>499</td>\n",
       "      <td>1822</td>\n",
       "      <td>26</td>\n",
       "      <td>3.651303</td>\n",
       "    </tr>\n",
       "    <tr>\n",
       "      <th>15337</th>\n",
       "      <td>i am no a professional photographer, but i do ...</td>\n",
       "      <td>0</td>\n",
       "      <td>499</td>\n",
       "      <td>1918</td>\n",
       "      <td>17</td>\n",
       "      <td>3.859719</td>\n",
       "    </tr>\n",
       "    <tr>\n",
       "      <th>127732</th>\n",
       "      <td>i use this camera plus two fixed position zmod...</td>\n",
       "      <td>1</td>\n",
       "      <td>499</td>\n",
       "      <td>1912</td>\n",
       "      <td>22</td>\n",
       "      <td>3.831663</td>\n",
       "    </tr>\n",
       "    <tr>\n",
       "      <th>45935</th>\n",
       "      <td>i have now used this several times mostly for ...</td>\n",
       "      <td>1</td>\n",
       "      <td>498</td>\n",
       "      <td>1980</td>\n",
       "      <td>27</td>\n",
       "      <td>3.975904</td>\n",
       "    </tr>\n",
       "    <tr>\n",
       "      <th>38621</th>\n",
       "      <td>portable battery charger quickly charges &amp; tur...</td>\n",
       "      <td>1</td>\n",
       "      <td>498</td>\n",
       "      <td>2285</td>\n",
       "      <td>23</td>\n",
       "      <td>4.600402</td>\n",
       "    </tr>\n",
       "    <tr>\n",
       "      <th>45856</th>\n",
       "      <td>i read about this product a number of months a...</td>\n",
       "      <td>1</td>\n",
       "      <td>498</td>\n",
       "      <td>1865</td>\n",
       "      <td>26</td>\n",
       "      <td>3.751004</td>\n",
       "    </tr>\n",
       "    <tr>\n",
       "      <th>74515</th>\n",
       "      <td>a little background:  i have owned several fil...</td>\n",
       "      <td>1</td>\n",
       "      <td>498</td>\n",
       "      <td>1922</td>\n",
       "      <td>18</td>\n",
       "      <td>3.859438</td>\n",
       "    </tr>\n",
       "    <tr>\n",
       "      <th>6208</th>\n",
       "      <td>i will start by saying that i have owned all t...</td>\n",
       "      <td>1</td>\n",
       "      <td>498</td>\n",
       "      <td>1740</td>\n",
       "      <td>13</td>\n",
       "      <td>3.510040</td>\n",
       "    </tr>\n",
       "    <tr>\n",
       "      <th>126631</th>\n",
       "      <td>i have been using yi home cameras for almost a...</td>\n",
       "      <td>1</td>\n",
       "      <td>497</td>\n",
       "      <td>1940</td>\n",
       "      <td>23</td>\n",
       "      <td>3.907445</td>\n",
       "    </tr>\n",
       "    <tr>\n",
       "      <th>45973</th>\n",
       "      <td>this is a fantastic value for a sturdy, albeit...</td>\n",
       "      <td>1</td>\n",
       "      <td>497</td>\n",
       "      <td>1969</td>\n",
       "      <td>24</td>\n",
       "      <td>3.961771</td>\n",
       "    </tr>\n",
       "    <tr>\n",
       "      <th>114115</th>\n",
       "      <td>i got the dropcam to add a bit of security and...</td>\n",
       "      <td>1</td>\n",
       "      <td>497</td>\n",
       "      <td>1991</td>\n",
       "      <td>29</td>\n",
       "      <td>4.006036</td>\n",
       "    </tr>\n",
       "    <tr>\n",
       "      <th>99542</th>\n",
       "      <td>i have had the a6000 for two years now, and ne...</td>\n",
       "      <td>1</td>\n",
       "      <td>497</td>\n",
       "      <td>2047</td>\n",
       "      <td>17</td>\n",
       "      <td>4.154930</td>\n",
       "    </tr>\n",
       "  </tbody>\n",
       "</table>\n",
       "</div>"
      ],
      "text/plain": [
       "                                               reviewText  sentiment  \\\n",
       "100276  i bought the four camera 2t hd wifi  system.  ...          1   \n",
       "107945  i have had my arlo 4-camera system for over a ...          1   \n",
       "24206   i purchased this camera for my wife for christ...          1   \n",
       "36528   first, let us be clear about what a holster is...          1   \n",
       "36006   i purchased this for use with my nikon d5000. ...          1   \n",
       "43991   i got this camera because it appeared rugged a...          1   \n",
       "128707  these are handy little cameras. i like to leav...          1   \n",
       "13333   i was hesitant to purchase these after reading...          1   \n",
       "103807  bought this camera because it was so cheap. i ...          1   \n",
       "15337   i am no a professional photographer, but i do ...          0   \n",
       "127732  i use this camera plus two fixed position zmod...          1   \n",
       "45935   i have now used this several times mostly for ...          1   \n",
       "38621   portable battery charger quickly charges & tur...          1   \n",
       "45856   i read about this product a number of months a...          1   \n",
       "74515   a little background:  i have owned several fil...          1   \n",
       "6208    i will start by saying that i have owned all t...          1   \n",
       "126631  i have been using yi home cameras for almost a...          1   \n",
       "45973   this is a fantastic value for a sturdy, albeit...          1   \n",
       "114115  i got the dropcam to add a bit of security and...          1   \n",
       "99542   i have had the a6000 for two years now, and ne...          1   \n",
       "\n",
       "        word_count  character_count  sentence_count  average_word_length  \n",
       "100276         500             1881              38             3.766000  \n",
       "107945         500             1908              25             3.820000  \n",
       "24206          500             2061              24             4.122000  \n",
       "36528          499             1959              21             3.925852  \n",
       "36006          499             1890              19             3.787575  \n",
       "43991          499             1946              30             3.899800  \n",
       "128707         499             1879              28             3.769539  \n",
       "13333          499             2100              25             4.212425  \n",
       "103807         499             1822              26             3.651303  \n",
       "15337          499             1918              17             3.859719  \n",
       "127732         499             1912              22             3.831663  \n",
       "45935          498             1980              27             3.975904  \n",
       "38621          498             2285              23             4.600402  \n",
       "45856          498             1865              26             3.751004  \n",
       "74515          498             1922              18             3.859438  \n",
       "6208           498             1740              13             3.510040  \n",
       "126631         497             1940              23             3.907445  \n",
       "45973          497             1969              24             3.961771  \n",
       "114115         497             1991              29             4.006036  \n",
       "99542          497             2047              17             4.154930  "
      ]
     },
     "execution_count": 112,
     "metadata": {},
     "output_type": "execute_result"
    }
   ],
   "source": [
    "filtered_df.sort_values(by = 'word_count', ascending = False).head(20)"
   ]
  },
  {
   "cell_type": "code",
   "execution_count": 118,
   "metadata": {},
   "outputs": [],
   "source": [
    "test = text_stats_df.reviewText[44098]"
   ]
  },
  {
   "cell_type": "code",
   "execution_count": 140,
   "metadata": {},
   "outputs": [
    {
     "name": "stderr",
     "output_type": "stream",
     "text": [
      "C:\\Users\\PC\\anaconda3\\envs\\learn-env\\lib\\site-packages\\bs4\\__init__.py:332: MarkupResemblesLocatorWarning: \".\" looks like a filename, not markup. You should probably open this file and pass the filehandle into Beautiful Soup.\n",
      "  warnings.warn(\n",
      "<ipython-input-140-e8d34088f30e>:1: SettingWithCopyWarning: \n",
      "A value is trying to be set on a copy of a slice from a DataFrame.\n",
      "Try using .loc[row_indexer,col_indexer] = value instead\n",
      "\n",
      "See the caveats in the documentation: https://pandas.pydata.org/pandas-docs/stable/user_guide/indexing.html#returning-a-view-versus-a-copy\n",
      "  text_stats_df['cleaned_text'] = text_stats_df['reviewText'].apply(lambda x: clean_text(x))\n"
     ]
    }
   ],
   "source": [
    "text_stats_df['cleaned_text'] = text_stats_df['reviewText'].apply(lambda x: clean_text(x))"
   ]
  },
  {
   "cell_type": "code",
   "execution_count": 141,
   "metadata": {},
   "outputs": [
    {
     "data": {
      "text/html": [
       "<div>\n",
       "<style scoped>\n",
       "    .dataframe tbody tr th:only-of-type {\n",
       "        vertical-align: middle;\n",
       "    }\n",
       "\n",
       "    .dataframe tbody tr th {\n",
       "        vertical-align: top;\n",
       "    }\n",
       "\n",
       "    .dataframe thead th {\n",
       "        text-align: right;\n",
       "    }\n",
       "</style>\n",
       "<table border=\"1\" class=\"dataframe\">\n",
       "  <thead>\n",
       "    <tr style=\"text-align: right;\">\n",
       "      <th></th>\n",
       "      <th>reviewText</th>\n",
       "      <th>sentiment</th>\n",
       "      <th>word_count</th>\n",
       "      <th>character_count</th>\n",
       "      <th>sentence_count</th>\n",
       "      <th>average_word_length</th>\n",
       "      <th>cleaned_text</th>\n",
       "    </tr>\n",
       "  </thead>\n",
       "  <tbody>\n",
       "    <tr>\n",
       "      <th>0</th>\n",
       "      <td>i bought this lens for my rebel 2000 camera an...</td>\n",
       "      <td>1</td>\n",
       "      <td>54</td>\n",
       "      <td>207</td>\n",
       "      <td>3</td>\n",
       "      <td>3.833333</td>\n",
       "      <td>bought lens rebel 2000 camera pleased results ...</td>\n",
       "    </tr>\n",
       "    <tr>\n",
       "      <th>1</th>\n",
       "      <td>canon ef lenses have a built in af motor..comp...</td>\n",
       "      <td>1</td>\n",
       "      <td>211</td>\n",
       "      <td>950</td>\n",
       "      <td>1</td>\n",
       "      <td>4.502370</td>\n",
       "      <td>canon ef lenses built af motorcompared camera ...</td>\n",
       "    </tr>\n",
       "    <tr>\n",
       "      <th>2</th>\n",
       "      <td>i bought this lens about six months after repl...</td>\n",
       "      <td>1</td>\n",
       "      <td>191</td>\n",
       "      <td>725</td>\n",
       "      <td>9</td>\n",
       "      <td>3.806283</td>\n",
       "      <td>bought lens six months replacing 20 year old s...</td>\n",
       "    </tr>\n",
       "    <tr>\n",
       "      <th>3</th>\n",
       "      <td>bought this as a replacement and it was worth ...</td>\n",
       "      <td>1</td>\n",
       "      <td>30</td>\n",
       "      <td>112</td>\n",
       "      <td>3</td>\n",
       "      <td>3.733333</td>\n",
       "      <td>bought replacement worth money spent less 13 n...</td>\n",
       "    </tr>\n",
       "    <tr>\n",
       "      <th>4</th>\n",
       "      <td>good</td>\n",
       "      <td>1</td>\n",
       "      <td>1</td>\n",
       "      <td>4</td>\n",
       "      <td>1</td>\n",
       "      <td>4.000000</td>\n",
       "      <td>good</td>\n",
       "    </tr>\n",
       "  </tbody>\n",
       "</table>\n",
       "</div>"
      ],
      "text/plain": [
       "                                          reviewText  sentiment  word_count  \\\n",
       "0  i bought this lens for my rebel 2000 camera an...          1          54   \n",
       "1  canon ef lenses have a built in af motor..comp...          1         211   \n",
       "2  i bought this lens about six months after repl...          1         191   \n",
       "3  bought this as a replacement and it was worth ...          1          30   \n",
       "4                                               good          1           1   \n",
       "\n",
       "   character_count  sentence_count  average_word_length  \\\n",
       "0              207               3             3.833333   \n",
       "1              950               1             4.502370   \n",
       "2              725               9             3.806283   \n",
       "3              112               3             3.733333   \n",
       "4                4               1             4.000000   \n",
       "\n",
       "                                        cleaned_text  \n",
       "0  bought lens rebel 2000 camera pleased results ...  \n",
       "1  canon ef lenses built af motorcompared camera ...  \n",
       "2  bought lens six months replacing 20 year old s...  \n",
       "3  bought replacement worth money spent less 13 n...  \n",
       "4                                               good  "
      ]
     },
     "execution_count": 141,
     "metadata": {},
     "output_type": "execute_result"
    }
   ],
   "source": [
    "text_stats_df.head()"
   ]
  },
  {
   "cell_type": "code",
   "execution_count": 142,
   "metadata": {},
   "outputs": [],
   "source": [
    "data = text_stats_df[['sentiment', 'cleaned_text']]"
   ]
  },
  {
   "cell_type": "code",
   "execution_count": 143,
   "metadata": {},
   "outputs": [
    {
     "data": {
      "text/html": [
       "<div>\n",
       "<style scoped>\n",
       "    .dataframe tbody tr th:only-of-type {\n",
       "        vertical-align: middle;\n",
       "    }\n",
       "\n",
       "    .dataframe tbody tr th {\n",
       "        vertical-align: top;\n",
       "    }\n",
       "\n",
       "    .dataframe thead th {\n",
       "        text-align: right;\n",
       "    }\n",
       "</style>\n",
       "<table border=\"1\" class=\"dataframe\">\n",
       "  <thead>\n",
       "    <tr style=\"text-align: right;\">\n",
       "      <th></th>\n",
       "      <th>sentiment</th>\n",
       "      <th>cleaned_text</th>\n",
       "    </tr>\n",
       "  </thead>\n",
       "  <tbody>\n",
       "    <tr>\n",
       "      <th>0</th>\n",
       "      <td>1</td>\n",
       "      <td>bought lens rebel 2000 camera pleased results ...</td>\n",
       "    </tr>\n",
       "    <tr>\n",
       "      <th>1</th>\n",
       "      <td>1</td>\n",
       "      <td>canon ef lenses built af motorcompared camera ...</td>\n",
       "    </tr>\n",
       "    <tr>\n",
       "      <th>2</th>\n",
       "      <td>1</td>\n",
       "      <td>bought lens six months replacing 20 year old s...</td>\n",
       "    </tr>\n",
       "    <tr>\n",
       "      <th>3</th>\n",
       "      <td>1</td>\n",
       "      <td>bought replacement worth money spent less 13 n...</td>\n",
       "    </tr>\n",
       "    <tr>\n",
       "      <th>4</th>\n",
       "      <td>1</td>\n",
       "      <td>good</td>\n",
       "    </tr>\n",
       "  </tbody>\n",
       "</table>\n",
       "</div>"
      ],
      "text/plain": [
       "   sentiment                                       cleaned_text\n",
       "0          1  bought lens rebel 2000 camera pleased results ...\n",
       "1          1  canon ef lenses built af motorcompared camera ...\n",
       "2          1  bought lens six months replacing 20 year old s...\n",
       "3          1  bought replacement worth money spent less 13 n...\n",
       "4          1                                               good"
      ]
     },
     "execution_count": 143,
     "metadata": {},
     "output_type": "execute_result"
    }
   ],
   "source": []
  },
  {
   "cell_type": "code",
   "execution_count": 144,
   "metadata": {},
   "outputs": [
    {
     "name": "stderr",
     "output_type": "stream",
     "text": [
      "<ipython-input-144-5af0d3e11dfd>:1: SettingWithCopyWarning: \n",
      "A value is trying to be set on a copy of a slice from a DataFrame.\n",
      "Try using .loc[row_indexer,col_indexer] = value instead\n",
      "\n",
      "See the caveats in the documentation: https://pandas.pydata.org/pandas-docs/stable/user_guide/indexing.html#returning-a-view-versus-a-copy\n",
      "  data['word_count'] = data.cleaned_text.apply(lambda x: word_count(x))\n",
      "<ipython-input-144-5af0d3e11dfd>:2: SettingWithCopyWarning: \n",
      "A value is trying to be set on a copy of a slice from a DataFrame.\n",
      "Try using .loc[row_indexer,col_indexer] = value instead\n",
      "\n",
      "See the caveats in the documentation: https://pandas.pydata.org/pandas-docs/stable/user_guide/indexing.html#returning-a-view-versus-a-copy\n",
      "  data['character_count'] = data.cleaned_text.apply(lambda x: character_count(x))\n",
      "<ipython-input-144-5af0d3e11dfd>:3: SettingWithCopyWarning: \n",
      "A value is trying to be set on a copy of a slice from a DataFrame.\n",
      "Try using .loc[row_indexer,col_indexer] = value instead\n",
      "\n",
      "See the caveats in the documentation: https://pandas.pydata.org/pandas-docs/stable/user_guide/indexing.html#returning-a-view-versus-a-copy\n",
      "  data['sentence_count'] = data.cleaned_text.apply(lambda x: sentence_count(x))\n"
     ]
    },
    {
     "ename": "ZeroDivisionError",
     "evalue": "division by zero",
     "output_type": "error",
     "traceback": [
      "\u001b[1;31m---------------------------------------------------------------------------\u001b[0m",
      "\u001b[1;31mZeroDivisionError\u001b[0m                         Traceback (most recent call last)",
      "\u001b[1;32m<ipython-input-144-5af0d3e11dfd>\u001b[0m in \u001b[0;36m<module>\u001b[1;34m\u001b[0m\n\u001b[0;32m      2\u001b[0m \u001b[0mdata\u001b[0m\u001b[1;33m[\u001b[0m\u001b[1;34m'character_count'\u001b[0m\u001b[1;33m]\u001b[0m \u001b[1;33m=\u001b[0m \u001b[0mdata\u001b[0m\u001b[1;33m.\u001b[0m\u001b[0mcleaned_text\u001b[0m\u001b[1;33m.\u001b[0m\u001b[0mapply\u001b[0m\u001b[1;33m(\u001b[0m\u001b[1;32mlambda\u001b[0m \u001b[0mx\u001b[0m\u001b[1;33m:\u001b[0m \u001b[0mcharacter_count\u001b[0m\u001b[1;33m(\u001b[0m\u001b[0mx\u001b[0m\u001b[1;33m)\u001b[0m\u001b[1;33m)\u001b[0m\u001b[1;33m\u001b[0m\u001b[1;33m\u001b[0m\u001b[0m\n\u001b[0;32m      3\u001b[0m \u001b[0mdata\u001b[0m\u001b[1;33m[\u001b[0m\u001b[1;34m'sentence_count'\u001b[0m\u001b[1;33m]\u001b[0m \u001b[1;33m=\u001b[0m \u001b[0mdata\u001b[0m\u001b[1;33m.\u001b[0m\u001b[0mcleaned_text\u001b[0m\u001b[1;33m.\u001b[0m\u001b[0mapply\u001b[0m\u001b[1;33m(\u001b[0m\u001b[1;32mlambda\u001b[0m \u001b[0mx\u001b[0m\u001b[1;33m:\u001b[0m \u001b[0msentence_count\u001b[0m\u001b[1;33m(\u001b[0m\u001b[0mx\u001b[0m\u001b[1;33m)\u001b[0m\u001b[1;33m)\u001b[0m\u001b[1;33m\u001b[0m\u001b[1;33m\u001b[0m\u001b[0m\n\u001b[1;32m----> 4\u001b[1;33m \u001b[0mdata\u001b[0m\u001b[1;33m[\u001b[0m\u001b[1;34m'average_word_length'\u001b[0m\u001b[1;33m]\u001b[0m \u001b[1;33m=\u001b[0m \u001b[0mdata\u001b[0m\u001b[1;33m.\u001b[0m\u001b[0mcleaned_text\u001b[0m\u001b[1;33m.\u001b[0m\u001b[0mapply\u001b[0m\u001b[1;33m(\u001b[0m\u001b[1;32mlambda\u001b[0m \u001b[0mx\u001b[0m\u001b[1;33m:\u001b[0m \u001b[0maverage_word_length\u001b[0m\u001b[1;33m(\u001b[0m\u001b[0mx\u001b[0m\u001b[1;33m)\u001b[0m\u001b[1;33m)\u001b[0m\u001b[1;33m\u001b[0m\u001b[1;33m\u001b[0m\u001b[0m\n\u001b[0m",
      "\u001b[1;32m~\\anaconda3\\envs\\learn-env\\lib\\site-packages\\pandas\\core\\series.py\u001b[0m in \u001b[0;36mapply\u001b[1;34m(self, func, convert_dtype, args, **kwds)\u001b[0m\n\u001b[0;32m   4198\u001b[0m             \u001b[1;32melse\u001b[0m\u001b[1;33m:\u001b[0m\u001b[1;33m\u001b[0m\u001b[1;33m\u001b[0m\u001b[0m\n\u001b[0;32m   4199\u001b[0m                 \u001b[0mvalues\u001b[0m \u001b[1;33m=\u001b[0m \u001b[0mself\u001b[0m\u001b[1;33m.\u001b[0m\u001b[0mastype\u001b[0m\u001b[1;33m(\u001b[0m\u001b[0mobject\u001b[0m\u001b[1;33m)\u001b[0m\u001b[1;33m.\u001b[0m\u001b[0m_values\u001b[0m\u001b[1;33m\u001b[0m\u001b[1;33m\u001b[0m\u001b[0m\n\u001b[1;32m-> 4200\u001b[1;33m                 \u001b[0mmapped\u001b[0m \u001b[1;33m=\u001b[0m \u001b[0mlib\u001b[0m\u001b[1;33m.\u001b[0m\u001b[0mmap_infer\u001b[0m\u001b[1;33m(\u001b[0m\u001b[0mvalues\u001b[0m\u001b[1;33m,\u001b[0m \u001b[0mf\u001b[0m\u001b[1;33m,\u001b[0m \u001b[0mconvert\u001b[0m\u001b[1;33m=\u001b[0m\u001b[0mconvert_dtype\u001b[0m\u001b[1;33m)\u001b[0m\u001b[1;33m\u001b[0m\u001b[1;33m\u001b[0m\u001b[0m\n\u001b[0m\u001b[0;32m   4201\u001b[0m \u001b[1;33m\u001b[0m\u001b[0m\n\u001b[0;32m   4202\u001b[0m         \u001b[1;32mif\u001b[0m \u001b[0mlen\u001b[0m\u001b[1;33m(\u001b[0m\u001b[0mmapped\u001b[0m\u001b[1;33m)\u001b[0m \u001b[1;32mand\u001b[0m \u001b[0misinstance\u001b[0m\u001b[1;33m(\u001b[0m\u001b[0mmapped\u001b[0m\u001b[1;33m[\u001b[0m\u001b[1;36m0\u001b[0m\u001b[1;33m]\u001b[0m\u001b[1;33m,\u001b[0m \u001b[0mSeries\u001b[0m\u001b[1;33m)\u001b[0m\u001b[1;33m:\u001b[0m\u001b[1;33m\u001b[0m\u001b[1;33m\u001b[0m\u001b[0m\n",
      "\u001b[1;32mpandas\\_libs\\lib.pyx\u001b[0m in \u001b[0;36mpandas._libs.lib.map_infer\u001b[1;34m()\u001b[0m\n",
      "\u001b[1;32m<ipython-input-144-5af0d3e11dfd>\u001b[0m in \u001b[0;36m<lambda>\u001b[1;34m(x)\u001b[0m\n\u001b[0;32m      2\u001b[0m \u001b[0mdata\u001b[0m\u001b[1;33m[\u001b[0m\u001b[1;34m'character_count'\u001b[0m\u001b[1;33m]\u001b[0m \u001b[1;33m=\u001b[0m \u001b[0mdata\u001b[0m\u001b[1;33m.\u001b[0m\u001b[0mcleaned_text\u001b[0m\u001b[1;33m.\u001b[0m\u001b[0mapply\u001b[0m\u001b[1;33m(\u001b[0m\u001b[1;32mlambda\u001b[0m \u001b[0mx\u001b[0m\u001b[1;33m:\u001b[0m \u001b[0mcharacter_count\u001b[0m\u001b[1;33m(\u001b[0m\u001b[0mx\u001b[0m\u001b[1;33m)\u001b[0m\u001b[1;33m)\u001b[0m\u001b[1;33m\u001b[0m\u001b[1;33m\u001b[0m\u001b[0m\n\u001b[0;32m      3\u001b[0m \u001b[0mdata\u001b[0m\u001b[1;33m[\u001b[0m\u001b[1;34m'sentence_count'\u001b[0m\u001b[1;33m]\u001b[0m \u001b[1;33m=\u001b[0m \u001b[0mdata\u001b[0m\u001b[1;33m.\u001b[0m\u001b[0mcleaned_text\u001b[0m\u001b[1;33m.\u001b[0m\u001b[0mapply\u001b[0m\u001b[1;33m(\u001b[0m\u001b[1;32mlambda\u001b[0m \u001b[0mx\u001b[0m\u001b[1;33m:\u001b[0m \u001b[0msentence_count\u001b[0m\u001b[1;33m(\u001b[0m\u001b[0mx\u001b[0m\u001b[1;33m)\u001b[0m\u001b[1;33m)\u001b[0m\u001b[1;33m\u001b[0m\u001b[1;33m\u001b[0m\u001b[0m\n\u001b[1;32m----> 4\u001b[1;33m \u001b[0mdata\u001b[0m\u001b[1;33m[\u001b[0m\u001b[1;34m'average_word_length'\u001b[0m\u001b[1;33m]\u001b[0m \u001b[1;33m=\u001b[0m \u001b[0mdata\u001b[0m\u001b[1;33m.\u001b[0m\u001b[0mcleaned_text\u001b[0m\u001b[1;33m.\u001b[0m\u001b[0mapply\u001b[0m\u001b[1;33m(\u001b[0m\u001b[1;32mlambda\u001b[0m \u001b[0mx\u001b[0m\u001b[1;33m:\u001b[0m \u001b[0maverage_word_length\u001b[0m\u001b[1;33m(\u001b[0m\u001b[0mx\u001b[0m\u001b[1;33m)\u001b[0m\u001b[1;33m)\u001b[0m\u001b[1;33m\u001b[0m\u001b[1;33m\u001b[0m\u001b[0m\n\u001b[0m",
      "\u001b[1;32m<ipython-input-83-005909f3f66c>\u001b[0m in \u001b[0;36maverage_word_length\u001b[1;34m(text)\u001b[0m\n\u001b[0;32m     12\u001b[0m     \u001b[0mwords\u001b[0m \u001b[1;33m=\u001b[0m \u001b[0mword_tokenize\u001b[0m\u001b[1;33m(\u001b[0m\u001b[0mtext\u001b[0m\u001b[1;33m)\u001b[0m\u001b[1;33m\u001b[0m\u001b[1;33m\u001b[0m\u001b[0m\n\u001b[0;32m     13\u001b[0m     \u001b[0mtotal_word_length\u001b[0m \u001b[1;33m=\u001b[0m \u001b[0msum\u001b[0m\u001b[1;33m(\u001b[0m\u001b[0mlen\u001b[0m\u001b[1;33m(\u001b[0m\u001b[0mword\u001b[0m\u001b[1;33m)\u001b[0m \u001b[1;32mfor\u001b[0m \u001b[0mword\u001b[0m \u001b[1;32min\u001b[0m \u001b[0mwords\u001b[0m\u001b[1;33m)\u001b[0m\u001b[1;33m\u001b[0m\u001b[1;33m\u001b[0m\u001b[0m\n\u001b[1;32m---> 14\u001b[1;33m     \u001b[0mavg_word_length\u001b[0m \u001b[1;33m=\u001b[0m \u001b[0mtotal_word_length\u001b[0m \u001b[1;33m/\u001b[0m \u001b[0mlen\u001b[0m\u001b[1;33m(\u001b[0m\u001b[0mwords\u001b[0m\u001b[1;33m)\u001b[0m\u001b[1;33m\u001b[0m\u001b[1;33m\u001b[0m\u001b[0m\n\u001b[0m\u001b[0;32m     15\u001b[0m     \u001b[1;32mreturn\u001b[0m \u001b[0mavg_word_length\u001b[0m\u001b[1;33m\u001b[0m\u001b[1;33m\u001b[0m\u001b[0m\n",
      "\u001b[1;31mZeroDivisionError\u001b[0m: division by zero"
     ]
    }
   ],
   "source": [
    "data['word_count'] = data.cleaned_text.apply(lambda x: word_count(x))\n",
    "data['character_count'] = data.cleaned_text.apply(lambda x: character_count(x))\n",
    "data['sentence_count'] = data.cleaned_text.apply(lambda x: sentence_count(x))\n",
    "data['average_word_length'] = data.cleaned_text.apply(lambda x: average_word_length(x))"
   ]
  },
  {
   "cell_type": "code",
   "execution_count": 145,
   "metadata": {},
   "outputs": [
    {
     "name": "stdout",
     "output_type": "stream",
     "text": [
      "<class 'pandas.core.frame.DataFrame'>\n",
      "Int64Index: 129550 entries, 0 to 129591\n",
      "Data columns (total 5 columns):\n",
      " #   Column           Non-Null Count   Dtype \n",
      "---  ------           --------------   ----- \n",
      " 0   sentiment        129550 non-null  int64 \n",
      " 1   cleaned_text     129550 non-null  object\n",
      " 2   word_count       129550 non-null  int64 \n",
      " 3   character_count  129550 non-null  int64 \n",
      " 4   sentence_count   129550 non-null  int64 \n",
      "dtypes: int64(4), object(1)\n",
      "memory usage: 10.9+ MB\n"
     ]
    }
   ],
   "source": [
    "data.info()"
   ]
  },
  {
   "cell_type": "code",
   "execution_count": 146,
   "metadata": {},
   "outputs": [
    {
     "data": {
      "text/html": [
       "<div>\n",
       "<style scoped>\n",
       "    .dataframe tbody tr th:only-of-type {\n",
       "        vertical-align: middle;\n",
       "    }\n",
       "\n",
       "    .dataframe tbody tr th {\n",
       "        vertical-align: top;\n",
       "    }\n",
       "\n",
       "    .dataframe thead th {\n",
       "        text-align: right;\n",
       "    }\n",
       "</style>\n",
       "<table border=\"1\" class=\"dataframe\">\n",
       "  <thead>\n",
       "    <tr style=\"text-align: right;\">\n",
       "      <th></th>\n",
       "      <th>sentiment</th>\n",
       "      <th>word_count</th>\n",
       "      <th>character_count</th>\n",
       "      <th>sentence_count</th>\n",
       "    </tr>\n",
       "  </thead>\n",
       "  <tbody>\n",
       "    <tr>\n",
       "      <th>count</th>\n",
       "      <td>129550.000000</td>\n",
       "      <td>129550.000000</td>\n",
       "      <td>129550.000000</td>\n",
       "      <td>129550.000000</td>\n",
       "    </tr>\n",
       "    <tr>\n",
       "      <th>mean</th>\n",
       "      <td>0.845751</td>\n",
       "      <td>28.829047</td>\n",
       "      <td>161.832922</td>\n",
       "      <td>0.998804</td>\n",
       "    </tr>\n",
       "    <tr>\n",
       "      <th>std</th>\n",
       "      <td>0.361189</td>\n",
       "      <td>48.885221</td>\n",
       "      <td>278.460024</td>\n",
       "      <td>0.034569</td>\n",
       "    </tr>\n",
       "    <tr>\n",
       "      <th>min</th>\n",
       "      <td>0.000000</td>\n",
       "      <td>0.000000</td>\n",
       "      <td>0.000000</td>\n",
       "      <td>0.000000</td>\n",
       "    </tr>\n",
       "    <tr>\n",
       "      <th>25%</th>\n",
       "      <td>1.000000</td>\n",
       "      <td>6.000000</td>\n",
       "      <td>32.000000</td>\n",
       "      <td>1.000000</td>\n",
       "    </tr>\n",
       "    <tr>\n",
       "      <th>50%</th>\n",
       "      <td>1.000000</td>\n",
       "      <td>14.000000</td>\n",
       "      <td>80.000000</td>\n",
       "      <td>1.000000</td>\n",
       "    </tr>\n",
       "    <tr>\n",
       "      <th>75%</th>\n",
       "      <td>1.000000</td>\n",
       "      <td>32.000000</td>\n",
       "      <td>179.000000</td>\n",
       "      <td>1.000000</td>\n",
       "    </tr>\n",
       "    <tr>\n",
       "      <th>max</th>\n",
       "      <td>1.000000</td>\n",
       "      <td>1739.000000</td>\n",
       "      <td>10437.000000</td>\n",
       "      <td>1.000000</td>\n",
       "    </tr>\n",
       "  </tbody>\n",
       "</table>\n",
       "</div>"
      ],
      "text/plain": [
       "           sentiment     word_count  character_count  sentence_count\n",
       "count  129550.000000  129550.000000    129550.000000   129550.000000\n",
       "mean        0.845751      28.829047       161.832922        0.998804\n",
       "std         0.361189      48.885221       278.460024        0.034569\n",
       "min         0.000000       0.000000         0.000000        0.000000\n",
       "25%         1.000000       6.000000        32.000000        1.000000\n",
       "50%         1.000000      14.000000        80.000000        1.000000\n",
       "75%         1.000000      32.000000       179.000000        1.000000\n",
       "max         1.000000    1739.000000     10437.000000        1.000000"
      ]
     },
     "execution_count": 146,
     "metadata": {},
     "output_type": "execute_result"
    }
   ],
   "source": [
    "data.describe()"
   ]
  },
  {
   "cell_type": "code",
   "execution_count": 147,
   "metadata": {},
   "outputs": [
    {
     "data": {
      "text/html": [
       "<div>\n",
       "<style scoped>\n",
       "    .dataframe tbody tr th:only-of-type {\n",
       "        vertical-align: middle;\n",
       "    }\n",
       "\n",
       "    .dataframe tbody tr th {\n",
       "        vertical-align: top;\n",
       "    }\n",
       "\n",
       "    .dataframe thead th {\n",
       "        text-align: right;\n",
       "    }\n",
       "</style>\n",
       "<table border=\"1\" class=\"dataframe\">\n",
       "  <thead>\n",
       "    <tr style=\"text-align: right;\">\n",
       "      <th></th>\n",
       "      <th>sentiment</th>\n",
       "      <th>cleaned_text</th>\n",
       "      <th>word_count</th>\n",
       "      <th>character_count</th>\n",
       "      <th>sentence_count</th>\n",
       "    </tr>\n",
       "  </thead>\n",
       "  <tbody>\n",
       "    <tr>\n",
       "      <th>909</th>\n",
       "      <td>1</td>\n",
       "      <td></td>\n",
       "      <td>0</td>\n",
       "      <td>0</td>\n",
       "      <td>0</td>\n",
       "    </tr>\n",
       "    <tr>\n",
       "      <th>2727</th>\n",
       "      <td>1</td>\n",
       "      <td></td>\n",
       "      <td>0</td>\n",
       "      <td>0</td>\n",
       "      <td>0</td>\n",
       "    </tr>\n",
       "    <tr>\n",
       "      <th>2861</th>\n",
       "      <td>1</td>\n",
       "      <td></td>\n",
       "      <td>0</td>\n",
       "      <td>0</td>\n",
       "      <td>0</td>\n",
       "    </tr>\n",
       "    <tr>\n",
       "      <th>3588</th>\n",
       "      <td>1</td>\n",
       "      <td></td>\n",
       "      <td>0</td>\n",
       "      <td>0</td>\n",
       "      <td>0</td>\n",
       "    </tr>\n",
       "    <tr>\n",
       "      <th>3741</th>\n",
       "      <td>1</td>\n",
       "      <td></td>\n",
       "      <td>0</td>\n",
       "      <td>0</td>\n",
       "      <td>0</td>\n",
       "    </tr>\n",
       "    <tr>\n",
       "      <th>...</th>\n",
       "      <td>...</td>\n",
       "      <td>...</td>\n",
       "      <td>...</td>\n",
       "      <td>...</td>\n",
       "      <td>...</td>\n",
       "    </tr>\n",
       "    <tr>\n",
       "      <th>116654</th>\n",
       "      <td>0</td>\n",
       "      <td></td>\n",
       "      <td>0</td>\n",
       "      <td>0</td>\n",
       "      <td>0</td>\n",
       "    </tr>\n",
       "    <tr>\n",
       "      <th>119284</th>\n",
       "      <td>1</td>\n",
       "      <td></td>\n",
       "      <td>0</td>\n",
       "      <td>0</td>\n",
       "      <td>0</td>\n",
       "    </tr>\n",
       "    <tr>\n",
       "      <th>127630</th>\n",
       "      <td>0</td>\n",
       "      <td></td>\n",
       "      <td>0</td>\n",
       "      <td>0</td>\n",
       "      <td>0</td>\n",
       "    </tr>\n",
       "    <tr>\n",
       "      <th>127947</th>\n",
       "      <td>1</td>\n",
       "      <td></td>\n",
       "      <td>0</td>\n",
       "      <td>0</td>\n",
       "      <td>0</td>\n",
       "    </tr>\n",
       "    <tr>\n",
       "      <th>129240</th>\n",
       "      <td>1</td>\n",
       "      <td></td>\n",
       "      <td>0</td>\n",
       "      <td>0</td>\n",
       "      <td>0</td>\n",
       "    </tr>\n",
       "  </tbody>\n",
       "</table>\n",
       "<p>155 rows × 5 columns</p>\n",
       "</div>"
      ],
      "text/plain": [
       "        sentiment cleaned_text  word_count  character_count  sentence_count\n",
       "909             1                        0                0               0\n",
       "2727            1                        0                0               0\n",
       "2861            1                        0                0               0\n",
       "3588            1                        0                0               0\n",
       "3741            1                        0                0               0\n",
       "...           ...          ...         ...              ...             ...\n",
       "116654          0                        0                0               0\n",
       "119284          1                        0                0               0\n",
       "127630          0                        0                0               0\n",
       "127947          1                        0                0               0\n",
       "129240          1                        0                0               0\n",
       "\n",
       "[155 rows x 5 columns]"
      ]
     },
     "execution_count": 147,
     "metadata": {},
     "output_type": "execute_result"
    }
   ],
   "source": [
    "data[data.word_count == 0]"
   ]
  },
  {
   "cell_type": "code",
   "execution_count": 148,
   "metadata": {},
   "outputs": [
    {
     "data": {
      "text/plain": [
       "''"
      ]
     },
     "execution_count": 148,
     "metadata": {},
     "output_type": "execute_result"
    }
   ],
   "source": [
    "data.cleaned_text[909]"
   ]
  },
  {
   "cell_type": "code",
   "execution_count": null,
   "metadata": {},
   "outputs": [],
   "source": []
  },
  {
   "cell_type": "code",
   "execution_count": 159,
   "metadata": {},
   "outputs": [
    {
     "data": {
      "text/plain": [
       "1    3436\n",
       "0     232\n",
       "Name: sentiment, dtype: int64"
      ]
     },
     "execution_count": 159,
     "metadata": {},
     "output_type": "execute_result"
    }
   ],
   "source": [
    "text_stats_df[text_stats_df.word_count == 3].sentiment.value_counts()"
   ]
  },
  {
   "cell_type": "code",
   "execution_count": 160,
   "metadata": {},
   "outputs": [],
   "source": [
    "test_df = text_stats_df[(text_stats_df.word_count > 3) & (text_stats_df.word_count <= 500)]"
   ]
  },
  {
   "cell_type": "code",
   "execution_count": 163,
   "metadata": {},
   "outputs": [
    {
     "data": {
      "text/html": [
       "<div>\n",
       "<style scoped>\n",
       "    .dataframe tbody tr th:only-of-type {\n",
       "        vertical-align: middle;\n",
       "    }\n",
       "\n",
       "    .dataframe tbody tr th {\n",
       "        vertical-align: top;\n",
       "    }\n",
       "\n",
       "    .dataframe thead th {\n",
       "        text-align: right;\n",
       "    }\n",
       "</style>\n",
       "<table border=\"1\" class=\"dataframe\">\n",
       "  <thead>\n",
       "    <tr style=\"text-align: right;\">\n",
       "      <th></th>\n",
       "      <th>reviewText</th>\n",
       "      <th>sentiment</th>\n",
       "      <th>word_count</th>\n",
       "      <th>character_count</th>\n",
       "      <th>sentence_count</th>\n",
       "      <th>average_word_length</th>\n",
       "      <th>cleaned_text</th>\n",
       "    </tr>\n",
       "  </thead>\n",
       "  <tbody>\n",
       "    <tr>\n",
       "      <th>0</th>\n",
       "      <td>i bought this lens for my rebel 2000 camera an...</td>\n",
       "      <td>1</td>\n",
       "      <td>54</td>\n",
       "      <td>207</td>\n",
       "      <td>3</td>\n",
       "      <td>3.833333</td>\n",
       "      <td>bought lens rebel 2000 camera pleased results ...</td>\n",
       "    </tr>\n",
       "    <tr>\n",
       "      <th>1</th>\n",
       "      <td>canon ef lenses have a built in af motor..comp...</td>\n",
       "      <td>1</td>\n",
       "      <td>211</td>\n",
       "      <td>950</td>\n",
       "      <td>1</td>\n",
       "      <td>4.502370</td>\n",
       "      <td>canon ef lenses built af motorcompared camera ...</td>\n",
       "    </tr>\n",
       "    <tr>\n",
       "      <th>2</th>\n",
       "      <td>i bought this lens about six months after repl...</td>\n",
       "      <td>1</td>\n",
       "      <td>191</td>\n",
       "      <td>725</td>\n",
       "      <td>9</td>\n",
       "      <td>3.806283</td>\n",
       "      <td>bought lens six months replacing 20 year old s...</td>\n",
       "    </tr>\n",
       "    <tr>\n",
       "      <th>3</th>\n",
       "      <td>bought this as a replacement and it was worth ...</td>\n",
       "      <td>1</td>\n",
       "      <td>30</td>\n",
       "      <td>112</td>\n",
       "      <td>3</td>\n",
       "      <td>3.733333</td>\n",
       "      <td>bought replacement worth money spent less 13 n...</td>\n",
       "    </tr>\n",
       "    <tr>\n",
       "      <th>5</th>\n",
       "      <td>good for starters.</td>\n",
       "      <td>1</td>\n",
       "      <td>4</td>\n",
       "      <td>16</td>\n",
       "      <td>1</td>\n",
       "      <td>4.000000</td>\n",
       "      <td>good starters</td>\n",
       "    </tr>\n",
       "  </tbody>\n",
       "</table>\n",
       "</div>"
      ],
      "text/plain": [
       "                                          reviewText  sentiment  word_count  \\\n",
       "0  i bought this lens for my rebel 2000 camera an...          1          54   \n",
       "1  canon ef lenses have a built in af motor..comp...          1         211   \n",
       "2  i bought this lens about six months after repl...          1         191   \n",
       "3  bought this as a replacement and it was worth ...          1          30   \n",
       "5                                 good for starters.          1           4   \n",
       "\n",
       "   character_count  sentence_count  average_word_length  \\\n",
       "0              207               3             3.833333   \n",
       "1              950               1             4.502370   \n",
       "2              725               9             3.806283   \n",
       "3              112               3             3.733333   \n",
       "5               16               1             4.000000   \n",
       "\n",
       "                                        cleaned_text  \n",
       "0  bought lens rebel 2000 camera pleased results ...  \n",
       "1  canon ef lenses built af motorcompared camera ...  \n",
       "2  bought lens six months replacing 20 year old s...  \n",
       "3  bought replacement worth money spent less 13 n...  \n",
       "5                                      good starters  "
      ]
     },
     "execution_count": 163,
     "metadata": {},
     "output_type": "execute_result"
    }
   ],
   "source": [
    "test_df.head()"
   ]
  },
  {
   "cell_type": "code",
   "execution_count": 169,
   "metadata": {},
   "outputs": [],
   "source": [
    "data = test_df[['reviewText', 'sentiment', 'cleaned_text']]"
   ]
  },
  {
   "cell_type": "code",
   "execution_count": 173,
   "metadata": {},
   "outputs": [
    {
     "data": {
      "text/html": [
       "<div>\n",
       "<style scoped>\n",
       "    .dataframe tbody tr th:only-of-type {\n",
       "        vertical-align: middle;\n",
       "    }\n",
       "\n",
       "    .dataframe tbody tr th {\n",
       "        vertical-align: top;\n",
       "    }\n",
       "\n",
       "    .dataframe thead th {\n",
       "        text-align: right;\n",
       "    }\n",
       "</style>\n",
       "<table border=\"1\" class=\"dataframe\">\n",
       "  <thead>\n",
       "    <tr style=\"text-align: right;\">\n",
       "      <th></th>\n",
       "      <th>reviewText</th>\n",
       "      <th>sentiment</th>\n",
       "      <th>cleaned_text</th>\n",
       "      <th>word_count</th>\n",
       "      <th>character_count</th>\n",
       "      <th>sentence_count</th>\n",
       "    </tr>\n",
       "  </thead>\n",
       "  <tbody>\n",
       "    <tr>\n",
       "      <th>0</th>\n",
       "      <td>i bought this lens for my rebel 2000 camera an...</td>\n",
       "      <td>1</td>\n",
       "      <td>bought lens rebel 2000 camera pleased results ...</td>\n",
       "      <td>24</td>\n",
       "      <td>126</td>\n",
       "      <td>1</td>\n",
       "    </tr>\n",
       "    <tr>\n",
       "      <th>1</th>\n",
       "      <td>canon ef lenses have a built in af motor..comp...</td>\n",
       "      <td>1</td>\n",
       "      <td>canon ef lenses built af motorcompared camera ...</td>\n",
       "      <td>107</td>\n",
       "      <td>718</td>\n",
       "      <td>1</td>\n",
       "    </tr>\n",
       "    <tr>\n",
       "      <th>2</th>\n",
       "      <td>i bought this lens about six months after repl...</td>\n",
       "      <td>1</td>\n",
       "      <td>bought lens six months replacing 20 year old s...</td>\n",
       "      <td>85</td>\n",
       "      <td>472</td>\n",
       "      <td>1</td>\n",
       "    </tr>\n",
       "    <tr>\n",
       "      <th>3</th>\n",
       "      <td>bought this as a replacement and it was worth ...</td>\n",
       "      <td>1</td>\n",
       "      <td>bought replacement worth money spent less 13 n...</td>\n",
       "      <td>14</td>\n",
       "      <td>73</td>\n",
       "      <td>1</td>\n",
       "    </tr>\n",
       "    <tr>\n",
       "      <th>5</th>\n",
       "      <td>good for starters.</td>\n",
       "      <td>1</td>\n",
       "      <td>good starters</td>\n",
       "      <td>2</td>\n",
       "      <td>12</td>\n",
       "      <td>1</td>\n",
       "    </tr>\n",
       "    <tr>\n",
       "      <th>...</th>\n",
       "      <td>...</td>\n",
       "      <td>...</td>\n",
       "      <td>...</td>\n",
       "      <td>...</td>\n",
       "      <td>...</td>\n",
       "      <td>...</td>\n",
       "    </tr>\n",
       "    <tr>\n",
       "      <th>129586</th>\n",
       "      <td>camera works well, just crying detection featu...</td>\n",
       "      <td>0</td>\n",
       "      <td>camera works well crying detection feature fai...</td>\n",
       "      <td>17</td>\n",
       "      <td>92</td>\n",
       "      <td>1</td>\n",
       "    </tr>\n",
       "    <tr>\n",
       "      <th>129587</th>\n",
       "      <td>i have two original 720 yi home camera that be...</td>\n",
       "      <td>0</td>\n",
       "      <td>two original 720 yi home camera working incred...</td>\n",
       "      <td>17</td>\n",
       "      <td>92</td>\n",
       "      <td>1</td>\n",
       "    </tr>\n",
       "    <tr>\n",
       "      <th>129589</th>\n",
       "      <td>first of all, this is similar to, but not a re...</td>\n",
       "      <td>1</td>\n",
       "      <td>first similar rebranded nest cam side side nes...</td>\n",
       "      <td>105</td>\n",
       "      <td>495</td>\n",
       "      <td>1</td>\n",
       "    </tr>\n",
       "    <tr>\n",
       "      <th>129590</th>\n",
       "      <td>after some recent thefts in the neighborhood, ...</td>\n",
       "      <td>1</td>\n",
       "      <td>recent thefts neighborhood bought couple yi ca...</td>\n",
       "      <td>55</td>\n",
       "      <td>340</td>\n",
       "      <td>1</td>\n",
       "    </tr>\n",
       "    <tr>\n",
       "      <th>129591</th>\n",
       "      <td>this entire setup is a little 'quirky.'  i bou...</td>\n",
       "      <td>0</td>\n",
       "      <td>entire setup little quirky bought yi cam car t...</td>\n",
       "      <td>32</td>\n",
       "      <td>187</td>\n",
       "      <td>1</td>\n",
       "    </tr>\n",
       "  </tbody>\n",
       "</table>\n",
       "<p>116411 rows × 6 columns</p>\n",
       "</div>"
      ],
      "text/plain": [
       "                                               reviewText  sentiment  \\\n",
       "0       i bought this lens for my rebel 2000 camera an...          1   \n",
       "1       canon ef lenses have a built in af motor..comp...          1   \n",
       "2       i bought this lens about six months after repl...          1   \n",
       "3       bought this as a replacement and it was worth ...          1   \n",
       "5                                      good for starters.          1   \n",
       "...                                                   ...        ...   \n",
       "129586  camera works well, just crying detection featu...          0   \n",
       "129587  i have two original 720 yi home camera that be...          0   \n",
       "129589  first of all, this is similar to, but not a re...          1   \n",
       "129590  after some recent thefts in the neighborhood, ...          1   \n",
       "129591  this entire setup is a little 'quirky.'  i bou...          0   \n",
       "\n",
       "                                             cleaned_text  word_count  \\\n",
       "0       bought lens rebel 2000 camera pleased results ...          24   \n",
       "1       canon ef lenses built af motorcompared camera ...         107   \n",
       "2       bought lens six months replacing 20 year old s...          85   \n",
       "3       bought replacement worth money spent less 13 n...          14   \n",
       "5                                           good starters           2   \n",
       "...                                                   ...         ...   \n",
       "129586  camera works well crying detection feature fai...          17   \n",
       "129587  two original 720 yi home camera working incred...          17   \n",
       "129589  first similar rebranded nest cam side side nes...         105   \n",
       "129590  recent thefts neighborhood bought couple yi ca...          55   \n",
       "129591  entire setup little quirky bought yi cam car t...          32   \n",
       "\n",
       "        character_count  sentence_count  \n",
       "0                   126               1  \n",
       "1                   718               1  \n",
       "2                   472               1  \n",
       "3                    73               1  \n",
       "5                    12               1  \n",
       "...                 ...             ...  \n",
       "129586               92               1  \n",
       "129587               92               1  \n",
       "129589              495               1  \n",
       "129590              340               1  \n",
       "129591              187               1  \n",
       "\n",
       "[116411 rows x 6 columns]"
      ]
     },
     "execution_count": 173,
     "metadata": {},
     "output_type": "execute_result"
    }
   ],
   "source": [
    "data"
   ]
  },
  {
   "cell_type": "code",
   "execution_count": 171,
   "metadata": {},
   "outputs": [
    {
     "name": "stderr",
     "output_type": "stream",
     "text": [
      "<ipython-input-171-5af0d3e11dfd>:1: SettingWithCopyWarning: \n",
      "A value is trying to be set on a copy of a slice from a DataFrame.\n",
      "Try using .loc[row_indexer,col_indexer] = value instead\n",
      "\n",
      "See the caveats in the documentation: https://pandas.pydata.org/pandas-docs/stable/user_guide/indexing.html#returning-a-view-versus-a-copy\n",
      "  data['word_count'] = data.cleaned_text.apply(lambda x: word_count(x))\n",
      "<ipython-input-171-5af0d3e11dfd>:2: SettingWithCopyWarning: \n",
      "A value is trying to be set on a copy of a slice from a DataFrame.\n",
      "Try using .loc[row_indexer,col_indexer] = value instead\n",
      "\n",
      "See the caveats in the documentation: https://pandas.pydata.org/pandas-docs/stable/user_guide/indexing.html#returning-a-view-versus-a-copy\n",
      "  data['character_count'] = data.cleaned_text.apply(lambda x: character_count(x))\n",
      "<ipython-input-171-5af0d3e11dfd>:3: SettingWithCopyWarning: \n",
      "A value is trying to be set on a copy of a slice from a DataFrame.\n",
      "Try using .loc[row_indexer,col_indexer] = value instead\n",
      "\n",
      "See the caveats in the documentation: https://pandas.pydata.org/pandas-docs/stable/user_guide/indexing.html#returning-a-view-versus-a-copy\n",
      "  data['sentence_count'] = data.cleaned_text.apply(lambda x: sentence_count(x))\n"
     ]
    },
    {
     "ename": "ZeroDivisionError",
     "evalue": "division by zero",
     "output_type": "error",
     "traceback": [
      "\u001b[1;31m---------------------------------------------------------------------------\u001b[0m",
      "\u001b[1;31mZeroDivisionError\u001b[0m                         Traceback (most recent call last)",
      "\u001b[1;32m<ipython-input-171-5af0d3e11dfd>\u001b[0m in \u001b[0;36m<module>\u001b[1;34m\u001b[0m\n\u001b[0;32m      2\u001b[0m \u001b[0mdata\u001b[0m\u001b[1;33m[\u001b[0m\u001b[1;34m'character_count'\u001b[0m\u001b[1;33m]\u001b[0m \u001b[1;33m=\u001b[0m \u001b[0mdata\u001b[0m\u001b[1;33m.\u001b[0m\u001b[0mcleaned_text\u001b[0m\u001b[1;33m.\u001b[0m\u001b[0mapply\u001b[0m\u001b[1;33m(\u001b[0m\u001b[1;32mlambda\u001b[0m \u001b[0mx\u001b[0m\u001b[1;33m:\u001b[0m \u001b[0mcharacter_count\u001b[0m\u001b[1;33m(\u001b[0m\u001b[0mx\u001b[0m\u001b[1;33m)\u001b[0m\u001b[1;33m)\u001b[0m\u001b[1;33m\u001b[0m\u001b[1;33m\u001b[0m\u001b[0m\n\u001b[0;32m      3\u001b[0m \u001b[0mdata\u001b[0m\u001b[1;33m[\u001b[0m\u001b[1;34m'sentence_count'\u001b[0m\u001b[1;33m]\u001b[0m \u001b[1;33m=\u001b[0m \u001b[0mdata\u001b[0m\u001b[1;33m.\u001b[0m\u001b[0mcleaned_text\u001b[0m\u001b[1;33m.\u001b[0m\u001b[0mapply\u001b[0m\u001b[1;33m(\u001b[0m\u001b[1;32mlambda\u001b[0m \u001b[0mx\u001b[0m\u001b[1;33m:\u001b[0m \u001b[0msentence_count\u001b[0m\u001b[1;33m(\u001b[0m\u001b[0mx\u001b[0m\u001b[1;33m)\u001b[0m\u001b[1;33m)\u001b[0m\u001b[1;33m\u001b[0m\u001b[1;33m\u001b[0m\u001b[0m\n\u001b[1;32m----> 4\u001b[1;33m \u001b[0mdata\u001b[0m\u001b[1;33m[\u001b[0m\u001b[1;34m'average_word_length'\u001b[0m\u001b[1;33m]\u001b[0m \u001b[1;33m=\u001b[0m \u001b[0mdata\u001b[0m\u001b[1;33m.\u001b[0m\u001b[0mcleaned_text\u001b[0m\u001b[1;33m.\u001b[0m\u001b[0mapply\u001b[0m\u001b[1;33m(\u001b[0m\u001b[1;32mlambda\u001b[0m \u001b[0mx\u001b[0m\u001b[1;33m:\u001b[0m \u001b[0maverage_word_length\u001b[0m\u001b[1;33m(\u001b[0m\u001b[0mx\u001b[0m\u001b[1;33m)\u001b[0m\u001b[1;33m)\u001b[0m\u001b[1;33m\u001b[0m\u001b[1;33m\u001b[0m\u001b[0m\n\u001b[0m",
      "\u001b[1;32m~\\anaconda3\\envs\\learn-env\\lib\\site-packages\\pandas\\core\\series.py\u001b[0m in \u001b[0;36mapply\u001b[1;34m(self, func, convert_dtype, args, **kwds)\u001b[0m\n\u001b[0;32m   4198\u001b[0m             \u001b[1;32melse\u001b[0m\u001b[1;33m:\u001b[0m\u001b[1;33m\u001b[0m\u001b[1;33m\u001b[0m\u001b[0m\n\u001b[0;32m   4199\u001b[0m                 \u001b[0mvalues\u001b[0m \u001b[1;33m=\u001b[0m \u001b[0mself\u001b[0m\u001b[1;33m.\u001b[0m\u001b[0mastype\u001b[0m\u001b[1;33m(\u001b[0m\u001b[0mobject\u001b[0m\u001b[1;33m)\u001b[0m\u001b[1;33m.\u001b[0m\u001b[0m_values\u001b[0m\u001b[1;33m\u001b[0m\u001b[1;33m\u001b[0m\u001b[0m\n\u001b[1;32m-> 4200\u001b[1;33m                 \u001b[0mmapped\u001b[0m \u001b[1;33m=\u001b[0m \u001b[0mlib\u001b[0m\u001b[1;33m.\u001b[0m\u001b[0mmap_infer\u001b[0m\u001b[1;33m(\u001b[0m\u001b[0mvalues\u001b[0m\u001b[1;33m,\u001b[0m \u001b[0mf\u001b[0m\u001b[1;33m,\u001b[0m \u001b[0mconvert\u001b[0m\u001b[1;33m=\u001b[0m\u001b[0mconvert_dtype\u001b[0m\u001b[1;33m)\u001b[0m\u001b[1;33m\u001b[0m\u001b[1;33m\u001b[0m\u001b[0m\n\u001b[0m\u001b[0;32m   4201\u001b[0m \u001b[1;33m\u001b[0m\u001b[0m\n\u001b[0;32m   4202\u001b[0m         \u001b[1;32mif\u001b[0m \u001b[0mlen\u001b[0m\u001b[1;33m(\u001b[0m\u001b[0mmapped\u001b[0m\u001b[1;33m)\u001b[0m \u001b[1;32mand\u001b[0m \u001b[0misinstance\u001b[0m\u001b[1;33m(\u001b[0m\u001b[0mmapped\u001b[0m\u001b[1;33m[\u001b[0m\u001b[1;36m0\u001b[0m\u001b[1;33m]\u001b[0m\u001b[1;33m,\u001b[0m \u001b[0mSeries\u001b[0m\u001b[1;33m)\u001b[0m\u001b[1;33m:\u001b[0m\u001b[1;33m\u001b[0m\u001b[1;33m\u001b[0m\u001b[0m\n",
      "\u001b[1;32mpandas\\_libs\\lib.pyx\u001b[0m in \u001b[0;36mpandas._libs.lib.map_infer\u001b[1;34m()\u001b[0m\n",
      "\u001b[1;32m<ipython-input-171-5af0d3e11dfd>\u001b[0m in \u001b[0;36m<lambda>\u001b[1;34m(x)\u001b[0m\n\u001b[0;32m      2\u001b[0m \u001b[0mdata\u001b[0m\u001b[1;33m[\u001b[0m\u001b[1;34m'character_count'\u001b[0m\u001b[1;33m]\u001b[0m \u001b[1;33m=\u001b[0m \u001b[0mdata\u001b[0m\u001b[1;33m.\u001b[0m\u001b[0mcleaned_text\u001b[0m\u001b[1;33m.\u001b[0m\u001b[0mapply\u001b[0m\u001b[1;33m(\u001b[0m\u001b[1;32mlambda\u001b[0m \u001b[0mx\u001b[0m\u001b[1;33m:\u001b[0m \u001b[0mcharacter_count\u001b[0m\u001b[1;33m(\u001b[0m\u001b[0mx\u001b[0m\u001b[1;33m)\u001b[0m\u001b[1;33m)\u001b[0m\u001b[1;33m\u001b[0m\u001b[1;33m\u001b[0m\u001b[0m\n\u001b[0;32m      3\u001b[0m \u001b[0mdata\u001b[0m\u001b[1;33m[\u001b[0m\u001b[1;34m'sentence_count'\u001b[0m\u001b[1;33m]\u001b[0m \u001b[1;33m=\u001b[0m \u001b[0mdata\u001b[0m\u001b[1;33m.\u001b[0m\u001b[0mcleaned_text\u001b[0m\u001b[1;33m.\u001b[0m\u001b[0mapply\u001b[0m\u001b[1;33m(\u001b[0m\u001b[1;32mlambda\u001b[0m \u001b[0mx\u001b[0m\u001b[1;33m:\u001b[0m \u001b[0msentence_count\u001b[0m\u001b[1;33m(\u001b[0m\u001b[0mx\u001b[0m\u001b[1;33m)\u001b[0m\u001b[1;33m)\u001b[0m\u001b[1;33m\u001b[0m\u001b[1;33m\u001b[0m\u001b[0m\n\u001b[1;32m----> 4\u001b[1;33m \u001b[0mdata\u001b[0m\u001b[1;33m[\u001b[0m\u001b[1;34m'average_word_length'\u001b[0m\u001b[1;33m]\u001b[0m \u001b[1;33m=\u001b[0m \u001b[0mdata\u001b[0m\u001b[1;33m.\u001b[0m\u001b[0mcleaned_text\u001b[0m\u001b[1;33m.\u001b[0m\u001b[0mapply\u001b[0m\u001b[1;33m(\u001b[0m\u001b[1;32mlambda\u001b[0m \u001b[0mx\u001b[0m\u001b[1;33m:\u001b[0m \u001b[0maverage_word_length\u001b[0m\u001b[1;33m(\u001b[0m\u001b[0mx\u001b[0m\u001b[1;33m)\u001b[0m\u001b[1;33m)\u001b[0m\u001b[1;33m\u001b[0m\u001b[1;33m\u001b[0m\u001b[0m\n\u001b[0m",
      "\u001b[1;32m<ipython-input-83-005909f3f66c>\u001b[0m in \u001b[0;36maverage_word_length\u001b[1;34m(text)\u001b[0m\n\u001b[0;32m     12\u001b[0m     \u001b[0mwords\u001b[0m \u001b[1;33m=\u001b[0m \u001b[0mword_tokenize\u001b[0m\u001b[1;33m(\u001b[0m\u001b[0mtext\u001b[0m\u001b[1;33m)\u001b[0m\u001b[1;33m\u001b[0m\u001b[1;33m\u001b[0m\u001b[0m\n\u001b[0;32m     13\u001b[0m     \u001b[0mtotal_word_length\u001b[0m \u001b[1;33m=\u001b[0m \u001b[0msum\u001b[0m\u001b[1;33m(\u001b[0m\u001b[0mlen\u001b[0m\u001b[1;33m(\u001b[0m\u001b[0mword\u001b[0m\u001b[1;33m)\u001b[0m \u001b[1;32mfor\u001b[0m \u001b[0mword\u001b[0m \u001b[1;32min\u001b[0m \u001b[0mwords\u001b[0m\u001b[1;33m)\u001b[0m\u001b[1;33m\u001b[0m\u001b[1;33m\u001b[0m\u001b[0m\n\u001b[1;32m---> 14\u001b[1;33m     \u001b[0mavg_word_length\u001b[0m \u001b[1;33m=\u001b[0m \u001b[0mtotal_word_length\u001b[0m \u001b[1;33m/\u001b[0m \u001b[0mlen\u001b[0m\u001b[1;33m(\u001b[0m\u001b[0mwords\u001b[0m\u001b[1;33m)\u001b[0m\u001b[1;33m\u001b[0m\u001b[1;33m\u001b[0m\u001b[0m\n\u001b[0m\u001b[0;32m     15\u001b[0m     \u001b[1;32mreturn\u001b[0m \u001b[0mavg_word_length\u001b[0m\u001b[1;33m\u001b[0m\u001b[1;33m\u001b[0m\u001b[0m\n",
      "\u001b[1;31mZeroDivisionError\u001b[0m: division by zero"
     ]
    }
   ],
   "source": [
    "data['word_count'] = data.cleaned_text.apply(lambda x: word_count(x))\n",
    "data['character_count'] = data.cleaned_text.apply(lambda x: character_count(x))\n",
    "data['sentence_count'] = data.cleaned_text.apply(lambda x: sentence_count(x))\n",
    "data['average_word_length'] = data.cleaned_text.apply(lambda x: average_word_length(x))"
   ]
  },
  {
   "cell_type": "code",
   "execution_count": 172,
   "metadata": {},
   "outputs": [
    {
     "data": {
      "text/html": [
       "<div>\n",
       "<style scoped>\n",
       "    .dataframe tbody tr th:only-of-type {\n",
       "        vertical-align: middle;\n",
       "    }\n",
       "\n",
       "    .dataframe tbody tr th {\n",
       "        vertical-align: top;\n",
       "    }\n",
       "\n",
       "    .dataframe thead th {\n",
       "        text-align: right;\n",
       "    }\n",
       "</style>\n",
       "<table border=\"1\" class=\"dataframe\">\n",
       "  <thead>\n",
       "    <tr style=\"text-align: right;\">\n",
       "      <th></th>\n",
       "      <th>sentiment</th>\n",
       "      <th>word_count</th>\n",
       "      <th>character_count</th>\n",
       "      <th>sentence_count</th>\n",
       "    </tr>\n",
       "  </thead>\n",
       "  <tbody>\n",
       "    <tr>\n",
       "      <th>count</th>\n",
       "      <td>116411.000000</td>\n",
       "      <td>116411.000000</td>\n",
       "      <td>116411.000000</td>\n",
       "      <td>116411.000000</td>\n",
       "    </tr>\n",
       "    <tr>\n",
       "      <th>mean</th>\n",
       "      <td>0.837352</td>\n",
       "      <td>27.876996</td>\n",
       "      <td>156.177243</td>\n",
       "      <td>0.999845</td>\n",
       "    </tr>\n",
       "    <tr>\n",
       "      <th>std</th>\n",
       "      <td>0.369046</td>\n",
       "      <td>32.617225</td>\n",
       "      <td>185.001153</td>\n",
       "      <td>0.012434</td>\n",
       "    </tr>\n",
       "    <tr>\n",
       "      <th>min</th>\n",
       "      <td>0.000000</td>\n",
       "      <td>0.000000</td>\n",
       "      <td>0.000000</td>\n",
       "      <td>0.000000</td>\n",
       "    </tr>\n",
       "    <tr>\n",
       "      <th>25%</th>\n",
       "      <td>1.000000</td>\n",
       "      <td>8.000000</td>\n",
       "      <td>44.000000</td>\n",
       "      <td>1.000000</td>\n",
       "    </tr>\n",
       "    <tr>\n",
       "      <th>50%</th>\n",
       "      <td>1.000000</td>\n",
       "      <td>16.000000</td>\n",
       "      <td>90.000000</td>\n",
       "      <td>1.000000</td>\n",
       "    </tr>\n",
       "    <tr>\n",
       "      <th>75%</th>\n",
       "      <td>1.000000</td>\n",
       "      <td>34.000000</td>\n",
       "      <td>190.000000</td>\n",
       "      <td>1.000000</td>\n",
       "    </tr>\n",
       "    <tr>\n",
       "      <th>max</th>\n",
       "      <td>1.000000</td>\n",
       "      <td>260.000000</td>\n",
       "      <td>1777.000000</td>\n",
       "      <td>1.000000</td>\n",
       "    </tr>\n",
       "  </tbody>\n",
       "</table>\n",
       "</div>"
      ],
      "text/plain": [
       "           sentiment     word_count  character_count  sentence_count\n",
       "count  116411.000000  116411.000000    116411.000000   116411.000000\n",
       "mean        0.837352      27.876996       156.177243        0.999845\n",
       "std         0.369046      32.617225       185.001153        0.012434\n",
       "min         0.000000       0.000000         0.000000        0.000000\n",
       "25%         1.000000       8.000000        44.000000        1.000000\n",
       "50%         1.000000      16.000000        90.000000        1.000000\n",
       "75%         1.000000      34.000000       190.000000        1.000000\n",
       "max         1.000000     260.000000      1777.000000        1.000000"
      ]
     },
     "execution_count": 172,
     "metadata": {},
     "output_type": "execute_result"
    }
   ],
   "source": [
    "data.describe()"
   ]
  },
  {
   "cell_type": "code",
   "execution_count": 176,
   "metadata": {},
   "outputs": [],
   "source": [
    "data_fil = data[data.word_count > 0]"
   ]
  },
  {
   "cell_type": "code",
   "execution_count": 178,
   "metadata": {},
   "outputs": [
    {
     "data": {
      "text/html": [
       "<div>\n",
       "<style scoped>\n",
       "    .dataframe tbody tr th:only-of-type {\n",
       "        vertical-align: middle;\n",
       "    }\n",
       "\n",
       "    .dataframe tbody tr th {\n",
       "        vertical-align: top;\n",
       "    }\n",
       "\n",
       "    .dataframe thead th {\n",
       "        text-align: right;\n",
       "    }\n",
       "</style>\n",
       "<table border=\"1\" class=\"dataframe\">\n",
       "  <thead>\n",
       "    <tr style=\"text-align: right;\">\n",
       "      <th></th>\n",
       "      <th>sentiment</th>\n",
       "      <th>word_count</th>\n",
       "      <th>character_count</th>\n",
       "      <th>sentence_count</th>\n",
       "    </tr>\n",
       "  </thead>\n",
       "  <tbody>\n",
       "    <tr>\n",
       "      <th>count</th>\n",
       "      <td>116393.000000</td>\n",
       "      <td>116393.000000</td>\n",
       "      <td>116393.000000</td>\n",
       "      <td>116393.0</td>\n",
       "    </tr>\n",
       "    <tr>\n",
       "      <th>mean</th>\n",
       "      <td>0.837344</td>\n",
       "      <td>27.881307</td>\n",
       "      <td>156.201395</td>\n",
       "      <td>1.0</td>\n",
       "    </tr>\n",
       "    <tr>\n",
       "      <th>std</th>\n",
       "      <td>0.369053</td>\n",
       "      <td>32.617905</td>\n",
       "      <td>185.005262</td>\n",
       "      <td>0.0</td>\n",
       "    </tr>\n",
       "    <tr>\n",
       "      <th>min</th>\n",
       "      <td>0.000000</td>\n",
       "      <td>1.000000</td>\n",
       "      <td>2.000000</td>\n",
       "      <td>1.0</td>\n",
       "    </tr>\n",
       "    <tr>\n",
       "      <th>25%</th>\n",
       "      <td>1.000000</td>\n",
       "      <td>8.000000</td>\n",
       "      <td>44.000000</td>\n",
       "      <td>1.0</td>\n",
       "    </tr>\n",
       "    <tr>\n",
       "      <th>50%</th>\n",
       "      <td>1.000000</td>\n",
       "      <td>16.000000</td>\n",
       "      <td>90.000000</td>\n",
       "      <td>1.0</td>\n",
       "    </tr>\n",
       "    <tr>\n",
       "      <th>75%</th>\n",
       "      <td>1.000000</td>\n",
       "      <td>34.000000</td>\n",
       "      <td>190.000000</td>\n",
       "      <td>1.0</td>\n",
       "    </tr>\n",
       "    <tr>\n",
       "      <th>max</th>\n",
       "      <td>1.000000</td>\n",
       "      <td>260.000000</td>\n",
       "      <td>1777.000000</td>\n",
       "      <td>1.0</td>\n",
       "    </tr>\n",
       "  </tbody>\n",
       "</table>\n",
       "</div>"
      ],
      "text/plain": [
       "           sentiment     word_count  character_count  sentence_count\n",
       "count  116393.000000  116393.000000    116393.000000        116393.0\n",
       "mean        0.837344      27.881307       156.201395             1.0\n",
       "std         0.369053      32.617905       185.005262             0.0\n",
       "min         0.000000       1.000000         2.000000             1.0\n",
       "25%         1.000000       8.000000        44.000000             1.0\n",
       "50%         1.000000      16.000000        90.000000             1.0\n",
       "75%         1.000000      34.000000       190.000000             1.0\n",
       "max         1.000000     260.000000      1777.000000             1.0"
      ]
     },
     "execution_count": 178,
     "metadata": {},
     "output_type": "execute_result"
    }
   ],
   "source": [
    "data_fil.describe()"
   ]
  },
  {
   "cell_type": "code",
   "execution_count": 179,
   "metadata": {},
   "outputs": [
    {
     "data": {
      "text/plain": [
       "<AxesSubplot:>"
      ]
     },
     "execution_count": 179,
     "metadata": {},
     "output_type": "execute_result"
    },
    {
     "data": {
      "image/png": "[encoded data removed]",
      "text/plain": [
       "<Figure size 432x288 with 1 Axes>"
      ]
     },
     "metadata": {
      "needs_background": "light"
     },
     "output_type": "display_data"
    }
   ],
   "source": [
    "data_fil.word_count.hist()"
   ]
  },
  {
   "cell_type": "code",
   "execution_count": 183,
   "metadata": {},
   "outputs": [],
   "source": [
    "df2 = data[data.word_count < 100]"
   ]
  },
  {
   "cell_type": "code",
   "execution_count": 184,
   "metadata": {},
   "outputs": [
    {
     "data": {
      "text/html": [
       "<div>\n",
       "<style scoped>\n",
       "    .dataframe tbody tr th:only-of-type {\n",
       "        vertical-align: middle;\n",
       "    }\n",
       "\n",
       "    .dataframe tbody tr th {\n",
       "        vertical-align: top;\n",
       "    }\n",
       "\n",
       "    .dataframe thead th {\n",
       "        text-align: right;\n",
       "    }\n",
       "</style>\n",
       "<table border=\"1\" class=\"dataframe\">\n",
       "  <thead>\n",
       "    <tr style=\"text-align: right;\">\n",
       "      <th></th>\n",
       "      <th>sentiment</th>\n",
       "      <th>word_count</th>\n",
       "      <th>character_count</th>\n",
       "      <th>sentence_count</th>\n",
       "    </tr>\n",
       "  </thead>\n",
       "  <tbody>\n",
       "    <tr>\n",
       "      <th>count</th>\n",
       "      <td>111030.000000</td>\n",
       "      <td>111030.000000</td>\n",
       "      <td>111030.000000</td>\n",
       "      <td>111030.000000</td>\n",
       "    </tr>\n",
       "    <tr>\n",
       "      <th>mean</th>\n",
       "      <td>0.841475</td>\n",
       "      <td>22.439125</td>\n",
       "      <td>125.370098</td>\n",
       "      <td>0.999838</td>\n",
       "    </tr>\n",
       "    <tr>\n",
       "      <th>std</th>\n",
       "      <td>0.365234</td>\n",
       "      <td>20.591092</td>\n",
       "      <td>116.306831</td>\n",
       "      <td>0.012732</td>\n",
       "    </tr>\n",
       "    <tr>\n",
       "      <th>min</th>\n",
       "      <td>0.000000</td>\n",
       "      <td>0.000000</td>\n",
       "      <td>0.000000</td>\n",
       "      <td>0.000000</td>\n",
       "    </tr>\n",
       "    <tr>\n",
       "      <th>25%</th>\n",
       "      <td>1.000000</td>\n",
       "      <td>8.000000</td>\n",
       "      <td>42.000000</td>\n",
       "      <td>1.000000</td>\n",
       "    </tr>\n",
       "    <tr>\n",
       "      <th>50%</th>\n",
       "      <td>1.000000</td>\n",
       "      <td>15.000000</td>\n",
       "      <td>85.000000</td>\n",
       "      <td>1.000000</td>\n",
       "    </tr>\n",
       "    <tr>\n",
       "      <th>75%</th>\n",
       "      <td>1.000000</td>\n",
       "      <td>30.000000</td>\n",
       "      <td>168.000000</td>\n",
       "      <td>1.000000</td>\n",
       "    </tr>\n",
       "    <tr>\n",
       "      <th>max</th>\n",
       "      <td>1.000000</td>\n",
       "      <td>99.000000</td>\n",
       "      <td>698.000000</td>\n",
       "      <td>1.000000</td>\n",
       "    </tr>\n",
       "  </tbody>\n",
       "</table>\n",
       "</div>"
      ],
      "text/plain": [
       "           sentiment     word_count  character_count  sentence_count\n",
       "count  111030.000000  111030.000000    111030.000000   111030.000000\n",
       "mean        0.841475      22.439125       125.370098        0.999838\n",
       "std         0.365234      20.591092       116.306831        0.012732\n",
       "min         0.000000       0.000000         0.000000        0.000000\n",
       "25%         1.000000       8.000000        42.000000        1.000000\n",
       "50%         1.000000      15.000000        85.000000        1.000000\n",
       "75%         1.000000      30.000000       168.000000        1.000000\n",
       "max         1.000000      99.000000       698.000000        1.000000"
      ]
     },
     "execution_count": 184,
     "metadata": {},
     "output_type": "execute_result"
    }
   ],
   "source": [
    "df2.describe()"
   ]
  },
  {
   "cell_type": "code",
   "execution_count": 185,
   "metadata": {},
   "outputs": [
    {
     "data": {
      "text/plain": [
       "<AxesSubplot:>"
      ]
     },
     "execution_count": 185,
     "metadata": {},
     "output_type": "execute_result"
    },
    {
     "data": {
      "image/png": "[encoded data removed]",
      "text/plain": [
       "<Figure size 432x288 with 1 Axes>"
      ]
     },
     "metadata": {
      "needs_background": "light"
     },
     "output_type": "display_data"
    }
   ],
   "source": [
    "df2.word_count.hist()"
   ]
  },
  {
   "cell_type": "code",
   "execution_count": 186,
   "metadata": {},
   "outputs": [
    {
     "data": {
      "text/html": [
       "<div>\n",
       "<style scoped>\n",
       "    .dataframe tbody tr th:only-of-type {\n",
       "        vertical-align: middle;\n",
       "    }\n",
       "\n",
       "    .dataframe tbody tr th {\n",
       "        vertical-align: top;\n",
       "    }\n",
       "\n",
       "    .dataframe thead th {\n",
       "        text-align: right;\n",
       "    }\n",
       "</style>\n",
       "<table border=\"1\" class=\"dataframe\">\n",
       "  <thead>\n",
       "    <tr style=\"text-align: right;\">\n",
       "      <th></th>\n",
       "      <th>reviewText</th>\n",
       "      <th>sentiment</th>\n",
       "      <th>cleaned_text</th>\n",
       "      <th>word_count</th>\n",
       "      <th>character_count</th>\n",
       "      <th>sentence_count</th>\n",
       "    </tr>\n",
       "  </thead>\n",
       "  <tbody>\n",
       "    <tr>\n",
       "      <th>0</th>\n",
       "      <td>i bought this lens for my rebel 2000 camera an...</td>\n",
       "      <td>1</td>\n",
       "      <td>bought lens rebel 2000 camera pleased results ...</td>\n",
       "      <td>24</td>\n",
       "      <td>126</td>\n",
       "      <td>1</td>\n",
       "    </tr>\n",
       "    <tr>\n",
       "      <th>2</th>\n",
       "      <td>i bought this lens about six months after repl...</td>\n",
       "      <td>1</td>\n",
       "      <td>bought lens six months replacing 20 year old s...</td>\n",
       "      <td>85</td>\n",
       "      <td>472</td>\n",
       "      <td>1</td>\n",
       "    </tr>\n",
       "    <tr>\n",
       "      <th>3</th>\n",
       "      <td>bought this as a replacement and it was worth ...</td>\n",
       "      <td>1</td>\n",
       "      <td>bought replacement worth money spent less 13 n...</td>\n",
       "      <td>14</td>\n",
       "      <td>73</td>\n",
       "      <td>1</td>\n",
       "    </tr>\n",
       "    <tr>\n",
       "      <th>5</th>\n",
       "      <td>good for starters.</td>\n",
       "      <td>1</td>\n",
       "      <td>good starters</td>\n",
       "      <td>2</td>\n",
       "      <td>12</td>\n",
       "      <td>1</td>\n",
       "    </tr>\n",
       "    <tr>\n",
       "      <th>6</th>\n",
       "      <td>just like new...</td>\n",
       "      <td>1</td>\n",
       "      <td>like new</td>\n",
       "      <td>2</td>\n",
       "      <td>7</td>\n",
       "      <td>1</td>\n",
       "    </tr>\n",
       "  </tbody>\n",
       "</table>\n",
       "</div>"
      ],
      "text/plain": [
       "                                          reviewText  sentiment  \\\n",
       "0  i bought this lens for my rebel 2000 camera an...          1   \n",
       "2  i bought this lens about six months after repl...          1   \n",
       "3  bought this as a replacement and it was worth ...          1   \n",
       "5                                 good for starters.          1   \n",
       "6                                   just like new...          1   \n",
       "\n",
       "                                        cleaned_text  word_count  \\\n",
       "0  bought lens rebel 2000 camera pleased results ...          24   \n",
       "2  bought lens six months replacing 20 year old s...          85   \n",
       "3  bought replacement worth money spent less 13 n...          14   \n",
       "5                                      good starters           2   \n",
       "6                                           like new           2   \n",
       "\n",
       "   character_count  sentence_count  \n",
       "0              126               1  \n",
       "2              472               1  \n",
       "3               73               1  \n",
       "5               12               1  \n",
       "6                7               1  "
      ]
     },
     "execution_count": 186,
     "metadata": {},
     "output_type": "execute_result"
    }
   ],
   "source": [
    "df2.head()"
   ]
  },
  {
   "cell_type": "code",
   "execution_count": 187,
   "metadata": {},
   "outputs": [],
   "source": [
    "def gen_words(texts):\n",
    "    final = []\n",
    "    for text in texts:\n",
    "        new = gensim.utils.simple_preprocess(text, deacc=True)\n",
    "        final.append(new)\n",
    "    return (final)"
   ]
  },
  {
   "cell_type": "code",
   "execution_count": 190,
   "metadata": {},
   "outputs": [],
   "source": [
    "data_words = gen_words(df2.cleaned_text)"
   ]
  },
  {
   "cell_type": "code",
   "execution_count": 191,
   "metadata": {},
   "outputs": [
    {
     "data": {
      "text/html": [
       "<style>.container { max-width:100% !important; }</style>"
      ],
      "text/plain": [
       "<IPython.core.display.HTML object>"
      ]
     },
     "metadata": {},
     "output_type": "display_data"
    },
    {
     "data": {
      "text/html": [
       "<style>.output_result { max-width:100% !important; }</style>"
      ],
      "text/plain": [
       "<IPython.core.display.HTML object>"
      ]
     },
     "metadata": {},
     "output_type": "display_data"
    },
    {
     "data": {
      "text/html": [
       "<style>.output_area { max-width:100% !important; }</style>"
      ],
      "text/plain": [
       "<IPython.core.display.HTML object>"
      ]
     },
     "metadata": {},
     "output_type": "display_data"
    },
    {
     "data": {
      "text/html": [
       "<style>.input_area { max-width:100% !important; }</style>"
      ],
      "text/plain": [
       "<IPython.core.display.HTML object>"
      ]
     },
     "metadata": {},
     "output_type": "display_data"
    }
   ],
   "source": [
    "from IPython.core.display import display, HTML\n",
    "display(HTML(\"<style>.container { max-width:100% !important; }</style>\"))\n",
    "display(HTML(\"<style>.output_result { max-width:100% !important; }</style>\"))\n",
    "display(HTML(\"<style>.output_area { max-width:100% !important; }</style>\"))\n",
    "display(HTML(\"<style>.input_area { max-width:100% !important; }</style>\"))"
   ]
  },
  {
   "cell_type": "code",
   "execution_count": 192,
   "metadata": {},
   "outputs": [
    {
     "name": "stdout",
     "output_type": "stream",
     "text": [
      "[[(0, 1), (1, 1), (2, 1), (3, 1), (4, 1), (5, 1), (6, 1), (7, 1), (8, 1), (9, 1), (10, 1), (11, 2), (12, 1), (13, 1), (14, 1), (15, 1), (16, 1), (17, 1), (18, 1), (19, 1), (20, 1)]]\n"
     ]
    }
   ],
   "source": [
    "id2word = corpora.Dictionary(data_words)\n",
    "\n",
    "# Create Corpus\n",
    "texts = data_words\n",
    "\n",
    "# Term Document Frequency\n",
    "corpus = [id2word.doc2bow(text) for text in texts]\n",
    "\n",
    "# View\n",
    "print(corpus[:1])"
   ]
  },
  {
   "cell_type": "code",
   "execution_count": 193,
   "metadata": {},
   "outputs": [],
   "source": [
    "lda_model = gensim.models.ldamodel.LdaModel(corpus=corpus,\n",
    "                                           id2word=id2word,\n",
    "                                           num_topics=6, \n",
    "                                           random_state=100,\n",
    "                                           update_every=1,\n",
    "                                           chunksize=100,\n",
    "                                           passes=5,\n",
    "                                           alpha='symmetric',\n",
    "                                           per_word_topics=True)"
   ]
  },
  {
   "cell_type": "code",
   "execution_count": 194,
   "metadata": {},
   "outputs": [
    {
     "data": {
      "text/html": [
       "\n",
       "<link rel=\"stylesheet\" type=\"text/css\" href=\"https://cdn.jsdelivr.net/gh/bmabey/pyLDAvis@3.3.1/pyLDAvis/js/ldavis.v1.0.0.css\">\n",
       "\n",
       "\n",
       "<div id=\"ldavis_el602418434506979841569761670\"></div>\n",
       "<script type=\"text/javascript\">\n",
       "\n",
       "var ldavis_el602418434506979841569761670_data = {\"mdsDat\": {\"x\": [-0.24642238480648113, -0.19233709426569293, -0.10501945527252912, 0.023315047236705074, 0.2376361038035932, 0.2828277833044048], \"y\": [0.025202637565678032, -0.01789862068602869, 0.04661991795391707, -0.03263052603181362, -0.3196843704940991, 0.29839096169234625], \"topics\": [1, 2, 3, 4, 5, 6], \"cluster\": [1, 1, 1, 1, 1, 1], \"Freq\": [21.665990652459307, 20.952091692851383, 18.622921206426685, 16.562906558238367, 11.535674165277335, 10.660415724746924]}, \"tinfo\": {\"Term\": [\"quality\", \"set\", \"great\", \"price\", \"good\", \"video\", \"setup\", \"camera\", \"works\", \"phone\", \"easy\", \"app\", \"cameras\", \"home\", \"work\", \"product\", \"one\", \"service\", \"time\", \"would\", \"card\", \"excellent\", \"light\", \"working\", \"picture\", \"install\", \"motion\", \"system\", \"lens\", \"software\", \"time\", \"support\", \"view\", \"vision\", \"frame\", \"first\", \"going\", \"customer\", \"setting\", \"resolution\", \"email\", \"months\", \"viewing\", \"review\", \"days\", \"computer\", \"problems\", \"internet\", \"may\", \"couple\", \"baby\", \"videos\", \"item\", \"someone\", \"reviews\", \"year\", \"version\", \"read\", \"company\", \"interface\", \"nest\", \"day\", \"one\", \"another\", \"see\", \"times\", \"would\", \"back\", \"purchased\", \"clear\", \"every\", \"bought\", \"even\", \"get\", \"new\", \"need\", \"night\", \"buy\", \"still\", \"good\", \"could\", \"better\", \"much\", \"product\", \"like\", \"quality\", \"price\", \"service\", \"excellent\", \"light\", \"lens\", \"needed\", \"turn\", \"amazing\", \"super\", \"high\", \"add\", \"products\", \"maybe\", \"terrible\", \"spent\", \"clarity\", \"mm\", \"cool\", \"completely\", \"arrived\", \"thanks\", \"helped\", \"beat\", \"sharp\", \"gone\", \"replacement\", \"purpose\", \"near\", \"compared\", \"expected\", \"great\", \"good\", \"works\", \"product\", \"deal\", \"nice\", \"well\", \"low\", \"worth\", \"image\", \"recommend\", \"love\", \"exactly\", \"everything\", \"go\", \"really\", \"buy\", \"pretty\", \"issues\", \"need\", \"like\", \"phone\", \"home\", \"software\", \"security\", \"house\", \"connect\", \"iphone\", \"around\", \"power\", \"remote\", \"tech\", \"access\", \"trying\", \"mount\", \"eye\", \"pay\", \"model\", \"difficult\", \"scope\", \"telescope\", \"returned\", \"job\", \"mine\", \"mobile\", \"says\", \"longer\", \"helpful\", \"least\", \"week\", \"done\", \"little\", \"case\", \"camera\", \"keep\", \"bit\", \"yi\", \"like\", \"would\", \"could\", \"get\", \"way\", \"one\", \"use\", \"well\", \"nice\", \"really\", \"enough\", \"app\", \"work\", \"picture\", \"system\", \"motion\", \"wifi\", \"worked\", \"cloud\", \"make\", \"network\", \"detection\", \"best\", \"problem\", \"alerts\", \"record\", \"wireless\", \"device\", \"router\", \"connection\", \"dlink\", \"feature\", \"android\", \"minutes\", \"alert\", \"settings\", \"watch\", \"running\", \"ip\", \"say\", \"foscam\", \"easy\", \"cameras\", \"camera\", \"zmodo\", \"use\", \"great\", \"works\", \"pictures\", \"night\", \"tried\", \"able\", \"also\", \"got\", \"love\", \"well\", \"get\", \"setup\", \"install\", \"update\", \"sound\", \"made\", \"help\", \"firmware\", \"front\", \"ok\", \"installed\", \"try\", \"check\", \"connected\", \"things\", \"easily\", \"figure\", \"went\", \"angle\", \"side\", \"play\", \"change\", \"inside\", \"ordered\", \"part\", \"three\", \"digital\", \"ability\", \"extremely\", \"adapter\", \"wide\", \"account\", \"two\", \"live\", \"cameras\", \"go\", \"camera\", \"stars\", \"yi\", \"got\", \"set\", \"video\", \"card\", \"working\", \"monitor\", \"sd\", \"audio\", \"room\", \"know\", \"unit\", \"second\", \"perfect\", \"screen\", \"storage\", \"hd\", \"needs\", \"area\", \"us\", \"usb\", \"door\", \"installation\", \"web\", \"fit\", \"useless\", \"mode\", \"gb\", \"run\", \"impressed\", \"cable\", \"ir\", \"two\", \"camera\"], \"Freq\": [33224.0, 21740.0, 45497.0, 24310.0, 36573.0, 15200.0, 15047.0, 48443.0, 26812.0, 15707.0, 15763.0, 13785.0, 17924.0, 11580.0, 10820.0, 17024.0, 17559.0, 10708.0, 10634.0, 17901.0, 6227.0, 8702.0, 8614.0, 5965.0, 7403.0, 5728.0, 6842.0, 6806.0, 7646.0, 6956.0, 10634.043334255544, 6183.182838035978, 5744.850278307048, 5719.624541653974, 4562.952569915624, 4256.6008723684545, 3715.3232989093194, 3230.571730106235, 2983.9571687797097, 2688.2654093198025, 2552.1269484418126, 2501.1773860940734, 2495.747138061981, 2470.2326860794888, 2110.5367296566965, 2098.3279158624237, 2005.6467443370934, 2005.302563340065, 1968.439199072418, 1903.071134401991, 1907.3620710938667, 1881.2420270760483, 1814.1812187969704, 1811.881658745319, 1806.163430028413, 1795.1655554232582, 1790.5976577156307, 1722.5343044334686, 1706.1824623942819, 1707.7394191919389, 1786.4165503920703, 5061.909961428504, 12568.457590929087, 3805.155885982189, 5710.738280522584, 2570.6162389566757, 10298.11288589438, 4073.30434994457, 3307.293114929442, 4844.506093969314, 2491.352983803227, 5283.610520295635, 4798.129939163733, 7306.664056323426, 2742.159182359305, 4630.377761918343, 4877.313362936868, 4528.546714289513, 3621.2990746068976, 8168.020651520712, 4059.692609837969, 3916.2471288459046, 3499.569932994044, 4428.091900885726, 3476.0473474148457, 33223.99447803745, 24309.542731784077, 10708.017609157969, 8701.94082250103, 8614.115540873972, 7645.449080859272, 5188.0291957747095, 5071.9758478755275, 4233.634012486716, 3742.145251854545, 3334.2783485513605, 2600.0412426739263, 2511.8851337936626, 2245.7775900829415, 2120.9910657745027, 1863.9475257262445, 1789.5044077821117, 1696.0735342361995, 1678.3944052637805, 1615.6495947506603, 1581.4314712443052, 1512.145540491793, 1500.8467359785748, 1465.9404349505185, 1447.316897183693, 1466.5780529743245, 1436.232289700199, 1319.4005386648048, 1320.9563976866827, 1307.8042974801285, 3193.3610946943304, 34960.71394117282, 28404.93310507997, 18947.20096415154, 12595.756279598665, 2642.685751818938, 7139.622499149536, 10921.030575699715, 2765.4740511004966, 3384.5285691432, 4499.701534861866, 4794.84159737094, 5878.143371217394, 2224.9932554142706, 3257.5889443436017, 3513.9980633386463, 4438.148720754624, 4076.8810976261866, 3412.691985565557, 3265.4894875228856, 3500.2761919286463, 3705.8994201480637, 15706.205365652942, 11579.853442602549, 6955.4484265543015, 6817.664052758151, 6313.305190005142, 6185.669657737617, 4149.847324717709, 3659.729170909048, 3520.5071708552127, 3347.336563393341, 3359.566910934008, 3177.0658354266548, 2856.9723502735187, 2757.941791767788, 2586.5489575668826, 2380.0685707631633, 2157.4897166914766, 2069.328496739269, 2059.761651784948, 1982.2441283147798, 1961.8734062661063, 1929.3131711561202, 1777.946702260467, 1682.0449278700144, 1665.493282076015, 1597.2527629515548, 1529.861032682748, 1532.0088421019882, 1518.6598613627177, 1493.877436891213, 6215.255711438953, 2331.6959202276976, 19463.96928103769, 3122.5530684105283, 2508.549839824741, 4068.232671656644, 6439.10022388362, 7479.634744390964, 4684.752061923889, 6799.791180021328, 3731.7603505422403, 4990.704608973987, 4270.740958151613, 3929.088130821378, 3331.449214593376, 3180.0936910220853, 2565.8492443262967, 13784.571841923851, 10820.098327905911, 7402.733792011717, 6805.574742509109, 6842.006796303344, 4886.317330263456, 3357.779149246532, 3276.1610300887537, 3104.18313563701, 2823.2623328676827, 2760.0886289162163, 2710.4293351525066, 2704.544217713041, 2507.378836827782, 2313.1708973430605, 2193.0000827791155, 2025.0860026027776, 1988.4798495236644, 1903.5969007655967, 2174.9330698935705, 1801.407359869483, 1764.9391757935468, 1700.7686130335062, 1703.3662492452959, 1678.8459562002804, 1595.884464495961, 1513.7546244831144, 1492.3791635742948, 1485.5393081209827, 1411.5904496656037, 15136.307144651999, 13153.465303905394, 19557.710118984833, 2057.2861333497576, 7683.277754070873, 10536.65870161182, 7864.91684840861, 2904.827473425869, 4027.833382123944, 2437.247339197764, 2751.4568612533876, 2957.5398695950325, 2546.2301218676903, 2835.3560554501296, 2982.5191857008226, 2480.6888548454185, 15047.055935068873, 5727.997587586384, 4689.885691004628, 3672.4089664449248, 3476.0197997368614, 3146.043234092755, 3154.8550285776, 3070.1831024352705, 3013.541663525406, 2949.4866558062326, 2904.1488883963993, 2727.347137133682, 2624.117820055214, 2236.4604034268878, 2162.90896088137, 1970.8710610018863, 1964.1722509722586, 1868.4904058892957, 1835.7471001872348, 1837.2504144392803, 1798.0681517261803, 1776.6206945531947, 1750.9267983624397, 1739.4608002150712, 1734.7877485145011, 1725.0295049268286, 1608.219249503036, 1574.0383425049597, 1531.3678170425765, 1529.044003520095, 1531.2506028610856, 3672.8045480096002, 2149.1291886909135, 4770.633875681123, 2723.5871565265265, 3251.194133603716, 1896.43379737845, 2004.208130199508, 1750.973345039628, 21739.633222903583, 15199.471933405113, 6226.9466026631935, 5964.930118204718, 4907.734880938257, 4665.911103602891, 3884.0590458962506, 3647.5440655859943, 3595.115417561887, 3349.197384145875, 3286.6731055012515, 3152.958894965388, 2850.223238481313, 2389.2702488871473, 2293.309465257136, 2192.2958057295978, 2190.6320774199585, 2141.1595353017533, 2000.171333018139, 1992.1988597371478, 1977.9236659934581, 1962.0404104000836, 1922.3438384732613, 1875.2277226696292, 1846.753123501106, 1838.238564931509, 1816.228986488799, 1731.2931741841305, 1583.8441683307606, 1563.0619027908594, 3647.4414079585454, 6129.522586371518], \"Total\": [33224.0, 21740.0, 45497.0, 24310.0, 36573.0, 15200.0, 15047.0, 48443.0, 26812.0, 15707.0, 15763.0, 13785.0, 17924.0, 11580.0, 10820.0, 17024.0, 17559.0, 10708.0, 10634.0, 17901.0, 6227.0, 8702.0, 8614.0, 5965.0, 7403.0, 5728.0, 6842.0, 6806.0, 7646.0, 6956.0, 10634.889045522346, 6184.027434571086, 5745.698914389627, 5720.475554738352, 4563.808686001921, 4257.446149855979, 3716.168506550684, 3231.4164579231815, 2984.8041071078574, 2689.114064142566, 2552.9737351994368, 2502.0215308682705, 2496.595993152067, 2471.0796072148946, 2111.382415865622, 2099.1742205957007, 2006.4910892523308, 2006.1519948298774, 1969.2848623780483, 1903.9172645825277, 1908.2184771196385, 1882.0876633901619, 1815.0260605071117, 1812.7279328847235, 1807.0079069668468, 1796.008781056543, 1791.444365385368, 1723.379250742839, 1707.0278153584372, 1708.5875610941648, 1788.8639324953865, 5294.151729973687, 17559.8448025369, 4601.064239196371, 7732.8907955233435, 2835.071611805032, 17901.164481772747, 5332.584985303352, 4059.6971438303362, 7252.102109445061, 2857.2465408792295, 8980.242655658492, 7860.821064065956, 16627.532141992047, 3377.5259857601, 8131.236911852412, 8905.90120167203, 8606.009109856883, 5691.362615200142, 36573.53507321543, 8745.127595118729, 8012.32929550356, 6874.164614354351, 17024.428237479227, 13879.405910323874, 33224.705013541694, 24310.250587439867, 10708.734631375763, 8702.649317848809, 8614.825669184096, 7646.152854623528, 5188.742741208563, 5072.695963741521, 4234.341503323513, 3742.854654232925, 3334.98970916244, 2600.7582673389406, 2512.5944797188126, 2246.490789971856, 2121.7151179962607, 1864.6679517541174, 1790.218389909826, 1696.7770887520296, 1679.1032905904458, 1616.3722861485148, 1582.140099838578, 1512.8519801885718, 1501.559096097071, 1466.6475816386653, 1448.0248918427824, 1467.3047237705032, 1436.9469201867878, 1320.1141525121852, 1321.671084937335, 1308.514744085935, 3382.321557553807, 45497.988481177716, 36573.53507321543, 26812.734549396304, 17024.428237479227, 3002.87356631242, 10471.618359262086, 19143.738575185216, 3299.5458000966355, 4299.620653426291, 6387.0446287077275, 7595.489244341189, 10256.442215530835, 2606.2347752034893, 5312.523431345597, 6238.132971046094, 10104.764560659563, 8606.009109856883, 6177.969888588247, 5484.959923924054, 8131.236911852412, 13879.405910323874, 15707.015574095132, 11580.670407823915, 6956.264812996311, 6818.477556579629, 6314.119714520812, 6186.485909542282, 4150.6573926194105, 3660.540023247302, 3521.3224792555575, 3348.1476364246832, 3360.3816126841193, 3177.8789942968606, 2857.783792542484, 2758.7483358852583, 2587.358667702733, 2380.884684079448, 2158.3030915289214, 2070.1375603390006, 2060.570740303441, 1983.0516517021429, 1962.6856192209727, 1930.1213651769356, 1778.7626265975364, 1682.8640557874537, 1666.3044205079534, 1598.065375078481, 1530.669967875349, 1532.8215888047143, 1519.4774801313868, 1494.688104315496, 7033.497066941359, 2557.3138479390927, 48443.284602300235, 4152.318832130557, 3091.867551357821, 6521.778089161785, 13879.405910323874, 17901.164481772747, 8745.127595118729, 16627.532141992047, 6705.347887479056, 17559.8448025369, 17481.89336176581, 19143.738575185216, 10471.618359262086, 10104.764560659563, 4024.920120874037, 13785.455203397623, 10820.97982650878, 7403.616965370089, 6806.451600663844, 6842.888568561674, 4887.2005469390415, 3358.6594983249915, 3277.0492016156304, 3105.0641526368795, 2824.144310527553, 2760.9711312994204, 2711.3104037592366, 2705.4263292646774, 2508.2660464281344, 2314.0531150115044, 2193.881499022616, 2025.9671516442465, 1989.3623137159727, 1904.4781599667817, 2175.9735463264556, 1802.2892352638592, 1765.8212349346454, 1701.6498450763447, 1704.2557701036505, 1679.7265442352834, 1596.7667248256118, 1514.6336646554719, 1493.2624038106787, 1486.4194887377093, 1412.4846485544035, 15763.718194739266, 17924.817639394903, 48443.284602300235, 2354.1657429483007, 17481.89336176581, 45497.988481177716, 26812.734549396304, 4698.321384068912, 8905.90120167203, 3356.3344525573903, 4643.817762003255, 8375.95694549205, 5579.148225128076, 10256.442215530835, 19143.738575185216, 16627.532141992047, 15047.872006167436, 5728.808554300993, 4690.6991284741625, 3673.2282060374177, 3476.8268738005836, 3146.85473543147, 3155.6727189731223, 3071.0007164722874, 3014.352413309809, 2950.2973855778223, 2904.9610551755527, 2728.1618149519895, 2624.9324905450376, 2237.2723796730616, 2163.717686328474, 1971.681509802474, 1964.983300903466, 1869.3014201460874, 1836.5561095919197, 1838.0634188097965, 1798.8811298719124, 1777.4343329582348, 1751.737920824348, 1740.2706455556736, 1735.5988509949605, 1725.8449752541549, 1609.0327851166444, 1574.8500665904746, 1532.1745927785055, 1529.8558118265405, 1532.068129408356, 7320.895624698207, 3035.0419331099065, 17924.817639394903, 6238.132971046094, 48443.284602300235, 2974.302813985047, 6521.778089161785, 5579.148225128076, 21740.44611829496, 15200.2843617536, 6227.761567739474, 5965.7418642336515, 4908.549123991256, 4666.728201689106, 3884.873810607326, 3648.357101557986, 3595.9292187937817, 3350.007350335709, 3287.4868135040488, 3153.7678440506857, 2851.034532835232, 2390.082293706619, 2294.1215828365835, 2193.108126989687, 2191.448907593953, 2141.970344134717, 2000.9801767904405, 1993.0133022003101, 1978.7356363400079, 1962.855628410683, 1923.1520419811673, 1876.0423128590676, 1847.56909418607, 1839.0542669093861, 1817.0382070016228, 1732.1058137944415, 1584.6556587642458, 1563.8780200214205, 7320.895624698207, 48443.284602300235], \"Category\": [\"Default\", \"Default\", \"Default\", \"Default\", \"Default\", \"Default\", \"Default\", \"Default\", \"Default\", \"Default\", \"Default\", \"Default\", \"Default\", \"Default\", \"Default\", \"Default\", \"Default\", \"Default\", \"Default\", \"Default\", \"Default\", \"Default\", \"Default\", \"Default\", \"Default\", \"Default\", \"Default\", \"Default\", \"Default\", \"Default\", \"Topic1\", \"Topic1\", \"Topic1\", \"Topic1\", \"Topic1\", \"Topic1\", \"Topic1\", \"Topic1\", \"Topic1\", \"Topic1\", \"Topic1\", \"Topic1\", \"Topic1\", \"Topic1\", \"Topic1\", \"Topic1\", \"Topic1\", \"Topic1\", \"Topic1\", \"Topic1\", \"Topic1\", \"Topic1\", \"Topic1\", \"Topic1\", \"Topic1\", \"Topic1\", \"Topic1\", \"Topic1\", \"Topic1\", \"Topic1\", \"Topic1\", \"Topic1\", \"Topic1\", \"Topic1\", \"Topic1\", \"Topic1\", \"Topic1\", \"Topic1\", \"Topic1\", \"Topic1\", \"Topic1\", \"Topic1\", \"Topic1\", \"Topic1\", \"Topic1\", \"Topic1\", \"Topic1\", \"Topic1\", \"Topic1\", \"Topic1\", \"Topic1\", \"Topic1\", \"Topic1\", \"Topic1\", \"Topic1\", \"Topic2\", \"Topic2\", \"Topic2\", \"Topic2\", \"Topic2\", \"Topic2\", \"Topic2\", \"Topic2\", \"Topic2\", \"Topic2\", \"Topic2\", \"Topic2\", \"Topic2\", \"Topic2\", \"Topic2\", \"Topic2\", \"Topic2\", \"Topic2\", \"Topic2\", \"Topic2\", \"Topic2\", \"Topic2\", \"Topic2\", \"Topic2\", \"Topic2\", \"Topic2\", \"Topic2\", \"Topic2\", \"Topic2\", \"Topic2\", \"Topic2\", \"Topic2\", \"Topic2\", \"Topic2\", \"Topic2\", \"Topic2\", \"Topic2\", \"Topic2\", \"Topic2\", \"Topic2\", \"Topic2\", \"Topic2\", \"Topic2\", \"Topic2\", \"Topic2\", \"Topic2\", \"Topic2\", \"Topic2\", \"Topic2\", \"Topic2\", \"Topic2\", \"Topic2\", \"Topic3\", \"Topic3\", \"Topic3\", \"Topic3\", \"Topic3\", \"Topic3\", \"Topic3\", \"Topic3\", \"Topic3\", \"Topic3\", \"Topic3\", \"Topic3\", \"Topic3\", \"Topic3\", \"Topic3\", \"Topic3\", \"Topic3\", \"Topic3\", \"Topic3\", \"Topic3\", \"Topic3\", \"Topic3\", \"Topic3\", \"Topic3\", \"Topic3\", \"Topic3\", \"Topic3\", \"Topic3\", \"Topic3\", \"Topic3\", \"Topic3\", \"Topic3\", \"Topic3\", \"Topic3\", \"Topic3\", \"Topic3\", \"Topic3\", \"Topic3\", \"Topic3\", \"Topic3\", \"Topic3\", \"Topic3\", \"Topic3\", \"Topic3\", \"Topic3\", \"Topic3\", \"Topic3\", \"Topic4\", \"Topic4\", \"Topic4\", \"Topic4\", \"Topic4\", \"Topic4\", \"Topic4\", \"Topic4\", \"Topic4\", \"Topic4\", \"Topic4\", \"Topic4\", \"Topic4\", \"Topic4\", \"Topic4\", \"Topic4\", \"Topic4\", \"Topic4\", \"Topic4\", \"Topic4\", \"Topic4\", \"Topic4\", \"Topic4\", \"Topic4\", \"Topic4\", \"Topic4\", \"Topic4\", \"Topic4\", \"Topic4\", \"Topic4\", \"Topic4\", \"Topic4\", \"Topic4\", \"Topic4\", \"Topic4\", \"Topic4\", \"Topic4\", \"Topic4\", \"Topic4\", \"Topic4\", \"Topic4\", \"Topic4\", \"Topic4\", \"Topic4\", \"Topic4\", \"Topic4\", \"Topic5\", \"Topic5\", \"Topic5\", \"Topic5\", \"Topic5\", \"Topic5\", \"Topic5\", \"Topic5\", \"Topic5\", \"Topic5\", \"Topic5\", \"Topic5\", \"Topic5\", \"Topic5\", \"Topic5\", \"Topic5\", \"Topic5\", \"Topic5\", \"Topic5\", \"Topic5\", \"Topic5\", \"Topic5\", \"Topic5\", \"Topic5\", \"Topic5\", \"Topic5\", \"Topic5\", \"Topic5\", \"Topic5\", \"Topic5\", \"Topic5\", \"Topic5\", \"Topic5\", \"Topic5\", \"Topic5\", \"Topic5\", \"Topic5\", \"Topic5\", \"Topic5\", \"Topic6\", \"Topic6\", \"Topic6\", \"Topic6\", \"Topic6\", \"Topic6\", \"Topic6\", \"Topic6\", \"Topic6\", \"Topic6\", \"Topic6\", \"Topic6\", \"Topic6\", \"Topic6\", \"Topic6\", \"Topic6\", \"Topic6\", \"Topic6\", \"Topic6\", \"Topic6\", \"Topic6\", \"Topic6\", \"Topic6\", \"Topic6\", \"Topic6\", \"Topic6\", \"Topic6\", \"Topic6\", \"Topic6\", \"Topic6\", \"Topic6\", \"Topic6\"], \"logprob\": [30.0, 29.0, 28.0, 27.0, 26.0, 25.0, 24.0, 23.0, 22.0, 21.0, 20.0, 19.0, 18.0, 17.0, 16.0, 15.0, 14.0, 13.0, 12.0, 11.0, 10.0, 9.0, 8.0, 7.0, 6.0, 5.0, 4.0, 3.0, 2.0, 1.0, -3.901, -4.4432, -4.5168, -4.5212, -4.7471, -4.8166, -4.9526, -5.0924, -5.1718, -5.2762, -5.3281, -5.3483, -5.3505, -5.3608, -5.5181, -5.5239, -5.5691, -5.5693, -5.5878, -5.6216, -5.6194, -5.6331, -5.6694, -5.6707, -5.6739, -5.68, -5.6825, -5.7213, -5.7308, -5.7299, -5.6849, -4.6433, -3.7339, -4.9287, -4.5227, -5.3209, -3.9331, -4.8606, -5.0689, -4.6872, -5.3522, -4.6005, -4.6968, -4.2763, -5.2563, -4.7324, -4.6805, -4.7547, -4.9782, -4.1648, -4.864, -4.8999, -5.0124, -4.7771, -5.0192, -2.7283, -3.0407, -3.8606, -4.068, -4.0782, -4.1975, -4.5852, -4.6078, -4.7885, -4.9119, -5.0273, -5.276, -5.3105, -5.4225, -5.4797, -5.6089, -5.6496, -5.7033, -5.7137, -5.7518, -5.7732, -5.818, -5.8255, -5.8491, -5.8619, -5.8486, -5.8695, -5.9544, -5.9532, -5.9632, -5.0705, -2.6773, -2.885, -3.2899, -3.6982, -5.2598, -4.2659, -3.8409, -5.2144, -5.0124, -4.7276, -4.664, -4.4603, -5.4318, -5.0506, -4.9748, -4.7413, -4.8262, -5.0041, -5.0482, -4.9787, -4.9216, -3.3597, -3.6645, -4.1742, -4.1942, -4.2711, -4.2915, -4.6906, -4.8163, -4.8551, -4.9056, -4.9019, -4.9578, -5.064, -5.0992, -5.1634, -5.2466, -5.3448, -5.3865, -5.3911, -5.4295, -5.4398, -5.4566, -5.5383, -5.5937, -5.6036, -5.6454, -5.6885, -5.6871, -5.6959, -5.7123, -4.2867, -5.2671, -3.1452, -4.9751, -5.194, -4.7105, -4.2513, -4.1015, -4.5694, -4.1968, -4.7968, -4.5061, -4.6619, -4.7453, -4.9103, -4.9568, -5.1714, -3.3729, -3.6151, -3.9946, -4.0788, -4.0734, -4.4101, -4.7852, -4.8098, -4.8637, -4.9586, -4.9812, -4.9994, -5.0016, -5.0773, -5.1579, -5.2112, -5.2909, -5.3091, -5.3527, -5.2195, -5.4079, -5.4284, -5.4654, -5.4639, -5.4784, -5.5291, -5.5819, -5.5961, -5.6007, -5.6518, -3.2794, -3.4198, -3.0231, -5.2751, -3.9574, -3.6416, -3.9341, -4.9301, -4.6033, -5.1056, -4.9844, -4.9121, -5.0619, -4.9543, -4.9037, -5.088, -2.9236, -3.8894, -4.0894, -4.3339, -4.3889, -4.4886, -4.4858, -4.513, -4.5317, -4.5531, -4.5686, -4.6314, -4.67, -4.8299, -4.8633, -4.9563, -4.9597, -5.0096, -5.0273, -5.0265, -5.0481, -5.0601, -5.0746, -5.0812, -5.0839, -5.0895, -5.1596, -5.1811, -5.2086, -5.2101, -5.2087, -4.3338, -4.8697, -4.0723, -4.6328, -4.4557, -4.9948, -4.9395, -5.0746, -2.4767, -2.8346, -3.727, -3.77, -3.9651, -4.0156, -4.199, -4.2618, -4.2763, -4.3471, -4.366, -4.4075, -4.5085, -4.6849, -4.7259, -4.7709, -4.7717, -4.7945, -4.8626, -4.8666, -4.8738, -4.8819, -4.9023, -4.9271, -4.9424, -4.9471, -4.9591, -5.007, -5.096, -5.1092, -4.2618, -3.7427], \"loglift\": [30.0, 29.0, 28.0, 27.0, 26.0, 25.0, 24.0, 23.0, 22.0, 21.0, 20.0, 19.0, 18.0, 17.0, 16.0, 15.0, 14.0, 13.0, 12.0, 11.0, 10.0, 9.0, 8.0, 7.0, 6.0, 5.0, 4.0, 3.0, 2.0, 1.0, 1.5293, 1.5293, 1.5293, 1.5293, 1.5292, 1.5292, 1.5292, 1.5292, 1.5291, 1.5291, 1.5291, 1.5291, 1.5291, 1.5291, 1.529, 1.529, 1.529, 1.529, 1.529, 1.529, 1.529, 1.529, 1.529, 1.529, 1.529, 1.529, 1.529, 1.5289, 1.5289, 1.5289, 1.5281, 1.4846, 1.195, 1.3395, 1.2263, 1.4315, 0.9765, 1.26, 1.3244, 1.126, 1.3924, 0.999, 1.0358, 0.7072, 1.321, 0.9664, 0.9273, 0.8874, 1.0773, 0.0303, 0.762, 0.8136, 0.8543, 0.1827, 0.1449, 1.5629, 1.5629, 1.5629, 1.5629, 1.5628, 1.5628, 1.5628, 1.5628, 1.5628, 1.5627, 1.5627, 1.5627, 1.5626, 1.5626, 1.5626, 1.5625, 1.5625, 1.5625, 1.5625, 1.5625, 1.5625, 1.5625, 1.5625, 1.5624, 1.5624, 1.5624, 1.5624, 1.5624, 1.5624, 1.5624, 1.5054, 1.2995, 1.3102, 1.2157, 1.2616, 1.4352, 1.1799, 1.0016, 1.3864, 1.3236, 1.2127, 1.1029, 1.0063, 1.4048, 1.0739, 0.989, 0.7402, 0.8158, 0.9694, 1.0443, 0.7201, 0.2425, 1.6807, 1.6807, 1.6807, 1.6807, 1.6806, 1.6806, 1.6806, 1.6806, 1.6805, 1.6805, 1.6805, 1.6805, 1.6805, 1.6805, 1.6805, 1.6804, 1.6804, 1.6804, 1.6804, 1.6804, 1.6804, 1.6804, 1.6803, 1.6803, 1.6803, 1.6803, 1.6802, 1.6802, 1.6802, 1.6802, 1.5571, 1.5884, 0.7689, 1.3958, 1.4717, 1.2088, 0.9128, 0.8081, 1.0566, 0.7866, 1.0948, 0.4227, 0.2714, 0.0972, 0.5355, 0.5247, 1.2306, 1.7979, 1.7979, 1.7979, 1.7979, 1.7979, 1.7978, 1.7977, 1.7977, 1.7977, 1.7977, 1.7977, 1.7977, 1.7977, 1.7977, 1.7976, 1.7976, 1.7976, 1.7976, 1.7975, 1.7975, 1.7975, 1.7975, 1.7975, 1.7975, 1.7975, 1.7975, 1.7974, 1.7974, 1.7974, 1.7974, 1.7574, 1.4885, 0.891, 1.6632, 0.9759, 0.3352, 0.5715, 1.3172, 1.0045, 1.478, 1.2746, 0.757, 1.0136, 0.5123, -0.0612, -0.1045, 2.1597, 2.1596, 2.1596, 2.1595, 2.1595, 2.1595, 2.1595, 2.1595, 2.1595, 2.1595, 2.1594, 2.1594, 2.1594, 2.1594, 2.1594, 2.1593, 2.1593, 2.1593, 2.1593, 2.1593, 2.1593, 2.1593, 2.1593, 2.1593, 2.1593, 2.1593, 2.1592, 2.1592, 2.1592, 2.1592, 2.1592, 1.4699, 1.8146, 0.836, 1.331, -0.5416, 1.7097, 0.9798, 1.0009, 2.2386, 2.2386, 2.2385, 2.2385, 2.2385, 2.2385, 2.2384, 2.2384, 2.2384, 2.2384, 2.2384, 2.2384, 2.2383, 2.2383, 2.2383, 2.2383, 2.2383, 2.2383, 2.2382, 2.2382, 2.2382, 2.2382, 2.2382, 2.2382, 2.2382, 2.2382, 2.2382, 2.2382, 2.2381, 2.2381, 1.5419, 0.1714]}, \"token.table\": {\"Topic\": [5, 3, 4, 5, 6, 3, 5, 5, 2, 4, 4, 2, 3, 4, 5, 6, 2, 4, 5, 1, 3, 4, 6, 3, 2, 6, 1, 1, 4, 2, 4, 1, 2, 3, 1, 2, 3, 1, 2, 3, 5, 6, 1, 2, 6, 2, 3, 4, 5, 6, 4, 5, 6, 3, 6, 5, 5, 2, 1, 2, 4, 1, 2, 2, 1, 3, 5, 4, 2, 1, 3, 1, 1, 1, 4, 1, 2, 3, 4, 4, 3, 5, 4, 3, 6, 5, 4, 6, 1, 2, 3, 5, 6, 1, 3, 6, 1, 2, 2, 3, 1, 2, 2, 2, 3, 5, 3, 4, 5, 5, 1, 6, 4, 1, 5, 6, 1, 2, 3, 4, 2, 5, 1, 2, 1, 2, 2, 4, 5, 2, 4, 6, 5, 2, 3, 2, 3, 3, 1, 2, 6, 5, 5, 6, 5, 1, 1, 4, 3, 6, 2, 3, 1, 3, 2, 3, 4, 6, 3, 2, 2, 1, 2, 3, 4, 5, 1, 3, 4, 3, 5, 3, 1, 2, 3, 4, 6, 1, 2, 5, 4, 1, 2, 3, 4, 2, 3, 6, 3, 6, 1, 4, 3, 1, 2, 3, 2, 1, 2, 2, 6, 1, 4, 4, 1, 2, 2, 3, 1, 4, 5, 1, 3, 5, 5, 3, 6, 3, 4, 2, 4, 5, 3, 1, 2, 2, 4, 1, 1, 2, 2, 1, 2, 3, 2, 2, 1, 1, 2, 3, 4, 1, 2, 3, 4, 3, 2, 1, 3, 1, 1, 6, 4, 6, 4, 4, 3, 3, 6, 6, 6, 3, 1, 3, 5, 2, 6, 1, 4, 5, 2, 5, 3, 1, 5, 2, 3, 5, 1, 3, 4, 6, 6, 2, 1, 4, 3, 3, 2, 2, 5, 5, 1, 1, 3, 3, 4, 5, 3, 2, 5, 6, 6, 5, 6, 6, 1, 2, 3, 4, 6, 6, 1, 6, 1, 1, 1, 1, 4, 1, 3, 4, 6, 3, 2, 3, 4, 5, 6, 5, 5, 4, 4, 4, 4, 6, 2, 4, 2, 3, 1, 2, 3, 1, 1, 2, 3, 4, 5, 6, 1, 4, 5], \"Freq\": [0.9993581329565205, 0.3057828865763757, 0.5924005077264856, 0.00021534006096927865, 0.10142516871653025, 0.9997234022130993, 0.9993028185967365, 0.9992333818978323, 0.9997084437456325, 0.9992631563139293, 0.9994952503423881, 0.11210659344486854, 0.2895191577250332, 0.3531536777528446, 0.07426017158967863, 0.17096553973700931, 0.9999193491306156, 0.9995349274782757, 0.9993037933144107, 0.8269825853734629, 0.1727861117928786, 0.999966979443848, 0.9997951548893531, 0.999852474431676, 0.99927939388004, 0.9997750736188804, 0.9993614582741711, 0.7637946720446502, 0.23609562781836843, 0.9995584613190158, 0.9995166898790269, 0.4887467620929684, 0.2657154894014121, 0.24537184225607148, 0.18823574759675898, 0.0003234291195820601, 0.8114836610313888, 0.5884028085444358, 0.03507700315887534, 0.26402404599902674, 0.0013362667870047747, 0.11124421001814751, 0.5262601912438967, 0.47373875021006107, 0.9995862452763037, 0.0008463505382963482, 0.4017894360341493, 0.4037298494634141, 0.0671094048780836, 0.12653972682333206, 0.7337871025863342, 0.26616728247847643, 0.9998777140500338, 0.9118943307953107, 0.08798294358016506, 0.9995101789344051, 0.9995741400141216, 0.9998780093473193, 0.6680821542335874, 0.3319037657874603, 0.9996798334260245, 0.9993978918508593, 0.9996066195751622, 0.9997696779685564, 0.9994406273742408, 0.9999214562920878, 0.9996447563705366, 0.9997489286163355, 0.9993429286949597, 0.46425852062652256, 0.535726888949571, 0.9995182224566209, 0.9998711221754905, 0.9561493999767097, 0.04363305242880678, 0.9998188789189735, 0.880156936892168, 0.11988516734059042, 0.9996482645948698, 0.9995226222481142, 0.9994504904597672, 0.9995103990994149, 0.9995525927564243, 0.99953963351049, 0.9994915727861969, 0.9996683087017273, 0.9601795599880268, 0.03977488002857378, 0.9996185878507048, 0.08000158769115538, 0.6375281801723749, 0.0024845213568681795, 0.279757104783357, 0.6103688101912177, 0.3081103081040286, 0.0814164315386368, 0.871818362315165, 0.1277453642091671, 0.6132678833521472, 0.38663358882913146, 0.14618790433807036, 0.8537220135228518, 0.9999253884851504, 0.9440261505796245, 0.055583124431246286, 0.9994602237962151, 0.9998613768909544, 0.9992846679441714, 0.9996543509694209, 0.9997868223250537, 0.9998952071640428, 0.9994009615693304, 0.9996568822500835, 0.9998228045789033, 0.9996741399417721, 0.9994267342033588, 0.43945186438981626, 0.002405648634951779, 0.40896026794180246, 0.1492103565828841, 0.5633095697558889, 0.43666911440382505, 0.9996855614731613, 0.9997923241399236, 0.22333088621728067, 0.7766544837171716, 0.2296049411683435, 0.4563420610574571, 0.3138471912457217, 0.7684075970625204, 0.23159265610960147, 0.9995111057561314, 0.9997283842111152, 0.9996276562817114, 0.9995623041613086, 0.9997032347177202, 0.9999421097570084, 0.9998226649839665, 0.2954418059830891, 0.7045512066369375, 0.9993615783830094, 0.9997556405037412, 0.9998588616998929, 0.9996282290941257, 0.9995602526090541, 0.9996561129745153, 0.999425768918384, 0.9991546001510135, 0.9998416172289769, 0.9994385623365891, 0.5952641487422484, 0.4045608410594332, 0.9994346855235648, 0.9994190183077774, 0.10957732736687256, 0.7521098755313034, 0.13823601298590077, 0.9997415914671164, 0.9994640023270059, 0.9998492242248557, 0.9999041571802144, 0.2504429960805785, 0.2670143105508124, 0.4639247559732005, 0.01786819995051308, 0.0007925411268372737, 0.00042653035487858723, 0.8836287185234731, 0.11573190295705667, 0.2915939942527153, 0.7080627046882318, 0.9993333344836228, 0.019012440756963553, 0.5731032142022141, 0.12050962449029205, 0.27641163869739316, 0.010919965973230347, 0.16153738492867406, 0.8379941263185436, 0.9997621757336224, 0.9996572848145583, 0.9993475487459459, 0.9997815303877288, 0.9995712600511542, 0.9996181088146747, 0.9995420207184662, 0.9994865563950444, 0.9996919767775609, 0.9993962425694353, 0.9998881290627056, 0.9995917177947242, 0.9998701471530961, 0.9997287407932344, 0.5091527765703256, 0.17078438848387495, 0.32018436035179626, 0.999492245124386, 0.5694090641057487, 0.4304388173585573, 0.9998568552642505, 0.9994947230480568, 0.9983990216117827, 0.0011180280197220411, 0.9995948115953964, 0.8118368331022398, 0.18800743582054055, 0.6818430308515504, 0.3180979181745819, 0.5476144288558211, 0.45228437962502516, 0.9998830882187986, 0.7157238655198297, 0.28422802457109086, 0.9995787493005799, 0.9992698575023842, 0.9996284221216745, 0.9997565312069073, 0.9999353426441617, 0.9999166670327524, 0.381625660194237, 0.6183059357859779, 0.9994214460725815, 0.9999084209817598, 0.44755802470119216, 0.5524468492966252, 0.9999896921079047, 0.9998424169750749, 0.9997552497217849, 0.2600968407415746, 0.7398780049640635, 0.9997634000537646, 0.8145927843474146, 0.10986041179889534, 0.07537508074094613, 0.9991560180533896, 0.9999787804424025, 0.999779937734149, 0.20544763685859638, 0.439198753554167, 0.31470302755796553, 0.04057491864741065, 0.31821518301809454, 0.6312957395828561, 0.05042466491350029, 0.9995449045639131, 0.9996572324313904, 0.9993410193699677, 0.9995857133182184, 0.9996506729278197, 0.9995631030211481, 0.9994422232670035, 0.9999021198999863, 0.9993152008024984, 0.9994286267632556, 0.9995816383391848, 0.9997177857658032, 0.9992171775505728, 0.9997230183403666, 0.9996371377395408, 0.9998439588384765, 0.9998519192527103, 0.9999299614062427, 0.7385336416888444, 0.12091209157399221, 0.14056838881382838, 0.9999313988626061, 0.999979479800344, 0.9997305997047033, 0.9995674627886445, 0.9999420511972006, 0.9992922139332301, 0.9996971997811472, 0.999818176416466, 0.9995984323562748, 0.9996656330702789, 0.9996417851481337, 0.3621016646106076, 0.637460312072156, 0.6362272525614966, 0.2813034607431527, 0.008433832676871537, 0.07397174077006077, 0.9995471730368997, 0.9997716571141874, 0.9998338567249326, 0.9999336510871832, 0.999886437694255, 0.9994696801259614, 0.999662952867614, 0.9994368383690349, 0.9994312808379427, 0.9996549600187755, 0.9999164029339149, 0.9068553998052618, 0.09311934093682968, 0.27351267073533786, 0.7260897370174493, 0.9996691676214245, 0.999725734135476, 0.9998628019998644, 0.5017145699507789, 0.49816309191682295, 0.999699299067028, 0.9998509543129896, 0.9995469852617829, 0.9995101516737599, 0.15353028098604615, 0.16205338525837137, 0.24430992179262412, 0.4394832894246619, 0.0005720204209614238, 0.9994444086618286, 0.9997519513338209, 0.9999155040969607, 0.99942209738084, 0.9998783586818522, 0.9997612776942277, 0.9999168679712375, 0.9995198266511374, 0.33540392500731747, 0.5565706750232587, 0.10797351787696659, 0.999564089993019, 0.9996857603106132, 0.5704737325527514, 0.2052368185330794, 0.1558211834268709, 0.002141692430607344, 0.06634022894808114, 0.9994995881629051, 0.9994405931461484, 0.9997543487467906, 0.9995982011685641, 0.9999094512211936, 0.9998036423980101, 0.9998756459380016, 0.7066418371126789, 0.2933307673452905, 0.7872787561624893, 0.21280947175440998, 0.5752698384781386, 0.006871061384036808, 0.4178499118097181, 0.9994383206434271, 0.0010733269216309197, 0.027446502710276374, 0.6237562738849401, 0.03495979116169281, 0.3072781644211947, 0.005366634608154598, 0.0067964628437596685, 0.8737702543508523, 0.1189380997657942], \"Term\": [\"ability\", \"able\", \"able\", \"able\", \"able\", \"access\", \"account\", \"adapter\", \"add\", \"alert\", \"alerts\", \"also\", \"also\", \"also\", \"also\", \"also\", \"amazing\", \"android\", \"angle\", \"another\", \"another\", \"app\", \"area\", \"around\", \"arrived\", \"audio\", \"baby\", \"back\", \"back\", \"beat\", \"best\", \"better\", \"better\", \"better\", \"bit\", \"bit\", \"bit\", \"bought\", \"bought\", \"bought\", \"bought\", \"bought\", \"buy\", \"buy\", \"cable\", \"camera\", \"camera\", \"camera\", \"camera\", \"camera\", \"cameras\", \"cameras\", \"card\", \"case\", \"case\", \"change\", \"check\", \"clarity\", \"clear\", \"clear\", \"cloud\", \"company\", \"compared\", \"completely\", \"computer\", \"connect\", \"connected\", \"connection\", \"cool\", \"could\", \"could\", \"couple\", \"customer\", \"day\", \"day\", \"days\", \"deal\", \"deal\", \"detection\", \"device\", \"difficult\", \"digital\", \"dlink\", \"done\", \"door\", \"easily\", \"easy\", \"easy\", \"email\", \"enough\", \"enough\", \"enough\", \"enough\", \"even\", \"even\", \"even\", \"every\", \"every\", \"everything\", \"everything\", \"exactly\", \"exactly\", \"excellent\", \"expected\", \"expected\", \"extremely\", \"eye\", \"feature\", \"figure\", \"firmware\", \"first\", \"fit\", \"foscam\", \"frame\", \"front\", \"gb\", \"get\", \"get\", \"get\", \"get\", \"go\", \"go\", \"going\", \"gone\", \"good\", \"good\", \"got\", \"got\", \"got\", \"great\", \"great\", \"hd\", \"help\", \"helped\", \"helpful\", \"high\", \"home\", \"house\", \"image\", \"image\", \"impressed\", \"inside\", \"install\", \"installation\", \"installed\", \"interface\", \"internet\", \"ip\", \"iphone\", \"ir\", \"issues\", \"issues\", \"item\", \"job\", \"keep\", \"keep\", \"keep\", \"know\", \"least\", \"lens\", \"light\", \"like\", \"like\", \"like\", \"like\", \"like\", \"little\", \"little\", \"little\", \"live\", \"live\", \"longer\", \"love\", \"love\", \"love\", \"love\", \"love\", \"low\", \"low\", \"made\", \"make\", \"may\", \"maybe\", \"mine\", \"minutes\", \"mm\", \"mobile\", \"mode\", \"model\", \"monitor\", \"months\", \"motion\", \"mount\", \"much\", \"much\", \"much\", \"near\", \"need\", \"need\", \"needed\", \"needs\", \"nest\", \"nest\", \"network\", \"new\", \"new\", \"nice\", \"nice\", \"night\", \"night\", \"ok\", \"one\", \"one\", \"ordered\", \"part\", \"pay\", \"perfect\", \"phone\", \"picture\", \"pictures\", \"pictures\", \"play\", \"power\", \"pretty\", \"pretty\", \"price\", \"problem\", \"problems\", \"product\", \"product\", \"products\", \"purchased\", \"purchased\", \"purchased\", \"purpose\", \"quality\", \"read\", \"really\", \"really\", \"really\", \"really\", \"recommend\", \"recommend\", \"recommend\", \"record\", \"remote\", \"replacement\", \"resolution\", \"returned\", \"review\", \"reviews\", \"room\", \"router\", \"run\", \"running\", \"say\", \"says\", \"scope\", \"screen\", \"sd\", \"second\", \"security\", \"see\", \"see\", \"see\", \"service\", \"set\", \"setting\", \"settings\", \"setup\", \"sharp\", \"side\", \"software\", \"someone\", \"sound\", \"spent\", \"stars\", \"stars\", \"still\", \"still\", \"still\", \"still\", \"storage\", \"super\", \"support\", \"system\", \"tech\", \"telescope\", \"terrible\", \"thanks\", \"things\", \"three\", \"time\", \"times\", \"times\", \"tried\", \"tried\", \"try\", \"trying\", \"turn\", \"two\", \"two\", \"unit\", \"update\", \"us\", \"usb\", \"use\", \"use\", \"use\", \"use\", \"use\", \"useless\", \"version\", \"video\", \"videos\", \"view\", \"viewing\", \"vision\", \"watch\", \"way\", \"way\", \"way\", \"web\", \"week\", \"well\", \"well\", \"well\", \"well\", \"well\", \"went\", \"wide\", \"wifi\", \"wireless\", \"work\", \"worked\", \"working\", \"works\", \"works\", \"worth\", \"worth\", \"would\", \"would\", \"would\", \"year\", \"yi\", \"yi\", \"yi\", \"yi\", \"yi\", \"yi\", \"zmodo\", \"zmodo\", \"zmodo\"]}, \"R\": 30, \"lambda.step\": 0.01, \"plot.opts\": {\"xlab\": \"PC1\", \"ylab\": \"PC2\"}, \"topic.order\": [3, 6, 4, 2, 1, 5]};\n",
       "\n",
       "function LDAvis_load_lib(url, callback){\n",
       "  var s = document.createElement('script');\n",
       "  s.src = url;\n",
       "  s.async = true;\n",
       "  s.onreadystatechange = s.onload = callback;\n",
       "  s.onerror = function(){console.warn(\"failed to load library \" + url);};\n",
       "  document.getElementsByTagName(\"head\")[0].appendChild(s);\n",
       "}\n",
       "\n",
       "if(typeof(LDAvis) !== \"undefined\"){\n",
       "   // already loaded: just create the visualization\n",
       "   !function(LDAvis){\n",
       "       new LDAvis(\"#\" + \"ldavis_el602418434506979841569761670\", ldavis_el602418434506979841569761670_data);\n",
       "   }(LDAvis);\n",
       "}else if(typeof define === \"function\" && define.amd){\n",
       "   // require.js is available: use it to load d3/LDAvis\n",
       "   require.config({paths: {d3: \"https://d3js.org/d3.v5\"}});\n",
       "   require([\"d3\"], function(d3){\n",
       "      window.d3 = d3;\n",
       "      LDAvis_load_lib(\"https://cdn.jsdelivr.net/gh/bmabey/pyLDAvis@3.3.1/pyLDAvis/js/ldavis.v3.0.0.js\", function(){\n",
       "        new LDAvis(\"#\" + \"ldavis_el602418434506979841569761670\", ldavis_el602418434506979841569761670_data);\n",
       "      });\n",
       "    });\n",
       "}else{\n",
       "    // require.js not available: dynamically load d3 & LDAvis\n",
       "    LDAvis_load_lib(\"https://d3js.org/d3.v5.js\", function(){\n",
       "         LDAvis_load_lib(\"https://cdn.jsdelivr.net/gh/bmabey/pyLDAvis@3.3.1/pyLDAvis/js/ldavis.v3.0.0.js\", function(){\n",
       "                 new LDAvis(\"#\" + \"ldavis_el602418434506979841569761670\", ldavis_el602418434506979841569761670_data);\n",
       "            })\n",
       "         });\n",
       "}\n",
       "</script>"
      ],
      "text/plain": [
       "PreparedData(topic_coordinates=              x         y  topics  cluster       Freq\n",
       "topic                                                \n",
       "2     -0.246422  0.025203       1        1  21.665991\n",
       "5     -0.192337 -0.017899       2        1  20.952092\n",
       "3     -0.105019  0.046620       3        1  18.622921\n",
       "1      0.023315 -0.032631       4        1  16.562907\n",
       "0      0.237636 -0.319684       5        1  11.535674\n",
       "4      0.282828  0.298391       6        1  10.660416, topic_info=           Term          Freq         Total Category  logprob  loglift\n",
       "107     quality  33224.000000  33224.000000  Default  30.0000  30.0000\n",
       "574         set  21740.000000  21740.000000  Default  29.0000  29.0000\n",
       "47        great  45497.000000  45497.000000  Default  28.0000  28.0000\n",
       "97        price  24310.000000  24310.000000  Default  27.0000  27.0000\n",
       "92         good  36573.000000  36573.000000  Default  26.0000  26.0000\n",
       "...         ...           ...           ...      ...      ...      ...\n",
       "495   impressed   1731.293174   1732.105814   Topic6  -5.0070   2.2382\n",
       "1933      cable   1583.844168   1584.655659   Topic6  -5.0960   2.2381\n",
       "2747         ir   1563.061903   1563.878020   Topic6  -5.1092   2.2381\n",
       "278         two   3647.441408   7320.895625   Topic6  -4.2618   1.5419\n",
       "6        camera   6129.522586  48443.284602   Topic6  -3.7427   0.1714\n",
       "\n",
       "[301 rows x 6 columns], token_table=       Topic      Freq     Term\n",
       "term                           \n",
       "169        5  0.999358  ability\n",
       "170        3  0.305783     able\n",
       "170        4  0.592401     able\n",
       "170        5  0.000215     able\n",
       "170        6  0.101425     able\n",
       "...      ...       ...      ...\n",
       "27590      5  0.307278       yi\n",
       "27590      6  0.005367       yi\n",
       "15351      1  0.006796    zmodo\n",
       "15351      4  0.873770    zmodo\n",
       "15351      5  0.118938    zmodo\n",
       "\n",
       "[353 rows x 3 columns], R=30, lambda_step=0.01, plot_opts={'xlab': 'PC1', 'ylab': 'PC2'}, topic_order=[3, 6, 4, 2, 1, 5])"
      ]
     },
     "execution_count": 194,
     "metadata": {},
     "output_type": "execute_result"
    }
   ],
   "source": [
    "pyLDAvis.enable_notebook()\n",
    "vis = pyLDAvis.gensim_models.prepare(lda_model, corpus, id2word)\n",
    "vis"
   ]
  },
  {
   "cell_type": "code",
   "execution_count": null,
   "metadata": {},
   "outputs": [],
   "source": []
  }
 ],
 "metadata": {
  "kernelspec": {
   "display_name": "Python (learn-env)",
   "language": "python",
   "name": "learn-env"
  },
  "language_info": {
   "codemirror_mode": {
    "name": "ipython",
    "version": 3
   },
   "file_extension": ".py",
   "mimetype": "text/x-python",
   "name": "python",
   "nbconvert_exporter": "python",
   "pygments_lexer": "ipython3",
   "version": "3.8.5"
  }
 },
 "nbformat": 4,
 "nbformat_minor": 4
}
