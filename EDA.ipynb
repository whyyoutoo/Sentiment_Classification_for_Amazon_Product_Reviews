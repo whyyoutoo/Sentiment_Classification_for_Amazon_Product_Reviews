{
 "cells": [
  {
   "cell_type": "markdown",
   "metadata": {},
   "source": [
    "# Overview\n",
    "\n",
    "The growth of e-commerce has been one of the most significant trends in business over the past decade. Advances in mobile technology, logistics, and delivery has contributed to this explosion in growth. Product reviews are an essential component of e-commerce, and they play a significant role in shaping consumer behavior. There are now many platforms ranging from social media to online marketplaces that allow customers to easily provide feedback for products. Companies can use sentiment classification to analyze customer feedback and identify areas where customers are dissatisfied or delighted with their products or services. This can help businesses improve their products and customer service, and ultimately increase customer satisfaction and loyalty."
   ]
  },
  {
   "cell_type": "markdown",
   "metadata": {},
   "source": [
    "# Buisness Problem\n",
    "\n",
    "Good Ears a new audio company is planning to launch their first headphone through Amazon. We are tasked to analyze the headphone market on Amazon to see if any insights can be found to assist the marketing department.\n",
    "\n",
    "Product reviews can provide businesses with a better understanding of customer feedback and preferences. By analyzing product reviews, businesses can gain insights into what customers like and dislike about their products, identify areas for improvement, and develop strategies to enhance customer satisfaction and loyalty.\n"
   ]
  },
  {
   "cell_type": "markdown",
   "metadata": {},
   "source": [
    "# Methodology\n",
    "\n",
    "Due to the massive amounts of reviews avaliable, it is too time consuming to examine each and every data. Topic modeling and sentiment analysis are two powerful techniques used in natural language processing and machine learning to analyze text data and gain insights into customer feedback and preferences.\n",
    "\n",
    "LDA assumes that each document is a mixture of multiple topics and that each word in the document is associated with a particular topic. The model then attempts to identify the most likely topic distribution for each document and the most likely word distribution for each topic. I will be using Gensim's library to conduct LDA topic modeling.\n",
    "\n",
    "First I will validate the relationship between star ratings and sentiment with VADER. Then I will proceed to test out different methods of vectorizers and classification algorithms to find the best model that can predict whether a review is positive or negative."
   ]
  },
  {
   "cell_type": "markdown",
   "metadata": {},
   "source": [
    "# Data Understanding\n",
    "\n",
    "Data for this project was obtained from https://cseweb.ucsd.edu/~jmcauley/datasets/amazon_v2/ which includes a large-scale collection of customer reviews of products sold on Amazon.Each review includes the review text, as well as additional metadata such as the product ID, reviewer ID, rating, and helpfulness votes.\n",
    "\n",
    "Original dataset contained around 6.7 million reviews of products from the electronics category. For the purpose of this project I have subsetted dataset to include only headphone and earphone products with 200 or more reviews. Resulting in a collection of 189,482 reviews from June, 2000 to October 2018. "
   ]
  },
  {
   "cell_type": "markdown",
   "metadata": {},
   "source": [
    "# Data Preperation"
   ]
  },
  {
   "cell_type": "code",
   "execution_count": 2,
   "metadata": {},
   "outputs": [
    {
     "name": "stderr",
     "output_type": "stream",
     "text": [
      "C:\\Users\\PC\\anaconda3\\envs\\learn-env\\lib\\site-packages\\sklearn\\decomposition\\_lda.py:28: DeprecationWarning: `np.float` is a deprecated alias for the builtin `float`. To silence this warning, use `float` by itself. Doing this will not modify any behavior and is safe. If you specifically wanted the numpy scalar type, use `np.float64` here.\n",
      "Deprecated in NumPy 1.20; for more details and guidance: https://numpy.org/devdocs/release/1.20.0-notes.html#deprecations\n",
      "  EPS = np.finfo(np.float).eps\n"
     ]
    }
   ],
   "source": [
    "# Importing neccesary libraries\n",
    "import pandas as pd\n",
    "import numpy as np\n",
    "import json\n",
    "\n",
    "import matplotlib.pyplot as plt\n",
    "import seaborn as sns\n",
    "\n",
    "import gzip\n",
    "from nltk import word_tokenize\n",
    "\n",
    "from nltk.sentiment import SentimentIntensityAnalyzer\n",
    "\n",
    "import re\n",
    "import spacy\n",
    "nlp = spacy.load('en_core_web_sm', disable=['parser', 'ner'])\n",
    "\n",
    "\n",
    "from sklearn.feature_extraction.text import CountVectorizer\n",
    "\n",
    "import gensim\n",
    "import gensim.corpora as corpora\n",
    "\n",
    "from gensim.models import CoherenceModel\n",
    "from gensim.models.phrases import Phrases, Phraser\n",
    "\n",
    "from gensim.models.ldamulticore import LdaMulticore\n",
    "from gensim.models.ldamodel import LdaModel\n",
    "\n",
    "import pyLDAvis\n",
    "import pyLDAvis.gensim_models\n",
    "\n",
    "import warnings\n",
    "warnings.filterwarnings(\"ignore\",category=DeprecationWarning)\n",
    "\n",
    "from ast import literal_eval"
   ]
  },
  {
   "cell_type": "code",
   "execution_count": 54,
   "metadata": {},
   "outputs": [
    {
     "data": {
      "text/html": [
       "<style>.container { max-width:100% !important; }</style>"
      ],
      "text/plain": [
       "<IPython.core.display.HTML object>"
      ]
     },
     "metadata": {},
     "output_type": "display_data"
    },
    {
     "data": {
      "text/html": [
       "<style>.output_result { max-width:100% !important; }</style>"
      ],
      "text/plain": [
       "<IPython.core.display.HTML object>"
      ]
     },
     "metadata": {},
     "output_type": "display_data"
    },
    {
     "data": {
      "text/html": [
       "<style>.output_area { max-width:100% !important; }</style>"
      ],
      "text/plain": [
       "<IPython.core.display.HTML object>"
      ]
     },
     "metadata": {},
     "output_type": "display_data"
    },
    {
     "data": {
      "text/html": [
       "<style>.input_area { max-width:100% !important; }</style>"
      ],
      "text/plain": [
       "<IPython.core.display.HTML object>"
      ]
     },
     "metadata": {},
     "output_type": "display_data"
    }
   ],
   "source": [
    "from IPython.core.display import display, HTML\n",
    "display(HTML(\"<style>.container { max-width:100% !important; }</style>\"))\n",
    "display(HTML(\"<style>.output_result { max-width:100% !important; }</style>\"))\n",
    "display(HTML(\"<style>.output_area { max-width:100% !important; }</style>\"))\n",
    "display(HTML(\"<style>.input_area { max-width:100% !important; }</style>\"))"
   ]
  },
  {
   "cell_type": "markdown",
   "metadata": {},
   "source": [
    "# Data Exploration"
   ]
  },
  {
   "cell_type": "markdown",
   "metadata": {},
   "source": [
    "## EDA"
   ]
  },
  {
   "cell_type": "code",
   "execution_count": 99,
   "metadata": {},
   "outputs": [
    {
     "name": "stderr",
     "output_type": "stream",
     "text": [
      "C:\\Users\\PC\\anaconda3\\envs\\learn-env\\lib\\site-packages\\IPython\\core\\interactiveshell.py:3145: DtypeWarning: Columns (1,15,18) have mixed types.Specify dtype option on import or set low_memory=False.\n",
      "  has_raised = await self.run_ast_nodes(code_ast.body, cell_name,\n"
     ]
    }
   ],
   "source": [
    "df = pd.read_csv('data/headphone_reviews.csv')"
   ]
  },
  {
   "cell_type": "code",
   "execution_count": 100,
   "metadata": {},
   "outputs": [
    {
     "data": {
      "text/html": [
       "<div>\n",
       "<style scoped>\n",
       "    .dataframe tbody tr th:only-of-type {\n",
       "        vertical-align: middle;\n",
       "    }\n",
       "\n",
       "    .dataframe tbody tr th {\n",
       "        vertical-align: top;\n",
       "    }\n",
       "\n",
       "    .dataframe thead th {\n",
       "        text-align: right;\n",
       "    }\n",
       "</style>\n",
       "<table border=\"1\" class=\"dataframe\">\n",
       "  <thead>\n",
       "    <tr style=\"text-align: right;\">\n",
       "      <th></th>\n",
       "      <th>overall</th>\n",
       "      <th>vote</th>\n",
       "      <th>verified</th>\n",
       "      <th>reviewTime</th>\n",
       "      <th>reviewerID</th>\n",
       "      <th>asin</th>\n",
       "      <th>style</th>\n",
       "      <th>reviewerName</th>\n",
       "      <th>reviewText</th>\n",
       "      <th>summary</th>\n",
       "      <th>...</th>\n",
       "      <th>feature</th>\n",
       "      <th>rank</th>\n",
       "      <th>also_view</th>\n",
       "      <th>main_cat</th>\n",
       "      <th>similar_item</th>\n",
       "      <th>date</th>\n",
       "      <th>price</th>\n",
       "      <th>imageURL</th>\n",
       "      <th>imageURLHighRes</th>\n",
       "      <th>details</th>\n",
       "    </tr>\n",
       "  </thead>\n",
       "  <tbody>\n",
       "    <tr>\n",
       "      <th>0</th>\n",
       "      <td>5.0</td>\n",
       "      <td>NaN</td>\n",
       "      <td>True</td>\n",
       "      <td>02 22, 2015</td>\n",
       "      <td>A38RQFVQ1AKJQQ</td>\n",
       "      <td>4126895493</td>\n",
       "      <td>{'Color:': ' Blue W/Mic'}</td>\n",
       "      <td>George Walker</td>\n",
       "      <td>Great headphones. It's just the cord is too sh...</td>\n",
       "      <td>Five Stars</td>\n",
       "      <td>...</td>\n",
       "      <td>['Adjustable headband allows you to create a c...</td>\n",
       "      <td>['&gt;#316,475 in Cell Phones &amp; Accessories (See ...</td>\n",
       "      <td>['B019PO1ZRI', 'B00W87LKXE', 'B019PO1ZNC', 'B0...</td>\n",
       "      <td>Musical Instruments</td>\n",
       "      <td>class=\"a-bordered a-horizontal-stripes  a-spa...</td>\n",
       "      <td>NaN</td>\n",
       "      <td>$7.99</td>\n",
       "      <td>['https://images-na.ssl-images-amazon.com/imag...</td>\n",
       "      <td>['https://images-na.ssl-images-amazon.com/imag...</td>\n",
       "      <td>NaN</td>\n",
       "    </tr>\n",
       "    <tr>\n",
       "      <th>1</th>\n",
       "      <td>5.0</td>\n",
       "      <td>NaN</td>\n",
       "      <td>True</td>\n",
       "      <td>05 8, 2017</td>\n",
       "      <td>A299MRB9O6GWDE</td>\n",
       "      <td>4126895493</td>\n",
       "      <td>{'Color:': ' Blue Zebra W/Mic'}</td>\n",
       "      <td>Carolyn B</td>\n",
       "      <td>Really like these headphone.  Wanted something...</td>\n",
       "      <td>Officewear</td>\n",
       "      <td>...</td>\n",
       "      <td>['Adjustable headband allows you to create a c...</td>\n",
       "      <td>['&gt;#316,475 in Cell Phones &amp; Accessories (See ...</td>\n",
       "      <td>['B019PO1ZRI', 'B00W87LKXE', 'B019PO1ZNC', 'B0...</td>\n",
       "      <td>Musical Instruments</td>\n",
       "      <td>class=\"a-bordered a-horizontal-stripes  a-spa...</td>\n",
       "      <td>NaN</td>\n",
       "      <td>$7.99</td>\n",
       "      <td>['https://images-na.ssl-images-amazon.com/imag...</td>\n",
       "      <td>['https://images-na.ssl-images-amazon.com/imag...</td>\n",
       "      <td>NaN</td>\n",
       "    </tr>\n",
       "    <tr>\n",
       "      <th>2</th>\n",
       "      <td>1.0</td>\n",
       "      <td>NaN</td>\n",
       "      <td>True</td>\n",
       "      <td>11 5, 2016</td>\n",
       "      <td>A3ACFC6DQQLIQT</td>\n",
       "      <td>4126895493</td>\n",
       "      <td>{'Color:': ' Blue W/Mic'}</td>\n",
       "      <td>MK</td>\n",
       "      <td>Wire to headphone broke off in less than a mon...</td>\n",
       "      <td>For the money they are fine. Just hope they ho...</td>\n",
       "      <td>...</td>\n",
       "      <td>['Adjustable headband allows you to create a c...</td>\n",
       "      <td>['&gt;#316,475 in Cell Phones &amp; Accessories (See ...</td>\n",
       "      <td>['B019PO1ZRI', 'B00W87LKXE', 'B019PO1ZNC', 'B0...</td>\n",
       "      <td>Musical Instruments</td>\n",
       "      <td>class=\"a-bordered a-horizontal-stripes  a-spa...</td>\n",
       "      <td>NaN</td>\n",
       "      <td>$7.99</td>\n",
       "      <td>['https://images-na.ssl-images-amazon.com/imag...</td>\n",
       "      <td>['https://images-na.ssl-images-amazon.com/imag...</td>\n",
       "      <td>NaN</td>\n",
       "    </tr>\n",
       "    <tr>\n",
       "      <th>3</th>\n",
       "      <td>3.0</td>\n",
       "      <td>NaN</td>\n",
       "      <td>True</td>\n",
       "      <td>09 24, 2016</td>\n",
       "      <td>A36BC0YFDBNB5X</td>\n",
       "      <td>4126895493</td>\n",
       "      <td>{'Color:': ' Green'}</td>\n",
       "      <td>bigboy</td>\n",
       "      <td>Very good</td>\n",
       "      <td>Three Stars</td>\n",
       "      <td>...</td>\n",
       "      <td>['Adjustable headband allows you to create a c...</td>\n",
       "      <td>['&gt;#316,475 in Cell Phones &amp; Accessories (See ...</td>\n",
       "      <td>['B019PO1ZRI', 'B00W87LKXE', 'B019PO1ZNC', 'B0...</td>\n",
       "      <td>Musical Instruments</td>\n",
       "      <td>class=\"a-bordered a-horizontal-stripes  a-spa...</td>\n",
       "      <td>NaN</td>\n",
       "      <td>$7.99</td>\n",
       "      <td>['https://images-na.ssl-images-amazon.com/imag...</td>\n",
       "      <td>['https://images-na.ssl-images-amazon.com/imag...</td>\n",
       "      <td>NaN</td>\n",
       "    </tr>\n",
       "    <tr>\n",
       "      <th>4</th>\n",
       "      <td>1.0</td>\n",
       "      <td>NaN</td>\n",
       "      <td>True</td>\n",
       "      <td>07 17, 2016</td>\n",
       "      <td>A212PQ0HQPNNWM</td>\n",
       "      <td>4126895493</td>\n",
       "      <td>{'Color:': ' Violet Purple'}</td>\n",
       "      <td>Kelly Hales</td>\n",
       "      <td>Currently returning this product because the s...</td>\n",
       "      <td>Currently returning this product because the s...</td>\n",
       "      <td>...</td>\n",
       "      <td>['Adjustable headband allows you to create a c...</td>\n",
       "      <td>['&gt;#316,475 in Cell Phones &amp; Accessories (See ...</td>\n",
       "      <td>['B019PO1ZRI', 'B00W87LKXE', 'B019PO1ZNC', 'B0...</td>\n",
       "      <td>Musical Instruments</td>\n",
       "      <td>class=\"a-bordered a-horizontal-stripes  a-spa...</td>\n",
       "      <td>NaN</td>\n",
       "      <td>$7.99</td>\n",
       "      <td>['https://images-na.ssl-images-amazon.com/imag...</td>\n",
       "      <td>['https://images-na.ssl-images-amazon.com/imag...</td>\n",
       "      <td>NaN</td>\n",
       "    </tr>\n",
       "  </tbody>\n",
       "</table>\n",
       "<p>5 rows × 30 columns</p>\n",
       "</div>"
      ],
      "text/plain": [
       "   overall vote  verified   reviewTime      reviewerID        asin  \\\n",
       "0      5.0  NaN      True  02 22, 2015  A38RQFVQ1AKJQQ  4126895493   \n",
       "1      5.0  NaN      True   05 8, 2017  A299MRB9O6GWDE  4126895493   \n",
       "2      1.0  NaN      True   11 5, 2016  A3ACFC6DQQLIQT  4126895493   \n",
       "3      3.0  NaN      True  09 24, 2016  A36BC0YFDBNB5X  4126895493   \n",
       "4      1.0  NaN      True  07 17, 2016  A212PQ0HQPNNWM  4126895493   \n",
       "\n",
       "                             style   reviewerName  \\\n",
       "0        {'Color:': ' Blue W/Mic'}  George Walker   \n",
       "1  {'Color:': ' Blue Zebra W/Mic'}      Carolyn B   \n",
       "2        {'Color:': ' Blue W/Mic'}             MK   \n",
       "3             {'Color:': ' Green'}         bigboy   \n",
       "4     {'Color:': ' Violet Purple'}    Kelly Hales   \n",
       "\n",
       "                                          reviewText  \\\n",
       "0  Great headphones. It's just the cord is too sh...   \n",
       "1  Really like these headphone.  Wanted something...   \n",
       "2  Wire to headphone broke off in less than a mon...   \n",
       "3                                          Very good   \n",
       "4  Currently returning this product because the s...   \n",
       "\n",
       "                                             summary  ...  \\\n",
       "0                                         Five Stars  ...   \n",
       "1                                         Officewear  ...   \n",
       "2  For the money they are fine. Just hope they ho...  ...   \n",
       "3                                        Three Stars  ...   \n",
       "4  Currently returning this product because the s...  ...   \n",
       "\n",
       "                                             feature  \\\n",
       "0  ['Adjustable headband allows you to create a c...   \n",
       "1  ['Adjustable headband allows you to create a c...   \n",
       "2  ['Adjustable headband allows you to create a c...   \n",
       "3  ['Adjustable headband allows you to create a c...   \n",
       "4  ['Adjustable headband allows you to create a c...   \n",
       "\n",
       "                                                rank  \\\n",
       "0  ['>#316,475 in Cell Phones & Accessories (See ...   \n",
       "1  ['>#316,475 in Cell Phones & Accessories (See ...   \n",
       "2  ['>#316,475 in Cell Phones & Accessories (See ...   \n",
       "3  ['>#316,475 in Cell Phones & Accessories (See ...   \n",
       "4  ['>#316,475 in Cell Phones & Accessories (See ...   \n",
       "\n",
       "                                           also_view             main_cat  \\\n",
       "0  ['B019PO1ZRI', 'B00W87LKXE', 'B019PO1ZNC', 'B0...  Musical Instruments   \n",
       "1  ['B019PO1ZRI', 'B00W87LKXE', 'B019PO1ZNC', 'B0...  Musical Instruments   \n",
       "2  ['B019PO1ZRI', 'B00W87LKXE', 'B019PO1ZNC', 'B0...  Musical Instruments   \n",
       "3  ['B019PO1ZRI', 'B00W87LKXE', 'B019PO1ZNC', 'B0...  Musical Instruments   \n",
       "4  ['B019PO1ZRI', 'B00W87LKXE', 'B019PO1ZNC', 'B0...  Musical Instruments   \n",
       "\n",
       "                                        similar_item date  price  \\\n",
       "0   class=\"a-bordered a-horizontal-stripes  a-spa...  NaN  $7.99   \n",
       "1   class=\"a-bordered a-horizontal-stripes  a-spa...  NaN  $7.99   \n",
       "2   class=\"a-bordered a-horizontal-stripes  a-spa...  NaN  $7.99   \n",
       "3   class=\"a-bordered a-horizontal-stripes  a-spa...  NaN  $7.99   \n",
       "4   class=\"a-bordered a-horizontal-stripes  a-spa...  NaN  $7.99   \n",
       "\n",
       "                                            imageURL  \\\n",
       "0  ['https://images-na.ssl-images-amazon.com/imag...   \n",
       "1  ['https://images-na.ssl-images-amazon.com/imag...   \n",
       "2  ['https://images-na.ssl-images-amazon.com/imag...   \n",
       "3  ['https://images-na.ssl-images-amazon.com/imag...   \n",
       "4  ['https://images-na.ssl-images-amazon.com/imag...   \n",
       "\n",
       "                                     imageURLHighRes details  \n",
       "0  ['https://images-na.ssl-images-amazon.com/imag...     NaN  \n",
       "1  ['https://images-na.ssl-images-amazon.com/imag...     NaN  \n",
       "2  ['https://images-na.ssl-images-amazon.com/imag...     NaN  \n",
       "3  ['https://images-na.ssl-images-amazon.com/imag...     NaN  \n",
       "4  ['https://images-na.ssl-images-amazon.com/imag...     NaN  \n",
       "\n",
       "[5 rows x 30 columns]"
      ]
     },
     "execution_count": 100,
     "metadata": {},
     "output_type": "execute_result"
    }
   ],
   "source": [
    "df.head()"
   ]
  },
  {
   "cell_type": "code",
   "execution_count": 5,
   "metadata": {},
   "outputs": [
    {
     "name": "stdout",
     "output_type": "stream",
     "text": [
      "<class 'pandas.core.frame.DataFrame'>\n",
      "RangeIndex: 471228 entries, 0 to 471227\n",
      "Data columns (total 30 columns):\n",
      " #   Column           Non-Null Count   Dtype  \n",
      "---  ------           --------------   -----  \n",
      " 0   overall          471228 non-null  float64\n",
      " 1   vote             65135 non-null   object \n",
      " 2   verified         471228 non-null  bool   \n",
      " 3   reviewTime       471228 non-null  object \n",
      " 4   reviewerID       471228 non-null  object \n",
      " 5   asin             471228 non-null  object \n",
      " 6   style            294015 non-null  object \n",
      " 7   reviewerName     471143 non-null  object \n",
      " 8   reviewText       471167 non-null  object \n",
      " 9   summary          471147 non-null  object \n",
      " 10  unixReviewTime   471228 non-null  int64  \n",
      " 11  image            9026 non-null    object \n",
      " 12  category         471228 non-null  object \n",
      " 13  tech1            24660 non-null   object \n",
      " 14  description      471228 non-null  object \n",
      " 15  fit              22 non-null      object \n",
      " 16  title            471228 non-null  object \n",
      " 17  also_buy         471228 non-null  object \n",
      " 18  tech2            1748 non-null    object \n",
      " 19  brand            470872 non-null  object \n",
      " 20  feature          471228 non-null  object \n",
      " 21  rank             471228 non-null  object \n",
      " 22  also_view        471228 non-null  object \n",
      " 23  main_cat         471155 non-null  object \n",
      " 24  similar_item     359275 non-null  object \n",
      " 25  date             326078 non-null  object \n",
      " 26  price            281489 non-null  object \n",
      " 27  imageURL         471228 non-null  object \n",
      " 28  imageURLHighRes  471228 non-null  object \n",
      " 29  details          471179 non-null  object \n",
      "dtypes: bool(1), float64(1), int64(1), object(27)\n",
      "memory usage: 104.7+ MB\n"
     ]
    }
   ],
   "source": [
    "df.info()"
   ]
  },
  {
   "cell_type": "code",
   "execution_count": 101,
   "metadata": {},
   "outputs": [
    {
     "data": {
      "text/plain": [
       "36841"
      ]
     },
     "execution_count": 101,
     "metadata": {},
     "output_type": "execute_result"
    }
   ],
   "source": [
    "# Checking for duplicate rows\n",
    "df.astype(str).duplicated().sum()"
   ]
  },
  {
   "cell_type": "code",
   "execution_count": 102,
   "metadata": {},
   "outputs": [],
   "source": [
    "# Dropping duplicates\n",
    "df = df.loc[df.astype(str).drop_duplicates().index]"
   ]
  },
  {
   "cell_type": "code",
   "execution_count": 103,
   "metadata": {},
   "outputs": [
    {
     "name": "stdout",
     "output_type": "stream",
     "text": [
      "<class 'pandas.core.frame.DataFrame'>\n",
      "Int64Index: 434387 entries, 0 to 471227\n",
      "Data columns (total 30 columns):\n",
      " #   Column           Non-Null Count   Dtype  \n",
      "---  ------           --------------   -----  \n",
      " 0   overall          434387 non-null  float64\n",
      " 1   vote             58949 non-null   object \n",
      " 2   verified         434387 non-null  bool   \n",
      " 3   reviewTime       434387 non-null  object \n",
      " 4   reviewerID       434387 non-null  object \n",
      " 5   asin             434387 non-null  object \n",
      " 6   style            268880 non-null  object \n",
      " 7   reviewerName     434312 non-null  object \n",
      " 8   reviewText       434328 non-null  object \n",
      " 9   summary          434307 non-null  object \n",
      " 10  unixReviewTime   434387 non-null  int64  \n",
      " 11  image            8803 non-null    object \n",
      " 12  category         434387 non-null  object \n",
      " 13  tech1            24192 non-null   object \n",
      " 14  description      434387 non-null  object \n",
      " 15  fit              22 non-null      object \n",
      " 16  title            434387 non-null  object \n",
      " 17  also_buy         434387 non-null  object \n",
      " 18  tech2            1742 non-null    object \n",
      " 19  brand            434031 non-null  object \n",
      " 20  feature          434387 non-null  object \n",
      " 21  rank             434387 non-null  object \n",
      " 22  also_view        434387 non-null  object \n",
      " 23  main_cat         434314 non-null  object \n",
      " 24  similar_item     327401 non-null  object \n",
      " 25  date             292551 non-null  object \n",
      " 26  price            256954 non-null  object \n",
      " 27  imageURL         434387 non-null  object \n",
      " 28  imageURLHighRes  434387 non-null  object \n",
      " 29  details          434338 non-null  object \n",
      "dtypes: bool(1), float64(1), int64(1), object(27)\n",
      "memory usage: 99.8+ MB\n"
     ]
    }
   ],
   "source": [
    "df.info()"
   ]
  },
  {
   "cell_type": "code",
   "execution_count": 104,
   "metadata": {},
   "outputs": [
    {
     "data": {
      "text/plain": [
       "overall                 0\n",
       "vote               375438\n",
       "verified                0\n",
       "reviewTime              0\n",
       "reviewerID              0\n",
       "asin                    0\n",
       "style              165507\n",
       "reviewerName           75\n",
       "reviewText             59\n",
       "summary                80\n",
       "unixReviewTime          0\n",
       "image              425584\n",
       "category                0\n",
       "tech1              410195\n",
       "description             0\n",
       "fit                434365\n",
       "title                   0\n",
       "also_buy                0\n",
       "tech2              432645\n",
       "brand                 356\n",
       "feature                 0\n",
       "rank                    0\n",
       "also_view               0\n",
       "main_cat               73\n",
       "similar_item       106986\n",
       "date               141836\n",
       "price              177433\n",
       "imageURL                0\n",
       "imageURLHighRes         0\n",
       "details                49\n",
       "dtype: int64"
      ]
     },
     "execution_count": 104,
     "metadata": {},
     "output_type": "execute_result"
    }
   ],
   "source": [
    "# Checking for null values, focusing on reviewText\n",
    "df.isna().sum()"
   ]
  },
  {
   "cell_type": "code",
   "execution_count": 105,
   "metadata": {},
   "outputs": [],
   "source": [
    "# Dropping rows with null values in reviewText\n",
    "df.dropna(subset = ['reviewText'], inplace = True)"
   ]
  },
  {
   "cell_type": "code",
   "execution_count": 106,
   "metadata": {},
   "outputs": [
    {
     "data": {
      "text/plain": [
       "overall                 0\n",
       "vote               375385\n",
       "verified                0\n",
       "reviewTime              0\n",
       "reviewerID              0\n",
       "asin                    0\n",
       "style              165480\n",
       "reviewerName           75\n",
       "reviewText              0\n",
       "summary                79\n",
       "unixReviewTime          0\n",
       "image              425538\n",
       "category                0\n",
       "tech1              410141\n",
       "description             0\n",
       "fit                434306\n",
       "title                   0\n",
       "also_buy                0\n",
       "tech2              432586\n",
       "brand                 356\n",
       "feature                 0\n",
       "rank                    0\n",
       "also_view               0\n",
       "main_cat               73\n",
       "similar_item       106970\n",
       "date               141815\n",
       "price              177403\n",
       "imageURL                0\n",
       "imageURLHighRes         0\n",
       "details                49\n",
       "dtype: int64"
      ]
     },
     "execution_count": 106,
     "metadata": {},
     "output_type": "execute_result"
    }
   ],
   "source": [
    "df.isna().sum()"
   ]
  },
  {
   "cell_type": "markdown",
   "metadata": {},
   "source": [
    "### Subsetting Data"
   ]
  },
  {
   "cell_type": "code",
   "execution_count": 108,
   "metadata": {},
   "outputs": [],
   "source": [
    "# Dropping other features with many null values. Also drop features that may not be needed.\n",
    "to_drop = ['vote', 'style', 'image', 'tech1', 'fit', 'tech2', 'similar_item', 'date', \n",
    "           'price', 'reviewerID', 'reviewerName', 'unixReviewTime', 'category', 'rank', \n",
    "           'main_cat', 'imageURL', 'imageURLHighRes', 'details']\n",
    "df = df.drop(columns = to_drop)"
   ]
  },
  {
   "cell_type": "code",
   "execution_count": 109,
   "metadata": {},
   "outputs": [
    {
     "name": "stdout",
     "output_type": "stream",
     "text": [
      "<class 'pandas.core.frame.DataFrame'>\n",
      "RangeIndex: 434328 entries, 0 to 434327\n",
      "Data columns (total 12 columns):\n",
      " #   Column       Non-Null Count   Dtype  \n",
      "---  ------       --------------   -----  \n",
      " 0   overall      434328 non-null  float64\n",
      " 1   verified     434328 non-null  bool   \n",
      " 2   reviewTime   434328 non-null  object \n",
      " 3   asin         434328 non-null  object \n",
      " 4   reviewText   434328 non-null  object \n",
      " 5   summary      434249 non-null  object \n",
      " 6   description  434328 non-null  object \n",
      " 7   title        434328 non-null  object \n",
      " 8   also_buy     434328 non-null  object \n",
      " 9   brand        433972 non-null  object \n",
      " 10  feature      434328 non-null  object \n",
      " 11  also_view    434328 non-null  object \n",
      "dtypes: bool(1), float64(1), object(10)\n",
      "memory usage: 36.9+ MB\n"
     ]
    }
   ],
   "source": [
    "df.info()"
   ]
  },
  {
   "cell_type": "markdown",
   "metadata": {},
   "source": [
    "To reduce the size of data, I will only keep asins that have over 200 reviews."
   ]
  },
  {
   "cell_type": "code",
   "execution_count": 110,
   "metadata": {},
   "outputs": [],
   "source": [
    "counts = df['asin'].value_counts()"
   ]
  },
  {
   "cell_type": "code",
   "execution_count": 111,
   "metadata": {},
   "outputs": [],
   "source": [
    "df = df[df['asin'].isin(counts[counts > 200].index)]"
   ]
  },
  {
   "cell_type": "code",
   "execution_count": 112,
   "metadata": {},
   "outputs": [
    {
     "name": "stdout",
     "output_type": "stream",
     "text": [
      "<class 'pandas.core.frame.DataFrame'>\n",
      "Int64Index: 189482 entries, 451 to 430674\n",
      "Data columns (total 12 columns):\n",
      " #   Column       Non-Null Count   Dtype  \n",
      "---  ------       --------------   -----  \n",
      " 0   overall      189482 non-null  float64\n",
      " 1   verified     189482 non-null  bool   \n",
      " 2   reviewTime   189482 non-null  object \n",
      " 3   asin         189482 non-null  object \n",
      " 4   reviewText   189482 non-null  object \n",
      " 5   summary      189446 non-null  object \n",
      " 6   description  189482 non-null  object \n",
      " 7   title        189482 non-null  object \n",
      " 8   also_buy     189482 non-null  object \n",
      " 9   brand        189482 non-null  object \n",
      " 10  feature      189482 non-null  object \n",
      " 11  also_view    189482 non-null  object \n",
      "dtypes: bool(1), float64(1), object(10)\n",
      "memory usage: 17.5+ MB\n"
     ]
    }
   ],
   "source": [
    "df.info()"
   ]
  },
  {
   "cell_type": "code",
   "execution_count": 113,
   "metadata": {},
   "outputs": [],
   "source": [
    "df = df.reset_index(drop = True)"
   ]
  },
  {
   "cell_type": "code",
   "execution_count": 114,
   "metadata": {},
   "outputs": [],
   "source": [
    "# df.to_csv('data/reviews_subset.csv', index = False)"
   ]
  },
  {
   "cell_type": "code",
   "execution_count": 3,
   "metadata": {},
   "outputs": [],
   "source": [
    "df = pd.read_csv('data/reviews_subset.csv')"
   ]
  },
  {
   "cell_type": "markdown",
   "metadata": {},
   "source": [
    "### Review Ratings\n",
    "\n",
    "Product reviews are represented by overall feature, ranging from 1 to 5."
   ]
  },
  {
   "cell_type": "code",
   "execution_count": 31,
   "metadata": {},
   "outputs": [
    {
     "data": {
      "text/plain": [
       "5.0    0.595386\n",
       "4.0    0.190778\n",
       "3.0    0.093159\n",
       "1.0    0.062961\n",
       "2.0    0.057715\n",
       "Name: overall, dtype: float64"
      ]
     },
     "execution_count": 31,
     "metadata": {},
     "output_type": "execute_result"
    }
   ],
   "source": [
    "# Distribution of star ratings\n",
    "df.overall.value_counts(normalize = True)"
   ]
  },
  {
   "cell_type": "code",
   "execution_count": 32,
   "metadata": {},
   "outputs": [],
   "source": [
    "star_count = df.overall.value_counts()"
   ]
  },
  {
   "cell_type": "code",
   "execution_count": 30,
   "metadata": {},
   "outputs": [
    {
     "data": {
      "image/png": "[encoded data removed]",
      "text/plain": [
       "<Figure size 720x360 with 1 Axes>"
      ]
     },
     "metadata": {
      "needs_background": "light"
     },
     "output_type": "display_data"
    }
   ],
   "source": [
    "fig, ax = plt.subplots(figsize = (10,5))\n",
    "sns.barplot(x = star_count.index, y = star_count.values, ax = ax)\n",
    "ax.set_xlabel('Review Stars')\n",
    "ax.set_title('Count by Review Star');"
   ]
  },
  {
   "cell_type": "markdown",
   "metadata": {},
   "source": [
    "Majority of product reviews are 5 star, around 60%. This will be an imbalanced dataset for classification."
   ]
  },
  {
   "cell_type": "markdown",
   "metadata": {},
   "source": [
    "### Examining other features"
   ]
  },
  {
   "cell_type": "code",
   "execution_count": 180,
   "metadata": {},
   "outputs": [
    {
     "name": "stdout",
     "output_type": "stream",
     "text": [
      "2000-06-29 00:00:00\n",
      "2018-10-01 00:00:00\n"
     ]
    }
   ],
   "source": [
    "# Examining date range of reviews\n",
    "df.reviewTime = pd.to_datetime(df.reviewTime)\n",
    "print(df.reviewTime.min())\n",
    "print(df.reviewTime.max())"
   ]
  },
  {
   "cell_type": "code",
   "execution_count": 178,
   "metadata": {},
   "outputs": [
    {
     "data": {
      "text/plain": [
       "395"
      ]
     },
     "execution_count": 178,
     "metadata": {},
     "output_type": "execute_result"
    }
   ],
   "source": [
    "len(df.asin.value_counts())"
   ]
  },
  {
   "cell_type": "code",
   "execution_count": 179,
   "metadata": {},
   "outputs": [
    {
     "data": {
      "text/plain": [
       "169"
      ]
     },
     "execution_count": 179,
     "metadata": {},
     "output_type": "execute_result"
    }
   ],
   "source": [
    "len(df.brand.value_counts())"
   ]
  },
  {
   "cell_type": "markdown",
   "metadata": {},
   "source": [
    "Dataset contains a total of 395 unique products and 169 unique brands dating from June, 2000 to October, 2018."
   ]
  },
  {
   "cell_type": "code",
   "execution_count": 24,
   "metadata": {},
   "outputs": [
    {
     "data": {
      "text/plain": [
       "True     0.891399\n",
       "False    0.108601\n",
       "Name: verified, dtype: float64"
      ]
     },
     "execution_count": 24,
     "metadata": {},
     "output_type": "execute_result"
    }
   ],
   "source": [
    "df.verified.value_counts(normalize = True)"
   ]
  },
  {
   "cell_type": "markdown",
   "metadata": {},
   "source": [
    "Around 90% of reviews have been verified purchases."
   ]
  },
  {
   "cell_type": "code",
   "execution_count": 177,
   "metadata": {},
   "outputs": [
    {
     "data": {
      "image/png": "[encoded data removed]",
      "text/plain": [
       "<Figure size 432x288 with 1 Axes>"
      ]
     },
     "metadata": {
      "needs_background": "light"
     },
     "output_type": "display_data"
    }
   ],
   "source": [
    "sns.barplot(data = df, x = 'verified', y = 'overall');"
   ]
  },
  {
   "cell_type": "markdown",
   "metadata": {},
   "source": [
    "No major difference between average star rating of verified vs non verified purchase reviews."
   ]
  },
  {
   "cell_type": "code",
   "execution_count": 189,
   "metadata": {},
   "outputs": [],
   "source": [
    "# Find top 5 brands with the most reviews\n",
    "top5brand = df.brand.value_counts().head(5)"
   ]
  },
  {
   "cell_type": "code",
   "execution_count": 193,
   "metadata": {},
   "outputs": [
    {
     "data": {
      "image/png": "[encoded data removed]",
      "text/plain": [
       "<Figure size 432x288 with 1 Axes>"
      ]
     },
     "metadata": {
      "needs_background": "light"
     },
     "output_type": "display_data"
    }
   ],
   "source": [
    "sns.barplot(x = top5brand.values, y = top5brand.index, orient = 'h');"
   ]
  },
  {
   "cell_type": "code",
   "execution_count": 201,
   "metadata": {},
   "outputs": [
    {
     "data": {
      "text/plain": [
       "brand\n",
       "Etre Jeune    4.466402\n",
       "Bose          4.374181\n",
       "iNassen       4.328222\n",
       "Sennheiser    4.249293\n",
       "Sony          4.207768\n",
       "Name: overall, dtype: float64"
      ]
     },
     "execution_count": 201,
     "metadata": {},
     "output_type": "execute_result"
    }
   ],
   "source": [
    "# calculate average rating for top 5 most reviewed brands\n",
    "top5 = df[df.brand.isin(top5brand.index)]\n",
    "top5_rating = top5.groupby('brand')['overall'].mean().sort_values(ascending = False)\n",
    "top5_rating"
   ]
  },
  {
   "cell_type": "code",
   "execution_count": 202,
   "metadata": {},
   "outputs": [
    {
     "data": {
      "text/plain": [
       "4.325173061301141"
      ]
     },
     "execution_count": 202,
     "metadata": {},
     "output_type": "execute_result"
    }
   ],
   "source": [
    "top5_rating.mean()"
   ]
  },
  {
   "cell_type": "code",
   "execution_count": 194,
   "metadata": {},
   "outputs": [],
   "source": [
    "# Find bottom 5 brands with the least reviews\n",
    "bot5brand = df.brand.value_counts().tail(5)"
   ]
  },
  {
   "cell_type": "code",
   "execution_count": 195,
   "metadata": {},
   "outputs": [
    {
     "data": {
      "image/png": "[encoded data removed]",
      "text/plain": [
       "<Figure size 432x288 with 1 Axes>"
      ]
     },
     "metadata": {
      "needs_background": "light"
     },
     "output_type": "display_data"
    }
   ],
   "source": [
    "sns.barplot(x = bot5brand.values, y = bot5brand.index, orient = 'h');"
   ]
  },
  {
   "cell_type": "code",
   "execution_count": 205,
   "metadata": {},
   "outputs": [
    {
     "data": {
      "text/plain": [
       "brand\n",
       "AKG       4.380488\n",
       "Audist    4.141463\n",
       "BHM       4.123153\n",
       "AXGIO     3.956522\n",
       "NUTEK     3.478049\n",
       "Name: overall, dtype: float64"
      ]
     },
     "execution_count": 205,
     "metadata": {},
     "output_type": "execute_result"
    }
   ],
   "source": [
    "# calculate average rating\n",
    "bot5 = df[df.brand.isin(bot5brand.index)]\n",
    "bot5_rating = bot5.groupby('brand')['overall'].mean().sort_values(ascending = False)\n",
    "bot5_rating"
   ]
  },
  {
   "cell_type": "code",
   "execution_count": 206,
   "metadata": {},
   "outputs": [
    {
     "data": {
      "text/plain": [
       "4.015934889698007"
      ]
     },
     "execution_count": 206,
     "metadata": {},
     "output_type": "execute_result"
    }
   ],
   "source": [
    "bot5_rating.mean()"
   ]
  },
  {
   "cell_type": "markdown",
   "metadata": {},
   "source": [
    "Average rating for the top 5 most reviewed brand is higher than average rating for least reviewed brand. "
   ]
  },
  {
   "cell_type": "code",
   "execution_count": 210,
   "metadata": {},
   "outputs": [
    {
     "data": {
      "text/plain": [
       "asin\n",
       "B007FHX9OK    4.458315\n",
       "B00BN0N0LW    4.263361\n",
       "B004WODP20    4.262584\n",
       "B00LP6CFEC    4.085190\n",
       "B00STP86CW    4.076492\n",
       "Name: overall, dtype: float64"
      ]
     },
     "execution_count": 210,
     "metadata": {},
     "output_type": "execute_result"
    }
   ],
   "source": [
    "# Finding average rating for top 5 most reviewed asin\n",
    "top5asin = df.asin.value_counts().head(5)\n",
    "asin_top5 = df[df.asin.isin(top5asin.index)]\n",
    "asin_top5_rating = asin_top5.groupby('asin')['overall'].mean().sort_values(ascending = False)\n",
    "asin_top5_rating"
   ]
  },
  {
   "cell_type": "code",
   "execution_count": 211,
   "metadata": {},
   "outputs": [
    {
     "data": {
      "text/plain": [
       "4.229188294447225"
      ]
     },
     "execution_count": 211,
     "metadata": {},
     "output_type": "execute_result"
    }
   ],
   "source": [
    "asin_top5_rating.mean()"
   ]
  },
  {
   "cell_type": "code",
   "execution_count": 212,
   "metadata": {},
   "outputs": [
    {
     "data": {
      "text/plain": [
       "asin\n",
       "B0006DPMU4    4.393035\n",
       "B00PVT4T7K    4.141463\n",
       "B01F5S4BEC    4.123153\n",
       "B014LMX5AY    4.121951\n",
       "B0014II9F0    3.478049\n",
       "Name: overall, dtype: float64"
      ]
     },
     "execution_count": 212,
     "metadata": {},
     "output_type": "execute_result"
    }
   ],
   "source": [
    "# Finding average rating for 5 least reviewed asin\n",
    "bot5asin = df.asin.value_counts().tail(5)\n",
    "asin_bot5 = df[df.asin.isin(bot5asin.index)]\n",
    "asin_bot5_rating = asin_bot5.groupby('asin')['overall'].mean().sort_values(ascending = False)\n",
    "asin_bot5_rating"
   ]
  },
  {
   "cell_type": "code",
   "execution_count": 213,
   "metadata": {},
   "outputs": [
    {
     "data": {
      "text/plain": [
       "4.051530189972879"
      ]
     },
     "execution_count": 213,
     "metadata": {},
     "output_type": "execute_result"
    }
   ],
   "source": [
    "asin_bot5_rating.mean()"
   ]
  },
  {
   "cell_type": "markdown",
   "metadata": {},
   "source": [
    "Same can be seen with the most and least reviewed products average ratings are higher as reviews increase."
   ]
  },
  {
   "cell_type": "markdown",
   "metadata": {},
   "source": [
    "## Sentiment Validation of Star Ratings\n",
    "\n",
    "In order to reduce this problem to a binary classification. I will ultilize NLTK's VADER library, which is designed to provide a sentiment intensity score for a given text, to validate positive sentiment with high ratings and negative sentiment with low ratings. Vader uses a lexicon-based approach, where it matches words and phrases in the text to a pre-defined set of positive and negative words, along with intensifiers and negators."
   ]
  },
  {
   "cell_type": "code",
   "execution_count": 69,
   "metadata": {},
   "outputs": [],
   "source": [
    "# initialize SIA\n",
    "sia = SentimentIntensityAnalyzer()"
   ]
  },
  {
   "cell_type": "code",
   "execution_count": 70,
   "metadata": {},
   "outputs": [
    {
     "data": {
      "text/plain": [
       "'Get the SportaPros instead.  They look better, can be worn in a street configuration, cost less, and sound exactly the same.'"
      ]
     },
     "execution_count": 70,
     "metadata": {},
     "output_type": "execute_result"
    }
   ],
   "source": [
    "# Example text\n",
    "df.reviewText[0]"
   ]
  },
  {
   "cell_type": "code",
   "execution_count": 71,
   "metadata": {},
   "outputs": [
    {
     "data": {
      "text/plain": [
       "4.0"
      ]
     },
     "execution_count": 71,
     "metadata": {},
     "output_type": "execute_result"
    }
   ],
   "source": [
    "# Example rating\n",
    "df.overall[0]"
   ]
  },
  {
   "cell_type": "code",
   "execution_count": 72,
   "metadata": {},
   "outputs": [
    {
     "data": {
      "text/plain": [
       "{'neg': 0.095, 'neu': 0.779, 'pos': 0.126, 'compound': 0.1779}"
      ]
     },
     "execution_count": 72,
     "metadata": {},
     "output_type": "execute_result"
    }
   ],
   "source": [
    "# Obtain polarity score of text\n",
    "sia.polarity_scores(df.reviewText[0])"
   ]
  },
  {
   "cell_type": "markdown",
   "metadata": {},
   "source": [
    "Vader provides measures of sentiment polarity (positive, negative, or neutral on a scale of 0 to 1) and intensity (how strongly positive or negative the sentiment is on the scale of -1 to 1). "
   ]
  },
  {
   "cell_type": "code",
   "execution_count": 73,
   "metadata": {},
   "outputs": [],
   "source": [
    "sent_val_df = df.copy()"
   ]
  },
  {
   "cell_type": "code",
   "execution_count": 74,
   "metadata": {},
   "outputs": [],
   "source": [
    "# Adding in values from VADER to dataframe\n",
    "sent_val_df['compound'] = [sia.polarity_scores(str(x))['compound'] for x in df['reviewText']]\n",
    "sent_val_df['neg'] = [sia.polarity_scores(str(x))['neg'] for x in df['reviewText']]\n",
    "sent_val_df['neu'] = [sia.polarity_scores(str(x))['neu'] for x in df['reviewText']]\n",
    "sent_val_df['pos'] = [sia.polarity_scores(str(x))['pos'] for x in df['reviewText']]"
   ]
  },
  {
   "cell_type": "code",
   "execution_count": 75,
   "metadata": {},
   "outputs": [
    {
     "data": {
      "text/html": [
       "<div>\n",
       "<style scoped>\n",
       "    .dataframe tbody tr th:only-of-type {\n",
       "        vertical-align: middle;\n",
       "    }\n",
       "\n",
       "    .dataframe tbody tr th {\n",
       "        vertical-align: top;\n",
       "    }\n",
       "\n",
       "    .dataframe thead th {\n",
       "        text-align: right;\n",
       "    }\n",
       "</style>\n",
       "<table border=\"1\" class=\"dataframe\">\n",
       "  <thead>\n",
       "    <tr style=\"text-align: right;\">\n",
       "      <th></th>\n",
       "      <th>overall</th>\n",
       "      <th>verified</th>\n",
       "      <th>reviewTime</th>\n",
       "      <th>asin</th>\n",
       "      <th>reviewText</th>\n",
       "      <th>summary</th>\n",
       "      <th>description</th>\n",
       "      <th>title</th>\n",
       "      <th>also_buy</th>\n",
       "      <th>brand</th>\n",
       "      <th>feature</th>\n",
       "      <th>also_view</th>\n",
       "      <th>compound</th>\n",
       "      <th>neg</th>\n",
       "      <th>neu</th>\n",
       "      <th>pos</th>\n",
       "    </tr>\n",
       "  </thead>\n",
       "  <tbody>\n",
       "    <tr>\n",
       "      <th>0</th>\n",
       "      <td>4.0</td>\n",
       "      <td>False</td>\n",
       "      <td>07 12, 2000</td>\n",
       "      <td>B00001P4ZH</td>\n",
       "      <td>Get the SportaPros instead.  They look better,...</td>\n",
       "      <td>Get the SportaPros Instead.</td>\n",
       "      <td>['Dynamic element design for deep bass perform...</td>\n",
       "      <td>koss porta pro on ear headphones with case, bl...</td>\n",
       "      <td>['B000O2KIMO', 'B071XYY2Q5', 'B0006B486K', 'B0...</td>\n",
       "      <td>Koss</td>\n",
       "      <td>['Designed for deep bass performance', 'Comfor...</td>\n",
       "      <td>[]</td>\n",
       "      <td>0.1779</td>\n",
       "      <td>0.095</td>\n",
       "      <td>0.779</td>\n",
       "      <td>0.126</td>\n",
       "    </tr>\n",
       "    <tr>\n",
       "      <th>1</th>\n",
       "      <td>5.0</td>\n",
       "      <td>False</td>\n",
       "      <td>04 26, 2018</td>\n",
       "      <td>B00001P4ZH</td>\n",
       "      <td>I've been looking for a lighter alternative to...</td>\n",
       "      <td>Perfect</td>\n",
       "      <td>['Dynamic element design for deep bass perform...</td>\n",
       "      <td>koss porta pro on ear headphones with case, bl...</td>\n",
       "      <td>['B000O2KIMO', 'B071XYY2Q5', 'B0006B486K', 'B0...</td>\n",
       "      <td>Koss</td>\n",
       "      <td>['Designed for deep bass performance', 'Comfor...</td>\n",
       "      <td>[]</td>\n",
       "      <td>0.9905</td>\n",
       "      <td>0.037</td>\n",
       "      <td>0.778</td>\n",
       "      <td>0.185</td>\n",
       "    </tr>\n",
       "    <tr>\n",
       "      <th>2</th>\n",
       "      <td>5.0</td>\n",
       "      <td>False</td>\n",
       "      <td>04 22, 2018</td>\n",
       "      <td>B00001P4ZH</td>\n",
       "      <td>The finest headphones available. You can spend...</td>\n",
       "      <td>You will just love portapro, we all do.</td>\n",
       "      <td>['Dynamic element design for deep bass perform...</td>\n",
       "      <td>koss porta pro on ear headphones with case, bl...</td>\n",
       "      <td>['B000O2KIMO', 'B071XYY2Q5', 'B0006B486K', 'B0...</td>\n",
       "      <td>Koss</td>\n",
       "      <td>['Designed for deep bass performance', 'Comfor...</td>\n",
       "      <td>[]</td>\n",
       "      <td>0.9822</td>\n",
       "      <td>0.030</td>\n",
       "      <td>0.715</td>\n",
       "      <td>0.256</td>\n",
       "    </tr>\n",
       "    <tr>\n",
       "      <th>3</th>\n",
       "      <td>5.0</td>\n",
       "      <td>True</td>\n",
       "      <td>04 13, 2018</td>\n",
       "      <td>B00001P4ZH</td>\n",
       "      <td>3rd pair of these I've purchased.  My wife has...</td>\n",
       "      <td>Great sounding Koss Headphones</td>\n",
       "      <td>['Dynamic element design for deep bass perform...</td>\n",
       "      <td>koss porta pro on ear headphones with case, bl...</td>\n",
       "      <td>['B000O2KIMO', 'B071XYY2Q5', 'B0006B486K', 'B0...</td>\n",
       "      <td>Koss</td>\n",
       "      <td>['Designed for deep bass performance', 'Comfor...</td>\n",
       "      <td>[]</td>\n",
       "      <td>0.9077</td>\n",
       "      <td>0.031</td>\n",
       "      <td>0.823</td>\n",
       "      <td>0.147</td>\n",
       "    </tr>\n",
       "    <tr>\n",
       "      <th>4</th>\n",
       "      <td>5.0</td>\n",
       "      <td>True</td>\n",
       "      <td>04 9, 2018</td>\n",
       "      <td>B00001P4ZH</td>\n",
       "      <td>My old Koss Porta Pros finally got beat to dea...</td>\n",
       "      <td>Sound much better than they should!</td>\n",
       "      <td>['Dynamic element design for deep bass perform...</td>\n",
       "      <td>koss porta pro on ear headphones with case, bl...</td>\n",
       "      <td>['B000O2KIMO', 'B071XYY2Q5', 'B0006B486K', 'B0...</td>\n",
       "      <td>Koss</td>\n",
       "      <td>['Designed for deep bass performance', 'Comfor...</td>\n",
       "      <td>[]</td>\n",
       "      <td>0.9729</td>\n",
       "      <td>0.050</td>\n",
       "      <td>0.758</td>\n",
       "      <td>0.192</td>\n",
       "    </tr>\n",
       "  </tbody>\n",
       "</table>\n",
       "</div>"
      ],
      "text/plain": [
       "   overall  verified   reviewTime        asin  \\\n",
       "0      4.0     False  07 12, 2000  B00001P4ZH   \n",
       "1      5.0     False  04 26, 2018  B00001P4ZH   \n",
       "2      5.0     False  04 22, 2018  B00001P4ZH   \n",
       "3      5.0      True  04 13, 2018  B00001P4ZH   \n",
       "4      5.0      True   04 9, 2018  B00001P4ZH   \n",
       "\n",
       "                                          reviewText  \\\n",
       "0  Get the SportaPros instead.  They look better,...   \n",
       "1  I've been looking for a lighter alternative to...   \n",
       "2  The finest headphones available. You can spend...   \n",
       "3  3rd pair of these I've purchased.  My wife has...   \n",
       "4  My old Koss Porta Pros finally got beat to dea...   \n",
       "\n",
       "                                   summary  \\\n",
       "0              Get the SportaPros Instead.   \n",
       "1                                  Perfect   \n",
       "2  You will just love portapro, we all do.   \n",
       "3           Great sounding Koss Headphones   \n",
       "4      Sound much better than they should!   \n",
       "\n",
       "                                         description  \\\n",
       "0  ['Dynamic element design for deep bass perform...   \n",
       "1  ['Dynamic element design for deep bass perform...   \n",
       "2  ['Dynamic element design for deep bass perform...   \n",
       "3  ['Dynamic element design for deep bass perform...   \n",
       "4  ['Dynamic element design for deep bass perform...   \n",
       "\n",
       "                                               title  \\\n",
       "0  koss porta pro on ear headphones with case, bl...   \n",
       "1  koss porta pro on ear headphones with case, bl...   \n",
       "2  koss porta pro on ear headphones with case, bl...   \n",
       "3  koss porta pro on ear headphones with case, bl...   \n",
       "4  koss porta pro on ear headphones with case, bl...   \n",
       "\n",
       "                                            also_buy brand  \\\n",
       "0  ['B000O2KIMO', 'B071XYY2Q5', 'B0006B486K', 'B0...  Koss   \n",
       "1  ['B000O2KIMO', 'B071XYY2Q5', 'B0006B486K', 'B0...  Koss   \n",
       "2  ['B000O2KIMO', 'B071XYY2Q5', 'B0006B486K', 'B0...  Koss   \n",
       "3  ['B000O2KIMO', 'B071XYY2Q5', 'B0006B486K', 'B0...  Koss   \n",
       "4  ['B000O2KIMO', 'B071XYY2Q5', 'B0006B486K', 'B0...  Koss   \n",
       "\n",
       "                                             feature also_view  compound  \\\n",
       "0  ['Designed for deep bass performance', 'Comfor...        []    0.1779   \n",
       "1  ['Designed for deep bass performance', 'Comfor...        []    0.9905   \n",
       "2  ['Designed for deep bass performance', 'Comfor...        []    0.9822   \n",
       "3  ['Designed for deep bass performance', 'Comfor...        []    0.9077   \n",
       "4  ['Designed for deep bass performance', 'Comfor...        []    0.9729   \n",
       "\n",
       "     neg    neu    pos  \n",
       "0  0.095  0.779  0.126  \n",
       "1  0.037  0.778  0.185  \n",
       "2  0.030  0.715  0.256  \n",
       "3  0.031  0.823  0.147  \n",
       "4  0.050  0.758  0.192  "
      ]
     },
     "execution_count": 75,
     "metadata": {},
     "output_type": "execute_result"
    }
   ],
   "source": [
    "sent_val_df.head()"
   ]
  },
  {
   "cell_type": "code",
   "execution_count": 76,
   "metadata": {},
   "outputs": [
    {
     "data": {
      "image/png": "[encoded data removed]",
      "text/plain": [
       "<Figure size 1080x720 with 1 Axes>"
      ]
     },
     "metadata": {
      "needs_background": "light"
     },
     "output_type": "display_data"
    }
   ],
   "source": [
    "# Examining compund score vs star rating\n",
    "fig, ax = plt.subplots(figsize = (15,10))\n",
    "ax = sns.barplot(data = sent_val_df, x = 'overall', y = 'compound')"
   ]
  },
  {
   "cell_type": "markdown",
   "metadata": {},
   "source": [
    "Above graph shows as star ratings increase positive sentiment also increases."
   ]
  },
  {
   "cell_type": "code",
   "execution_count": 35,
   "metadata": {},
   "outputs": [
    {
     "data": {
      "image/png": "[encoded data removed]",
      "text/plain": [
       "<Figure size 1080x360 with 3 Axes>"
      ]
     },
     "metadata": {
      "needs_background": "light"
     },
     "output_type": "display_data"
    }
   ],
   "source": [
    "# Examine the positive, neutral, and negative scores vs star rating\n",
    "fig, axs = plt.subplots(1, 3, figsize=(15,5))\n",
    "sns.barplot(data = sent_val_df, x = 'overall', y = 'pos', ax = axs[0])\n",
    "sns.barplot(data = sent_val_df, x = 'overall', y = 'neu', ax = axs[1])\n",
    "sns.barplot(data = sent_val_df, x = 'overall', y = 'neg', ax = axs[2])\n",
    "axs[0].set_title('Positive')\n",
    "axs[1].set_title('Neutral')\n",
    "axs[2].set_title('Negative')\n",
    "fig.tight_layout();"
   ]
  },
  {
   "cell_type": "markdown",
   "metadata": {},
   "source": [
    "Positive sentiment score increases as star rating inscreases. Neutral score is relatively flat across star ratings. Negative score decreases as star rating increases. This confirms the connection between sentiment and star rating of reviews."
   ]
  },
  {
   "cell_type": "code",
   "execution_count": 77,
   "metadata": {},
   "outputs": [],
   "source": [
    "# Function to label star ratings above 3 to positive and ratings 3 or less to negative\n",
    "def label_encode(x):\n",
    "    if x <= 3:\n",
    "        return 'Negative'\n",
    "    if x > 3:\n",
    "        return 'Positive'"
   ]
  },
  {
   "cell_type": "code",
   "execution_count": 78,
   "metadata": {},
   "outputs": [],
   "source": [
    "df[\"sentiment\"] = df[\"overall\"].apply(lambda x: label_encode(x))"
   ]
  },
  {
   "cell_type": "code",
   "execution_count": 79,
   "metadata": {},
   "outputs": [
    {
     "data": {
      "text/plain": [
       "Positive    0.786164\n",
       "Negative    0.213836\n",
       "Name: sentiment, dtype: float64"
      ]
     },
     "execution_count": 79,
     "metadata": {},
     "output_type": "execute_result"
    }
   ],
   "source": [
    "df['sentiment'].value_counts(normalize = True)"
   ]
  },
  {
   "cell_type": "markdown",
   "metadata": {},
   "source": [
    "Around 79% of reviews is positive and 21% negative. "
   ]
  },
  {
   "cell_type": "markdown",
   "metadata": {},
   "source": [
    "## Text Analysis"
   ]
  },
  {
   "cell_type": "markdown",
   "metadata": {},
   "source": [
    "The main feature I will be working with will be reviewText. Upon some exploration of this feature, there is a high number of short text reviews. In order to get more information to work with I will combine the reviewText and summary features together."
   ]
  },
  {
   "cell_type": "code",
   "execution_count": 39,
   "metadata": {},
   "outputs": [
    {
     "data": {
      "text/plain": [
       "'Very good headphones.'"
      ]
     },
     "execution_count": 39,
     "metadata": {},
     "output_type": "execute_result"
    }
   ],
   "source": [
    "df.reviewText[100]"
   ]
  },
  {
   "cell_type": "code",
   "execution_count": 40,
   "metadata": {},
   "outputs": [
    {
     "data": {
      "text/plain": [
       "'Five Stars'"
      ]
     },
     "execution_count": 40,
     "metadata": {},
     "output_type": "execute_result"
    }
   ],
   "source": [
    "df.summary[100]"
   ]
  },
  {
   "cell_type": "code",
   "execution_count": 41,
   "metadata": {},
   "outputs": [
    {
     "data": {
      "text/plain": [
       "'Very good headphones. Five Stars'"
      ]
     },
     "execution_count": 41,
     "metadata": {},
     "output_type": "execute_result"
    }
   ],
   "source": [
    "df.reviewText[100] + \" \" + df.summary[100]"
   ]
  },
  {
   "cell_type": "code",
   "execution_count": 81,
   "metadata": {},
   "outputs": [],
   "source": [
    "# declare summary as text so it will not clear reviewText when combining with the 20 null values found in summary.\n",
    "df['reviews'] = df.reviewText + ' ' + df.summary.astype(str)"
   ]
  },
  {
   "cell_type": "markdown",
   "metadata": {},
   "source": [
    "I will now create some features to help examine some statistics of the text data, such as amounts of words and characters in reviews."
   ]
  },
  {
   "cell_type": "code",
   "execution_count": 82,
   "metadata": {},
   "outputs": [],
   "source": [
    "text_stats_df = df[['reviews', 'sentiment']].copy()"
   ]
  },
  {
   "cell_type": "code",
   "execution_count": 83,
   "metadata": {},
   "outputs": [
    {
     "data": {
      "text/html": [
       "<div>\n",
       "<style scoped>\n",
       "    .dataframe tbody tr th:only-of-type {\n",
       "        vertical-align: middle;\n",
       "    }\n",
       "\n",
       "    .dataframe tbody tr th {\n",
       "        vertical-align: top;\n",
       "    }\n",
       "\n",
       "    .dataframe thead th {\n",
       "        text-align: right;\n",
       "    }\n",
       "</style>\n",
       "<table border=\"1\" class=\"dataframe\">\n",
       "  <thead>\n",
       "    <tr style=\"text-align: right;\">\n",
       "      <th></th>\n",
       "      <th>reviews</th>\n",
       "      <th>sentiment</th>\n",
       "    </tr>\n",
       "  </thead>\n",
       "  <tbody>\n",
       "    <tr>\n",
       "      <th>0</th>\n",
       "      <td>Get the SportaPros instead.  They look better,...</td>\n",
       "      <td>Positive</td>\n",
       "    </tr>\n",
       "    <tr>\n",
       "      <th>1</th>\n",
       "      <td>I've been looking for a lighter alternative to...</td>\n",
       "      <td>Positive</td>\n",
       "    </tr>\n",
       "    <tr>\n",
       "      <th>2</th>\n",
       "      <td>The finest headphones available. You can spend...</td>\n",
       "      <td>Positive</td>\n",
       "    </tr>\n",
       "    <tr>\n",
       "      <th>3</th>\n",
       "      <td>3rd pair of these I've purchased.  My wife has...</td>\n",
       "      <td>Positive</td>\n",
       "    </tr>\n",
       "    <tr>\n",
       "      <th>4</th>\n",
       "      <td>My old Koss Porta Pros finally got beat to dea...</td>\n",
       "      <td>Positive</td>\n",
       "    </tr>\n",
       "  </tbody>\n",
       "</table>\n",
       "</div>"
      ],
      "text/plain": [
       "                                             reviews sentiment\n",
       "0  Get the SportaPros instead.  They look better,...  Positive\n",
       "1  I've been looking for a lighter alternative to...  Positive\n",
       "2  The finest headphones available. You can spend...  Positive\n",
       "3  3rd pair of these I've purchased.  My wife has...  Positive\n",
       "4  My old Koss Porta Pros finally got beat to dea...  Positive"
      ]
     },
     "execution_count": 83,
     "metadata": {},
     "output_type": "execute_result"
    }
   ],
   "source": [
    "text_stats_df.head()"
   ]
  },
  {
   "cell_type": "code",
   "execution_count": 84,
   "metadata": {},
   "outputs": [],
   "source": [
    "# Create functions to count the amount of words and characters in a review\n",
    "def word_count(text):\n",
    "    return len(word_tokenize(text))\n",
    "\n",
    "def char_count(text):\n",
    "    text_without_spaces = text.replace(\" \", \"\")\n",
    "    return len(text_without_spaces)"
   ]
  },
  {
   "cell_type": "code",
   "execution_count": 85,
   "metadata": {},
   "outputs": [],
   "source": [
    "text_stats_df['word_count'] = df.reviews.apply(lambda x: word_count(x))\n",
    "text_stats_df['review_len'] = df.reviews.apply(lambda x: char_count(x))"
   ]
  },
  {
   "cell_type": "code",
   "execution_count": 86,
   "metadata": {},
   "outputs": [
    {
     "data": {
      "text/html": [
       "<div>\n",
       "<style scoped>\n",
       "    .dataframe tbody tr th:only-of-type {\n",
       "        vertical-align: middle;\n",
       "    }\n",
       "\n",
       "    .dataframe tbody tr th {\n",
       "        vertical-align: top;\n",
       "    }\n",
       "\n",
       "    .dataframe thead th {\n",
       "        text-align: right;\n",
       "    }\n",
       "</style>\n",
       "<table border=\"1\" class=\"dataframe\">\n",
       "  <thead>\n",
       "    <tr style=\"text-align: right;\">\n",
       "      <th></th>\n",
       "      <th>reviews</th>\n",
       "      <th>sentiment</th>\n",
       "      <th>word_count</th>\n",
       "      <th>review_len</th>\n",
       "    </tr>\n",
       "  </thead>\n",
       "  <tbody>\n",
       "    <tr>\n",
       "      <th>0</th>\n",
       "      <td>Get the SportaPros instead.  They look better,...</td>\n",
       "      <td>Positive</td>\n",
       "      <td>31</td>\n",
       "      <td>127</td>\n",
       "    </tr>\n",
       "    <tr>\n",
       "      <th>1</th>\n",
       "      <td>I've been looking for a lighter alternative to...</td>\n",
       "      <td>Positive</td>\n",
       "      <td>263</td>\n",
       "      <td>1097</td>\n",
       "    </tr>\n",
       "    <tr>\n",
       "      <th>2</th>\n",
       "      <td>The finest headphones available. You can spend...</td>\n",
       "      <td>Positive</td>\n",
       "      <td>119</td>\n",
       "      <td>512</td>\n",
       "    </tr>\n",
       "    <tr>\n",
       "      <th>3</th>\n",
       "      <td>3rd pair of these I've purchased.  My wife has...</td>\n",
       "      <td>Positive</td>\n",
       "      <td>108</td>\n",
       "      <td>419</td>\n",
       "    </tr>\n",
       "    <tr>\n",
       "      <th>4</th>\n",
       "      <td>My old Koss Porta Pros finally got beat to dea...</td>\n",
       "      <td>Positive</td>\n",
       "      <td>170</td>\n",
       "      <td>713</td>\n",
       "    </tr>\n",
       "  </tbody>\n",
       "</table>\n",
       "</div>"
      ],
      "text/plain": [
       "                                             reviews sentiment  word_count  \\\n",
       "0  Get the SportaPros instead.  They look better,...  Positive          31   \n",
       "1  I've been looking for a lighter alternative to...  Positive         263   \n",
       "2  The finest headphones available. You can spend...  Positive         119   \n",
       "3  3rd pair of these I've purchased.  My wife has...  Positive         108   \n",
       "4  My old Koss Porta Pros finally got beat to dea...  Positive         170   \n",
       "\n",
       "   review_len  \n",
       "0         127  \n",
       "1        1097  \n",
       "2         512  \n",
       "3         419  \n",
       "4         713  "
      ]
     },
     "execution_count": 86,
     "metadata": {},
     "output_type": "execute_result"
    }
   ],
   "source": [
    "text_stats_df.head()"
   ]
  },
  {
   "cell_type": "code",
   "execution_count": 88,
   "metadata": {},
   "outputs": [
    {
     "data": {
      "image/png": "[encoded data removed]",
      "text/plain": [
       "<Figure size 720x720 with 1 Axes>"
      ]
     },
     "metadata": {
      "needs_background": "light"
     },
     "output_type": "display_data"
    }
   ],
   "source": [
    "# Average word count of positive and negative reviews\n",
    "text_stats_df.groupby('sentiment')['word_count'].mean().plot(kind = 'barh', figsize = (10,10));"
   ]
  },
  {
   "cell_type": "code",
   "execution_count": 89,
   "metadata": {},
   "outputs": [
    {
     "data": {
      "image/png": "[encoded data removed]",
      "text/plain": [
       "<Figure size 720x720 with 1 Axes>"
      ]
     },
     "metadata": {
      "needs_background": "light"
     },
     "output_type": "display_data"
    }
   ],
   "source": [
    "# Average review length of positive and negative reviews\n",
    "text_stats_df.groupby('sentiment')['review_len'].mean().plot(kind = 'barh', figsize = (10,10));"
   ]
  },
  {
   "cell_type": "markdown",
   "metadata": {},
   "source": [
    "Negative reviews tend to be slightly longer than positive reviews. This may explain that people are more descriptive when they feel negativley towards a product. The below correlation matrix confirms this, even though the correlation between word count, review length, and sentiment is small it is still negative."
   ]
  },
  {
   "cell_type": "code",
   "execution_count": 50,
   "metadata": {},
   "outputs": [
    {
     "data": {
      "image/png": "[encoded data removed]",
      "text/plain": [
       "<Figure size 720x720 with 2 Axes>"
      ]
     },
     "metadata": {
      "needs_background": "light"
     },
     "output_type": "display_data"
    }
   ],
   "source": [
    "correlation = text_stats_df[['sentiment', 'word_count', 'review_len']].corr()\n",
    "mask = np.zeros_like(correlation, dtype=np.bool)\n",
    "mask[np.triu_indices_from(mask)] = True\n",
    "plt.figure(figsize=(10,10))\n",
    "plt.xticks(fontsize=10)\n",
    "plt.yticks(fontsize=10)\n",
    "sns.heatmap(correlation, cmap='coolwarm', annot=True, annot_kws={\"size\": 10}, linewidths=10, vmin=-1.5, mask=mask);"
   ]
  },
  {
   "cell_type": "code",
   "execution_count": 90,
   "metadata": {},
   "outputs": [
    {
     "data": {
      "text/html": [
       "<div>\n",
       "<style scoped>\n",
       "    .dataframe tbody tr th:only-of-type {\n",
       "        vertical-align: middle;\n",
       "    }\n",
       "\n",
       "    .dataframe tbody tr th {\n",
       "        vertical-align: top;\n",
       "    }\n",
       "\n",
       "    .dataframe thead th {\n",
       "        text-align: right;\n",
       "    }\n",
       "</style>\n",
       "<table border=\"1\" class=\"dataframe\">\n",
       "  <thead>\n",
       "    <tr style=\"text-align: right;\">\n",
       "      <th></th>\n",
       "      <th>word_count</th>\n",
       "      <th>review_len</th>\n",
       "    </tr>\n",
       "  </thead>\n",
       "  <tbody>\n",
       "    <tr>\n",
       "      <th>count</th>\n",
       "      <td>189482.000000</td>\n",
       "      <td>189482.000000</td>\n",
       "    </tr>\n",
       "    <tr>\n",
       "      <th>mean</th>\n",
       "      <td>89.689163</td>\n",
       "      <td>351.412810</td>\n",
       "    </tr>\n",
       "    <tr>\n",
       "      <th>std</th>\n",
       "      <td>131.407122</td>\n",
       "      <td>521.631066</td>\n",
       "    </tr>\n",
       "    <tr>\n",
       "      <th>min</th>\n",
       "      <td>2.000000</td>\n",
       "      <td>4.000000</td>\n",
       "    </tr>\n",
       "    <tr>\n",
       "      <th>25%</th>\n",
       "      <td>22.000000</td>\n",
       "      <td>86.000000</td>\n",
       "    </tr>\n",
       "    <tr>\n",
       "      <th>50%</th>\n",
       "      <td>49.000000</td>\n",
       "      <td>192.000000</td>\n",
       "    </tr>\n",
       "    <tr>\n",
       "      <th>75%</th>\n",
       "      <td>105.000000</td>\n",
       "      <td>410.000000</td>\n",
       "    </tr>\n",
       "    <tr>\n",
       "      <th>max</th>\n",
       "      <td>4744.000000</td>\n",
       "      <td>19244.000000</td>\n",
       "    </tr>\n",
       "  </tbody>\n",
       "</table>\n",
       "</div>"
      ],
      "text/plain": [
       "          word_count     review_len\n",
       "count  189482.000000  189482.000000\n",
       "mean       89.689163     351.412810\n",
       "std       131.407122     521.631066\n",
       "min         2.000000       4.000000\n",
       "25%        22.000000      86.000000\n",
       "50%        49.000000     192.000000\n",
       "75%       105.000000     410.000000\n",
       "max      4744.000000   19244.000000"
      ]
     },
     "execution_count": 90,
     "metadata": {},
     "output_type": "execute_result"
    }
   ],
   "source": [
    "text_stats_df.describe()"
   ]
  },
  {
   "cell_type": "code",
   "execution_count": 96,
   "metadata": {},
   "outputs": [
    {
     "data": {
      "image/png": "[encoded data removed]",
      "text/plain": [
       "<Figure size 720x360 with 1 Axes>"
      ]
     },
     "metadata": {
      "needs_background": "light"
     },
     "output_type": "display_data"
    }
   ],
   "source": [
    "text_stats_df.word_count.hist(figsize = (10,5))\n",
    "plt.title('Word Count Distribution of Reviews');"
   ]
  },
  {
   "cell_type": "code",
   "execution_count": 53,
   "metadata": {},
   "outputs": [
    {
     "data": {
      "image/png": "[encoded data removed]",
      "text/plain": [
       "<Figure size 432x288 with 1 Axes>"
      ]
     },
     "metadata": {
      "needs_background": "light"
     },
     "output_type": "display_data"
    }
   ],
   "source": [
    "text_stats_df.review_len.hist();"
   ]
  },
  {
   "cell_type": "markdown",
   "metadata": {},
   "source": [
    "Examining other statistics of word count and review length, I see most reviews are under 100 words and under around 400 characters."
   ]
  },
  {
   "cell_type": "code",
   "execution_count": 54,
   "metadata": {},
   "outputs": [
    {
     "data": {
      "text/html": [
       "<div>\n",
       "<style scoped>\n",
       "    .dataframe tbody tr th:only-of-type {\n",
       "        vertical-align: middle;\n",
       "    }\n",
       "\n",
       "    .dataframe tbody tr th {\n",
       "        vertical-align: top;\n",
       "    }\n",
       "\n",
       "    .dataframe thead th {\n",
       "        text-align: right;\n",
       "    }\n",
       "</style>\n",
       "<table border=\"1\" class=\"dataframe\">\n",
       "  <thead>\n",
       "    <tr style=\"text-align: right;\">\n",
       "      <th></th>\n",
       "      <th>reviews</th>\n",
       "      <th>sentiment</th>\n",
       "      <th>word_count</th>\n",
       "      <th>review_len</th>\n",
       "    </tr>\n",
       "  </thead>\n",
       "  <tbody>\n",
       "    <tr>\n",
       "      <th>111300</th>\n",
       "      <td>UPDATE 12/12/15: Recently my Beats Studio Wire...</td>\n",
       "      <td>1</td>\n",
       "      <td>4744</td>\n",
       "      <td>19244</td>\n",
       "    </tr>\n",
       "    <tr>\n",
       "      <th>2772</th>\n",
       "      <td>If this is your first foray into high-end audi...</td>\n",
       "      <td>1</td>\n",
       "      <td>4014</td>\n",
       "      <td>16470</td>\n",
       "    </tr>\n",
       "    <tr>\n",
       "      <th>174311</th>\n",
       "      <td>&lt;div id=\"video-block-R21WD3K0GDQSEG\" class=\"a-...</td>\n",
       "      <td>1</td>\n",
       "      <td>3879</td>\n",
       "      <td>15043</td>\n",
       "    </tr>\n",
       "    <tr>\n",
       "      <th>97913</th>\n",
       "      <td>Taking the Bose MIE2i, the most comfortable an...</td>\n",
       "      <td>1</td>\n",
       "      <td>3719</td>\n",
       "      <td>15626</td>\n",
       "    </tr>\n",
       "    <tr>\n",
       "      <th>169790</th>\n",
       "      <td>Item arrived on time, well-packaged. Contained...</td>\n",
       "      <td>1</td>\n",
       "      <td>3256</td>\n",
       "      <td>12579</td>\n",
       "    </tr>\n",
       "    <tr>\n",
       "      <th>2854</th>\n",
       "      <td>I bought the HD600 refurbished from amazon.com...</td>\n",
       "      <td>1</td>\n",
       "      <td>3124</td>\n",
       "      <td>12914</td>\n",
       "    </tr>\n",
       "    <tr>\n",
       "      <th>134290</th>\n",
       "      <td>I've spent a long time in the following compar...</td>\n",
       "      <td>1</td>\n",
       "      <td>3043</td>\n",
       "      <td>11828</td>\n",
       "    </tr>\n",
       "    <tr>\n",
       "      <th>162588</th>\n",
       "      <td>I bought these headphones and they were my fir...</td>\n",
       "      <td>1</td>\n",
       "      <td>2991</td>\n",
       "      <td>13184</td>\n",
       "    </tr>\n",
       "    <tr>\n",
       "      <th>186975</th>\n",
       "      <td>Recently I went on  search for noise cancellin...</td>\n",
       "      <td>1</td>\n",
       "      <td>2800</td>\n",
       "      <td>11228</td>\n",
       "    </tr>\n",
       "    <tr>\n",
       "      <th>111948</th>\n",
       "      <td>Compared the Audio Technica ANC7B's vs. Bose Q...</td>\n",
       "      <td>0</td>\n",
       "      <td>2786</td>\n",
       "      <td>10671</td>\n",
       "    </tr>\n",
       "    <tr>\n",
       "      <th>162572</th>\n",
       "      <td>The V-Moda Crossfade LP over-the-ear headphone...</td>\n",
       "      <td>1</td>\n",
       "      <td>2745</td>\n",
       "      <td>11106</td>\n",
       "    </tr>\n",
       "    <tr>\n",
       "      <th>118958</th>\n",
       "      <td>7/4/2014 update:\\nWell, I got the streaming up...</td>\n",
       "      <td>1</td>\n",
       "      <td>2669</td>\n",
       "      <td>10175</td>\n",
       "    </tr>\n",
       "    <tr>\n",
       "      <th>36568</th>\n",
       "      <td>Sometimes I think I am too self-indulgent, too...</td>\n",
       "      <td>1</td>\n",
       "      <td>2608</td>\n",
       "      <td>10208</td>\n",
       "    </tr>\n",
       "    <tr>\n",
       "      <th>172250</th>\n",
       "      <td>-I purchased the G933- Stating this since all ...</td>\n",
       "      <td>0</td>\n",
       "      <td>2564</td>\n",
       "      <td>9337</td>\n",
       "    </tr>\n",
       "    <tr>\n",
       "      <th>136101</th>\n",
       "      <td>&lt;a data-hook=\"product-link-linked\" class=\"a-li...</td>\n",
       "      <td>1</td>\n",
       "      <td>2491</td>\n",
       "      <td>11090</td>\n",
       "    </tr>\n",
       "    <tr>\n",
       "      <th>136188</th>\n",
       "      <td>CURRENT QUICKNOTES:\\nLong story short I'm taki...</td>\n",
       "      <td>0</td>\n",
       "      <td>2471</td>\n",
       "      <td>9341</td>\n",
       "    </tr>\n",
       "    <tr>\n",
       "      <th>136305</th>\n",
       "      <td>When I decided to give them a try I had no rea...</td>\n",
       "      <td>1</td>\n",
       "      <td>2437</td>\n",
       "      <td>9419</td>\n",
       "    </tr>\n",
       "    <tr>\n",
       "      <th>27592</th>\n",
       "      <td>HOW/WHY I FOUND THE AUDIO-TECHNICA ATH-ANC7:\\n...</td>\n",
       "      <td>1</td>\n",
       "      <td>2405</td>\n",
       "      <td>9600</td>\n",
       "    </tr>\n",
       "    <tr>\n",
       "      <th>14780</th>\n",
       "      <td>I have owned a pair of Sennheiser HD-280 PRO h...</td>\n",
       "      <td>0</td>\n",
       "      <td>2393</td>\n",
       "      <td>9454</td>\n",
       "    </tr>\n",
       "    <tr>\n",
       "      <th>13709</th>\n",
       "      <td>Oh, one of the most beloved and well known hea...</td>\n",
       "      <td>1</td>\n",
       "      <td>2384</td>\n",
       "      <td>9237</td>\n",
       "    </tr>\n",
       "  </tbody>\n",
       "</table>\n",
       "</div>"
      ],
      "text/plain": [
       "                                                  reviews  sentiment  \\\n",
       "111300  UPDATE 12/12/15: Recently my Beats Studio Wire...          1   \n",
       "2772    If this is your first foray into high-end audi...          1   \n",
       "174311  <div id=\"video-block-R21WD3K0GDQSEG\" class=\"a-...          1   \n",
       "97913   Taking the Bose MIE2i, the most comfortable an...          1   \n",
       "169790  Item arrived on time, well-packaged. Contained...          1   \n",
       "2854    I bought the HD600 refurbished from amazon.com...          1   \n",
       "134290  I've spent a long time in the following compar...          1   \n",
       "162588  I bought these headphones and they were my fir...          1   \n",
       "186975  Recently I went on  search for noise cancellin...          1   \n",
       "111948  Compared the Audio Technica ANC7B's vs. Bose Q...          0   \n",
       "162572  The V-Moda Crossfade LP over-the-ear headphone...          1   \n",
       "118958  7/4/2014 update:\\nWell, I got the streaming up...          1   \n",
       "36568   Sometimes I think I am too self-indulgent, too...          1   \n",
       "172250  -I purchased the G933- Stating this since all ...          0   \n",
       "136101  <a data-hook=\"product-link-linked\" class=\"a-li...          1   \n",
       "136188  CURRENT QUICKNOTES:\\nLong story short I'm taki...          0   \n",
       "136305  When I decided to give them a try I had no rea...          1   \n",
       "27592   HOW/WHY I FOUND THE AUDIO-TECHNICA ATH-ANC7:\\n...          1   \n",
       "14780   I have owned a pair of Sennheiser HD-280 PRO h...          0   \n",
       "13709   Oh, one of the most beloved and well known hea...          1   \n",
       "\n",
       "        word_count  review_len  \n",
       "111300        4744       19244  \n",
       "2772          4014       16470  \n",
       "174311        3879       15043  \n",
       "97913         3719       15626  \n",
       "169790        3256       12579  \n",
       "2854          3124       12914  \n",
       "134290        3043       11828  \n",
       "162588        2991       13184  \n",
       "186975        2800       11228  \n",
       "111948        2786       10671  \n",
       "162572        2745       11106  \n",
       "118958        2669       10175  \n",
       "36568         2608       10208  \n",
       "172250        2564        9337  \n",
       "136101        2491       11090  \n",
       "136188        2471        9341  \n",
       "136305        2437        9419  \n",
       "27592         2405        9600  \n",
       "14780         2393        9454  \n",
       "13709         2384        9237  "
      ]
     },
     "execution_count": 54,
     "metadata": {},
     "output_type": "execute_result"
    }
   ],
   "source": [
    "text_stats_df.sort_values(by = 'word_count', ascending = False).head(20)"
   ]
  },
  {
   "cell_type": "code",
   "execution_count": 55,
   "metadata": {},
   "outputs": [
    {
     "data": {
      "text/html": [
       "<div>\n",
       "<style scoped>\n",
       "    .dataframe tbody tr th:only-of-type {\n",
       "        vertical-align: middle;\n",
       "    }\n",
       "\n",
       "    .dataframe tbody tr th {\n",
       "        vertical-align: top;\n",
       "    }\n",
       "\n",
       "    .dataframe thead th {\n",
       "        text-align: right;\n",
       "    }\n",
       "</style>\n",
       "<table border=\"1\" class=\"dataframe\">\n",
       "  <thead>\n",
       "    <tr style=\"text-align: right;\">\n",
       "      <th></th>\n",
       "      <th>reviews</th>\n",
       "      <th>sentiment</th>\n",
       "      <th>word_count</th>\n",
       "      <th>review_len</th>\n",
       "    </tr>\n",
       "  </thead>\n",
       "  <tbody>\n",
       "    <tr>\n",
       "      <th>90444</th>\n",
       "      <td>Great Great</td>\n",
       "      <td>1</td>\n",
       "      <td>2</td>\n",
       "      <td>10</td>\n",
       "    </tr>\n",
       "    <tr>\n",
       "      <th>20214</th>\n",
       "      <td>Uncomfortable Uncomfortable</td>\n",
       "      <td>0</td>\n",
       "      <td>2</td>\n",
       "      <td>26</td>\n",
       "    </tr>\n",
       "    <tr>\n",
       "      <th>9199</th>\n",
       "      <td>works works</td>\n",
       "      <td>1</td>\n",
       "      <td>2</td>\n",
       "      <td>10</td>\n",
       "    </tr>\n",
       "    <tr>\n",
       "      <th>43149</th>\n",
       "      <td>Good Good</td>\n",
       "      <td>1</td>\n",
       "      <td>2</td>\n",
       "      <td>8</td>\n",
       "    </tr>\n",
       "    <tr>\n",
       "      <th>185135</th>\n",
       "      <td>great great</td>\n",
       "      <td>1</td>\n",
       "      <td>2</td>\n",
       "      <td>10</td>\n",
       "    </tr>\n",
       "    <tr>\n",
       "      <th>9282</th>\n",
       "      <td>A+ A+</td>\n",
       "      <td>1</td>\n",
       "      <td>2</td>\n",
       "      <td>4</td>\n",
       "    </tr>\n",
       "    <tr>\n",
       "      <th>90088</th>\n",
       "      <td>Thanks Thanks</td>\n",
       "      <td>1</td>\n",
       "      <td>2</td>\n",
       "      <td>12</td>\n",
       "    </tr>\n",
       "    <tr>\n",
       "      <th>90041</th>\n",
       "      <td>A1 A1</td>\n",
       "      <td>1</td>\n",
       "      <td>2</td>\n",
       "      <td>4</td>\n",
       "    </tr>\n",
       "    <tr>\n",
       "      <th>146848</th>\n",
       "      <td>Excellent Excellent</td>\n",
       "      <td>1</td>\n",
       "      <td>2</td>\n",
       "      <td>18</td>\n",
       "    </tr>\n",
       "    <tr>\n",
       "      <th>89995</th>\n",
       "      <td>Ok ok</td>\n",
       "      <td>1</td>\n",
       "      <td>2</td>\n",
       "      <td>4</td>\n",
       "    </tr>\n",
       "    <tr>\n",
       "      <th>128644</th>\n",
       "      <td>Good Good</td>\n",
       "      <td>1</td>\n",
       "      <td>2</td>\n",
       "      <td>8</td>\n",
       "    </tr>\n",
       "    <tr>\n",
       "      <th>188877</th>\n",
       "      <td>Sturdy Recommended</td>\n",
       "      <td>1</td>\n",
       "      <td>2</td>\n",
       "      <td>17</td>\n",
       "    </tr>\n",
       "    <tr>\n",
       "      <th>146987</th>\n",
       "      <td>Great Great</td>\n",
       "      <td>1</td>\n",
       "      <td>2</td>\n",
       "      <td>10</td>\n",
       "    </tr>\n",
       "    <tr>\n",
       "      <th>44118</th>\n",
       "      <td>Good CMU</td>\n",
       "      <td>1</td>\n",
       "      <td>2</td>\n",
       "      <td>7</td>\n",
       "    </tr>\n",
       "    <tr>\n",
       "      <th>44151</th>\n",
       "      <td>none none</td>\n",
       "      <td>1</td>\n",
       "      <td>2</td>\n",
       "      <td>8</td>\n",
       "    </tr>\n",
       "    <tr>\n",
       "      <th>180481</th>\n",
       "      <td>great great</td>\n",
       "      <td>1</td>\n",
       "      <td>2</td>\n",
       "      <td>10</td>\n",
       "    </tr>\n",
       "    <tr>\n",
       "      <th>44323</th>\n",
       "      <td>Comfortable Comfortable</td>\n",
       "      <td>1</td>\n",
       "      <td>2</td>\n",
       "      <td>22</td>\n",
       "    </tr>\n",
       "    <tr>\n",
       "      <th>44406</th>\n",
       "      <td>EXCELLENT EXCELLENT</td>\n",
       "      <td>1</td>\n",
       "      <td>2</td>\n",
       "      <td>18</td>\n",
       "    </tr>\n",
       "    <tr>\n",
       "      <th>89598</th>\n",
       "      <td>quality quality</td>\n",
       "      <td>1</td>\n",
       "      <td>2</td>\n",
       "      <td>14</td>\n",
       "    </tr>\n",
       "    <tr>\n",
       "      <th>132147</th>\n",
       "      <td>Excelente Excelente</td>\n",
       "      <td>1</td>\n",
       "      <td>2</td>\n",
       "      <td>18</td>\n",
       "    </tr>\n",
       "  </tbody>\n",
       "</table>\n",
       "</div>"
      ],
      "text/plain": [
       "                            reviews  sentiment  word_count  review_len\n",
       "90444                   Great Great          1           2          10\n",
       "20214   Uncomfortable Uncomfortable          0           2          26\n",
       "9199                    works works          1           2          10\n",
       "43149                     Good Good          1           2           8\n",
       "185135                  great great          1           2          10\n",
       "9282                          A+ A+          1           2           4\n",
       "90088                 Thanks Thanks          1           2          12\n",
       "90041                         A1 A1          1           2           4\n",
       "146848          Excellent Excellent          1           2          18\n",
       "89995                         Ok ok          1           2           4\n",
       "128644                    Good Good          1           2           8\n",
       "188877           Sturdy Recommended          1           2          17\n",
       "146987                  Great Great          1           2          10\n",
       "44118                      Good CMU          1           2           7\n",
       "44151                     none none          1           2           8\n",
       "180481                  great great          1           2          10\n",
       "44323       Comfortable Comfortable          1           2          22\n",
       "44406           EXCELLENT EXCELLENT          1           2          18\n",
       "89598               quality quality          1           2          14\n",
       "132147          Excelente Excelente          1           2          18"
      ]
     },
     "execution_count": 55,
     "metadata": {},
     "output_type": "execute_result"
    }
   ],
   "source": [
    "text_stats_df.sort_values(by = 'word_count', ascending = False).tail(20)"
   ]
  },
  {
   "cell_type": "markdown",
   "metadata": {},
   "source": [
    "### Text preprocessing\n",
    "\n",
    "Examining some of the longest reviews, I can see that text the below steps are needed to clean text:\n",
    "\n",
    "* Convert text to lowercase: This makes sure that the model does not treat the same word with different cases as different words.\n",
    "\n",
    "* Remove punctuation: This step removes any special characters or punctuation marks that might not add much meaning to the text.\n",
    "\n",
    "* Tokenize the text: Tokenization is the process of splitting the text into individual words or phrases. This is an important step as it allows us to analyze and manipulate individual words or phrases.\n",
    "\n",
    "* Remove stop words: Stop words are commonly used words such as \"the\", \"a\", \"an\", \"in\", \"and\" that do not carry much meaning and can be removed.\n",
    "\n",
    "* Remove numbers: If the numbers in the text do not add much value to the analysis, they can be removed.\n",
    "\n",
    "* Stemming or Lemmatization: Stemming and Lemmatization are techniques used to reduce words to their root form so that variations of the same word can be treated as the same word.\n",
    "\n",
    "* Remove HTML tags, URLs, line breaks, and extra spaces.\n",
    "\n",
    "* Filter POS tags to include only nouns, verbs, adjectives, and adverbs.\n"
   ]
  },
  {
   "cell_type": "code",
   "execution_count": 56,
   "metadata": {},
   "outputs": [
    {
     "data": {
      "text/plain": [
       "326"
      ]
     },
     "execution_count": 56,
     "metadata": {},
     "output_type": "execute_result"
    }
   ],
   "source": [
    "# grab default stop words from spacy library\n",
    "stop_words = nlp.Defaults.stop_words\n",
    "len(stop_words)"
   ]
  },
  {
   "cell_type": "code",
   "execution_count": 57,
   "metadata": {},
   "outputs": [],
   "source": [
    "def clean_text(text):\n",
    "    # Replace &nbsp; with regular space\n",
    "    text = text.replace(\"&nbsp;\", \" \")\n",
    "    # Remove HTML tags and attributes\n",
    "    text = re.sub(r\"<[^>]+>\", \"\", text)\n",
    "    # Remove URLs\n",
    "    text = re.sub(r\"http\\S+\", \"\", text)\n",
    "    # Remove line breaks and extra whitespace\n",
    "    text = re.sub(r\"\\s+\", \" \", text)\n",
    "    # Remove numbers and special characters\n",
    "    text = re.sub(r'[^a-zA-Z\\s]', '', text)\n",
    "    text = re.sub(r'\\d+', '', text)\n",
    "    # Convert to lowercase and remove leading/trailing white space tokenize and lemmatize\n",
    "    doc = nlp(text)\n",
    "    lemmas = [token.lemma_.lower().strip() for token in doc if not token.is_punct and not token.is_stop and len(token) > 2\\\n",
    "             and token.pos_ in ['NOUN', 'VERB', 'ADJ', 'ADV']]\n",
    "\n",
    "    return lemmas"
   ]
  },
  {
   "cell_type": "code",
   "execution_count": 58,
   "metadata": {},
   "outputs": [
    {
     "data": {
      "text/plain": [
       "\"It does what it says it does.  Transmission is a little weak, as obstacles (like people walking in front of it) tend to make it break up, but overall it's decent.  Probably not good for a party type situation.  I've only used as transmitter. Probably not good for a party type situation\""
      ]
     },
     "execution_count": 58,
     "metadata": {},
     "output_type": "execute_result"
    }
   ],
   "source": [
    "text_stats_df.reviews[101837]"
   ]
  },
  {
   "cell_type": "code",
   "execution_count": 59,
   "metadata": {},
   "outputs": [
    {
     "data": {
      "text/plain": [
       "['say',\n",
       " 'little',\n",
       " 'weak',\n",
       " 'obstacle',\n",
       " 'people',\n",
       " 'walk',\n",
       " 'tend',\n",
       " 'break',\n",
       " 'overall',\n",
       " 'decent',\n",
       " 'probably',\n",
       " 'good',\n",
       " 'party',\n",
       " 'type',\n",
       " 'situation',\n",
       " 'transmitter',\n",
       " 'probably',\n",
       " 'good',\n",
       " 'party',\n",
       " 'type',\n",
       " 'situation']"
      ]
     },
     "execution_count": 59,
     "metadata": {},
     "output_type": "execute_result"
    }
   ],
   "source": [
    "clean_text(text_stats_df.reviews[101837])"
   ]
  },
  {
   "cell_type": "code",
   "execution_count": 60,
   "metadata": {},
   "outputs": [],
   "source": [
    "text_stats_df['cleaned_text'] = text_stats_df.reviews.apply(lambda x: clean_text(x))"
   ]
  },
  {
   "cell_type": "code",
   "execution_count": 61,
   "metadata": {},
   "outputs": [
    {
     "data": {
      "text/html": [
       "<div>\n",
       "<style scoped>\n",
       "    .dataframe tbody tr th:only-of-type {\n",
       "        vertical-align: middle;\n",
       "    }\n",
       "\n",
       "    .dataframe tbody tr th {\n",
       "        vertical-align: top;\n",
       "    }\n",
       "\n",
       "    .dataframe thead th {\n",
       "        text-align: right;\n",
       "    }\n",
       "</style>\n",
       "<table border=\"1\" class=\"dataframe\">\n",
       "  <thead>\n",
       "    <tr style=\"text-align: right;\">\n",
       "      <th></th>\n",
       "      <th>reviews</th>\n",
       "      <th>sentiment</th>\n",
       "      <th>word_count</th>\n",
       "      <th>review_len</th>\n",
       "      <th>cleaned_text</th>\n",
       "    </tr>\n",
       "  </thead>\n",
       "  <tbody>\n",
       "    <tr>\n",
       "      <th>0</th>\n",
       "      <td>Get the SportaPros instead.  They look better,...</td>\n",
       "      <td>1</td>\n",
       "      <td>31</td>\n",
       "      <td>127</td>\n",
       "      <td>[instead, look, well, wear, street, configurat...</td>\n",
       "    </tr>\n",
       "    <tr>\n",
       "      <th>1</th>\n",
       "      <td>I've been looking for a lighter alternative to...</td>\n",
       "      <td>1</td>\n",
       "      <td>263</td>\n",
       "      <td>1097</td>\n",
       "      <td>[look, light, alternative, absolutely, perfect...</td>\n",
       "    </tr>\n",
       "    <tr>\n",
       "      <th>2</th>\n",
       "      <td>The finest headphones available. You can spend...</td>\n",
       "      <td>1</td>\n",
       "      <td>119</td>\n",
       "      <td>512</td>\n",
       "      <td>[fine, headphone, available, spend, vast, amou...</td>\n",
       "    </tr>\n",
       "    <tr>\n",
       "      <th>3</th>\n",
       "      <td>3rd pair of these I've purchased.  My wife has...</td>\n",
       "      <td>1</td>\n",
       "      <td>108</td>\n",
       "      <td>419</td>\n",
       "      <td>[pair, purchase, wife, pair, pair, glove, box,...</td>\n",
       "    </tr>\n",
       "    <tr>\n",
       "      <th>4</th>\n",
       "      <td>My old Koss Porta Pros finally got beat to dea...</td>\n",
       "      <td>1</td>\n",
       "      <td>170</td>\n",
       "      <td>713</td>\n",
       "      <td>[old, finally, get, beat, death, year, ago, la...</td>\n",
       "    </tr>\n",
       "  </tbody>\n",
       "</table>\n",
       "</div>"
      ],
      "text/plain": [
       "                                             reviews  sentiment  word_count  \\\n",
       "0  Get the SportaPros instead.  They look better,...          1          31   \n",
       "1  I've been looking for a lighter alternative to...          1         263   \n",
       "2  The finest headphones available. You can spend...          1         119   \n",
       "3  3rd pair of these I've purchased.  My wife has...          1         108   \n",
       "4  My old Koss Porta Pros finally got beat to dea...          1         170   \n",
       "\n",
       "   review_len                                       cleaned_text  \n",
       "0         127  [instead, look, well, wear, street, configurat...  \n",
       "1        1097  [look, light, alternative, absolutely, perfect...  \n",
       "2         512  [fine, headphone, available, spend, vast, amou...  \n",
       "3         419  [pair, purchase, wife, pair, pair, glove, box,...  \n",
       "4         713  [old, finally, get, beat, death, year, ago, la...  "
      ]
     },
     "execution_count": 61,
     "metadata": {},
     "output_type": "execute_result"
    }
   ],
   "source": [
    "text_stats_df.head()"
   ]
  },
  {
   "cell_type": "code",
   "execution_count": 62,
   "metadata": {},
   "outputs": [],
   "source": [
    "# New function to count tokens \n",
    "def word_count_tokened(text):\n",
    "    return len(text)\n",
    "\n",
    "def char_count_tokened(text):\n",
    "    chars = sum(len(token) for token in text)\n",
    "    return chars"
   ]
  },
  {
   "cell_type": "code",
   "execution_count": 63,
   "metadata": {},
   "outputs": [],
   "source": [
    "text_stats_df['cleaned_word_count'] = text_stats_df.cleaned_text.apply(lambda x: word_count_tokened(x))\n",
    "text_stats_df['cleaned_review_len'] = text_stats_df.cleaned_text.apply(lambda x: char_count_tokened(x))"
   ]
  },
  {
   "cell_type": "code",
   "execution_count": 64,
   "metadata": {},
   "outputs": [
    {
     "data": {
      "text/html": [
       "<div>\n",
       "<style scoped>\n",
       "    .dataframe tbody tr th:only-of-type {\n",
       "        vertical-align: middle;\n",
       "    }\n",
       "\n",
       "    .dataframe tbody tr th {\n",
       "        vertical-align: top;\n",
       "    }\n",
       "\n",
       "    .dataframe thead th {\n",
       "        text-align: right;\n",
       "    }\n",
       "</style>\n",
       "<table border=\"1\" class=\"dataframe\">\n",
       "  <thead>\n",
       "    <tr style=\"text-align: right;\">\n",
       "      <th></th>\n",
       "      <th>sentiment</th>\n",
       "      <th>word_count</th>\n",
       "      <th>review_len</th>\n",
       "      <th>cleaned_word_count</th>\n",
       "      <th>cleaned_review_len</th>\n",
       "    </tr>\n",
       "  </thead>\n",
       "  <tbody>\n",
       "    <tr>\n",
       "      <th>count</th>\n",
       "      <td>189482.000000</td>\n",
       "      <td>189482.000000</td>\n",
       "      <td>189482.000000</td>\n",
       "      <td>189482.000000</td>\n",
       "      <td>189482.000000</td>\n",
       "    </tr>\n",
       "    <tr>\n",
       "      <th>mean</th>\n",
       "      <td>0.786164</td>\n",
       "      <td>89.689163</td>\n",
       "      <td>351.412810</td>\n",
       "      <td>30.438216</td>\n",
       "      <td>169.731252</td>\n",
       "    </tr>\n",
       "    <tr>\n",
       "      <th>std</th>\n",
       "      <td>0.410013</td>\n",
       "      <td>131.407122</td>\n",
       "      <td>521.631066</td>\n",
       "      <td>42.661517</td>\n",
       "      <td>245.995345</td>\n",
       "    </tr>\n",
       "    <tr>\n",
       "      <th>min</th>\n",
       "      <td>0.000000</td>\n",
       "      <td>2.000000</td>\n",
       "      <td>4.000000</td>\n",
       "      <td>0.000000</td>\n",
       "      <td>0.000000</td>\n",
       "    </tr>\n",
       "    <tr>\n",
       "      <th>25%</th>\n",
       "      <td>1.000000</td>\n",
       "      <td>22.000000</td>\n",
       "      <td>86.000000</td>\n",
       "      <td>8.000000</td>\n",
       "      <td>44.000000</td>\n",
       "    </tr>\n",
       "    <tr>\n",
       "      <th>50%</th>\n",
       "      <td>1.000000</td>\n",
       "      <td>49.000000</td>\n",
       "      <td>192.000000</td>\n",
       "      <td>18.000000</td>\n",
       "      <td>96.000000</td>\n",
       "    </tr>\n",
       "    <tr>\n",
       "      <th>75%</th>\n",
       "      <td>1.000000</td>\n",
       "      <td>105.000000</td>\n",
       "      <td>410.000000</td>\n",
       "      <td>36.000000</td>\n",
       "      <td>198.000000</td>\n",
       "    </tr>\n",
       "    <tr>\n",
       "      <th>max</th>\n",
       "      <td>1.000000</td>\n",
       "      <td>4744.000000</td>\n",
       "      <td>19244.000000</td>\n",
       "      <td>1642.000000</td>\n",
       "      <td>9301.000000</td>\n",
       "    </tr>\n",
       "  </tbody>\n",
       "</table>\n",
       "</div>"
      ],
      "text/plain": [
       "           sentiment     word_count     review_len  cleaned_word_count  \\\n",
       "count  189482.000000  189482.000000  189482.000000       189482.000000   \n",
       "mean        0.786164      89.689163     351.412810           30.438216   \n",
       "std         0.410013     131.407122     521.631066           42.661517   \n",
       "min         0.000000       2.000000       4.000000            0.000000   \n",
       "25%         1.000000      22.000000      86.000000            8.000000   \n",
       "50%         1.000000      49.000000     192.000000           18.000000   \n",
       "75%         1.000000     105.000000     410.000000           36.000000   \n",
       "max         1.000000    4744.000000   19244.000000         1642.000000   \n",
       "\n",
       "       cleaned_review_len  \n",
       "count       189482.000000  \n",
       "mean           169.731252  \n",
       "std            245.995345  \n",
       "min              0.000000  \n",
       "25%             44.000000  \n",
       "50%             96.000000  \n",
       "75%            198.000000  \n",
       "max           9301.000000  "
      ]
     },
     "execution_count": 64,
     "metadata": {},
     "output_type": "execute_result"
    }
   ],
   "source": [
    "text_stats_df.describe()"
   ]
  },
  {
   "cell_type": "code",
   "execution_count": 65,
   "metadata": {},
   "outputs": [
    {
     "data": {
      "image/png": "[encoded data removed]",
      "text/plain": [
       "<Figure size 432x288 with 1 Axes>"
      ]
     },
     "metadata": {
      "needs_background": "light"
     },
     "output_type": "display_data"
    }
   ],
   "source": [
    "text_stats_df.cleaned_word_count.hist();"
   ]
  },
  {
   "cell_type": "markdown",
   "metadata": {},
   "source": [
    "After cleaning text, some reviews now have 0 words."
   ]
  },
  {
   "cell_type": "code",
   "execution_count": 55,
   "metadata": {},
   "outputs": [
    {
     "ename": "NameError",
     "evalue": "name 'text_stats_df' is not defined",
     "output_type": "error",
     "traceback": [
      "\u001b[1;31m---------------------------------------------------------------------------\u001b[0m",
      "\u001b[1;31mNameError\u001b[0m                                 Traceback (most recent call last)",
      "\u001b[1;32m<ipython-input-55-9b34a73ed56e>\u001b[0m in \u001b[0;36m<module>\u001b[1;34m\u001b[0m\n\u001b[1;32m----> 1\u001b[1;33m \u001b[0mtext_stats_df\u001b[0m\u001b[1;33m[\u001b[0m\u001b[1;33m(\u001b[0m\u001b[0mtext_stats_df\u001b[0m\u001b[1;33m.\u001b[0m\u001b[0mcleaned_word_count\u001b[0m \u001b[1;33m>=\u001b[0m \u001b[1;36m10\u001b[0m\u001b[1;33m)\u001b[0m \u001b[1;33m&\u001b[0m \u001b[1;33m(\u001b[0m\u001b[0mtext_stats_df\u001b[0m\u001b[1;33m.\u001b[0m\u001b[0mcleaned_word_count\u001b[0m \u001b[1;33m<=\u001b[0m \u001b[1;36m200\u001b[0m\u001b[1;33m)\u001b[0m\u001b[1;33m]\u001b[0m\u001b[1;33m\u001b[0m\u001b[1;33m\u001b[0m\u001b[0m\n\u001b[0m",
      "\u001b[1;31mNameError\u001b[0m: name 'text_stats_df' is not defined"
     ]
    }
   ],
   "source": [
    "text_stats_df[(text_stats_df.cleaned_word_count >= 10) & (text_stats_df.cleaned_word_count <= 200)]"
   ]
  },
  {
   "cell_type": "markdown",
   "metadata": {},
   "source": [
    "Outliers in text length can significantly affect the accuracy and reliability of sentiment analysis models. This is because longer texts may contain more nuanced and complex sentiments that are harder to detect automatically, while shorter texts may lack sufficient context and information for accurate sentiment analysis. Thus, including outliers in the analysis may lead to biased or noisy results that do not accurately reflect the overall sentiment of the dataset. I will choose to drop reviews with lower than 10 tokens and more than 200 tokens."
   ]
  },
  {
   "cell_type": "code",
   "execution_count": 67,
   "metadata": {},
   "outputs": [],
   "source": [
    "data_df = text_stats_df[(text_stats_df.cleaned_word_count >= 10) & (text_stats_df.cleaned_word_count <= 200)].copy()"
   ]
  },
  {
   "cell_type": "code",
   "execution_count": 68,
   "metadata": {},
   "outputs": [],
   "source": [
    "data_df = data_df.reset_index(drop = True)"
   ]
  },
  {
   "cell_type": "code",
   "execution_count": 69,
   "metadata": {},
   "outputs": [
    {
     "name": "stdout",
     "output_type": "stream",
     "text": [
      "<class 'pandas.core.frame.DataFrame'>\n",
      "RangeIndex: 133546 entries, 0 to 133545\n",
      "Data columns (total 7 columns):\n",
      " #   Column              Non-Null Count   Dtype \n",
      "---  ------              --------------   ----- \n",
      " 0   reviews             133546 non-null  object\n",
      " 1   sentiment           133546 non-null  int64 \n",
      " 2   word_count          133546 non-null  int64 \n",
      " 3   review_len          133546 non-null  int64 \n",
      " 4   cleaned_text        133546 non-null  object\n",
      " 5   cleaned_word_count  133546 non-null  int64 \n",
      " 6   cleaned_review_len  133546 non-null  int64 \n",
      "dtypes: int64(5), object(2)\n",
      "memory usage: 7.1+ MB\n"
     ]
    }
   ],
   "source": [
    "data_df.info()"
   ]
  },
  {
   "cell_type": "code",
   "execution_count": 70,
   "metadata": {},
   "outputs": [
    {
     "data": {
      "text/html": [
       "<div>\n",
       "<style scoped>\n",
       "    .dataframe tbody tr th:only-of-type {\n",
       "        vertical-align: middle;\n",
       "    }\n",
       "\n",
       "    .dataframe tbody tr th {\n",
       "        vertical-align: top;\n",
       "    }\n",
       "\n",
       "    .dataframe thead th {\n",
       "        text-align: right;\n",
       "    }\n",
       "</style>\n",
       "<table border=\"1\" class=\"dataframe\">\n",
       "  <thead>\n",
       "    <tr style=\"text-align: right;\">\n",
       "      <th></th>\n",
       "      <th>sentiment</th>\n",
       "      <th>word_count</th>\n",
       "      <th>review_len</th>\n",
       "      <th>cleaned_word_count</th>\n",
       "      <th>cleaned_review_len</th>\n",
       "    </tr>\n",
       "  </thead>\n",
       "  <tbody>\n",
       "    <tr>\n",
       "      <th>count</th>\n",
       "      <td>133546.000000</td>\n",
       "      <td>133546.000000</td>\n",
       "      <td>133546.000000</td>\n",
       "      <td>133546.000000</td>\n",
       "      <td>133546.000000</td>\n",
       "    </tr>\n",
       "    <tr>\n",
       "      <th>mean</th>\n",
       "      <td>0.766582</td>\n",
       "      <td>108.017238</td>\n",
       "      <td>421.973560</td>\n",
       "      <td>36.619127</td>\n",
       "      <td>203.925666</td>\n",
       "    </tr>\n",
       "    <tr>\n",
       "      <th>std</th>\n",
       "      <td>0.423007</td>\n",
       "      <td>97.712794</td>\n",
       "      <td>384.634014</td>\n",
       "      <td>31.455234</td>\n",
       "      <td>180.082586</td>\n",
       "    </tr>\n",
       "    <tr>\n",
       "      <th>min</th>\n",
       "      <td>0.000000</td>\n",
       "      <td>10.000000</td>\n",
       "      <td>46.000000</td>\n",
       "      <td>10.000000</td>\n",
       "      <td>34.000000</td>\n",
       "    </tr>\n",
       "    <tr>\n",
       "      <th>25%</th>\n",
       "      <td>1.000000</td>\n",
       "      <td>44.000000</td>\n",
       "      <td>172.000000</td>\n",
       "      <td>16.000000</td>\n",
       "      <td>87.000000</td>\n",
       "    </tr>\n",
       "    <tr>\n",
       "      <th>50%</th>\n",
       "      <td>1.000000</td>\n",
       "      <td>73.000000</td>\n",
       "      <td>283.000000</td>\n",
       "      <td>25.000000</td>\n",
       "      <td>139.000000</td>\n",
       "    </tr>\n",
       "    <tr>\n",
       "      <th>75%</th>\n",
       "      <td>1.000000</td>\n",
       "      <td>134.000000</td>\n",
       "      <td>520.000000</td>\n",
       "      <td>45.000000</td>\n",
       "      <td>250.000000</td>\n",
       "    </tr>\n",
       "    <tr>\n",
       "      <th>max</th>\n",
       "      <td>1.000000</td>\n",
       "      <td>841.000000</td>\n",
       "      <td>3646.000000</td>\n",
       "      <td>200.000000</td>\n",
       "      <td>1294.000000</td>\n",
       "    </tr>\n",
       "  </tbody>\n",
       "</table>\n",
       "</div>"
      ],
      "text/plain": [
       "           sentiment     word_count     review_len  cleaned_word_count  \\\n",
       "count  133546.000000  133546.000000  133546.000000       133546.000000   \n",
       "mean        0.766582     108.017238     421.973560           36.619127   \n",
       "std         0.423007      97.712794     384.634014           31.455234   \n",
       "min         0.000000      10.000000      46.000000           10.000000   \n",
       "25%         1.000000      44.000000     172.000000           16.000000   \n",
       "50%         1.000000      73.000000     283.000000           25.000000   \n",
       "75%         1.000000     134.000000     520.000000           45.000000   \n",
       "max         1.000000     841.000000    3646.000000          200.000000   \n",
       "\n",
       "       cleaned_review_len  \n",
       "count       133546.000000  \n",
       "mean           203.925666  \n",
       "std            180.082586  \n",
       "min             34.000000  \n",
       "25%             87.000000  \n",
       "50%            139.000000  \n",
       "75%            250.000000  \n",
       "max           1294.000000  "
      ]
     },
     "execution_count": 70,
     "metadata": {},
     "output_type": "execute_result"
    }
   ],
   "source": [
    "data_df.describe()"
   ]
  },
  {
   "cell_type": "code",
   "execution_count": 71,
   "metadata": {},
   "outputs": [
    {
     "data": {
      "text/plain": [
       "<AxesSubplot:>"
      ]
     },
     "execution_count": 71,
     "metadata": {},
     "output_type": "execute_result"
    },
    {
     "data": {
      "image/png": "[encoded data removed]",
      "text/plain": [
       "<Figure size 432x288 with 1 Axes>"
      ]
     },
     "metadata": {
      "needs_background": "light"
     },
     "output_type": "display_data"
    }
   ],
   "source": [
    "data_df.cleaned_word_count.hist()"
   ]
  },
  {
   "cell_type": "code",
   "execution_count": 72,
   "metadata": {},
   "outputs": [
    {
     "data": {
      "text/plain": [
       "1    0.766582\n",
       "0    0.233418\n",
       "Name: sentiment, dtype: float64"
      ]
     },
     "execution_count": 72,
     "metadata": {},
     "output_type": "execute_result"
    }
   ],
   "source": [
    "data_df.sentiment.value_counts(normalize = True)"
   ]
  },
  {
   "cell_type": "markdown",
   "metadata": {},
   "source": [
    "### Word Frequency\n",
    "\n",
    "Examining the most common unigrams, bigrams, and trigrams to find any words or phrases that may repeat across many documents."
   ]
  },
  {
   "cell_type": "code",
   "execution_count": 34,
   "metadata": {},
   "outputs": [],
   "source": [
    "# Create a dummy function to pass cleaned and tokenized text into count vectorizer\n",
    "def dummy(doc):\n",
    "    return doc"
   ]
  },
  {
   "cell_type": "code",
   "execution_count": 60,
   "metadata": {},
   "outputs": [],
   "source": [
    "def top_words(text, n = None, ngram = (1,1)):\n",
    "    # Function using count vectorizer to return top n frequent words\n",
    "    cv = CountVectorizer(ngram_range = ngram, \n",
    "                         stop_words = None, \n",
    "                         tokenizer = dummy, \n",
    "                         preprocessor = dummy)\n",
    "    words = cv.fit_transform(text)\n",
    "    sum_words = words.sum(axis=0)\n",
    "    word_freq = [(word, sum_words[0, idx]) for word, idx in cv.vocabulary_.items()]\n",
    "    word_freq = sorted(word_freq, key=lambda x: x[1], reverse=True)\n",
    "    word_df = pd.DataFrame(word_freq, columns=['word', 'count'])\n",
    "    return word_df[:n]"
   ]
  },
  {
   "cell_type": "markdown",
   "metadata": {},
   "source": [
    "#### Unigrams \n",
    "\n",
    "By examining the most common words we can get a sense of topics that may be most prominent. From the most common unigrams we can infer a couple topics will be about sound quality, comfort of product, and price."
   ]
  },
  {
   "cell_type": "code",
   "execution_count": 61,
   "metadata": {},
   "outputs": [],
   "source": [
    "top30 = top_words(text = data_df.cleaned_text, n = 30)"
   ]
  },
  {
   "cell_type": "code",
   "execution_count": 62,
   "metadata": {},
   "outputs": [
    {
     "data": {
      "image/png": "[encoded data removed]",
      "text/plain": [
       "<Figure size 1080x720 with 1 Axes>"
      ]
     },
     "metadata": {
      "needs_background": "light"
     },
     "output_type": "display_data"
    }
   ],
   "source": [
    "fig, axs = plt.subplots(figsize=(15,10))\n",
    "sns.barplot(data = top30, x = 'count', y = 'word', orient = 'h', ax = axs)\n",
    "axs.set_title('All words');"
   ]
  },
  {
   "cell_type": "markdown",
   "metadata": {},
   "source": [
    "#### Bigrams\n",
    "\n",
    "Examining bigram frequency could help us identify common phrases that customers use when describing the product. Important phrases found most common are sound quality, noise cancel, battery life, and customer service."
   ]
  },
  {
   "cell_type": "code",
   "execution_count": 63,
   "metadata": {},
   "outputs": [],
   "source": [
    "top30_bigrams = top_words(text = data_df.cleaned_text, n = 30, ngram = (2,2))"
   ]
  },
  {
   "cell_type": "code",
   "execution_count": 64,
   "metadata": {},
   "outputs": [
    {
     "data": {
      "image/png": "[encoded data removed]",
      "text/plain": [
       "<Figure size 1080x720 with 1 Axes>"
      ]
     },
     "metadata": {
      "needs_background": "light"
     },
     "output_type": "display_data"
    }
   ],
   "source": [
    "fig, axs = plt.subplots(figsize=(15,10))\n",
    "sns.barplot(data = top30_bigrams, x = 'count', y = 'word', orient = 'h', ax = axs)\n",
    "axs.set_title('Top Bigrams');"
   ]
  },
  {
   "cell_type": "markdown",
   "metadata": {},
   "source": [
    "#### Trigrams\n",
    "\n",
    "Trigrams do not seem to add any more information that is already given by unigrams and bigrams."
   ]
  },
  {
   "cell_type": "code",
   "execution_count": 65,
   "metadata": {},
   "outputs": [],
   "source": [
    "top30_trigrams = top_words(text = data_df.cleaned_text, n = 30, ngram = (3,3))"
   ]
  },
  {
   "cell_type": "code",
   "execution_count": 66,
   "metadata": {},
   "outputs": [
    {
     "data": {
      "image/png": "[encoded data removed]",
      "text/plain": [
       "<Figure size 1080x720 with 1 Axes>"
      ]
     },
     "metadata": {
      "needs_background": "light"
     },
     "output_type": "display_data"
    }
   ],
   "source": [
    "fig, axs = plt.subplots(figsize=(15,10))\n",
    "sns.barplot(data = top30_trigrams, x = 'count', y = 'word', orient = 'h', ax = axs)\n",
    "axs.set_title('Top Trigrams');"
   ]
  },
  {
   "cell_type": "markdown",
   "metadata": {},
   "source": [
    "### Topic Modeling\n",
    "\n",
    "In order to identify general themes customers are speaking about in the reviews, I will attempt to apply topic modeling on all the reviews.\n",
    "\n",
    "LDA assumes that each document is a mixture of multiple topics and that each word in the document is associated with a particular topic. The model then attempts to identify the most likely topic distribution for each document and the most likely word distribution for each topic. I will be using Gensim's library to conduct LDA topic modeling."
   ]
  },
  {
   "cell_type": "code",
   "execution_count": 97,
   "metadata": {},
   "outputs": [],
   "source": [
    "data_words = data_df.cleaned_text"
   ]
  },
  {
   "cell_type": "code",
   "execution_count": 99,
   "metadata": {},
   "outputs": [],
   "source": [
    "# Create bigrams\n",
    "bigram = Phrases(data_words, min_count=10, threshold=0.7)\n",
    "bigram_phraser = Phraser(bigram)\n",
    "bigram_docs = [bigram_phraser[doc] for doc in data_words]\n"
   ]
  },
  {
   "cell_type": "code",
   "execution_count": 100,
   "metadata": {},
   "outputs": [
    {
     "name": "stdout",
     "output_type": "stream",
     "text": [
      "[[(0, 1), (1, 1), (2, 1), (3, 2), (4, 1), (5, 1), (6, 1), (7, 1), (8, 1)]]\n"
     ]
    }
   ],
   "source": [
    "# create unique id for each token\n",
    "id2word = corpora.Dictionary(bigram_docs)\n",
    "\n",
    "# filter out rare and frequent tokens\n",
    "id2word.filter_extremes(no_below = 10, no_above = 0.7)\n",
    "\n",
    "# Create Corpus\n",
    "texts = bigram_docs\n",
    "\n",
    "# Create bag of words for LDA input\n",
    "corpus = [id2word.doc2bow(text) for text in texts]\n",
    "\n",
    "# View, each tuple represents words unique id and how many times they appear in the review\n",
    "print(corpus[:1])"
   ]
  },
  {
   "cell_type": "code",
   "execution_count": 101,
   "metadata": {},
   "outputs": [],
   "source": [
    "# run LdaMulticore for faster computation time\n",
    "lda_model = LdaMulticore(corpus=corpus,\n",
    "                         id2word=id2word,\n",
    "                         # start with a random number of topics\n",
    "                         num_topics=6, \n",
    "                         random_state=100,\n",
    "                         workers = 4,\n",
    "                         chunksize=100,\n",
    "                         passes=10,\n",
    "                         alpha='symmetric')"
   ]
  },
  {
   "cell_type": "code",
   "execution_count": 102,
   "metadata": {},
   "outputs": [
    {
     "data": {
      "text/plain": [
       "[(0,\n",
       "  '0.042*\"headset\" + 0.019*\"phone\" + 0.017*\"case\" + 0.016*\"good\" + 0.013*\"fit\" + 0.013*\"great\" + 0.010*\"run\" + 0.009*\"bluetooth\" + 0.009*\"like\" + 0.009*\"use\"'),\n",
       " (1,\n",
       "  '0.022*\"work\" + 0.020*\"device\" + 0.018*\"use\" + 0.014*\"charge\" + 0.010*\"cable\" + 0.010*\"connect\" + 0.010*\"time\" + 0.010*\"battery\" + 0.010*\"need\" + 0.009*\"phone\"'),\n",
       " (2,\n",
       "  '0.076*\"headphone\" + 0.034*\"sound\" + 0.032*\"good\" + 0.023*\"great\" + 0.018*\"price\" + 0.017*\"quality\" + 0.016*\"sound_quality\" + 0.013*\"bass\" + 0.012*\"comfortable\" + 0.011*\"music\"'),\n",
       " (3,\n",
       "  '0.030*\"work\" + 0.029*\"great\" + 0.023*\"love\" + 0.019*\"buy\" + 0.016*\"product\" + 0.014*\"good\" + 0.013*\"work_great\" + 0.013*\"use\" + 0.013*\"pair\" + 0.012*\"month\"'),\n",
       " (4,\n",
       "  '0.022*\"ear\" + 0.022*\"headphone\" + 0.012*\"earbud\" + 0.011*\"sound\" + 0.010*\"try\" + 0.009*\"work\" + 0.007*\"wear\" + 0.007*\"think\" + 0.007*\"time\" + 0.007*\"pair\"'),\n",
       " (5,\n",
       "  '0.013*\"speaker\" + 0.010*\"product\" + 0.008*\"set\" + 0.007*\"audio\" + 0.006*\"keyboard\" + 0.006*\"bluetooth_headphone\" + 0.006*\"find\" + 0.005*\"review\" + 0.005*\"voice\" + 0.005*\"feature\"')]"
      ]
     },
     "execution_count": 102,
     "metadata": {},
     "output_type": "execute_result"
    }
   ],
   "source": [
    "lda_model.print_topics()"
   ]
  },
  {
   "cell_type": "markdown",
   "metadata": {},
   "source": [
    "Above results show a list of topics, where each topic is represented as a tuple of (topic number, list of key terms and their weights)."
   ]
  },
  {
   "cell_type": "code",
   "execution_count": 103,
   "metadata": {},
   "outputs": [
    {
     "data": {
      "text/plain": [
       "'Get the SportaPros instead.  They look better, can be worn in a street configuration, cost less, and sound exactly the same. Get the SportaPros Instead.'"
      ]
     },
     "execution_count": 103,
     "metadata": {},
     "output_type": "execute_result"
    }
   ],
   "source": [
    "# inspect first review\n",
    "data_df.reviews[0]"
   ]
  },
  {
   "cell_type": "code",
   "execution_count": 104,
   "metadata": {},
   "outputs": [
    {
     "data": {
      "text/plain": [
       "[(0, 0.015243522),\n",
       " (1, 0.015220455),\n",
       " (2, 0.01539432),\n",
       " (3, 0.0152221825),\n",
       " (4, 0.7634709),\n",
       " (5, 0.17544864)]"
      ]
     },
     "execution_count": 104,
     "metadata": {},
     "output_type": "execute_result"
    }
   ],
   "source": [
    "# LDA output for first review\n",
    "lda_model[corpus][0]"
   ]
  },
  {
   "cell_type": "markdown",
   "metadata": {},
   "source": [
    "According to our LDA model, the above text belongs to Topic 4 and 5. The article is 71% belonging to topic 4 and 22% belonging to topic 5. In order to evaulate our LDA model we can compute it's coherence score for reference."
   ]
  },
  {
   "cell_type": "code",
   "execution_count": 105,
   "metadata": {},
   "outputs": [
    {
     "name": "stdout",
     "output_type": "stream",
     "text": [
      "\n",
      "Coherence Score:  0.5150689805074576\n"
     ]
    }
   ],
   "source": [
    "# Compute Coherence Score\n",
    "coherence_model_lda = CoherenceModel(model=lda_model, texts=texts, dictionary=id2word, coherence='c_v')\n",
    "coherence_lda = coherence_model_lda.get_coherence()\n",
    "print('\\nCoherence Score: ', coherence_lda)"
   ]
  },
  {
   "cell_type": "markdown",
   "metadata": {},
   "source": [
    "Coherence metric is measure from 0 to 1, the higher the better. One way to determine optimal topic numbers would be to iterate over various topic numbers and compare their coherence score."
   ]
  },
  {
   "cell_type": "code",
   "execution_count": 107,
   "metadata": {},
   "outputs": [],
   "source": [
    "def compute_coherence_values(dictionary, corpus, texts, limit, start=2, step=3):\n",
    "    \"\"\"\n",
    "    Compute c_v coherence for various number of topics\n",
    "\n",
    "    Parameters:\n",
    "    ----------\n",
    "    dictionary : Gensim dictionary\n",
    "    corpus : Gensim corpus\n",
    "    texts : List of input texts\n",
    "    limit : Max num of topics\n",
    "\n",
    "    Returns:\n",
    "    -------\n",
    "    model_list : List of LDA topic models\n",
    "    coherence_values : Coherence values corresponding to the LDA model with respective number of topics\n",
    "    \"\"\"\n",
    "    coherence_values = []\n",
    "    model_list = []\n",
    "    for num_topics in range(start, limit, step):\n",
    "        model = LdaMulticore(corpus=corpus, \n",
    "                             num_topics=num_topics, \n",
    "                             id2word=id2word, \n",
    "                             random_state=100,\n",
    "                             workers = 4,\n",
    "                             chunksize=100,\n",
    "                             passes=10,\n",
    "                             alpha='symmetric')\n",
    "        model_list.append(model)\n",
    "        coherencemodel = CoherenceModel(model=model, texts=texts, dictionary=dictionary, coherence='c_v')\n",
    "        coherence_values.append(coherencemodel.get_coherence())\n",
    "\n",
    "    return model_list, coherence_values"
   ]
  },
  {
   "cell_type": "code",
   "execution_count": 108,
   "metadata": {},
   "outputs": [],
   "source": [
    "model_list, coherence_values = compute_coherence_values(dictionary=id2word,\n",
    "                                                        corpus=corpus, \n",
    "                                                        texts=texts, \n",
    "                                                        start=2, limit=26, step=3)"
   ]
  },
  {
   "cell_type": "code",
   "execution_count": 109,
   "metadata": {},
   "outputs": [
    {
     "data": {
      "image/png": "[encoded data removed]",
      "text/plain": [
       "<Figure size 432x288 with 1 Axes>"
      ]
     },
     "metadata": {
      "needs_background": "light"
     },
     "output_type": "display_data"
    }
   ],
   "source": [
    "# plot of lda models by topic number and coherence score\n",
    "limit=26; start=2; step=3;\n",
    "x = range(start, limit, step)\n",
    "plt.plot(x, coherence_values)\n",
    "plt.xlabel(\"Num Topics\")\n",
    "plt.ylabel(\"Coherence score\");"
   ]
  },
  {
   "cell_type": "markdown",
   "metadata": {},
   "source": [
    "Originally num topics 8 had the higher coherence value, but LDA can have different results across different runs of the algorithm. The output is highly dependent on the initialization and randomness of the algorithm."
   ]
  },
  {
   "cell_type": "code",
   "execution_count": 110,
   "metadata": {},
   "outputs": [
    {
     "name": "stdout",
     "output_type": "stream",
     "text": [
      "Num Topics = 2  has Coherence Value of 0.4604\n",
      "Num Topics = 5  has Coherence Value of 0.5235\n",
      "Num Topics = 8  has Coherence Value of 0.5173\n",
      "Num Topics = 11  has Coherence Value of 0.5068\n",
      "Num Topics = 14  has Coherence Value of 0.4783\n",
      "Num Topics = 17  has Coherence Value of 0.4739\n",
      "Num Topics = 20  has Coherence Value of 0.463\n",
      "Num Topics = 23  has Coherence Value of 0.4697\n"
     ]
    }
   ],
   "source": [
    "# Print the coherence scores\n",
    "for m, cv in zip(x, coherence_values):\n",
    "    print(\"Num Topics =\", m, \" has Coherence Value of\", round(cv, 4))"
   ]
  },
  {
   "cell_type": "markdown",
   "metadata": {},
   "source": [
    "LDA model with 5 topics is shown to havethe highest coherence score."
   ]
  },
  {
   "cell_type": "code",
   "execution_count": 111,
   "metadata": {},
   "outputs": [],
   "source": [
    "# set optimal model to 8 topics\n",
    "optimal_model = model_list[2]"
   ]
  },
  {
   "cell_type": "markdown",
   "metadata": {},
   "source": [
    "pyLDAvis is an interactive visualization tool for exploring the topics learned by an LDA model. The visualizations generated by pyLDAvis can be used to gain insights into the topics and their relationships, as well as to evaluate the quality of the topics learned by the model."
   ]
  },
  {
   "cell_type": "code",
   "execution_count": 112,
   "metadata": {},
   "outputs": [
    {
     "data": {
      "text/html": [
       "\n",
       "<link rel=\"stylesheet\" type=\"text/css\" href=\"https://cdn.jsdelivr.net/gh/bmabey/pyLDAvis@3.3.1/pyLDAvis/js/ldavis.v1.0.0.css\">\n",
       "\n",
       "\n",
       "<div id=\"ldavis_el58842540603053328877491499\"></div>\n",
       "<script type=\"text/javascript\">\n",
       "\n",
       "var ldavis_el58842540603053328877491499_data = {\"mdsDat\": {\"x\": [-0.23099520744335925, 0.0025459124120389173, -0.03878898655517658, -0.17514332138362002, -0.021132022675989903, 0.33176437939301323, 0.12800485472735082, 0.003744391525742794], \"y\": [0.05482453712895765, -0.04230951143221485, 0.12328364052183087, 0.01689747516892395, 0.08718689490694537, 0.19995734149046654, -0.3407029328093139, -0.09913744497559572], \"topics\": [1, 2, 3, 4, 5, 6, 7, 8], \"cluster\": [1, 1, 1, 1, 1, 1, 1, 1], \"Freq\": [6.480038335768771, 14.64419715276422, 20.550719151935887, 8.74184030090723, 19.68923049667718, 6.999451264138276, 7.238500221369355, 15.656023076439082]}, \"tinfo\": {\"Term\": [\"headphone\", \"great\", \"headset\", \"ear\", \"sound\", \"love\", \"speaker\", \"earbud\", \"product\", \"device\", \"work\", \"work_great\", \"quality\", \"cable\", \"price\", \"fit\", \"bass\", \"sound_quality\", \"buy\", \"pair\", \"case\", \"charge\", \"good\", \"comfortable\", \"month\", \"nice\", \"battery_life\", \"great_sound\", \"good_sound\", \"ear_bud\", \"headset\", \"mic\", \"quality_good\", \"decent_sound\", \"bluetooth_headset\", \"ear_hook\", \"solution\", \"clamp\", \"holder\", \"fully\", \"bend\", \"running\", \"surface\", \"crack\", \"hole\", \"pair_bluetooth\", \"prior\", \"description\", \"easy_connect\", \"mic_work\", \"hard_time\", \"kid_love\", \"cheap_plastic\", \"lighting\", \"buy_gift\", \"unplug\", \"reduction\", \"premium\", \"hinge\", \"comfortable_stay\", \"wireless_headset\", \"cable\", \"plastic\", \"metal\", \"pad\", \"battery_life\", \"rubber\", \"hold\", \"wire\", \"connector\", \"end\", \"attach\", \"good_sound\", \"good\", \"cord\", \"piece\", \"quality\", \"material\", \"long\", \"cheap\", \"fall\", \"use\", \"design\", \"work\", \"nice\", \"easily\", \"break\", \"fit\", \"well\", \"issue\", \"device\", \"battery\", \"bluetooth\", \"charger\", \"bluetooth_headphone\", \"lamp\", \"port\", \"work_perfectly\", \"battery_last\", \"seller\", \"modem\", \"signal\", \"usb\", \"pair_device\", \"card\", \"different_size\", \"fully_charge\", \"connect_phone\", \"led\", \"link\", \"interference\", \"need_charge\", \"install\", \"loop\", \"min\", \"usb_charge\", \"audio_cable\", \"desktop\", \"charge_time\", \"pause\", \"connect\", \"charge\", \"key\", \"unit\", \"power\", \"adapter\", \"laptop\", \"plug\", \"light\", \"connection\", \"work_fine\", \"button\", \"fast\", \"work\", \"turn\", \"use\", \"battery_life\", \"need\", \"phone\", \"time\", \"work_great\", \"issue\", \"problem\", \"great\", \"computer\", \"good\", \"thing\", \"come\", \"get\", \"want\", \"bass\", \"excellent_sound\", \"price_point\", \"price_range\", \"sound_amazing\", \"clarity\", \"good_bass\", \"update_review\", \"treble\", \"amazing_sound\", \"mid\", \"bose\", \"clear_sound\", \"blow_away\", \"mid_high\", \"recharge\", \"deep_bass\", \"headphone_own\", \"low_end\", \"extremely_comfortable\", \"bass_heavy\", \"vocal\", \"cheap_headphone\", \"overall_sound\", \"definitely_worth\", \"balanced\", \"midrange\", \"fitting\", \"sound_awesome\", \"muddy\", \"super_comfortable\", \"sound_well\", \"audiophile\", \"headphone\", \"price\", \"quality\", \"beat\", \"great_sound\", \"amazing\", \"good_sound\", \"sound\", \"pair_headphone\", \"sound_quality\", \"comfortable\", \"love_headphone\", \"build_quality\", \"set_headphone\", \"good\", \"music\", \"great\", \"range\", \"noise_cancel\", \"excellent\", \"money\", \"sound_good\", \"listen\", \"well\", \"sound_great\", \"nice\", \"buy\", \"pair\", \"look\", \"expect\", \"hear\", \"love\", \"feel\", \"like\", \"want\", \"volume_control\", \"easy_use\", \"roku\", \"remote\", \"mount\", \"magnet\", \"previous\", \"easy_set\", \"qc\", \"phone_pocket\", \"control_volume\", \"feedback\", \"ipad\", \"perfect_fit\", \"use_run\", \"hanger\", \"streaming\", \"control_easy\", \"charging\", \"charge_quickly\", \"wood\", \"corner\", \"adhesive\", \"nice_touch\", \"protection\", \"connect_easily\", \"buy_wife\", \"nice_look\", \"recommend_friend\", \"pretty_comfortable\", \"instal\", \"great_product\", \"arm\", \"case\", \"work_great\", \"love\", \"great\", \"iphone\", \"stand\", \"easy\", \"fit\", \"perfect\", \"sturdy\", \"year_old\", \"nice\", \"hold\", \"phone\", \"like\", \"great_price\", \"use\", \"button\", \"buy\", \"desk\", \"awesome\", \"little\", \"highly_recommend\", \"great_sound\", \"good\", \"need\", \"price\", \"work\", \"look\", \"feel\", \"product\", \"earbud\", \"bud\", \"stay_ear\", \"fit_ear\", \"uncomfortable\", \"tip\", \"small_ear\", \"flight\", \"cancel\", \"ear_bud\", \"ear_cup\", \"hurt_ear\", \"hurt\", \"fall_ear\", \"canal\", \"seal\", \"ear_tip\", \"ear_canal\", \"part\", \"quality_price\", \"waste_money\", \"mute\", \"water\", \"cancellation\", \"sport\", \"active_noise\", \"jog\", \"come_different\", \"runner\", \"cancel_noise\", \"exercise\", \"ear\", \"neck\", \"workout\", \"run\", \"wear\", \"noise\", \"earphone\", \"head\", \"ear_piece\", \"walk\", \"fit\", \"gym\", \"sweat\", \"stay\", \"try\", \"stay_place\", \"find\", \"hear\", \"sound_quality\", \"like\", \"sound\", \"work\", \"headphone\", \"good\", \"cord\", \"comfortable\", \"small\", \"think\", \"feel\", \"way\", \"use\", \"come\", \"well\", \"phone\", \"music\", \"time\", \"app\", \"voice\", \"blue_tooth\", \"distance\", \"bright\", \"amp\", \"low_volume\", \"receiver\", \"good_job\", \"driver\", \"input\", \"toddler\", \"work_perfect\", \"situation\", \"make_easy\", \"mouse\", \"cloth\", \"ambient_noise\", \"wired\", \"louder\", \"big_ear\", \"bass_boost\", \"file\", \"record\", \"excellent_quality\", \"boost\", \"controller\", \"consistently\", \"pairing\", \"brightness\", \"speaker\", \"player\", \"game\", \"level\", \"setting\", \"improvement\", \"system\", \"volume\", \"audio\", \"play\", \"source\", \"high\", \"sound\", \"loud\", \"upgrade\", \"feature\", \"set\", \"phone\", \"listen\", \"make\", \"hear\", \"need\", \"experience\", \"add\", \"bit\", \"find\", \"service\", \"customer_service\", \"wireless_headphone\", \"tablet\", \"daughter\", \"contact\", \"long_battery\", \"volume_button\", \"connectivity\", \"speed\", \"book\", \"great_customer\", \"usb_port\", \"email\", \"sync\", \"transmitter\", \"charge_port\", \"defective\", \"use_gym\", \"table\", \"refund\", \"screen_protector\", \"wing\", \"stable\", \"let_know\", \"good_range\", \"tough\", \"customer_support\", \"work_month\", \"outlet\", \"send_replacement\", \"keyboard\", \"product\", \"company\", \"accessory\", \"item\", \"receive\", \"support\", \"replacement\", \"packaging\", \"issue\", \"case\", \"update\", \"star\", \"phone\", \"order\", \"problem\", \"purchase\", \"ask\", \"box\", \"time\", \"new\", \"review\", \"charge\", \"come\", \"month\", \"wireless\", \"stop_work\", \"disappointed\", \"radio\", \"last\", \"second_pair\", \"disconnect\", \"noise_cancelling\", \"stream\", \"ago\", \"last_month\", \"fly\", \"dead\", \"last_long\", \"repair\", \"crap\", \"life_good\", \"reset\", \"abuse\", \"right_away\", \"break_month\", \"connect_device\", \"send_new\", \"work_flawlessly\", \"reception\", \"compatible\", \"junk\", \"buy_new\", \"bit_heavy\", \"year\", \"break\", \"warranty\", \"today\", \"fail\", \"week\", \"wait\", \"pair\", \"update\", \"day\", \"replace\", \"die\", \"go\", \"buy\", \"software\", \"return\", \"know\", \"review\", \"work\", \"get\", \"pay\", \"bad\", \"purchase\", \"time\", \"say\", \"try\", \"start\", \"think\", \"product\", \"thing\", \"long\", \"set\", \"headphone\", \"love\", \"well\", \"use\", \"come\", \"good\"], \"Freq\": [88521.0, 47609.0, 19767.0, 25326.0, 40949.0, 18299.0, 8707.0, 13067.0, 15849.0, 10566.0, 40054.0, 10454.0, 18798.0, 8123.0, 18866.0, 14817.0, 10879.0, 20260.0, 24388.0, 19748.0, 8103.0, 9411.0, 50693.0, 14482.0, 7228.0, 13892.0, 7500.0, 9460.0, 8160.0, 6844.0, 19766.810567334014, 3459.0748435047835, 1233.7716514653948, 1004.9408730454153, 994.9500870683713, 827.7567588204535, 813.8812818732388, 748.589648569203, 723.5344838424849, 624.6009807041032, 620.8864621454811, 609.3667753046375, 590.2303603392982, 574.8384299515463, 551.0810819808356, 549.8458481028986, 547.0664422168815, 493.38733278552303, 489.8005731962216, 488.0359780678657, 479.166238148412, 455.80343315625487, 436.3180581373653, 433.2933342845472, 428.97462586853163, 419.7039463780144, 381.28189143558296, 363.848007363165, 358.3593276009019, 357.65489564737254, 674.6161104203642, 6089.609547301002, 2218.882280952498, 1455.9764820764078, 1187.0409126816805, 3399.2599035554244, 708.034675786457, 2156.5402835729883, 2256.9601012520625, 715.6032277727696, 1581.0258317589703, 817.225316708919, 1776.4056584615903, 3862.301974354573, 1595.4437512764216, 1030.429046746186, 2085.3645343102626, 882.066191935361, 1432.1987917889765, 1206.9369662277975, 1111.3658809251922, 1970.0320120390475, 1248.4856583010098, 1839.3710642895037, 1409.7726842108116, 985.9595898551822, 1024.3173619242366, 1149.0109227585422, 1123.0973468423792, 1054.6324850107671, 10565.15677027339, 5259.154553068, 4809.8801822477635, 2696.362754766423, 2440.1472057036717, 2257.765746529295, 1842.0745122504607, 1756.1543532480039, 1429.6105273516819, 1357.8771904494529, 1395.4728680767228, 1158.1155198020085, 1070.2249037257882, 926.3256683291487, 818.0136260932964, 766.455969836791, 729.6754718832412, 728.6425463169642, 711.8721405507731, 698.2206972569458, 680.7719192692659, 675.4088848186759, 611.1673349745344, 601.2033115819049, 595.5871084619782, 594.3969292083433, 591.7248537158296, 590.7034535750855, 585.8871931256319, 573.1495793342399, 5109.793893853649, 8450.988449268725, 1150.1629761841923, 4138.159368484271, 2741.8854507753003, 1476.1012288745396, 1573.0760290789667, 3765.4088744333126, 3809.1242274416486, 2570.4592667047955, 2036.6894618011052, 3071.5798201122548, 1708.1520628645549, 14041.478279715675, 3802.2251207406343, 10435.246861973354, 3639.4663171325897, 5444.5146510309905, 5726.621645303686, 5737.988189264433, 3693.943682742073, 3717.0927278291324, 3537.79956177443, 5607.0447693595315, 1794.978888675613, 4302.384831327947, 2421.79351902315, 2215.65093001589, 2238.492890883662, 2162.4928023798525, 10878.373492846018, 1623.273299050604, 1600.6835610265327, 1599.0524505385686, 1431.7448331617525, 1301.7902856104922, 1191.1155554057095, 1070.8673488708114, 1031.4627349799734, 955.5897802128494, 929.8826565138816, 908.7838539924225, 880.9371885026871, 775.862238791627, 773.6622042757598, 762.171784762646, 756.3075998881435, 732.8218019511883, 701.5530026925866, 664.3146588736212, 644.6543404586906, 629.6637497337568, 625.3718731287871, 611.0251826869593, 606.7867169548307, 599.2357719404215, 591.8283829247009, 564.0308335070822, 547.1028764510238, 523.8309047629109, 635.5183398406831, 2397.671376310094, 2129.8603961467197, 68982.16960309159, 15276.662466748252, 14539.481670508429, 2781.280418427757, 7327.64059726127, 4551.748965819296, 6349.953884562814, 26500.34013094281, 2990.464261823056, 13608.114475003653, 10101.95612821605, 1756.3435874594622, 2530.8472985410294, 1876.5470184123378, 25799.142088961176, 7316.786265149093, 22217.118920114204, 4137.79085144927, 4092.812408626535, 4766.355954606176, 3481.743775349266, 5138.119753567881, 4467.8201528164045, 8105.911853744449, 4695.284495670429, 6175.092992013749, 7480.767970569022, 6441.507339532974, 5054.553896915589, 3628.0784187279805, 3808.1983404537023, 4595.64584988934, 3592.69364693664, 3978.6174952661304, 3600.252130697002, 3625.378626229711, 2667.8034801256536, 2273.601240016464, 1945.7425258503852, 856.6672021035054, 791.1001548361703, 785.8451635899048, 780.7903558228265, 774.9661438252568, 706.7440805652232, 693.1518166813091, 651.4156602820296, 638.7412084972548, 631.3891884124132, 577.3401932199856, 570.5174349317678, 521.3217035569845, 500.8067062569945, 495.24883546318995, 493.1335763233054, 493.5361977752317, 466.3410583394778, 451.60572735411597, 424.1470842668262, 417.77273697198757, 401.72218109307704, 387.9283343891505, 376.44643195223216, 370.5560233595061, 366.76283795824855, 963.7380763225274, 3169.752320590212, 839.1906013117912, 6095.123759435049, 6759.5780499516595, 9890.891721927035, 19768.217922928154, 970.4873303468339, 1917.0838702641702, 2881.3886018798216, 5521.676998838228, 3086.9439950132987, 1508.9569450838808, 1837.1662718678758, 4388.531534807061, 2366.6148027506024, 4502.964963037693, 4232.556030975514, 1648.3311358099922, 4999.769204698878, 1911.8834533100946, 3677.392124709301, 1363.3135519777272, 1703.799295822832, 2291.376911039026, 1668.2193450319448, 2131.6511737954456, 3936.78731158181, 2282.265336477997, 2422.7000720674373, 2946.5677207738972, 2040.925688793127, 1827.4338564273178, 1718.5572106142922, 13066.167727415497, 4877.57462194537, 3515.300490711786, 2801.911919331822, 2178.374169828245, 2021.1909559299083, 1601.1985836396614, 1526.6063504079339, 1464.2889779704196, 6840.1277658328945, 1099.2897014835396, 1095.831637859679, 1017.3456139564198, 896.1480962500891, 893.7533922245831, 859.9773233092831, 856.9975351247284, 802.5594069233679, 761.3561923200701, 751.6684663431613, 726.996396241751, 721.628032400856, 680.6021465367702, 659.1198488119657, 655.1504603293704, 631.461555738377, 625.6941037426079, 574.9104096227986, 537.5828194538632, 510.69928356499696, 1503.3605706816754, 22122.132383785673, 2043.5682581972767, 2073.0821339060644, 6850.538289178815, 6607.643353938506, 4422.250450453082, 4397.351762014742, 4683.561310132144, 2346.1228672642605, 1742.3895555560905, 8146.215607786578, 2525.0885814283833, 1361.3102263119736, 2824.901358130698, 6290.137099973926, 1182.9190905311868, 5135.231222639144, 3858.1046525917764, 6126.389877410494, 5648.949647273551, 8936.64005582897, 8041.028279428997, 11203.593848672404, 8348.47210141626, 3057.754347656329, 4372.0993791274195, 3089.3837364010665, 3873.715885107849, 3478.2613278602207, 3440.834151692345, 4747.539032872869, 3622.8295564756563, 3823.0920538751293, 3602.392320789841, 3300.537921674087, 3507.892868256987, 2533.672104184266, 2378.566034737316, 1263.2666119052953, 983.6903213142073, 935.0763062891012, 930.7285409052731, 899.2982456663452, 884.0169533430284, 737.1761073951169, 1798.8341469310678, 717.0290376686697, 695.6295764704179, 680.0499386041407, 667.5036775372668, 631.3684488098778, 588.2075653592714, 543.8737787027395, 520.2076258819343, 506.76025919172133, 504.8933120041546, 503.2303141534353, 485.30443415262846, 471.694107180448, 458.5837719824858, 458.03068428751953, 448.4525349873357, 436.2822714694397, 432.83965770525623, 431.41428432986567, 429.4987540635841, 8571.498696788934, 1813.9376644013294, 1151.0148638811863, 1633.5904291409756, 1261.9123858187852, 720.6365724668765, 1216.6983148583636, 2537.943929329744, 2420.8916378121694, 1810.394243083041, 828.1670162790112, 1365.6849705084385, 3591.1705482876446, 1423.650403425376, 870.7397986050843, 1334.3516546886492, 1715.1461368864655, 1936.5497773036757, 1388.9622719612335, 1211.9717197281434, 1302.0226503011172, 1412.1874111847355, 991.151262993803, 901.5859764696874, 955.1915060138801, 933.941746678933, 2997.1730690585305, 2979.2081428534257, 2197.705014293915, 1733.746053868565, 1409.2879511493916, 1354.5980501014935, 1057.1132785892917, 887.235808597106, 875.838882071517, 822.7492679143273, 746.8881377755924, 743.2068342073771, 742.343348754764, 698.9054729536542, 688.7604522788495, 683.3004227506963, 678.1074724787599, 646.2255863129311, 616.1891154561462, 607.5978407459845, 574.1357517405295, 569.7154580876266, 569.4588070887024, 566.3826643032526, 546.0494293694248, 494.165598554685, 490.62057042281845, 486.40324155537024, 479.04980742303957, 469.88700627847913, 683.148118696657, 2338.4666611811626, 7532.1412463956885, 1748.4227316846445, 737.1939782987973, 1793.5084652538653, 1885.1465830969694, 1681.873327216683, 1317.7144627527184, 1123.2391799416469, 2414.473207574367, 2006.3404420100599, 1292.5514641373557, 1552.8215833177205, 2013.5739189975461, 1207.7323966122935, 1332.822818923146, 1282.617969718499, 857.7257716177231, 937.2511467556452, 1180.1894379437017, 956.8118538143567, 959.4330799684052, 959.8535576019574, 951.9766185163409, 7227.778046091468, 3759.0082050806977, 2307.557140404587, 1506.5661021806236, 1355.1523787923522, 1319.3160971407438, 1263.407176097267, 1119.2870314761644, 807.1158594730974, 718.089728783308, 704.7783958384648, 702.174675027843, 701.0812403780266, 680.5655048159105, 653.6359782948882, 623.6024116897846, 622.8915086119259, 618.7057291108014, 609.1110436810183, 607.7765340842155, 586.3228826223747, 554.4575153769231, 552.4277659604401, 551.8367042112667, 540.195179009966, 537.3324575235537, 527.7259028247954, 516.8632592418477, 516.4326588709023, 497.7491764432593, 5417.416716622316, 4488.771794991635, 1096.7067392571687, 1083.0681486381172, 1342.0679194404136, 3292.6574567529706, 1081.267918164809, 10625.022071124533, 3198.172506551794, 4853.557243505686, 2407.247304563621, 1198.8902852747678, 6173.683374744937, 11258.692059412127, 935.1897270424403, 3132.5555677038033, 4161.075828012429, 3759.555653357654, 12876.642862380211, 6452.8669592649285, 2290.4258520551866, 3684.281515276128, 4454.583566558321, 6885.9447703528085, 3070.0787988554252, 5456.860838355506, 2257.1772798836173, 4548.051309966149, 4885.28418235608, 3657.3668862539957, 3160.981109417068, 3736.945983827764, 8335.077672818512, 3811.910755156646, 3733.5927935169243, 3803.6235689051177, 3175.39659764177, 3847.5299788571415], \"Total\": [88521.0, 47609.0, 19767.0, 25326.0, 40949.0, 18299.0, 8707.0, 13067.0, 15849.0, 10566.0, 40054.0, 10454.0, 18798.0, 8123.0, 18866.0, 14817.0, 10879.0, 20260.0, 24388.0, 19748.0, 8103.0, 9411.0, 50693.0, 14482.0, 7228.0, 13892.0, 7500.0, 9460.0, 8160.0, 6844.0, 19767.703683204152, 3459.9680669034856, 1234.6650363245258, 1005.8344241558354, 995.8433086436308, 828.6507828874637, 814.7750192813394, 749.4833689404186, 724.4277167007797, 625.494623462791, 621.7794101159933, 610.260205635923, 591.1233898854165, 575.7315289898719, 551.9743726563008, 550.7397569024396, 547.9613828126213, 494.2816346157597, 490.69379931395486, 488.9291614219722, 480.0603081177385, 456.69906866998986, 437.2113868095109, 434.1873995274252, 429.8677046981903, 420.5980569672748, 382.17629031435695, 364.7420694758598, 359.25257772881093, 358.54917192908226, 702.8465403079554, 8123.013789824461, 2692.145785470473, 1807.4018852382933, 1739.265732348969, 7500.7530575447745, 910.4161321109169, 5842.0864413867985, 6440.488143243389, 994.8592668303709, 4611.514870915855, 1368.3449961402496, 8160.375528565594, 50693.424843581866, 6687.366572483907, 2837.900647135432, 18798.94141516184, 1901.7222242898433, 8372.193986901819, 5204.885547198706, 4047.243892496774, 29912.69462558705, 6458.529111474542, 40054.73454572096, 13892.291944060853, 4588.939399067611, 5960.779872933752, 14817.55170027057, 18196.34255832518, 12035.434394772921, 10566.04182269371, 5260.039643248948, 4810.766031440022, 2697.2470042430077, 2441.0332346597534, 2258.651663769807, 1842.9589749725383, 1757.0396847605557, 1430.496341839599, 1358.763324816248, 1396.4012618807528, 1159.000666692567, 1071.1094888923694, 927.211136334986, 818.8982643842918, 767.3430850642371, 730.5603720148406, 729.5281176322156, 712.7565808468113, 699.106140816708, 681.6576741635549, 676.2937953909425, 612.0524477014416, 602.090163307481, 596.4730106347433, 595.2819127655395, 592.6104983453648, 591.5886612528683, 586.7721097699995, 574.034834286089, 5420.658647368469, 9411.608815804913, 1206.5624625700495, 5001.053597307065, 3262.1905293443842, 1636.7380707269829, 1770.3783424627363, 5250.005324383937, 5949.209581240581, 3861.293802050687, 2868.948312925131, 4984.22021665179, 2291.1760361162605, 40054.73454572096, 7049.056426630279, 29912.69462558705, 7500.7530575447745, 14484.502947850331, 18672.60486658722, 20102.40609622352, 10454.278259004468, 12035.434394772921, 11540.135011627637, 47609.07977972853, 2675.5236134811903, 50693.424843581866, 11194.725699100387, 14209.453898426287, 15704.15120125949, 11669.510525624815, 10879.259718947766, 1624.1595362063397, 1601.5700964404384, 1599.9386602964273, 1432.6312247048866, 1302.676710265875, 1192.001699107525, 1071.756335292162, 1032.3488591377923, 956.4756787837395, 930.7691723299142, 909.6707922019139, 881.8236585409879, 776.7483110072166, 774.5484102907967, 763.0590065009918, 757.1938092705153, 733.7077448347366, 702.4394239317542, 665.201642265079, 645.5404213831212, 630.5496682517252, 626.2581617687475, 611.9112829442021, 607.6733696444262, 600.1222629023962, 592.7145004572791, 564.9181061962453, 547.9890482947861, 524.7169201881438, 636.6753549586934, 2471.145029243279, 2240.9038118859435, 88521.51030404767, 18866.741145392058, 18798.94141516184, 3179.5761947825085, 9460.04971506912, 5597.563546851832, 8160.375528565594, 40949.43845342604, 3560.3598563165215, 20260.997264459947, 14482.719873030308, 1991.8393571298216, 3076.2486956711377, 2205.8720834677283, 50693.424843581866, 11317.064608299623, 47609.07977972853, 5931.975338603037, 5979.292190666555, 7372.406593918873, 4959.093903388943, 8515.340406025824, 7214.646277353015, 18196.34255832518, 8308.027064205677, 13892.291944060853, 24388.99308404804, 19748.460832462733, 13054.003351084488, 7251.043602572363, 9169.405876989067, 18299.084885642886, 9882.939102717073, 17792.15633477394, 11669.510525624815, 3626.266132982541, 2668.6901549265795, 2274.4996892400595, 1946.6304409574739, 857.5536166926521, 791.9886988724875, 786.7330829932342, 781.6769995739063, 775.8558731328831, 707.6321794907489, 694.0396988836305, 652.3035864823714, 639.6278373662344, 632.2762444013329, 578.2272706431048, 571.4051181845952, 522.2110556765435, 501.6943556366182, 496.1358975012756, 494.0204831342906, 494.4244614600922, 467.22778385606904, 452.49302559651005, 425.0346014277026, 418.65939802100166, 402.6087980711358, 388.81507832173685, 377.333546730126, 371.4429111767126, 367.65036513977384, 966.3569516289514, 3578.3104947769616, 889.4270198948896, 8103.064624635992, 10454.278259004468, 18299.084885642886, 47609.07977972853, 1200.767815493477, 3149.7487945329904, 5852.8584680026825, 14817.55170027057, 6861.038429614294, 2531.4813399253953, 3489.3882932778715, 13892.291944060853, 5842.0864413867985, 18672.60486658722, 17792.15633477394, 3503.5660241102933, 29912.69462558705, 4984.22021665179, 24388.99308404804, 2764.152441280829, 4611.621379208147, 9968.389193914943, 4713.002724961984, 9460.04971506912, 50693.424843581866, 14484.502947850331, 18866.741145392058, 40054.73454572096, 13054.003351084488, 9882.939102717073, 15849.355038870224, 13067.065695753798, 4878.472449504017, 3516.1982437324878, 2802.8096106335947, 2179.2718263079437, 2022.0890397286034, 1602.0961534050396, 1527.504876655822, 1465.1874403551572, 6844.918241941283, 1100.187767896621, 1096.729180333926, 1018.2433688290896, 897.0457255984537, 894.6508206853523, 860.8750516872076, 857.8959312056544, 803.4568691570161, 762.254549131273, 752.5668631340493, 727.8946605442555, 722.526922399412, 681.5002358107729, 660.0182312769614, 656.0486282754811, 632.3599893228019, 626.5915437328749, 575.8081707821115, 538.4805481519788, 511.59727448473495, 1531.760570668818, 25326.125169868872, 2170.6696594714304, 2331.136521885981, 9358.019118278467, 9014.05689560742, 5961.03422834627, 6206.672667809125, 7131.5341566960915, 3092.136061089057, 2149.723670434831, 14817.55170027057, 3566.4257699926475, 1603.2873248509813, 4394.185138127522, 15490.810747841662, 1349.859681353652, 12113.60277105813, 9169.405876989067, 20260.997264459947, 17792.15633477394, 40949.43845342604, 40054.73454572096, 88521.51030404767, 50693.424843581866, 6687.366572483907, 14482.719873030308, 6836.037442854303, 12266.562006317574, 9882.939102717073, 9580.761133577322, 29912.69462558705, 14209.453898426287, 18196.34255832518, 18672.60486658722, 11317.064608299623, 20102.40609622352, 2534.53957369055, 2379.433217996206, 1264.1338141485396, 984.5574405289595, 935.9428996239171, 931.5947115044097, 900.1652143230677, 884.8835575911941, 738.0433113383632, 1800.9865298026098, 717.8955140315469, 696.5033550976989, 680.9168684741527, 668.3708977425489, 632.2355361518131, 589.0737662308649, 544.7412060585609, 521.0746394864176, 507.62759943854167, 505.76040993422487, 504.09745641661294, 486.1709766208845, 472.560874718808, 459.4503482979369, 458.897475762762, 449.31900545501856, 437.1493119863194, 433.7072262149257, 432.2816548654268, 430.3656459431075, 8707.092296769722, 2260.998322107929, 1605.1585382396008, 2750.272515001637, 1931.6616201397044, 888.7645722000303, 1982.388289566751, 6704.882478585661, 6236.724337312421, 4253.512561590299, 1164.1345325705865, 4243.045686374411, 40949.43845342604, 5062.871320451765, 1652.4323619471534, 5186.247855051922, 12486.666706694992, 18672.60486658722, 7214.646277353015, 6047.220246988724, 9169.405876989067, 14484.502947850331, 3905.0005293924305, 2388.765196886745, 5787.482227375427, 12113.60277105813, 2998.069899406352, 2980.104838704954, 2198.6027914485303, 1734.643162169443, 1410.1866073787276, 1355.494844104868, 1058.010851811785, 888.1334725037652, 876.7364809972191, 823.6471677049778, 747.7858363223, 744.1032988952817, 743.2403787670556, 699.8020558940094, 689.6575215188076, 684.1972794172668, 679.0046106753294, 647.1224077420075, 617.0866184079426, 608.4955253339214, 575.0326754572454, 570.6117199857285, 570.3571450854727, 567.280156228177, 546.9467478782487, 495.0629037965224, 491.5181951654575, 487.30007844447783, 479.94678150289553, 470.78378603951916, 688.3984459242059, 2417.1207043541335, 15849.355038870224, 2626.1486325244805, 843.7932002750492, 2794.6082274298474, 3195.8047005092126, 2808.227317931385, 2658.5060021924983, 2003.8570117657005, 12035.434394772921, 8103.064624635992, 4648.779691026473, 8076.922436227737, 18672.60486658722, 4070.7376239575538, 11540.135011627637, 10349.321638721296, 1874.4334294978407, 3343.84972483499, 20102.40609622352, 4562.8239686148445, 7237.662206873032, 9411.608815804913, 14209.453898426287, 7228.67196022278, 3759.9027881880475, 2308.450537046287, 1507.459865098742, 1356.0465157833473, 1320.2098773384323, 1264.3010059131257, 1120.1813768777224, 808.0117115224778, 718.985214580724, 705.6721547627093, 703.0680301607564, 701.9762005629434, 681.4597754219013, 654.5301983863122, 624.4963863913728, 623.7852058893321, 619.6008361182444, 610.0054545983778, 608.6709452098783, 587.2173470237882, 555.351106558176, 553.3223685597445, 552.7306712033044, 541.0893740763458, 538.2268194301105, 528.620095056003, 517.7567059270001, 517.3265885537724, 498.6456860597543, 6047.897128507295, 5960.779872933752, 1209.763372350491, 1195.655140719819, 1561.374101701733, 4507.56318672695, 1242.348439293118, 19748.460832462733, 4648.779691026473, 7912.863508127722, 3379.88104655579, 1425.5418088402744, 11390.87626630788, 24388.99308404804, 1050.2395017017159, 5072.868017955143, 7702.693945345598, 7237.662206873032, 40054.73454572096, 15704.15120125949, 3825.0662009180214, 7636.263084246773, 10349.321638721296, 20102.40609622352, 6060.831580080976, 15490.810747841662, 3849.1487615958285, 12266.562006317574, 15849.355038870224, 11194.725699100387, 8372.193986901819, 12486.666706694992, 88521.51030404767, 18299.084885642886, 18196.34255832518, 29912.69462558705, 14209.453898426287, 50693.424843581866], \"Category\": [\"Default\", \"Default\", \"Default\", \"Default\", \"Default\", \"Default\", \"Default\", \"Default\", \"Default\", \"Default\", \"Default\", \"Default\", \"Default\", \"Default\", \"Default\", \"Default\", \"Default\", \"Default\", \"Default\", \"Default\", \"Default\", \"Default\", \"Default\", \"Default\", \"Default\", \"Default\", \"Default\", \"Default\", \"Default\", \"Default\", \"Topic1\", \"Topic1\", \"Topic1\", \"Topic1\", \"Topic1\", \"Topic1\", \"Topic1\", \"Topic1\", \"Topic1\", \"Topic1\", \"Topic1\", \"Topic1\", \"Topic1\", \"Topic1\", \"Topic1\", \"Topic1\", \"Topic1\", \"Topic1\", \"Topic1\", \"Topic1\", \"Topic1\", \"Topic1\", \"Topic1\", \"Topic1\", \"Topic1\", \"Topic1\", \"Topic1\", \"Topic1\", \"Topic1\", \"Topic1\", \"Topic1\", \"Topic1\", \"Topic1\", \"Topic1\", \"Topic1\", \"Topic1\", \"Topic1\", \"Topic1\", \"Topic1\", \"Topic1\", \"Topic1\", \"Topic1\", \"Topic1\", \"Topic1\", \"Topic1\", \"Topic1\", \"Topic1\", \"Topic1\", \"Topic1\", \"Topic1\", \"Topic1\", \"Topic1\", \"Topic1\", \"Topic1\", \"Topic1\", \"Topic1\", \"Topic1\", \"Topic1\", \"Topic1\", \"Topic1\", \"Topic2\", \"Topic2\", \"Topic2\", \"Topic2\", \"Topic2\", \"Topic2\", \"Topic2\", \"Topic2\", \"Topic2\", \"Topic2\", \"Topic2\", \"Topic2\", \"Topic2\", \"Topic2\", \"Topic2\", \"Topic2\", \"Topic2\", \"Topic2\", \"Topic2\", \"Topic2\", \"Topic2\", \"Topic2\", \"Topic2\", \"Topic2\", \"Topic2\", \"Topic2\", \"Topic2\", \"Topic2\", \"Topic2\", \"Topic2\", \"Topic2\", \"Topic2\", \"Topic2\", \"Topic2\", \"Topic2\", \"Topic2\", \"Topic2\", \"Topic2\", \"Topic2\", \"Topic2\", \"Topic2\", \"Topic2\", \"Topic2\", \"Topic2\", \"Topic2\", \"Topic2\", \"Topic2\", \"Topic2\", \"Topic2\", \"Topic2\", \"Topic2\", \"Topic2\", \"Topic2\", \"Topic2\", \"Topic2\", \"Topic2\", \"Topic2\", \"Topic2\", \"Topic2\", \"Topic2\", \"Topic3\", \"Topic3\", \"Topic3\", \"Topic3\", \"Topic3\", \"Topic3\", \"Topic3\", \"Topic3\", \"Topic3\", \"Topic3\", \"Topic3\", \"Topic3\", \"Topic3\", \"Topic3\", \"Topic3\", \"Topic3\", \"Topic3\", \"Topic3\", \"Topic3\", \"Topic3\", \"Topic3\", \"Topic3\", \"Topic3\", \"Topic3\", \"Topic3\", \"Topic3\", \"Topic3\", \"Topic3\", \"Topic3\", \"Topic3\", \"Topic3\", \"Topic3\", \"Topic3\", \"Topic3\", \"Topic3\", \"Topic3\", \"Topic3\", \"Topic3\", \"Topic3\", \"Topic3\", \"Topic3\", \"Topic3\", \"Topic3\", \"Topic3\", \"Topic3\", \"Topic3\", \"Topic3\", \"Topic3\", \"Topic3\", \"Topic3\", \"Topic3\", \"Topic3\", \"Topic3\", \"Topic3\", \"Topic3\", \"Topic3\", \"Topic3\", \"Topic3\", \"Topic3\", \"Topic3\", \"Topic3\", \"Topic3\", \"Topic3\", \"Topic3\", \"Topic3\", \"Topic3\", \"Topic3\", \"Topic3\", \"Topic4\", \"Topic4\", \"Topic4\", \"Topic4\", \"Topic4\", \"Topic4\", \"Topic4\", \"Topic4\", \"Topic4\", \"Topic4\", \"Topic4\", \"Topic4\", \"Topic4\", \"Topic4\", \"Topic4\", \"Topic4\", \"Topic4\", \"Topic4\", \"Topic4\", \"Topic4\", \"Topic4\", \"Topic4\", \"Topic4\", \"Topic4\", \"Topic4\", \"Topic4\", \"Topic4\", \"Topic4\", \"Topic4\", \"Topic4\", \"Topic4\", \"Topic4\", \"Topic4\", \"Topic4\", \"Topic4\", \"Topic4\", \"Topic4\", \"Topic4\", \"Topic4\", \"Topic4\", \"Topic4\", \"Topic4\", \"Topic4\", \"Topic4\", \"Topic4\", \"Topic4\", \"Topic4\", \"Topic4\", \"Topic4\", \"Topic4\", \"Topic4\", \"Topic4\", \"Topic4\", \"Topic4\", \"Topic4\", \"Topic4\", \"Topic4\", \"Topic4\", \"Topic4\", \"Topic4\", \"Topic4\", \"Topic4\", \"Topic4\", \"Topic4\", \"Topic5\", \"Topic5\", \"Topic5\", \"Topic5\", \"Topic5\", \"Topic5\", \"Topic5\", \"Topic5\", \"Topic5\", \"Topic5\", \"Topic5\", \"Topic5\", \"Topic5\", \"Topic5\", \"Topic5\", \"Topic5\", \"Topic5\", \"Topic5\", \"Topic5\", \"Topic5\", \"Topic5\", \"Topic5\", \"Topic5\", \"Topic5\", \"Topic5\", \"Topic5\", \"Topic5\", \"Topic5\", \"Topic5\", \"Topic5\", \"Topic5\", \"Topic5\", \"Topic5\", \"Topic5\", \"Topic5\", \"Topic5\", \"Topic5\", \"Topic5\", \"Topic5\", \"Topic5\", \"Topic5\", \"Topic5\", \"Topic5\", \"Topic5\", \"Topic5\", \"Topic5\", \"Topic5\", \"Topic5\", \"Topic5\", \"Topic5\", \"Topic5\", \"Topic5\", \"Topic5\", \"Topic5\", \"Topic5\", \"Topic5\", \"Topic5\", \"Topic5\", \"Topic5\", \"Topic5\", \"Topic5\", \"Topic5\", \"Topic5\", \"Topic5\", \"Topic5\", \"Topic5\", \"Topic5\", \"Topic6\", \"Topic6\", \"Topic6\", \"Topic6\", \"Topic6\", \"Topic6\", \"Topic6\", \"Topic6\", \"Topic6\", \"Topic6\", \"Topic6\", \"Topic6\", \"Topic6\", \"Topic6\", \"Topic6\", \"Topic6\", \"Topic6\", \"Topic6\", \"Topic6\", \"Topic6\", \"Topic6\", \"Topic6\", \"Topic6\", \"Topic6\", \"Topic6\", \"Topic6\", \"Topic6\", \"Topic6\", \"Topic6\", \"Topic6\", \"Topic6\", \"Topic6\", \"Topic6\", \"Topic6\", \"Topic6\", \"Topic6\", \"Topic6\", \"Topic6\", \"Topic6\", \"Topic6\", \"Topic6\", \"Topic6\", \"Topic6\", \"Topic6\", \"Topic6\", \"Topic6\", \"Topic6\", \"Topic6\", \"Topic6\", \"Topic6\", \"Topic6\", \"Topic6\", \"Topic6\", \"Topic6\", \"Topic6\", \"Topic6\", \"Topic7\", \"Topic7\", \"Topic7\", \"Topic7\", \"Topic7\", \"Topic7\", \"Topic7\", \"Topic7\", \"Topic7\", \"Topic7\", \"Topic7\", \"Topic7\", \"Topic7\", \"Topic7\", \"Topic7\", \"Topic7\", \"Topic7\", \"Topic7\", \"Topic7\", \"Topic7\", \"Topic7\", \"Topic7\", \"Topic7\", \"Topic7\", \"Topic7\", \"Topic7\", \"Topic7\", \"Topic7\", \"Topic7\", \"Topic7\", \"Topic7\", \"Topic7\", \"Topic7\", \"Topic7\", \"Topic7\", \"Topic7\", \"Topic7\", \"Topic7\", \"Topic7\", \"Topic7\", \"Topic7\", \"Topic7\", \"Topic7\", \"Topic7\", \"Topic7\", \"Topic7\", \"Topic7\", \"Topic7\", \"Topic7\", \"Topic7\", \"Topic7\", \"Topic7\", \"Topic7\", \"Topic7\", \"Topic7\", \"Topic8\", \"Topic8\", \"Topic8\", \"Topic8\", \"Topic8\", \"Topic8\", \"Topic8\", \"Topic8\", \"Topic8\", \"Topic8\", \"Topic8\", \"Topic8\", \"Topic8\", \"Topic8\", \"Topic8\", \"Topic8\", \"Topic8\", \"Topic8\", \"Topic8\", \"Topic8\", \"Topic8\", \"Topic8\", \"Topic8\", \"Topic8\", \"Topic8\", \"Topic8\", \"Topic8\", \"Topic8\", \"Topic8\", \"Topic8\", \"Topic8\", \"Topic8\", \"Topic8\", \"Topic8\", \"Topic8\", \"Topic8\", \"Topic8\", \"Topic8\", \"Topic8\", \"Topic8\", \"Topic8\", \"Topic8\", \"Topic8\", \"Topic8\", \"Topic8\", \"Topic8\", \"Topic8\", \"Topic8\", \"Topic8\", \"Topic8\", \"Topic8\", \"Topic8\", \"Topic8\", \"Topic8\", \"Topic8\", \"Topic8\", \"Topic8\", \"Topic8\", \"Topic8\", \"Topic8\", \"Topic8\", \"Topic8\", \"Topic8\", \"Topic8\", \"Topic8\", \"Topic8\", \"Topic8\", \"Topic8\"], \"logprob\": [30.0, 29.0, 28.0, 27.0, 26.0, 25.0, 24.0, 23.0, 22.0, 21.0, 20.0, 19.0, 18.0, 17.0, 16.0, 15.0, 14.0, 13.0, 12.0, 11.0, 10.0, 9.0, 8.0, 7.0, 6.0, 5.0, 4.0, 3.0, 2.0, 1.0, -2.5274, -4.2704, -5.3014, -5.5065, -5.5165, -5.7005, -5.7174, -5.801, -5.835, -5.9821, -5.988, -6.0068, -6.0387, -6.0651, -6.1073, -6.1096, -6.1146, -6.2179, -6.2252, -6.2288, -6.2471, -6.2971, -6.3408, -6.3478, -6.3578, -6.3796, -6.4757, -6.5225, -6.5377, -6.5396, -5.905, -3.7049, -4.7144, -5.1358, -5.34, -4.2879, -5.8567, -4.7429, -4.6974, -5.8461, -5.0534, -5.7133, -4.9368, -4.1602, -5.0443, -5.4815, -4.7765, -5.6369, -5.1522, -5.3233, -5.4058, -4.8334, -5.2895, -4.902, -5.168, -5.5256, -5.4874, -5.3725, -5.3953, -5.4582, -3.9692, -4.6668, -4.7561, -5.3348, -5.4347, -5.5124, -5.7159, -5.7636, -5.9694, -6.0208, -5.9935, -6.18, -6.2589, -6.4033, -6.5276, -6.5927, -6.6419, -6.6433, -6.6666, -6.686, -6.7113, -6.7192, -6.8191, -6.8356, -6.845, -6.847, -6.8515, -6.8532, -6.8614, -6.8834, -4.6956, -4.1925, -6.1868, -4.9065, -5.3181, -5.9373, -5.8737, -5.0009, -4.9894, -5.3827, -5.6154, -5.2046, -5.7913, -3.6847, -4.9912, -3.9816, -5.0349, -4.6321, -4.5816, -4.5796, -5.0201, -5.0138, -5.0632, -4.6027, -5.7418, -4.8676, -5.4422, -5.5312, -5.5209, -5.5555, -4.2788, -6.1812, -6.1952, -6.1962, -6.3067, -6.4019, -6.4907, -6.5971, -6.6346, -6.711, -6.7383, -6.7613, -6.7924, -6.9194, -6.9222, -6.9372, -6.9449, -6.9765, -7.0201, -7.0746, -7.1046, -7.1282, -7.135, -7.1582, -7.1652, -7.1777, -7.1901, -7.2383, -7.2687, -7.3122, -7.1189, -5.7911, -5.9095, -2.4318, -3.9393, -3.9887, -5.6427, -4.674, -5.1501, -4.8172, -3.3884, -5.5702, -4.0549, -4.3529, -6.1024, -5.737, -6.0362, -3.4153, -4.6754, -3.5647, -5.2454, -5.2564, -5.104, -5.4181, -5.0289, -5.1687, -4.573, -5.119, -4.8451, -4.6533, -4.8028, -5.0453, -5.3769, -5.3284, -5.1405, -5.3867, -5.2847, -5.3846, -4.5229, -4.8296, -4.9895, -5.1452, -5.9655, -6.0452, -6.0518, -6.0583, -6.0658, -6.1579, -6.1773, -6.2394, -6.2591, -6.2707, -6.3602, -6.372, -6.4622, -6.5024, -6.5135, -6.5178, -6.517, -6.5737, -6.6058, -6.6685, -6.6836, -6.7228, -6.7578, -6.7878, -6.8036, -6.8139, -5.8478, -4.6572, -5.9861, -4.0033, -3.8999, -3.5192, -2.8268, -5.8408, -5.16, -4.7526, -4.1021, -4.6836, -5.3994, -5.2026, -4.3318, -4.9494, -4.3061, -4.368, -5.3111, -4.2014, -5.1627, -4.5086, -5.5009, -5.278, -4.9817, -5.2991, -5.0539, -4.4405, -4.9857, -4.9259, -4.7302, -5.0974, -5.2079, -5.2693, -4.0528, -5.0381, -5.3657, -5.5925, -5.8442, -5.9191, -6.152, -6.1997, -6.2414, -4.7, -6.5281, -6.5313, -6.6056, -6.7324, -6.7351, -6.7736, -6.7771, -6.8427, -6.8954, -6.9082, -6.9416, -6.949, -7.0076, -7.0396, -7.0457, -7.0825, -7.0917, -7.1763, -7.2435, -7.2948, -6.2151, -3.5262, -5.9081, -5.8937, -4.6985, -4.7346, -5.1361, -5.1418, -5.0787, -5.77, -6.0675, -4.5252, -5.6965, -6.3143, -5.5843, -4.7838, -6.4548, -4.9867, -5.2726, -4.8102, -4.8913, -4.4326, -4.5382, -4.2065, -4.5007, -5.5051, -5.1475, -5.4948, -5.2686, -5.3762, -5.3871, -5.0652, -5.3355, -5.2817, -5.3412, -5.4287, -5.3678, -4.6589, -4.722, -5.3548, -5.605, -5.6557, -5.6603, -5.6947, -5.7118, -5.8935, -5.0014, -5.9212, -5.9515, -5.9741, -5.9928, -6.0484, -6.1192, -6.1976, -6.2421, -6.2683, -6.2719, -6.2752, -6.3115, -6.34, -6.3682, -6.3694, -6.3905, -6.418, -6.4259, -6.4292, -6.4337, -3.4401, -4.993, -5.4479, -5.0978, -5.3559, -5.9162, -5.3924, -4.6572, -4.7044, -4.995, -5.7771, -5.2769, -4.3101, -5.2353, -5.727, -5.3001, -5.049, -4.9276, -5.26, -5.3963, -5.3246, -5.2434, -5.5974, -5.6921, -5.6344, -5.6569, -4.5245, -4.5305, -4.8347, -5.0718, -5.279, -5.3186, -5.5666, -5.7418, -5.7547, -5.8172, -5.914, -5.9189, -5.9201, -5.9804, -5.995, -6.0029, -6.0106, -6.0587, -6.1063, -6.1204, -6.177, -6.1847, -6.1852, -6.1906, -6.2272, -6.327, -6.3342, -6.3428, -6.3581, -6.3774, -6.0032, -4.7726, -3.6029, -5.0634, -5.927, -5.0379, -4.9881, -5.1022, -5.3462, -5.5059, -4.7406, -4.9258, -5.3655, -5.182, -4.9222, -5.4334, -5.3348, -5.3732, -5.7756, -5.6869, -5.4564, -5.6663, -5.6635, -5.6631, -5.6713, -4.4156, -5.0694, -5.5574, -5.9837, -6.0896, -6.1165, -6.1598, -6.2809, -6.6079, -6.7247, -6.7434, -6.7471, -6.7487, -6.7784, -6.8188, -6.8658, -6.8669, -6.8737, -6.8893, -6.8915, -6.9274, -6.9833, -6.987, -6.9881, -7.0094, -7.0147, -7.0327, -7.0535, -7.0544, -7.0912, -4.7039, -4.892, -6.3013, -6.3138, -6.0994, -5.2019, -6.3154, -4.0304, -5.231, -4.8139, -5.5151, -6.2122, -4.5733, -3.9724, -6.4606, -5.2517, -4.9678, -5.0693, -3.8381, -4.529, -5.5648, -5.0895, -4.8996, -4.4641, -5.2719, -4.6967, -5.5794, -4.8789, -4.8073, -5.0968, -5.2427, -5.0753, -4.2731, -5.0554, -5.0762, -5.0576, -5.2381, -5.0461], \"loglift\": [30.0, 29.0, 28.0, 27.0, 26.0, 25.0, 24.0, 23.0, 22.0, 21.0, 20.0, 19.0, 18.0, 17.0, 16.0, 15.0, 14.0, 13.0, 12.0, 11.0, 10.0, 9.0, 8.0, 7.0, 6.0, 5.0, 4.0, 3.0, 2.0, 1.0, 2.7364, 2.7362, 2.7357, 2.7356, 2.7355, 2.7354, 2.7353, 2.7353, 2.7352, 2.735, 2.735, 2.735, 2.7349, 2.7349, 2.7348, 2.7348, 2.7348, 2.7346, 2.7346, 2.7346, 2.7346, 2.7345, 2.7344, 2.7344, 2.7344, 2.7343, 2.7341, 2.734, 2.734, 2.7339, 2.6954, 2.4483, 2.5431, 2.5202, 2.3544, 1.945, 2.485, 1.7399, 1.6879, 2.407, 1.666, 2.221, 1.2117, 0.1619, 1.3034, 1.7234, 0.5376, 1.9682, 0.9707, 1.2749, 1.444, 0.0162, 1.093, -0.3444, 0.4485, 1.1987, 0.9753, 0.1795, -0.0487, 0.3018, 1.921, 1.921, 1.9209, 1.9208, 1.9208, 1.9207, 1.9206, 1.9206, 1.9205, 1.9205, 1.9205, 1.9204, 1.9203, 1.9202, 1.92, 1.92, 1.9199, 1.9199, 1.9199, 1.9199, 1.9198, 1.9198, 1.9197, 1.9197, 1.9196, 1.9196, 1.9196, 1.9196, 1.9196, 1.9196, 1.8621, 1.8135, 1.8733, 1.7317, 1.7474, 1.8178, 1.803, 1.5888, 1.4753, 1.5142, 1.5785, 1.437, 1.6275, 0.8729, 1.3038, 0.868, 1.198, 0.9427, 0.7392, 0.6674, 0.8808, 0.7462, 0.7388, -0.2179, 1.522, -0.5455, 0.3902, 0.0628, -0.027, 0.2354, 1.5822, 1.5817, 1.5817, 1.5817, 1.5817, 1.5816, 1.5815, 1.5814, 1.5814, 1.5813, 1.5813, 1.5813, 1.5813, 1.5811, 1.5811, 1.5811, 1.5811, 1.5811, 1.581, 1.5809, 1.5809, 1.5809, 1.5809, 1.5808, 1.5808, 1.5808, 1.5808, 1.5807, 1.5807, 1.5806, 1.5805, 1.5521, 1.5315, 1.3329, 1.3712, 1.3253, 1.4484, 1.3269, 1.3755, 1.3314, 1.1471, 1.4078, 1.1842, 1.222, 1.4564, 1.3871, 1.4206, 0.9068, 1.1461, 0.8201, 1.2221, 1.2032, 1.1461, 1.2286, 1.0771, 1.1031, 0.7736, 1.0116, 0.7715, 0.4005, 0.462, 0.6335, 0.8898, 0.7036, 0.2005, 0.5704, 0.0845, 0.4063, 2.4368, 2.4367, 2.4367, 2.4366, 2.436, 2.4359, 2.4359, 2.4359, 2.4359, 2.4358, 2.4358, 2.4357, 2.4357, 2.4356, 2.4355, 2.4355, 2.4353, 2.4353, 2.4353, 2.4353, 2.4353, 2.4351, 2.4351, 2.435, 2.4349, 2.4348, 2.4348, 2.4347, 2.4347, 2.4346, 2.4343, 2.3158, 2.3789, 2.1523, 2.001, 1.8218, 1.5581, 2.2241, 1.9405, 1.7284, 1.4499, 1.6384, 1.9197, 1.7955, 1.2847, 1.5334, 1.0147, 1.0011, 1.683, 0.6482, 1.4789, 0.5451, 1.7302, 1.4413, 0.9668, 1.3985, 0.9469, -0.1184, 0.5891, 0.3845, -0.1726, 0.5814, 0.7492, 0.2154, 1.625, 1.6249, 1.6248, 1.6248, 1.6247, 1.6247, 1.6245, 1.6245, 1.6245, 1.6244, 1.6243, 1.6243, 1.6242, 1.6241, 1.6241, 1.6241, 1.6241, 1.624, 1.6239, 1.6239, 1.6239, 1.6239, 1.6238, 1.6237, 1.6237, 1.6237, 1.6237, 1.6235, 1.6234, 1.6233, 1.6064, 1.4898, 1.5648, 1.5078, 1.3132, 1.3145, 1.3265, 1.2805, 1.2046, 1.349, 1.415, 1.0268, 1.2798, 1.4615, 1.1833, 0.7238, 1.4931, 0.7669, 0.7594, 0.429, 0.4778, 0.1029, 0.0194, -0.4419, -0.1786, 0.8426, 0.4274, 0.8309, 0.4724, 0.5808, 0.6011, -0.2156, 0.2584, 0.0649, -0.0204, 0.3929, -0.1207, 2.659, 2.659, 2.6587, 2.6585, 2.6584, 2.6584, 2.6584, 2.6584, 2.6582, 2.6581, 2.6581, 2.6581, 2.6581, 2.658, 2.658, 2.6579, 2.6577, 2.6577, 2.6576, 2.6576, 2.6576, 2.6576, 2.6575, 2.6575, 2.6574, 2.6574, 2.6574, 2.6573, 2.6573, 2.6573, 2.6436, 2.439, 2.3268, 2.1384, 2.2336, 2.4496, 2.1712, 1.6879, 1.713, 1.8051, 2.3188, 1.5257, 0.2255, 1.3906, 2.0187, 1.3018, 0.6742, 0.3932, 1.0118, 1.052, 0.7074, 0.3314, 1.2882, 1.685, 0.8578, 0.0967, 2.6255, 2.6255, 2.6253, 2.6252, 2.6251, 2.6251, 2.6249, 2.6247, 2.6247, 2.6247, 2.6246, 2.6246, 2.6245, 2.6245, 2.6245, 2.6244, 2.6244, 2.6244, 2.6243, 2.6243, 2.6242, 2.6242, 2.6242, 2.6242, 2.6241, 2.6239, 2.6239, 2.6239, 2.6239, 2.6238, 2.6181, 2.5927, 1.8818, 2.219, 2.4907, 2.1822, 2.0979, 2.1131, 1.9239, 2.0469, 1.0194, 1.2298, 1.3458, 0.9768, 0.3986, 1.4107, 0.4672, 0.5377, 1.844, 1.3538, -0.2094, 1.0637, 0.605, 0.3428, -0.0774, 1.8542, 1.8541, 1.8539, 1.8537, 1.8537, 1.8536, 1.8536, 1.8535, 1.8532, 1.8531, 1.853, 1.853, 1.853, 1.853, 1.8529, 1.8529, 1.8529, 1.8529, 1.8528, 1.8528, 1.8528, 1.8527, 1.8527, 1.8527, 1.8527, 1.8527, 1.8526, 1.8526, 1.8526, 1.8525, 1.7442, 1.5707, 1.7562, 1.7554, 1.703, 1.5403, 1.7154, 1.2345, 1.4803, 1.3655, 1.515, 1.6812, 1.2418, 1.0813, 1.7383, 1.3723, 1.2385, 1.1993, 0.7195, 0.9649, 1.3415, 1.1255, 1.0113, 0.783, 1.1742, 0.8109, 1.3206, 0.8621, 0.6774, 0.7356, 0.8803, 0.6479, -0.5085, 0.2856, 0.2705, -0.208, 0.3558, -0.7241]}, \"token.table\": {\"Topic\": [8, 7, 8, 5, 2, 6, 1, 2, 3, 4, 5, 6, 7, 8, 4, 8, 2, 3, 5, 7, 8, 3, 6, 6, 6, 4, 5, 3, 6, 7, 8, 1, 4, 7, 2, 3, 6, 8, 2, 3, 5, 2, 3, 4, 1, 3, 5, 7, 8, 3, 3, 6, 3, 2, 2, 1, 2, 7, 8, 3, 8, 1, 6, 1, 2, 3, 4, 5, 6, 8, 8, 3, 6, 2, 2, 1, 7, 6, 3, 2, 5, 6, 7, 8, 1, 3, 8, 8, 6, 6, 5, 1, 3, 8, 2, 4, 2, 3, 4, 5, 7, 8, 1, 8, 4, 1, 2, 5, 5, 5, 5, 2, 4, 5, 7, 2, 7, 7, 4, 2, 2, 4, 1, 3, 8, 3, 1, 1, 3, 3, 6, 1, 2, 3, 4, 5, 6, 7, 8, 5, 1, 3, 5, 1, 7, 8, 8, 2, 6, 8, 1, 2, 8, 4, 2, 2, 7, 8, 7, 1, 2, 6, 7, 4, 4, 6, 1, 4, 5, 8, 4, 1, 8, 7, 7, 7, 2, 3, 4, 5, 7, 8, 8, 1, 3, 7, 3, 1, 1, 2, 3, 4, 5, 6, 7, 1, 2, 4, 2, 2, 2, 8, 2, 8, 8, 6, 2, 3, 6, 3, 5, 4, 5, 5, 5, 1, 1, 5, 5, 5, 3, 5, 8, 1, 2, 3, 4, 5, 6, 7, 1, 2, 3, 4, 5, 6, 7, 1, 4, 4, 7, 1, 2, 3, 5, 6, 7, 8, 1, 2, 3, 4, 6, 7, 6, 3, 1, 5, 1, 2, 3, 5, 6, 7, 8, 2, 3, 5, 6, 7, 8, 3, 7, 8, 1, 4, 5, 5, 2, 7, 8, 2, 3, 4, 5, 6, 4, 1, 3, 4, 5, 6, 7, 8, 6, 1, 2, 3, 4, 5, 6, 7, 8, 1, 4, 5, 5, 3, 5, 8, 1, 2, 2, 3, 6, 1, 2, 3, 4, 5, 6, 7, 8, 1, 2, 3, 5, 7, 8, 1, 2, 3, 4, 5, 7, 8, 3, 6, 7, 1, 3, 5, 2, 3, 4, 5, 7, 8, 7, 3, 4, 4, 7, 3, 4, 3, 4, 5, 8, 4, 1, 1, 3, 5, 3, 5, 8, 3, 1, 2, 3, 5, 6, 8, 3, 5, 6, 2, 3, 4, 7, 1, 1, 4, 5, 8, 1, 1, 5, 5, 5, 6, 6, 4, 5, 2, 2, 4, 4, 5, 1, 2, 4, 5, 7, 8, 2, 4, 7, 5, 8, 2, 5, 6, 7, 1, 2, 3, 5, 6, 7, 8, 2, 2, 3, 8, 8, 8, 2, 7, 2, 3, 5, 6, 8, 1, 2, 3, 4, 5, 1, 1, 2, 3, 4, 5, 7, 8, 2, 3, 5, 6, 8, 1, 2, 3, 4, 5, 6, 8, 1, 2, 3, 4, 5, 8, 7, 1, 2, 3, 4, 5, 7, 8, 2, 3, 5, 6, 6, 3, 4, 8, 3, 4, 3, 6, 4, 1, 2, 3, 4, 5, 6, 7, 8, 6, 1, 3, 4, 5, 7, 1, 3, 5, 1, 1, 3, 3, 3, 2, 2, 3, 4, 8, 8, 4, 6, 3, 3, 5, 6, 5, 1, 5, 1, 2, 3, 4, 5, 6, 7, 8, 2, 2, 3, 4, 6, 7, 8, 1, 2, 3, 4, 5, 4, 4, 3, 5, 6, 3, 5, 8, 2, 4, 5, 7, 8, 7, 3, 3, 7, 8, 1, 3, 5, 3, 5, 8, 1, 2, 3, 8, 6, 5, 2, 3, 8, 2, 3, 4, 5, 4, 1, 2, 3, 4, 5, 6, 7, 8, 4, 1, 5, 7, 8, 1, 5, 2, 3, 5, 6, 8, 2, 5, 6, 8, 1, 2, 5, 6, 8, 2, 2, 6, 1, 4, 4, 1, 3, 4, 8, 3, 3, 1, 1, 2, 4, 5, 7, 8, 2, 3, 4, 7, 8, 4, 2, 3, 4, 5, 7, 8, 4, 1, 3, 4, 8, 1, 5, 8, 2, 3, 5, 2, 7, 8, 6, 8, 3, 4, 6, 1, 7, 4, 8, 1, 5, 7, 8, 1, 7, 8, 8, 5, 7, 8, 3, 5, 6, 7, 8, 8, 4, 1, 5, 1, 2, 4, 5, 8, 5, 1, 2, 3, 5, 7, 8, 7, 5, 8, 2, 8, 7, 8, 7, 2, 3, 4, 5, 6, 7, 8, 3, 4, 8, 2, 6, 2, 6, 1, 2, 4, 5, 6, 5, 3, 8, 1, 3, 5, 6, 8, 3, 3, 1, 3, 5, 8, 3, 4, 5, 8, 1, 3, 5, 8, 3, 5, 2, 6, 2, 6, 8, 7, 5, 7, 2, 4, 5, 6, 7, 8, 1, 2, 3, 4, 5, 7, 8, 1, 2, 3, 5, 7, 8, 1, 2, 4, 5, 8, 5, 4, 5, 8, 8, 4, 1, 3, 4, 3, 2, 7, 1, 5, 8, 7, 2, 6, 7, 7, 1, 2, 3, 4, 5, 8, 2, 3, 4, 5, 7, 8, 1, 2, 3, 4, 5, 7, 8, 5, 5, 7, 8, 6, 7, 7, 3, 2, 3, 5, 7, 8, 2, 3, 5, 6, 7, 8, 5, 2, 7, 1, 2, 7, 8, 3, 2, 3, 6, 8, 2, 2, 7, 1, 2, 3, 4, 5, 6, 7, 8, 7, 4, 3, 6, 2, 3, 4, 5, 6, 7, 4, 2, 7, 8, 2, 4, 5, 8, 2, 3, 4, 5, 6, 7, 8, 7, 8, 5, 5, 1, 2, 3, 4, 5, 6, 7, 8, 1, 3, 4, 5, 8, 1, 2, 5, 7, 8, 1, 2, 3, 4, 5, 6, 7, 8, 7, 1, 5, 8, 6, 8, 7, 1, 2, 4, 1, 2, 3, 4, 5, 7, 8, 1, 2, 8, 2, 4, 7, 6, 2, 4, 5, 8, 3, 8, 4, 8], \"Freq\": [0.9988976881266332, 0.8734367612345796, 0.12562319768095717, 0.9978493431814712, 0.9017936506752185, 0.09775540928728657, 0.013814668784947382, 0.19507986829652968, 0.1021448237432473, 0.14107707213718992, 0.05525867513978953, 0.37760094678856176, 0.0594449384079554, 0.05525867513978953, 0.9989104238770087, 0.9990474971158025, 0.07020911807620837, 0.8132109554272278, 0.0001786491554101994, 0.027154671622350312, 0.0893245777050997, 0.9995026755052001, 0.9979376476900185, 0.9993616199221984, 0.9997871117515186, 0.9433039262728392, 0.055091647660749844, 0.1984599688342405, 0.0021339781595079623, 0.4577383152144579, 0.34143650552127397, 0.59707164662753, 0.393175698758398, 0.008769718187919657, 0.26295855184561867, 0.32276558833245755, 0.3881845451330749, 0.026135514604168197, 0.9989698151702182, 0.9505093385545152, 0.04908733673286229, 0.05052452940965591, 0.5800562925786676, 0.3695012794594578, 0.0412505431681406, 0.17037129098968545, 0.3022420750224397, 0.00353576084298348, 0.4824349239093015, 0.9981299428936888, 0.9998842091300043, 0.9975914304283992, 0.9991628388165635, 0.9998023506818466, 0.9996530282356677, 0.45315449981132916, 0.4851512870883868, 0.06132717561436052, 0.0002666398939754805, 0.8746448676284129, 0.12517391489252366, 0.9987464845195696, 0.9978229280813788, 0.13477363201402404, 0.07758123176191896, 0.13719264592196806, 0.031101607387851702, 0.4504549470007188, 0.1650113058633243, 0.003801307569626319, 0.9987051205338675, 0.9990366107056657, 0.9991030900875765, 0.9998407672634637, 0.9995767224120169, 0.9991531713510438, 0.9989491157974255, 0.9970644343128046, 0.9992625989449544, 0.2939725409007453, 0.07685752086621724, 0.08792261141894112, 0.2802159418351967, 0.26077726924257366, 0.17178960166767773, 0.07499018744673042, 0.7530893768419975, 0.9975671128728822, 0.9989925671488121, 0.996826777518185, 0.999903156262763, 0.12970342760696438, 0.8227553264993154, 0.047460402081746365, 0.6163451586141299, 0.3836106586166068, 0.07527986061879943, 0.30673673054969425, 0.15076473175126665, 0.0047972460198254544, 0.000738037849203916, 0.4616426746770495, 0.9979814610664937, 0.9974356845692371, 0.997903686438152, 0.7497217359927202, 0.2502765663831199, 0.9992725422362506, 0.9991895642001482, 0.9988325299712816, 0.9984572679530512, 0.9989030818315787, 0.7521845477412568, 0.00012341009807075582, 0.24756065672993618, 0.8979336227625863, 0.10200168948669776, 0.998520465605778, 0.9979343303180139, 0.9986841403039723, 0.9995376751773026, 0.9977105113598987, 0.2318975103399945, 0.29952627888985206, 0.4684060730811157, 0.9979909854345146, 0.9972292880605174, 0.999355063820693, 0.9994805232483684, 0.9990659600329269, 0.9986393427735643, 0.04433667926321737, 0.15595250991633286, 0.1921256101406086, 0.06087496438521115, 0.25497109360418496, 0.0013371379460335397, 0.06699764866441736, 0.2234427883503415, 0.9985964582944112, 0.0005523824302434782, 0.6975209137899522, 0.30187699812806085, 0.9984683497492755, 0.6656135065438668, 0.3339491105486105, 0.9988269551956073, 0.6708967138079117, 0.32816006391272784, 0.0007475172298695396, 0.05718862229970773, 0.9426898708113114, 0.997610129944346, 0.9984878669466427, 0.9992760832386698, 0.6655800184474705, 0.08131989330447695, 0.25276501867888373, 0.9991599745041048, 0.7196997845546349, 0.27943650852819624, 0.9983693464803484, 0.9996349347199511, 0.9986159787750909, 0.9985019604998059, 0.9973708937545912, 0.23850943158445176, 0.13114280344800264, 0.45728015158950064, 0.17301279770734213, 0.9973721942519427, 0.9987293921679861, 0.9987412239310602, 0.9996292617995834, 0.9973320783189121, 0.9991585458459762, 0.14217356319168817, 0.059902461291431286, 0.00012637650061483394, 0.09629889346850345, 0.08808442092853926, 0.6134315339844039, 0.999325308054145, 0.9991704159891567, 0.9984233768740589, 0.9982655402925641, 0.9988918888368924, 0.997407076197043, 0.19323285201002524, 0.04196001834512567, 0.09584225592484424, 0.15436951398557305, 0.3869302060681515, 0.08686188299489116, 0.04056651220082261, 0.2130852087618852, 0.2933991584140728, 0.4930987089005934, 0.9990049483848767, 0.9999013989617689, 0.15853621310753313, 0.8410837146722665, 0.998249694184545, 0.9996949404031318, 0.9989453700069401, 0.9994338161431596, 0.0005552512378366323, 0.0005552512378366323, 0.9988969768681015, 0.12647019544113638, 0.8734853773177707, 0.0005843751318299987, 0.9992814754292978, 0.9994313706503059, 0.9989203952895316, 0.9992146475923235, 0.24093377046856385, 0.7586988262003367, 0.9989556644657409, 0.999918444142043, 0.20622966096451537, 0.7084311087976359, 0.08523085207049111, 0.21486446306097162, 0.11767424954657675, 0.15951398271869294, 0.2954931155280705, 0.1961237492442946, 0.011549509677719571, 0.004358305538762102, 0.10165972802056271, 0.23783250656239208, 0.01469367497440066, 0.4922381116424221, 0.060995836812337625, 0.017256525260633333, 0.0753477984152406, 0.9985860850189571, 0.9991339139129393, 0.9997413881393067, 0.9988538817694887, 0.34283745022077977, 0.09975030177201688, 0.08413721105987511, 0.2394007242528405, 0.004770666606487764, 0.00043369696422616036, 0.2287751486292996, 0.015056141924071077, 0.12818066773195647, 0.6464646163074123, 0.1403883503730952, 0.014513578251131578, 0.05534149463982883, 0.998044278275294, 0.9992860700069846, 0.01827961924086756, 0.9812238471079979, 0.10274383121013168, 0.0863324004530771, 0.5003417713159164, 0.08495328862475318, 0.0027582236566478305, 0.0684039466848662, 0.1543226135894461, 0.0012804095575315935, 0.20128038244396648, 0.19154926980672637, 0.2537771743027618, 0.1467349352931206, 0.20512161111656127, 0.9981935668995234, 0.14026106860701296, 0.8594993336557597, 0.27450779580140794, 0.18728794709042956, 0.5378969140050991, 0.9988342560823685, 0.7454686907843214, 0.1256996387270987, 0.12831838120057992, 0.3675103954284341, 0.20130160169322414, 0.12494582174062188, 0.048782859414162556, 0.25721871327467527, 0.9980015647477869, 0.06931136505856603, 0.36355581701522294, 0.18486403498102208, 0.3519196024433469, 0.001214213694456631, 0.02651033232896978, 0.0025296118634513145, 0.9988131164706732, 0.0006604145893832373, 0.16906613488210875, 0.1345594725868346, 0.0004127591183645233, 0.42390361456036546, 0.07710340331049295, 0.031287141172030866, 0.1629572999303138, 0.077543174691877, 0.3726661537411182, 0.5497534386771368, 0.9997111431934145, 0.9983747977163856, 0.9996694762396259, 0.9986093537613375, 0.9992092282743332, 0.9992329559112341, 0.11151546450751945, 0.17069964958134262, 0.7170631265260049, 0.0022287100749000025, 0.1425100899321773, 0.16116757713062588, 0.08717440264394581, 0.1621227385912973, 6.367743071142863e-05, 0.03381271570776861, 0.410910460380849, 0.003862740580383962, 0.1351959203134387, 0.0424023568255785, 0.26266635946610944, 0.013958539824569318, 0.542012735074786, 0.07618345006115632, 0.08486307668645636, 0.5089220166048088, 0.07766293187228701, 0.16467618879091997, 0.01177667521660029, 0.07590728012307858, 0.9991596495975845, 0.9985863819611464, 0.9978529924412206, 0.2176370430237026, 0.7781504635138015, 0.004043931542670149, 0.11777165250707923, 0.46665468231670754, 0.41521491470660643, 2.1004396737485147e-05, 0.00023104836411233664, 8.401758694994059e-05, 0.998517277242394, 0.5291751282097819, 0.47037789174202826, 0.885892938756168, 0.1140202899093112, 0.7746259502555328, 0.22536879447936625, 0.2114161484430824, 0.008692175864370762, 0.7079917437914894, 0.07178054907351339, 0.9992910140779239, 0.9977913022597185, 0.13166872363898505, 0.21159542488948715, 0.6568011730830735, 0.7792682226395067, 0.12656810713596348, 0.09415790547824487, 0.9990353859016494, 0.9999644023799916, 0.0004362332798505664, 0.41529408241773924, 0.4207469984158713, 0.14199393259135937, 0.021375430712677754, 0.5833074123966911, 0.0945075847963932, 0.3219385556904566, 0.10375550971147472, 0.5295986753370979, 0.35391449938392605, 0.012518558431445826, 0.996513378590824, 0.36921740574040013, 0.4051634674953765, 0.0006846868905709785, 0.22491964355256644, 0.9994095798781311, 0.9982347501902818, 0.9987789080025933, 0.9993351318201418, 0.18790127917296645, 0.8112384567886756, 0.9987525844443325, 0.9975609927315384, 0.0020696286156255982, 0.998280461575811, 0.9990351840982911, 0.9990184333302008, 0.8078164550082991, 0.19154410788856577, 0.08765782483581934, 0.30883804257321373, 0.027169771299822676, 0.21719199442732867, 0.20057439730205484, 0.1585318765751121, 0.24082087549672263, 0.11736886651251861, 0.641950446717861, 0.9990559340629609, 0.9985384913061719, 0.9531209826886474, 0.04641284785266457, 0.03226979929446344, 0.9672665480827632, 0.9984693013015645, 0.14501419995727005, 0.14774051884635034, 0.15501070255056443, 0.00649123545019114, 0.0054526377781605575, 0.5402006141649066, 0.999711481066222, 0.8885106433305282, 0.11127564954616279, 0.9990835719689725, 0.9991899558070515, 0.9984809006882134, 0.9989385144000882, 0.9982690309761939, 0.09999009134548846, 0.2225234032852325, 0.0836280763980449, 0.5941229427582841, 0.9990302851719688, 0.008404477824695085, 0.6402531206852716, 0.128252331604847, 0.2065820649310052, 0.01647277653640237, 0.9972652372484379, 0.005451840584967098, 0.09655940335024199, 0.2236378730678771, 0.23791382676459508, 0.3174994583966921, 0.010510249375142755, 0.10847476627821132, 0.9984177784285863, 0.6192957808652633, 0.1879510024291175, 0.19252503124929513, 0.00027721386788955385, 0.04012684418904652, 0.169937185140612, 0.1857872885952854, 0.22982650009276395, 0.27607268802064006, 0.029292596258003963, 0.06891785489468741, 0.1710423817508701, 0.14428714885129265, 0.03786343227306272, 0.01970809566263517, 0.24951643538936288, 0.3775593356944835, 0.9990445733046557, 0.05178488022556237, 0.05140185596353898, 0.3872375289056476, 0.15635050375794793, 0.10870228556223817, 0.03324650594363028, 0.2112761829321021, 0.9981893686794476, 0.366392879176411, 0.35236921641548097, 0.28126332072625837, 0.9984965016650399, 0.25116010055813964, 0.5405188325980328, 0.20831642805213843, 0.8815971999520791, 0.11798140204370079, 0.9993744315640848, 0.9987055550419774, 0.9987516250245805, 0.046136900692335614, 0.14651359861437044, 0.12468538753412563, 0.09458891468106083, 0.3059256855943401, 0.20042266537315684, 0.05423979722969921, 0.02745062908576241, 0.9980457660457788, 0.4637901312476714, 0.27185884110549446, 0.1577517453223372, 0.09885776040199798, 0.007361748115042403, 0.8055762317676439, 0.1925415718785303, 0.0016598411368838818, 0.9997202092953558, 0.9980995990926991, 0.9991736164531655, 0.999291961246695, 0.9987945284673686, 0.9992069873635355, 0.9989965191818392, 0.7021443973102572, 0.055655328448486786, 0.24218133864721966, 0.999907042368712, 0.9993544232315325, 0.9981771956375934, 0.9986337010289533, 0.6465457477934617, 0.2916834103411531, 0.061765132938038786, 0.9992707228158888, 0.058046603014980026, 0.9416448933541205, 0.02851323248626174, 0.3759190094133055, 0.12751559419400832, 0.15754769136476826, 0.16072349934144634, 0.09748349702324836, 0.0006213537345674471, 0.05171043857677977, 0.9980869329280264, 0.1764258287273741, 0.03550432826563305, 0.06158466816446227, 0.06837870628936736, 0.20973853179142488, 0.4481873537235777, 0.10149513166564243, 0.13043204154478305, 0.4444910908052071, 0.31593059069539337, 0.007630130465644041, 0.9964658675548936, 0.9975658418768086, 0.1331983628317924, 0.7418175824208891, 0.12481055660812788, 0.6845291833018322, 0.3154219495986454, 0.9987478999276242, 0.10145581419184742, 0.07173147153515604, 0.018178523608224476, 0.2967521151180428, 0.511946529723511, 0.9983351464881304, 0.9985107596973577, 0.356811886178434, 0.5604192282215125, 0.08234120450271554, 0.6824719063468782, 0.115566009415099, 0.20123434475265994, 0.3262026369878189, 0.135757415362363, 0.5380166125420017, 0.9986567940789308, 0.9986937858190819, 0.8398027504706772, 0.1598153060260252, 0.9970351393564787, 0.998354159863391, 0.9981972622142766, 0.401038810683025, 0.598682448803212, 0.1409407642764598, 0.30418135992241113, 0.44993189174915343, 0.1047946323834277, 0.9979815082210762, 0.022439290232599475, 0.3067060027735017, 0.014352577046149544, 0.2411554270104903, 0.19290291985160696, 0.10373485723280473, 0.10785854541397456, 0.010871541568538649, 0.9991066269891742, 0.3629443479776781, 0.5056554750951147, 0.008456955681033275, 0.1226258573749825, 0.8242495677522207, 0.17532482919290138, 0.1429406851857707, 0.15469567574381105, 0.08063923522815682, 0.4255306582010608, 0.1958381426969523, 0.0013268475127407877, 0.07784172074745954, 0.8023004627039296, 0.11853171113817702, 0.0836189628153405, 0.717142129839993, 0.10704751048341996, 0.00019047599730145898, 0.09199990669660468, 0.9994796547369956, 0.8405395010913329, 0.15940209356947233, 0.9979654952418124, 0.9982310227285465, 0.999068193509233, 0.012932811136786793, 0.809731785806114, 0.12842705485423933, 0.04892206835759922, 0.9996440390328806, 0.9994133148227986, 0.9982455281653487, 0.04913287404598826, 0.30658220171905903, 0.04202723794057197, 0.2616087244177047, 0.11550991376243802, 0.22521400290215784, 0.08164370075794826, 0.026436406968763773, 0.10845867202698073, 0.47522438493730007, 0.3082144344687614, 0.9984249773822859, 0.0885082164779619, 0.2289038917426766, 0.12010449026430858, 0.008116474000162447, 0.12396947788343356, 0.430462996080044, 0.998896865819386, 0.11091050043479538, 0.7733946119047913, 0.008936673416328835, 0.10670813614973598, 0.9994613629567858, 0.9992467604384165, 0.9992282596716509, 0.22572582041707048, 0.6975753882642551, 0.0767029486854123, 0.07541136664627834, 0.5898357930632144, 0.3345010412650272, 0.9990014984642733, 0.9977206274644406, 0.9986121564754895, 0.9988075928672068, 0.9990198107377538, 0.996922126400386, 0.9982041447359069, 0.9996761373169712, 0.9992051412911432, 0.12426472831876549, 0.0014793420037948273, 0.1618400152151541, 0.7121552406268298, 0.13466209957952083, 0.4957671710776772, 0.36938039605332246, 0.9983517285119363, 0.22669621916628563, 0.15573044620988316, 0.6175993518678025, 0.23474430713091235, 0.09961780190782096, 0.013678449915220908, 0.13250134816865505, 0.5195047644568749, 0.9979269225782275, 0.9997803080640444, 0.7776663605008963, 0.22187656048189416, 0.0003205806658526992, 0.18989061440674881, 0.00042744088780359893, 0.7320993805856141, 0.0772599404705005, 0.9991075849376025, 0.9979349699942999, 0.10048126102059801, 0.19881760185520625, 0.1631789279956838, 0.030853851906160638, 0.5065311516145088, 0.9989279575509878, 0.9989835322960137, 0.9989709682211428, 0.9994382209158086, 0.9986780700956693, 0.9921579632316597, 0.005810588364460672, 0.9996431372708943, 0.10435130772741526, 0.21534970566310027, 0.06142552035834805, 0.17746930001838238, 0.1373465024961759, 0.004644954603369214, 0.29927923022053016, 0.8509106280765262, 0.04850689249024417, 0.10064046853116079, 0.346333950535092, 0.6533235359869747, 0.9991366124961579, 0.9994450719745555, 0.05105296788050935, 0.2581905109143238, 0.1954348569867063, 0.45186996499396387, 0.04315365479871134, 0.9993158004888097, 0.10854666941710382, 0.8902731219736146, 0.9990487935160027, 0.6471395213426394, 0.21824475102789315, 0.08769351023175163, 0.046911510207517375, 0.9995593948435567, 0.9981951312752256, 0.024896244881764167, 0.6033816330306806, 0.3617001614897813, 0.009864549858812216, 0.5651161176674483, 0.11663418914158837, 0.2311017989183175, 0.08714463667544889, 0.02556636246669999, 0.6716352518279025, 0.30235431751159103, 0.00039484729678301145, 0.9704003494826534, 0.02954096143129012, 0.2877674277561966, 0.711258000543674, 0.0005742445158017871, 0.9843699489874235, 0.014930357410846466, 0.9992142658527181, 0.9984015997743375, 0.9977433438943313, 0.04889278797956756, 0.6086199646547468, 0.11556477158806877, 0.013651882357931201, 0.04762284543464373, 0.16572750211256015, 0.0858000068060156, 0.07094286277034191, 0.29714288071347394, 0.1495619166257819, 0.06277143355072137, 0.19227620572834378, 0.14151429693979198, 0.016886850580711637, 0.2034216000722648, 0.000519595402483435, 0.18627495179031145, 0.0062351448298012205, 0.5863634117025565, 0.0839746138136639, 0.10172534518890992, 0.1647631989189503, 0.6428950786547439, 0.006372057416754984, 0.999659221793133, 0.12297574502968608, 0.876387387771799, 0.9998048314057171, 0.9986297151029754, 0.9976809076265638, 0.2532114260099151, 0.1505047633537873, 0.5960936690311418, 0.9989392475247652, 0.4009646914301231, 0.5989543614435764, 0.9980995678657983, 0.8488809079348888, 0.15031616371220294, 0.9990465970452123, 0.38589816335486427, 0.6139059670625749, 0.999185654925483, 0.9996292250859026, 0.008218155805942897, 0.2163518843694967, 0.07932306908344883, 0.08512937481590849, 0.284240997549025, 0.32667169328623014, 0.08991924546029512, 0.2120398526221465, 0.007581586425936034, 0.3158179119793139, 0.003913076864999243, 0.3707640329586783, 0.0010943963570675735, 0.2854384680388062, 0.09879414386982731, 0.03890081596485647, 0.17450647366332034, 0.058699440969988026, 0.34254605976215047, 0.9994614284004281, 0.004181807805375934, 0.089490687035045, 0.9057795706444274, 0.9992773113093931, 0.9989457253657048, 0.9982500962028283, 0.998693407634587, 0.1142612887609265, 0.11290564635189856, 0.40604717870408347, 0.014460185696298044, 0.35227336314597507, 0.5393629685863506, 0.0041140257993172455, 0.19974304570478213, 0.03631691740086948, 0.0008511777515828783, 0.21960385990838263, 0.9994163984994482, 0.8274256453136603, 0.17236367961826368, 0.9985780795765271, 0.033772303794704805, 0.27813750832199563, 0.6879224683787641, 0.99929430294251, 0.0478083108387625, 0.0980372956440446, 0.5271017562096473, 0.32739615397177857, 0.9989641685524449, 0.9978465450771317, 0.9983311203178798, 0.06585832619421988, 0.3488485450947637, 0.10955214971495358, 0.16715311216807077, 0.15872859531480002, 0.021295306490212218, 0.0014040861422117946, 0.12717008773746824, 0.9982391152627065, 0.9978775289485399, 0.9991282712855132, 0.9998179322735643, 0.06234262887306767, 0.2516076911695339, 0.004772641444828148, 0.3027644416562856, 0.37853012459293245, 0.998723758828085, 0.9996508438884215, 0.10625038501686893, 0.023342887617342416, 0.8701262591154191, 0.1386224676680062, 0.02884091609200129, 0.8103367069720363, 0.02139809903600096, 0.1852691246348776, 0.3084962297343013, 0.10248930298950676, 0.17395759621128656, 0.024079844598705182, 0.0021423349287104255, 0.20360751162463886, 0.09258008843695717, 0.9067889019226966, 0.9987708928327808, 0.9992659785213753, 0.03715779936860555, 0.20186287634517736, 0.12942604274458114, 0.07859500821505612, 0.3591572686162126, 0.004070657795998922, 0.00448816115969112, 0.18516274179748946, 0.02185475444425015, 0.21277877677193804, 0.007432835267841422, 0.7330772455208376, 0.0247391382795319, 0.01575130443186417, 0.08940529135269382, 0.06522371130940939, 0.09894481375509043, 0.7305499365370242, 0.061715698987333346, 0.06495810881836867, 0.44547413712495465, 0.0039018830170086086, 0.21009716583132268, 0.004121707412333037, 0.004561356202981894, 0.20520607303535415, 0.9976205346120994, 0.35043927568871963, 0.367984529633259, 0.2813451340487195, 0.9987636617094189, 0.9997598905506591, 0.9997258297629409, 0.9603803409265496, 0.03841521363706198, 0.9991415039238983, 0.04591217544834435, 0.3505453265199581, 4.9931675310869325e-05, 0.07357432357056595, 0.20075030058735013, 0.007664512160218442, 0.32148509148903215, 0.28965317926997664, 0.7100162769830834, 0.9979867021447142, 0.3533481612485575, 0.6466252219924875, 0.998027319820896, 0.9986534795705572, 0.9994082747421283, 0.07678657955870469, 0.8892658068446637, 0.03346007377418416, 0.10416843848590605, 0.8956832242510366, 0.5264533051649445, 0.4731488333300617], \"Term\": [\"abuse\", \"accessory\", \"accessory\", \"active_noise\", \"adapter\", \"adapter\", \"add\", \"add\", \"add\", \"add\", \"add\", \"add\", \"add\", \"add\", \"adhesive\", \"ago\", \"amazing\", \"amazing\", \"amazing\", \"amazing\", \"amazing\", \"amazing_sound\", \"ambient_noise\", \"amp\", \"app\", \"arm\", \"arm\", \"ask\", \"ask\", \"ask\", \"ask\", \"attach\", \"attach\", \"attach\", \"audio\", \"audio\", \"audio\", \"audio\", \"audio_cable\", \"audiophile\", \"audiophile\", \"awesome\", \"awesome\", \"awesome\", \"bad\", \"bad\", \"bad\", \"bad\", \"bad\", \"balanced\", \"bass\", \"bass_boost\", \"bass_heavy\", \"battery\", \"battery_last\", \"battery_life\", \"battery_life\", \"battery_life\", \"battery_life\", \"beat\", \"beat\", \"bend\", \"big_ear\", \"bit\", \"bit\", \"bit\", \"bit\", \"bit\", \"bit\", \"bit\", \"bit_heavy\", \"blow_away\", \"blue_tooth\", \"bluetooth\", \"bluetooth_headphone\", \"bluetooth_headset\", \"book\", \"boost\", \"bose\", \"box\", \"box\", \"box\", \"box\", \"box\", \"break\", \"break\", \"break\", \"break_month\", \"bright\", \"brightness\", \"bud\", \"build_quality\", \"build_quality\", \"build_quality\", \"button\", \"button\", \"buy\", \"buy\", \"buy\", \"buy\", \"buy\", \"buy\", \"buy_gift\", \"buy_new\", \"buy_wife\", \"cable\", \"cable\", \"canal\", \"cancel\", \"cancel_noise\", \"cancellation\", \"card\", \"case\", \"case\", \"case\", \"charge\", \"charge\", \"charge_port\", \"charge_quickly\", \"charge_time\", \"charger\", \"charging\", \"cheap\", \"cheap\", \"cheap\", \"cheap_headphone\", \"cheap_plastic\", \"clamp\", \"clarity\", \"clear_sound\", \"cloth\", \"come\", \"come\", \"come\", \"come\", \"come\", \"come\", \"come\", \"come\", \"come_different\", \"comfortable\", \"comfortable\", \"comfortable\", \"comfortable_stay\", \"company\", \"company\", \"compatible\", \"computer\", \"computer\", \"computer\", \"connect\", \"connect\", \"connect_device\", \"connect_easily\", \"connect_phone\", \"connection\", \"connection\", \"connection\", \"connectivity\", \"connector\", \"connector\", \"consistently\", \"contact\", \"control_easy\", \"control_volume\", \"controller\", \"cord\", \"cord\", \"cord\", \"cord\", \"corner\", \"crack\", \"crap\", \"customer_service\", \"customer_support\", \"daughter\", \"day\", \"day\", \"day\", \"day\", \"day\", \"day\", \"dead\", \"decent_sound\", \"deep_bass\", \"defective\", \"definitely_worth\", \"description\", \"design\", \"design\", \"design\", \"design\", \"design\", \"design\", \"design\", \"desk\", \"desk\", \"desk\", \"desktop\", \"device\", \"die\", \"die\", \"different_size\", \"disappointed\", \"disconnect\", \"distance\", \"driver\", \"driver\", \"driver\", \"ear\", \"ear\", \"ear_bud\", \"ear_bud\", \"ear_canal\", \"ear_cup\", \"ear_hook\", \"ear_piece\", \"ear_piece\", \"ear_tip\", \"earbud\", \"earphone\", \"earphone\", \"earphone\", \"easily\", \"easily\", \"easily\", \"easily\", \"easily\", \"easily\", \"easily\", \"easy\", \"easy\", \"easy\", \"easy\", \"easy\", \"easy\", \"easy\", \"easy_connect\", \"easy_set\", \"easy_use\", \"email\", \"end\", \"end\", \"end\", \"end\", \"end\", \"end\", \"end\", \"excellent\", \"excellent\", \"excellent\", \"excellent\", \"excellent\", \"excellent\", \"excellent_quality\", \"excellent_sound\", \"exercise\", \"exercise\", \"expect\", \"expect\", \"expect\", \"expect\", \"expect\", \"expect\", \"expect\", \"experience\", \"experience\", \"experience\", \"experience\", \"experience\", \"experience\", \"extremely_comfortable\", \"fail\", \"fail\", \"fall\", \"fall\", \"fall\", \"fall_ear\", \"fast\", \"fast\", \"fast\", \"feature\", \"feature\", \"feature\", \"feature\", \"feature\", \"feedback\", \"feel\", \"feel\", \"feel\", \"feel\", \"feel\", \"feel\", \"feel\", \"file\", \"find\", \"find\", \"find\", \"find\", \"find\", \"find\", \"find\", \"find\", \"fit\", \"fit\", \"fit\", \"fit_ear\", \"fitting\", \"flight\", \"fly\", \"fully\", \"fully_charge\", \"game\", \"game\", \"game\", \"get\", \"get\", \"get\", \"get\", \"get\", \"get\", \"get\", \"get\", \"go\", \"go\", \"go\", \"go\", \"go\", \"go\", \"good\", \"good\", \"good\", \"good\", \"good\", \"good\", \"good\", \"good_bass\", \"good_job\", \"good_range\", \"good_sound\", \"good_sound\", \"good_sound\", \"great\", \"great\", \"great\", \"great\", \"great\", \"great\", \"great_customer\", \"great_price\", \"great_price\", \"great_product\", \"great_product\", \"great_sound\", \"great_sound\", \"gym\", \"gym\", \"gym\", \"gym\", \"hanger\", \"hard_time\", \"head\", \"head\", \"head\", \"headphone\", \"headphone\", \"headphone\", \"headphone_own\", \"headset\", \"hear\", \"hear\", \"hear\", \"hear\", \"hear\", \"high\", \"high\", \"high\", \"highly_recommend\", \"highly_recommend\", \"highly_recommend\", \"highly_recommend\", \"hinge\", \"hold\", \"hold\", \"hold\", \"hold\", \"holder\", \"hole\", \"hurt\", \"hurt_ear\", \"improvement\", \"improvement\", \"input\", \"instal\", \"instal\", \"install\", \"interference\", \"ipad\", \"iphone\", \"iphone\", \"issue\", \"issue\", \"issue\", \"issue\", \"issue\", \"issue\", \"item\", \"item\", \"item\", \"jog\", \"junk\", \"key\", \"key\", \"keyboard\", \"keyboard\", \"kid_love\", \"know\", \"know\", \"know\", \"know\", \"know\", \"know\", \"lamp\", \"laptop\", \"laptop\", \"last\", \"last_long\", \"last_month\", \"led\", \"let_know\", \"level\", \"level\", \"level\", \"level\", \"life_good\", \"light\", \"light\", \"light\", \"light\", \"light\", \"lighting\", \"like\", \"like\", \"like\", \"like\", \"like\", \"like\", \"like\", \"link\", \"listen\", \"listen\", \"listen\", \"listen\", \"little\", \"little\", \"little\", \"little\", \"little\", \"little\", \"little\", \"long\", \"long\", \"long\", \"long\", \"long\", \"long\", \"long_battery\", \"look\", \"look\", \"look\", \"look\", \"look\", \"look\", \"look\", \"loop\", \"loud\", \"loud\", \"loud\", \"louder\", \"love\", \"love\", \"love\", \"love_headphone\", \"love_headphone\", \"low_end\", \"low_volume\", \"magnet\", \"make\", \"make\", \"make\", \"make\", \"make\", \"make\", \"make\", \"make\", \"make_easy\", \"material\", \"material\", \"material\", \"material\", \"material\", \"metal\", \"metal\", \"metal\", \"mic\", \"mic_work\", \"mid\", \"mid_high\", \"midrange\", \"min\", \"modem\", \"money\", \"money\", \"money\", \"month\", \"mount\", \"mouse\", \"muddy\", \"music\", \"music\", \"music\", \"mute\", \"neck\", \"neck\", \"need\", \"need\", \"need\", \"need\", \"need\", \"need\", \"need\", \"need\", \"need_charge\", \"new\", \"new\", \"new\", \"new\", \"new\", \"new\", \"nice\", \"nice\", \"nice\", \"nice\", \"nice\", \"nice_look\", \"nice_touch\", \"noise\", \"noise\", \"noise\", \"noise_cancel\", \"noise_cancel\", \"noise_cancelling\", \"order\", \"order\", \"order\", \"order\", \"order\", \"outlet\", \"overall_sound\", \"packaging\", \"packaging\", \"packaging\", \"pad\", \"pad\", \"pad\", \"pair\", \"pair\", \"pair\", \"pair_bluetooth\", \"pair_device\", \"pair_headphone\", \"pair_headphone\", \"pairing\", \"part\", \"pause\", \"pay\", \"pay\", \"perfect\", \"perfect\", \"perfect\", \"perfect\", \"perfect_fit\", \"phone\", \"phone\", \"phone\", \"phone\", \"phone\", \"phone\", \"phone\", \"phone\", \"phone_pocket\", \"piece\", \"piece\", \"piece\", \"piece\", \"plastic\", \"plastic\", \"play\", \"play\", \"play\", \"play\", \"play\", \"player\", \"player\", \"player\", \"player\", \"plug\", \"plug\", \"plug\", \"plug\", \"plug\", \"port\", \"power\", \"power\", \"premium\", \"pretty_comfortable\", \"previous\", \"price\", \"price\", \"price\", \"price\", \"price_point\", \"price_range\", \"prior\", \"problem\", \"problem\", \"problem\", \"problem\", \"problem\", \"problem\", \"product\", \"product\", \"product\", \"product\", \"product\", \"protection\", \"purchase\", \"purchase\", \"purchase\", \"purchase\", \"purchase\", \"purchase\", \"qc\", \"quality\", \"quality\", \"quality\", \"quality\", \"quality_good\", \"quality_price\", \"radio\", \"range\", \"range\", \"range\", \"receive\", \"receive\", \"receive\", \"receiver\", \"reception\", \"recharge\", \"recommend_friend\", \"record\", \"reduction\", \"refund\", \"remote\", \"repair\", \"replace\", \"replace\", \"replace\", \"replace\", \"replacement\", \"replacement\", \"replacement\", \"reset\", \"return\", \"return\", \"return\", \"review\", \"review\", \"review\", \"review\", \"review\", \"right_away\", \"roku\", \"rubber\", \"rubber\", \"run\", \"run\", \"run\", \"run\", \"run\", \"runner\", \"running\", \"say\", \"say\", \"say\", \"say\", \"say\", \"screen_protector\", \"seal\", \"second_pair\", \"seller\", \"send_new\", \"send_replacement\", \"send_replacement\", \"service\", \"set\", \"set\", \"set\", \"set\", \"set\", \"set\", \"set\", \"set_headphone\", \"set_headphone\", \"set_headphone\", \"setting\", \"setting\", \"signal\", \"situation\", \"small\", \"small\", \"small\", \"small\", \"small\", \"small_ear\", \"software\", \"software\", \"solution\", \"sound\", \"sound\", \"sound\", \"sound\", \"sound_amazing\", \"sound_awesome\", \"sound_good\", \"sound_good\", \"sound_good\", \"sound_good\", \"sound_great\", \"sound_great\", \"sound_great\", \"sound_great\", \"sound_quality\", \"sound_quality\", \"sound_quality\", \"sound_quality\", \"sound_well\", \"sound_well\", \"source\", \"source\", \"speaker\", \"speaker\", \"speaker\", \"speed\", \"sport\", \"stable\", \"stand\", \"stand\", \"stand\", \"stand\", \"stand\", \"stand\", \"star\", \"star\", \"star\", \"star\", \"star\", \"star\", \"star\", \"start\", \"start\", \"start\", \"start\", \"start\", \"start\", \"stay\", \"stay\", \"stay\", \"stay\", \"stay\", \"stay_ear\", \"stay_place\", \"stay_place\", \"stop_work\", \"stream\", \"streaming\", \"sturdy\", \"sturdy\", \"sturdy\", \"super_comfortable\", \"support\", \"support\", \"surface\", \"sweat\", \"sweat\", \"sync\", \"system\", \"system\", \"table\", \"tablet\", \"thing\", \"thing\", \"thing\", \"thing\", \"thing\", \"thing\", \"think\", \"think\", \"think\", \"think\", \"think\", \"think\", \"time\", \"time\", \"time\", \"time\", \"time\", \"time\", \"time\", \"tip\", \"today\", \"today\", \"today\", \"toddler\", \"tough\", \"transmitter\", \"treble\", \"try\", \"try\", \"try\", \"try\", \"try\", \"turn\", \"turn\", \"turn\", \"turn\", \"turn\", \"turn\", \"uncomfortable\", \"unit\", \"unit\", \"unplug\", \"update\", \"update\", \"update\", \"update_review\", \"upgrade\", \"upgrade\", \"upgrade\", \"upgrade\", \"usb\", \"usb_charge\", \"usb_port\", \"use\", \"use\", \"use\", \"use\", \"use\", \"use\", \"use\", \"use\", \"use_gym\", \"use_run\", \"vocal\", \"voice\", \"volume\", \"volume\", \"volume\", \"volume\", \"volume\", \"volume_button\", \"volume_control\", \"wait\", \"wait\", \"wait\", \"walk\", \"walk\", \"walk\", \"walk\", \"want\", \"want\", \"want\", \"want\", \"want\", \"want\", \"want\", \"warranty\", \"warranty\", \"waste_money\", \"water\", \"way\", \"way\", \"way\", \"way\", \"way\", \"way\", \"way\", \"way\", \"wear\", \"wear\", \"wear\", \"wear\", \"wear\", \"week\", \"week\", \"week\", \"week\", \"week\", \"well\", \"well\", \"well\", \"well\", \"well\", \"well\", \"well\", \"well\", \"wing\", \"wire\", \"wire\", \"wire\", \"wired\", \"wireless\", \"wireless_headphone\", \"wireless_headset\", \"wireless_headset\", \"wood\", \"work\", \"work\", \"work\", \"work\", \"work\", \"work\", \"work\", \"work_fine\", \"work_fine\", \"work_flawlessly\", \"work_great\", \"work_great\", \"work_month\", \"work_perfect\", \"work_perfectly\", \"workout\", \"workout\", \"workout\", \"year\", \"year\", \"year_old\", \"year_old\"]}, \"R\": 30, \"lambda.step\": 0.01, \"plot.opts\": {\"xlab\": \"PC1\", \"ylab\": \"PC2\"}, \"topic.order\": [1, 2, 3, 4, 5, 6, 7, 8]};\n",
       "\n",
       "function LDAvis_load_lib(url, callback){\n",
       "  var s = document.createElement('script');\n",
       "  s.src = url;\n",
       "  s.async = true;\n",
       "  s.onreadystatechange = s.onload = callback;\n",
       "  s.onerror = function(){console.warn(\"failed to load library \" + url);};\n",
       "  document.getElementsByTagName(\"head\")[0].appendChild(s);\n",
       "}\n",
       "\n",
       "if(typeof(LDAvis) !== \"undefined\"){\n",
       "   // already loaded: just create the visualization\n",
       "   !function(LDAvis){\n",
       "       new LDAvis(\"#\" + \"ldavis_el58842540603053328877491499\", ldavis_el58842540603053328877491499_data);\n",
       "   }(LDAvis);\n",
       "}else if(typeof define === \"function\" && define.amd){\n",
       "   // require.js is available: use it to load d3/LDAvis\n",
       "   require.config({paths: {d3: \"https://d3js.org/d3.v5\"}});\n",
       "   require([\"d3\"], function(d3){\n",
       "      window.d3 = d3;\n",
       "      LDAvis_load_lib(\"https://cdn.jsdelivr.net/gh/bmabey/pyLDAvis@3.3.1/pyLDAvis/js/ldavis.v3.0.0.js\", function(){\n",
       "        new LDAvis(\"#\" + \"ldavis_el58842540603053328877491499\", ldavis_el58842540603053328877491499_data);\n",
       "      });\n",
       "    });\n",
       "}else{\n",
       "    // require.js not available: dynamically load d3 & LDAvis\n",
       "    LDAvis_load_lib(\"https://d3js.org/d3.v5.js\", function(){\n",
       "         LDAvis_load_lib(\"https://cdn.jsdelivr.net/gh/bmabey/pyLDAvis@3.3.1/pyLDAvis/js/ldavis.v3.0.0.js\", function(){\n",
       "                 new LDAvis(\"#\" + \"ldavis_el58842540603053328877491499\", ldavis_el58842540603053328877491499_data);\n",
       "            })\n",
       "         });\n",
       "}\n",
       "</script>"
      ],
      "text/plain": [
       "PreparedData(topic_coordinates=              x         y  topics  cluster       Freq\n",
       "topic                                                \n",
       "0     -0.230995  0.054825       1        1   6.480038\n",
       "1      0.002546 -0.042310       2        1  14.644197\n",
       "2     -0.038789  0.123284       3        1  20.550719\n",
       "3     -0.175143  0.016897       4        1   8.741840\n",
       "4     -0.021132  0.087187       5        1  19.689230\n",
       "5      0.331764  0.199957       6        1   6.999451\n",
       "6      0.128005 -0.340703       7        1   7.238500\n",
       "7      0.003744 -0.099137       8        1  15.656023, topic_info=          Term          Freq         Total Category  logprob  loglift\n",
       "33   headphone  88521.000000  88521.000000  Default  30.0000  30.0000\n",
       "105      great  47609.000000  47609.000000  Default  29.0000  29.0000\n",
       "139    headset  19767.000000  19767.000000  Default  28.0000  28.0000\n",
       "25         ear  25326.000000  25326.000000  Default  27.0000  27.0000\n",
       "5        sound  40949.000000  40949.000000  Default  26.0000  26.0000\n",
       "..         ...           ...           ...      ...      ...      ...\n",
       "86        love   3811.910755  18299.084886   Topic8  -5.0554   0.2856\n",
       "8         well   3733.592794  18196.342558   Topic8  -5.0762   0.2705\n",
       "260        use   3803.623569  29912.694626   Topic8  -5.0576  -0.2080\n",
       "223       come   3175.396598  14209.453898   Topic8  -5.2381   0.3558\n",
       "137       good   3847.529979  50693.424844   Topic8  -5.0461  -0.7241\n",
       "\n",
       "[528 rows x 6 columns], token_table=      Topic      Freq          Term\n",
       "term                               \n",
       "1655      8  0.998898         abuse\n",
       "6946      7  0.873437     accessory\n",
       "6946      8  0.125623     accessory\n",
       "3522      5  0.997849  active_noise\n",
       "2045      2  0.901794       adapter\n",
       "...     ...       ...           ...\n",
       "2574      8  0.033460       workout\n",
       "68        3  0.104168          year\n",
       "68        8  0.895683          year\n",
       "2164      4  0.526453      year_old\n",
       "2164      8  0.473149      year_old\n",
       "\n",
       "[948 rows x 3 columns], R=30, lambda_step=0.01, plot_opts={'xlab': 'PC1', 'ylab': 'PC2'}, topic_order=[1, 2, 3, 4, 5, 6, 7, 8])"
      ]
     },
     "execution_count": 112,
     "metadata": {},
     "output_type": "execute_result"
    }
   ],
   "source": [
    "# sort_topics set to False in order to keep topic numbering similar to LDA output.\n",
    "# Visualization will start index at 1, where as LDA output will start topic index at 0.\n",
    "pyLDAvis.enable_notebook()\n",
    "vis = pyLDAvis.gensim_models.prepare(optimal_model, corpus, id2word, sort_topics = False)\n",
    "vis"
   ]
  },
  {
   "cell_type": "markdown",
   "metadata": {},
   "source": [
    "Upon examining visualization from lda model with topic number set to 8, it can be observed that there are a number of topics found that are clustered together. A large number of topics are also found in a similar quadrant. From these results I can infer that even though coherence value is slightly higher compared to LDA model with 5 topics, it may not be as easily interpretable. I will check the visualization for 5 topics."
   ]
  },
  {
   "cell_type": "code",
   "execution_count": 113,
   "metadata": {},
   "outputs": [],
   "source": [
    "lda_5_model = model_list[1]"
   ]
  },
  {
   "cell_type": "code",
   "execution_count": 114,
   "metadata": {},
   "outputs": [
    {
     "data": {
      "text/html": [
       "\n",
       "<link rel=\"stylesheet\" type=\"text/css\" href=\"https://cdn.jsdelivr.net/gh/bmabey/pyLDAvis@3.3.1/pyLDAvis/js/ldavis.v1.0.0.css\">\n",
       "\n",
       "\n",
       "<div id=\"ldavis_el588425421015429442460526040\"></div>\n",
       "<script type=\"text/javascript\">\n",
       "\n",
       "var ldavis_el588425421015429442460526040_data = {\"mdsDat\": {\"x\": [0.27381701281086385, 0.04187748359635173, -0.05216770688501219, -0.23311233753133853, -0.030414451990864868], \"y\": [-0.0195977264767713, -0.19578750104192863, 0.19782130040883897, -0.12047170375305254, 0.1380356308629135], \"topics\": [1, 2, 3, 4, 5], \"cluster\": [1, 1, 1, 1, 1], \"Freq\": [15.700727184842291, 18.320152608586568, 24.09331316661845, 14.438380876892543, 27.44742616306014]}, \"tinfo\": {\"Term\": [\"headphone\", \"sound\", \"ear\", \"work\", \"product\", \"device\", \"bass\", \"case\", \"earbud\", \"headset\", \"buy\", \"sound_quality\", \"charge\", \"fit\", \"work_great\", \"love\", \"month\", \"wear\", \"music\", \"comfortable\", \"quality\", \"connect\", \"phone\", \"battery\", \"ear_bud\", \"price\", \"pair\", \"unit\", \"earphone\", \"purchase\", \"case\", \"keyboard\", \"cover\", \"remove\", \"attach\", \"black\", \"screen\", \"position\", \"slide\", \"mount\", \"screw\", \"solution\", \"arm\", \"fly\", \"face\", \"clamp\", \"angle\", \"edge\", \"surface\", \"protect\", \"fully\", \"hole\", \"bend\", \"install\", \"screen_protector\", \"talk_phone\", \"make_easy\", \"stable\", \"outlet\", \"loop\", \"thick\", \"stand\", \"desk\", \"plastic\", \"key\", \"hang\", \"metal\", \"place\", \"bag\", \"hold\", \"cable\", \"design\", \"stick\", \"hand\", \"small\", \"sturdy\", \"phone\", \"feel\", \"look\", \"type\", \"size\", \"fit\", \"large\", \"nice\", \"easily\", \"thing\", \"easy\", \"way\", \"like\", \"little\", \"come\", \"need\", \"light\", \"use\", \"good\", \"make\", \"great\", \"want\", \"device\", \"connect\", \"battery\", \"unit\", \"charger\", \"roku\", \"remote\", \"port\", \"work_perfectly\", \"adapter\", \"lamp\", \"channel\", \"seller\", \"signal\", \"usb\", \"software\", \"bluetooth_headset\", \"cell_phone\", \"pair_device\", \"connectivity\", \"card\", \"receiver\", \"surround_sound\", \"helpful\", \"usb_port\", \"recharge\", \"charge_cable\", \"sync\", \"manual\", \"fully_charge\", \"app\", \"charge\", \"setup\", \"power\", \"laptop\", \"computer\", \"button\", \"plug\", \"headset\", \"turn\", \"use\", \"work\", \"connection\", \"phone\", \"need\", \"switch\", \"system\", \"issue\", \"time\", \"work_great\", \"problem\", \"light\", \"great\", \"control\", \"speaker\", \"feature\", \"audio\", \"good\", \"cable\", \"thing\", \"find\", \"set\", \"bass\", \"voice\", \"price_point\", \"clarity\", \"can\", \"high_end\", \"treble\", \"mid\", \"amazing_sound\", \"mid_high\", \"blow_away\", \"low_volume\", \"deep_bass\", \"distortion\", \"tone\", \"balance\", \"low_end\", \"high_volume\", \"vocal\", \"bass_heavy\", \"frequency\", \"balanced\", \"midrange\", \"good_job\", \"overall_sound\", \"complete\", \"equalizer\", \"crisp\", \"fitting\", \"iem\", \"sound\", \"high\", \"audiophile\", \"comparison\", \"listen\", \"compare\", \"sound_well\", \"beat\", \"music\", \"amazing\", \"build_quality\", \"headphone\", \"noise_cancellation\", \"quality\", \"price_range\", \"hear\", \"price\", \"noise_cancel\", \"value\", \"speaker\", \"well\", \"good\", \"audio\", \"pair_headphone\", \"sound_quality\", \"look\", \"clear\", \"great\", \"review\", \"buy\", \"want\", \"expect\", \"comfortable\", \"feel\", \"excellent\", \"think\", \"come\", \"pair\", \"nice\", \"great_product\", \"service\", \"customer_service\", \"company\", \"stop_work\", \"tablet\", \"good_product\", \"warranty\", \"instruction\", \"customer\", \"qc\", \"ship\", \"magnet\", \"functionality\", \"holder\", \"modem\", \"easy_set\", \"email\", \"last_month\", \"great_customer\", \"transmitter\", \"send_replacement\", \"phone_pocket\", \"feedback\", \"perfect_fit\", \"refund\", \"send_new\", \"work_flawlessly\", \"hanger\", \"work_advertise\", \"wing\", \"product\", \"fail\", \"update_review\", \"month\", \"replacement\", \"thank\", \"update\", \"contact\", \"send\", \"item\", \"work_great\", \"bluetooth\", \"receive\", \"year\", \"purchase\", \"buy\", \"love\", \"order\", \"day\", \"new\", \"week\", \"work\", \"replace\", \"break\", \"time\", \"get\", \"great\", \"review\", \"go\", \"pair\", \"happy\", \"good\", \"star\", \"issue\", \"use\", \"problem\", \"ear\", \"earbud\", \"ear_bud\", \"earphone\", \"bud\", \"stay_ear\", \"gym\", \"ear_piece\", \"fit_ear\", \"earpiece\", \"workout\", \"wireless_headphone\", \"uncomfortable\", \"sweat\", \"small_ear\", \"exercise\", \"right_ear\", \"hurt_ear\", \"ear_cup\", \"child\", \"hurt\", \"cushion\", \"blue_tooth\", \"slip\", \"fall_ear\", \"canal\", \"disconnect\", \"ear_tip\", \"noise_cancelling\", \"ear_canal\", \"wear\", \"flight\", \"neck\", \"head\", \"run\", \"fit\", \"wire\", \"comfortable\", \"good_sound\", \"sound_quality\", \"cord\", \"battery_life\", \"walk\", \"headphone\", \"sound_great\", \"pair\", \"great_sound\", \"sound_good\", \"good\", \"great\", \"headset\", \"work\", \"like\", \"use\", \"sound\", \"try\", \"price\", \"time\", \"quality\", \"well\", \"love\", \"buy\"], \"Freq\": [85595.0, 42079.0, 23323.0, 38065.0, 15734.0, 10533.0, 11887.0, 9119.0, 13056.0, 18959.0, 23718.0, 19443.0, 9267.0, 13999.0, 9663.0, 16964.0, 7019.0, 8357.0, 11563.0, 13685.0, 18625.0, 5258.0, 18884.0, 5154.0, 6686.0, 18415.0, 18465.0, 4985.0, 6232.0, 9982.0, 9118.298954886342, 2952.82405393072, 2910.614120666639, 1868.6635391066436, 1511.224966340695, 1503.177173265218, 1341.063668319255, 1233.9440211039487, 1111.092863875728, 958.1532398492634, 944.3499720094351, 932.5765246324047, 881.0683730371576, 845.2133311666142, 816.3009385047861, 789.2986365690854, 753.4575573500488, 740.8647117693431, 715.6336419905347, 710.5830018742454, 717.7966661487072, 696.0140920390429, 691.509321783411, 690.8822591042416, 648.3300314384721, 652.7730169611865, 626.9152335694963, 617.5639571626042, 636.4429978914341, 575.561369273399, 755.8588541561845, 2793.475852115674, 2413.1820943513103, 2181.1476798283393, 1145.817140413995, 1342.8094186371475, 1604.3184319848672, 3001.0041377260686, 1158.7339893229155, 3635.989783866483, 4687.815590331163, 3505.0488757950075, 1619.2928172198265, 1678.8810854287885, 3336.0343303418194, 1678.2266559526659, 5959.990747525821, 3890.580582645624, 4595.91788616203, 1677.3234120266925, 2106.448052773136, 4058.3312288844186, 1766.58594497695, 3649.31127041607, 2149.4708916079417, 3150.3383258804533, 2312.2860197921204, 2856.3775971537098, 3520.795395658292, 2746.430373381766, 2965.0464005536933, 2902.6598773562578, 2052.028618525468, 2929.985903367143, 3291.6962097350756, 2027.8652727073832, 2689.5403875764887, 2078.050672512136, 10532.421418914164, 5257.185534598951, 5153.408405730749, 4984.840831025634, 2890.144276707121, 2130.2053615519703, 1921.693779686274, 1821.2469201385125, 1706.5273614166842, 1603.9376012098678, 1565.4507599806022, 1416.1099879423339, 1310.7877972327167, 1113.5726726769033, 1046.3010206066522, 1042.2358958598713, 1046.2384589208712, 958.1092458665212, 885.7467180763722, 889.1870405706269, 791.7736081779586, 789.2714665888334, 795.4588010204654, 783.9815013376221, 759.7276880051118, 767.1277253224486, 737.750452058696, 728.7824624914738, 711.9268943446763, 689.8415602771261, 2217.5768287715096, 8182.113131073949, 1073.1008012925456, 2749.3667983311793, 1663.652241524631, 2213.7735996234082, 3712.232524448678, 4012.2242796633673, 9488.54384902624, 4174.89574132574, 11677.21685312483, 13681.317895432347, 2456.7159400902374, 7534.346178076677, 5646.226029312124, 1908.928100286879, 1513.215499537799, 4277.175951524786, 5622.635060298884, 3769.5598825193047, 4024.4720330234454, 2761.555900110838, 7131.481505858589, 2427.0542066614494, 3165.910648313698, 2564.6201851673013, 2571.10037019839, 4110.030351802734, 2580.3464660094355, 2677.4035900510544, 2573.3586189656035, 2510.6638266812947, 11887.007309983697, 2176.22214453493, 1639.8716217901153, 1426.5071954963032, 1322.8157550498888, 1295.667826574088, 1121.372531385035, 1033.77621967654, 995.2918088998705, 843.7241150599576, 840.1322845725937, 844.698363257768, 805.4270761876174, 801.6462668327653, 796.3129168046486, 779.73082466414, 755.4705554194672, 742.5704443995376, 701.0139485865353, 689.6795553377733, 678.4222963206392, 668.3687598404084, 655.6980160286944, 668.8849164070513, 641.902558702057, 643.4091402289766, 603.8996476532365, 598.6056682225131, 618.7120983977113, 577.9533526622321, 30790.987663100586, 3803.959051857706, 2169.9027083470655, 1000.3378874806123, 5884.539248670972, 3297.0855899912212, 2214.9285304892837, 2792.0072131041197, 8371.356732392911, 4616.2356478138745, 2717.697165662641, 47206.70169451146, 2625.677312901167, 10661.012692221482, 1446.6753330568035, 5867.966530482224, 9756.71152974524, 4175.887889585339, 1322.3937665243582, 4775.2864334304595, 8317.50161187036, 17091.1322172368, 3406.620055614321, 2356.226015649706, 7243.487141825513, 5480.9253826846625, 2486.85305117319, 9509.684867722024, 3395.004497378188, 6162.028789905071, 4218.552975716237, 3340.4875222959195, 4376.742429079644, 3779.7791843364175, 3208.4155054999405, 3785.1014463187375, 3723.7630197577605, 3765.3550830220133, 3192.5012136828373, 3284.55575997503, 2809.7323497226603, 2754.453377865031, 2535.9750929614574, 2270.8355623806797, 1697.7560009795657, 1670.9228700244246, 1190.404256769302, 995.7325110594132, 796.1498324390005, 794.9017798364358, 713.0566858083398, 743.7069702403682, 722.4929008071856, 723.5220306024074, 1201.6435354174807, 703.2062508819349, 690.2089129503905, 690.4289271617582, 689.0405328416418, 672.7467695535497, 634.4257766335052, 619.2819679862124, 599.9234779960302, 587.1677897556408, 539.6942826829816, 509.54809850997265, 516.0479230800065, 575.1633084855501, 495.24399685934884, 505.2755406536464, 13081.773055724036, 1393.0845326130245, 929.4492976203744, 5855.988643697623, 2373.1743349853027, 1795.633627532388, 3629.7758410766255, 1174.184837355375, 1918.8849852583808, 2136.1917442416047, 5893.627958503777, 3005.063110862864, 2296.2958354729994, 3761.0976821649233, 5387.326915368286, 10334.547340513158, 7903.669575929317, 2655.436582311185, 4279.73415879099, 2892.8380153994885, 2725.2715454483555, 10710.70936772237, 2177.5212886565764, 3015.523640639175, 5703.846409027939, 4827.354987905466, 7313.361238991975, 3052.972922744527, 3376.0449493685924, 3917.9853415347698, 2607.842635594369, 4519.570835259977, 2806.8204837842895, 3054.1834824088255, 3020.628843466127, 2684.79740498794, 23322.24425472878, 13055.33417593892, 6685.760191548132, 6231.250207590365, 4836.315652999641, 3218.953471795669, 3146.8874021182005, 2894.8365406612393, 2635.322143239016, 2212.457922790565, 2098.504566824225, 2091.822606623778, 1905.4325305118643, 1490.7504466069452, 1445.2733305950426, 1421.680213953045, 1019.0614175749341, 1004.5636997263301, 972.8268296729115, 943.6864045927239, 883.9634104559365, 883.2182651042684, 889.6038391796596, 872.6383727419592, 833.2907195089979, 826.5889270065863, 982.1857845038002, 804.6243779794704, 783.5796206062479, 744.7451053032003, 8320.891871222691, 1534.6022902172158, 1907.391839901051, 5347.174759883945, 6620.265509359848, 9940.191881907262, 4828.311946151326, 9308.11530451542, 5475.181834224748, 12199.012234669437, 4834.35317044214, 4776.524862901369, 1790.7024805781152, 38388.494276600315, 5479.366510961787, 10670.063554028944, 5849.915925860614, 5375.580474454421, 20749.927565180362, 17932.08185142049, 8679.296838712824, 13664.499501741546, 7898.466524361105, 9422.940061318859, 11288.236772406448, 6379.005616980569, 6378.493516432604, 5991.960120464698, 5873.980746177036, 5836.9518246673315, 5449.160877687454, 5428.417632326564], \"Total\": [85595.0, 42079.0, 23323.0, 38065.0, 15734.0, 10533.0, 11887.0, 9119.0, 13056.0, 18959.0, 23718.0, 19443.0, 9267.0, 13999.0, 9663.0, 16964.0, 7019.0, 8357.0, 11563.0, 13685.0, 18625.0, 5258.0, 18884.0, 5154.0, 6686.0, 18415.0, 18465.0, 4985.0, 6232.0, 9982.0, 9119.102715895893, 2953.631548505244, 2911.4201256082874, 1869.4772207143685, 1512.0334153220356, 1503.9880361026312, 1341.8675712024735, 1234.7505083826159, 1111.898247115825, 958.9505829817426, 945.153205364482, 933.3960914720611, 881.87330148921, 846.0459487564583, 817.1126649149063, 790.1019249780016, 754.2646339904529, 741.6684447739308, 716.4356182653559, 711.3865763455375, 718.6153756044483, 696.8214927665601, 692.3127559818921, 691.6880822802915, 649.1245428845996, 653.6021155852741, 627.7261825949687, 618.3771432209562, 637.2884031607103, 576.3788635119494, 762.3052023693658, 3561.243686150274, 3012.521097585995, 2823.733913114567, 1311.987401243224, 1606.1299672308442, 2010.7549603905072, 4598.1788562643815, 1348.9010935381975, 5994.612136682609, 8638.23524914444, 6773.976227950726, 2274.9268125798703, 2492.3198630684724, 7044.563548261252, 2560.243770777126, 18884.0940762764, 10381.21955210746, 13734.239809122311, 2681.366763000521, 4127.109712263789, 13999.147402307162, 3034.9926528506303, 13658.584366817646, 4667.750715963798, 11668.68192978177, 5846.315980654229, 9912.810827447289, 17272.86564827647, 10011.018942244593, 14559.58400109849, 14419.07580771555, 5635.375821640893, 28874.317672298563, 49762.357179214945, 6133.400220997335, 44576.14985156957, 11853.872321798513, 10533.244193198783, 5258.014545100006, 5154.234512149337, 4985.665965580866, 2890.9562477549252, 2131.0703736754067, 1922.5170149660376, 1822.0623007001554, 1707.3592259024244, 1604.7702614893371, 1566.3007131801378, 1416.9342509189485, 1311.6466258900155, 1114.395547889477, 1047.1154279468767, 1043.055448913549, 1047.0731624575583, 958.9320654381121, 886.5764327761801, 890.0275530905724, 792.5913783061768, 790.0878794655341, 796.2940391577329, 784.8180388348776, 760.5401400615704, 767.9509711346116, 738.580623978947, 729.6069518807436, 712.7517758716235, 690.6609425120715, 2226.469409990063, 9267.306629667597, 1109.1929911435427, 3138.010563763806, 1805.6546647950922, 2513.6676844477943, 4959.401721645433, 5492.557920960362, 18959.25044571297, 7016.050004839211, 28874.317672298563, 38065.56172974719, 3658.1795789323796, 18884.0940762764, 14419.07580771555, 2822.960932740148, 1947.3827082964794, 11486.91293169829, 19481.668815304856, 9663.820427677147, 11224.57780306799, 5635.375821640893, 44576.14985156957, 4378.554579780616, 8489.828069652023, 5045.983378858459, 5978.323860231927, 49762.357179214945, 8638.23524914444, 11668.68192978177, 12206.733346210027, 12075.880285015755, 11887.815051013169, 2177.0395463288, 1640.6853731937665, 1427.316599781968, 1323.620298366659, 1296.4779871789312, 1122.1772985117584, 1034.584599368895, 996.0986339311205, 844.528543779637, 840.9399150057146, 845.5143770369821, 806.2359003904887, 802.4586786704632, 797.127895285692, 780.5443281356668, 756.2796983914027, 743.3811251188799, 701.8161624820349, 690.4851445609205, 679.2301113209608, 669.177929327808, 656.5029032439824, 669.7065788415296, 642.7084441860864, 644.2605277501643, 604.706419973616, 599.4156534337507, 619.5523809377878, 578.760703814939, 42079.85405268047, 4422.46726977403, 2410.616765446005, 1045.3940008513475, 7430.778735897302, 3973.8103972429103, 2555.8778495577544, 3317.238957354645, 11563.383853293108, 5936.163267858615, 3262.8801912499594, 85595.82723523708, 3174.8288281416526, 18625.06317218621, 1667.1215124404018, 9438.86441819589, 18415.287944863354, 6414.658072894676, 1500.8155512220305, 8489.828069652023, 18417.507692949133, 49762.357179214945, 5978.323860231927, 3529.3748862107154, 19443.12741157616, 13734.239809122311, 3993.4609087427652, 44576.14985156957, 7483.134250718518, 23718.232355349355, 11853.872321798513, 7316.388055161636, 13685.485932050004, 10381.21955210746, 7260.302516749019, 12408.397093951879, 14559.58400109849, 18465.329527796766, 13658.584366817646, 3285.39381685747, 2810.5683462672523, 2755.28999252065, 2536.8153292005118, 2271.6693849036283, 1698.603941506532, 1671.7666528173788, 1191.241270208359, 996.5781701988932, 796.9899460546903, 795.7925026216617, 713.8952518171354, 744.5821764259576, 723.3443279218168, 724.3778743232301, 1203.0733620057026, 704.0537339067661, 691.0428693896101, 691.2634754248576, 689.8740602105374, 673.593891343034, 635.2615183042476, 620.145992593903, 600.780458698421, 588.0205865372983, 540.5303049566144, 510.38115699560757, 516.8955721240858, 576.1292402939026, 496.0829212048541, 506.1658041838573, 15734.434935842068, 1492.713461357761, 968.9562161339902, 7019.259737158124, 2676.2378170060656, 1979.3531010409692, 4396.8768030934825, 1282.2516611472447, 2322.6972789110514, 2659.2238577705875, 9663.820427677147, 4379.275282852628, 3204.5270867351555, 6099.488184968761, 9982.1139643635, 23718.232355349355, 16964.232613021308, 4026.495800749319, 7668.38280804924, 4634.830039363979, 4280.912585548728, 38065.56172974719, 3311.546053128633, 5524.794752097071, 19481.668815304856, 15402.630621299548, 44576.14985156957, 7483.134250718518, 11350.163417960146, 18465.329527796766, 5792.800350096576, 49762.357179214945, 7765.232123841264, 11486.91293169829, 28874.317672298563, 11224.57780306799, 23323.093349023857, 13056.187441432683, 6686.609368123151, 6232.10370684442, 4837.166129823227, 3219.797724471733, 3147.734417077323, 2895.6857328353344, 2636.1675976595557, 2213.3093646090865, 2099.3509276726145, 2092.6838347750804, 1906.2786031635735, 1491.5965575701894, 1446.1184190745935, 1422.5264706515172, 1019.9138142056908, 1005.4075397790264, 973.6807278140894, 944.5608616525069, 884.8137086677857, 884.0684558432761, 890.4681392862032, 873.5120674909305, 834.1346071681083, 827.4341014995751, 983.2207360210019, 805.4809577338309, 784.4532181242095, 745.5921524019653, 8357.180114432611, 1538.0912581153004, 2034.2346838170865, 6483.178791532604, 8595.331860652788, 13999.147402307162, 6131.985995716971, 13685.485932050004, 7441.820908663173, 19443.12741157616, 6496.8210255829845, 6462.527824143539, 2025.552946427619, 85595.82723523708, 7970.232983670706, 18465.329527796766, 8735.873316588968, 8138.619268924704, 49762.357179214945, 44576.14985156957, 18959.25044571297, 38065.56172974719, 17272.86564827647, 28874.317672298563, 42079.85405268047, 15297.40536411518, 18415.287944863354, 19481.668815304856, 18625.06317218621, 18417.507692949133, 16964.232613021308, 23718.232355349355], \"Category\": [\"Default\", \"Default\", \"Default\", \"Default\", \"Default\", \"Default\", \"Default\", \"Default\", \"Default\", \"Default\", \"Default\", \"Default\", \"Default\", \"Default\", \"Default\", \"Default\", \"Default\", \"Default\", \"Default\", \"Default\", \"Default\", \"Default\", \"Default\", \"Default\", \"Default\", \"Default\", \"Default\", \"Default\", \"Default\", \"Default\", \"Topic1\", \"Topic1\", \"Topic1\", \"Topic1\", \"Topic1\", \"Topic1\", \"Topic1\", \"Topic1\", \"Topic1\", \"Topic1\", \"Topic1\", \"Topic1\", \"Topic1\", \"Topic1\", \"Topic1\", \"Topic1\", \"Topic1\", \"Topic1\", \"Topic1\", \"Topic1\", \"Topic1\", \"Topic1\", \"Topic1\", \"Topic1\", \"Topic1\", \"Topic1\", \"Topic1\", \"Topic1\", \"Topic1\", \"Topic1\", \"Topic1\", \"Topic1\", \"Topic1\", \"Topic1\", \"Topic1\", \"Topic1\", \"Topic1\", \"Topic1\", \"Topic1\", \"Topic1\", \"Topic1\", \"Topic1\", \"Topic1\", \"Topic1\", \"Topic1\", \"Topic1\", \"Topic1\", \"Topic1\", \"Topic1\", \"Topic1\", \"Topic1\", \"Topic1\", \"Topic1\", \"Topic1\", \"Topic1\", \"Topic1\", \"Topic1\", \"Topic1\", \"Topic1\", \"Topic1\", \"Topic1\", \"Topic1\", \"Topic1\", \"Topic1\", \"Topic1\", \"Topic1\", \"Topic1\", \"Topic1\", \"Topic2\", \"Topic2\", \"Topic2\", \"Topic2\", \"Topic2\", \"Topic2\", \"Topic2\", \"Topic2\", \"Topic2\", \"Topic2\", \"Topic2\", \"Topic2\", \"Topic2\", \"Topic2\", \"Topic2\", \"Topic2\", \"Topic2\", \"Topic2\", \"Topic2\", \"Topic2\", \"Topic2\", \"Topic2\", \"Topic2\", \"Topic2\", \"Topic2\", \"Topic2\", \"Topic2\", \"Topic2\", \"Topic2\", \"Topic2\", \"Topic2\", \"Topic2\", \"Topic2\", \"Topic2\", \"Topic2\", \"Topic2\", \"Topic2\", \"Topic2\", \"Topic2\", \"Topic2\", \"Topic2\", \"Topic2\", \"Topic2\", \"Topic2\", \"Topic2\", \"Topic2\", \"Topic2\", \"Topic2\", \"Topic2\", \"Topic2\", \"Topic2\", \"Topic2\", \"Topic2\", \"Topic2\", \"Topic2\", \"Topic2\", \"Topic2\", \"Topic2\", \"Topic2\", \"Topic2\", \"Topic2\", \"Topic2\", \"Topic3\", \"Topic3\", \"Topic3\", \"Topic3\", \"Topic3\", \"Topic3\", \"Topic3\", \"Topic3\", \"Topic3\", \"Topic3\", \"Topic3\", \"Topic3\", \"Topic3\", \"Topic3\", \"Topic3\", \"Topic3\", \"Topic3\", \"Topic3\", \"Topic3\", \"Topic3\", \"Topic3\", \"Topic3\", \"Topic3\", \"Topic3\", \"Topic3\", \"Topic3\", \"Topic3\", \"Topic3\", \"Topic3\", \"Topic3\", \"Topic3\", \"Topic3\", \"Topic3\", \"Topic3\", \"Topic3\", \"Topic3\", \"Topic3\", \"Topic3\", \"Topic3\", \"Topic3\", \"Topic3\", \"Topic3\", \"Topic3\", \"Topic3\", \"Topic3\", \"Topic3\", \"Topic3\", \"Topic3\", \"Topic3\", \"Topic3\", \"Topic3\", \"Topic3\", \"Topic3\", \"Topic3\", \"Topic3\", \"Topic3\", \"Topic3\", \"Topic3\", \"Topic3\", \"Topic3\", \"Topic3\", \"Topic3\", \"Topic3\", \"Topic3\", \"Topic3\", \"Topic3\", \"Topic3\", \"Topic3\", \"Topic3\", \"Topic4\", \"Topic4\", \"Topic4\", \"Topic4\", \"Topic4\", \"Topic4\", \"Topic4\", \"Topic4\", \"Topic4\", \"Topic4\", \"Topic4\", \"Topic4\", \"Topic4\", \"Topic4\", \"Topic4\", \"Topic4\", \"Topic4\", \"Topic4\", \"Topic4\", \"Topic4\", \"Topic4\", \"Topic4\", \"Topic4\", \"Topic4\", \"Topic4\", \"Topic4\", \"Topic4\", \"Topic4\", \"Topic4\", \"Topic4\", \"Topic4\", \"Topic4\", \"Topic4\", \"Topic4\", \"Topic4\", \"Topic4\", \"Topic4\", \"Topic4\", \"Topic4\", \"Topic4\", \"Topic4\", \"Topic4\", \"Topic4\", \"Topic4\", \"Topic4\", \"Topic4\", \"Topic4\", \"Topic4\", \"Topic4\", \"Topic4\", \"Topic4\", \"Topic4\", \"Topic4\", \"Topic4\", \"Topic4\", \"Topic4\", \"Topic4\", \"Topic4\", \"Topic4\", \"Topic4\", \"Topic4\", \"Topic4\", \"Topic4\", \"Topic4\", \"Topic4\", \"Topic4\", \"Topic4\", \"Topic5\", \"Topic5\", \"Topic5\", \"Topic5\", \"Topic5\", \"Topic5\", \"Topic5\", \"Topic5\", \"Topic5\", \"Topic5\", \"Topic5\", \"Topic5\", \"Topic5\", \"Topic5\", \"Topic5\", \"Topic5\", \"Topic5\", \"Topic5\", \"Topic5\", \"Topic5\", \"Topic5\", \"Topic5\", \"Topic5\", \"Topic5\", \"Topic5\", \"Topic5\", \"Topic5\", \"Topic5\", \"Topic5\", \"Topic5\", \"Topic5\", \"Topic5\", \"Topic5\", \"Topic5\", \"Topic5\", \"Topic5\", \"Topic5\", \"Topic5\", \"Topic5\", \"Topic5\", \"Topic5\", \"Topic5\", \"Topic5\", \"Topic5\", \"Topic5\", \"Topic5\", \"Topic5\", \"Topic5\", \"Topic5\", \"Topic5\", \"Topic5\", \"Topic5\", \"Topic5\", \"Topic5\", \"Topic5\", \"Topic5\", \"Topic5\", \"Topic5\", \"Topic5\", \"Topic5\", \"Topic5\", \"Topic5\"], \"logprob\": [30.0, 29.0, 28.0, 27.0, 26.0, 25.0, 24.0, 23.0, 22.0, 21.0, 20.0, 19.0, 18.0, 17.0, 16.0, 15.0, 14.0, 13.0, 12.0, 11.0, 10.0, 9.0, 8.0, 7.0, 6.0, 5.0, 4.0, 3.0, 2.0, 1.0, -4.1861, -5.3137, -5.3281, -5.7712, -5.9835, -5.9888, -6.103, -6.1862, -6.2911, -6.4392, -6.4537, -6.4662, -6.523, -6.5646, -6.5994, -6.633, -6.6795, -6.6964, -6.731, -6.7381, -6.728, -6.7588, -6.7653, -6.7662, -6.8298, -6.8229, -6.8634, -6.8784, -6.8483, -6.9488, -6.6763, -5.3691, -5.5155, -5.6166, -6.2603, -6.1017, -5.9237, -5.2975, -6.2491, -5.1055, -4.8514, -5.1422, -5.9144, -5.8783, -5.1916, -5.8787, -4.6113, -5.0379, -4.8712, -5.8792, -5.6514, -4.9956, -5.8274, -5.1019, -5.6312, -5.2489, -5.5582, -5.3469, -5.1377, -5.3861, -5.3095, -5.3308, -5.6776, -5.3214, -5.205, -5.6894, -5.407, -5.665, -4.1963, -4.8911, -4.9111, -4.9443, -5.4894, -5.7945, -5.8975, -5.9512, -6.0162, -6.0782, -6.1025, -6.2028, -6.2801, -6.4431, -6.5054, -6.5093, -6.5055, -6.5935, -6.672, -6.6682, -6.7842, -6.7874, -6.7795, -6.7941, -6.8255, -6.8158, -6.8549, -6.8671, -6.8905, -6.922, -5.7543, -4.4488, -6.4802, -5.5393, -6.0417, -5.756, -5.2391, -5.1614, -4.3006, -5.1216, -4.0931, -3.9347, -5.6519, -4.5312, -4.8197, -5.9042, -6.1365, -5.0974, -4.8239, -5.2238, -5.1583, -5.5349, -4.5862, -5.664, -5.3983, -5.6089, -5.6064, -5.1373, -5.6028, -5.5659, -5.6055, -5.6302, -4.3492, -6.0471, -6.33, -6.4694, -6.5449, -6.5656, -6.7101, -6.7914, -6.8294, -6.9946, -6.9988, -6.9934, -7.041, -7.0457, -7.0524, -7.0734, -7.1051, -7.1223, -7.1799, -7.1962, -7.2126, -7.2276, -7.2467, -7.2268, -7.268, -7.2656, -7.329, -7.3378, -7.3048, -7.3729, -3.3974, -5.4886, -6.05, -6.8243, -5.0523, -5.6316, -6.0294, -5.7979, -4.6998, -5.2951, -5.8249, -2.9701, -5.8593, -4.458, -6.4554, -5.0551, -4.5467, -5.3953, -6.5452, -5.2612, -4.7063, -3.9861, -5.5989, -5.9676, -4.8445, -5.1234, -5.9136, -4.5723, -5.6023, -5.0062, -5.3852, -5.6185, -5.3483, -5.495, -5.6589, -5.4936, -5.5099, -5.4988, -5.6638, -5.1234, -5.2795, -5.2994, -5.382, -5.4925, -5.7833, -5.7992, -6.1383, -6.3169, -6.5406, -6.5421, -6.6508, -6.6087, -6.6376, -6.6362, -6.1289, -6.6647, -6.6834, -6.683, -6.6851, -6.709, -6.7676, -6.7918, -6.8236, -6.845, -6.9294, -6.9868, -6.9742, -6.8657, -7.0153, -6.9952, -3.7414, -5.9811, -6.3858, -4.5451, -5.4484, -5.7272, -5.0234, -6.152, -5.6609, -5.5536, -4.5387, -5.2123, -5.4813, -4.9879, -4.6285, -3.9771, -4.2453, -5.336, -4.8587, -5.2504, -5.31, -3.9414, -5.5344, -5.2088, -4.5715, -4.7383, -4.3229, -5.1965, -5.0959, -4.947, -5.3541, -4.8042, -5.2805, -5.1961, -5.2071, -5.325, -3.8056, -4.3858, -5.055, -5.1254, -5.3788, -5.7859, -5.8086, -5.8921, -5.986, -6.1609, -6.2138, -6.2169, -6.3103, -6.5557, -6.5867, -6.6031, -6.9361, -6.9504, -6.9825, -7.0129, -7.0783, -7.0792, -7.072, -7.0912, -7.1374, -7.1454, -6.973, -7.1724, -7.1989, -7.2497, -4.8362, -6.5267, -6.3092, -5.2784, -5.0648, -4.6584, -5.3805, -4.7241, -5.2548, -4.4536, -5.3792, -5.3913, -6.3724, -3.3072, -5.254, -4.5875, -5.1886, -5.2731, -3.9224, -4.0684, -4.794, -4.3402, -4.8883, -4.7118, -4.5312, -5.102, -5.102, -5.1646, -5.1844, -5.1908, -5.2595, -5.2633], \"loglift\": [30.0, 29.0, 28.0, 27.0, 26.0, 25.0, 24.0, 23.0, 22.0, 21.0, 20.0, 19.0, 18.0, 17.0, 16.0, 15.0, 14.0, 13.0, 12.0, 11.0, 10.0, 9.0, 8.0, 7.0, 6.0, 5.0, 4.0, 3.0, 2.0, 1.0, 1.8514, 1.8512, 1.8512, 1.851, 1.8509, 1.8509, 1.8509, 1.8508, 1.8507, 1.8506, 1.8506, 1.8506, 1.8506, 1.8505, 1.8505, 1.8504, 1.8504, 1.8504, 1.8503, 1.8503, 1.8503, 1.8503, 1.8503, 1.8503, 1.8502, 1.8502, 1.8502, 1.8501, 1.8501, 1.85, 1.843, 1.6086, 1.6296, 1.5933, 1.716, 1.6724, 1.6257, 1.4247, 1.6995, 1.3515, 1.2402, 1.1926, 1.5115, 1.4564, 1.104, 1.4291, 0.6982, 0.87, 0.7567, 1.3823, 1.1789, 0.6132, 1.3103, 0.5316, 1.076, 0.5421, 0.9239, 0.6072, 0.261, 0.5581, 0.2601, 0.2485, 0.8412, -0.4365, -0.8644, 0.7447, -0.9564, 0.1102, 1.6971, 1.697, 1.697, 1.697, 1.6969, 1.6968, 1.6967, 1.6967, 1.6967, 1.6966, 1.6966, 1.6966, 1.6965, 1.6964, 1.6964, 1.6964, 1.6964, 1.6963, 1.6962, 1.6962, 1.6961, 1.6961, 1.6961, 1.6961, 1.6961, 1.6961, 1.696, 1.696, 1.696, 1.696, 1.6932, 1.5726, 1.6641, 1.565, 1.6153, 1.5701, 1.4075, 1.3831, 1.005, 1.1781, 0.7919, 0.6739, 1.299, 0.7783, 0.7596, 1.3059, 1.4449, 0.7093, 0.4545, 0.7557, 0.6715, 0.9839, -0.1355, 1.1071, 0.7107, 1.0204, 0.8534, -0.7967, 0.4889, 0.2251, 0.1404, 0.1265, 1.4232, 1.4229, 1.4227, 1.4227, 1.4226, 1.4226, 1.4225, 1.4225, 1.4224, 1.4223, 1.4223, 1.4223, 1.4222, 1.4222, 1.4222, 1.4222, 1.4222, 1.4221, 1.4221, 1.4221, 1.422, 1.422, 1.422, 1.422, 1.422, 1.4219, 1.4219, 1.4219, 1.4219, 1.4218, 1.1109, 1.2726, 1.318, 1.3792, 1.1899, 1.2365, 1.2801, 1.2509, 1.1002, 1.1718, 1.2404, 0.8281, 1.2333, 0.8653, 1.2814, 0.9479, 0.788, 0.994, 1.2967, 0.8478, 0.6283, 0.3545, 0.8608, 1.0192, 0.4358, 0.5046, 0.9496, -0.1217, 0.6329, 0.0754, 0.3901, 0.6392, 0.2832, 0.4129, 0.6066, 0.2359, 0.0597, -0.1668, -0.0303, 1.935, 1.935, 1.935, 1.9349, 1.9349, 1.9348, 1.9348, 1.9346, 1.9344, 1.9342, 1.9342, 1.9341, 1.9341, 1.9341, 1.9341, 1.9341, 1.9341, 1.9341, 1.9341, 1.9341, 1.934, 1.934, 1.9339, 1.9339, 1.9338, 1.9337, 1.9336, 1.9336, 1.9336, 1.9336, 1.9335, 1.7506, 1.8662, 1.8937, 1.7541, 1.8151, 1.8379, 1.7436, 1.8472, 1.7443, 1.7163, 1.4408, 1.5587, 1.602, 1.4518, 1.3185, 1.1045, 1.1715, 1.519, 1.3521, 1.4639, 1.4837, 0.6672, 1.5161, 1.3298, 0.7069, 0.775, 0.1278, 1.0387, 0.7228, 0.385, 1.1372, -0.4636, 0.9177, 0.6106, -0.3222, 0.5048, 1.2929, 1.2928, 1.2928, 1.2928, 1.2927, 1.2926, 1.2926, 1.2926, 1.2926, 1.2925, 1.2925, 1.2925, 1.2925, 1.2923, 1.2923, 1.2923, 1.2921, 1.2921, 1.292, 1.292, 1.2919, 1.2919, 1.2919, 1.2919, 1.2919, 1.2919, 1.2918, 1.2918, 1.2918, 1.2918, 1.2885, 1.2906, 1.2285, 1.1003, 1.0318, 0.9505, 1.0539, 0.9074, 0.986, 0.8268, 0.9973, 0.9906, 1.1697, 0.491, 0.9182, 0.7444, 0.8919, 0.8781, 0.4182, 0.3823, 0.5115, 0.2684, 0.5104, 0.1731, -0.0229, 0.4182, 0.2326, 0.1138, 0.1389, 0.1438, 0.1573, -0.1817]}, \"token.table\": {\"Topic\": [2, 1, 3, 4, 5, 3, 1, 1, 2, 1, 1, 2, 3, 3, 5, 1, 5, 3, 3, 3, 3, 2, 2, 5, 3, 5, 1, 1, 3, 5, 1, 4, 2, 1, 3, 4, 5, 5, 1, 3, 4, 1, 2, 1, 2, 3, 4, 5, 1, 2, 3, 4, 3, 5, 2, 1, 2, 2, 2, 4, 2, 2, 5, 1, 3, 1, 2, 3, 5, 1, 2, 3, 4, 5, 3, 5, 4, 1, 2, 3, 5, 1, 3, 3, 2, 3, 2, 2, 4, 5, 2, 1, 4, 2, 3, 5, 1, 2, 4, 5, 1, 3, 5, 4, 4, 2, 3, 4, 5, 3, 1, 2, 3, 5, 1, 2, 2, 5, 3, 5, 5, 5, 5, 5, 5, 5, 5, 5, 1, 2, 3, 5, 1, 2, 3, 4, 5, 4, 1, 4, 3, 1, 2, 3, 4, 5, 5, 1, 2, 3, 4, 5, 1, 2, 4, 5, 5, 1, 2, 3, 5, 4, 1, 3, 4, 5, 1, 2, 3, 4, 5, 1, 5, 5, 3, 1, 5, 1, 3, 1, 2, 4, 1, 2, 3, 4, 5, 1, 2, 3, 4, 5, 1, 2, 3, 4, 5, 3, 4, 3, 5, 1, 2, 3, 4, 5, 4, 4, 3, 5, 5, 1, 2, 3, 4, 5, 1, 2, 5, 4, 2, 3, 4, 5, 1, 3, 5, 3, 5, 2, 3, 5, 2, 3, 5, 2, 1, 2, 3, 3, 3, 1, 4, 5, 4, 1, 5, 5, 3, 1, 4, 1, 2, 4, 5, 2, 4, 1, 2, 1, 2, 1, 2, 3, 1, 2, 3, 5, 4, 1, 2, 3, 4, 5, 1, 2, 3, 4, 5, 2, 3, 5, 1, 2, 3, 4, 5, 1, 2, 3, 4, 5, 1, 2, 3, 4, 5, 3, 3, 4, 1, 2, 3, 4, 5, 1, 2, 1, 3, 3, 3, 3, 2, 4, 4, 5, 1, 3, 5, 1, 5, 1, 2, 3, 4, 5, 1, 2, 3, 4, 1, 2, 3, 4, 5, 3, 5, 3, 5, 5, 1, 2, 3, 4, 5, 1, 3, 2, 3, 4, 5, 2, 3, 5, 4, 1, 2, 3, 4, 5, 4, 1, 2, 4, 5, 1, 5, 1, 2, 3, 4, 5, 2, 1, 2, 3, 3, 4, 5, 3, 3, 5, 1, 2, 4, 5, 1, 2, 3, 4, 1, 2, 3, 4, 5, 4, 2, 3, 4, 5, 1, 2, 3, 4, 2, 2, 4, 2, 1, 1, 2, 3, 4, 5, 4, 5, 1, 2, 3, 4, 5, 5, 2, 2, 5, 1, 1, 1, 2, 2, 4, 5, 4, 4, 4, 1, 2, 3, 4, 5, 2, 3, 4, 2, 1, 2, 5, 1, 5, 1, 2, 3, 5, 5, 2, 1, 3, 5, 3, 5, 3, 5, 3, 5, 3, 5, 1, 2, 3, 4, 5, 1, 1, 2, 3, 4, 5, 1, 2, 3, 4, 5, 5, 1, 2, 4, 5, 4, 1, 3, 4, 5, 1, 2, 5, 1, 2, 3, 5, 2, 2, 3, 4, 1, 3, 4, 1, 5, 1, 2, 3, 4, 5, 1, 2, 3, 4, 5, 1, 2, 3, 4, 5, 3, 4, 3, 1, 2, 3, 4, 5, 1, 2, 3, 4, 5, 1, 2, 3, 4, 5, 5, 2, 2, 4, 5, 3, 4, 2, 2, 1, 2, 3, 4, 5, 3, 4, 5, 3, 3, 2, 5, 1, 2, 3, 4, 5, 4, 1, 2, 3, 4, 5, 3, 5, 2, 4, 5, 1, 2, 3, 4, 5, 4, 1, 2, 4, 5, 5, 1, 2, 4, 5, 4, 4, 2, 4, 2, 5, 3, 4, 5], \"Freq\": [0.9995200175951526, 0.0010107538706839534, 0.7776066445128548, 0.18901097381789927, 0.03217566488343918, 0.9988970631083142, 0.9983233550487945, 0.0035931326808733045, 0.9961960357721237, 0.9990097200042962, 0.9993165393624482, 0.43005365050602307, 0.5698921770805214, 0.90018456318108, 0.09955958302463558, 0.8592179260229653, 0.14085539770868283, 0.9993026300800021, 0.9982397367334107, 0.9999314381146013, 0.9992973859542931, 0.999760485840055, 0.2607338870874894, 0.7391844383483305, 0.8416638161715366, 0.15826414881449025, 0.9995482446637163, 0.999343055876168, 0.9988823042063496, 0.9994742773317208, 0.3137505434700571, 0.6861865961626794, 0.9989750835987052, 0.0001810021991532673, 0.013213160538188511, 0.5459026326462542, 0.44055935273905256, 0.9997589229329882, 0.1308659757551266, 0.8330063749471525, 0.03616436800727152, 0.25144161937062637, 0.7484773785916319, 4.216165796075702e-05, 0.0755536910656766, 0.2598001363541848, 0.43574073502442384, 0.22885347941098913, 0.5427034417086888, 0.2986721159574268, 0.036350017213423264, 0.12224719164769098, 0.9995313623042618, 0.9994753642631016, 0.999253867349099, 0.9998790762720579, 0.9990280172373981, 0.9993406533024786, 0.8828886673293851, 0.11707824542317072, 0.9992138651352388, 0.9996692278703049, 0.9994062196780781, 0.9986053381935093, 0.9997781853150055, 0.22286433255213528, 0.1289608216453367, 0.6227680843338882, 0.025541754966649212, 0.2036459283298408, 0.14911140317169794, 0.25577653865103783, 0.13537474696057883, 0.2560512717752602, 0.31982788347686764, 0.6801366094134531, 0.9996786012796727, 0.09336127366756235, 0.0060395433100309875, 0.8296822622155069, 0.0709646338928641, 0.04208939401236978, 0.9565771366447678, 0.99804345028778, 0.8807846851428073, 0.1189496932509934, 0.999807047871149, 0.6716455403529048, 0.12793248387674377, 0.20037288607190853, 0.9988454817078367, 0.08344695759977876, 0.9155768992723389, 0.5542925081275571, 0.03174563602378675, 0.4138351976626014, 0.16207926859205887, 0.02785977931164545, 0.06587837317891852, 0.7440562054833928, 0.9998556973606825, 0.9993065689369812, 0.9987914331336968, 0.998757893923768, 0.9995318124320302, 0.1164521936832168, 0.08528525718793256, 0.5581359338904456, 0.24020710052014035, 0.9984670734832198, 0.5174213611110262, 0.05358743340465122, 0.16961972722298693, 0.2592273637977067, 0.8009902410089657, 0.19883678175067154, 0.9998818793929047, 0.9987584313712279, 0.9994284083621313, 0.9999531216118078, 0.9999088673960742, 0.9992057958227462, 0.9993008716362111, 0.9997631881016787, 0.9994028937255276, 0.999909051441088, 0.9998228997949428, 0.9994084131978912, 0.4603930524075286, 0.15960578131391753, 0.10090513154208747, 0.27893520439022906, 0.3954627166322401, 0.2861631163173606, 0.01265754369843675, 0.08980014110377424, 0.21586243442469158, 0.9985033331178873, 0.9990987283082611, 0.9984908759849714, 0.9988317968020799, 0.0590884469359681, 0.15412580914067203, 0.44185486659810175, 0.10275053942711468, 0.2422764059682235, 0.9996299044957131, 0.054261747327620305, 0.0866547803670309, 0.45650941076637735, 0.156224627696398, 0.24629639467096168, 0.9986382968191759, 0.05292375398567264, 0.9331998645828099, 0.013398418730550036, 0.9986397792893879, 0.1173210364664195, 0.5083250988789967, 0.3158948177828931, 0.058462340806746206, 0.9987009252928902, 0.37481145451837594, 0.3641190691543205, 0.00019265559214514313, 0.2608556717645238, 0.15130993260973138, 0.2107853040632587, 0.22241822795637287, 0.043910191596543593, 0.3715162665864276, 0.2898747961844599, 0.7100432415163951, 0.9995570851942068, 0.9991084193124209, 0.0019504694433255209, 0.9979901985015581, 0.9987637210981323, 0.9981889623259362, 0.9991436648514086, 0.9990430289721212, 0.9981415103845784, 0.08849137744789995, 0.13621049881562297, 0.18737059083979402, 0.31338802563537277, 0.27449856482004475, 0.08387544433885284, 0.15074672821825338, 0.14475562505119247, 0.2974406513529067, 0.32316715318793304, 0.06615442247126957, 0.08259255053369319, 0.34345237984704385, 0.09083171007598374, 0.4169818548842174, 0.9989449426601844, 0.9995414115863079, 0.26418265423605397, 0.7357070355759895, 0.060346171864488256, 0.1599734392437419, 0.2133427860339343, 0.16405634009107903, 0.4022779010684028, 0.9987330148197329, 0.99988013100425, 0.3302474630122595, 0.6696525679797983, 0.9997666839129316, 0.6736695497554891, 0.029691213032701724, 0.19620274558096137, 0.09910445431185574, 0.001604930434200093, 0.8361714353138489, 0.09588265155497597, 0.0678649936330674, 0.9980399531651499, 0.03435298784234508, 0.24599501344392832, 0.4502140316222913, 0.26947243227085765, 0.036864631947548236, 0.13820380847281682, 0.8247497365001691, 0.551510529482521, 0.4484798060833143, 0.5004944698193823, 0.04172105866025202, 0.4577712618360648, 0.02659218194893568, 0.6216849548858747, 0.3517372273723763, 0.9989576707027631, 0.13702758280243058, 0.0027134174812362493, 0.860153341551891, 0.9996313187083328, 0.9994873085877463, 0.6065446632902834, 0.1422944438357018, 0.25122559486115703, 0.9994783464036873, 0.9988210857800919, 0.9990803615949725, 0.9995946521555668, 0.9986856332679037, 0.9990052130462865, 0.9994198446080975, 0.07338786365079256, 0.3723367649281611, 0.2658677765000243, 0.28841517470352995, 0.1962978778468199, 0.803241890959401, 0.873483997570452, 0.1265256052327182, 0.9997861789817475, 0.9991695635651618, 0.0016614472625863061, 0.9215494149812045, 0.07698038983316552, 0.5822089876693235, 0.094234165519766, 0.07314679980904913, 0.2504124678147628, 0.9981722230816824, 0.3641283323323242, 0.49011815492294325, 0.0734644881021356, 0.00017745045435298452, 0.0722223349216647, 0.20384573536883466, 0.12707792931967965, 0.1570092684806247, 0.05482587656753377, 0.45724896845869245, 0.0002691507944299583, 0.7919762126101523, 0.2077844132999278, 0.274297752890308, 0.19298734835545342, 0.1925877886280094, 0.01098789250471008, 0.3291373254819974, 0.3346381062130084, 0.02839618394757904, 0.3990756005555916, 0.10455620550954745, 0.13331644309748006, 0.9993426831968805, 0.04639172416180612, 0.1664678894954771, 0.4659214584179359, 0.32120521595639334, 0.9983079032874681, 0.9993916401057725, 0.9992181166238062, 0.33064856799288284, 0.17217203540457804, 0.2874425174415446, 0.023478004827897008, 0.1863566633214325, 0.9988431538860356, 0.9989452486867477, 0.7977103285069048, 0.20191421033279514, 0.9994349429043777, 0.9993741552212416, 0.9992339664584918, 0.0008312045063759462, 0.9991078166638873, 0.8342760090497675, 0.16568698745301907, 0.9990087257898245, 0.7239230407123468, 0.2759572838266753, 0.06193975601849959, 0.937453291486339, 0.2013305178995331, 0.3915646242028122, 0.1711621488722176, 0.061030263779396875, 0.17497654035842988, 0.026322432314420233, 0.19137702838435036, 0.15815035152844287, 0.6241868580788339, 0.2671579939766621, 0.16238871763229284, 0.2337723964832782, 0.00014642805918150842, 0.33649167999910634, 0.6510089785838795, 0.34888843248819984, 0.8271312067986661, 0.17292270850436697, 0.9994222496463292, 0.09884525396150502, 0.09338144595358264, 0.05414137026032185, 0.6593822845924519, 0.09412651068193569, 0.9979783043998285, 0.9988977207433715, 0.006065421135940245, 0.20389563015013412, 0.21218142866619533, 0.5778396742900215, 0.9993498216793615, 0.6675403083999105, 0.3323534727305157, 0.9982643693764052, 0.31560952704039924, 0.398960096765498, 0.08430375286045565, 0.006089781142558039, 0.19503186041775009, 0.998152059986537, 0.6526496888896685, 0.10786879229899218, 0.0006524322114858398, 0.23879018940381738, 0.772381558287256, 0.227358532975891, 0.1361842716570231, 0.7304429116149421, 0.0072825813720333215, 0.008557033112139152, 0.1174316246240373, 0.9994169789365889, 0.9993921781141043, 0.8760327424464698, 0.12364521792260105, 0.5298315198335825, 0.1238101737440369, 0.3463426702366085, 0.9995822640922114, 0.8679631263841238, 0.1319639860431978, 0.04686145075819507, 0.35849900732124895, 0.23920721537215542, 0.35538084995140706, 0.0013982071863213443, 0.09228167429720872, 0.07486763934029744, 0.8314248368843558, 0.9994565875174038, 0.0783401194167656, 0.1813243173201352, 0.5396652471842919, 0.2005587200413871, 0.9990041340939367, 0.00010738218611718352, 0.5724007430976468, 0.1121070023063396, 0.315381480626168, 0.0053049949461716, 0.1401142782841793, 0.1379298686004616, 0.7164863762594114, 0.9986230905525724, 0.9987616772810294, 0.999018917252647, 0.9997310739192357, 0.9997447303935663, 0.002113816292358865, 0.03382106067774184, 0.06069672496630455, 0.6576988406796582, 0.24580663742573086, 0.8866924997923762, 0.11284497890320168, 0.04022378724143543, 0.013363384465593165, 0.453686902606888, 0.40798412773455933, 0.08472385751186066, 0.9991040280139725, 0.9994977295500755, 0.2296595445065318, 0.7701855038668899, 0.9993534598934408, 0.9982676007294343, 0.9987798746722366, 0.9995070121195359, 0.16145022573747148, 0.826194621840554, 0.01205495018839787, 0.9992531914817324, 0.998014174843118, 0.9997977824421146, 0.0010765260745530022, 0.2079351517848145, 0.2520727208414876, 0.16520534759486455, 0.37372016726597684, 0.9673699785046164, 0.03155447273780202, 0.9987459619392948, 0.9996450561111572, 0.5102844719009961, 0.07705150145513617, 0.41239514300830743, 0.9991921498948714, 0.9994137831519588, 0.4735566621190316, 0.2217312668554938, 0.008375252717332993, 0.2962568206961687, 0.9992266061618182, 0.9989881181152465, 0.9995756448139435, 0.7317278230445436, 0.26825188095634467, 0.339369604196379, 0.6605543056335024, 0.31241244830627596, 0.6874328531205165, 0.37252237495947393, 0.6274196399462408, 0.8666298353746691, 0.1330267015925, 0.018846082475090453, 0.3729168569758523, 0.5624377738659807, 0.03003594394467541, 0.01566580605741894, 0.9993901080835689, 0.7842765747432606, 0.001684804671843739, 0.058125761178609, 0.08817144449315568, 0.06739218687374957, 0.03657327887572695, 0.12259775172426779, 0.1829951735296056, 0.3614830767752308, 0.29644960553494165, 0.999752243917166, 0.7116712463219775, 0.006593618712062793, 0.14505961166538145, 0.1367076946301019, 0.999705333483791, 0.6554063402683983, 0.05975993448216027, 0.14607983984528067, 0.13865867151089473, 0.9993919645335186, 0.9983749229630029, 0.9996000543396526, 0.06624250368866626, 0.6762403184046197, 0.07934930923134353, 0.1778274697952431, 0.999168111160154, 0.7769402457740491, 0.22286322978581447, 0.9996444483073574, 0.9990787735062104, 0.09245444883167019, 0.9073671590255719, 0.9917287690681262, 0.00787086324657243, 0.2699533691084947, 0.22941751400109214, 0.18588217701470633, 0.06967367907466863, 0.24501481977180517, 0.12644663030366465, 0.09332389922985575, 0.3050353701079482, 0.1609394013488963, 0.31422269697513605, 0.022841985674779908, 0.2886303043804212, 0.08823679410100374, 0.29278805907627997, 0.307571186883778, 0.9985850510409151, 0.9991183243335983, 0.9989508801208866, 0.06092536464950427, 0.1561702748365512, 0.20637486716575643, 0.15950417354591245, 0.41699882092187524, 0.08480555292359775, 0.5950641738756649, 0.11915536511618104, 0.06399612313058049, 0.13697165774718897, 0.6254273093634503, 0.1085267424119046, 0.06936760855193902, 0.018647206599983607, 0.17752140683184395, 0.9993292674211148, 0.9998664239470787, 0.16102338812446984, 0.8255860153839344, 0.013418615677039154, 0.04024949667551022, 0.9587636515781793, 0.9989347612334738, 0.9992897941435062, 0.10147425934885321, 0.40440782471554915, 0.06317032390863764, 0.10462584897368107, 0.32634537400827435, 0.8808544120718692, 0.11660326937411279, 0.001998913189270505, 0.9988370708375418, 0.9995224954316733, 0.11552401057335765, 0.8842030040037758, 0.1753013651225761, 0.17766346243895345, 0.3559174492070012, 0.09515877760263033, 0.1959697166408779, 0.9989580026822426, 0.2881120249053988, 0.19429403360217018, 0.20266703712708198, 0.030062109041249594, 0.28488387896808337, 0.004307673103494446, 0.995670774838258, 0.048587770911780605, 0.636546517954818, 0.31465253566427154, 0.09686435481620445, 0.067544426788878, 0.45163548394685465, 0.06705576132175589, 0.31692670351019364, 0.9976967938682918, 0.08561663388773205, 0.10812157765250734, 0.018917199106622703, 0.7873468731618483, 0.9996732259485562, 0.00023643418331501325, 0.3594062291036329, 0.28138294860967855, 0.3589596312018157, 0.9978170560634824, 0.9982674022135543, 0.3901148648419349, 0.6099037170764893, 0.9997896014517773, 0.9998328399182868, 0.1534554984968454, 0.6166091130840123, 0.2298553513809586], \"Term\": [\"adapter\", \"amazing\", \"amazing\", \"amazing\", \"amazing\", \"amazing_sound\", \"angle\", \"app\", \"app\", \"arm\", \"attach\", \"audio\", \"audio\", \"audiophile\", \"audiophile\", \"bag\", \"bag\", \"balance\", \"balanced\", \"bass\", \"bass_heavy\", \"battery\", \"battery_life\", \"battery_life\", \"beat\", \"beat\", \"bend\", \"black\", \"blow_away\", \"blue_tooth\", \"bluetooth\", \"bluetooth\", \"bluetooth_headset\", \"break\", \"break\", \"break\", \"break\", \"bud\", \"build_quality\", \"build_quality\", \"build_quality\", \"button\", \"button\", \"buy\", \"buy\", \"buy\", \"buy\", \"buy\", \"cable\", \"cable\", \"cable\", \"cable\", \"can\", \"canal\", \"card\", \"case\", \"cell_phone\", \"channel\", \"charge\", \"charge\", \"charge_cable\", \"charger\", \"child\", \"clamp\", \"clarity\", \"clear\", \"clear\", \"clear\", \"clear\", \"come\", \"come\", \"come\", \"come\", \"come\", \"comfortable\", \"comfortable\", \"company\", \"compare\", \"compare\", \"compare\", \"compare\", \"comparison\", \"comparison\", \"complete\", \"computer\", \"computer\", \"connect\", \"connection\", \"connection\", \"connection\", \"connectivity\", \"contact\", \"contact\", \"control\", \"control\", \"control\", \"cord\", \"cord\", \"cord\", \"cord\", \"cover\", \"crisp\", \"cushion\", \"customer\", \"customer_service\", \"day\", \"day\", \"day\", \"day\", \"deep_bass\", \"design\", \"design\", \"design\", \"design\", \"desk\", \"desk\", \"device\", \"disconnect\", \"distortion\", \"ear\", \"ear_bud\", \"ear_canal\", \"ear_cup\", \"ear_piece\", \"ear_tip\", \"earbud\", \"earphone\", \"earpiece\", \"easily\", \"easily\", \"easily\", \"easily\", \"easy\", \"easy\", \"easy\", \"easy\", \"easy\", \"easy_set\", \"edge\", \"email\", \"equalizer\", \"excellent\", \"excellent\", \"excellent\", \"excellent\", \"excellent\", \"exercise\", \"expect\", \"expect\", \"expect\", \"expect\", \"expect\", \"face\", \"fail\", \"fail\", \"fail\", \"fall_ear\", \"feature\", \"feature\", \"feature\", \"feature\", \"feedback\", \"feel\", \"feel\", \"feel\", \"feel\", \"find\", \"find\", \"find\", \"find\", \"find\", \"fit\", \"fit\", \"fit_ear\", \"fitting\", \"flight\", \"flight\", \"fly\", \"frequency\", \"fully\", \"fully_charge\", \"functionality\", \"get\", \"get\", \"get\", \"get\", \"get\", \"go\", \"go\", \"go\", \"go\", \"go\", \"good\", \"good\", \"good\", \"good\", \"good\", \"good_job\", \"good_product\", \"good_sound\", \"good_sound\", \"great\", \"great\", \"great\", \"great\", \"great\", \"great_customer\", \"great_product\", \"great_sound\", \"great_sound\", \"gym\", \"hand\", \"hand\", \"hand\", \"hand\", \"hand\", \"hang\", \"hang\", \"hang\", \"hanger\", \"happy\", \"happy\", \"happy\", \"happy\", \"head\", \"head\", \"head\", \"headphone\", \"headphone\", \"headset\", \"headset\", \"headset\", \"hear\", \"hear\", \"hear\", \"helpful\", \"high\", \"high\", \"high\", \"high_end\", \"high_volume\", \"hold\", \"hold\", \"hold\", \"holder\", \"hole\", \"hurt\", \"hurt_ear\", \"iem\", \"install\", \"instruction\", \"issue\", \"issue\", \"issue\", \"issue\", \"item\", \"item\", \"key\", \"key\", \"keyboard\", \"lamp\", \"laptop\", \"laptop\", \"laptop\", \"large\", \"large\", \"large\", \"large\", \"last_month\", \"light\", \"light\", \"light\", \"light\", \"light\", \"like\", \"like\", \"like\", \"like\", \"like\", \"listen\", \"listen\", \"listen\", \"little\", \"little\", \"little\", \"little\", \"little\", \"look\", \"look\", \"look\", \"look\", \"look\", \"loop\", \"love\", \"love\", \"love\", \"love\", \"low_end\", \"low_volume\", \"magnet\", \"make\", \"make\", \"make\", \"make\", \"make\", \"make_easy\", \"manual\", \"metal\", \"metal\", \"mid\", \"mid_high\", \"midrange\", \"modem\", \"modem\", \"month\", \"month\", \"mount\", \"music\", \"music\", \"neck\", \"neck\", \"need\", \"need\", \"need\", \"need\", \"need\", \"new\", \"new\", \"new\", \"new\", \"nice\", \"nice\", \"nice\", \"nice\", \"nice\", \"noise_cancel\", \"noise_cancel\", \"noise_cancellation\", \"noise_cancellation\", \"noise_cancelling\", \"order\", \"order\", \"order\", \"order\", \"order\", \"outlet\", \"overall_sound\", \"pair\", \"pair\", \"pair\", \"pair\", \"pair_device\", \"pair_headphone\", \"pair_headphone\", \"perfect_fit\", \"phone\", \"phone\", \"phone\", \"phone\", \"phone\", \"phone_pocket\", \"place\", \"place\", \"place\", \"place\", \"plastic\", \"plastic\", \"plug\", \"plug\", \"plug\", \"plug\", \"plug\", \"port\", \"position\", \"power\", \"power\", \"price\", \"price\", \"price\", \"price_point\", \"price_range\", \"price_range\", \"problem\", \"problem\", \"problem\", \"problem\", \"product\", \"product\", \"product\", \"product\", \"protect\", \"purchase\", \"purchase\", \"purchase\", \"purchase\", \"qc\", \"quality\", \"quality\", \"quality\", \"quality\", \"receive\", \"receive\", \"receive\", \"receive\", \"receiver\", \"recharge\", \"refund\", \"remote\", \"remove\", \"replace\", \"replace\", \"replace\", \"replace\", \"replace\", \"replacement\", \"replacement\", \"review\", \"review\", \"review\", \"review\", \"review\", \"right_ear\", \"roku\", \"run\", \"run\", \"screen\", \"screen_protector\", \"screw\", \"seller\", \"send\", \"send\", \"send\", \"send_new\", \"send_replacement\", \"service\", \"set\", \"set\", \"set\", \"set\", \"set\", \"setup\", \"setup\", \"ship\", \"signal\", \"size\", \"size\", \"size\", \"slide\", \"slip\", \"small\", \"small\", \"small\", \"small\", \"small_ear\", \"software\", \"solution\", \"sound\", \"sound\", \"sound_good\", \"sound_good\", \"sound_great\", \"sound_great\", \"sound_quality\", \"sound_quality\", \"sound_well\", \"sound_well\", \"speaker\", \"speaker\", \"speaker\", \"speaker\", \"speaker\", \"stable\", \"stand\", \"stand\", \"stand\", \"stand\", \"stand\", \"star\", \"star\", \"star\", \"star\", \"star\", \"stay_ear\", \"stick\", \"stick\", \"stick\", \"stick\", \"stop_work\", \"sturdy\", \"sturdy\", \"sturdy\", \"sturdy\", \"surface\", \"surround_sound\", \"sweat\", \"switch\", \"switch\", \"switch\", \"switch\", \"sync\", \"system\", \"system\", \"tablet\", \"talk_phone\", \"thank\", \"thank\", \"thick\", \"thick\", \"thing\", \"thing\", \"thing\", \"thing\", \"thing\", \"think\", \"think\", \"think\", \"think\", \"think\", \"time\", \"time\", \"time\", \"time\", \"time\", \"tone\", \"transmitter\", \"treble\", \"try\", \"try\", \"try\", \"try\", \"try\", \"turn\", \"turn\", \"turn\", \"turn\", \"turn\", \"type\", \"type\", \"type\", \"type\", \"type\", \"uncomfortable\", \"unit\", \"update\", \"update\", \"update\", \"update_review\", \"update_review\", \"usb\", \"usb_port\", \"use\", \"use\", \"use\", \"use\", \"use\", \"value\", \"value\", \"value\", \"vocal\", \"voice\", \"walk\", \"walk\", \"want\", \"want\", \"want\", \"want\", \"want\", \"warranty\", \"way\", \"way\", \"way\", \"way\", \"way\", \"wear\", \"wear\", \"week\", \"week\", \"week\", \"well\", \"well\", \"well\", \"well\", \"well\", \"wing\", \"wire\", \"wire\", \"wire\", \"wire\", \"wireless_headphone\", \"work\", \"work\", \"work\", \"work\", \"work_advertise\", \"work_flawlessly\", \"work_great\", \"work_great\", \"work_perfectly\", \"workout\", \"year\", \"year\", \"year\"]}, \"R\": 30, \"lambda.step\": 0.01, \"plot.opts\": {\"xlab\": \"PC1\", \"ylab\": \"PC2\"}, \"topic.order\": [1, 2, 3, 4, 5]};\n",
       "\n",
       "function LDAvis_load_lib(url, callback){\n",
       "  var s = document.createElement('script');\n",
       "  s.src = url;\n",
       "  s.async = true;\n",
       "  s.onreadystatechange = s.onload = callback;\n",
       "  s.onerror = function(){console.warn(\"failed to load library \" + url);};\n",
       "  document.getElementsByTagName(\"head\")[0].appendChild(s);\n",
       "}\n",
       "\n",
       "if(typeof(LDAvis) !== \"undefined\"){\n",
       "   // already loaded: just create the visualization\n",
       "   !function(LDAvis){\n",
       "       new LDAvis(\"#\" + \"ldavis_el588425421015429442460526040\", ldavis_el588425421015429442460526040_data);\n",
       "   }(LDAvis);\n",
       "}else if(typeof define === \"function\" && define.amd){\n",
       "   // require.js is available: use it to load d3/LDAvis\n",
       "   require.config({paths: {d3: \"https://d3js.org/d3.v5\"}});\n",
       "   require([\"d3\"], function(d3){\n",
       "      window.d3 = d3;\n",
       "      LDAvis_load_lib(\"https://cdn.jsdelivr.net/gh/bmabey/pyLDAvis@3.3.1/pyLDAvis/js/ldavis.v3.0.0.js\", function(){\n",
       "        new LDAvis(\"#\" + \"ldavis_el588425421015429442460526040\", ldavis_el588425421015429442460526040_data);\n",
       "      });\n",
       "    });\n",
       "}else{\n",
       "    // require.js not available: dynamically load d3 & LDAvis\n",
       "    LDAvis_load_lib(\"https://d3js.org/d3.v5.js\", function(){\n",
       "         LDAvis_load_lib(\"https://cdn.jsdelivr.net/gh/bmabey/pyLDAvis@3.3.1/pyLDAvis/js/ldavis.v3.0.0.js\", function(){\n",
       "                 new LDAvis(\"#\" + \"ldavis_el588425421015429442460526040\", ldavis_el588425421015429442460526040_data);\n",
       "            })\n",
       "         });\n",
       "}\n",
       "</script>"
      ],
      "text/plain": [
       "PreparedData(topic_coordinates=              x         y  topics  cluster       Freq\n",
       "topic                                                \n",
       "0      0.273817 -0.019598       1        1  15.700727\n",
       "1      0.041877 -0.195788       2        1  18.320153\n",
       "2     -0.052168  0.197821       3        1  24.093313\n",
       "3     -0.233112 -0.120472       4        1  14.438381\n",
       "4     -0.030414  0.138036       5        1  27.447426, topic_info=          Term          Freq         Total Category  logprob  loglift\n",
       "33   headphone  85595.000000  85595.000000  Default  30.0000  30.0000\n",
       "5        sound  42079.000000  42079.000000  Default  29.0000  29.0000\n",
       "25         ear  23323.000000  23323.000000  Default  28.0000  28.0000\n",
       "254       work  38065.000000  38065.000000  Default  27.0000  27.0000\n",
       "629    product  15734.000000  15734.000000  Default  26.0000  26.0000\n",
       "..         ...           ...           ...      ...      ...      ...\n",
       "187       time   5991.960120  19481.668815   Topic5  -5.1646   0.1138\n",
       "55     quality   5873.980746  18625.063172   Topic5  -5.1844   0.1389\n",
       "8         well   5836.951825  18417.507693   Topic5  -5.1908   0.1438\n",
       "86        love   5449.160878  16964.232613   Topic5  -5.2595   0.1573\n",
       "16         buy   5428.417632  23718.232355   Topic5  -5.2633  -0.1817\n",
       "\n",
       "[358 rows x 6 columns], token_table=      Topic      Freq            Term\n",
       "term                                 \n",
       "2045      2  0.999520         adapter\n",
       "12        1  0.001011         amazing\n",
       "12        3  0.777607         amazing\n",
       "12        4  0.189011         amazing\n",
       "12        5  0.032176         amazing\n",
       "...     ...       ...             ...\n",
       "2084      2  0.999790  work_perfectly\n",
       "2574      5  0.999833         workout\n",
       "68        3  0.153455            year\n",
       "68        4  0.616609            year\n",
       "68        5  0.229855            year\n",
       "\n",
       "[602 rows x 3 columns], R=30, lambda_step=0.01, plot_opts={'xlab': 'PC1', 'ylab': 'PC2'}, topic_order=[1, 2, 3, 4, 5])"
      ]
     },
     "execution_count": 114,
     "metadata": {},
     "output_type": "execute_result"
    }
   ],
   "source": [
    "pyLDAvis.enable_notebook()\n",
    "vis = pyLDAvis.gensim_models.prepare(lda_5_model, corpus, id2word, sort_topics = False)\n",
    "vis"
   ]
  },
  {
   "cell_type": "code",
   "execution_count": 115,
   "metadata": {},
   "outputs": [],
   "source": [
    "#pyLDAvis.save_html(vis, 'pyldavis_output.html')"
   ]
  },
  {
   "cell_type": "code",
   "execution_count": 117,
   "metadata": {},
   "outputs": [],
   "source": [
    "#lda_5_model.save('lda_model')"
   ]
  },
  {
   "cell_type": "markdown",
   "metadata": {},
   "source": [
    "From examining the keywords from each topic from visualization, I came to the below conclusions for topic labels.\n",
    "\n",
    "* Topic 1: Design\n",
    "* Topic 2: Battery / Connectivity\n",
    "* Topic 3: Sound Quality\n",
    "* Topic 4: Customer Service\n",
    "* Topic 5: Comfort\n",
    "\n",
    "These results are much better compared to model with 8 topics. Topic clusters are more spread out in different quadrants. There is some overlap with topics 3 and 5, which may be due to common words describing sound quality and comfort."
   ]
  },
  {
   "cell_type": "code",
   "execution_count": 117,
   "metadata": {},
   "outputs": [],
   "source": [
    "# Adding dominant topic to the data\n",
    "dominant_topics = []\n",
    "# loop through results of LDA model to retrieve topic with the highest contribution of the document\n",
    "for i in range(len(corpus)):\n",
    "    topic_weights = lda_5_model[corpus[i]]\n",
    "    dominant_topic = max(topic_weights, key=lambda x: x[1])\n",
    "    dominant_topics.append(dominant_topic[0])    \n",
    "data_df['dominant_topic'] = dominant_topics"
   ]
  },
  {
   "cell_type": "code",
   "execution_count": 119,
   "metadata": {},
   "outputs": [
    {
     "data": {
      "text/html": [
       "<div>\n",
       "<style scoped>\n",
       "    .dataframe tbody tr th:only-of-type {\n",
       "        vertical-align: middle;\n",
       "    }\n",
       "\n",
       "    .dataframe tbody tr th {\n",
       "        vertical-align: top;\n",
       "    }\n",
       "\n",
       "    .dataframe thead th {\n",
       "        text-align: right;\n",
       "    }\n",
       "</style>\n",
       "<table border=\"1\" class=\"dataframe\">\n",
       "  <thead>\n",
       "    <tr style=\"text-align: right;\">\n",
       "      <th></th>\n",
       "      <th>reviews</th>\n",
       "      <th>sentiment</th>\n",
       "      <th>word_count</th>\n",
       "      <th>review_len</th>\n",
       "      <th>cleaned_text</th>\n",
       "      <th>cleaned_word_count</th>\n",
       "      <th>cleaned_review_len</th>\n",
       "      <th>dominant_topic</th>\n",
       "    </tr>\n",
       "  </thead>\n",
       "  <tbody>\n",
       "    <tr>\n",
       "      <th>0</th>\n",
       "      <td>Get the SportaPros instead.  They look better,...</td>\n",
       "      <td>1</td>\n",
       "      <td>31</td>\n",
       "      <td>127</td>\n",
       "      <td>[instead, look, well, wear, street, configurat...</td>\n",
       "      <td>10</td>\n",
       "      <td>61</td>\n",
       "      <td>4</td>\n",
       "    </tr>\n",
       "    <tr>\n",
       "      <th>1</th>\n",
       "      <td>I've been looking for a lighter alternative to...</td>\n",
       "      <td>1</td>\n",
       "      <td>263</td>\n",
       "      <td>1097</td>\n",
       "      <td>[look, light, alternative, absolutely, perfect...</td>\n",
       "      <td>92</td>\n",
       "      <td>563</td>\n",
       "      <td>2</td>\n",
       "    </tr>\n",
       "    <tr>\n",
       "      <th>2</th>\n",
       "      <td>The finest headphones available. You can spend...</td>\n",
       "      <td>1</td>\n",
       "      <td>119</td>\n",
       "      <td>512</td>\n",
       "      <td>[fine, headphone, available, spend, vast, amou...</td>\n",
       "      <td>48</td>\n",
       "      <td>287</td>\n",
       "      <td>2</td>\n",
       "    </tr>\n",
       "    <tr>\n",
       "      <th>3</th>\n",
       "      <td>3rd pair of these I've purchased.  My wife has...</td>\n",
       "      <td>1</td>\n",
       "      <td>108</td>\n",
       "      <td>419</td>\n",
       "      <td>[pair, purchase, wife, pair, pair, glove, box,...</td>\n",
       "      <td>36</td>\n",
       "      <td>195</td>\n",
       "      <td>3</td>\n",
       "    </tr>\n",
       "    <tr>\n",
       "      <th>4</th>\n",
       "      <td>My old Koss Porta Pros finally got beat to dea...</td>\n",
       "      <td>1</td>\n",
       "      <td>170</td>\n",
       "      <td>713</td>\n",
       "      <td>[old, finally, get, beat, death, year, ago, la...</td>\n",
       "      <td>65</td>\n",
       "      <td>367</td>\n",
       "      <td>4</td>\n",
       "    </tr>\n",
       "  </tbody>\n",
       "</table>\n",
       "</div>"
      ],
      "text/plain": [
       "                                             reviews  sentiment  word_count  \\\n",
       "0  Get the SportaPros instead.  They look better,...          1          31   \n",
       "1  I've been looking for a lighter alternative to...          1         263   \n",
       "2  The finest headphones available. You can spend...          1         119   \n",
       "3  3rd pair of these I've purchased.  My wife has...          1         108   \n",
       "4  My old Koss Porta Pros finally got beat to dea...          1         170   \n",
       "\n",
       "   review_len                                       cleaned_text  \\\n",
       "0         127  [instead, look, well, wear, street, configurat...   \n",
       "1        1097  [look, light, alternative, absolutely, perfect...   \n",
       "2         512  [fine, headphone, available, spend, vast, amou...   \n",
       "3         419  [pair, purchase, wife, pair, pair, glove, box,...   \n",
       "4         713  [old, finally, get, beat, death, year, ago, la...   \n",
       "\n",
       "   cleaned_word_count  cleaned_review_len  dominant_topic  \n",
       "0                  10                  61               4  \n",
       "1                  92                 563               2  \n",
       "2                  48                 287               2  \n",
       "3                  36                 195               3  \n",
       "4                  65                 367               4  "
      ]
     },
     "execution_count": 119,
     "metadata": {},
     "output_type": "execute_result"
    }
   ],
   "source": [
    "data_df.head()"
   ]
  },
  {
   "cell_type": "code",
   "execution_count": 15,
   "metadata": {},
   "outputs": [],
   "source": [
    "# Applying label names previously discovered\n",
    "new_labels = {0:'Design', 1:'Battery / Connectivity', 2:'Sound Quality', 3:'Customer Service', 4:'Comfort'}\n",
    "data_df.replace({'dominant_topic':new_labels}, inplace = True)"
   ]
  },
  {
   "cell_type": "code",
   "execution_count": 16,
   "metadata": {},
   "outputs": [
    {
     "data": {
      "text/plain": [
       "Comfort                   0.340235\n",
       "Sound Quality             0.258810\n",
       "Battery / Connectivity    0.177250\n",
       "Customer Service          0.117944\n",
       "Design                    0.105761\n",
       "Name: dominant_topic, dtype: float64"
      ]
     },
     "execution_count": 16,
     "metadata": {},
     "output_type": "execute_result"
    }
   ],
   "source": [
    "data_df.dominant_topic.value_counts(normalize = True)"
   ]
  },
  {
   "cell_type": "markdown",
   "metadata": {},
   "source": [
    "Most talked about topic is Comfort with 34% of reviews belonging to this topic. Least talked about is Design at around 10% of reviews making up this topic. "
   ]
  },
  {
   "cell_type": "code",
   "execution_count": 137,
   "metadata": {},
   "outputs": [],
   "source": [
    "# Creating function to inspect the sentiment of topics found.\n",
    "def plot_features(feature, order = None, data = data_df, fname = False):\n",
    "    if order != None:\n",
    "        data[feature] = pd.Categorical(data[feature], categories = order, ordered = True)\n",
    "        df_grouped = data.groupby(feature)['sentiment'].value_counts(normalize = True).unstack('sentiment')\n",
    "    else:\n",
    "        df_grouped = data.groupby(feature)['sentiment'].value_counts(normalize=True).unstack('sentiment').sort_values('Positive')\n",
    "\n",
    "    fig, ax = plt.subplots()    \n",
    "    \n",
    "    df_grouped.index.name = None\n",
    "    df_grouped.columns.name = None\n",
    "    df_swap = df_grouped[['Positive', 'Negative']]\n",
    "    \n",
    "    df_swap.plot.barh(figsize = (15,10), stacked = True, ax = ax);\n",
    "    \n",
    "    for rect in ax.patches:\n",
    "        # find where each bar is located\n",
    "        height = rect.get_height()\n",
    "        width = rect.get_width()\n",
    "        x = rect.get_x()\n",
    "        y = rect.get_y()\n",
    "    \n",
    "        # The height of the bar is the data value and can be used as the label\n",
    "        label_text = f'{(width*100):.1f}%'  # format text to show only 1 decimal place in percentage\n",
    "    \n",
    "        # ax.text(x, y, text)\n",
    "        label_x = x + width / 2\n",
    "        label_y = y + height / 2\n",
    "    \n",
    "        # only plot labels greater than given width\n",
    "        if width > 0.05:\n",
    "            ax.text(label_x, label_y, label_text, ha='center', va='center',\\\n",
    "                    fontsize=15)\n",
    "\n",
    "    # move the legend\n",
    "    ax.legend(bbox_to_anchor=(0.5, 1),\n",
    "            loc=\"lower center\",\n",
    "            borderaxespad=0,\n",
    "            frameon=False,\n",
    "            ncol=2)\n",
    "\n",
    "    ax.xaxis.set_ticklabels([])\n",
    "    \n",
    "    # save file to images folder if specified\n",
    "    if fname:\n",
    "        fig.savefig(('images/' + fname), dpi=200, bbox_inches = 'tight')"
   ]
  },
  {
   "cell_type": "code",
   "execution_count": 96,
   "metadata": {},
   "outputs": [
    {
     "data": {
      "image/png": "[encoded data removed]",
      "text/plain": [
       "<Figure size 1080x720 with 1 Axes>"
      ]
     },
     "metadata": {
      "needs_background": "light"
     },
     "output_type": "display_data"
    }
   ],
   "source": [
    "plot_features('dominant_topic')"
   ]
  },
  {
   "cell_type": "markdown",
   "metadata": {},
   "source": [
    "Topic with this most positive sentiment was found to be Sound Quality. The topic with the least positive sentiment is Comfort."
   ]
  },
  {
   "cell_type": "code",
   "execution_count": 124,
   "metadata": {},
   "outputs": [],
   "source": [
    "data_df.drop(columns = ['word_count', 'review_len', 'cleaned_word_count', 'cleaned_review_len'], inplace = True)"
   ]
  },
  {
   "cell_type": "code",
   "execution_count": 4,
   "metadata": {},
   "outputs": [
    {
     "data": {
      "text/html": [
       "<div>\n",
       "<style scoped>\n",
       "    .dataframe tbody tr th:only-of-type {\n",
       "        vertical-align: middle;\n",
       "    }\n",
       "\n",
       "    .dataframe tbody tr th {\n",
       "        vertical-align: top;\n",
       "    }\n",
       "\n",
       "    .dataframe thead th {\n",
       "        text-align: right;\n",
       "    }\n",
       "</style>\n",
       "<table border=\"1\" class=\"dataframe\">\n",
       "  <thead>\n",
       "    <tr style=\"text-align: right;\">\n",
       "      <th></th>\n",
       "      <th>reviews</th>\n",
       "      <th>sentiment</th>\n",
       "      <th>cleaned_text</th>\n",
       "      <th>dominant_topic</th>\n",
       "    </tr>\n",
       "  </thead>\n",
       "  <tbody>\n",
       "    <tr>\n",
       "      <th>0</th>\n",
       "      <td>Get the SportaPros instead.  They look better,...</td>\n",
       "      <td>1</td>\n",
       "      <td>[instead, look, well, wear, street, configurat...</td>\n",
       "      <td>4</td>\n",
       "    </tr>\n",
       "    <tr>\n",
       "      <th>1</th>\n",
       "      <td>I've been looking for a lighter alternative to...</td>\n",
       "      <td>1</td>\n",
       "      <td>[look, light, alternative, absolutely, perfect...</td>\n",
       "      <td>2</td>\n",
       "    </tr>\n",
       "    <tr>\n",
       "      <th>2</th>\n",
       "      <td>The finest headphones available. You can spend...</td>\n",
       "      <td>1</td>\n",
       "      <td>[fine, headphone, available, spend, vast, amou...</td>\n",
       "      <td>2</td>\n",
       "    </tr>\n",
       "    <tr>\n",
       "      <th>3</th>\n",
       "      <td>3rd pair of these I've purchased.  My wife has...</td>\n",
       "      <td>1</td>\n",
       "      <td>[pair, purchase, wife, pair, pair, glove, box,...</td>\n",
       "      <td>3</td>\n",
       "    </tr>\n",
       "    <tr>\n",
       "      <th>4</th>\n",
       "      <td>My old Koss Porta Pros finally got beat to dea...</td>\n",
       "      <td>1</td>\n",
       "      <td>[old, finally, get, beat, death, year, ago, la...</td>\n",
       "      <td>4</td>\n",
       "    </tr>\n",
       "  </tbody>\n",
       "</table>\n",
       "</div>"
      ],
      "text/plain": [
       "                                             reviews  sentiment  \\\n",
       "0  Get the SportaPros instead.  They look better,...          1   \n",
       "1  I've been looking for a lighter alternative to...          1   \n",
       "2  The finest headphones available. You can spend...          1   \n",
       "3  3rd pair of these I've purchased.  My wife has...          1   \n",
       "4  My old Koss Porta Pros finally got beat to dea...          1   \n",
       "\n",
       "                                        cleaned_text  dominant_topic  \n",
       "0  [instead, look, well, wear, street, configurat...               4  \n",
       "1  [look, light, alternative, absolutely, perfect...               2  \n",
       "2  [fine, headphone, available, spend, vast, amou...               2  \n",
       "3  [pair, purchase, wife, pair, pair, glove, box,...               3  \n",
       "4  [old, finally, get, beat, death, year, ago, la...               4  "
      ]
     },
     "execution_count": 4,
     "metadata": {},
     "output_type": "execute_result"
    }
   ],
   "source": [
    "data_df.head()"
   ]
  },
  {
   "cell_type": "code",
   "execution_count": 126,
   "metadata": {},
   "outputs": [],
   "source": [
    "data_df.to_csv('data/processed_reviews.csv', index = False)"
   ]
  },
  {
   "cell_type": "code",
   "execution_count": 33,
   "metadata": {},
   "outputs": [],
   "source": [
    "data_df = pd.read_csv('data/processed_reviews.csv', converters = {'cleaned_text': literal_eval})"
   ]
  },
  {
   "cell_type": "code",
   "execution_count": null,
   "metadata": {},
   "outputs": [],
   "source": []
  }
 ],
 "metadata": {
  "kernelspec": {
   "display_name": "Python (learn-env)",
   "language": "python",
   "name": "learn-env"
  },
  "language_info": {
   "codemirror_mode": {
    "name": "ipython",
    "version": 3
   },
   "file_extension": ".py",
   "mimetype": "text/x-python",
   "name": "python",
   "nbconvert_exporter": "python",
   "pygments_lexer": "ipython3",
   "version": "3.8.5"
  }
 },
 "nbformat": 4,
 "nbformat_minor": 4
}
